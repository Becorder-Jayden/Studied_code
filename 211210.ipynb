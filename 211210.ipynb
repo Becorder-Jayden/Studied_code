{
 "cells": [
  {
   "cell_type": "markdown",
   "id": "051b4491-3a8f-4557-9a3c-259174126cbf",
   "metadata": {},
   "source": [
    "# 2021.12.10"
   ]
  },
  {
   "cell_type": "code",
   "execution_count": 1,
   "id": "2bfcbbf6-f3d0-4759-a9d9-005889b8d9d8",
   "metadata": {},
   "outputs": [],
   "source": [
    "# Silver II\n",
    "# 1541 잃어버린 괄호"
   ]
  },
  {
   "cell_type": "code",
   "execution_count": 78,
   "id": "b231e3de-9ad1-4a37-a1b9-9575d2cde9ba",
   "metadata": {},
   "outputs": [
    {
     "name": "stdin",
     "output_type": "stream",
     "text": [
      " 55-50+40\n"
     ]
    },
    {
     "name": "stdout",
     "output_type": "stream",
     "text": [
      "-35\n"
     ]
    }
   ],
   "source": [
    "a = input().split('-')\n",
    "li = []\n",
    "\n",
    "for i in a:\n",
    "    cnt = 0\n",
    "    i = i.split('+')\n",
    "    for j in i:\n",
    "        cnt += int(j)\n",
    "    li.append(cnt)\n",
    "\n",
    "n = li[0]\n",
    "for i in range(1, len(li)):\n",
    "    n -= li[i]\n",
    "print(n)"
   ]
  },
  {
   "cell_type": "code",
   "execution_count": null,
   "id": "9dcf3a6c-635d-4324-84d2-13c4530d8f23",
   "metadata": {},
   "outputs": [],
   "source": []
  },
  {
   "cell_type": "code",
   "execution_count": null,
   "id": "67e9d900-53a8-436c-af85-70d34bb0b9f1",
   "metadata": {},
   "outputs": [],
   "source": []
  }
 ],
 "metadata": {
  "kernelspec": {
   "display_name": "Python 3 (ipykernel)",
   "language": "python",
   "name": "python3"
  },
  "language_info": {
   "codemirror_mode": {
    "name": "ipython",
    "version": 3
   },
   "file_extension": ".py",
   "mimetype": "text/x-python",
   "name": "python",
   "nbconvert_exporter": "python",
   "pygments_lexer": "ipython3",
   "version": "3.8.12"
  }
 },
 "nbformat": 4,
 "nbformat_minor": 5
}
