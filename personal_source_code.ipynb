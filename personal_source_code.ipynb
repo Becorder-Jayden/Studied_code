{
 "cells": [
  {
   "cell_type": "markdown",
   "id": "b5265e11-c1bf-4f63-bdb0-f26707d4193c",
   "metadata": {},
   "source": [
    "---"
   ]
  },
  {
   "cell_type": "markdown",
   "id": "bc4e5feb-eb56-4f6d-8585-a2f341013eb4",
   "metadata": {},
   "source": [
    "# 투 포인터"
   ]
  },
  {
   "cell_type": "code",
   "execution_count": 1,
   "id": "a2c70968-48de-4f0d-aec0-a7058b6a345b",
   "metadata": {},
   "outputs": [
    {
     "name": "stdout",
     "output_type": "stream",
     "text": [
      "3\n"
     ]
    }
   ],
   "source": [
    "# 예제\n",
    "\n",
    "n = 9\n",
    "arr = [5, 12, 7, 10, 9, 1, 2, 3, 11]\n",
    "x = 13\n",
    "arr.sort()\n",
    "\n",
    "start, end = 0, n-1\n",
    "cnt = 0\n",
    "\n",
    "while start < end:\n",
    "    temp = arr[start] + arr[end]\n",
    "    if temp == x:\n",
    "        cnt += 1\n",
    "        start += 1\n",
    "    elif temp > x:\n",
    "        end -= 1\n",
    "    else:\n",
    "        start += 1\n",
    "\n",
    "print(cnt)"
   ]
  },
  {
   "cell_type": "markdown",
   "id": "dfb3ba21-01cb-4029-a92e-d382eb9fe6ae",
   "metadata": {},
   "source": [
    "---"
   ]
  },
  {
   "cell_type": "markdown",
   "id": "cbd55bbd-8f43-4b14-b520-79d13150c8c8",
   "metadata": {
    "tags": []
   },
   "source": [
    "# 이진 탐색"
   ]
  },
  {
   "cell_type": "markdown",
   "id": "f582a8d2-81f6-4ebd-918a-ad9bbdb9b11c",
   "metadata": {
    "tags": []
   },
   "source": [
    "### 재귀문 사용"
   ]
  },
  {
   "cell_type": "code",
   "execution_count": null,
   "id": "1be742c5-edb3-4849-abe5-4343a89bb7f1",
   "metadata": {},
   "outputs": [],
   "source": [
    "def binary_search(array,"
   ]
  },
  {
   "cell_type": "code",
   "execution_count": null,
   "id": "99dff9b7-bce1-4443-9874-fd408e601520",
   "metadata": {},
   "outputs": [],
   "source": []
  },
  {
   "cell_type": "markdown",
   "id": "7e40e9be-04ac-48f1-8057-37c9d6ccfd85",
   "metadata": {},
   "source": [
    "# DFS/BFS"
   ]
  },
  {
   "cell_type": "markdown",
   "id": "ca3767d1-c316-4779-a130-882324a3b4b7",
   "metadata": {},
   "source": [
    "## DFS"
   ]
  },
  {
   "cell_type": "code",
   "execution_count": null,
   "id": "64483f56-10ca-4b5f-82f6-7bececd6bf30",
   "metadata": {},
   "outputs": [],
   "source": [
    "# DFS (Depth Fist Search)\n",
    "\n",
    "def dfs(graph, v, visited):\n",
    "    visited[v] = True\n",
    "    print(v, end = ' ')\n",
    "    for i in graph[v]:\n",
    "        if not visited[i]:\n",
    "            dfs(graph, i, visited)\n",
    "\n",
    "graph = [[] for i in range(nodes)]\n",
    "visited = [False] * nodes"
   ]
  },
  {
   "cell_type": "markdown",
   "id": "c93f92aa-b2db-4175-aae7-78cf80b97893",
   "metadata": {},
   "source": [
    "## BFS"
   ]
  },
  {
   "cell_type": "code",
   "execution_count": null,
   "id": "b2edfc0d-9384-4d8d-b136-286925c72057",
   "metadata": {},
   "outputs": [],
   "source": [
    "# BFS (Breadth First Search)\n",
    "\n",
    "from collections import deque    # 큐 탐색속도 향상을 위해 deque 사용 (시간복잡도 개선 : O(N) → O(1))\n",
    "\n",
    "def bfs(graph, start, visited):\n",
    "    visited[start] = True\n",
    "    queue = deque([start])\n",
    "    while queue:   \n",
    "        v = queue.popleft()\n",
    "        print(v, end = ' ')\n",
    "        for i in graph[v]:\n",
    "            if not visited[i]:\n",
    "                queue.append(i)\n",
    "                visited[i] = True\n",
    "\n",
    "graph = [[] for i in nodes]\n",
    "visited = [False] * nodes"
   ]
  },
  {
   "cell_type": "markdown",
   "id": "a3ab62fc-5d92-4ec7-8e8f-e3b17569c549",
   "metadata": {},
   "source": [
    "### 소스코드 예제"
   ]
  },
  {
   "cell_type": "markdown",
   "id": "32fb1cbf-f4c3-4aee-956e-ab35bd06b362",
   "metadata": {},
   "source": [
    "---"
   ]
  },
  {
   "cell_type": "markdown",
   "id": "1a578a92-6cf4-4a40-8afd-bd48f928ee9d",
   "metadata": {
    "tags": []
   },
   "source": [
    "## # 소수"
   ]
  },
  {
   "cell_type": "markdown",
   "id": "fcb068e9-be2a-4d86-9c84-cde3a498b38c",
   "metadata": {
    "tags": []
   },
   "source": [
    "### 소수 여부 판별"
   ]
  },
  {
   "cell_type": "code",
   "execution_count": 1,
   "id": "7d6e2b76-3dc7-45cc-a9b1-dc64d42e99d9",
   "metadata": {},
   "outputs": [
    {
     "name": "stdin",
     "output_type": "stream",
     "text": [
      " 5\n"
     ]
    },
    {
     "name": "stdout",
     "output_type": "stream",
     "text": [
      "소수\n"
     ]
    }
   ],
   "source": [
    "# chapter 1\n",
    "# n이 소수인지 아닌지 판별_약수의 개수를 check 하여 판별\n",
    "\n",
    "n = int(input())\n",
    "check = 0\n",
    "\n",
    "for i in range(1, n+1):          # n+1 : n까지 포함하기 위해 ; range 범위의 특성\n",
    "    if n%i == 0:\n",
    "        check += 1\n",
    "\n",
    "if check == 2:\n",
    "    print('소수')\n",
    "else:\n",
    "    print('소수가 아닌 수')\n",
    "    \n",
    "# time(n=5일 때) :  0.7030019760131836"
   ]
  },
  {
   "cell_type": "code",
   "execution_count": 13,
   "id": "cf0e7066-ab71-4075-823f-5909f217a8bd",
   "metadata": {},
   "outputs": [
    {
     "name": "stdin",
     "output_type": "stream",
     "text": [
      " 97\n"
     ]
    },
    {
     "name": "stdout",
     "output_type": "stream",
     "text": [
      "True\n"
     ]
    }
   ],
   "source": [
    "# ch. 2\n",
    "# ch. 1에서 효율성을 향상시키기 위함\n",
    "# range의 범위를 변경\n",
    "\n",
    "n = int(input())\n",
    "check = True\n",
    "\n",
    "for i in range(2, n):         # 1부터 n까지(n-1 x) 체크했을 때 약수가 없는 수\n",
    "    if n%i == 0:\n",
    "        check = False\n",
    "print(check)\n",
    "\n",
    "# 코드가 짧아지고, 메모리가 줄어들게 됨\n",
    "# 단, n은 1보다 큰 수가 되어야 함\n",
    "\n",
    "# time(n=5일 때) :  0.40419912338256836"
   ]
  },
  {
   "cell_type": "code",
   "execution_count": 3,
   "id": "899cb5d6-4f4e-4db6-b8ee-1a26eab3b2b9",
   "metadata": {},
   "outputs": [
    {
     "name": "stdin",
     "output_type": "stream",
     "text": [
      " 5\n"
     ]
    },
    {
     "name": "stdout",
     "output_type": "stream",
     "text": [
      "[2, 3, 5]\n"
     ]
    }
   ],
   "source": [
    "# ch. 3\n",
    "# 범위내의 소수 구하기_1~a 사이 모든 소수값 구하기(a>0)\n",
    "\n",
    "a = int(input())\n",
    "li = []\n",
    "\n",
    "for n in range(2, a+1):\n",
    "    check = True\n",
    "    for i in range(2, n):\n",
    "        if n%i == 0:\n",
    "            check = False\n",
    "    if check:                  # if check==True:와 동일\n",
    "        li.append(n)\n",
    "\n",
    "print(li)\n",
    "\n",
    "# time(n=5일 때) :  0.4038875102996826"
   ]
  },
  {
   "cell_type": "code",
   "execution_count": 1,
   "id": "08bd1240-7b53-496f-bc29-a4202813db70",
   "metadata": {},
   "outputs": [
    {
     "name": "stdin",
     "output_type": "stream",
     "text": [
      " 1000\n"
     ]
    },
    {
     "name": "stdout",
     "output_type": "stream",
     "text": [
      "[2, 3, 5, 7, 11, 13, 17, 19, 23, 29, 31, 37, 41, 43, 47, 53, 59, 61, 67, 71, 73, 79, 83, 89, 97, 101, 103, 107, 109, 113, 127, 131, 137, 139, 149, 151, 157, 163, 167, 173, 179, 181, 191, 193, 197, 199, 211, 223, 227, 229, 233, 239, 241, 251, 257, 263, 269, 271, 277, 281, 283, 293, 307, 311, 313, 317, 331, 337, 347, 349, 353, 359, 367, 373, 379, 383, 389, 397, 401, 409, 419, 421, 431, 433, 439, 443, 449, 457, 461, 463, 467, 479, 487, 491, 499, 503, 509, 521, 523, 541, 547, 557, 563, 569, 571, 577, 587, 593, 599, 601, 607, 613, 617, 619, 631, 641, 643, 647, 653, 659, 661, 673, 677, 683, 691, 701, 709, 719, 727, 733, 739, 743, 751, 757, 761, 769, 773, 787, 797, 809, 811, 821, 823, 827, 829, 839, 853, 857, 859, 863, 877, 881, 883, 887, 907, 911, 919, 929, 937, 941, 947, 953, 967, 971, 977, 983, 991, 997]\n"
     ]
    }
   ],
   "source": [
    "# ch.4\n",
    "# ch.3에서 효율성 향상_'에라토스테네스의 체' 적용\n",
    "\n",
    "a = int(input())\n",
    "li = []\n",
    "\n",
    "for n in range(2,a+1):\n",
    "    check = True\n",
    "    for i in range(2, int(n**0.5)+1):\n",
    "        if n%i == 0:\n",
    "            check = False\n",
    "    if check:\n",
    "        li.append(n)\n",
    "\n",
    "print(li)\n",
    "\n",
    "# time(n=5일 때) :  0.31794142723083496"
   ]
  },
  {
   "cell_type": "markdown",
   "id": "af28bed7-757c-4e25-b9bc-bcc8a551167a",
   "metadata": {},
   "source": [
    "---"
   ]
  },
  {
   "cell_type": "markdown",
   "id": "ecbc37f7-1a61-4e61-bcf9-a2d3599c6a3e",
   "metadata": {},
   "source": [
    "### 수행 시간 측정"
   ]
  },
  {
   "cell_type": "code",
   "execution_count": 1,
   "id": "7c30f774-b1b5-474e-8275-38bd8203c750",
   "metadata": {},
   "outputs": [
    {
     "name": "stdout",
     "output_type": "stream",
     "text": [
      "time :  0.0\n"
     ]
    }
   ],
   "source": [
    "import time\n",
    "start_time = time.time() # 측정 시작\n",
    "\n",
    "# 프로그램 소스 코드\n",
    "\n",
    "end_time = time.time() # 측정 종료\n",
    "print(\"time : \", end_time - start_time) # 수행 시간 출력"
   ]
  },
  {
   "cell_type": "markdown",
   "id": "cca974f8-2bf0-4d0d-92aa-5abd8b510623",
   "metadata": {},
   "source": [
    "---"
   ]
  },
  {
   "cell_type": "markdown",
   "id": "c32773af-3d36-4e13-8904-67f8aa52374c",
   "metadata": {
    "tags": []
   },
   "source": [
    "### 행렬 만들기"
   ]
  },
  {
   "cell_type": "code",
   "execution_count": 2,
   "id": "1179af3c-3b64-40bb-a276-4e522444a693",
   "metadata": {},
   "outputs": [
    {
     "name": "stdin",
     "output_type": "stream",
     "text": [
      " 5\n"
     ]
    },
    {
     "name": "stdout",
     "output_type": "stream",
     "text": [
      "[[0, 0, 0, 0, 0], [0, 0, 0, 0, 0], [0, 0, 0, 0, 0], [0, 0, 0, 0, 0], [0, 0, 0, 0, 0]]\n"
     ]
    }
   ],
   "source": [
    "# NxN 영행렬_1\n",
    "N = int(input())\n",
    "mat = [[0]*N for i in range(N)]\n",
    "print(mat)"
   ]
  },
  {
   "cell_type": "code",
   "execution_count": 5,
   "id": "c4c44220-6a5f-4f4d-9904-b09dfcabacc0",
   "metadata": {},
   "outputs": [
    {
     "name": "stdin",
     "output_type": "stream",
     "text": [
      " 5\n"
     ]
    },
    {
     "name": "stdout",
     "output_type": "stream",
     "text": [
      "[[0, 0, 0, 0, 0], [0, 0, 0, 0, 0], [0, 0, 0, 0, 0], [0, 0, 0, 0, 0], [0, 0, 0, 0, 0]]\n"
     ]
    }
   ],
   "source": [
    "# NxN 영행렬_2\n",
    "N = int(input())\n",
    "stars = [[0 for _ in range(N)] for _ in range(N)]\n",
    "print(stars)"
   ]
  },
  {
   "cell_type": "markdown",
   "id": "671b737c-0dd3-44d6-a252-29c6ac99c3d1",
   "metadata": {},
   "source": [
    "---"
   ]
  },
  {
   "cell_type": "code",
   "execution_count": null,
   "id": "9b3179b1-1c3b-4a95-9fdc-749ff7cdede3",
   "metadata": {},
   "outputs": [],
   "source": []
  }
 ],
 "metadata": {
  "kernelspec": {
   "display_name": "Python 3 (ipykernel)",
   "language": "python",
   "name": "python3"
  },
  "language_info": {
   "codemirror_mode": {
    "name": "ipython",
    "version": 3
   },
   "file_extension": ".py",
   "mimetype": "text/x-python",
   "name": "python",
   "nbconvert_exporter": "python",
   "pygments_lexer": "ipython3",
   "version": "3.8.12"
  }
 },
 "nbformat": 4,
 "nbformat_minor": 5
}
