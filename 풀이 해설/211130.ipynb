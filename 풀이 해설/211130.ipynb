{
 "cells": [
  {
   "cell_type": "markdown",
   "id": "4723e353-71b4-49be-9ed3-c2e77f1d19f6",
   "metadata": {},
   "source": [
    "# 2021.11.30"
   ]
  },
  {
   "cell_type": "code",
   "execution_count": 2,
   "id": "876184b0-25db-4406-9032-2c121298777d",
   "metadata": {},
   "outputs": [],
   "source": [
    "# 복습\n",
    "# 11729 하노이 탑 이동 순서"
   ]
  },
  {
   "cell_type": "code",
   "execution_count": 10,
   "id": "e32f83da-d057-4019-ade2-af4a4e25ecf9",
   "metadata": {},
   "outputs": [
    {
     "name": "stdin",
     "output_type": "stream",
     "text": [
      " 3\n"
     ]
    },
    {
     "name": "stdout",
     "output_type": "stream",
     "text": [
      "7\n",
      "1 3\n",
      "1 2\n",
      "3 2\n",
      "1 3\n",
      "2 1\n",
      "2 3\n",
      "1 3\n"
     ]
    }
   ],
   "source": [
    "def hanoi(n, start, by, end):\n",
    "    if n == 1:\n",
    "        print(start, end)\n",
    "        return\n",
    "    \n",
    "    hanoi(n-1, start, end, by)\n",
    "    print(start, end)\n",
    "    hanoi(n-1, by, start, end)\n",
    "\n",
    "n = int(input())\n",
    "print(2**n-1)\n",
    "hanoi(n, 1, 2, 3)"
   ]
  },
  {
   "cell_type": "markdown",
   "id": "60cc604e-8811-4611-8c5a-0a1c0ed75857",
   "metadata": {},
   "source": [
    "---"
   ]
  },
  {
   "cell_type": "code",
   "execution_count": 22,
   "id": "2619ea50-4186-4644-ab86-464543e376ee",
   "metadata": {},
   "outputs": [],
   "source": [
    "# Silver I\n",
    "# 2447 별 찍기 - 10\n",
    "# 못풀었다"
   ]
  },
  {
   "cell_type": "code",
   "execution_count": 47,
   "id": "cf9ea92c-7159-48f0-bcb5-e6cd62677b76",
   "metadata": {},
   "outputs": [
    {
     "name": "stdin",
     "output_type": "stream",
     "text": [
      " 5\n"
     ]
    },
    {
     "name": "stdout",
     "output_type": "stream",
     "text": [
      "[['*'], ['*'], ['*'], ['*'], ['*']]\n"
     ]
    }
   ],
   "source": [
    "def star(N):\n",
    "    space = []\n",
    "    for i in range(N):\n",
    "        for j in range(N):\n",
    "            height = []\n",
    "            height.append('*')\n",
    "        space.append(height)\n",
    "    return space\n",
    "\n",
    "N = int(input())\n",
    "print(star(N))"
   ]
  },
  {
   "cell_type": "code",
   "execution_count": 63,
   "id": "a41e957a-1d03-4e49-b028-0b55dfe13ac0",
   "metadata": {},
   "outputs": [
    {
     "name": "stdin",
     "output_type": "stream",
     "text": [
      " 3\n"
     ]
    },
    {
     "ename": "TypeError",
     "evalue": "list indices must be integers or slices, not float",
     "output_type": "error",
     "traceback": [
      "\u001b[1;31m---------------------------------------------------------------------------\u001b[0m",
      "\u001b[1;31mTypeError\u001b[0m                                 Traceback (most recent call last)",
      "\u001b[1;32m~\\AppData\\Local\\Temp/ipykernel_23468/782903736.py\u001b[0m in \u001b[0;36m<module>\u001b[1;34m\u001b[0m\n\u001b[0;32m      5\u001b[0m     \u001b[0mmat\u001b[0m\u001b[1;33m[\u001b[0m\u001b[0mN\u001b[0m\u001b[1;33m/\u001b[0m\u001b[1;36m3\u001b[0m\u001b[1;33m]\u001b[0m\u001b[1;33m[\u001b[0m\u001b[0mN\u001b[0m\u001b[1;33m/\u001b[0m\u001b[1;36m3\u001b[0m\u001b[1;33m]\u001b[0m\u001b[1;33m=\u001b[0m\u001b[1;34m' '\u001b[0m\u001b[1;33m\u001b[0m\u001b[1;33m\u001b[0m\u001b[0m\n\u001b[0;32m      6\u001b[0m     \u001b[1;32mreturn\u001b[0m \u001b[0mmat\u001b[0m\u001b[1;33m\u001b[0m\u001b[1;33m\u001b[0m\u001b[0m\n\u001b[1;32m----> 7\u001b[1;33m \u001b[0mprint\u001b[0m\u001b[1;33m(\u001b[0m\u001b[0mstar\u001b[0m\u001b[1;33m(\u001b[0m\u001b[0mN\u001b[0m\u001b[1;33m)\u001b[0m\u001b[1;33m)\u001b[0m\u001b[1;33m\u001b[0m\u001b[1;33m\u001b[0m\u001b[0m\n\u001b[0m",
      "\u001b[1;32m~\\AppData\\Local\\Temp/ipykernel_23468/782903736.py\u001b[0m in \u001b[0;36mstar\u001b[1;34m(N)\u001b[0m\n\u001b[0;32m      3\u001b[0m \u001b[1;32mdef\u001b[0m \u001b[0mstar\u001b[0m\u001b[1;33m(\u001b[0m\u001b[0mN\u001b[0m\u001b[1;33m)\u001b[0m\u001b[1;33m:\u001b[0m\u001b[1;33m\u001b[0m\u001b[1;33m\u001b[0m\u001b[0m\n\u001b[0;32m      4\u001b[0m     \u001b[0mmat\u001b[0m \u001b[1;33m=\u001b[0m \u001b[1;33m[\u001b[0m\u001b[1;33m[\u001b[0m\u001b[1;34m'*'\u001b[0m\u001b[1;33m]\u001b[0m\u001b[1;33m*\u001b[0m\u001b[0mN\u001b[0m \u001b[1;32mfor\u001b[0m \u001b[0mi\u001b[0m \u001b[1;32min\u001b[0m \u001b[0mrange\u001b[0m\u001b[1;33m(\u001b[0m\u001b[0mN\u001b[0m\u001b[1;33m)\u001b[0m\u001b[1;33m]\u001b[0m\u001b[1;33m\u001b[0m\u001b[1;33m\u001b[0m\u001b[0m\n\u001b[1;32m----> 5\u001b[1;33m     \u001b[0mmat\u001b[0m\u001b[1;33m[\u001b[0m\u001b[0mN\u001b[0m\u001b[1;33m/\u001b[0m\u001b[1;36m3\u001b[0m\u001b[1;33m]\u001b[0m\u001b[1;33m[\u001b[0m\u001b[0mN\u001b[0m\u001b[1;33m/\u001b[0m\u001b[1;36m3\u001b[0m\u001b[1;33m]\u001b[0m\u001b[1;33m=\u001b[0m\u001b[1;34m' '\u001b[0m\u001b[1;33m\u001b[0m\u001b[1;33m\u001b[0m\u001b[0m\n\u001b[0m\u001b[0;32m      6\u001b[0m     \u001b[1;32mreturn\u001b[0m \u001b[0mmat\u001b[0m\u001b[1;33m\u001b[0m\u001b[1;33m\u001b[0m\u001b[0m\n\u001b[0;32m      7\u001b[0m \u001b[0mprint\u001b[0m\u001b[1;33m(\u001b[0m\u001b[0mstar\u001b[0m\u001b[1;33m(\u001b[0m\u001b[0mN\u001b[0m\u001b[1;33m)\u001b[0m\u001b[1;33m)\u001b[0m\u001b[1;33m\u001b[0m\u001b[1;33m\u001b[0m\u001b[0m\n",
      "\u001b[1;31mTypeError\u001b[0m: list indices must be integers or slices, not float"
     ]
    }
   ],
   "source": [
    "N = int(input())\n",
    "\n",
    "def star(N):\n",
    "    mat = [['*']*N for i in range(N)]\n",
    "    mat[N/3][N/3]=' '\n",
    "    return mat\n",
    "print(star(N))"
   ]
  },
  {
   "cell_type": "code",
   "execution_count": null,
   "id": "e95318de-8568-49f8-b343-db2bf36b520b",
   "metadata": {},
   "outputs": [],
   "source": []
  }
 ],
 "metadata": {
  "kernelspec": {
   "display_name": "Python 3 (ipykernel)",
   "language": "python",
   "name": "python3"
  },
  "language_info": {
   "codemirror_mode": {
    "name": "ipython",
    "version": 3
   },
   "file_extension": ".py",
   "mimetype": "text/x-python",
   "name": "python",
   "nbconvert_exporter": "python",
   "pygments_lexer": "ipython3",
   "version": "3.8.12"
  }
 },
 "nbformat": 4,
 "nbformat_minor": 5
}
