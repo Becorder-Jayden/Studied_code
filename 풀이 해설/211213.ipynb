{
 "cells": [
  {
   "cell_type": "markdown",
   "id": "d5c315a3-71e3-4931-8bc9-84d7da1568a4",
   "metadata": {},
   "source": [
    "# 2021.12.13"
   ]
  },
  {
   "cell_type": "code",
   "execution_count": null,
   "id": "a92887b2-b573-4df1-bb81-a50088690a85",
   "metadata": {},
   "outputs": [],
   "source": []
  },
  {
   "cell_type": "code",
   "execution_count": 1,
   "id": "7d661c4f-5bc8-4b61-924d-ed4e6386b022",
   "metadata": {},
   "outputs": [],
   "source": [
    "# 코드업 : 구조체 연습\n",
    "# 4012 석차계산"
   ]
  },
  {
   "cell_type": "code",
   "execution_count": 18,
   "id": "86afa888-8094-44b4-869c-e2ed2dfb2c06",
   "metadata": {},
   "outputs": [
    {
     "name": "stdin",
     "output_type": "stream",
     "text": [
      " 10\n",
      " 60 34 55 100 90 76 60 90 80 87\n"
     ]
    },
    {
     "name": "stdout",
     "output_type": "stream",
     "text": [
      "[100, 90, 90, 87, 80, 76, 60, 60, 55, 34]\n",
      "[1, 2, 3, 4, 5, 6, 7, 8, 9, 10, 11, 12, 13, 14, 15, 16, 17, 18, 19]\n"
     ]
    }
   ],
   "source": [
    "N = int(input())\n",
    "cnt = 0\n",
    "li = list(map(int, input().split()))\n",
    "li = sorted(li, reverse=True)\n",
    "\n",
    "cnt = [i for i in range(1,N+10)]\n",
    "\n",
    "print(li)\n",
    "print(cnt)"
   ]
  },
  {
   "cell_type": "code",
   "execution_count": 19,
   "id": "7c8bf980-6ba7-427a-986b-7e6fae017029",
   "metadata": {},
   "outputs": [],
   "source": [
    "# 4751 아시아 정보올림피아드"
   ]
  },
  {
   "cell_type": "code",
   "execution_count": 26,
   "id": "cc413294-59af-44b5-908d-764fb04682c1",
   "metadata": {},
   "outputs": [
    {
     "name": "stdin",
     "output_type": "stream",
     "text": [
      " 9\n",
      " 1 1 230\n",
      " 1 2 210\n",
      " 1 3 205\n",
      " 2 1 100\n",
      " 2 2 150\n",
      " 3 1 175\n",
      " 3 2 190\n",
      " 3 3 180\n",
      " 3 4 195\n"
     ]
    },
    {
     "name": "stdout",
     "output_type": "stream",
     "text": [
      "[[1, 1, 230], [1, 2, 210], [1, 3, 205], [3, 4, 195], [3, 2, 190], [3, 3, 180], [3, 1, 175], [2, 2, 150], [2, 1, 100]]\n"
     ]
    }
   ],
   "source": [
    "N = int(input())\n",
    "li = []\n",
    "for i in range(N):\n",
    "    a, b, c = map(int, input().split())\n",
    "    li.append([a,b,c])\n",
    "    \n",
    "li = sorted(li, reverse=True, key = lambda a : a[2])\n",
    "print(li)"
   ]
  },
  {
   "cell_type": "markdown",
   "id": "279e2df7-30a2-44d5-a5e8-6677a1ad4b9c",
   "metadata": {},
   "source": [
    "---"
   ]
  },
  {
   "cell_type": "code",
   "execution_count": 27,
   "id": "7c8d17a8-c9f8-4580-a763-7bf687e4e659",
   "metadata": {},
   "outputs": [],
   "source": [
    "# Silver IV\n",
    "# 13305 주유소"
   ]
  },
  {
   "cell_type": "code",
   "execution_count": 39,
   "id": "dc88a0b4-c358-4b70-aed0-cc84ba4e7327",
   "metadata": {},
   "outputs": [
    {
     "name": "stdin",
     "output_type": "stream",
     "text": [
      " 3\n",
      " 2 3 1\n",
      " 5 2 4 1\n"
     ]
    },
    {
     "name": "stdout",
     "output_type": "stream",
     "text": [
      "8\n"
     ]
    }
   ],
   "source": [
    "N = int(input())\n",
    "distance = list(map(int, input().split()))\n",
    "price = list(map(int, input().split()))\n",
    "total = 0\n",
    "\n",
    "price_s = sorted(price[:-2])\n",
    "min_index = price.index(price_s[0])\n",
    "\n",
    "for i in distance[min_index:]:\n",
    "    total += price_s[0]*i\n",
    "\n",
    "    "
   ]
  },
  {
   "cell_type": "code",
   "execution_count": 44,
   "id": "be74b371-9a41-421a-be16-66dca57d8fb2",
   "metadata": {},
   "outputs": [
    {
     "name": "stdin",
     "output_type": "stream",
     "text": [
      " 5\n",
      " 2 6 2 3 1\n",
      " 6 3 5 2 4 1\n"
     ]
    },
    {
     "name": "stdout",
     "output_type": "stream",
     "text": [
      "1\n",
      "3\n"
     ]
    }
   ],
   "source": [
    "N = int(input())\n",
    "distance = list(map(int, input().split()))\n",
    "price = list(map(int, input().split()))\n",
    "total = 0\n",
    "\n",
    "for i in range(N-1):\n",
    "    if price[i]>price[i+1]:\n",
    "        # print(price[i+1])\n",
    "# 목표 : 1 // 3\n",
    "        print(price.index(price[i+1]))\n",
    "        for j in distance["
   ]
  },
  {
   "cell_type": "code",
   "execution_count": null,
   "id": "82a3ee2a-74d9-4956-88fb-7dc5b65f9018",
   "metadata": {},
   "outputs": [],
   "source": [
    "# 도서, 모임 안내"
   ]
  },
  {
   "cell_type": "code",
   "execution_count": 52,
   "id": "2f10ed51-5e58-4042-bfb5-23610f904845",
   "metadata": {},
   "outputs": [
    {
     "name": "stdin",
     "output_type": "stream",
     "text": [
      " 5\n",
      " 2 6 2 3 1\n",
      " 6 3 5 2 4 1\n"
     ]
    },
    {
     "name": "stdout",
     "output_type": "stream",
     "text": [
      "1\n",
      "3\n"
     ]
    }
   ],
   "source": [
    "N = int(input()) \n",
    "distance = list(map(int, input().split()))\n",
    "price = list(map(int, input().split()))\n",
    "total = 0\n",
    "\n",
    "for i in range(N-1):\n",
    "    if price[i]>price[i+1]:\n",
    "        # print(price[i+1])\n",
    "# 목표 : 1 // 3\n",
    "        print(price.index(price[i+1]))\n",
    "        # print(price.split(price[i+1]))\n",
    "        for i in range("
   ]
  },
  {
   "cell_type": "code",
   "execution_count": 58,
   "id": "f746229e-fe25-4c9a-a0e6-440db89ff677",
   "metadata": {},
   "outputs": [
    {
     "name": "stdin",
     "output_type": "stream",
     "text": [
      " 5\n",
      " 2 6 2 3 1\n",
      " 6 3 5 2 4 1\n"
     ]
    },
    {
     "name": "stdout",
     "output_type": "stream",
     "text": [
      "[2, 6, 2, 3, 1]\n",
      "[6, 3, 5, 2, 4]\n"
     ]
    }
   ],
   "source": [
    "N = int(input()) \n",
    "distance = list(map(int, input().split()))\n",
    "price = list(map(int, input().split()))\n",
    "total = 0\n",
    "\n",
    "for i in distance:\n",
    "    for j in price[:-1]:\n",
    "        "
   ]
  },
  {
   "cell_type": "code",
   "execution_count": null,
   "id": "d75eee7e-3b6c-4ce4-9de3-323a9b9c768d",
   "metadata": {},
   "outputs": [],
   "source": []
  }
 ],
 "metadata": {
  "kernelspec": {
   "display_name": "Python 3 (ipykernel)",
   "language": "python",
   "name": "python3"
  },
  "language_info": {
   "codemirror_mode": {
    "name": "ipython",
    "version": 3
   },
   "file_extension": ".py",
   "mimetype": "text/x-python",
   "name": "python",
   "nbconvert_exporter": "python",
   "pygments_lexer": "ipython3",
   "version": "3.8.12"
  }
 },
 "nbformat": 4,
 "nbformat_minor": 5
}
