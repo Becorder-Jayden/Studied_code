{
 "cells": [
  {
   "cell_type": "markdown",
   "id": "6c2d6f3f-d169-4c4c-a798-5b71e9f0f3bd",
   "metadata": {},
   "source": [
    "# 2022.01.20"
   ]
  },
  {
   "cell_type": "code",
   "execution_count": 1,
   "id": "5b221556-cc86-4990-85a5-f54dc882402a",
   "metadata": {},
   "outputs": [],
   "source": [
    "# Silver III\n",
    "# 15651 N과 M (3)"
   ]
  },
  {
   "cell_type": "code",
   "execution_count": 43,
   "id": "2358d584-945f-42a3-a7c6-af9161946fb4",
   "metadata": {},
   "outputs": [
    {
     "name": "stdin",
     "output_type": "stream",
     "text": [
      " 3 3\n"
     ]
    },
    {
     "name": "stdout",
     "output_type": "stream",
     "text": [
      "1 1 1\n",
      "1 1 2\n",
      "1 1 3\n",
      "1 2 1\n",
      "1 2 2\n",
      "1 2 3\n",
      "1 3 1\n",
      "1 3 2\n",
      "1 3 3\n",
      "2 1 1\n",
      "2 1 2\n",
      "2 1 3\n",
      "2 2 1\n",
      "2 2 2\n",
      "2 2 3\n",
      "2 3 1\n",
      "2 3 2\n",
      "2 3 3\n",
      "3 1 1\n",
      "3 1 2\n",
      "3 1 3\n",
      "3 2 1\n",
      "3 2 2\n",
      "3 2 3\n",
      "3 3 1\n",
      "3 3 2\n",
      "3 3 3\n"
     ]
    }
   ],
   "source": [
    "N, M = map(int, input().split())\n",
    "\n",
    "def dfs(depth, seq):\n",
    "    if depth == M:\n",
    "        print(' '.join(list(map(str, seq))))\n",
    "        return \n",
    "        \n",
    "    for i in range(1, N+1):\n",
    "        temp = seq.copy()\n",
    "        temp.append(i)\n",
    "        dfs(depth+1, temp)\n",
    "\n",
    "dfs(0, [])"
   ]
  },
  {
   "cell_type": "markdown",
   "id": "0ef3c457-7348-4614-9acb-62f22d4b2ae8",
   "metadata": {},
   "source": [
    "---"
   ]
  },
  {
   "cell_type": "code",
   "execution_count": 44,
   "id": "165caf23-099a-45f2-a12b-d2226458e6cb",
   "metadata": {},
   "outputs": [],
   "source": [
    "# Silver III\n",
    "# 15649 N과 M(1) 복습"
   ]
  },
  {
   "cell_type": "code",
   "execution_count": 48,
   "id": "7fdbec14-f5ee-44d6-89d0-669fe078233f",
   "metadata": {},
   "outputs": [
    {
     "name": "stdin",
     "output_type": "stream",
     "text": [
      " 4 2\n"
     ]
    },
    {
     "name": "stdout",
     "output_type": "stream",
     "text": [
      "1 2\n",
      "1 3\n",
      "1 4\n",
      "2 1\n",
      "2 3\n",
      "2 4\n",
      "3 1\n",
      "3 2\n",
      "3 4\n",
      "4 1\n",
      "4 2\n",
      "4 3\n"
     ]
    }
   ],
   "source": [
    "N, M = map(int, input().split())\n",
    "\n",
    "def dfs(depth, seq):\n",
    "    if depth == M:\n",
    "        print(' '.join(list(map(str, seq))))\n",
    "        return\n",
    "              \n",
    "    for i in range(1, N+1):\n",
    "        if i not in seq:\n",
    "            temp = seq.copy()\n",
    "            temp.append(i)\n",
    "            dfs(depth+1, temp)\n",
    "              \n",
    "dfs(0, [])"
   ]
  },
  {
   "cell_type": "markdown",
   "id": "f86d2008-11e6-4a64-bb14-2751704ede53",
   "metadata": {},
   "source": [
    "---"
   ]
  },
  {
   "cell_type": "code",
   "execution_count": 49,
   "id": "af5bd2c7-d33d-47cf-81bd-b10947e6b564",
   "metadata": {},
   "outputs": [],
   "source": [
    "# Silver III\n",
    "# 15649 N과 M (1) 풀이방식 변경"
   ]
  },
  {
   "cell_type": "code",
   "execution_count": 24,
   "id": "3992927c-4675-443b-94c6-ef0703d2bd11",
   "metadata": {},
   "outputs": [
    {
     "name": "stdin",
     "output_type": "stream",
     "text": [
      " 3 2\n"
     ]
    },
    {
     "name": "stdout",
     "output_type": "stream",
     "text": [
      "1 2\n",
      "1 3\n",
      "2 1\n",
      "2 3\n",
      "3 1\n",
      "3 2\n"
     ]
    }
   ],
   "source": [
    "N, M = map(int, input().split())\n",
    "\n",
    "def dfs(depth, seq):\n",
    "    if depth == M:\n",
    "        print(' '.join(list(map(str, seq))))\n",
    "        return\n",
    "    \n",
    "    for i in range(1, N+1):\n",
    "        if i not in seq:\n",
    "            seq.append(i)\n",
    "            dfs(depth+1, seq)\n",
    "            seq.pop()\n",
    "\n",
    "dfs(0, [])"
   ]
  },
  {
   "cell_type": "code",
   "execution_count": 25,
   "id": "5c2e2fa0-3e83-4541-83c5-a08b22948d43",
   "metadata": {},
   "outputs": [
    {
     "name": "stdin",
     "output_type": "stream",
     "text": [
      " 3 2\n"
     ]
    },
    {
     "name": "stdout",
     "output_type": "stream",
     "text": [
      "1 2\n",
      "1 3\n",
      "2 1\n",
      "2 3\n",
      "3 1\n",
      "3 2\n"
     ]
    }
   ],
   "source": [
    "N, M = map(int, input().split())\n",
    "\n",
    "def dfs(depth, seq):\n",
    "    if depth == M:\n",
    "        print(' '.join(list(map(str, seq))))\n",
    "        return\n",
    "    \n",
    "    for i in range(1, N+1):\n",
    "        if i not in seq:\n",
    "            seq.append(i)\n",
    "            dfs(depth+1, seq)\n",
    "            seq.pop()\n",
    "\n",
    "dfs(0, [])"
   ]
  },
  {
   "cell_type": "code",
   "execution_count": 49,
   "id": "9dbfc62c-3c77-47ec-8d9a-ea793fa3b98a",
   "metadata": {},
   "outputs": [
    {
     "name": "stdin",
     "output_type": "stream",
     "text": [
      " 4 2\n"
     ]
    },
    {
     "name": "stdout",
     "output_type": "stream",
     "text": [
      "1 2\n",
      "1 3\n",
      "1 4\n",
      "2 3\n",
      "2 4\n",
      "3 4\n"
     ]
    }
   ],
   "source": [
    "N, M = map(int, input().split())\n",
    "\n",
    "def dfs(depth, seq):\n",
    "    if len(seq) == M:\n",
    "        print(' '.join(list(map(str, seq))))\n",
    "        return\n",
    "\n",
    "    for i in range(depth, N+1):\n",
    "        if i not in seq:    \n",
    "            seq.append(i)\n",
    "            dfs(i+1)\n",
    "            seq.pop()\n",
    "        \n",
    "dfs(1, [])"
   ]
  },
  {
   "cell_type": "code",
   "execution_count": null,
   "id": "155a5854-b3db-4d6d-be73-0b673b5afd26",
   "metadata": {},
   "outputs": [],
   "source": [
    "N, M = map(int, input().split())\n",
    "s = []\n",
    "\n",
    "def dfs(start):\n",
    "    if len(seq) == M:\n",
    "        print(' '.join(list(map(str, seq))))\n",
    "        return\n",
    "\n",
    "    for i in range(start, N+1):\n",
    "        for i not in seq:\n",
    "            s\n",
    "dfs(0, [])"
   ]
  }
 ],
 "metadata": {
  "kernelspec": {
   "display_name": "Python 3 (ipykernel)",
   "language": "python",
   "name": "python3"
  },
  "language_info": {
   "codemirror_mode": {
    "name": "ipython",
    "version": 3
   },
   "file_extension": ".py",
   "mimetype": "text/x-python",
   "name": "python",
   "nbconvert_exporter": "python",
   "pygments_lexer": "ipython3",
   "version": "3.8.12"
  }
 },
 "nbformat": 4,
 "nbformat_minor": 5
}
