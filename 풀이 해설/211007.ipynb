{
 "cells": [
  {
   "cell_type": "code",
   "execution_count": null,
   "id": "8779f3c7-531a-4ba1-8bb2-20d8c9daa2a5",
   "metadata": {},
   "outputs": [],
   "source": [
    "#1110번: 더하기 사이클 \n",
    "\n",
    "input_num = temp = int(input()) \n",
    "cnt = 0 \n",
    "while True: \n",
    "    num1 = temp // 10 \n",
    "    num2 = temp % 10 \n",
    "    sum_num = num1 + num2 \n",
    "    temp = int(str(num2) + str(sum_num % 10)) \n",
    "    cnt += 1 \n",
    "    if input_num == temp:\n",
    "        break \n",
    "print(cnt)\n"
   ]
  },
  {
   "cell_type": "code",
   "execution_count": null,
   "id": "c2470ae7-0a17-4646-bbb4-1416eff26feb",
   "metadata": {},
   "outputs": [],
   "source": [
    "#2292: 벌집\n",
    "\n",
    "# lis1 = [1] : 1개\n",
    "# lis2 = [2,3,4,5,6,7] : 6개\n",
    "# lis3 = [8,9,10,11,12,13,14,15,16,17,18,19] : 12개\n",
    "# lis4 = [20,~,37] : 18개\n",
    "# lis +1 당 6개씩 증가하는 것을 볼 수 있음\n",
    "\n",
    "lis = []\n",
    "lis1 = append.lis(1)\n",
    "lis2 = append.lis(1)\n",
    "print(lis2)\n",
    "\n",
    "# Q.계차수열 적용"
   ]
  },
  {
   "cell_type": "code",
   "execution_count": null,
   "id": "8bee6c39-1ccb-481b-80dd-406cf4904eb9",
   "metadata": {},
   "outputs": [],
   "source": [
    "#10809: 알파벳 찾기\n",
    "\n",
    "from string import ascii_lowercase\n",
    "\n",
    "T = input()\n",
    "l_case = list(ascii_lowercase)\n",
    "lis = list(T)\n",
    "a_lis = []\n",
    "\n",
    "\n",
    "print(len(l_case))\n",
    "\n",
    "for i in range(26):\n",
    "    a_lis.append('-1')\n",
    "print(a_lis)"
   ]
  },
  {
   "cell_type": "code",
   "execution_count": null,
   "id": "2c5a59ca-5391-401f-8dfd-a6ee410e83d7",
   "metadata": {},
   "outputs": [],
   "source": []
  }
 ],
 "metadata": {
  "kernelspec": {
   "display_name": "Python 3",
   "language": "python",
   "name": "python3"
  },
  "language_info": {
   "codemirror_mode": {
    "name": "ipython",
    "version": 3
   },
   "file_extension": ".py",
   "mimetype": "text/x-python",
   "name": "python",
   "nbconvert_exporter": "python",
   "pygments_lexer": "ipython3",
   "version": "3.8.8"
  }
 },
 "nbformat": 4,
 "nbformat_minor": 5
}
