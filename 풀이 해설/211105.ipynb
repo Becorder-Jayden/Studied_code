{
 "cells": [
  {
   "cell_type": "markdown",
   "id": "5a0aa437-d1a2-48b7-94ae-4c76a36b2f05",
   "metadata": {},
   "source": [
    "# 2021.11.05"
   ]
  },
  {
   "cell_type": "code",
   "execution_count": 1,
   "id": "73af41f1-68a4-447b-a6cd-e67f931a5046",
   "metadata": {
    "tags": []
   },
   "outputs": [],
   "source": [
    "# Silver IV\n",
    "# 2485 가로수\n",
    "# 아 모르겠다..."
   ]
  },
  {
   "cell_type": "code",
   "execution_count": 47,
   "id": "d323b94c-71de-401c-85cd-d58a3304a15e",
   "metadata": {},
   "outputs": [
    {
     "name": "stdin",
     "output_type": "stream",
     "text": [
      " 4\n",
      " 1\n",
      " 3\n",
      " 7\n",
      " 13\n"
     ]
    },
    {
     "name": "stdout",
     "output_type": "stream",
     "text": [
      "[2, 4, 6]\n",
      "2\n",
      "13\n",
      "2\n",
      "4\n"
     ]
    }
   ],
   "source": [
    "\n",
    "N = int(input())\n",
    "\n",
    "tree = [int(input()) for i in range(N)]\n",
    "lis = []\n",
    "\n",
    "for i in range(N):\n",
    "    try:\n",
    "        lis.append(tree[i+1] - tree[i])\n",
    "    except:\n",
    "        pass\n",
    "print(lis)\n",
    "    \n",
    "def mcd(a, b):\n",
    "    if b==0:\n",
    "        return a\n",
    "    else:\n",
    "        return mcd(b, a%b)\n",
    "\n",
    "for i in lis:\n",
    "    if i%min(lis) == 0:\n",
    "        m = min(lis)        \n",
    "    else:\n",
    "        m = mcd(min(lis), max(lis))\n",
    "print(max(tree)//m - N)    \n",
    "print(max(tree))\n",
    "print(m)\n",
    "print(N)"
   ]
  },
  {
   "cell_type": "code",
   "execution_count": null,
   "id": "f2bb58b7-5f9a-4360-a219-dd1a37fb8c10",
   "metadata": {},
   "outputs": [],
   "source": [
    "[1, 3, 7, 13]\n",
    "-> 간격 : [2, 4, 6]\n",
    "-> [1, 3, 7, 9, 11, 13] 추가 2그루\n",
    "\n",
    "[2, 6, 12, 18]\n",
    "-> 간격 : [4, 6, 6]\n",
    "-> [2, 4, 6, 8, 10, 12, 14, 16, 18] 추가 5그루\n"
   ]
  },
  {
   "cell_type": "code",
   "execution_count": 45,
   "id": "e5e8f43b-8192-4409-a5d2-4003078b5b37",
   "metadata": {},
   "outputs": [
    {
     "data": {
      "text/plain": [
       "0"
      ]
     },
     "execution_count": 45,
     "metadata": {},
     "output_type": "execute_result"
    }
   ],
   "source": [
    "4%2"
   ]
  }
 ],
 "metadata": {
  "kernelspec": {
   "display_name": "Python 3 (ipykernel)",
   "language": "python",
   "name": "python3"
  },
  "language_info": {
   "codemirror_mode": {
    "name": "ipython",
    "version": 3
   },
   "file_extension": ".py",
   "mimetype": "text/x-python",
   "name": "python",
   "nbconvert_exporter": "python",
   "pygments_lexer": "ipython3",
   "version": "3.8.12"
  }
 },
 "nbformat": 4,
 "nbformat_minor": 5
}
