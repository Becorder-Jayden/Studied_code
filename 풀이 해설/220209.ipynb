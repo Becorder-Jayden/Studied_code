{
 "cells": [
  {
   "cell_type": "markdown",
   "id": "5b87b709-876c-48db-af11-1f5fd69f9043",
   "metadata": {},
   "source": [
    "# 2022.02.09 "
   ]
  },
  {
   "cell_type": "code",
   "execution_count": 1,
   "id": "aafa9d4b-dcd1-4a36-b23a-7a373dd9969b",
   "metadata": {},
   "outputs": [],
   "source": [
    "# Silver IV\n",
    "# 1920 수 찾기"
   ]
  },
  {
   "cell_type": "code",
   "execution_count": 2,
   "id": "97130e86-69c8-4b63-8ed7-20a314edcfdc",
   "metadata": {
    "collapsed": true,
    "jupyter": {
     "outputs_hidden": true
    },
    "tags": []
   },
   "outputs": [
    {
     "name": "stdin",
     "output_type": "stream",
     "text": [
      " 5\n",
      " 4 1 5 2 3\n",
      " 5\n",
      " 1 3 7 9 5\n"
     ]
    },
    {
     "name": "stdout",
     "output_type": "stream",
     "text": [
      "1\n",
      "1\n",
      "0\n",
      "0\n",
      "1\n"
     ]
    }
   ],
   "source": [
    "# 시간 초과_이분탐색 공부 필요\n",
    "N = int(input())\n",
    "N_li = list(map(int, input().split()))\n",
    "M = int(input())\n",
    "M_li = list(map(int, input().split()))\n",
    "\n",
    "for i in M_li:\n",
    "    if i in N_li:\n",
    "        print(1)\n",
    "    else:\n",
    "        print(0)"
   ]
  },
  {
   "cell_type": "markdown",
   "id": "1842436a-48ed-4210-b98c-057df6bb1a34",
   "metadata": {},
   "source": [
    "---"
   ]
  },
  {
   "cell_type": "code",
   "execution_count": 12,
   "id": "63016a41-2e64-4cd3-b4a0-3aba7d7a112d",
   "metadata": {},
   "outputs": [],
   "source": [
    "# Bronsze I\n",
    "# 1259 팰린드롬수_왜 틀린것으로 채점되는지 모르겠어"
   ]
  },
  {
   "cell_type": "code",
   "execution_count": 34,
   "id": "670bb47b-78cf-4ac5-8650-d04f5d4c0b02",
   "metadata": {},
   "outputs": [
    {
     "name": "stdin",
     "output_type": "stream",
     "text": [
      " 0\n"
     ]
    }
   ],
   "source": [
    "def pallen(n):\n",
    "    li = list(str(n))\n",
    "    li_r = list(reversed(li))\n",
    "    \n",
    "    if li[-1] == '0':\n",
    "        return \n",
    "    \n",
    "    if li == li_r:\n",
    "        print('yes')\n",
    "    else:\n",
    "        print('no')\n",
    "    \n",
    "pallen(int(input()))"
   ]
  },
  {
   "cell_type": "markdown",
   "id": "90704453-b955-4fe9-b6db-92c561baf288",
   "metadata": {},
   "source": [
    "---"
   ]
  },
  {
   "cell_type": "code",
   "execution_count": 35,
   "id": "51113de3-50e1-44a4-9fef-c080a01e3acc",
   "metadata": {},
   "outputs": [],
   "source": [
    "# Silver III\n",
    "# 2805 나무 자르기_이분탐색 자료구조 이해 필요"
   ]
  },
  {
   "cell_type": "code",
   "execution_count": 59,
   "id": "7da25b54-dffe-4876-afaa-06d8b351733a",
   "metadata": {},
   "outputs": [],
   "source": [
    "N, M = 4, 7\n",
    "trees = [20, 15, 10, 17]"
   ]
  },
  {
   "cell_type": "code",
   "execution_count": 62,
   "id": "ce4cbc75-069e-481e-af68-e4926899c80e",
   "metadata": {},
   "outputs": [],
   "source": [
    "N, M = 5, 20\n",
    "trees = [4, 42, 40, 26, 46]"
   ]
  },
  {
   "cell_type": "code",
   "execution_count": 64,
   "id": "8f3646fb-27b6-4830-9fd6-1e24bc90540d",
   "metadata": {},
   "outputs": [
    {
     "name": "stdout",
     "output_type": "stream",
     "text": [
      "36\n"
     ]
    }
   ],
   "source": [
    "N, M = map(int, input().split())\n",
    "trees = list(map(int, input().split()))\n",
    "h = max(trees)\n",
    "\n",
    "while True:\n",
    "    m = 0\n",
    "    h -= 1\n",
    "    for i in trees:\n",
    "        if (i-h) > 0:\n",
    "            m += i-h\n",
    "    if m >= M:\n",
    "        print(h)\n",
    "        break"
   ]
  },
  {
   "cell_type": "code",
   "execution_count": null,
   "id": "93c14fa2-77ba-4566-a716-71841d9b6be1",
   "metadata": {},
   "outputs": [],
   "source": [
    "import sys\n",
    "\n",
    "N, M = map(int, sys.stdin.readline().split())\n",
    "trees = list(map(int, sys.stdin.readline().split()))\n",
    "h = max(trees)\n",
    "\n",
    "while True:\n",
    "    m = 0\n",
    "    h -= 1\n",
    "    for i in trees:\n",
    "        if (i-h) > 0:\n",
    "            m += i-h\n",
    "    if m >= M:\n",
    "        print(h)\n",
    "        break"
   ]
  },
  {
   "cell_type": "markdown",
   "id": "ae5b8449-48b2-4cf6-8300-c8a789a6fa82",
   "metadata": {},
   "source": [
    "---"
   ]
  },
  {
   "cell_type": "code",
   "execution_count": 68,
   "id": "4c5c15cd-0ddc-42f9-994f-fe4358c7dea6",
   "metadata": {},
   "outputs": [],
   "source": [
    "# Silver IV\n",
    "# 9012 괄호"
   ]
  },
  {
   "cell_type": "code",
   "execution_count": 75,
   "id": "2a11bcb9-c8c6-482f-8e1e-11f99551f830",
   "metadata": {},
   "outputs": [
    {
     "name": "stdin",
     "output_type": "stream",
     "text": [
      " 6\n",
      " (())())\n"
     ]
    },
    {
     "name": "stdout",
     "output_type": "stream",
     "text": [
      "1\n",
      "2\n",
      "1\n",
      "2\n",
      "3\n",
      "2\n",
      "1\n"
     ]
    },
    {
     "name": "stdin",
     "output_type": "stream",
     "text": [
      " (((()())()\n"
     ]
    },
    {
     "name": "stdout",
     "output_type": "stream",
     "text": [
      "1\n",
      "0\n",
      "1\n",
      "2\n",
      "1\n",
      "2\n",
      "1\n",
      "0\n",
      "-1\n",
      "-2\n"
     ]
    },
    {
     "name": "stdin",
     "output_type": "stream",
     "text": [
      " (()())((()))\n"
     ]
    },
    {
     "name": "stdout",
     "output_type": "stream",
     "text": [
      "1\n",
      "2\n",
      "3\n",
      "2\n",
      "1\n",
      "0\n",
      "1\n",
      "2\n",
      "1\n",
      "2\n",
      "1\n",
      "0\n"
     ]
    },
    {
     "name": "stdin",
     "output_type": "stream",
     "text": [
      " ((()()(()))(((())))()\n"
     ]
    },
    {
     "name": "stdout",
     "output_type": "stream",
     "text": [
      "1\n",
      "0\n",
      "1\n",
      "2\n",
      "3\n",
      "4\n",
      "3\n",
      "2\n",
      "1\n",
      "0\n",
      "1\n",
      "2\n",
      "3\n",
      "2\n",
      "1\n",
      "2\n",
      "1\n",
      "2\n",
      "1\n",
      "0\n",
      "-1\n"
     ]
    },
    {
     "name": "stdin",
     "output_type": "stream",
     "text": [
      " ()()()()(()()())()\n"
     ]
    },
    {
     "name": "stdout",
     "output_type": "stream",
     "text": [
      "1\n",
      "0\n",
      "1\n",
      "2\n",
      "1\n",
      "2\n",
      "1\n",
      "2\n",
      "1\n",
      "0\n",
      "1\n",
      "0\n",
      "1\n",
      "0\n",
      "1\n",
      "0\n",
      "1\n",
      "0\n"
     ]
    },
    {
     "name": "stdin",
     "output_type": "stream",
     "text": [
      " (()((())()(\n"
     ]
    },
    {
     "name": "stdout",
     "output_type": "stream",
     "text": [
      "-1\n",
      "0\n",
      "-1\n",
      "0\n",
      "1\n",
      "0\n",
      "-1\n",
      "-2\n",
      "-1\n",
      "-2\n",
      "-3\n"
     ]
    }
   ],
   "source": [
    "N = int(input())\n",
    "for i in range(N):\n",
    "    temp = 0\n",
    "    inp = list(input())\n",
    "    for i in range(len(inp)):\n",
    "        pop = inp.pop()\n",
    "        if pop == ')':\n",
    "            temp += 1\n",
    "        else:\n",
    "            temp -= 1\n",
    "        print(temp)"
   ]
  },
  {
   "cell_type": "markdown",
   "id": "2079d9e4-949a-4718-a3c1-c84718821eec",
   "metadata": {},
   "source": [
    "---"
   ]
  },
  {
   "cell_type": "code",
   "execution_count": 1,
   "id": "31748efc-0267-4013-a19a-3bf7a0ba70de",
   "metadata": {},
   "outputs": [],
   "source": [
    "# Silver III\n",
    "# 1003 피보나치 함수"
   ]
  },
  {
   "cell_type": "code",
   "execution_count": null,
   "id": "f1c8e56e-9349-48bd-8e00-2950a7cf2d49",
   "metadata": {},
   "outputs": [],
   "source": [
    "fibo(n):\n",
    "    d=[0]*100\n",
    "    if n==0 or n==1:\n",
    "        return 1\n",
    "    fibo(n)\n",
    "\n",
    "N = int(input())\n",
    "for i in range(N):\n",
    "    a = int(input())\n",
    "    "
   ]
  },
  {
   "cell_type": "code",
   "execution_count": 15,
   "id": "512e9e6e-a9d4-4bde-8843-c8d1cbd16116",
   "metadata": {},
   "outputs": [
    {
     "name": "stdin",
     "output_type": "stream",
     "text": [
      " 6\n"
     ]
    },
    {
     "name": "stdout",
     "output_type": "stream",
     "text": [
      "[0, 0, 0, 0, 0, 0]\n"
     ]
    }
   ],
   "source": [
    "N = int(input())\n",
    "d = [0]*N\n",
    "d[0] = [1, 0]\n",
    "d[1] = [0, 1]"
   ]
  },
  {
   "cell_type": "code",
   "execution_count": null,
   "id": "ad2d9369-30c2-4da2-a913-32e577e42d6a",
   "metadata": {},
   "outputs": [],
   "source": []
  }
 ],
 "metadata": {
  "kernelspec": {
   "display_name": "Python 3 (ipykernel)",
   "language": "python",
   "name": "python3"
  },
  "language_info": {
   "codemirror_mode": {
    "name": "ipython",
    "version": 3
   },
   "file_extension": ".py",
   "mimetype": "text/x-python",
   "name": "python",
   "nbconvert_exporter": "python",
   "pygments_lexer": "ipython3",
   "version": "3.8.12"
  }
 },
 "nbformat": 4,
 "nbformat_minor": 5
}
