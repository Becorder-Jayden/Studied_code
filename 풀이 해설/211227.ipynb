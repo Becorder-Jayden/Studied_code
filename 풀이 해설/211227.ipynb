{
 "cells": [
  {
   "cell_type": "markdown",
   "id": "5931e235-7c42-4ef0-a2e2-f84dae4964c0",
   "metadata": {},
   "source": [
    "# 2021.12.27"
   ]
  },
  {
   "cell_type": "code",
   "execution_count": 6,
   "id": "862153f2-04a5-4ca3-bbbf-77076cbb7bfa",
   "metadata": {
    "tags": []
   },
   "outputs": [
    {
     "name": "stdout",
     "output_type": "stream",
     "text": [
      "1 2 4 8 5 3 6 7 "
     ]
    }
   ],
   "source": [
    "def dfs(graph, v, visited):\n",
    "    visited[v] = True\n",
    "    print(v, end = ' ')\n",
    "    for i in graph[v]:\n",
    "        if not visited[i]:\n",
    "            dfs(graph, i, visited)\n",
    "\n",
    "# trouble\n",
    "\n",
    "\n",
    "graph = [\n",
    "    [],\n",
    "    [2,3],\n",
    "    [4,5],\n",
    "    [6,7],\n",
    "    [8],\n",
    "    [8],\n",
    "    [8],\n",
    "    [8],\n",
    "    []\n",
    "]\n",
    "\n",
    "visited = [False] * 9\n",
    "\n",
    "dfs(graph, 1, visited)\n",
    "    \n",
    "# 1 2 4 8 5 3 6 7 "
   ]
  },
  {
   "cell_type": "code",
   "execution_count": 15,
   "id": "84b15eb3-df39-4586-b686-6967e3dc9401",
   "metadata": {},
   "outputs": [
    {
     "name": "stdout",
     "output_type": "stream",
     "text": [
      "1 2 4 5 7 3 6 "
     ]
    }
   ],
   "source": [
    "def dfs(graph, v, visited):\n",
    "    visited[v] = True\n",
    "    print(v, end = ' ')\n",
    "    for i in graph[v]:\n",
    "        if not visited[i]:\n",
    "            dfs(graph, i, visited)\n",
    "\n",
    "# ok2\n",
    "graph = [\n",
    "    [],\n",
    "    [2,3],\n",
    "    [4,5],\n",
    "    [4,6],\n",
    "    [5,7],\n",
    "    [4,7],\n",
    "    [7],\n",
    "    []\n",
    "]\n",
    "\n",
    "visited = [False] * 9\n",
    "\n",
    "dfs(graph, 1, visited)\n",
    "    \n",
    "    "
   ]
  },
  {
   "cell_type": "code",
   "execution_count": 9,
   "id": "717a978b-d996-4cae-94de-7e0d533d311f",
   "metadata": {},
   "outputs": [
    {
     "name": "stdout",
     "output_type": "stream",
     "text": [
      "1 2 5 8 6 3 4 7 "
     ]
    }
   ],
   "source": [
    "def dfs(graph, v, visited):\n",
    "    visited[v] = True\n",
    "    print(v, end = ' ')\n",
    "    for i in graph[v]:\n",
    "        if not visited[i]:\n",
    "            dfs(graph, i, visited)\n",
    "\n",
    "# ok 1\n",
    "graph = [\n",
    "    [],\n",
    "    [2,3,4],\n",
    "    [5,6],\n",
    "    [],\n",
    "    [7],\n",
    "    [8],\n",
    "    [8],\n",
    "    [],\n",
    "    []\n",
    "]\n",
    "\n",
    "visited = [False] * 9\n",
    "\n",
    "dfs(graph, 1, visited)\n",
    "    \n",
    "    "
   ]
  },
  {
   "cell_type": "code",
   "execution_count": null,
   "id": "0c6c77ee-f5c4-4953-ac3a-d76f6fde662c",
   "metadata": {},
   "outputs": [],
   "source": [
    "def dfs(edge, start, visited=[]):\n",
    "    visited.append(start)\n",
    "    \n",
    "    for node in sorted(edge[start]):\n",
    "        if node not in visited:\n",
    "            dfs(edge, node, visited)\n",
    "            \n",
    "    return visited"
   ]
  }
 ],
 "metadata": {
  "kernelspec": {
   "display_name": "Python 3 (ipykernel)",
   "language": "python",
   "name": "python3"
  },
  "language_info": {
   "codemirror_mode": {
    "name": "ipython",
    "version": 3
   },
   "file_extension": ".py",
   "mimetype": "text/x-python",
   "name": "python",
   "nbconvert_exporter": "python",
   "pygments_lexer": "ipython3",
   "version": "3.8.12"
  }
 },
 "nbformat": 4,
 "nbformat_minor": 5
}
