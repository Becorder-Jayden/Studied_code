{
 "cells": [
  {
   "cell_type": "markdown",
   "id": "9685db58-cb27-4b59-8d89-5cda2dca7ebe",
   "metadata": {},
   "source": [
    "## 2021.10.20"
   ]
  },
  {
   "cell_type": "code",
   "execution_count": 1,
   "id": "33575856-ccfa-460e-b071-6366e89543c3",
   "metadata": {},
   "outputs": [
    {
     "name": "stdin",
     "output_type": "stream",
     "text": [
      " ljes=njak\n"
     ]
    },
    {
     "name": "stdout",
     "output_type": "stream",
     "text": [
      "-1\n",
      "-1\n",
      "-1\n",
      "-1\n",
      "0\n",
      "5\n",
      "3\n",
      "-1\n"
     ]
    }
   ],
   "source": [
    "# Siver V\n",
    "# 2941 크로아티아 알파벳\n",
    "\n",
    "text = input()\n",
    "\n",
    "li = ['c=','c-','dz=','d-','lj','nj','s=','z=']\n",
    "\n",
    "for i in li: # li에 속해있는 단어 찾기\n",
    "    print(text.find(i))    "
   ]
  },
  {
   "cell_type": "code",
   "execution_count": 37,
   "id": "6622e798-118b-4ebe-8a2c-78ec658b2a28",
   "metadata": {},
   "outputs": [
    {
     "name": "stdin",
     "output_type": "stream",
     "text": [
      " ddz=z=\n"
     ]
    },
    {
     "name": "stdout",
     "output_type": "stream",
     "text": [
      "ddz=z=\n",
      "입력값 6 자리\n",
      "['dz=', 'z=']\n",
      "구분값 2 개\n",
      "결과 4\n"
     ]
    }
   ],
   "source": [
    "text = input()\n",
    "\n",
    "li = ['c=','c-','dz=','d-','lj','nj','s=','z=']\n",
    "lis = []\n",
    "\n",
    "for i in li: # li에 속해있는 단어 찾기\n",
    "    if text.find(i) != -1:\n",
    "        lis.append(i)\n",
    "print(text)\n",
    "print('입력값',len(text),'자리')\n",
    "print(lis)\n",
    "print('구분값',len(lis),'개')\n",
    "print('결과',len(text)-len(lis))\n",
    "\n",
    "# ddz=z= 입력시 결과가 3이 되어야 하는데 오류.. find로 그치는 것이 아니라 모든 값(중복되는 것 포함)에 find가 적용되어야 할듯..?"
   ]
  },
  {
   "cell_type": "code",
   "execution_count": 33,
   "id": "639427d4-8058-4645-bbc4-4a8a642869f5",
   "metadata": {},
   "outputs": [
    {
     "name": "stdout",
     "output_type": "stream",
     "text": [
      "2\n",
      "2\n",
      "2\n",
      "2\n",
      "2\n",
      "2\n"
     ]
    }
   ],
   "source": [
    "li ='ddz=z='\n",
    "for i in range(len(li)):\n",
    "    try:\n",
    "        li.find('z=')\n",
    "    except:\n",
    "        pass"
   ]
  },
  {
   "cell_type": "code",
   "execution_count": null,
   "id": "89c4f427-9313-46b4-bc90-acfff2572f8e",
   "metadata": {},
   "outputs": [],
   "source": [
    "li ='ddz=z='\n",
    "while True:\n",
    "    print(li.find('z='))\n",
    "    "
   ]
  },
  {
   "cell_type": "code",
   "execution_count": 50,
   "id": "492c96f3-5649-457e-b189-5a903c857cf7",
   "metadata": {},
   "outputs": [
    {
     "name": "stdin",
     "output_type": "stream",
     "text": [
      " 5\n",
      " 5\n",
      " 4\n",
      " 3\n",
      " 2\n",
      " 1\n"
     ]
    },
    {
     "name": "stdout",
     "output_type": "stream",
     "text": [
      "1\n",
      "2\n",
      "3\n",
      "4\n",
      "5\n"
     ]
    }
   ],
   "source": [
    "# Siver V\n",
    "# 2751 수 정렬하기 2_해결\n",
    "\n",
    "tn = int(input())\n",
    "li = []\n",
    "\n",
    "for i in range(tn):\n",
    "    nu = int(input())\n",
    "    li.append(nu)\n",
    "    \n",
    "n_lis = sorted(li)\n",
    "for i in n_lis:\n",
    "    print(i)\n",
    "    \n",
    "# 채점 중 1%에서 정지.. 시간 초과 오류?\n",
    "# 조현아 기술코치's help\n",
    "# PyPy는 python3의 속도 문제를 보완하기 위해 만든 프로그램으로, 코딩 테스트시 무조건 적으로 PyPy를 선택하는 것이 유리하다 함"
   ]
  },
  {
   "cell_type": "code",
   "execution_count": null,
   "id": "081d2105-2789-45f4-b95c-4511ddac58e9",
   "metadata": {},
   "outputs": [],
   "source": [
    "import sys\n",
    "n = int(input())\n",
    "l = []\n",
    "\n",
    "for i in range(n):\n",
    "    l.append(int(sys.stdin.readline()))\n",
    "\n",
    "for i in sorted(l):\n",
    "    sys.stdout.write(str(i)+'\\n')"
   ]
  }
 ],
 "metadata": {
  "kernelspec": {
   "display_name": "Python 3",
   "language": "python",
   "name": "python3"
  },
  "language_info": {
   "codemirror_mode": {
    "name": "ipython",
    "version": 3
   },
   "file_extension": ".py",
   "mimetype": "text/x-python",
   "name": "python",
   "nbconvert_exporter": "python",
   "pygments_lexer": "ipython3",
   "version": "3.8.8"
  }
 },
 "nbformat": 4,
 "nbformat_minor": 5
}
