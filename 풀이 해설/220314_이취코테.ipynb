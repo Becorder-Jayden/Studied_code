{
 "cells": [
  {
   "cell_type": "markdown",
   "id": "08884758-a179-46fe-9a19-c7e9daa48ee0",
   "metadata": {},
   "source": [
    "# 2022.03.14"
   ]
  },
  {
   "cell_type": "markdown",
   "id": "872a549a-b897-42d8-9706-a6e41d9ab83f",
   "metadata": {},
   "source": [
    "## 이취코테 예제"
   ]
  },
  {
   "cell_type": "markdown",
   "id": "6190e560-06d2-407a-b210-71d1331382e0",
   "metadata": {},
   "source": [
    "---"
   ]
  },
  {
   "cell_type": "markdown",
   "id": "c01c2f2d-d2d9-4c68-884a-dc6d349eba68",
   "metadata": {},
   "source": [
    "## ch.03 그리디\n",
    "현재 상황에서 가장 좋아 보이는 것만을 선택하는 알고리즘"
   ]
  },
  {
   "cell_type": "markdown",
   "id": "aad4915c-f04d-4302-8309-56bd1502dc99",
   "metadata": {
    "tags": []
   },
   "source": [
    "### 2. 큰 수의 법칙"
   ]
  },
  {
   "cell_type": "code",
   "execution_count": null,
   "id": "a56b2ff2-b187-461b-be30-8d0a7e928dff",
   "metadata": {},
   "outputs": [],
   "source": [
    "# 입력값 중에서 가장 큰 수와 두 번째로 큰 수만 저장해서 사용"
   ]
  },
  {
   "cell_type": "code",
   "execution_count": 6,
   "id": "ccc2fec0-b261-4f68-8eca-00016f0827d2",
   "metadata": {},
   "outputs": [
    {
     "name": "stdin",
     "output_type": "stream",
     "text": [
      " 5 1 3\n",
      " 2 4 5 4 6\n"
     ]
    },
    {
     "name": "stdout",
     "output_type": "stream",
     "text": [
      "6\n"
     ]
    }
   ],
   "source": [
    "# 단순히 푸는 예시\n",
    "\n",
    "# N, M, K를 공백으로 구분하여 입력\n",
    "n, m, k = map(int, input().split())\n",
    "\n",
    "# N개의 수를 공백으로 구분하여 입력\n",
    "data = list(map(int, input().split()))\n",
    "\n",
    "data.sort()  # 입력받은 수들 정렬\n",
    "first = data[n-1]  # 가장 큰 수\n",
    "second = data[n-2]  # 두 번째로 큰 수\n",
    "\n",
    "result = 0\n",
    "\n",
    "while True:\n",
    "    for i in range(k):  # 가장 큰 수를 K번 더하기\n",
    "        if m == 0:  # m이 0이라면 반복문 탈출\n",
    "            break\n",
    "        result += first\n",
    "        m -= 1  # 더할 때마다 1 빼기\n",
    "    if m == 0:  # m이 0이라면 반복문 탈출\n",
    "        break\n",
    "    result += second  # 두 번째로 큰 수를 한 번 더하기\n",
    "    m -= 1  # 더할 때마다 1씩 빼기\n",
    "    \n",
    "print(result)\n",
    "\n",
    "# 5 8 3\n",
    "# 2 4 5 4 6\n",
    "# 46"
   ]
  },
  {
   "cell_type": "code",
   "execution_count": null,
   "id": "221294f8-6f51-4164-ab7b-aa5ccf556179",
   "metadata": {},
   "outputs": [],
   "source": [
    "# 반복되는 수열에 대해 파악"
   ]
  },
  {
   "cell_type": "code",
   "execution_count": 7,
   "id": "f4edcc45-8899-43fc-b017-cc642efe332d",
   "metadata": {},
   "outputs": [
    {
     "name": "stdin",
     "output_type": "stream",
     "text": [
      " 5 8 3\n",
      " 2 4 5 4 6\n"
     ]
    },
    {
     "name": "stdout",
     "output_type": "stream",
     "text": [
      "46\n"
     ]
    }
   ],
   "source": [
    "# 반복되는 수열 이용\n",
    "\n",
    "# N, M, K를 공백으로 구분하여 입력\n",
    "n, m, k = map(int, input().split())\n",
    "\n",
    "# N개의 수를 공백으로 구분하여 입력\n",
    "data = list(map(int, input().split()))\n",
    "\n",
    "data.sort()  # 입력받은 수 정렬\n",
    "first = data[n-1]  # 가장 큰 수 \n",
    "second = data[n-2]  # 두 번째로 큰 수\n",
    "\n",
    "# 가장 큰 수가 더해지는 횟수 계산\n",
    "count = int(m / (k + 1)) * k\n",
    "count += m % (k + 1)\n",
    "\n",
    "result = 0\n",
    "result += (count) * first  # 가장 큰 수 더하기\n",
    "result += (m - count) * second  # 두 번째로 큰 수 더하기\n",
    "\n",
    "print(result)"
   ]
  },
  {
   "cell_type": "markdown",
   "id": "956272dc-be7f-4de2-a207-9bdf882d080a",
   "metadata": {},
   "source": [
    "---"
   ]
  },
  {
   "cell_type": "markdown",
   "id": "3b497524-3a59-47e6-b799-a6ae4c9c2a46",
   "metadata": {},
   "source": [
    "### 3. 숫자 카드 게임"
   ]
  },
  {
   "cell_type": "code",
   "execution_count": 16,
   "id": "91273e97-276a-4046-a46e-970604720d73",
   "metadata": {},
   "outputs": [],
   "source": [
    "# 각 행마다 가장 작은 수를 찾은 뒤에 그 수중에서 가장 큰 수르 찾는 것"
   ]
  },
  {
   "cell_type": "code",
   "execution_count": 14,
   "id": "3c9a678a-b846-4717-952f-1e7ef31fdee8",
   "metadata": {},
   "outputs": [
    {
     "name": "stdin",
     "output_type": "stream",
     "text": [
      " 3 3 \n",
      " 3 1 2\n",
      " 4 1 4\n",
      " 2 2 2\n"
     ]
    },
    {
     "name": "stdout",
     "output_type": "stream",
     "text": [
      "2\n"
     ]
    }
   ],
   "source": [
    "# min() 함수를 이용\n",
    "\n",
    "# N, M을 공백으로 구분하여 입력\n",
    "n, m = map(int, input().split())\n",
    "\n",
    "result = 0\n",
    "\n",
    "# 한 줄 씩 입력받아 확인\n",
    "for i in range(n):\n",
    "    data = list(map(int, input().split()))\n",
    "    \n",
    "    # 현재 줄에서 '가장 작은 수 찾기'\n",
    "    min_value = min(data)\n",
    "    # '가장 작은 수'들 중에서 가장 큰 수 찾기\n",
    "    result = max(result, min_value)\n",
    "print(result)\n",
    "\n",
    "# 3 3 \n",
    "# 3 1 2\n",
    "# 4 1 4\n",
    "# 2 2 2\n",
    "# 2"
   ]
  },
  {
   "cell_type": "code",
   "execution_count": 15,
   "id": "aee14896-fd4c-4531-b89f-8e8d978751bf",
   "metadata": {},
   "outputs": [
    {
     "name": "stdin",
     "output_type": "stream",
     "text": [
      " 3 3\n",
      " 3 1 2\n",
      " 4 1 4\n",
      " 2 2 2\n"
     ]
    },
    {
     "name": "stdout",
     "output_type": "stream",
     "text": [
      "2\n"
     ]
    }
   ],
   "source": [
    "# 2중 반복문 구조 이용\n",
    "\n",
    "n, m = map(int, input().split())\n",
    "\n",
    "result = 0\n",
    "\n",
    "# 한 줄씩 입력받아 확인\n",
    "for i in range(n):\n",
    "    data = list(map(int, input().split()))\n",
    "    # 현재 줄에서 '가장 작은 수' 찾기\n",
    "    min_value = 10001\n",
    "    for a in data:\n",
    "        min_value = min(min_value, a)\n",
    "    # '가장 작은 수'들 중에서 가장 큰 수 찾기\n",
    "    result = max(result, min_value)\n",
    "    \n",
    "print(result)"
   ]
  },
  {
   "cell_type": "markdown",
   "id": "6baabab6-3060-44d3-a529-b29fe14b2861",
   "metadata": {},
   "source": [
    "---"
   ]
  },
  {
   "cell_type": "markdown",
   "id": "dcf78ac1-9458-4da8-9235-0106a9293256",
   "metadata": {},
   "source": [
    "### 4. 1이 될 때까지\n"
   ]
  },
  {
   "cell_type": "code",
   "execution_count": 17,
   "id": "32d95597-6884-4d03-a35b-de8849441505",
   "metadata": {},
   "outputs": [],
   "source": [
    "# 주어진 N에 대하여 '최대한 많이 나누기' 수행"
   ]
  },
  {
   "cell_type": "code",
   "execution_count": 19,
   "id": "2fd9553a-91a1-4f4f-a48e-e2e940f5afc3",
   "metadata": {},
   "outputs": [
    {
     "name": "stdin",
     "output_type": "stream",
     "text": [
      " 25 5\n"
     ]
    },
    {
     "name": "stdout",
     "output_type": "stream",
     "text": [
      "2\n"
     ]
    }
   ],
   "source": [
    "# 단순히 푸는 예시\n",
    "\n",
    "n, k = map(int, input().split())\n",
    "result = 0\n",
    "\n",
    "# N이 K 이상이라면 K로 계속 나누기\n",
    "while n >= k:\n",
    "    # N이 K로 나누어 떨어지지 않는다면 N에서 1씩 빼기\n",
    "    while n % k != 0:\n",
    "        n -= 1\n",
    "        result += 1\n",
    "    # K로 나누기\n",
    "    n //= k\n",
    "    result += 1\n",
    "    \n",
    "# 마지막으로 남은 수에 대하여 1씩 빼기\n",
    "while n > 1:\n",
    "    n -= 1\n",
    "    result += 1\n",
    "    \n",
    "print(result)\n",
    "\n",
    "# 25 5\n",
    "# 2"
   ]
  },
  {
   "cell_type": "code",
   "execution_count": 22,
   "id": "f8456e19-5ed9-4780-b1da-f7e01431add5",
   "metadata": {},
   "outputs": [
    {
     "name": "stdin",
     "output_type": "stream",
     "text": [
      " 25 5 \n"
     ]
    },
    {
     "name": "stdout",
     "output_type": "stream",
     "text": [
      "2\n"
     ]
    }
   ],
   "source": [
    "n, k = map(int, input().split())\n",
    "result = 0\n",
    "\n",
    "while True:\n",
    "    # (N==K 로 나누어 떨어지는 수)가 될 때까지 1씩 빼기\n",
    "    target = (n // k) * k\n",
    "    result += (n - target)\n",
    "    n = target\n",
    "    # N이 K보다 작을 때(더 이상 나눌 수 없을 때) 반복문 탈출\n",
    "    if n < k:\n",
    "        break\n",
    "    # K로 나누기\n",
    "    result += 1\n",
    "    n //= k\n",
    "    \n",
    "# 마지막으로 남은 수에 대하여 1씩 빼기\n",
    "result += (n - 1)\n",
    "print(result)"
   ]
  },
  {
   "cell_type": "markdown",
   "id": "eae2b2f8-ae38-4a02-9efc-adee95937b1d",
   "metadata": {},
   "source": [
    "---"
   ]
  },
  {
   "cell_type": "markdown",
   "id": "318ee76d-73fb-4fad-a8c9-71d152c42101",
   "metadata": {},
   "source": [
    "## ch.04 구현"
   ]
  },
  {
   "cell_type": "code",
   "execution_count": 25,
   "id": "afd961c3-9157-41c3-b15b-f3d99c15751b",
   "metadata": {},
   "outputs": [],
   "source": [
    "# 완전탐색: 모든 경우의 수를 주저 없이 다 계산하는 해결 방법   \n",
    "# 시뮬레이션: 문제에서 제시한 알고리즘을 한 단계씩 차례대로 직접 수행해야 하는 문제 유형"
   ]
  },
  {
   "cell_type": "markdown",
   "id": "11f2bc20-d329-4ae5-a351-efe79deba9b4",
   "metadata": {},
   "source": [
    "### 4-1 상하좌우"
   ]
  },
  {
   "cell_type": "code",
   "execution_count": 26,
   "id": "f277323d-36b4-4771-a292-979e2d02ede1",
   "metadata": {},
   "outputs": [],
   "source": [
    "# 일련의 명령에 따라 개체를 차례대로 이동시킨다는 점에서 시뮬레이션 유형으로 분류, 구현이 중요한 문제 유형"
   ]
  },
  {
   "cell_type": "code",
   "execution_count": 28,
   "id": "d1d678f6-61f8-4921-a0cf-2803cc9da5cc",
   "metadata": {},
   "outputs": [
    {
     "name": "stdin",
     "output_type": "stream",
     "text": [
      " 5\n",
      " R R R U D D\n"
     ]
    },
    {
     "name": "stdout",
     "output_type": "stream",
     "text": [
      "3 4\n"
     ]
    }
   ],
   "source": [
    "n = int(input())\n",
    "x, y = 1, 1\n",
    "plans = input().split()\n",
    "\n",
    "# L, R, U, D에 따른 이동 방향\n",
    "dx = [0, 0, -1, 1]\n",
    "dy = [-1, 1, 0, 0]\n",
    "move_types = ['L', 'R', 'U', 'D']\n",
    "\n",
    "# 이동 계획을 하나씩 확인\n",
    "for plan in plans:\n",
    "    for i in range(len(move_types)):\n",
    "        if plan == move_types[i]:\n",
    "            nx = x + dx[i]\n",
    "            ny = y + dy[i]\n",
    "            \n",
    "    # 공간을 벗어나는 경우 무시\n",
    "    if nx < 1 or ny < 1 or nx > n or ny > n:\n",
    "        continue\n",
    "    # 이동 수행\n",
    "    x, y = nx, ny\n",
    "    \n",
    "print(x, y)\n",
    "    \n",
    "# 5\n",
    "# R R R U D D\n",
    "# 3 4"
   ]
  },
  {
   "cell_type": "markdown",
   "id": "fcd9a156-96b7-45af-bc65-8932b8abd63c",
   "metadata": {},
   "source": [
    "---"
   ]
  },
  {
   "cell_type": "markdown",
   "id": "d15a0a48-8335-424d-ba6b-62e3a1c3c64e",
   "metadata": {},
   "source": [
    "### 4-2 시각"
   ]
  },
  {
   "cell_type": "code",
   "execution_count": 29,
   "id": "1f5e68c3-de67-435a-a6f2-7107b4b35b11",
   "metadata": {},
   "outputs": [],
   "source": [
    "# 완전탐색: 모든 경우의 수가 100,000개가 되지 않으므로 하나씩 세서 풀 수 있다"
   ]
  },
  {
   "cell_type": "code",
   "execution_count": 31,
   "id": "15735bd6-e4fa-452c-a5bd-6bdea2700717",
   "metadata": {},
   "outputs": [
    {
     "name": "stdin",
     "output_type": "stream",
     "text": [
      " 5\n"
     ]
    },
    {
     "name": "stdout",
     "output_type": "stream",
     "text": [
      "11475\n"
     ]
    }
   ],
   "source": [
    "h = int(input())\n",
    "\n",
    "count = 0\n",
    "for i in range(h + 1):\n",
    "    for j in range(60):\n",
    "        for k in range(60):\n",
    "            # 매 시각 안에 '3'이 포함되어 있다면 카운트 증가\n",
    "            if '3' in str(i)+str(j)+str(k):\n",
    "                count += 1\n",
    "\n",
    "print(count)"
   ]
  },
  {
   "cell_type": "markdown",
   "id": "2473122d-b46b-4a07-a08d-bb3940120910",
   "metadata": {},
   "source": [
    "---"
   ]
  },
  {
   "cell_type": "markdown",
   "id": "ffb85d0b-b436-4ebb-846e-2cf7f4c2f067",
   "metadata": {},
   "source": [
    "### 2. 왕실의 나이트"
   ]
  },
  {
   "cell_type": "code",
   "execution_count": 33,
   "id": "d7474d42-ec90-4f52-8034-395848cd2d67",
   "metadata": {},
   "outputs": [],
   "source": [
    "# 4-1 '상하좌우' 문제와 유사하나, 8x8 좌표 평면을 벗어나지 않도록 꼼꼼하게 검사하는 과정 필요"
   ]
  },
  {
   "cell_type": "code",
   "execution_count": 38,
   "id": "dc63dde9-78a4-45c7-9616-ec30c7ca1316",
   "metadata": {},
   "outputs": [],
   "source": [
    "# 상하좌우 문제에서 dx, dy 리스트를 선언하여 이동방향을 기록함, \n",
    "# 이번에는 'steps 변수'가 dx, dy 변수의 기능을 대신하여 수행\n",
    "\n",
    "# 두 가지 모두 자주 사용되므로 참고"
   ]
  },
  {
   "cell_type": "code",
   "execution_count": 37,
   "id": "b6b4139c-3afb-4330-a6dc-85331ba1237e",
   "metadata": {},
   "outputs": [
    {
     "name": "stdin",
     "output_type": "stream",
     "text": [
      " a1\n"
     ]
    },
    {
     "name": "stdout",
     "output_type": "stream",
     "text": [
      "2\n"
     ]
    }
   ],
   "source": [
    "# 현재 나이트의 위치 입력\n",
    "input_data = input()\n",
    "row = int(input_data[1])\n",
    "column = int(ord(input_data[0])) - int(ord('a')) + 1\n",
    "\n",
    "# 나이트가 이동할 수 있는 8가지 방향 정의\n",
    "steps = [(-2, -1), (-1, -2), (1, -2), (2, -1), (2, 1), (1, 2), (-1, 2), (-2, 1)]\n",
    "\n",
    "# 8가지 방향에 대하여 각 위치로 이동이 가능한지 확인\n",
    "result = 0\n",
    "for step in steps:\n",
    "    # 이동하고자 하는 위치 확인\n",
    "    next_row = row + step[0]\n",
    "    next_column = column + step[1]\n",
    "    # 해당 위치로 이동이 가능하면 카운트 증가\n",
    "    if next_row >= 1 and next_row <= 8 and next_column >= 1 and next_column <= 8:\n",
    "        result += 1\n",
    "\n",
    "print(result)"
   ]
  },
  {
   "cell_type": "markdown",
   "id": "2508b600-68e8-4511-bcf5-6ca1f6b198dc",
   "metadata": {},
   "source": [
    "---"
   ]
  },
  {
   "cell_type": "markdown",
   "id": "98ed3e0f-bd26-4116-97a7-032256989af7",
   "metadata": {},
   "source": [
    "### 3. 게임 개발"
   ]
  },
  {
   "cell_type": "code",
   "execution_count": 40,
   "id": "2497d8e0-15ff-4be2-bc66-3fcddc4de3c5",
   "metadata": {},
   "outputs": [],
   "source": [
    "# 전형적인 시뮬레이션 문제, 별도의 알고리즘이 필요하기보다 문제에서 요구하는 애용을 오류 없이 성실하게 구현하면 풀 수 있다\n",
    "\n",
    "# 문제가 길고 문제를 바르게 이해하여 소스코드로 옮기는 과정이 간단하지 않으므로, 반복적인 숙달이 필요\n",
    "\n",
    "# 방향을 설정해서 이동하는 문제 유형에서는 dx, dy라는 별도의 리스트를 만들어 방향을 정하는 것이 효과적"
   ]
  },
  {
   "cell_type": "code",
   "execution_count": 46,
   "id": "a99aa86c-8b85-4a46-8189-0ee4e03dae39",
   "metadata": {},
   "outputs": [
    {
     "name": "stdin",
     "output_type": "stream",
     "text": [
      " 4 4\n",
      " 1 1 0\n",
      " 1 1 1 1\n",
      " 1 0 0 1\n",
      " 1 1 0 1\n",
      " 1 1 1 1\n"
     ]
    },
    {
     "name": "stdout",
     "output_type": "stream",
     "text": [
      "3\n"
     ]
    }
   ],
   "source": [
    "n, m = map(int, input().split())\n",
    "\n",
    "# 방문할 위치를 저장하기 위한 맵을 생성하여 0으로 초기화\n",
    "d = [[0] * m for _ in range(n)]\n",
    "\n",
    "# 현재 캐릭터의 X 좌표, Y 좌표, 방향을 입력받기\n",
    "x, y, direction = map(int, input().split())\n",
    "d[x][y] = 1  # 현재 좌표 방문 처리\n",
    "\n",
    "# 전체 맵 정보를 입력받기\n",
    "array = []\n",
    "for i in range(n):\n",
    "    array.append(list(map(int, input().split())))\n",
    "    \n",
    "# 북, 동, 남, 서 방향 정의\n",
    "dx = [-1, 0, 1, 0]\n",
    "dy = [0, 1, 0, -1]\n",
    "\n",
    "# 왼쪽으로 회전\n",
    "def turn_left():\n",
    "    global direction\n",
    "    direction -= 1\n",
    "    if direction == -1:\n",
    "        direction = 3\n",
    "        \n",
    "# 시뮬레이션 시작\n",
    "count = 1\n",
    "turn_time = 0\n",
    "while True:\n",
    "    # 왼쪽으로 회전\n",
    "    turn_left()\n",
    "    nx = x + dx[direction]\n",
    "    ny = y + dy[direction]\n",
    "    \n",
    "    # 회전한 이후 정면에 가보지 않은 칸이 존재하는 경우 이동\n",
    "    if d[nx][ny] == 0 and array[nx][ny] == 0:\n",
    "        d[nx][ny] = 1\n",
    "        x = nx\n",
    "        y = ny\n",
    "        count += 1\n",
    "        turn_time = 0\n",
    "        continue\n",
    "    \n",
    "    # 회전한 이후 정면에 가보지 않은 칸이 없거나 바다인 경우\n",
    "    else:\n",
    "        turn_time += 1\n",
    "        \n",
    "    # 네 방향 모두 갈 수 없는 경우\n",
    "    if turn_time == 4:\n",
    "        nx = x - dx[direction]\n",
    "        ny = y - dy[direction]\n",
    "        \n",
    "        # 뒤로 갈 수 있다면 이동하기\n",
    "        if array[nx][ny] == 0:\n",
    "            x = nx\n",
    "            y = ny\n",
    "        \n",
    "        # 뒤가 바다로 막혀 있는 경우\n",
    "        else:\n",
    "            break\n",
    "        turn_time = 0\n",
    "        \n",
    "print(count)"
   ]
  },
  {
   "cell_type": "markdown",
   "id": "6a8c1a58-fd09-4b41-9ad7-a1125f57ffda",
   "metadata": {},
   "source": [
    "---"
   ]
  },
  {
   "cell_type": "markdown",
   "id": "c89fd8c4-10a0-4ea8-ba27-c7a865af351e",
   "metadata": {},
   "source": [
    "# ch.05 DFS/BFS\n",
    "그래프를 탐색하기 위한 대표적인 두 가지 알고리즘"
   ]
  },
  {
   "cell_type": "code",
   "execution_count": 49,
   "id": "2376b125-cb4e-4551-a1de-fd36ef386245",
   "metadata": {},
   "outputs": [
    {
     "name": "stdout",
     "output_type": "stream",
     "text": [
      "반복적으로 구현: 120\n",
      "재귀적으로 구현: 120\n"
     ]
    }
   ],
   "source": [
    "# 반복적으로 구현한 n!\n",
    "def factorial_iterative(n):\n",
    "    result = 1\n",
    "    # 1부터 n까지의 수를 차례대로 곱하기\n",
    "    for i in range(1, n+1):\n",
    "        result *= i\n",
    "    return result\n",
    "    \n",
    "# 재귀적으로 구현한 n!\n",
    "def factorial_recursive(n):\n",
    "    if n <= 1:\n",
    "        return 1\n",
    "    # n! = n * (n - 1)!를 그대로 코드로 작성\n",
    "    return n * factorial_recursive(n - 1)\n",
    "\n",
    "print('반복적으로 구현:', factorial_iterative(5))\n",
    "print('재귀적으로 구현:', factorial_recursive(5))"
   ]
  },
  {
   "cell_type": "markdown",
   "id": "a48452b5-4d5d-4524-b0a7-554101e51f6f",
   "metadata": {},
   "source": [
    "---"
   ]
  },
  {
   "cell_type": "markdown",
   "id": "aee9c818-8d24-4b97-9839-3e816c8245a2",
   "metadata": {},
   "source": [
    "## 2. 탐색 알고리즘 DFS/BFS"
   ]
  },
  {
   "cell_type": "code",
   "execution_count": null,
   "id": "fd4ce750-9cad-4548-9859-2eb79792f711",
   "metadata": {},
   "outputs": [],
   "source": []
  }
 ],
 "metadata": {
  "kernelspec": {
   "display_name": "Python 3 (ipykernel)",
   "language": "python",
   "name": "python3"
  },
  "language_info": {
   "codemirror_mode": {
    "name": "ipython",
    "version": 3
   },
   "file_extension": ".py",
   "mimetype": "text/x-python",
   "name": "python",
   "nbconvert_exporter": "python",
   "pygments_lexer": "ipython3",
   "version": "3.8.12"
  }
 },
 "nbformat": 4,
 "nbformat_minor": 5
}
