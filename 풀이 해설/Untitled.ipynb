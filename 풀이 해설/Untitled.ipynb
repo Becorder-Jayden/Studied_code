{
 "cells": [
  {
   "cell_type": "markdown",
   "id": "caba062f-9101-42b8-9f96-4bed64391f6b",
   "metadata": {},
   "source": [
    "# 2022.04.08"
   ]
  },
  {
   "cell_type": "code",
   "execution_count": 1,
   "id": "de2079d4-15cf-4eed-9ba4-6edf63aef053",
   "metadata": {},
   "outputs": [],
   "source": [
    "# 프로그래머스\n",
    "# 여행경로"
   ]
  },
  {
   "cell_type": "code",
   "execution_count": 59,
   "id": "218330c9-2f5b-49f4-aa3a-2964cd882961",
   "metadata": {},
   "outputs": [
    {
     "name": "stdout",
     "output_type": "stream",
     "text": [
      "['SFO', 'ATL', 'ICN', 'ATL', 'SFO', 'ICN']\n"
     ]
    }
   ],
   "source": [
    "from collections import defaultdict\n",
    "\n",
    "# tickets = [[\"ICN\", \"JFK\"], [\"HND\", \"IAD\"], [\"JFK\", \"HND\"]]\n",
    "tickets = [[\"ICN\", \"SFO\"], [\"ICN\", \"ATL\"], [\"SFO\", \"ATL\"], [\"ATL\", \"ICN\"], [\"ATL\",\"SFO\"]]\n",
    "d = defaultdict(list)\n",
    "answer = []\n",
    "for i in tickets:\n",
    "    start, end = i[0], i[1]\n",
    "    d[start].append(end)\n",
    "\n",
    "for key in d.keys():\n",
    "    d[key].sort()\n",
    "    \n",
    "stack = ['ICN']\n",
    "while stack:\n",
    "    temp = stack[-1]\n",
    "    \n",
    "    if not d[temp]:\n",
    "        answer.append(stack.pop())\n",
    "    else:\n",
    "        stack.append(d[temp].pop())\n",
    "print(answer)"
   ]
  },
  {
   "cell_type": "code",
   "execution_count": null,
   "id": "f23fd046-b473-4151-9207-e9fef649d024",
   "metadata": {},
   "outputs": [],
   "source": []
  }
 ],
 "metadata": {
  "kernelspec": {
   "display_name": "Python 3 (ipykernel)",
   "language": "python",
   "name": "python3"
  },
  "language_info": {
   "codemirror_mode": {
    "name": "ipython",
    "version": 3
   },
   "file_extension": ".py",
   "mimetype": "text/x-python",
   "name": "python",
   "nbconvert_exporter": "python",
   "pygments_lexer": "ipython3",
   "version": "3.8.12"
  }
 },
 "nbformat": 4,
 "nbformat_minor": 5
}
