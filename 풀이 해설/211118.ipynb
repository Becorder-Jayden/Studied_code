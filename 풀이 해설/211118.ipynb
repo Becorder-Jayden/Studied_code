{
 "cells": [
  {
   "cell_type": "markdown",
   "id": "47dfb5a8-5177-4485-a0f1-ecd4616cb5bf",
   "metadata": {},
   "source": [
    "# 2021.11.19"
   ]
  },
  {
   "cell_type": "code",
   "execution_count": 1,
   "id": "67eeb077-a244-4762-888a-7c1dc610411a",
   "metadata": {},
   "outputs": [],
   "source": [
    "# Silver IV\n",
    "# 10828 스택"
   ]
  },
  {
   "cell_type": "code",
   "execution_count": 8,
   "id": "42de0b1c-06d6-4e2c-8a43-21832c3fdcb9",
   "metadata": {},
   "outputs": [
    {
     "ename": "SyntaxError",
     "evalue": "unexpected EOF while parsing (Temp/ipykernel_11160/1825335977.py, line 13)",
     "output_type": "error",
     "traceback": [
      "\u001b[1;36m  File \u001b[1;32m\"C:\\Users\\gmkim\\AppData\\Local\\Temp/ipykernel_11160/1825335977.py\"\u001b[1;36m, line \u001b[1;32m13\u001b[0m\n\u001b[1;33m    if command == 'empty':\u001b[0m\n\u001b[1;37m                          ^\u001b[0m\n\u001b[1;31mSyntaxError\u001b[0m\u001b[1;31m:\u001b[0m unexpected EOF while parsing\n"
     ]
    }
   ],
   "source": [
    "N = int(input())\n",
    "stack = []\n",
    "\n",
    "for i in range(N):\n",
    "    command, X = input().split()\n",
    "    if command == 'push':\n",
    "        stack.append(X)\n",
    "        \n",
    "    if command == 'pop':\n",
    "        try : stack.pop()\n",
    "        except : print(-1)\n",
    "    \n",
    "    if command == 'size':\n",
    "        print(len(stack))\n",
    "    \n",
    "    if command == 'empty':\n",
    "        \n",
    "    if command == 'top':\n",
    "\n",
    "# 게시글 참고하여 사용자 정의 함수로 풀어보기"
   ]
  },
  {
   "cell_type": "code",
   "execution_count": null,
   "id": "d6c2ec3b-6d87-40cc-95e9-747191b87bb5",
   "metadata": {
    "tags": []
   },
   "outputs": [],
   "source": [
    "# 참고 : 대학원생이 쉽게 설명해보기\n",
    "# input 사용 시 시간초과\n",
    "# sys.stdin.readline() 사용할 때 시간 초과 해결\n",
    "\n",
    "# 정수 x를 스택에 삽입\n",
    "def push(x):\n",
    "    stack.append(x)\n",
    "\n",
    "# 스택에서 가장 위에 있는 정수를 빼고, 그 수를 출력\n",
    "# 스택에 정수가 없을 경우 -1을 출력\n",
    "def pop():\n",
    "    if not stack:\n",
    "        return -1\n",
    "    else:\n",
    "        return stack.pop()\n",
    "\n",
    "# 스택에 들어있는 정수의 개수 출력\n",
    "def size():\n",
    "    return len(stack)\n",
    "\n",
    "# 스택이 아니면 1, 스택일 때 0 출력\n",
    "def empty():\n",
    "    return 0 if stack else 1\n",
    "\n",
    "# 스택의 가장 위에 있는 정수 출력\n",
    "# 만약 스택에 들어있는 정수가 없을 때 -1 출력\n",
    "def top():\n",
    "    return stack[-1] if stack else -1\n",
    "\n",
    "N = int(input())\n",
    "stack = []\n",
    "\n",
    "for i in range(N):\n",
    "    input_split = input().split()\n",
    "    \n",
    "    order = input_split[0]\n",
    "    \n",
    "    if order == \"push\":\n",
    "        push(input_split[1])\n",
    "    elif order == \"pop\":\n",
    "        print(pop())\n",
    "    elif order == \"size\":\n",
    "        print(size())\n",
    "    elif order == \"empty\":\n",
    "        print(empty())\n",
    "    elif order == \"top\":\n",
    "        print(top())"
   ]
  },
  {
   "cell_type": "code",
   "execution_count": null,
   "id": "7cc9966a-c306-4523-8f4d-5dbad5bd4ade",
   "metadata": {},
   "outputs": [],
   "source": [
    "# 참고 : 코집사\n",
    "# input()을 \n",
    "N = int(input())\n",
    "\n",
    "stack = []\n",
    "\n",
    "for i in range(N):\n",
    "    order, X = input().split()\n",
    "    \n",
    "    if order == \"push\":\n",
    "        stack.append(X)\n",
    "    \n",
    "    elif order == \"pop\":\n",
    "        if len(stack) == 0:\n",
    "            print(-1)\n",
    "        else:\n",
    "            print(stack.pop())\n",
    "    \n",
    "    elif order == \"size\":\n",
    "        print(len(stack))\n",
    "    \n",
    "    elif order == \"empty\":\n",
    "        if len(stack) == 0:\n",
    "            print(1)\n",
    "        else:\n",
    "            print(0)\n",
    "    \n",
    "    elif order == \"top\":\n",
    "        if len(stack) == 0:\n",
    "            print(-1)\n",
    "        else:\n",
    "            print(stack[-1])"
   ]
  },
  {
   "cell_type": "code",
   "execution_count": null,
   "id": "17aa57e1-efb4-4ed4-9b2b-4315e924bb71",
   "metadata": {},
   "outputs": [],
   "source": [
    "import sys\n",
    "\n",
    "N = int(sys.stdin.readline())\n",
    "\n",
    "stack = []\n",
    "\n",
    "for i in range(N):\n",
    "    word = sys.stdin.readline().split()\n",
    "    order = \n",
    "    \n",
    "    if order == \"push\":\n",
    "        stack.append(X)\n",
    "    \n",
    "    elif order == \"pop\":\n",
    "        if len(stack) == 0:\n",
    "            print(-1)\n",
    "        else:\n",
    "            print(stack.pop())\n",
    "    \n",
    "    elif order == \"size\":\n",
    "        print(len(stack))\n",
    "    \n",
    "    elif order == \"empty\":\n",
    "        if len(stack) == 0:\n",
    "            print(1)\n",
    "        else:\n",
    "            print(0)\n",
    "    \n",
    "    elif order == \"top\":\n",
    "        if len(stack) == 0:\n",
    "            print(-1)\n",
    "        else:\n",
    "            print(stack[-1])"
   ]
  }
 ],
 "metadata": {
  "kernelspec": {
   "display_name": "Python 3 (ipykernel)",
   "language": "python",
   "name": "python3"
  },
  "language_info": {
   "codemirror_mode": {
    "name": "ipython",
    "version": 3
   },
   "file_extension": ".py",
   "mimetype": "text/x-python",
   "name": "python",
   "nbconvert_exporter": "python",
   "pygments_lexer": "ipython3",
   "version": "3.8.12"
  }
 },
 "nbformat": 4,
 "nbformat_minor": 5
}
