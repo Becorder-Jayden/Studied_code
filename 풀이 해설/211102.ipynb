{
 "cells": [
  {
   "cell_type": "markdown",
   "id": "a2e98900-d253-40d8-95d1-8f59499afcd8",
   "metadata": {},
   "source": [
    "# 2021. 11. 02 "
   ]
  },
  {
   "cell_type": "markdown",
   "id": "edf65170-b155-4e09-8e12-b37d1da9dc8e",
   "metadata": {
    "tags": []
   },
   "source": [
    "#### Siver V\n",
    "#### # 12871 무한 문자열"
   ]
  },
  {
   "cell_type": "code",
   "execution_count": 102,
   "id": "f2977272-3141-4553-9b83-5ff7153a9a03",
   "metadata": {},
   "outputs": [
    {
     "name": "stdin",
     "output_type": "stream",
     "text": [
      " abc\n",
      " bca\n"
     ]
    },
    {
     "name": "stdout",
     "output_type": "stream",
     "text": [
      "0\n"
     ]
    }
   ],
   "source": [
    "s = input()\n",
    "t = input()\n",
    "\n",
    "lis_s = []\n",
    "lis_t = []\n",
    "\n",
    "# s, t 길이는 50보다 작은 자연수 조건 활용?\n",
    "for i in range(50):\n",
    "    lis_s.append(s)\n",
    "    lis_t.append(t)\n",
    "    \n",
    "lis_s_j = \"\".join(lis_s)[:50]\n",
    "lis_t_j = \"\".join(lis_t)[:50]\n",
    "\n",
    "if lis_s_j == lis_t_j:\n",
    "    print(1)\n",
    "else:\n",
    "    print(0)\n",
    "\n",
    "# 틀렸습니다."
   ]
  },
  {
   "cell_type": "code",
   "execution_count": null,
   "id": "e7ea2cbc-a248-4dc2-9b2a-9a4cf64c252e",
   "metadata": {},
   "outputs": [],
   "source": [
    "# 대근이형 코드\n",
    "# 최소공배수\n",
    "\n",
    "s = input()\n",
    "s = s[1:-1]\n",
    "\n",
    "t = input()\n",
    "t = t[1:-1]\n",
    "\n",
    "print(lent(t)*s)\n",
    "print(len(s)*t)\n",
    "\n",
    "if len(t)*s == len(s)*t:\n",
    "    print(1)\n",
    "else:\n",
    "    print(0)"
   ]
  },
  {
   "cell_type": "markdown",
   "id": "357a5312-0c85-41fa-ae20-acaa46cdb517",
   "metadata": {},
   "source": [
    "---"
   ]
  },
  {
   "cell_type": "markdown",
   "id": "5655391d-37dc-4e96-b182-fa022e4f2a43",
   "metadata": {},
   "source": [
    "### Silver IV\n",
    "### # 1065 한수"
   ]
  },
  {
   "cell_type": "code",
   "execution_count": 100,
   "id": "29ce6869-d976-475d-b9a0-836b4968c814",
   "metadata": {},
   "outputs": [
    {
     "name": "stdin",
     "output_type": "stream",
     "text": [
      " 100\n"
     ]
    },
    {
     "name": "stdout",
     "output_type": "stream",
     "text": [
      "0\n"
     ]
    }
   ],
   "source": [
    "N = int(input())\n",
    "cnt = 0\n",
    "b = 0\n",
    "\n",
    "for i in range(1, N+1):\n",
    "    if N<100:\n",
    "        cnt+=1\n",
    "    \n",
    "    elif N<1000:\n",
    "        if str(N)[1]==i:\n",
    "            cnt+=1\n",
    "            \n",
    "    n = cnt        \n",
    "print(n)"
   ]
  },
  {
   "cell_type": "code",
   "execution_count": 108,
   "id": "ce9304aa-04db-4d26-9b96-75853e15947c",
   "metadata": {},
   "outputs": [
    {
     "name": "stdin",
     "output_type": "stream",
     "text": [
      " abab\n",
      " ab\n"
     ]
    },
    {
     "name": "stdout",
     "output_type": "stream",
     "text": [
      "\n",
      "\n",
      "1\n"
     ]
    }
   ],
   "source": [
    "s = input()\n",
    "s = s[1:-1]\n",
    "\n",
    "t = input()\n",
    "t = t[1:-1]\n",
    "\n",
    "print(len(t)*s)\n",
    "print(len(s)*t)\n",
    "\n",
    "if len(t)*s == len(s)*t:\n",
    "    print(1)\n",
    "else:\n",
    "    print(0)"
   ]
  },
  {
   "cell_type": "markdown",
   "id": "b696d513-d518-4f2d-95b0-ad4a7cbe2b7c",
   "metadata": {},
   "source": [
    "---"
   ]
  },
  {
   "cell_type": "code",
   "execution_count": 7,
   "id": "b84a36ad-279e-4eb3-960b-caa913490b98",
   "metadata": {},
   "outputs": [
    {
     "name": "stdin",
     "output_type": "stream",
     "text": [
      " ab\n",
      " abab\n"
     ]
    },
    {
     "name": "stdout",
     "output_type": "stream",
     "text": [
      "1\n"
     ]
    }
   ],
   "source": [
    "# 재풀이\n",
    "# 12871 무한 문자열\n",
    "\n",
    "s = list(input())\n",
    "t = list(input())\n",
    "\n",
    "if len(s)*t == len(t)*s:\n",
    "    print(1)\n",
    "else:\n",
    "    print(0)"
   ]
  },
  {
   "cell_type": "code",
   "execution_count": 18,
   "id": "90398ade-f0a3-41bc-b793-01c24e44c01d",
   "metadata": {},
   "outputs": [
    {
     "name": "stdin",
     "output_type": "stream",
     "text": [
      " 110\n"
     ]
    },
    {
     "name": "stdout",
     "output_type": "stream",
     "text": [
      "110\n"
     ]
    }
   ],
   "source": [
    "# 재풀이\n",
    "# 1065 한수\n",
    "\n",
    "N = int(input())\n",
    "cnt = 0\n",
    "\n",
    "for i in range(N):\n",
    "    if N<100:\n",
    "        cnt+=1\n",
    "    if 100<=N:\n",
    "        if (int(s_N[0]) - int(s_N[1])) == (int(s_N[1]) - int(s_N[2])):\n",
    "            cnt+=1\n",
    "print(cnt)"
   ]
  },
  {
   "cell_type": "code",
   "execution_count": 15,
   "id": "15142c52-b87f-409b-9f55-0db036fa9519",
   "metadata": {},
   "outputs": [
    {
     "name": "stdout",
     "output_type": "stream",
     "text": [
      "1\n"
     ]
    }
   ],
   "source": [
    "N = 123\n",
    "s_N = str(N)\n",
    "if 100<=N:\n",
    "    if (int(s_N[0]) - int(s_N[1])) == (int(s_N[1]) - int(s_N[2])):\n",
    "        print(1)\n",
    "    else:\n",
    "        print(0)"
   ]
  }
 ],
 "metadata": {
  "kernelspec": {
   "display_name": "Python 3 (ipykernel)",
   "language": "python",
   "name": "python3"
  },
  "language_info": {
   "codemirror_mode": {
    "name": "ipython",
    "version": 3
   },
   "file_extension": ".py",
   "mimetype": "text/x-python",
   "name": "python",
   "nbconvert_exporter": "python",
   "pygments_lexer": "ipython3",
   "version": "3.8.12"
  }
 },
 "nbformat": 4,
 "nbformat_minor": 5
}
