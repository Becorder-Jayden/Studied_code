{
 "cells": [
  {
   "cell_type": "markdown",
   "id": "5454a63d-9e5c-4f1b-ace3-6400eb512fdb",
   "metadata": {},
   "source": [
    "# 2022.02.28"
   ]
  },
  {
   "cell_type": "code",
   "execution_count": 2,
   "id": "2a20dd9d-b71c-4ecc-bdc3-c3aadd0825e3",
   "metadata": {},
   "outputs": [],
   "source": [
    "# Bronze III\n",
    "# 3053 택시 기하학"
   ]
  },
  {
   "cell_type": "code",
   "execution_count": 25,
   "id": "19f34f4a-ced7-483c-b5c7-17a9af89eae3",
   "metadata": {},
   "outputs": [
    {
     "name": "stdin",
     "output_type": "stream",
     "text": [
      " 42\n"
     ]
    },
    {
     "name": "stdout",
     "output_type": "stream",
     "text": [
      "5541.769441\n",
      "3528.000000\n"
     ]
    }
   ],
   "source": [
    "import math\n",
    "\n",
    "R = int(input())\n",
    "print('{:.6f}'.format(math.pi*R**2, 6))\n",
    "print('{:.6f}'.format(2*R**2))"
   ]
  },
  {
   "cell_type": "markdown",
   "id": "14dabf98-7205-4255-bc0f-70b6d205e7e3",
   "metadata": {},
   "source": [
    "---"
   ]
  },
  {
   "cell_type": "code",
   "execution_count": 26,
   "id": "25d4a1f2-069a-4a52-b045-2717717e797b",
   "metadata": {},
   "outputs": [],
   "source": [
    "# Silver I\n",
    "# 2447 별 찍기 - 10"
   ]
  },
  {
   "cell_type": "code",
   "execution_count": 58,
   "id": "5ed29741-20da-4514-85e4-57e40042cd67",
   "metadata": {},
   "outputs": [
    {
     "name": "stdin",
     "output_type": "stream",
     "text": [
      " 9\n"
     ]
    },
    {
     "name": "stdout",
     "output_type": "stream",
     "text": [
      "['*', '*', '*', '*', '*', '*', '*', '*', '*']\n",
      "['*', '0', '*', '*', '*', '*', '*', '*', '*']\n",
      "['*', '*', '*', '*', '*', '*', '*', '*', '*']\n",
      "['*', '*', '*', '0', '0', '0', '*', '*', '*']\n",
      "['*', '*', '*', '0', '0', '0', '*', '*', '*']\n",
      "['*', '*', '*', '0', '0', '0', '*', '*', '*']\n",
      "['*', '*', '*', '*', '*', '*', '*', '*', '*']\n",
      "['*', '*', '*', '*', '*', '*', '*', '*', '*']\n",
      "['*', '*', '*', '*', '*', '*', '*', '*', '*']\n"
     ]
    }
   ],
   "source": [
    "N = int(input())\n",
    "\n",
    "li = [['*'] * N for i in range(N)]\n",
    "\n",
    "def d(n):\n",
    "    while n != 1:\n",
    "        for i in range(n//3, 2*n//3):\n",
    "            for j in range(n//3, 2*n//3):\n",
    "                li[i][j] = '0'\n",
    "        return d(n//3)\n",
    "\n",
    "d(N)\n",
    "for i in li:\n",
    "    print(i)"
   ]
  },
  {
   "cell_type": "code",
   "execution_count": null,
   "id": "5bff6cb8-cf10-428b-84b7-8ec233725de2",
   "metadata": {},
   "outputs": [],
   "source": []
  }
 ],
 "metadata": {
  "kernelspec": {
   "display_name": "Python 3 (ipykernel)",
   "language": "python",
   "name": "python3"
  },
  "language_info": {
   "codemirror_mode": {
    "name": "ipython",
    "version": 3
   },
   "file_extension": ".py",
   "mimetype": "text/x-python",
   "name": "python",
   "nbconvert_exporter": "python",
   "pygments_lexer": "ipython3",
   "version": "3.8.12"
  }
 },
 "nbformat": 4,
 "nbformat_minor": 5
}
