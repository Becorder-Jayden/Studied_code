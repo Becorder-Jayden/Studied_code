{
 "cells": [
  {
   "cell_type": "markdown",
   "id": "e06b2700-115f-4847-a3ef-2b8a9c6c491a",
   "metadata": {},
   "source": [
    "# 2022.03.13"
   ]
  },
  {
   "cell_type": "code",
   "execution_count": 1,
   "id": "266cd80f-bf57-48fc-8515-e0ff98b83f57",
   "metadata": {},
   "outputs": [],
   "source": [
    "# programmers\n",
    "# lv.2 기능개발"
   ]
  },
  {
   "cell_type": "code",
   "execution_count": 79,
   "id": "986f6e2f-04c5-46e5-9c6f-bffc13759215",
   "metadata": {},
   "outputs": [
    {
     "name": "stdout",
     "output_type": "stream",
     "text": [
      "[3, 2]\n"
     ]
    }
   ],
   "source": [
    "# TEST CASE\n",
    "p = [93, 93, 30, 20, 55]\n",
    "s = [1, 1, 30, 10, 5]\n",
    "\n",
    "# p = [95, 90, 99, 99, 80, 99]\n",
    "# s = [1, 1, 1, 1, 1, 1]\n",
    "\n",
    "# CODE\n",
    "from collections import deque\n",
    "\n",
    "def solution(p, s):\n",
    "    answer = []\n",
    "    p = deque(p)\n",
    "\n",
    "    while len(p) > 0:\n",
    "        cnt = 0\n",
    "        while p[0] < 100:\n",
    "            for i in range(len(p)):\n",
    "                p[i] += s[i]\n",
    "\n",
    "        while len(p) > 0 and p[0] >= 100:\n",
    "            p.popleft()\n",
    "            cnt += 1\n",
    "\n",
    "        answer.append(cnt)\n",
    "    return answer\n",
    "\n",
    "print(solution(p, s))    \n",
    "    "
   ]
  },
  {
   "cell_type": "code",
   "execution_count": 7,
   "id": "361d866f-a528-44ba-8cd6-e80b3ec6cf82",
   "metadata": {},
   "outputs": [
    {
     "name": "stdout",
     "output_type": "stream",
     "text": [
      "[93, 30, 55, 1, 30, 5]\n"
     ]
    }
   ],
   "source": [
    "# 왜 오류임?\n",
    "from collections import deque\n",
    "\n",
    "def solution(progresses, speeds):\n",
    "    answer = []\n",
    "    progresses = deque(progresses)\n",
    "    while len(progresses) > 0:\n",
    "        cnt = 0\n",
    "        while progresses[0] < 100:\n",
    "            for i in range(len(progresses)):\n",
    "                progresses[i] += speeds[i]\n",
    "        \n",
    "        while len(progresses) >= 0 and progresses[0] >= 100:\n",
    "            progresses.popleft()\n",
    "            cnt += 1\n",
    "        \n",
    "        answer.append(cnt)\n",
    "\n",
    "    return answer"
   ]
  },
  {
   "cell_type": "code",
   "execution_count": null,
   "id": "509cce41-eef4-4f07-9837-a88b67f3c2b7",
   "metadata": {},
   "outputs": [],
   "source": []
  }
 ],
 "metadata": {
  "kernelspec": {
   "display_name": "Python 3 (ipykernel)",
   "language": "python",
   "name": "python3"
  },
  "language_info": {
   "codemirror_mode": {
    "name": "ipython",
    "version": 3
   },
   "file_extension": ".py",
   "mimetype": "text/x-python",
   "name": "python",
   "nbconvert_exporter": "python",
   "pygments_lexer": "ipython3",
   "version": "3.8.12"
  }
 },
 "nbformat": 4,
 "nbformat_minor": 5
}
