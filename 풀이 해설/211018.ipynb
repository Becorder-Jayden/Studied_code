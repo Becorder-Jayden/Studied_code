{
 "cells": [
  {
   "cell_type": "markdown",
   "id": "47d146ff-c0e6-4178-9254-3f661999d3af",
   "metadata": {},
   "source": [
    "## 2021.10.18"
   ]
  },
  {
   "cell_type": "code",
   "execution_count": null,
   "id": "ca590edc-e55b-433b-812f-efdf4f1e2119",
   "metadata": {},
   "outputs": [],
   "source": [
    "# 4344 평균은 넘겠지 - 숙제 \n",
    "\n",
    "n = int(input())\n",
    "\n",
    "for i in range(n):\n",
    "    num = list(map(int, input().split()))\n",
    "    h = num[0]\n",
    "    s = sum(num) - h\n",
    "    su = s/h\n",
    "    \n",
    "    cnt = len(num)-1\n",
    "    print(cnt-1)"
   ]
  },
  {
   "cell_type": "code",
   "execution_count": null,
   "id": "ce3326a8-f430-4dc9-b262-27b6e3f05f10",
   "metadata": {},
   "outputs": [],
   "source": [
    "# bronze 1\n",
    "# 2750 수 정렬하기\n",
    "\n",
    "# step 1\n",
    "n = int(input())\n",
    "\n",
    "for i in range(n):\n",
    "    text = input()\n",
    "    \n",
    "    if len(set(list(text)))==len(list(text)):\n",
    "        print('글자가 모두 다른 입력값')\n",
    "    \n",
    "    else: # 글자가 2개 이상 동일한 입력값\n",
    "        print('글자가 2개 이상 동일한 입력값')\n",
    "    "
   ]
  },
  {
   "cell_type": "code",
   "execution_count": null,
   "id": "21f09321-a587-4fea-83bd-36223b03e526",
   "metadata": {},
   "outputs": [],
   "source": []
  },
  {
   "cell_type": "code",
   "execution_count": null,
   "id": "4c9961ce-23fa-40a3-b3e1-bab8a881d94f",
   "metadata": {},
   "outputs": [],
   "source": []
  }
 ],
 "metadata": {
  "kernelspec": {
   "display_name": "Python 3",
   "language": "python",
   "name": "python3"
  },
  "language_info": {
   "codemirror_mode": {
    "name": "ipython",
    "version": 3
   },
   "file_extension": ".py",
   "mimetype": "text/x-python",
   "name": "python",
   "nbconvert_exporter": "python",
   "pygments_lexer": "ipython3",
   "version": "3.8.8"
  }
 },
 "nbformat": 4,
 "nbformat_minor": 5
}
