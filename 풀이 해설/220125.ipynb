{
 "cells": [
  {
   "cell_type": "markdown",
   "id": "c224a015-fde8-4213-b9f3-f941d561b801",
   "metadata": {},
   "source": [
    "# 2022.01.25"
   ]
  },
  {
   "cell_type": "code",
   "execution_count": 1,
   "id": "84776fb2-fb69-44e4-be43-ef6b206b856b",
   "metadata": {},
   "outputs": [],
   "source": [
    "# Silver III\n",
    "# 14889 스타트와 링크_모르겠다..."
   ]
  },
  {
   "cell_type": "code",
   "execution_count": 30,
   "id": "0c0ea015-15fd-49ef-8eed-b64877fc253d",
   "metadata": {},
   "outputs": [
    {
     "name": "stdin",
     "output_type": "stream",
     "text": [
      " 5\n"
     ]
    },
    {
     "name": "stdout",
     "output_type": "stream",
     "text": [
      "[]\n"
     ]
    }
   ],
   "source": [
    "N = int(input())\n",
    "team_1 = []\n",
    "team_2 = []\n",
    "# graph = []\n",
    "\n",
    "# for i in range(N):\n",
    "#     arr = list(map(int, input().split()))\n",
    "#     graph.append(arr)\n",
    "    \n",
    "def dfs(start, seq): \n",
    "    if len(seq)==N//2:\n",
    "        team_1 = ' '.join(list(map(str, seq)))\n",
    "        return\n",
    "    \n",
    "    for i in range(1, N+1):\n",
    "        if i not in seq:\n",
    "            seq.append(i)\n",
    "            dfs(start+1, seq)\n",
    "            seq.pop()\n",
    "\n",
    "dfs(1, [])\n",
    "print(team_1)"
   ]
  },
  {
   "cell_type": "code",
   "execution_count": 52,
   "id": "353d2351-6699-42bd-a5db-b7c9e8309cce",
   "metadata": {},
   "outputs": [
    {
     "name": "stdin",
     "output_type": "stream",
     "text": [
      " 8\n",
      " 0 5 4 5 4 5 4 5\n",
      " 4 0 5 1 2 3 4 5\n",
      " 9 8 0 1 2 3 1 2\n",
      " 9 9 9 0 9 9 9 9\n",
      " 1 1 1 1 0 1 1 1\n",
      " 8 7 6 5 4 0 3 2\n",
      " 9 1 9 1 9 1 0 9\n",
      " 6 5 4 3 2 1 9 0\n"
     ]
    },
    {
     "name": "stdout",
     "output_type": "stream",
     "text": [
      "0\n"
     ]
    }
   ],
   "source": [
    "from itertools import combinations\n",
    "\n",
    "N = int(input())\n",
    "table = [list(map(int, input().split())) for i in range(N)]\n",
    "answer = 0\n",
    "\n",
    "members = combinations(range(N), N//2)\n",
    "\n",
    "for member in members:\n",
    "    a = set(member)\n",
    "    b = list(set(range(N)) - a)\n",
    "    a = list(a)\n",
    "    \n",
    "    start, link = 0, 0\n",
    "    for i in range(N//2 - 1):\n",
    "        for j in range(i+1, N//2):\n",
    "            start += table[a[i]][a[j]] + table[a[j]][a[i]]\n",
    "            link += table[b[i]][b[j]] + table[b[j]][b[i]]\n",
    "    answer = min(answer, abs(start - link))\n",
    "                 \n",
    "print(answer)"
   ]
  },
  {
   "cell_type": "code",
   "execution_count": null,
   "id": "f2cd6558-94c8-4321-be42-c660c7e8ab3e",
   "metadata": {},
   "outputs": [],
   "source": [
    "from itertools import combinations as c\n",
    "\n",
    "n = int(input())\n",
    "array = [i for i in range(n)]\n",
    "matrix = []\n",
    "for _ in range(n):\n",
    "    matrix.append((list(map(int, input().split()))))\n",
    "result = int(1e9)\n",
    "for r1 in c(array, n//2):\n",
    "    start, link = 0, 0\n",
    "    r2 = list(set(array) - set(r1))\n",
    "    for r in c(r1, 2):\n",
    "        start += matrix[r[0]][r[1]]\n",
    "        start += matrix[r[1]][r[0]]\n",
    "    for r in c(r2, 2):\n",
    "        link += matrix[r[0]][r[1]]\n",
    "        link += matrix[r[1]][r[0]]\n",
    "    result = min(result, abs(start-link))\n",
    "print(result)"
   ]
  },
  {
   "cell_type": "code",
   "execution_count": null,
   "id": "81eebdec-630a-43b5-b3a9-12744074d14e",
   "metadata": {},
   "outputs": [],
   "source": []
  }
 ],
 "metadata": {
  "kernelspec": {
   "display_name": "Python 3 (ipykernel)",
   "language": "python",
   "name": "python3"
  },
  "language_info": {
   "codemirror_mode": {
    "name": "ipython",
    "version": 3
   },
   "file_extension": ".py",
   "mimetype": "text/x-python",
   "name": "python",
   "nbconvert_exporter": "python",
   "pygments_lexer": "ipython3",
   "version": "3.8.12"
  }
 },
 "nbformat": 4,
 "nbformat_minor": 5
}
