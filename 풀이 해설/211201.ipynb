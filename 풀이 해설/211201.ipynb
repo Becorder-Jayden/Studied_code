{
 "cells": [
  {
   "cell_type": "markdown",
   "id": "84730e25-61cf-43f2-a815-59b8ddc8fffa",
   "metadata": {},
   "source": [
    "# 2021.12.01"
   ]
  },
  {
   "cell_type": "code",
   "execution_count": 1,
   "id": "a5254de4-1eef-4f4f-a811-2bbe413d5b70",
   "metadata": {},
   "outputs": [],
   "source": [
    "# Silver II\n",
    "# 1929 소수 구하기"
   ]
  },
  {
   "cell_type": "code",
   "execution_count": 33,
   "id": "23e2b648-22f8-4a80-a43c-0984447178e0",
   "metadata": {},
   "outputs": [
    {
     "name": "stdin",
     "output_type": "stream",
     "text": [
      " 3 16\n"
     ]
    },
    {
     "name": "stdout",
     "output_type": "stream",
     "text": [
      "3\n",
      "5\n",
      "7\n",
      "11\n",
      "13\n"
     ]
    }
   ],
   "source": [
    "# 시간 초과(sys 적용 시)\n",
    "M, N = map(int, input().split())\n",
    "\n",
    "# 약수가 2개인 값 찾기\n",
    "for i in range(M, N+1):\n",
    "    space = []\n",
    "    for j in range(1, i):\n",
    "        if i%j == 0:\n",
    "            space.append(i)\n",
    "    if len(space) == 1:\n",
    "        print(i)"
   ]
  },
  {
   "cell_type": "code",
   "execution_count": 37,
   "id": "1007147e-00b6-49dd-88cf-87f3e77b5314",
   "metadata": {},
   "outputs": [
    {
     "name": "stdin",
     "output_type": "stream",
     "text": [
      " 3 16\n"
     ]
    },
    {
     "name": "stdout",
     "output_type": "stream",
     "text": [
      "3\n",
      "5\n",
      "7\n",
      "11\n",
      "13\n"
     ]
    }
   ],
   "source": [
    "# 함수 정의로 풀이?\n",
    "def prime(M, N):\n",
    "    for i in range(M, N+1):\n",
    "        space = []\n",
    "        for j in range(1, i):\n",
    "            if i%j==0:\n",
    "                space.append(i)\n",
    "        if len(space) == 1:\n",
    "            print(i)\n",
    "            \n",
    "M, N = map(int, input().split())\n",
    "prime(M, N)"
   ]
  },
  {
   "cell_type": "markdown",
   "id": "6a73205a-bc05-4d6e-85cf-2276b0261971",
   "metadata": {},
   "source": [
    "### 에라토스테네스의 체\n",
    "1. 1은 제거\n",
    "2. 지워지지 않은 수 중 제일 작은 2를 소수로 채택, 나머지 2의 배수를 모두 지운다\n",
    "3. 지워지지 않은 수 중 제일 작은 3을 소수로 채택, 나머지 3의 배수를 모두 지운다.\n",
    "4. 반복"
   ]
  },
  {
   "cell_type": "code",
   "execution_count": null,
   "id": "9843ce1e-c6da-4b0f-a82d-11162dca71c9",
   "metadata": {},
   "outputs": [],
   "source": [
    "# 구글링 참고\n",
    "# 에라토스테네스의 체 사용\n",
    "\n",
    "def prime(num):\n",
    "    if num == 1:\n",
    "        return False\n",
    "    else:\n",
    "        for i in range(2, num):\n",
    "            "
   ]
  },
  {
   "cell_type": "markdown",
   "id": "a11cb2af-9bbb-4550-88fa-7637f8986fe5",
   "metadata": {},
   "source": [
    "합성수를 가정해서 풀이하고, 가정이 아닐경우 소수로 풀이 한다  \n",
    "합성수 n = k*l로 정의했을 때   \n",
    "1 <= k^2 <= k*l = n   \n",
    "각 항에 루트를 씌웠을 때   \n",
    "1 <= k <= k*l**0.5 = n**0.5   \n",
    "정리하자면    \n",
    "1 <= k <= n**0.5 사이의 값만 체크해도 된다   \n",
    "→ 코드의 복잡도를 낮출 수 있다"
   ]
  },
  {
   "cell_type": "code",
   "execution_count": null,
   "id": "9985748e-de7c-494c-a4e8-ce5071c53e67",
   "metadata": {},
   "outputs": [],
   "source": []
  }
 ],
 "metadata": {
  "kernelspec": {
   "display_name": "Python 3 (ipykernel)",
   "language": "python",
   "name": "python3"
  },
  "language_info": {
   "codemirror_mode": {
    "name": "ipython",
    "version": 3
   },
   "file_extension": ".py",
   "mimetype": "text/x-python",
   "name": "python",
   "nbconvert_exporter": "python",
   "pygments_lexer": "ipython3",
   "version": "3.8.12"
  }
 },
 "nbformat": 4,
 "nbformat_minor": 5
}
