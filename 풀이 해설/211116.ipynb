{
 "cells": [
  {
   "cell_type": "markdown",
   "id": "98104f4f-0284-4dc6-8c19-513e59e5af58",
   "metadata": {},
   "source": [
    "# 2021.11.16"
   ]
  },
  {
   "cell_type": "code",
   "execution_count": 1,
   "id": "72c990cc-aa3e-428e-aea2-c78e0775e884",
   "metadata": {},
   "outputs": [],
   "source": [
    "# Bronze II\n",
    "# 10807 개수 세기"
   ]
  },
  {
   "cell_type": "code",
   "execution_count": 5,
   "id": "d7c8db7d-c018-487c-90d4-4f49abd0ed72",
   "metadata": {},
   "outputs": [
    {
     "name": "stdin",
     "output_type": "stream",
     "text": [
      " 11\n",
      " 1 4 1 2 4 2 4 2 3 4 4\n",
      " 2\n"
     ]
    },
    {
     "name": "stdout",
     "output_type": "stream",
     "text": [
      "3\n"
     ]
    }
   ],
   "source": [
    "N = int(input())\n",
    "l = list(map(int, input().split()))\n",
    "v = int(input())\n",
    "cnt = 0\n",
    "for i in l:\n",
    "    if i == v:\n",
    "        cnt += 1\n",
    "print(cnt)"
   ]
  },
  {
   "cell_type": "markdown",
   "id": "5c6b1b9d-86e7-421b-ae3d-192f06e58441",
   "metadata": {},
   "source": [
    "---"
   ]
  },
  {
   "cell_type": "code",
   "execution_count": 6,
   "id": "b09dce3e-8e02-4c46-ad18-28f1e738f051",
   "metadata": {},
   "outputs": [],
   "source": [
    "# Bronze II\n",
    "# 10808 알파벳 개수"
   ]
  },
  {
   "cell_type": "code",
   "execution_count": 26,
   "id": "29e49f06-c0b5-48a5-8a80-3dcbdaaebc71",
   "metadata": {},
   "outputs": [
    {
     "name": "stdin",
     "output_type": "stream",
     "text": [
      " baekjoon\n"
     ]
    },
    {
     "name": "stdout",
     "output_type": "stream",
     "text": [
      "1 1 0 0 1 0 0 0 0 1 1 0 0 1 2 0 0 0 0 0 0 0 0 0 0 0 "
     ]
    }
   ],
   "source": [
    "# 런타임 에러\n",
    "S = list(str(input()))\n",
    "lower = [i for i in string.ascii_lowercase]\n",
    "\n",
    "for i in lower:\n",
    "    print(S.count(i), end=' ')"
   ]
  },
  {
   "cell_type": "code",
   "execution_count": 27,
   "id": "43ab4379-1f3e-4504-ae0a-48a48ee37a78",
   "metadata": {},
   "outputs": [
    {
     "name": "stdin",
     "output_type": "stream",
     "text": [
      " baekjoon\n"
     ]
    },
    {
     "name": "stdout",
     "output_type": "stream",
     "text": [
      "1 1 0 0 1 0 0 0 0 1 1 0 0 1 2 0 0 0 0 0 0 0 0 0 0 0 "
     ]
    }
   ],
   "source": [
    "# 정답_Q.알파벳 소문자를 일일이 입력하지 않는 방법이 있나?\n",
    "# A.아스키코드 이용\n",
    "\n",
    "S = list(str(input()))\n",
    "lower = ['a','b','c','d','e','f','g','h','i','j','k','l','m','n','o','p','q','r','s','t','u','v','w','x','y','z']\n",
    "\n",
    "for i in lower:\n",
    "    print(S.count(i), end=' ')"
   ]
  },
  {
   "cell_type": "markdown",
   "id": "76e7b9ec-d4bf-43f0-9df7-682b6110f6ce",
   "metadata": {},
   "source": [
    "---"
   ]
  },
  {
   "cell_type": "code",
   "execution_count": 28,
   "id": "6edbbf95-e974-4c00-a092-09cb14f41d83",
   "metadata": {},
   "outputs": [],
   "source": [
    "# Bronze II\n",
    "# 2577 숫자의 개수"
   ]
  },
  {
   "cell_type": "code",
   "execution_count": 37,
   "id": "2473b173-aacf-4ab7-a0a7-19c4db2c39ce",
   "metadata": {},
   "outputs": [
    {
     "name": "stdin",
     "output_type": "stream",
     "text": [
      " 150\n",
      " 266\n",
      " 427\n"
     ]
    },
    {
     "name": "stdout",
     "output_type": "stream",
     "text": [
      "['1', '7', '0', '3', '7', '3', '0', '0']\n",
      "3\n",
      "1\n",
      "0\n",
      "2\n",
      "0\n",
      "0\n",
      "0\n",
      "2\n",
      "0\n",
      "0\n"
     ]
    }
   ],
   "source": [
    "A = int(input())\n",
    "B = int(input())\n",
    "C = int(input())\n",
    "ran = range(0, 10)\n",
    "\n",
    "num = list(str(A*B*C))\n",
    "\n",
    "for i in range(0, 10):\n",
    "    print(num.count(str(i)))"
   ]
  },
  {
   "cell_type": "markdown",
   "id": "f0a636ef-2a1d-4afc-9ba3-1ea928fd1f7b",
   "metadata": {},
   "source": [
    "---"
   ]
  },
  {
   "cell_type": "code",
   "execution_count": 38,
   "id": "de6eddc4-1f3b-455b-b5be-6f0675519888",
   "metadata": {},
   "outputs": [],
   "source": [
    "# Bronze II\n",
    "# 방 배정"
   ]
  },
  {
   "cell_type": "code",
   "execution_count": 51,
   "id": "b37e5a98-da4a-4aa3-86e0-03ab3c35068a",
   "metadata": {},
   "outputs": [
    {
     "name": "stdin",
     "output_type": "stream",
     "text": [
      " 16 2\n",
      " 1 1\n"
     ]
    },
    {
     "name": "stdout",
     "output_type": "stream",
     "text": [
      "[[1, 1]]\n"
     ]
    },
    {
     "name": "stdin",
     "output_type": "stream",
     "text": [
      " 0 1 \n"
     ]
    },
    {
     "name": "stdout",
     "output_type": "stream",
     "text": [
      "[[1, 1], [0, 1]]\n"
     ]
    },
    {
     "name": "stdin",
     "output_type": "stream",
     "text": [
      " 1 1\n"
     ]
    },
    {
     "name": "stdout",
     "output_type": "stream",
     "text": [
      "[[1, 1], [0, 1], [1, 1]]\n"
     ]
    },
    {
     "name": "stdin",
     "output_type": "stream",
     "text": [
      " 0 2\n"
     ]
    },
    {
     "name": "stdout",
     "output_type": "stream",
     "text": [
      "[[1, 1], [0, 1], [1, 1], [0, 2]]\n"
     ]
    },
    {
     "name": "stdin",
     "output_type": "stream",
     "text": [
      " 1 2\n"
     ]
    },
    {
     "name": "stdout",
     "output_type": "stream",
     "text": [
      "[[1, 1], [0, 1], [1, 1], [0, 2], [1, 2]]\n"
     ]
    },
    {
     "name": "stdin",
     "output_type": "stream",
     "text": [
      " 0 2\n"
     ]
    },
    {
     "name": "stdout",
     "output_type": "stream",
     "text": [
      "[[1, 1], [0, 1], [1, 1], [0, 2], [1, 2], [0, 2]]\n"
     ]
    },
    {
     "name": "stdin",
     "output_type": "stream",
     "text": [
      " 0 3\n"
     ]
    },
    {
     "name": "stdout",
     "output_type": "stream",
     "text": [
      "[[1, 1], [0, 1], [1, 1], [0, 2], [1, 2], [0, 2], [0, 3]]\n"
     ]
    },
    {
     "name": "stdin",
     "output_type": "stream",
     "text": [
      " 1 3\n"
     ]
    },
    {
     "name": "stdout",
     "output_type": "stream",
     "text": [
      "[[1, 1], [0, 1], [1, 1], [0, 2], [1, 2], [0, 2], [0, 3], [1, 3]]\n"
     ]
    },
    {
     "name": "stdin",
     "output_type": "stream",
     "text": [
      " 1 4\n"
     ]
    },
    {
     "name": "stdout",
     "output_type": "stream",
     "text": [
      "[[1, 1], [0, 1], [1, 1], [0, 2], [1, 2], [0, 2], [0, 3], [1, 3], [1, 4]]\n"
     ]
    },
    {
     "name": "stdin",
     "output_type": "stream",
     "text": [
      " 1 3\n"
     ]
    },
    {
     "name": "stdout",
     "output_type": "stream",
     "text": [
      "[[1, 1], [0, 1], [1, 1], [0, 2], [1, 2], [0, 2], [0, 3], [1, 3], [1, 4], [1, 3]]\n"
     ]
    },
    {
     "name": "stdin",
     "output_type": "stream",
     "text": [
      " 1 3\n"
     ]
    },
    {
     "name": "stdout",
     "output_type": "stream",
     "text": [
      "[[1, 1], [0, 1], [1, 1], [0, 2], [1, 2], [0, 2], [0, 3], [1, 3], [1, 4], [1, 3], [1, 3]]\n"
     ]
    },
    {
     "name": "stdin",
     "output_type": "stream",
     "text": [
      " 0 6\n"
     ]
    },
    {
     "name": "stdout",
     "output_type": "stream",
     "text": [
      "[[1, 1], [0, 1], [1, 1], [0, 2], [1, 2], [0, 2], [0, 3], [1, 3], [1, 4], [1, 3], [1, 3], [0, 6]]\n"
     ]
    },
    {
     "name": "stdin",
     "output_type": "stream",
     "text": [
      " 1 5\n"
     ]
    },
    {
     "name": "stdout",
     "output_type": "stream",
     "text": [
      "[[1, 1], [0, 1], [1, 1], [0, 2], [1, 2], [0, 2], [0, 3], [1, 3], [1, 4], [1, 3], [1, 3], [0, 6], [1, 5]]\n"
     ]
    },
    {
     "name": "stdin",
     "output_type": "stream",
     "text": [
      " 0 5\n"
     ]
    },
    {
     "name": "stdout",
     "output_type": "stream",
     "text": [
      "[[1, 1], [0, 1], [1, 1], [0, 2], [1, 2], [0, 2], [0, 3], [1, 3], [1, 4], [1, 3], [1, 3], [0, 6], [1, 5], [0, 5]]\n"
     ]
    },
    {
     "name": "stdin",
     "output_type": "stream",
     "text": [
      " 1 5\n"
     ]
    },
    {
     "name": "stdout",
     "output_type": "stream",
     "text": [
      "[[1, 1], [0, 1], [1, 1], [0, 2], [1, 2], [0, 2], [0, 3], [1, 3], [1, 4], [1, 3], [1, 3], [0, 6], [1, 5], [0, 5], [1, 5]]\n"
     ]
    },
    {
     "name": "stdin",
     "output_type": "stream",
     "text": [
      " 1 6\n"
     ]
    },
    {
     "name": "stdout",
     "output_type": "stream",
     "text": [
      "[[1, 1], [0, 1], [1, 1], [0, 2], [1, 2], [0, 2], [0, 3], [1, 3], [1, 4], [1, 3], [1, 3], [0, 6], [1, 5], [0, 5], [1, 5], [1, 6]]\n"
     ]
    }
   ],
   "source": [
    "# 틀렸니다_일단 패스\n",
    "# N: 학생수, K: 한 방에 배정할 수 있는 최대 인원 수, S: 성별(0:여, 1:남), Y: 학년\n",
    "N, K = map(int, input().split())\n",
    "room = []\n",
    "\n",
    "for i in range(N):\n",
    "    S, Y = map(int, input().split())\n",
    "    room.append([S, Y])\n",
    "    print(room)"
   ]
  },
  {
   "cell_type": "markdown",
   "id": "c25d7774-fbc6-40a4-a368-46f47384c3d2",
   "metadata": {},
   "source": [
    "---"
   ]
  },
  {
   "cell_type": "code",
   "execution_count": 48,
   "id": "06c37bd3-7614-486d-b0d0-28d23db5fe19",
   "metadata": {},
   "outputs": [],
   "source": [
    "# Silver V\n",
    "# 1475 방 번호"
   ]
  },
  {
   "cell_type": "code",
   "execution_count": null,
   "id": "344c6958-331b-4966-a6a3-3cd99746b0e7",
   "metadata": {},
   "outputs": [],
   "source": []
  }
 ],
 "metadata": {
  "kernelspec": {
   "display_name": "Python 3 (ipykernel)",
   "language": "python",
   "name": "python3"
  },
  "language_info": {
   "codemirror_mode": {
    "name": "ipython",
    "version": 3
   },
   "file_extension": ".py",
   "mimetype": "text/x-python",
   "name": "python",
   "nbconvert_exporter": "python",
   "pygments_lexer": "ipython3",
   "version": "3.8.12"
  }
 },
 "nbformat": 4,
 "nbformat_minor": 5
}
