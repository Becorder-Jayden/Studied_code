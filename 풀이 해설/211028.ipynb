{
 "cells": [
  {
   "cell_type": "markdown",
   "id": "cc58e554-3c23-4b2d-864e-7b6f13bce19f",
   "metadata": {},
   "source": [
    "# 2021.10.28"
   ]
  },
  {
   "cell_type": "code",
   "execution_count": 2,
   "id": "25f6ee4f-52b0-492c-85f9-fc3d87b6e6b2",
   "metadata": {},
   "outputs": [
    {
     "name": "stdin",
     "output_type": "stream",
     "text": [
      " 2\n",
      " 1 2 3 4 2 3 4 5\n"
     ]
    },
    {
     "name": "stdout",
     "output_type": "stream",
     "text": [
      "1 2 3 4 5 "
     ]
    }
   ],
   "source": [
    "# Silver V\n",
    "# 10867 중복 빼고 정렬하기\n",
    "\n",
    "N = int(input())\n",
    "num = list(map(int, input().split()))\n",
    "s_num = sorted(set(num))\n",
    "\n",
    "for i in s_num:\n",
    "    print(i, end = ' ')"
   ]
  },
  {
   "cell_type": "code",
   "execution_count": 3,
   "id": "555c2542-2aa8-41f3-8a66-c4379d630dad",
   "metadata": {},
   "outputs": [
    {
     "name": "stdout",
     "output_type": "stream",
     "text": [
      "1 2 3 4 5\n"
     ]
    }
   ],
   "source": [
    "# print(옵션으로 *을 기입해도) 동일하게 결과를 출력할 수 있다\n",
    "print(*s_num)"
   ]
  },
  {
   "cell_type": "markdown",
   "id": "b294c294-a0aa-4dd3-8872-dade2e46f6c2",
   "metadata": {},
   "source": [
    "---"
   ]
  },
  {
   "cell_type": "code",
   "execution_count": 71,
   "id": "225ace19-032f-41b1-873a-930207ec03c1",
   "metadata": {},
   "outputs": [
    {
     "ename": "SyntaxError",
     "evalue": "invalid syntax (<ipython-input-71-4adf2fd96c5d>, line 17)",
     "output_type": "error",
     "traceback": [
      "\u001b[1;36m  File \u001b[1;32m\"<ipython-input-71-4adf2fd96c5d>\"\u001b[1;36m, line \u001b[1;32m17\u001b[0m\n\u001b[1;33m    elif: B == 1:\u001b[0m\n\u001b[1;37m        ^\u001b[0m\n\u001b[1;31mSyntaxError\u001b[0m\u001b[1;31m:\u001b[0m invalid syntax\n"
     ]
    }
   ],
   "source": [
    "# 알고리즘이란 이것이다?\n",
    "# 속도문제가 발생했을 때 수학적인 방법으로 푸는 방법? \n",
    "# Silver V\n",
    "# 1934 최소공배수\n",
    "\n",
    "T = int(input())\n",
    "\n",
    "for i in range(T):\n",
    "\n",
    "    A, B = map(int, input().split())\n",
    "    lis_A = []\n",
    "    lis_B = []\n",
    "    lis_T = []\n",
    "    \n",
    "    if A == 1:\n",
    "        lis_T.append(B)\n",
    "    elif: B == 1:\n",
    "        lis_T.append(A)\n",
    "    else:\n",
    "        for j in range(1, A+1):\n",
    "            if A/j - A//j == 0:\n",
    "                lis_T.append(j)\n",
    "\n",
    "        for j in range(1, B+1):\n",
    "            if B/j - B//j == 0:\n",
    "                lis_T.append(j)\n",
    "\n",
    "        lis_T = set(lis_T)\n",
    "    print(lis_T)\n",
    "    \n",
    "#     m = 1\n",
    "#     for i in lis_T:\n",
    "#         m = m*i\n",
    "#     print(m)"
   ]
  },
  {
   "cell_type": "markdown",
   "id": "2bd7f3cc-10a4-434f-963b-ca739b303d73",
   "metadata": {},
   "source": [
    "### 대근 선생님\n",
    "아마 런타임에러가 뜰 예정, 속도문제를 의도한 문제\n",
    "1. 최소공배수는 두수의 곱을 최대공약수로 나누면 된다.\n",
    "2. 어떻게 하면 최대공약수를 빠르게 구할 것인가\n",
    "\n",
    "※ 유클리드 호제법을 사용해서 풀어야 하는 문제"
   ]
  },
  {
   "cell_type": "code",
   "execution_count": 81,
   "id": "01bdd5e7-5578-4ed8-b686-d6c21baecd3d",
   "metadata": {
    "tags": []
   },
   "outputs": [],
   "source": [
    "# 유클리드 호제법: 최대공약수를 구하는 방법\n",
    "# 구글링\n",
    "def gcd(a, b):\n",
    "    while b > 0:\n",
    "        a, b = b, a % b\n",
    "    return a"
   ]
  },
  {
   "cell_type": "code",
   "execution_count": 77,
   "id": "19f7ba51-4285-4606-acfa-9e677f589fd2",
   "metadata": {},
   "outputs": [
    {
     "data": {
      "text/plain": [
       "3"
      ]
     },
     "execution_count": 77,
     "metadata": {},
     "output_type": "execute_result"
    }
   ],
   "source": [
    "gcd(6, 15)"
   ]
  },
  {
   "cell_type": "code",
   "execution_count": null,
   "id": "3743f77a-d3aa-4d19-844c-e7890866157f",
   "metadata": {},
   "outputs": [],
   "source": []
  },
  {
   "cell_type": "code",
   "execution_count": 92,
   "id": "cb063b65-b4f3-46e9-b3e6-c71668dd2c88",
   "metadata": {},
   "outputs": [],
   "source": [
    "# 최소공배수도 구해보자\n",
    "def gcd(a, b):\n",
    "    while b > 0:\n",
    "        a, b = b, a % b\n",
    "    return a\n",
    "\n",
    "def lcm(a, b):\n",
    "    return a * b // gcd(a,b)"
   ]
  },
  {
   "cell_type": "code",
   "execution_count": 93,
   "id": "506b0b9b-3875-4df7-b96a-f4436e1fd2ed",
   "metadata": {},
   "outputs": [
    {
     "data": {
      "text/plain": [
       "30"
      ]
     },
     "execution_count": 93,
     "metadata": {},
     "output_type": "execute_result"
    }
   ],
   "source": [
    "lcm(6, 15)"
   ]
  },
  {
   "cell_type": "code",
   "execution_count": null,
   "id": "36837e2d-8116-486b-8fa1-f759b36f281a",
   "metadata": {},
   "outputs": [],
   "source": []
  }
 ],
 "metadata": {
  "kernelspec": {
   "display_name": "Python 3 (ipykernel)",
   "language": "python",
   "name": "python3"
  },
  "language_info": {
   "codemirror_mode": {
    "name": "ipython",
    "version": 3
   },
   "file_extension": ".py",
   "mimetype": "text/x-python",
   "name": "python",
   "nbconvert_exporter": "python",
   "pygments_lexer": "ipython3",
   "version": "3.8.12"
  }
 },
 "nbformat": 4,
 "nbformat_minor": 5
}
