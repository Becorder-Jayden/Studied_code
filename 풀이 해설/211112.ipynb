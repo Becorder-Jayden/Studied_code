{
 "cells": [
  {
   "cell_type": "markdown",
   "id": "9f82c94c-2391-49c7-a0d6-6d7acf03daba",
   "metadata": {},
   "source": [
    "# 2021.11.15"
   ]
  },
  {
   "cell_type": "code",
   "execution_count": 2,
   "id": "0ced9b97-75d5-4de5-af45-818a7384d89c",
   "metadata": {},
   "outputs": [],
   "source": [
    "# Bronze II\n",
    "# 1919 애너그램 만들기\n",
    "# 애너그램 : 문자 순서를 바꾸면 같아지는 관계"
   ]
  },
  {
   "cell_type": "code",
   "execution_count": 67,
   "id": "3ee6448b-4f8c-4baa-9249-2e0f4a80c76d",
   "metadata": {},
   "outputs": [
    {
     "name": "stdin",
     "output_type": "stream",
     "text": [
      " dared\n",
      " bread\n"
     ]
    },
    {
     "name": "stdout",
     "output_type": "stream",
     "text": [
      "['a', 'd', 'd', 'e', 'r']\n",
      "['a', 'b', 'd', 'e', 'r']\n",
      "['a', 'd', 'd', 'e', 'r']\n",
      "1\n"
     ]
    }
   ],
   "source": [
    "A = sorted(list(input()))\n",
    "B = sorted(list(input()))\n",
    "C = []\n",
    "removed = 0\n",
    "\n",
    "for i in A:\n",
    "    if i in B:\n",
    "        C.append(i)\n",
    "\n",
    "for i in A:\n",
    "    if i not in C:\n",
    "        removed += 1\n",
    "        \n",
    "for i in B:\n",
    "    if i not in C:\n",
    "        removed += 1\n",
    "\n",
    "print(A)\n",
    "print(B)\n",
    "print(C)\n",
    "print(removed)"
   ]
  },
  {
   "cell_type": "code",
   "execution_count": null,
   "id": "5d9b32de-788b-4155-b829-3a588a3b3ab2",
   "metadata": {},
   "outputs": [],
   "source": []
  }
 ],
 "metadata": {
  "kernelspec": {
   "display_name": "Python 3 (ipykernel)",
   "language": "python",
   "name": "python3"
  },
  "language_info": {
   "codemirror_mode": {
    "name": "ipython",
    "version": 3
   },
   "file_extension": ".py",
   "mimetype": "text/x-python",
   "name": "python",
   "nbconvert_exporter": "python",
   "pygments_lexer": "ipython3",
   "version": "3.8.12"
  }
 },
 "nbformat": 4,
 "nbformat_minor": 5
}
