{
 "cells": [
  {
   "cell_type": "markdown",
   "id": "51d1e5d0-6428-4202-a048-d05c81cb9c4b",
   "metadata": {},
   "source": [
    "# 2021.12.08\n",
    "\n"
   ]
  },
  {
   "cell_type": "code",
   "execution_count": 2,
   "id": "e83e3127-ef5a-488a-9f08-c25f475bd716",
   "metadata": {},
   "outputs": [],
   "source": [
    "# Silver II\n",
    "# 11047 동전 0"
   ]
  },
  {
   "cell_type": "code",
   "execution_count": 19,
   "id": "016e3cc8-d9d6-44de-b1e2-aeed40c2663a",
   "metadata": {},
   "outputs": [
    {
     "name": "stdin",
     "output_type": "stream",
     "text": [
      " 10 4790\n",
      " 1\n",
      " 5\n",
      " 10\n",
      " 50\n",
      " 100\n",
      " 500\n",
      " 1000\n",
      " 5000\n",
      " 10000\n",
      " 50000\n"
     ]
    },
    {
     "name": "stdout",
     "output_type": "stream",
     "text": [
      "12\n"
     ]
    }
   ],
   "source": [
    "N, K = map(int, input().split())\n",
    "count = 0\n",
    "coin = []\n",
    "\n",
    "for i in range(N):\n",
    "    A = int(input())\n",
    "    coin.append(A)\n",
    "    \n",
    "coin = sorted(coin, reverse=True)\n",
    "\n",
    "for i in coin:\n",
    "        count += K//i\n",
    "        K = K%i \n",
    "\n",
    "print(count)"
   ]
  },
  {
   "cell_type": "code",
   "execution_count": 31,
   "id": "5fc35748-8dd1-41ca-a609-0e16d3ebc740",
   "metadata": {},
   "outputs": [],
   "source": [
    "# Siver II\n",
    "# 1931 회의실 배정"
   ]
  },
  {
   "cell_type": "code",
   "execution_count": 13,
   "id": "cde3c0ba-8563-4265-839c-4a7dc12ec675",
   "metadata": {},
   "outputs": [
    {
     "name": "stdin",
     "output_type": "stream",
     "text": [
      " 3\n",
      " 1 4\n",
      " 2 5\n",
      " 3 4\n"
     ]
    },
    {
     "name": "stdout",
     "output_type": "stream",
     "text": [
      "1\n",
      "1\n",
      "1\n",
      "[[1, 4], [2, 5], [3, 4]]\n"
     ]
    }
   ],
   "source": [
    "N = int(input()) # 회의의 수\n",
    "meeting = [[0]*2 for i in range(N)] # 공간을 먼저 만들어주는 아이디어\n",
    "\n",
    "for i in range(N):\n",
    "    start, end = map(int, input().split())\n",
    "    meeting[i][0] = start\n",
    "    meeting[i][1] = end\n",
    "    \n",
    "for i in meeting:\n",
    "    print(end-start)\n",
    "print(meeting)\n"
   ]
  },
  {
   "cell_type": "markdown",
   "id": "95801489-d7ec-430b-9fa5-6f2d799d54c7",
   "metadata": {},
   "source": [
    "---"
   ]
  },
  {
   "cell_type": "markdown",
   "id": "89800165-5c22-45d0-8b71-10858734f80a",
   "metadata": {},
   "source": [
    "# 코드업 문제풀이\n",
    "## 그리디 알고리즘"
   ]
  },
  {
   "cell_type": "code",
   "execution_count": 5,
   "id": "2fe4d46b-ddfb-4f44-a983-d376acc97040",
   "metadata": {},
   "outputs": [
    {
     "name": "stdin",
     "output_type": "stream",
     "text": [
      " 800\n",
      " 700\n",
      " 900\n",
      " 198\n",
      " 330\n"
     ]
    },
    {
     "name": "stdout",
     "output_type": "stream",
     "text": [
      "987.8\n"
     ]
    }
   ],
   "source": [
    "# 2001 : 최소 대금\n",
    "\n",
    "pasta_list = []\n",
    "fresh_list = []\n",
    "\n",
    "pasta1 = int(input())\n",
    "pasta2 = int(input())\n",
    "pasta3 = int(input())\n",
    "pasta_list.append(pasta1)\n",
    "pasta_list.append(pasta2)\n",
    "pasta_list.append(pasta3)\n",
    "\n",
    "fresh1 = int(input())\n",
    "fresh2 = int(input())\n",
    "fresh_list.append(fresh1)\n",
    "fresh_list.append(fresh2)\n",
    "\n",
    "price = round(1.1*(min(pasta_list)+min(fresh_list)), 1)\n",
    "print(price)"
   ]
  },
  {
   "cell_type": "code",
   "execution_count": 30,
   "id": "523b4af3-b176-4715-a996-c185a1e1d3bf",
   "metadata": {},
   "outputs": [
    {
     "name": "stdin",
     "output_type": "stream",
     "text": [
      " 40\n",
      " 2\n"
     ]
    },
    {
     "name": "stdout",
     "output_type": "stream",
     "text": [
      "7\n"
     ]
    }
   ],
   "source": [
    "# 3120 리모컨\n",
    "\n",
    "button = [10, 5, 1]\n",
    "button = [-10, -5, -1]\n",
    "cnt = 0\n",
    "\n",
    "a = int(input()) # 현재 온도\n",
    "b = int(input()) # 목표 온도\n",
    "c = b-a          # b와 a값의 차이 \n",
    "\n",
    "if c>0:\n",
    "    for i in button_p:\n",
    "        cnt += c//i\n",
    "        c = c%i\n",
    "else:\n",
    "    for i in button_m:\n",
    "        cnt += c//i\n",
    "        c = c%i\n",
    "\n",
    "        \n",
    "print(cnt)\n"
   ]
  },
  {
   "cell_type": "code",
   "execution_count": null,
   "id": "3081c89f-40dd-4bc7-afe2-76c0927af5a3",
   "metadata": {},
   "outputs": [],
   "source": []
  }
 ],
 "metadata": {
  "kernelspec": {
   "display_name": "Python 3 (ipykernel)",
   "language": "python",
   "name": "python3"
  },
  "language_info": {
   "codemirror_mode": {
    "name": "ipython",
    "version": 3
   },
   "file_extension": ".py",
   "mimetype": "text/x-python",
   "name": "python",
   "nbconvert_exporter": "python",
   "pygments_lexer": "ipython3",
   "version": "3.8.12"
  }
 },
 "nbformat": 4,
 "nbformat_minor": 5
}
