{
 "cells": [
  {
   "cell_type": "markdown",
   "id": "c4c01f00-7d43-4612-820e-d60c827313fd",
   "metadata": {
    "tags": []
   },
   "source": [
    "# 2021.12.24"
   ]
  },
  {
   "cell_type": "code",
   "execution_count": 26,
   "id": "b2a4fb5f-a618-4423-b161-8aae8beb0a79",
   "metadata": {},
   "outputs": [
    {
     "name": "stdout",
     "output_type": "stream",
     "text": [
      "[False, False, False, False, False, 1, 2, 4, 3, 1]\n"
     ]
    }
   ],
   "source": [
    "n, m, v = map(int, input().split())\n",
    "visited = [False]*(n+1)\n",
    "for i in range(n+1):\n",
    "    "
   ]
  },
  {
   "cell_type": "code",
   "execution_count": null,
   "id": "1ddc2082-50d9-4a94-b53a-37890f8442a7",
   "metadata": {},
   "outputs": [],
   "source": []
  }
 ],
 "metadata": {
  "kernelspec": {
   "display_name": "Python 3 (ipykernel)",
   "language": "python",
   "name": "python3"
  },
  "language_info": {
   "codemirror_mode": {
    "name": "ipython",
    "version": 3
   },
   "file_extension": ".py",
   "mimetype": "text/x-python",
   "name": "python",
   "nbconvert_exporter": "python",
   "pygments_lexer": "ipython3",
   "version": "3.8.12"
  }
 },
 "nbformat": 4,
 "nbformat_minor": 5
}
