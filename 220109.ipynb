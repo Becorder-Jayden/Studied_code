{
 "cells": [
  {
   "cell_type": "markdown",
   "id": "496c946e-0605-4c64-b23e-f1bfe410c451",
   "metadata": {},
   "source": [
    "# 2022.01.09"
   ]
  },
  {
   "cell_type": "code",
   "execution_count": 1,
   "id": "2118dcab-94e9-4769-825c-d25dc4d8fb5a",
   "metadata": {},
   "outputs": [],
   "source": [
    "# Silver I\n",
    "# 2178 미로탐색"
   ]
  },
  {
   "cell_type": "code",
   "execution_count": null,
   "id": "bea549ac-8482-41db-b166-47e7aa386616",
   "metadata": {},
   "outputs": [
    {
     "name": "stdin",
     "output_type": "stream",
     "text": [
      " 4 6\n",
      " 101111\n",
      " 101010\n",
      " 101011\n",
      " 111011\n"
     ]
    }
   ],
   "source": [
    "from collections import deque\n",
    "\n",
    "N, M = map(int, input().split()) # N개의 줄에 M개\n",
    "graph = [list(map(int, input())) for i in range(N)]\n",
    "\n",
    "def bfs(x, y):\n",
    "    queue = deque()\n",
    "    dx = [0,0,-1,1]\n",
    "    dy = [1,-1,0,0]\n",
    "    \n",
    "    if graph[y][x] == 1:\n",
    "        queue.append((x,y))\n",
    "        visited[y][x] = True\n",
    "        cnt = 1\n",
    "        \n",
    "        while queue:\n",
    "            x, y = queue.popleft()\n",
    "                \n",
    "            for i in range(4):\n",
    "                nx = x+dx[i]\n",
    "                ny = y+dy[i]\n",
    "                if 0<=nx<M and 0<=ny<N:\n",
    "                    if graph[ny][nx] == 1:\n",
    "                        queue.append((nx,ny))\n",
    "                        visited[ny][nx] = True\n",
    "    return cnt\n",
    "\n",
    "print(bfs(0,0))"
   ]
  },
  {
   "cell_type": "code",
   "execution_count": 127,
   "id": "ff043b66-ca40-4877-9c35-6bf6caa4f06d",
   "metadata": {},
   "outputs": [
    {
     "name": "stdout",
     "output_type": "stream",
     "text": [
      "15\n"
     ]
    }
   ],
   "source": [
    "from collections import deque\n",
    "\n",
    "N, M = map(int, input().split())\n",
    "\n",
    "graph = []\n",
    "\n",
    "for _ in range(N):\n",
    "  graph.append(list(map(int, input())))\n",
    "\n",
    "# 너비 우선 탐색\n",
    "def bfs(x, y):\n",
    "  # 이동할 네 가지 방향 정의 (상, 하, 좌, 우)\n",
    "  dx = [-1, 1, 0, 0] \n",
    "  dy = [0, 0, -1, 1]\n",
    "\n",
    "  # deque 생성\n",
    "  queue = deque()\n",
    "  queue.append((x, y))\n",
    "\n",
    "    while queue:\n",
    "        x, y = queue.popleft()\n",
    "    \n",
    "    # 현재 위치에서 4가지 방향으로 위치 확인\n",
    "    for i in range(4):\n",
    "        nx = x + dx[i]\n",
    "          ny = y + dy[i]\n",
    "\n",
    "      # 위치가 벗어나면 안되기 때문에 조건 추가\n",
    "      if nx < 0 or nx >= N or ny < 0 or ny >= M:\n",
    "        continue\n",
    "      \n",
    "      # 벽이므로 진행 불가\n",
    "      if graph[nx][ny] == 0:\n",
    "        continue\n",
    "      \n",
    "      # 벽이 아니므로 이동\n",
    "      if graph[nx][ny] == 1:\n",
    "        graph[nx][ny] = graph[x][y] + 1\n",
    "        queue.append((nx, ny))\n",
    "  \n",
    "  # 마지막 값에서 카운트 값을 뽑는다.\n",
    "  return graph[N-1][M-1]\n",
    "\n",
    "print(bfs(0, 0))"
   ]
  },
  {
   "cell_type": "code",
   "execution_count": 9,
   "id": "7ecd9edf-620f-41e2-8cf2-0f75e89d44e1",
   "metadata": {},
   "outputs": [],
   "source": [
    "# 풀이 참고해서 내 코드 수정해보기"
   ]
  },
  {
   "cell_type": "code",
   "execution_count": 26,
   "id": "5afbd168-c8f1-43dc-9a78-d67e63b26c42",
   "metadata": {},
   "outputs": [
    {
     "name": "stdout",
     "output_type": "stream",
     "text": [
      "[[1, 0, 1, 1, 1, 1], [1, 0, 1, 0, 1, 0], [1, 0, 1, 0, 1, 1], [1, 1, 1, 0, 1, 1]]\n",
      "[[False, False, False, False, False, False], [False, False, False, False, False, False], [False, False, False, False, False, False], [False, False, False, False, False, False]]\n"
     ]
    }
   ],
   "source": [
    "N = 4\n",
    "M = 6\n",
    "graph = [[1,0,1,1,1,1], [1,0,1,0,1,0], [1,0,1,0,1,1], [1,1,1,0,1,1]]\n",
    "visited = [[False]*M for i in range(N)]\n",
    "\n",
    "print(graph)\n",
    "print(visited)"
   ]
  },
  {
   "cell_type": "code",
   "execution_count": 27,
   "id": "9c0e6f51-ba4f-45f1-8989-8c001f6b900d",
   "metadata": {},
   "outputs": [
    {
     "name": "stdout",
     "output_type": "stream",
     "text": [
      "15\n"
     ]
    },
    {
     "data": {
      "text/plain": [
       "[[3, 0, 9, 10, 11, 12],\n",
       " [2, 0, 8, 0, 12, 0],\n",
       " [3, 0, 7, 0, 13, 14],\n",
       " [4, 5, 6, 0, 14, 15]]"
      ]
     },
     "execution_count": 27,
     "metadata": {},
     "output_type": "execute_result"
    }
   ],
   "source": [
    "from collections import deque\n",
    "\n",
    "def bfs(x, y):\n",
    "    dx = [0,0,-1,1]\n",
    "    dy = [1,-1,0,0]\n",
    "    \n",
    "    queue = deque()\n",
    "    queue.append((x, y))\n",
    "    \n",
    "    while queue:\n",
    "        x, y = queue.popleft()\n",
    "        \n",
    "        for i in range(4):\n",
    "            nx = x+dx[i]\n",
    "            ny = y+dy[i]\n",
    "            if 0<=nx<M and 0<=ny<N:\n",
    "                if graph[ny][nx] == 1:\n",
    "                    queue.append((nx, ny))\n",
    "                    graph[ny][nx] = graph[y][x] + 1\n",
    "\n",
    "    return graph[N-1][M-1]\n",
    "    \n",
    "print(bfs(0,0))\n",
    "graph"
   ]
  },
  {
   "cell_type": "code",
   "execution_count": 28,
   "id": "fb64a4c6-687d-47be-b85e-961848b8cd1e",
   "metadata": {},
   "outputs": [],
   "source": [
    "# 최종 정리"
   ]
  },
  {
   "cell_type": "code",
   "execution_count": 37,
   "id": "cc78cfb1-f663-485b-aa19-3a951485bc8e",
   "metadata": {},
   "outputs": [
    {
     "name": "stdin",
     "output_type": "stream",
     "text": [
      " 4 6\n",
      " 101111\n",
      " 101010\n",
      " 101011\n",
      " 111011\n"
     ]
    },
    {
     "data": {
      "text/plain": [
       "15"
      ]
     },
     "execution_count": 37,
     "metadata": {},
     "output_type": "execute_result"
    }
   ],
   "source": [
    "from collections import deque\n",
    "\n",
    "# graph 값 입력\n",
    "N, M = map(int, input().split())\n",
    "graph = []\n",
    "for i in range(N):\n",
    "    line = list(map(int, input()))\n",
    "    graph.append(line)\n",
    "\n",
    "# bfs 정의\n",
    "def bfs(x, y):\n",
    "    \n",
    "    # 큐 구조 정의\n",
    "    queue = deque()\n",
    "    queue.append((x,y))\n",
    "    \n",
    "    # 네 방향 탐색을 위한 경로 설정\n",
    "    dx = [0,0,-1,1]\n",
    "    dy = [1,-1,0,0]\n",
    "    \n",
    "    # 큐 구조 활용\n",
    "    while queue:\n",
    "        x, y = queue.popleft()\n",
    "        \n",
    "        # 그래프 범위 내에서 네 방향을 탐색할 때\n",
    "        for i in range(4):\n",
    "            nx = x+dx[i]\n",
    "            ny = y+dy[i]\n",
    "            if 0<=nx<M and 0<=ny<N:\n",
    "                \n",
    "                # 1의 값을 가진 인덱스를 확인한다면\n",
    "                if graph[ny][nx] == 1:\n",
    "                    \n",
    "                    # 큐에 해당 인덱스를 추가하고, 값을 +1 증가\n",
    "                    queue.append((nx, ny))\n",
    "                    graph[ny][nx] = graph[y][x] + 1\n",
    "                    \n",
    "    return graph[N-1][M-1]\n",
    "\n",
    "bfs(0,0)"
   ]
  },
  {
   "cell_type": "code",
   "execution_count": 4,
   "id": "3710926d-cfa1-4b23-b6be-bb81de546367",
   "metadata": {},
   "outputs": [
    {
     "name": "stdin",
     "output_type": "stream",
     "text": [
      " 4 6\n",
      " 101111\n",
      " 101010\n",
      " 101011\n",
      " 111011\n"
     ]
    },
    {
     "name": "stdout",
     "output_type": "stream",
     "text": [
      "15\n"
     ]
    }
   ],
   "source": [
    "from collections import deque\n",
    "\n",
    "# graph 값 입력\n",
    "N, M = map(int, input().split())\n",
    "graph = []\n",
    "for i in range(N):\n",
    "    line = list(map(int, input()))\n",
    "    graph.append(line)\n",
    "\n",
    "# bfs 정의\n",
    "def bfs(x, y):\n",
    "    \n",
    "    # 큐 구조 정의\n",
    "    queue = deque()\n",
    "    queue.append((x,y))\n",
    "    \n",
    "    # 네 방향 탐색을 위한 경로 설정\n",
    "    dx = [0,0,-1,1]\n",
    "    dy = [1,-1,0,0]\n",
    "    \n",
    "    # 큐 구조 활용\n",
    "    while queue:\n",
    "        x, y = queue.popleft()\n",
    "        \n",
    "        # 그래프 범위 내에서 네 방향을 탐색할 때\n",
    "        for i in range(4):\n",
    "            nx = x+dx[i]\n",
    "            ny = y+dy[i]\n",
    "            if 0<=nx<M and 0<=ny<N:\n",
    "                \n",
    "                # 1의 값을 가진 인덱스를 확인한다면\n",
    "                if graph[ny][nx] == 1:\n",
    "                    \n",
    "                    # 큐에 해당 인덱스를 추가하고, 값을 +1 증가\n",
    "                    queue.append((nx, ny))\n",
    "                    graph[ny][nx] = graph[y][x] + 1\n",
    "                    \n",
    "    return graph[N-1][M-1]\n",
    "\n",
    "print(bfs(0,0))"
   ]
  },
  {
   "cell_type": "code",
   "execution_count": 9,
   "id": "7643aa9d-d2cd-4148-9d52-fb23037ffd3c",
   "metadata": {},
   "outputs": [
    {
     "name": "stdin",
     "output_type": "stream",
     "text": [
      " 4 6\n",
      " 101111\n",
      " 101010\n",
      " 101011\n",
      " 111011\n"
     ]
    },
    {
     "name": "stdout",
     "output_type": "stream",
     "text": [
      "15\n"
     ]
    },
    {
     "data": {
      "text/plain": [
       "[[3, 0, 9, 10, 11, 12],\n",
       " [2, 0, 8, 0, 12, 0],\n",
       " [3, 0, 7, 0, 13, 14],\n",
       " [4, 5, 6, 0, 14, 15]]"
      ]
     },
     "execution_count": 9,
     "metadata": {},
     "output_type": "execute_result"
    }
   ],
   "source": [
    "from collections import deque\n",
    "\n",
    "N, M = map(int, input().split())\n",
    "graph = []\n",
    "for i in range(N):\n",
    "    line = list(map(int, input()))\n",
    "    graph.append(line)\n",
    "\n",
    "def bfs(x, y):    \n",
    "    queue = deque()\n",
    "    queue.append((x,y))\n",
    "    \n",
    "    dx = [0,0,-1,1]\n",
    "    dy = [1,-1,0,0]\n",
    "    \n",
    "    while queue:\n",
    "        x, y = queue.popleft()\n",
    "        \n",
    "        for i in range(4):\n",
    "            nx = x+dx[i]\n",
    "            ny = y+dy[i]\n",
    "\n",
    "            if 0<=nx<M and 0<=ny<N:\n",
    "                if graph[ny][nx] == 1:\n",
    "                    queue.append((nx, ny))\n",
    "                    graph[ny][nx] = graph[y][x] + 1\n",
    "                    \n",
    "    return graph[N-1][M-1]\n",
    "\n",
    "print(bfs(0,0))\n",
    "graph"
   ]
  },
  {
   "cell_type": "markdown",
   "id": "6515f023-edd4-4259-9589-89f0b72d7c0b",
   "metadata": {},
   "source": [
    "---"
   ]
  },
  {
   "cell_type": "code",
   "execution_count": 1,
   "id": "257dcca5-7742-4499-a29a-1ab2ea0112f4",
   "metadata": {},
   "outputs": [],
   "source": [
    "# Silver I\n",
    "# 7576 토마토"
   ]
  },
  {
   "cell_type": "code",
   "execution_count": 6,
   "id": "18cb73b5-94cb-4200-8f00-c95967ae76ea",
   "metadata": {},
   "outputs": [
    {
     "name": "stdin",
     "output_type": "stream",
     "text": [
      " 6 4\n",
      " 0 0 0 0 0 0\n",
      " 0 0 0 0 0 0\n",
      " 0 0 0 0 0 0\n",
      " 0 0 0 0 0 1\n"
     ]
    },
    {
     "data": {
      "text/plain": [
       "[[0, 0, 0, 0, 0, 0],\n",
       " [0, 0, 0, 0, 0, 0],\n",
       " [0, 0, 0, 0, 0, 0],\n",
       " [0, 0, 0, 0, 0, 1]]"
      ]
     },
     "execution_count": 6,
     "metadata": {},
     "output_type": "execute_result"
    }
   ],
   "source": [
    "M, N = map(int, input().split()) # M : 가로, N : 세로\n",
    "graph = []\n",
    "\n",
    "for i in range(N):\n",
    "    row = list(map(int, input().split()))\n",
    "    graph.append(row)\n",
    "               \n",
    "graph"
   ]
  },
  {
   "cell_type": "code",
   "execution_count": 12,
   "id": "b3b03454-b593-40ae-832d-39807bb946e6",
   "metadata": {},
   "outputs": [
    {
     "name": "stdout",
     "output_type": "stream",
     "text": [
      "[[1, 1, 1, 1, 1, 1], [1, 1, 1, 1, 1, 1], [1, 1, 1, 1, 1, 1], [1, 1, 1, 1, 1, 1]]\n",
      "[[1, 1, 1, 1, 1, 1], [1, 1, 1, 1, 1, 1], [1, 1, 1, 1, 1, 1], [1, 1, 1, 1, 1, 1]]\n",
      "[[1, 1, 1, 1, 1, 1], [1, 1, 1, 1, 1, 1], [1, 1, 1, 1, 1, 1], [1, 1, 1, 1, 1, 1]]\n",
      "[[1, 1, 1, 1, 1, 1], [1, 1, 1, 1, 1, 1], [1, 1, 1, 1, 1, 1], [1, 1, 1, 1, 1, 1]]\n",
      "[[1, 1, 1, 1, 1, 1], [1, 1, 1, 1, 1, 1], [1, 1, 1, 1, 1, 1], [1, 1, 1, 1, 1, 1]]\n",
      "[[1, 1, 1, 1, 1, 1], [1, 1, 1, 1, 1, 1], [1, 1, 1, 1, 1, 1], [1, 1, 1, 1, 1, 1]]\n",
      "[[1, 1, 1, 1, 1, 1], [1, 1, 1, 1, 1, 1], [1, 1, 1, 1, 1, 1], [1, 1, 1, 1, 1, 1]]\n",
      "[[1, 1, 1, 1, 1, 1], [1, 1, 1, 1, 1, 1], [1, 1, 1, 1, 1, 1], [1, 1, 1, 1, 1, 1]]\n",
      "[[1, 1, 1, 1, 1, 1], [1, 1, 1, 1, 1, 1], [1, 1, 1, 1, 1, 1], [1, 1, 1, 1, 1, 1]]\n",
      "[[1, 1, 1, 1, 1, 1], [1, 1, 1, 1, 1, 1], [1, 1, 1, 1, 1, 1], [1, 1, 1, 1, 1, 1]]\n",
      "[[1, 1, 1, 1, 1, 1], [1, 1, 1, 1, 1, 1], [1, 1, 1, 1, 1, 1], [1, 1, 1, 1, 1, 1]]\n",
      "[[1, 1, 1, 1, 1, 1], [1, 1, 1, 1, 1, 1], [1, 1, 1, 1, 1, 1], [1, 1, 1, 1, 1, 1]]\n",
      "[[1, 1, 1, 1, 1, 1], [1, 1, 1, 1, 1, 1], [1, 1, 1, 1, 1, 1], [1, 1, 1, 1, 1, 1]]\n",
      "[[1, 1, 1, 1, 1, 1], [1, 1, 1, 1, 1, 1], [1, 1, 1, 1, 1, 1], [1, 1, 1, 1, 1, 1]]\n",
      "[[1, 1, 1, 1, 1, 1], [1, 1, 1, 1, 1, 1], [1, 1, 1, 1, 1, 1], [1, 1, 1, 1, 1, 1]]\n",
      "[[1, 1, 1, 1, 1, 1], [1, 1, 1, 1, 1, 1], [1, 1, 1, 1, 1, 1], [1, 1, 1, 1, 1, 1]]\n",
      "[[1, 1, 1, 1, 1, 1], [1, 1, 1, 1, 1, 1], [1, 1, 1, 1, 1, 1], [1, 1, 1, 1, 1, 1]]\n",
      "[[1, 1, 1, 1, 1, 1], [1, 1, 1, 1, 1, 1], [1, 1, 1, 1, 1, 1], [1, 1, 1, 1, 1, 1]]\n",
      "[[1, 1, 1, 1, 1, 1], [1, 1, 1, 1, 1, 1], [1, 1, 1, 1, 1, 1], [1, 1, 1, 1, 1, 1]]\n",
      "[[1, 1, 1, 1, 1, 1], [1, 1, 1, 1, 1, 1], [1, 1, 1, 1, 1, 1], [1, 1, 1, 1, 1, 1]]\n",
      "[[1, 1, 1, 1, 1, 1], [1, 1, 1, 1, 1, 1], [1, 1, 1, 1, 1, 1], [1, 1, 1, 1, 1, 1]]\n",
      "[[1, 1, 1, 1, 1, 1], [1, 1, 1, 1, 1, 1], [1, 1, 1, 1, 1, 1], [1, 1, 1, 1, 1, 1]]\n",
      "[[1, 1, 1, 1, 1, 1], [1, 1, 1, 1, 1, 1], [1, 1, 1, 1, 1, 1], [1, 1, 1, 1, 1, 1]]\n",
      "[[1, 1, 1, 1, 1, 1], [1, 1, 1, 1, 1, 1], [1, 1, 1, 1, 1, 1], [1, 1, 1, 1, 1, 1]]\n"
     ]
    }
   ],
   "source": [
    "from collections import deque\n",
    "\n",
    "def bfs(x, y):\n",
    "    \n",
    "    dx = [0,0,-1,1]\n",
    "    dy = [1,-1,0,0]\n",
    "    cnt = 1\n",
    "    \n",
    "    queue = deque()\n",
    "    if graph[y][x] == 1:\n",
    "        queue.append((x, y))\n",
    "    \n",
    "    while queue:\n",
    "        x, y = queue.popleft()\n",
    "        \n",
    "        for i in range(4):\n",
    "            nx = x+dx[i]\n",
    "            ny = y+dy[i]\n",
    "            if 0<=nx<M and 0<=ny<N:\n",
    "                if graph[ny][nx] == 0:\n",
    "                    queue.append((nx, ny))\n",
    "                    graph[ny][nx] = graph[y][x] + 1\n",
    "\n",
    "    return graph\n",
    "\n",
    "for i in range(M):\n",
    "    for j in range(N):\n",
    "        if graph[j][i] == 1:\n",
    "            print(bfs(i, j))"
   ]
  },
  {
   "cell_type": "code",
   "execution_count": null,
   "id": "54e82419-1896-4946-a639-84e8424441e2",
   "metadata": {},
   "outputs": [],
   "source": []
  }
 ],
 "metadata": {
  "kernelspec": {
   "display_name": "Python 3 (ipykernel)",
   "language": "python",
   "name": "python3"
  },
  "language_info": {
   "codemirror_mode": {
    "name": "ipython",
    "version": 3
   },
   "file_extension": ".py",
   "mimetype": "text/x-python",
   "name": "python",
   "nbconvert_exporter": "python",
   "pygments_lexer": "ipython3",
   "version": "3.8.12"
  }
 },
 "nbformat": 4,
 "nbformat_minor": 5
}
