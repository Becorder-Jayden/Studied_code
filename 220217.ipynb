{
 "cells": [
  {
   "cell_type": "markdown",
   "id": "eac2c324-9c53-4bbc-8ea4-e17b0e3cd6ce",
   "metadata": {},
   "source": [
    "# 2022.02.17"
   ]
  },
  {
   "cell_type": "code",
   "execution_count": 1,
   "id": "245cf724-dcd0-4dd8-820c-82a9b1d09dcd",
   "metadata": {},
   "outputs": [],
   "source": [
    "# Silver III\n",
    "# 1463 1로 만들기"
   ]
  },
  {
   "cell_type": "code",
   "execution_count": 52,
   "id": "d7c6f4d2-7b1f-4c11-80fd-743585040b74",
   "metadata": {},
   "outputs": [
    {
     "name": "stdin",
     "output_type": "stream",
     "text": [
      " 10\n"
     ]
    },
    {
     "name": "stdout",
     "output_type": "stream",
     "text": [
      "[0, 1, 2, 3, 4, 5, 6, 7, 8, 9, 10]\n",
      "[0, 0, 1, 1, 2, 3, 2, 3, 3, 2, 3, 0, 0]\n",
      "3\n"
     ]
    }
   ],
   "source": [
    "N = int(input())\n",
    "li = list(range(N+1))\n",
    "dp = [0 for i in range(N+3)]\n",
    "dp[2] = 1\n",
    "dp[3] = 1\n",
    "\n",
    "for i in range(4, N+1):\n",
    "    if i%3 == 0 and i%2 == 0:\n",
    "        dp[i] = min(dp[i//3], dp[i//2], dp[i-1]) + 1\n",
    "    elif i%3 == 0:\n",
    "        dp[i] = min(dp[i//3], dp[i-1]) + 1\n",
    "    elif i%2 == 0:\n",
    "        dp[i] = min(dp[i//2], dp[i-1]) + 1\n",
    "    else:\n",
    "        dp[i] = dp[i-1] + 1\n",
    "# print(li)\n",
    "# print(dp)\n",
    "print(dp[-3])"
   ]
  },
  {
   "cell_type": "markdown",
   "id": "2340e428-0984-470f-9f95-8f226b7b11eb",
   "metadata": {},
   "source": [
    "---"
   ]
  },
  {
   "cell_type": "code",
   "execution_count": 77,
   "id": "31263613-1346-42cd-a687-0a2e2762c31a",
   "metadata": {},
   "outputs": [],
   "source": [
    "# Bronze I \n",
    "# 2839 설탕배달"
   ]
  },
  {
   "cell_type": "code",
   "execution_count": 82,
   "id": "96022c9a-236e-4772-a528-897cb11859ec",
   "metadata": {},
   "outputs": [
    {
     "name": "stdin",
     "output_type": "stream",
     "text": [
      " 11\n"
     ]
    },
    {
     "name": "stdout",
     "output_type": "stream",
     "text": [
      "3\n"
     ]
    }
   ],
   "source": [
    "N = int(input())\n",
    "dp = [-1 for i in range(N+3)]\n",
    "# [ 0,  1,  2, 3,  4, 5, 6,  7, 8, 9, 10]\n",
    "# [-1, -1, -1, 1, -1, 1, 2, -1, 2, 2, 2] : 0 ~ 10까지 \n",
    "dp[3] = 1\n",
    "dp[5] = 1\n",
    "\n",
    "for i in range(3, N+1):\n",
    "    if dp[i-3] != -1 and dp[i-5] != -1:\n",
    "        dp[i] = min(dp[i-3], dp[i-5]) + 1\n",
    "    elif dp[i-3] != -1:\n",
    "        dp[i] = dp[i-3] + 1\n",
    "    elif dp[i-5] != -1:\n",
    "        dp[i] = dp[i-5] + 1\n",
    "\n",
    "print(dp[N])"
   ]
  },
  {
   "cell_type": "markdown",
   "id": "04e47aec-d2e2-48c1-a676-a2ace8d7ddd8",
   "metadata": {},
   "source": [
    "---"
   ]
  },
  {
   "cell_type": "code",
   "execution_count": 83,
   "id": "e9775a80-b24e-4971-937c-d503882b2c98",
   "metadata": {},
   "outputs": [],
   "source": [
    "# Bronze I\n",
    "# 2869 달팽이는 올라가고 싶다"
   ]
  },
  {
   "cell_type": "code",
   "execution_count": 105,
   "id": "99dbfca9-432a-4b84-8e2a-fd706c64ce1f",
   "metadata": {},
   "outputs": [
    {
     "name": "stdin",
     "output_type": "stream",
     "text": [
      " 2 1 5\n"
     ]
    },
    {
     "name": "stdout",
     "output_type": "stream",
     "text": [
      "4\n"
     ]
    }
   ],
   "source": [
    "import math\n",
    "\n",
    "A, B, V = map(int, input().split())\n",
    "d_1 = V-A\n",
    "dist = A-B\n",
    "\n",
    "print(math.ceil(d_1/dist)+1)"
   ]
  },
  {
   "cell_type": "markdown",
   "id": "943682ba-19af-491b-8f1d-eea8f3916310",
   "metadata": {},
   "source": [
    "---"
   ]
  },
  {
   "cell_type": "code",
   "execution_count": null,
   "id": "8c585c64-ec24-4e1b-a312-7d075c305f2a",
   "metadata": {},
   "outputs": [],
   "source": []
  }
 ],
 "metadata": {
  "kernelspec": {
   "display_name": "Python 3 (ipykernel)",
   "language": "python",
   "name": "python3"
  },
  "language_info": {
   "codemirror_mode": {
    "name": "ipython",
    "version": 3
   },
   "file_extension": ".py",
   "mimetype": "text/x-python",
   "name": "python",
   "nbconvert_exporter": "python",
   "pygments_lexer": "ipython3",
   "version": "3.8.12"
  }
 },
 "nbformat": 4,
 "nbformat_minor": 5
}
