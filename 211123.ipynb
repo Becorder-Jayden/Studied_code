{
 "cells": [
  {
   "cell_type": "markdown",
   "id": "ce2a18eb-d30b-4553-90fa-05aa157a9473",
   "metadata": {},
   "source": [
    "# 2021.11.23"
   ]
  },
  {
   "cell_type": "code",
   "execution_count": 1,
   "id": "d61d58f5-ea92-4aa9-969b-953690dab91b",
   "metadata": {},
   "outputs": [],
   "source": [
    "# Silver III\n",
    "# 1003 동적계획법"
   ]
  },
  {
   "cell_type": "code",
   "execution_count": 5,
   "id": "f1818d25-9140-4307-8a94-14918dbafd77",
   "metadata": {},
   "outputs": [
    {
     "name": "stdin",
     "output_type": "stream",
     "text": [
      " 3\n",
      " 0\n"
     ]
    },
    {
     "name": "stdout",
     "output_type": "stream",
     "text": [
      "0\n"
     ]
    },
    {
     "name": "stdin",
     "output_type": "stream",
     "text": [
      " 1\n"
     ]
    },
    {
     "name": "stdout",
     "output_type": "stream",
     "text": [
      "1\n"
     ]
    },
    {
     "name": "stdin",
     "output_type": "stream",
     "text": [
      " 3\n"
     ]
    },
    {
     "name": "stdout",
     "output_type": "stream",
     "text": [
      "2\n"
     ]
    }
   ],
   "source": [
    "# 피보나치 수열\n",
    "def fib(N):\n",
    "    if N < 2:\n",
    "        return N\n",
    "    return fib(N-2) + fib(N-1)\n",
    "\n",
    "# 입력값\n",
    "T = int(input())\n",
    "\n",
    "for i in range(T):\n",
    "    N = int(input())"
   ]
  },
  {
   "cell_type": "code",
   "execution_count": 18,
   "id": "2fa69858-d5a3-49f7-be1c-6ec823408eb6",
   "metadata": {},
   "outputs": [
    {
     "name": "stdin",
     "output_type": "stream",
     "text": [
      " 10\n"
     ]
    },
    {
     "name": "stdout",
     "output_type": "stream",
     "text": [
      "21\n"
     ]
    }
   ],
   "source": [
    "n = int(input())\n",
    "\n",
    "def f(n):\n",
    "    if n < 2:\n",
    "        return n\n",
    "    return f(n-2) + f(n-1)\n"
   ]
  },
  {
   "cell_type": "code",
   "execution_count": 29,
   "id": "e5b4e9f0-2eea-4773-a4bc-18bfa04d2123",
   "metadata": {},
   "outputs": [
    {
     "name": "stdin",
     "output_type": "stream",
     "text": [
      " 3\n"
     ]
    },
    {
     "name": "stdout",
     "output_type": "stream",
     "text": [
      "(0, 1, 1, 0, 0, 1)\n"
     ]
    }
   ],
   "source": [
    "n = int(input())\n",
    "def f(n):\n",
    "    if n == 0:\n",
    "        return 1, 0\n",
    "    elif n == 1:\n",
    "        return 0, 1\n",
    "    elif n > 1:\n",
    "        return f(n-1)+f(n-2)\n",
    "print(f(n))"
   ]
  },
  {
   "cell_type": "code",
   "execution_count": 31,
   "id": "c94d574e-7867-4110-afd2-2e047960b8eb",
   "metadata": {},
   "outputs": [
    {
     "ename": "SyntaxError",
     "evalue": "invalid syntax (Temp/ipykernel_11784/2691717688.py, line 6)",
     "output_type": "error",
     "traceback": [
      "\u001b[1;36m  File \u001b[1;32m\"C:\\Users\\gmkim\\AppData\\Local\\Temp/ipykernel_11784/2691717688.py\"\u001b[1;36m, line \u001b[1;32m6\u001b[0m\n\u001b[1;33m    return l[0] += 1\u001b[0m\n\u001b[1;37m                ^\u001b[0m\n\u001b[1;31mSyntaxError\u001b[0m\u001b[1;31m:\u001b[0m invalid syntax\n"
     ]
    }
   ],
   "source": [
    "n = int(input())\n",
    "l = [0, 0]\n",
    "\n",
    "def f(n):\n",
    "    if n == 0:\n",
    "        return l[0] += 1\n",
    "    elif n == 1:\n",
    "        return l[1] += 1\n",
    "    elif n > 1:\n",
    "        return f(n-1) + f(n-2)\n",
    "\n",
    "print(f(n))"
   ]
  },
  {
   "cell_type": "code",
   "execution_count": null,
   "id": "12be276a-6586-4493-b1c0-46526fd0202c",
   "metadata": {},
   "outputs": [],
   "source": [
    "# global x, y "
   ]
  }
 ],
 "metadata": {
  "kernelspec": {
   "display_name": "Python 3 (ipykernel)",
   "language": "python",
   "name": "python3"
  },
  "language_info": {
   "codemirror_mode": {
    "name": "ipython",
    "version": 3
   },
   "file_extension": ".py",
   "mimetype": "text/x-python",
   "name": "python",
   "nbconvert_exporter": "python",
   "pygments_lexer": "ipython3",
   "version": "3.8.12"
  }
 },
 "nbformat": 4,
 "nbformat_minor": 5
}
