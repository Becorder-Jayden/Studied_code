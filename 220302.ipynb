{
 "cells": [
  {
   "cell_type": "markdown",
   "id": "605e8eed-4921-4f93-8506-58ea7365d135",
   "metadata": {},
   "source": [
    "# 2022.03.02"
   ]
  },
  {
   "cell_type": "code",
   "execution_count": 1,
   "id": "f13397e9-6958-49e6-ad53-617695597d6f",
   "metadata": {},
   "outputs": [],
   "source": [
    "# Silver III\n",
    "# 9095 1, 2, 3 더하기"
   ]
  },
  {
   "cell_type": "code",
   "execution_count": 15,
   "id": "d67b39d3-f0b2-492d-bfd3-4edefca2d60a",
   "metadata": {},
   "outputs": [
    {
     "name": "stdin",
     "output_type": "stream",
     "text": [
      " 3\n",
      " 4\n"
     ]
    },
    {
     "name": "stdout",
     "output_type": "stream",
     "text": [
      "7\n"
     ]
    },
    {
     "name": "stdin",
     "output_type": "stream",
     "text": [
      " 7\n"
     ]
    },
    {
     "name": "stdout",
     "output_type": "stream",
     "text": [
      "44\n"
     ]
    },
    {
     "name": "stdin",
     "output_type": "stream",
     "text": [
      " 10\n"
     ]
    },
    {
     "name": "stdout",
     "output_type": "stream",
     "text": [
      "274\n"
     ]
    }
   ],
   "source": [
    "T = int(input())\n",
    "\n",
    "for i in range(T):\n",
    "    n = int(input())\n",
    "    dp = [0] * (n+3)\n",
    "    dp[0] = 1\n",
    "    dp[1] = 2\n",
    "    dp[2] = 4\n",
    "    for i in range(3, n):\n",
    "        dp[i] = dp[i-3] + dp[i-2] + dp[i-1]\n",
    "    \n",
    "    print(dp[-4])"
   ]
  },
  {
   "cell_type": "markdown",
   "id": "3ddfbf7c-20df-46cb-beab-81fce752557f",
   "metadata": {},
   "source": [
    "---"
   ]
  },
  {
   "cell_type": "code",
   "execution_count": 16,
   "id": "6c45c8bd-ec84-442a-a841-d90d7b59aa17",
   "metadata": {},
   "outputs": [],
   "source": [
    "# Silver II\n",
    "# 5525 IOIOI"
   ]
  },
  {
   "cell_type": "code",
   "execution_count": 45,
   "id": "5b31990b-8b03-4e97-aa74-d3b02a542ed4",
   "metadata": {},
   "outputs": [
    {
     "name": "stdin",
     "output_type": "stream",
     "text": [
      " 2\n",
      " 13\n",
      " OOIOIOIOIIOII\n"
     ]
    },
    {
     "name": "stdout",
     "output_type": "stream",
     "text": [
      "2\n"
     ]
    }
   ],
   "source": [
    "# 50점\n",
    "\n",
    "N = int(input())\n",
    "M = int(input())\n",
    "S = input()\n",
    "Pn = 'I' + 'OI'*N\n",
    "cnt = 0\n",
    "\n",
    "for i in range(len(S)):\n",
    "    if S[i:i+len(Pn)] == Pn:\n",
    "        cnt += 1\n",
    "\n",
    "print(cnt)"
   ]
  },
  {
   "cell_type": "code",
   "execution_count": null,
   "id": "bac8f205-a6fd-4c7b-bb17-2d0d112ebace",
   "metadata": {},
   "outputs": [],
   "source": []
  }
 ],
 "metadata": {
  "kernelspec": {
   "display_name": "Python 3 (ipykernel)",
   "language": "python",
   "name": "python3"
  },
  "language_info": {
   "codemirror_mode": {
    "name": "ipython",
    "version": 3
   },
   "file_extension": ".py",
   "mimetype": "text/x-python",
   "name": "python",
   "nbconvert_exporter": "python",
   "pygments_lexer": "ipython3",
   "version": "3.8.12"
  }
 },
 "nbformat": 4,
 "nbformat_minor": 5
}
