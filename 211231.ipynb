{
 "cells": [
  {
   "cell_type": "markdown",
   "id": "9d9342d9-ce91-479d-bca5-3dc20b6c1b52",
   "metadata": {},
   "source": [
    "# 2021.12.31"
   ]
  },
  {
   "cell_type": "code",
   "execution_count": 11,
   "id": "f7fd10a3-8400-4676-aadc-649806054194",
   "metadata": {},
   "outputs": [],
   "source": [
    "# Silver I\n",
    "# 단지번호 붙이기"
   ]
  },
  {
   "cell_type": "code",
   "execution_count": null,
   "id": "8d5b8dbf-5001-4568-ab4b-30a64fe4dd62",
   "metadata": {},
   "outputs": [
    {
     "name": "stdin",
     "output_type": "stream",
     "text": [
      " 7\n",
      " 0000000\n",
      " 0000000\n",
      " 0000000\n",
      " 0000000\n",
      " 0000000\n",
      " 0000000\n",
      " 0000000\n"
     ]
    },
    {
     "name": "stdout",
     "output_type": "stream",
     "text": [
      "[[0], [0], [0], [0], [0], [0], [0]]\n",
      "[0]\n",
      "[0]\n",
      "[0]\n",
      "[0]\n",
      "[0]\n",
      "[0]\n",
      "[0]\n"
     ]
    }
   ],
   "source": [
    "# 다른 사람의 풀이 코드 \n",
    "from collections import deque\n",
    "\n",
    "# 입력받기\n",
    "n = int(input())\n",
    "\n",
    "# 지도 입력받기\n",
    "a = [list(map(int, input().split())) for _ in range(n)]\n",
    "\n",
    "# 방문 체크용 리스트\n",
    "group = [[0]*n for _ in range(n)]\n",
    "\n",
    "# 방향 리스트\n",
    "dx = [-1, 1, 0, 0]\n",
    "dy = [0, 0, -1, 1]\n",
    "\n",
    "# bfs\n",
    "def bfs(x, y, cnt):\n",
    "    q = deque()\n",
    "    q.append((x, y))\n",
    "    group[x][y] = cnt\n",
    "    while q:\n",
    "        x, y = q.popleft()\n",
    "        \n",
    "        # 위, 아래, 왼쪽, 오른쪽 탐색\n",
    "        for k in range(4):\n",
    "            nx, ny = x+dx[k], y+dy[k]\n",
    "            # 지도 밖으로 나갔는 지 확인\n",
    "            if 0 <= nx < n and 0 <= ny < y:\n",
    "                # 집이 있고, 아직 방문한 곳이 아닐 때 추가 탐색\n",
    "                if a[nx][ny] == 1 and group[nx][ny] == 0:\n",
    "                    q.append((nx, ny))\n",
    "                    group[nx][ny] = cnt\n",
    "                    \n",
    "# 모든 정점을 시작점으로 해서 탐색\n",
    "cnt = 0\n",
    "for i in range(n):\n",
    "    for j in "
   ]
  },
  {
   "cell_type": "code",
   "execution_count": null,
   "id": "112224bc-b604-4cad-8930-b44b68fbac78",
   "metadata": {},
   "outputs": [],
   "source": []
  },
  {
   "cell_type": "code",
   "execution_count": null,
   "id": "b5febda9-12b2-4cd5-8df3-91147764609d",
   "metadata": {},
   "outputs": [],
   "source": []
  }
 ],
 "metadata": {
  "kernelspec": {
   "display_name": "Python 3 (ipykernel)",
   "language": "python",
   "name": "python3"
  },
  "language_info": {
   "codemirror_mode": {
    "name": "ipython",
    "version": 3
   },
   "file_extension": ".py",
   "mimetype": "text/x-python",
   "name": "python",
   "nbconvert_exporter": "python",
   "pygments_lexer": "ipython3",
   "version": "3.8.12"
  }
 },
 "nbformat": 4,
 "nbformat_minor": 5
}
