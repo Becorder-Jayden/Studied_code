{
 "cells": [
  {
   "cell_type": "markdown",
   "id": "1fc68727-b95c-4d9a-b1a3-bbfc794d2805",
   "metadata": {},
   "source": [
    "# 2022.01.26"
   ]
  },
  {
   "cell_type": "code",
   "execution_count": 2,
   "id": "293ed718-abc0-41ae-8683-d59fb6681111",
   "metadata": {},
   "outputs": [],
   "source": [
    "# Silver III\n",
    "# 14889 스타트와 링크_답안"
   ]
  },
  {
   "cell_type": "code",
   "execution_count": 13,
   "id": "94862111-d62d-4878-82f2-2c33e57638aa",
   "metadata": {},
   "outputs": [
    {
     "name": "stdin",
     "output_type": "stream",
     "text": [
      " 4\n",
      " 0 1 2 3\n",
      " 4 0 5 6\n",
      " 7 1 0 2\n",
      " 3 4 5 0 \n"
     ]
    },
    {
     "name": "stdout",
     "output_type": "stream",
     "text": [
      "7\n",
      "5\n",
      "(2, 3)\n",
      "[0, 1]\n",
      "0\n"
     ]
    }
   ],
   "source": [
    "import itertools\n",
    "# 예제 입력\n",
    "N = int(input())\n",
    "arr = [x for x in range(N)]\n",
    "cases = list(itertools.combinations(arr, int(N/2)))\n",
    "for i in range(N):\n",
    "    arr[i] = list(map(int, input().split()))\n",
    "\n",
    "min_value = 100*N**2 # N개의 수, 최대값은 100\n",
    "for case_a in cases:\n",
    "    stat_A = 0\n",
    "    stat_B = 0\n",
    "    for x in case_a:\n",
    "        for y in case_a:\n",
    "            stat_A += arr[x][y]\n",
    "            \n",
    "    case_b = [x for x in range(N) if x not in case_a]\n",
    "    for x in case_b:\n",
    "        for y in case_b:\n",
    "            stat_B += arr[x][y]\n",
    "    min_value = min(min_value, abs(stat_A-stat_B))\n",
    "print(stat_A)\n",
    "print(stat_B)\n",
    "print(case_a)\n",
    "print(case_b)\n",
    "print(min_value)"
   ]
  },
  {
   "cell_type": "code",
   "execution_count": 1,
   "id": "9c43b4ee-02f8-4d70-93e5-9f35ca6ca3b6",
   "metadata": {},
   "outputs": [],
   "source": [
    "# 다른 답안"
   ]
  },
  {
   "cell_type": "code",
   "execution_count": 5,
   "id": "2ad603a2-11ea-493f-bf0c-3c09a2db4006",
   "metadata": {},
   "outputs": [
    {
     "name": "stdin",
     "output_type": "stream",
     "text": [
      " 4\n",
      " 0 1 2 3\n",
      " 1 0 2 3\n",
      " 1 2 0 3\n",
      " 1 2 3 0\n"
     ]
    },
    {
     "name": "stdout",
     "output_type": "stream",
     "text": [
      "0\n",
      "1\n",
      "1\n",
      "2\n",
      "0\n",
      "2\n",
      "2\n",
      "3\n",
      "0\n",
      "3\n",
      "3\n",
      "4\n"
     ]
    }
   ],
   "source": [
    "from itertools import combinations\n",
    "\n",
    "N = int(input())\n",
    "S = [list(map(int, input().split())) for _ in range(N)]\n",
    "members = [i for i in range(N)]\n",
    "possible_team = []\n",
    "# print(S)\n",
    "\n",
    "# 조합으로 가능한 팀 생성\n",
    "for team in list(combinations(members, N//2)):\n",
    "    possible_team.append(team)\n",
    "# print(possible_team)\n",
    "\n",
    "min_stat_gap = 10000 # 갭이 가장 작은 값을 찾기 위해_Q. 이해 안됨\n",
    "\n",
    "for i in range(len(possible_team)//2):\n",
    "    # A팀\n",
    "    team = possible_team[i]\n",
    "    stat_A = 0 # A팀 능력치\n",
    "    for j in range(N//2):\n",
    "        member = team[j] # 멤버\n",
    "        for k in team:\n",
    "            stat_A += S[member][k] # 멤버와 함께할 경우 능력치\n",
    "\n",
    "     #A를 제외한 나머지 팀\n",
    "    team = possible_team[-i-1]\n",
    "    stat_B = 0\n",
    "    for j in range(N//2):\n",
    "        member = team[j]\n",
    "        for k in team:\n",
    "            stat_B += S[member][k]\n",
    "            \n",
    "    min_stat_gap = min(min_stat_gap, abs(stat_A - stat_B))\n",
    "    \n",
    "print(min_stat_gap)"
   ]
  },
  {
   "cell_type": "markdown",
   "id": "df555d46-dde5-4db0-b4e0-d202ec519da2",
   "metadata": {},
   "source": [
    "---"
   ]
  },
  {
   "cell_type": "code",
   "execution_count": 14,
   "id": "fdd46512-caf7-4ef0-a236-39cdb4057eee",
   "metadata": {},
   "outputs": [],
   "source": [
    "# Bronze V\n",
    "# 10926 ??!"
   ]
  },
  {
   "cell_type": "code",
   "execution_count": 15,
   "id": "fee7a133-61ed-4ac8-b098-f9328ec53042",
   "metadata": {},
   "outputs": [
    {
     "name": "stdin",
     "output_type": "stream",
     "text": [
      " joonas\n"
     ]
    },
    {
     "name": "stdout",
     "output_type": "stream",
     "text": [
      "joonas??!\n"
     ]
    }
   ],
   "source": [
    "id = input()\n",
    "print(id+\"??!\")"
   ]
  },
  {
   "cell_type": "markdown",
   "id": "18cce8b2-a3ed-4951-b3e6-2ce4ff061235",
   "metadata": {},
   "source": [
    "---"
   ]
  },
  {
   "cell_type": "code",
   "execution_count": 17,
   "id": "3b3eb309-6926-4f7f-a840-b580d0ccc1e3",
   "metadata": {},
   "outputs": [],
   "source": [
    "# Bronsze V\n",
    "# 18108 1998년생인 내가 태국에서는 2541년생?!"
   ]
  },
  {
   "cell_type": "code",
   "execution_count": 19,
   "id": "b47d587d-021d-435c-82ea-fd8794a7ce87",
   "metadata": {},
   "outputs": [
    {
     "name": "stdin",
     "output_type": "stream",
     "text": [
      " 2541\n"
     ]
    },
    {
     "name": "stdout",
     "output_type": "stream",
     "text": [
      "1998\n"
     ]
    }
   ],
   "source": [
    "y = int(input())\n",
    "print(y-543)"
   ]
  },
  {
   "cell_type": "markdown",
   "id": "d1c5c40c-574e-462e-b0e5-548050103009",
   "metadata": {},
   "source": [
    "---"
   ]
  },
  {
   "cell_type": "code",
   "execution_count": 22,
   "id": "957a403f-d1b2-427d-ada5-8672f7709e35",
   "metadata": {},
   "outputs": [],
   "source": [
    "# Silver V\n",
    "# 1316 그룹 단어 체커"
   ]
  },
  {
   "cell_type": "code",
   "execution_count": null,
   "id": "b823e1eb-f3e3-4283-9799-d401b4c1fdfd",
   "metadata": {},
   "outputs": [
    {
     "name": "stdin",
     "output_type": "stream",
     "text": [
      " 3\n",
      " happy\n"
     ]
    },
    {
     "name": "stdout",
     "output_type": "stream",
     "text": [
      "104\n",
      "97\n",
      "112\n",
      "112\n",
      "121\n"
     ]
    }
   ],
   "source": [
    "N = int(input())\n",
    "cnt = 0\n",
    "for i in range(N):\n",
    "    s = input()\n",
    "    for i in range(len(s)):\n",
    "        if"
   ]
  },
  {
   "cell_type": "code",
   "execution_count": null,
   "id": "210d54cb-3469-4911-9193-d94913a22572",
   "metadata": {},
   "outputs": [],
   "source": []
  }
 ],
 "metadata": {
  "kernelspec": {
   "display_name": "Python 3 (ipykernel)",
   "language": "python",
   "name": "python3"
  },
  "language_info": {
   "codemirror_mode": {
    "name": "ipython",
    "version": 3
   },
   "file_extension": ".py",
   "mimetype": "text/x-python",
   "name": "python",
   "nbconvert_exporter": "python",
   "pygments_lexer": "ipython3",
   "version": "3.8.12"
  }
 },
 "nbformat": 4,
 "nbformat_minor": 5
}
