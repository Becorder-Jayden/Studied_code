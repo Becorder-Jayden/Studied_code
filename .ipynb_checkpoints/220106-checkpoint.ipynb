{
 "cells": [
  {
   "cell_type": "code",
   "execution_count": 1,
   "id": "125cae75-c6e4-48a9-a9b9-91d160d0d7d0",
   "metadata": {},
   "outputs": [],
   "source": [
    "# Silver I\n",
    "# 2667 단지번호 붙이기 (BFS 풀이)_포기.."
   ]
  },
  {
   "cell_type": "code",
   "execution_count": 8,
   "id": "b647b805-aec2-4667-8d25-aeb5451d2f1a",
   "metadata": {},
   "outputs": [
    {
     "ename": "SyntaxError",
     "evalue": "unexpected EOF while parsing (Temp/ipykernel_23636/4189366262.py, line 14)",
     "output_type": "error",
     "traceback": [
      "\u001b[1;36m  File \u001b[1;32m\"C:\\Users\\gmkim\\AppData\\Local\\Temp/ipykernel_23636/4189366262.py\"\u001b[1;36m, line \u001b[1;32m14\u001b[0m\n\u001b[1;33m    for i in range(4):\u001b[0m\n\u001b[1;37m                      ^\u001b[0m\n\u001b[1;31mSyntaxError\u001b[0m\u001b[1;31m:\u001b[0m unexpected EOF while parsing\n"
     ]
    }
   ],
   "source": [
    "from collections import deque\n",
    "\n",
    "N = int(input())\n",
    "graph = [[] for i in range(N)]\n",
    "\n",
    "for i in range(N):\n",
    "    line = list(map(int, input()))\n",
    "    graph[i] = line\n",
    "    \n",
    "def bfs(x, y):\n",
    "    queue = deque(graph[y][x])\n",
    "    dx = [0,0,-1,1]\n",
    "    dy = [1,-1,0,0]\n",
    "    for i in range(4):\n",
    "        nx = x+dx[i]\n",
    "        ny = y+dy[i]\n",
    "        if (0<=nx<N) and (0<=ny<N):\n"
   ]
  },
  {
   "cell_type": "code",
   "execution_count": null,
   "id": "aa3574a0-91cf-4daf-a4d5-b01b38ad147d",
   "metadata": {},
   "outputs": [],
   "source": [
    "# 다른 사람 코드 리뷰"
   ]
  },
  {
   "cell_type": "code",
   "execution_count": 16,
   "id": "fcba2325-e073-4e7e-86a6-8db58c20fbf7",
   "metadata": {},
   "outputs": [
    {
     "name": "stdin",
     "output_type": "stream",
     "text": [
      " 7\n",
      " 0110100\n",
      " 0110101\n",
      " 1110101\n",
      " 0000111\n",
      " 0100000\n",
      " 0111110\n",
      " 0111000\n"
     ]
    },
    {
     "name": "stdout",
     "output_type": "stream",
     "text": [
      "3\n",
      "7\n",
      "8\n",
      "9\n"
     ]
    }
   ],
   "source": [
    "n = int(input())\n",
    "graph = []\n",
    "\n",
    "dx = [0,0,-1,1]\n",
    "dy = [1,-1,0,0]\n",
    "\n",
    "for i in range(n):\n",
    "    graph.append(list(map(int, input())))\n",
    "    \n",
    "def bfs(a, b):\n",
    "    cnt = 0\n",
    "    \n",
    "    queue = deque()\n",
    "    queue.append((a, b))\n",
    "    graph[b][a] = -1  # 방문처리 체커 \n",
    "    \n",
    "    while queue:\n",
    "        x, y = queue.popleft()\n",
    "        cnt += 1\n",
    "        \n",
    "        for i in range(4):\n",
    "            nx = x + dx[i]\n",
    "            ny = y + dy[i]\n",
    "            if 0<=nx<n and 0<=ny<n:\n",
    "                if graph[ny][nx] == 1:\n",
    "                    queue.append((nx, ny))\n",
    "                    graph[ny][nx] = -1\n",
    "    \n",
    "    return cnt\n",
    "\n",
    "total = 0\n",
    "\n",
    "nums_list = []\n",
    "\n",
    "for i in range(n):\n",
    "    for j in range(n):\n",
    "        if graph[j][i] == 1:\n",
    "            nums_list.append(bfs(i, j))\n",
    "            total += 1\n",
    "\n",
    "print(total)\n",
    "for x in sorted(nums_list):\n",
    "    print(x)"
   ]
  },
  {
   "cell_type": "code",
   "execution_count": 1,
   "id": "58c3696e-7adf-4d6c-809c-771b85f1d5f8",
   "metadata": {},
   "outputs": [],
   "source": [
    "# 혼자 다시 풀어보기"
   ]
  },
  {
   "cell_type": "code",
   "execution_count": null,
   "id": "99f0720f-3e81-42e7-9e1e-0783ff0b8eeb",
   "metadata": {},
   "outputs": [],
   "source": [
    "from collections import deque\n",
    "\n",
    "n = int(input())\n",
    "graph = []\n",
    "for i in range(n):\n",
    "    line = list(map(int, input()))\n",
    "    graph.append(line)\n",
    "\n",
    "    \n",
    "dx = [0,0,-1,1]\n",
    "dy = [1,-1,0,0]    \n",
    "\n",
    "def bfs(a, b):\n",
    "    cnt = 0\n",
    "    queue = deque()\n",
    "    queue.append((a, b))\n",
    "    graph[b][a] = -1\n",
    "    cnt += 1\n",
    "    \n",
    "    while queue:\n",
    "        x, y = queue.popleft()\n",
    "        for i in range(4):\n",
    "            nx = x+dx[i]\n",
    "            ny = y+dy[i]\n",
    "            if graph[ny][nx] == 1:\n",
    "                queue.append((nx, ny))\n",
    "                graph[ny][nx] = -1\n",
    "                cnt += 1\n",
    "    \n",
    "    return cnt\n",
    "\n",
    "li = []\n",
    "\n",
    "for i in range(n):\n",
    "    for j in range(n):\n",
    "        if graph[j][i] == 1:\n",
    "            lis.apppend(bfs(i, j))\n",
    "\n",
    "print(len(li))"
   ]
  },
  {
   "cell_type": "markdown",
   "id": "ba1374d7-5e68-425f-963c-acb75bd29df1",
   "metadata": {},
   "source": [
    "---"
   ]
  },
  {
   "cell_type": "code",
   "execution_count": 1,
   "id": "4c5c6e11-3060-48f3-b417-bd2bda42b412",
   "metadata": {},
   "outputs": [],
   "source": [
    "# Silver IV\n",
    "# 2164 카드 2"
   ]
  },
  {
   "cell_type": "code",
   "execution_count": 38,
   "id": "206bb43e-c8c6-42d3-9c5d-c3463aaba16f",
   "metadata": {},
   "outputs": [
    {
     "name": "stdin",
     "output_type": "stream",
     "text": [
      " 6\n"
     ]
    },
    {
     "name": "stdout",
     "output_type": "stream",
     "text": [
      "4\n"
     ]
    }
   ],
   "source": [
    "from collections import deque\n",
    "\n",
    "N = int(input())\n",
    "graph = [i for i in range(1, N+1)]\n",
    "\n",
    "queue = deque(graph)\n",
    "\n",
    "while len(queue) > 1:\n",
    "    queue.popleft()\n",
    "    sec = queue.popleft()\n",
    "    queue.append(sec)\n",
    "\n",
    "print(queue[0])"
   ]
  },
  {
   "cell_type": "code",
   "execution_count": null,
   "id": "6a106759-ef62-45eb-8a12-e96b29cedbcb",
   "metadata": {},
   "outputs": [],
   "source": []
  }
 ],
 "metadata": {
  "kernelspec": {
   "display_name": "Python 3 (ipykernel)",
   "language": "python",
   "name": "python3"
  },
  "language_info": {
   "codemirror_mode": {
    "name": "ipython",
    "version": 3
   },
   "file_extension": ".py",
   "mimetype": "text/x-python",
   "name": "python",
   "nbconvert_exporter": "python",
   "pygments_lexer": "ipython3",
   "version": "3.8.12"
  }
 },
 "nbformat": 4,
 "nbformat_minor": 5
}
