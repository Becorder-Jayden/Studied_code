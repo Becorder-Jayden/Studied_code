{
 "cells": [
  {
   "cell_type": "markdown",
   "id": "9a75dbf7-010d-439e-8fa8-a0ff01537b56",
   "metadata": {},
   "source": [
    "# 2022.03.23"
   ]
  },
  {
   "cell_type": "code",
   "execution_count": 1,
   "id": "9fe5cf79-358e-4df5-acc4-6a214b9ad959",
   "metadata": {},
   "outputs": [],
   "source": [
    "# 프로그래머스 1일차"
   ]
  },
  {
   "cell_type": "code",
   "execution_count": 5,
   "id": "021ebe3b-af74-474b-8df1-64467ed573ae",
   "metadata": {},
   "outputs": [
    {
     "ename": "SyntaxError",
     "evalue": "invalid syntax (Temp/ipykernel_13132/28760949.py, line 6)",
     "output_type": "error",
     "traceback": [
      "\u001b[1;36m  File \u001b[1;32m\"C:\\Users\\gmkim\\AppData\\Local\\Temp/ipykernel_13132/28760949.py\"\u001b[1;36m, line \u001b[1;32m6\u001b[0m\n\u001b[1;33m    dic{i} = False\u001b[0m\n\u001b[1;37m       ^\u001b[0m\n\u001b[1;31mSyntaxError\u001b[0m\u001b[1;31m:\u001b[0m invalid syntax\n"
     ]
    }
   ],
   "source": [
    "answer = ''\n",
    "dic = {}\n",
    "participant = [\"leo\", \"kiki\", \"eden\"]\n",
    "completion = [\"eden\", \"kiki\"]\n",
    "for i in participant:\n",
    "    dic[i] = False\n",
    "\n",
    "print(dic)"
   ]
  },
  {
   "cell_type": "code",
   "execution_count": null,
   "id": "836434f8-2358-4c9f-abef-1cb268091ed3",
   "metadata": {},
   "outputs": [],
   "source": []
  }
 ],
 "metadata": {
  "kernelspec": {
   "display_name": "Python 3 (ipykernel)",
   "language": "python",
   "name": "python3"
  },
  "language_info": {
   "codemirror_mode": {
    "name": "ipython",
    "version": 3
   },
   "file_extension": ".py",
   "mimetype": "text/x-python",
   "name": "python",
   "nbconvert_exporter": "python",
   "pygments_lexer": "ipython3",
   "version": "3.8.12"
  }
 },
 "nbformat": 4,
 "nbformat_minor": 5
}
