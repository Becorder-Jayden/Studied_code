{
 "cells": [
  {
   "cell_type": "code",
   "execution_count": 1,
   "id": "31aeaf8b-84f0-4d0d-bcde-20e7261d8016",
   "metadata": {},
   "outputs": [],
   "source": [
    "# dfs/bfs 연습"
   ]
  },
  {
   "cell_type": "code",
   "execution_count": 2,
   "id": "3fa46016-3b97-45e0-8ca7-cb209696c171",
   "metadata": {},
   "outputs": [],
   "source": [
    "# Silver II\n",
    "# 1260번 DFS와 BFS"
   ]
  },
  {
   "cell_type": "code",
   "execution_count": null,
   "id": "d9fbb79d-3af5-4ab7-b392-d08b961bd653",
   "metadata": {},
   "outputs": [],
   "source": [
    "from collections import deque\n",
    "\n",
    "n, m, v = map(int, input().split())\n",
    "\n",
    "graph = [[] for _ in range(n+1)]\n",
    "\n",
    "for i in range(m):\n",
    "    s, e = map(int, input().split())\n",
    "    graph[s].append(e)\n",
    "    graph[e].append(s)\n",
    "    \n",
    "    # for 구문 안에서 행해져야 정답\n",
    "    graph[s].sort()\n",
    "    graph[e].sort()\n",
    "    \n",
    "visited = [False] * (n+1)\n",
    "\n",
    "def dfs(graph, v, visited):\n",
    "    visited[v] = True\n",
    "    print(v, end = ' ')\n",
    "    for i in graph[v]:\n",
    "        if not visited[i]:\n",
    "            dfs(graph, i, visited)\n",
    "            \n",
    "def bfs(graph, v, visited):\n",
    "    visited = [False]*(n+1)            # visited가 dfs에 의해 변경 되었으므로 다시 정의 필요\n",
    "    queue = deque([v])                 # v를 큐 구조에 넣음\n",
    "    visited[v] = True                  # v 지점의 visited를 True로 변경\n",
    "    while queue:                       # queue가 다 없어질 때까지 반복\n",
    "        pop = queue.popleft()          # 큐의 가장 첫번째 지점 pop\n",
    "        print(pop, end = ' ')          # 해당 pop 출력\n",
    "        for i in graph[pop]:           # pop 된 값의 graph 요소 탐색\n",
    "            if not visited[i]:         # 방문하지 않은 i가 있을 때\n",
    "                queue.append(i)        # i를 큐 구조에 넣고\n",
    "                visited[i] = True      # i 지점을 방문처리 함 \n",
    "        \n",
    "dfs(graph, v, visited)\n",
    "print()    # dfs와 bfs를 동시에 출력하기 위함\n",
    "bfs(graph, v, visited)"
   ]
  },
  {
   "cell_type": "code",
   "execution_count": 10,
   "id": "6c829895-5eed-4116-a902-a3ac406fe5e1",
   "metadata": {},
   "outputs": [
    {
     "name": "stdin",
     "output_type": "stream",
     "text": [
      " 4 5 1\n",
      " 1 2\n",
      " 1 3\n",
      " 1 4\n",
      " 2 4\n",
      " 3 4\n"
     ]
    },
    {
     "name": "stdout",
     "output_type": "stream",
     "text": [
      "1 2 4 3 \n",
      "1 2 3 4 "
     ]
    }
   ],
   "source": [
    "# 다시 풀기\n",
    "\n",
    "n, m, v = map(int, input().split())\n",
    "graph = [[] for _ in range(n+1)]\n",
    "visited = [False]*(n+1)\n",
    "\n",
    "for i in range(n+1):\n",
    "    s, e = map(int, input().split())\n",
    "    graph[s].append(e)\n",
    "    graph[e].append(s)\n",
    "    graph[s].sort()\n",
    "    graph[e].sort()\n",
    "\n",
    "\n",
    "def dfs(graph, v, visited):\n",
    "    visited[v] = True\n",
    "    print(v, end = ' ')\n",
    "    for i in graph[v]:\n",
    "        if not visited[i]:\n",
    "            dfs(graph, i, visited)\n",
    "            \n",
    "from collections import deque\n",
    "\n",
    "def bfs(graph, v, visited):\n",
    "    visited = [False]*(n+1)\n",
    "    queue = deque([v])\n",
    "    visited[v] = True\n",
    "    while queue:\n",
    "        pop = queue.popleft()\n",
    "        print(pop, end = ' ')\n",
    "        for i in graph[pop]:\n",
    "            if not visited[i]:\n",
    "                queue.append(i)\n",
    "                visited[i] = True\n",
    "\n",
    "dfs(graph, v, visited)\n",
    "print()\n",
    "bfs(graph, v, visited)"
   ]
  },
  {
   "cell_type": "code",
   "execution_count": 11,
   "id": "dedd25a9-3204-4d9d-8ce9-02194133087c",
   "metadata": {},
   "outputs": [],
   "source": [
    "# Silver I\n",
    "# 2667 단지번호 붙이기"
   ]
  },
  {
   "cell_type": "code",
   "execution_count": 39,
   "id": "0db8994f-9270-48e2-ba6f-988c54d224bf",
   "metadata": {},
   "outputs": [
    {
     "name": "stdin",
     "output_type": "stream",
     "text": [
      " 7\n",
      " 0000000\n",
      " 0000000\n",
      " 0000000\n",
      " 0000000\n",
      " 0000000\n",
      " 0000000\n",
      " 0000000\n"
     ]
    },
    {
     "name": "stdout",
     "output_type": "stream",
     "text": [
      "[[0, 0, 0, 0, 0, 0, 0], [0, 0, 0, 0, 0, 0, 0], [0, 0, 0, 0, 0, 0, 0], [0, 0, 0, 0, 0, 0, 0], [0, 0, 0, 0, 0, 0, 0], [0, 0, 0, 0, 0, 0, 0], [0, 0, 0, 0, 0, 0, 0]]\n"
     ]
    }
   ],
   "source": [
    "n = int(input())\n",
    "graph = [[0]*n for _ in range(n)]\n",
    "a = [list(map(int, input().split())) for _ in range(n)]\n",
    "print(graph)"
   ]
  },
  {
   "cell_type": "code",
   "execution_count": 46,
   "id": "ec6e8ee2-908b-49d4-b1b3-c65aac55637b",
   "metadata": {},
   "outputs": [
    {
     "ename": "TypeError",
     "evalue": "int() argument must be a string, a bytes-like object or a number, not 'list'",
     "output_type": "error",
     "traceback": [
      "\u001b[1;31m---------------------------------------------------------------------------\u001b[0m",
      "\u001b[1;31mTypeError\u001b[0m                                 Traceback (most recent call last)",
      "\u001b[1;32m~\\AppData\\Local\\Temp/ipykernel_18352/497338431.py\u001b[0m in \u001b[0;36m<module>\u001b[1;34m\u001b[0m\n\u001b[0;32m      1\u001b[0m \u001b[0ma\u001b[0m \u001b[1;33m=\u001b[0m \u001b[1;34m'0000000'\u001b[0m\u001b[1;33m\u001b[0m\u001b[1;33m\u001b[0m\u001b[0m\n\u001b[1;32m----> 2\u001b[1;33m \u001b[0mb\u001b[0m \u001b[1;33m=\u001b[0m \u001b[0mint\u001b[0m\u001b[1;33m(\u001b[0m\u001b[0ma\u001b[0m\u001b[1;33m.\u001b[0m\u001b[0msplit\u001b[0m\u001b[1;33m(\u001b[0m\u001b[1;33m)\u001b[0m\u001b[1;33m)\u001b[0m\u001b[1;33m\u001b[0m\u001b[1;33m\u001b[0m\u001b[0m\n\u001b[0m\u001b[0;32m      3\u001b[0m \u001b[0mb\u001b[0m\u001b[1;33m\u001b[0m\u001b[1;33m\u001b[0m\u001b[0m\n",
      "\u001b[1;31mTypeError\u001b[0m: int() argument must be a string, a bytes-like object or a number, not 'list'"
     ]
    }
   ],
   "source": [
    "a = '0000000'\n",
    "b = int(a.split())\n",
    "b"
   ]
  },
  {
   "cell_type": "code",
   "execution_count": null,
   "id": "367d34a5-96fa-4276-8d18-79ef4a5e7c8a",
   "metadata": {},
   "outputs": [],
   "source": []
  },
  {
   "cell_type": "code",
   "execution_count": null,
   "id": "bb54c611-8743-48bf-91b8-81e0ba2a4a5b",
   "metadata": {},
   "outputs": [],
   "source": []
  }
 ],
 "metadata": {
  "kernelspec": {
   "display_name": "Python 3 (ipykernel)",
   "language": "python",
   "name": "python3"
  },
  "language_info": {
   "codemirror_mode": {
    "name": "ipython",
    "version": 3
   },
   "file_extension": ".py",
   "mimetype": "text/x-python",
   "name": "python",
   "nbconvert_exporter": "python",
   "pygments_lexer": "ipython3",
   "version": "3.8.12"
  }
 },
 "nbformat": 4,
 "nbformat_minor": 5
}
