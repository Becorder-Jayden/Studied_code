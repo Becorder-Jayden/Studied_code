{
 "cells": [
  {
   "cell_type": "markdown",
   "id": "1a578a92-6cf4-4a40-8afd-bd48f928ee9d",
   "metadata": {},
   "source": [
    "## 소수"
   ]
  },
  {
   "cell_type": "markdown",
   "id": "7235fa52-de8b-432d-9404-7e1cabfe92e3",
   "metadata": {
    "tags": []
   },
   "source": [
    "### 소수"
   ]
  },
  {
   "cell_type": "code",
   "execution_count": 5,
   "id": "62ce2f7c-f0c0-4c31-b6b9-2d543127085c",
   "metadata": {},
   "outputs": [
    {
     "name": "stdin",
     "output_type": "stream",
     "text": [
      " 7\n"
     ]
    },
    {
     "data": {
      "text/plain": [
       "True"
      ]
     },
     "execution_count": 5,
     "metadata": {},
     "output_type": "execute_result"
    }
   ],
   "source": [
    "def prime(x):\n",
    "    if x == 1:\n",
    "        return False\n",
    "    elif x in [2,3]:\n",
    "        return True\n",
    "    else:\n",
    "        for i in range(2, int(x**0.5)+1):\n",
    "            if x%i==0:\n",
    "                return False\n",
    "            else:\n",
    "                return True"
   ]
  },
  {
   "cell_type": "markdown",
   "id": "fcb068e9-be2a-4d86-9c84-cde3a498b38c",
   "metadata": {
    "tags": []
   },
   "source": [
    "### 소수 여부 판별"
   ]
  },
  {
   "cell_type": "code",
   "execution_count": null,
   "id": "7d6e2b76-3dc7-45cc-a9b1-dc64d42e99d9",
   "metadata": {},
   "outputs": [],
   "source": [
    "# chapter 1\n",
    "# n이 소수인지 아닌지 판별_약수의 개수를 check 하여 판별\n",
    "\n",
    "n = int(input())\n",
    "check = 0\n",
    "\n",
    "for i in range(1, n+1):          # n+1 : n까지 포함하기 위해 ; range 범위의 특성\n",
    "    if n%i == 0:\n",
    "        check += 1\n",
    "\n",
    "if check == 2:\n",
    "    print('소수')\n",
    "else:\n",
    "    print('소수가 아닌 수')"
   ]
  },
  {
   "cell_type": "code",
   "execution_count": 19,
   "id": "cf0e7066-ab71-4075-823f-5909f217a8bd",
   "metadata": {},
   "outputs": [
    {
     "name": "stdin",
     "output_type": "stream",
     "text": [
      " 0\n"
     ]
    },
    {
     "name": "stdout",
     "output_type": "stream",
     "text": [
      "True\n"
     ]
    }
   ],
   "source": [
    "# ch. 2\n",
    "# ch. 1에서 효율성을 향상시키기 위함\n",
    "# range의 범위를 변경\n",
    "\n",
    "n = int(input())\n",
    "check = True\n",
    "\n",
    "for i in range(2, n):         # 1부터 n까지(n-1 x) 체크했을 때 약수가 없는 수\n",
    "    if n%i == 0:\n",
    "        check = False\n",
    "print(check)\n",
    "\n",
    "# 코드가 짧아지고, 메모리가 줄어들게 됨\n",
    "# 단, n은 1보다 큰 수가 되어야 함"
   ]
  },
  {
   "cell_type": "code",
   "execution_count": 25,
   "id": "899cb5d6-4f4e-4db6-b8ee-1a26eab3b2b9",
   "metadata": {},
   "outputs": [
    {
     "name": "stdin",
     "output_type": "stream",
     "text": [
      " 100\n"
     ]
    },
    {
     "name": "stdout",
     "output_type": "stream",
     "text": [
      "[2, 3, 5, 7, 11, 13, 17, 19, 23, 29, 31, 37, 41, 43, 47, 53, 59, 61, 67, 71, 73, 79, 83, 89, 97]\n"
     ]
    }
   ],
   "source": [
    "# ch. 3\n",
    "# 범위내의 소수 구하기_1~a 사이 모든 소수값 구하기(a>0)\n",
    "\n",
    "a = int(input())\n",
    "li = []\n",
    "\n",
    "for n in range(2, a+1):\n",
    "    check = True\n",
    "    for i in range(2, n):\n",
    "        if n%i == 0:\n",
    "            check = False\n",
    "    if check:                  # if check==True:와 동일\n",
    "        li.append(n)\n",
    "\n",
    "print(li)"
   ]
  },
  {
   "cell_type": "code",
   "execution_count": null,
   "id": "08bd1240-7b53-496f-bc29-a4202813db70",
   "metadata": {},
   "outputs": [],
   "source": [
    "# ch.4\n",
    "# ch.3에서 효율성 향상_'에라토스테네스의 체' 적용\n",
    "\n",
    "a = int(input())\n",
    "li = []\n",
    "\n",
    "for n in range(2,a+1):\n",
    "    check = True\n",
    "    for i in range(2, int(n**0.5)+1):\n",
    "        if n%i == 0:\n",
    "            check = False\n",
    "    if check:\n",
    "        li.append(n)\n",
    "\n",
    "print(li)"
   ]
  },
  {
   "cell_type": "markdown",
   "id": "af28bed7-757c-4e25-b9bc-bcc8a551167a",
   "metadata": {},
   "source": [
    "---"
   ]
  },
  {
   "cell_type": "markdown",
   "id": "ecbc37f7-1a61-4e61-bcf9-a2d3599c6a3e",
   "metadata": {},
   "source": [
    "### 수행 시간 측정"
   ]
  },
  {
   "cell_type": "code",
   "execution_count": 1,
   "id": "7c30f774-b1b5-474e-8275-38bd8203c750",
   "metadata": {},
   "outputs": [
    {
     "name": "stdout",
     "output_type": "stream",
     "text": [
      "time :  0.0\n"
     ]
    }
   ],
   "source": [
    "import time\n",
    "start_time = time.time() # 측정 시작\n",
    "\n",
    "# 프로그램 소스 코드\n",
    "\n",
    "end_time = time.time() # 측정 종료\n",
    "print(\"time : \", end_time - start_time) # 수행 시간 출력"
   ]
  },
  {
   "cell_type": "markdown",
   "id": "c32773af-3d36-4e13-8904-67f8aa52374c",
   "metadata": {
    "tags": []
   },
   "source": [
    "### 행렬 만들기"
   ]
  },
  {
   "cell_type": "code",
   "execution_count": 2,
   "id": "1179af3c-3b64-40bb-a276-4e522444a693",
   "metadata": {},
   "outputs": [
    {
     "name": "stdin",
     "output_type": "stream",
     "text": [
      " 5\n"
     ]
    },
    {
     "name": "stdout",
     "output_type": "stream",
     "text": [
      "[[0, 0, 0, 0, 0], [0, 0, 0, 0, 0], [0, 0, 0, 0, 0], [0, 0, 0, 0, 0], [0, 0, 0, 0, 0]]\n"
     ]
    }
   ],
   "source": [
    "# NxN 영행렬\n",
    "N = int(input())\n",
    "mat = [[0]*N for i in range(N)]\n",
    "print(mat)"
   ]
  },
  {
   "cell_type": "code",
   "execution_count": 5,
   "id": "c4c44220-6a5f-4f4d-9904-b09dfcabacc0",
   "metadata": {},
   "outputs": [
    {
     "name": "stdin",
     "output_type": "stream",
     "text": [
      " 5\n"
     ]
    },
    {
     "name": "stdout",
     "output_type": "stream",
     "text": [
      "[[0, 0, 0, 0, 0], [0, 0, 0, 0, 0], [0, 0, 0, 0, 0], [0, 0, 0, 0, 0], [0, 0, 0, 0, 0]]\n"
     ]
    }
   ],
   "source": [
    "# NxN 영행렬 (2)\n",
    "N = int(input())\n",
    "stars = [[0 for _ in range(N)] for _ in range(N)]\n",
    "print(stars)"
   ]
  }
 ],
 "metadata": {
  "kernelspec": {
   "display_name": "Python 3 (ipykernel)",
   "language": "python",
   "name": "python3"
  },
  "language_info": {
   "codemirror_mode": {
    "name": "ipython",
    "version": 3
   },
   "file_extension": ".py",
   "mimetype": "text/x-python",
   "name": "python",
   "nbconvert_exporter": "python",
   "pygments_lexer": "ipython3",
   "version": "3.8.12"
  }
 },
 "nbformat": 4,
 "nbformat_minor": 5
}
