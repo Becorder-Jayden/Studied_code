{
 "cells": [
  {
   "cell_type": "markdown",
   "id": "10a746b7-abd5-4e2f-a8de-b77fcec88da2",
   "metadata": {},
   "source": [
    "# 2021.10.19"
   ]
  },
  {
   "cell_type": "code",
   "execution_count": null,
   "id": "d58cc309-5275-4183-9a80-957f5fa9304e",
   "metadata": {
    "tags": []
   },
   "outputs": [],
   "source": [
    "# 4673 셀프넘버\n",
    "# a=1\n",
    "\n",
    "# while a<=10000:\n",
    "#     a+=1\n",
    "#     print(a)\n",
    "\n",
    "a = int(input())\n",
    "t = 0\n",
    "\n",
    "while t < 10000:\n",
    "    a_1 = a%10\n",
    "    a_2 = a%100//10\n",
    "    a_3 = a%1000//100\n",
    "\n",
    "    t = a+a_1+a_2+a_3\n",
    "    print(t)\n",
    "    \n",
    "# set 함수 정리"
   ]
  },
  {
   "cell_type": "code",
   "execution_count": 54,
   "id": "ebe62ab3-45e5-4e6d-9093-4338ee959af4",
   "metadata": {},
   "outputs": [
    {
     "ename": "SyntaxError",
     "evalue": "'break' outside loop (<ipython-input-54-454d94fed24c>, line 7)",
     "output_type": "error",
     "traceback": [
      "\u001b[1;36m  File \u001b[1;32m\"<ipython-input-54-454d94fed24c>\"\u001b[1;36m, line \u001b[1;32m7\u001b[0m\n\u001b[1;33m    break\u001b[0m\n\u001b[1;37m    ^\u001b[0m\n\u001b[1;31mSyntaxError\u001b[0m\u001b[1;31m:\u001b[0m 'break' outside loop\n"
     ]
    }
   ],
   "source": [
    "lis = []\n",
    "\n",
    "def d(n):\n",
    "    return n + n%10 + n//10%10 + n//100%10 + n//1000%100\n",
    "    lis.append(d(n))\n",
    "    \n",
    "    if d(n)>100:\n",
    "        break\n",
    "d(25)"
   ]
  },
  {
   "cell_type": "code",
   "execution_count": 50,
   "id": "25883981-f016-430a-82e1-a91cbdacd063",
   "metadata": {},
   "outputs": [
    {
     "ename": "KeyboardInterrupt",
     "evalue": "Interrupted by user",
     "output_type": "error",
     "traceback": [
      "\u001b[1;31m---------------------------------------------------------------------------\u001b[0m",
      "\u001b[1;31mKeyboardInterrupt\u001b[0m                         Traceback (most recent call last)",
      "\u001b[1;32m<ipython-input-50-96f162db50c8>\u001b[0m in \u001b[0;36m<module>\u001b[1;34m\u001b[0m\n\u001b[0;32m      5\u001b[0m \u001b[1;31m# 자리 수 표현은 //, %을 이용해서 풀이 가능\u001b[0m\u001b[1;33m\u001b[0m\u001b[1;33m\u001b[0m\u001b[1;33m\u001b[0m\u001b[0m\n\u001b[0;32m      6\u001b[0m \u001b[1;33m\u001b[0m\u001b[0m\n\u001b[1;32m----> 7\u001b[1;33m \u001b[0mn\u001b[0m \u001b[1;33m=\u001b[0m \u001b[0mint\u001b[0m\u001b[1;33m(\u001b[0m\u001b[0minput\u001b[0m\u001b[1;33m(\u001b[0m\u001b[1;33m)\u001b[0m\u001b[1;33m)\u001b[0m\u001b[1;33m\u001b[0m\u001b[1;33m\u001b[0m\u001b[0m\n\u001b[0m\u001b[0;32m      8\u001b[0m \u001b[1;31m# print(n+n//10%10+n//100%10+n//1000%100)\u001b[0m\u001b[1;33m\u001b[0m\u001b[1;33m\u001b[0m\u001b[1;33m\u001b[0m\u001b[0m\n\u001b[0;32m      9\u001b[0m \u001b[0mprint\u001b[0m\u001b[1;33m(\u001b[0m\u001b[0mn\u001b[0m\u001b[1;33m)\u001b[0m\u001b[1;33m\u001b[0m\u001b[1;33m\u001b[0m\u001b[0m\n",
      "\u001b[1;32m~\\anaconda3\\lib\\site-packages\\ipykernel\\kernelbase.py\u001b[0m in \u001b[0;36mraw_input\u001b[1;34m(self, prompt)\u001b[0m\n\u001b[0;32m    858\u001b[0m                 \u001b[1;34m\"raw_input was called, but this frontend does not support input requests.\"\u001b[0m\u001b[1;33m\u001b[0m\u001b[1;33m\u001b[0m\u001b[0m\n\u001b[0;32m    859\u001b[0m             )\n\u001b[1;32m--> 860\u001b[1;33m         return self._input_request(str(prompt),\n\u001b[0m\u001b[0;32m    861\u001b[0m             \u001b[0mself\u001b[0m\u001b[1;33m.\u001b[0m\u001b[0m_parent_ident\u001b[0m\u001b[1;33m,\u001b[0m\u001b[1;33m\u001b[0m\u001b[1;33m\u001b[0m\u001b[0m\n\u001b[0;32m    862\u001b[0m             \u001b[0mself\u001b[0m\u001b[1;33m.\u001b[0m\u001b[0m_parent_header\u001b[0m\u001b[1;33m,\u001b[0m\u001b[1;33m\u001b[0m\u001b[1;33m\u001b[0m\u001b[0m\n",
      "\u001b[1;32m~\\anaconda3\\lib\\site-packages\\ipykernel\\kernelbase.py\u001b[0m in \u001b[0;36m_input_request\u001b[1;34m(self, prompt, ident, parent, password)\u001b[0m\n\u001b[0;32m    902\u001b[0m             \u001b[1;32mexcept\u001b[0m \u001b[0mKeyboardInterrupt\u001b[0m\u001b[1;33m:\u001b[0m\u001b[1;33m\u001b[0m\u001b[1;33m\u001b[0m\u001b[0m\n\u001b[0;32m    903\u001b[0m                 \u001b[1;31m# re-raise KeyboardInterrupt, to truncate traceback\u001b[0m\u001b[1;33m\u001b[0m\u001b[1;33m\u001b[0m\u001b[1;33m\u001b[0m\u001b[0m\n\u001b[1;32m--> 904\u001b[1;33m                 \u001b[1;32mraise\u001b[0m \u001b[0mKeyboardInterrupt\u001b[0m\u001b[1;33m(\u001b[0m\u001b[1;34m\"Interrupted by user\"\u001b[0m\u001b[1;33m)\u001b[0m \u001b[1;32mfrom\u001b[0m \u001b[1;32mNone\u001b[0m\u001b[1;33m\u001b[0m\u001b[1;33m\u001b[0m\u001b[0m\n\u001b[0m\u001b[0;32m    905\u001b[0m             \u001b[1;32mexcept\u001b[0m \u001b[0mException\u001b[0m \u001b[1;32mas\u001b[0m \u001b[0me\u001b[0m\u001b[1;33m:\u001b[0m\u001b[1;33m\u001b[0m\u001b[1;33m\u001b[0m\u001b[0m\n\u001b[0;32m    906\u001b[0m                 \u001b[0mself\u001b[0m\u001b[1;33m.\u001b[0m\u001b[0mlog\u001b[0m\u001b[1;33m.\u001b[0m\u001b[0mwarning\u001b[0m\u001b[1;33m(\u001b[0m\u001b[1;34m\"Invalid Message:\"\u001b[0m\u001b[1;33m,\u001b[0m \u001b[0mexc_info\u001b[0m\u001b[1;33m=\u001b[0m\u001b[1;32mTrue\u001b[0m\u001b[1;33m)\u001b[0m\u001b[1;33m\u001b[0m\u001b[1;33m\u001b[0m\u001b[0m\n",
      "\u001b[1;31mKeyboardInterrupt\u001b[0m: Interrupted by user"
     ]
    }
   ],
   "source": [
    "# n = int(input())\n",
    "a = n%10\n",
    "b = n//10%10\n",
    "c = n//100%10\n",
    "# 자리 수 표현은 //, %을 이용해서 풀이 가능\n",
    "\n",
    "n = int(input())\n",
    "# print(n+n//10%10+n//100%10+n//1000%100)\n",
    "print(n)\n",
    "print(n%10)\n",
    "print(n//10%10)\n",
    "print(n//100%10)\n",
    "print(n//1000%100)\n"
   ]
  },
  {
   "cell_type": "code",
   "execution_count": null,
   "id": "605b3964-fe42-4b57-8052-2228d4507338",
   "metadata": {},
   "outputs": [],
   "source": []
  },
  {
   "cell_type": "code",
   "execution_count": null,
   "id": "c95e2447-cb05-4e72-a0e7-4064d2d2b8c7",
   "metadata": {},
   "outputs": [],
   "source": []
  },
  {
   "cell_type": "code",
   "execution_count": null,
   "id": "55584c13-ff68-4bf2-80a5-bbb77ab05d8e",
   "metadata": {},
   "outputs": [],
   "source": []
  },
  {
   "cell_type": "code",
   "execution_count": null,
   "id": "65ddc8b0-843d-4874-9530-563d097c166e",
   "metadata": {},
   "outputs": [],
   "source": []
  },
  {
   "cell_type": "code",
   "execution_count": null,
   "id": "ba2025fa-cf54-4977-aae1-2aa7faf19c44",
   "metadata": {},
   "outputs": [],
   "source": []
  },
  {
   "cell_type": "code",
   "execution_count": null,
   "id": "761d9ce3-d416-4509-b377-027064c1daa3",
   "metadata": {},
   "outputs": [],
   "source": [
    "## Silver V\n",
    "# 1316 그룹 단어 체커_틀렸습니다\n",
    "# step 1\n",
    "\n",
    "n = int(input())\n",
    "\n",
    "for i in range(n):\n",
    "    text = input()\n",
    "    \n",
    "    if len(set(list(text)))==len(list(text)):\n",
    "        print('글자가 모두 다른 입력값')\n",
    "    \n",
    "    else: # 글자가 2개 이상 동일한 입력값\n",
    "        print('글자가 2개 이상 동일한 입력값')"
   ]
  },
  {
   "cell_type": "code",
   "execution_count": null,
   "id": "74b9b7dd-af16-4ac6-9ca8-2486cd689b69",
   "metadata": {},
   "outputs": [],
   "source": [
    "# step 2\n",
    "\n",
    "n = int(input())\n",
    "s = 0\n",
    "l1 = []\n",
    "l2 = []\n",
    "\n",
    "for i in range(n):\n",
    "    text = input()\n",
    "    \n",
    "    if len(set(list(text)))==len(list(text)):\n",
    "        s += 1\n",
    "        print(s)\n",
    "    else: # 글자가 2개 이상 동일한 입력값\n",
    "        for j in text:\n",
    "            l1.append(j)\n",
    "            try:\n",
    "                if j==l2[-1]:\n",
    "                    s+=1\n",
    "                else:\n",
    "                    l2.append(j)\n",
    "            except:\n",
    "                l2.append(j)\n",
    "        print(s)\n",
    "        \n",
    "        # 저장된 것을 초기화는 안해서? by. 영민"
   ]
  },
  {
   "cell_type": "code",
   "execution_count": null,
   "id": "a3fb37b3-a9e1-48b5-b7fc-1b97510c9432",
   "metadata": {},
   "outputs": [],
   "source": [
    "# step 3 왜 틀린거지..\n",
    "\n",
    "n = int(input())\n",
    "s = 0\n",
    "l1 = []\n",
    "l2 = []\n",
    "\n",
    "for i in range(n):\n",
    "    text = input()\n",
    "    \n",
    "    if len(set(list(text)))==len(list(text)):\n",
    "        s += 1\n",
    "\n",
    "    else:\n",
    "        for j in text:\n",
    "            l1.append(j)\n",
    "            try:\n",
    "                if j==l2[-1]:\n",
    "                    s+=1\n",
    "                else:\n",
    "                    l2.append(j)\n",
    "            except:\n",
    "                l2.append(j)\n",
    "        l1=[]\n",
    "        l2=[]\n",
    "print(s)"
   ]
  },
  {
   "cell_type": "code",
   "execution_count": null,
   "id": "8a2bfbe1-5e5e-4b83-aafc-e356fb1dbfca",
   "metadata": {},
   "outputs": [],
   "source": []
  },
  {
   "cell_type": "code",
   "execution_count": null,
   "id": "5938572a-1a5c-4017-b1d5-9103bfdd148f",
   "metadata": {},
   "outputs": [],
   "source": []
  }
 ],
 "metadata": {
  "kernelspec": {
   "display_name": "Python 3",
   "language": "python",
   "name": "python3"
  },
  "language_info": {
   "codemirror_mode": {
    "name": "ipython",
    "version": 3
   },
   "file_extension": ".py",
   "mimetype": "text/x-python",
   "name": "python",
   "nbconvert_exporter": "python",
   "pygments_lexer": "ipython3",
   "version": "3.8.8"
  }
 },
 "nbformat": 4,
 "nbformat_minor": 5
}
