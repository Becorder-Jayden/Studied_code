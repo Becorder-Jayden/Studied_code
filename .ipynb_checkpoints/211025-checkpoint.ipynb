{
 "cells": [
  {
   "cell_type": "markdown",
   "id": "1f260c86-87be-4197-bfe4-e87f2f62fbcd",
   "metadata": {},
   "source": [
    "## 2021.10.25"
   ]
  },
  {
   "cell_type": "code",
   "execution_count": 25,
   "id": "671b244f-1790-4e35-8832-fb537b18ac35",
   "metadata": {},
   "outputs": [
    {
     "name": "stdin",
     "output_type": "stream",
     "text": [
      " 10\n",
      " 5\n",
      " 2\n",
      " 3\n",
      " 1\n",
      " 4\n",
      " 2\n",
      " 3\n",
      " 5\n",
      " 1\n",
      " 7\n"
     ]
    },
    {
     "name": "stdout",
     "output_type": "stream",
     "text": [
      "1\n",
      "1\n",
      "2\n",
      "2\n",
      "3\n",
      "3\n",
      "4\n",
      "5\n",
      "5\n",
      "7\n"
     ]
    }
   ],
   "source": [
    "# Siver V\n",
    "# 10989 수 정렬하기 3\n",
    "\n",
    "t = int(input())\n",
    "lis = []\n",
    "\n",
    "for i in range(t):\n",
    "    a = int(input())\n",
    "    lis.append(a)\n",
    "    \n",
    "for i in sorted(lis):\n",
    "    print(i)\n",
    "    \n",
    "# 메모리 초과 오류 발생\n",
    "# input() 대신에 sys.stdin.readline(), append 대신 list comprehension 이용?"
   ]
  },
  {
   "cell_type": "code",
   "execution_count": 32,
   "id": "de913eb1-82a7-41b7-a28a-f9e937102581",
   "metadata": {},
   "outputs": [
    {
     "ename": "ValueError",
     "evalue": "invalid literal for int() with base 10: ''",
     "output_type": "error",
     "traceback": [
      "\u001b[1;31m---------------------------------------------------------------------------\u001b[0m",
      "\u001b[1;31mValueError\u001b[0m                                Traceback (most recent call last)",
      "\u001b[1;32m<ipython-input-32-faead6370e5a>\u001b[0m in \u001b[0;36m<module>\u001b[1;34m\u001b[0m\n\u001b[0;32m      1\u001b[0m \u001b[1;32mimport\u001b[0m \u001b[0msys\u001b[0m\u001b[1;33m\u001b[0m\u001b[1;33m\u001b[0m\u001b[0m\n\u001b[0;32m      2\u001b[0m \u001b[1;33m\u001b[0m\u001b[0m\n\u001b[1;32m----> 3\u001b[1;33m \u001b[0mt\u001b[0m \u001b[1;33m=\u001b[0m \u001b[0mint\u001b[0m\u001b[1;33m(\u001b[0m\u001b[0msys\u001b[0m\u001b[1;33m.\u001b[0m\u001b[0mstdin\u001b[0m\u001b[1;33m.\u001b[0m\u001b[0mreadline\u001b[0m\u001b[1;33m(\u001b[0m\u001b[1;33m)\u001b[0m\u001b[1;33m)\u001b[0m\u001b[1;33m\u001b[0m\u001b[1;33m\u001b[0m\u001b[0m\n\u001b[0m\u001b[0;32m      4\u001b[0m \u001b[0mlis\u001b[0m \u001b[1;33m=\u001b[0m \u001b[1;33m[\u001b[0m\u001b[1;33m]\u001b[0m\u001b[1;33m\u001b[0m\u001b[1;33m\u001b[0m\u001b[0m\n\u001b[0;32m      5\u001b[0m \u001b[1;33m\u001b[0m\u001b[0m\n",
      "\u001b[1;31mValueError\u001b[0m: invalid literal for int() with base 10: ''"
     ]
    }
   ],
   "source": [
    "import sys\n",
    "\n",
    "t = int(sys.stdin.readline())\n",
    "lis = []\n",
    "\n",
    "for i in range(t):\n",
    "    a = int(sys.stdin.readline())\n",
    "    lis.append(a)\n",
    "    \n",
    "for i in sorted(lis):\n",
    "    print(i) \n",
    "# 으.. 에러.."
   ]
  },
  {
   "cell_type": "markdown",
   "id": "9f6fd390-fa5d-4400-b7d9-bfe4b74c22fd",
   "metadata": {},
   "source": [
    " ---"
   ]
  },
  {
   "cell_type": "code",
   "execution_count": 276,
   "id": "8b996a2a-4ab5-42b5-a14a-d439ebd13b99",
   "metadata": {},
   "outputs": [
    {
     "name": "stdin",
     "output_type": "stream",
     "text": [
      " 13\n",
      " but\n",
      " i\n",
      " wont\n",
      " hesitate\n",
      " no\n",
      " more\n",
      " no\n",
      " more\n",
      " it\n",
      " cannot\n",
      " wait\n",
      " im\n",
      " yours\n"
     ]
    },
    {
     "name": "stdout",
     "output_type": "stream",
     "text": [
      "i\n",
      "im\n",
      "it\n",
      "no\n",
      "but\n",
      "more\n",
      "wait\n",
      "wont\n",
      "yours\n",
      "cannot\n",
      "hesitate\n"
     ]
    }
   ],
   "source": [
    "# Silver V\n",
    "# 1181 단어 정렬\n",
    "\n",
    "num = int(input())\n",
    "lis = [input() for i in range(num)]\n",
    "\n",
    "lis.sort() # sort(), sort(key=len) 적용 순서에 따라 값이 달라지나?\n",
    "lis.sort(key=len)\n",
    "\n",
    "lis2 = []\n",
    "for i in lis:\n",
    "    if i not in lis2:\n",
    "        lis2.append(i)\n",
    "\n",
    "for i in lis2:\n",
    "    print(i)"
   ]
  },
  {
   "cell_type": "code",
   "execution_count": 277,
   "id": "cde50e99-fb7a-4183-951f-b5aa5d76e651",
   "metadata": {},
   "outputs": [
    {
     "name": "stdin",
     "output_type": "stream",
     "text": [
      " 13\n",
      " but\n",
      " i\n",
      " wont\n",
      " hesitate\n",
      " no\n",
      " more\n",
      " no\n",
      " more\n",
      " it\n",
      " canno\n",
      " wait\n",
      " im\n",
      " yours\n"
     ]
    },
    {
     "name": "stdout",
     "output_type": "stream",
     "text": [
      "but\n",
      "canno\n",
      "hesitate\n",
      "i\n",
      "im\n",
      "it\n",
      "more\n",
      "no\n",
      "wait\n",
      "wont\n",
      "yours\n"
     ]
    }
   ],
   "source": [
    "# test1\n",
    "num = int(input())\n",
    "lis = [input() for i in range(num)]\n",
    "\n",
    "# sort(), sort(key=len) 적용 순서에 따라 값이 달라지나? → 달라진다 왜..?\n",
    "lis.sort(key=len)\n",
    "lis.sort()\n",
    "\n",
    "lis2 = []\n",
    "for i in lis:\n",
    "    if i not in lis2:\n",
    "        lis2.append(i)\n",
    "\n",
    "for i in lis2:\n",
    "    print(i)"
   ]
  },
  {
   "cell_type": "code",
   "execution_count": 14,
   "id": "fd1abec3-ca8d-43f6-b1e1-765b201baadf",
   "metadata": {},
   "outputs": [
    {
     "data": {
      "text/plain": [
       "[1, 2, 3, 3, 6, 5, 7, 8]"
      ]
     },
     "execution_count": 14,
     "metadata": {},
     "output_type": "execute_result"
    }
   ],
   "source": [
    "# test2\n",
    "\n",
    "a = [1,2,3,3,6,5,7,8]\n",
    "sorted(a)\n",
    "a"
   ]
  },
  {
   "cell_type": "code",
   "execution_count": null,
   "id": "399a48ce-2b5d-4c12-95c4-2b8d7f11adde",
   "metadata": {},
   "outputs": [],
   "source": []
  }
 ],
 "metadata": {
  "kernelspec": {
   "display_name": "Python 3",
   "language": "python",
   "name": "python3"
  },
  "language_info": {
   "codemirror_mode": {
    "name": "ipython",
    "version": 3
   },
   "file_extension": ".py",
   "mimetype": "text/x-python",
   "name": "python",
   "nbconvert_exporter": "python",
   "pygments_lexer": "ipython3",
   "version": "3.8.8"
  }
 },
 "nbformat": 4,
 "nbformat_minor": 5
}
