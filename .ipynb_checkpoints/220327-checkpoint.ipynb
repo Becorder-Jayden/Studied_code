{
 "cells": [
  {
   "cell_type": "markdown",
   "id": "ccd18a31-99e7-4af5-becb-0ec71d3b533b",
   "metadata": {},
   "source": [
    "# 2022.03.27"
   ]
  },
  {
   "cell_type": "code",
   "execution_count": 41,
   "id": "6520031a-e43a-444e-8e8b-49c3a1321570",
   "metadata": {},
   "outputs": [
    {
     "ename": "NameError",
     "evalue": "name 'reverse' is not defined",
     "output_type": "error",
     "traceback": [
      "\u001b[1;31m---------------------------------------------------------------------------\u001b[0m",
      "\u001b[1;31mNameError\u001b[0m                                 Traceback (most recent call last)",
      "\u001b[1;32m~\\AppData\\Local\\Temp/ipykernel_13860/3018973810.py\u001b[0m in \u001b[0;36m<module>\u001b[1;34m\u001b[0m\n\u001b[0;32m      5\u001b[0m \u001b[1;31m# 9534330\u001b[0m\u001b[1;33m\u001b[0m\u001b[1;33m\u001b[0m\u001b[1;33m\u001b[0m\u001b[0m\n\u001b[0;32m      6\u001b[0m \u001b[1;33m\u001b[0m\u001b[0m\n\u001b[1;32m----> 7\u001b[1;33m \u001b[0mnumbers\u001b[0m\u001b[1;33m.\u001b[0m\u001b[0msort\u001b[0m\u001b[1;33m(\u001b[0m\u001b[0mreverse\u001b[0m\u001b[1;33m)\u001b[0m\u001b[1;33m\u001b[0m\u001b[1;33m\u001b[0m\u001b[0m\n\u001b[0m\u001b[0;32m      8\u001b[0m \u001b[0mprint\u001b[0m\u001b[1;33m(\u001b[0m\u001b[0mnumbers\u001b[0m\u001b[1;33m)\u001b[0m\u001b[1;33m\u001b[0m\u001b[1;33m\u001b[0m\u001b[0m\n",
      "\u001b[1;31mNameError\u001b[0m: name 'reverse' is not defined"
     ]
    }
   ],
   "source": [
    "# numbers = [6, 10, 2] \n",
    "# 6210\n",
    "\n",
    "numbers = [3, 30, 34, 5, 9]\n",
    "# 9534330\n",
    "\n",
    "numbers.sort(reverse)\n",
    "print(numbers)"
   ]
  },
  {
   "cell_type": "code",
   "execution_count": 45,
   "id": "6c361a12-4900-4579-8472-c24ae76fca42",
   "metadata": {},
   "outputs": [
    {
     "name": "stdout",
     "output_type": "stream",
     "text": [
      "9534330\n"
     ]
    }
   ],
   "source": [
    "num = [3, 30, 34, 5, 9]\n",
    "\n",
    "def solution(num): \n",
    "    num = list(map(str, num)) \n",
    "    num.sort(key = lambda x : x*3, reverse = True) \n",
    "    return str(int(''.join(num)))\n",
    "\n",
    "print(solution(num))"
   ]
  },
  {
   "cell_type": "code",
   "execution_count": 49,
   "id": "d7e19b93-983d-4af1-93f3-984574ddf259",
   "metadata": {},
   "outputs": [
    {
     "name": "stdout",
     "output_type": "stream",
     "text": [
      "['9', '5', '34', '3', '30']\n"
     ]
    }
   ],
   "source": [
    "num = [3, 30, 34, 5, 9]\n",
    "num = list(map(str, num))\n",
    "num.sort(key = lambda a : a*5, reverse = True)\n",
    "print(num)"
   ]
  },
  {
   "cell_type": "code",
   "execution_count": null,
   "id": "cffeb68e-2dc0-42e8-b3a6-ac002a9f0486",
   "metadata": {},
   "outputs": [],
   "source": []
  }
 ],
 "metadata": {
  "kernelspec": {
   "display_name": "Python 3 (ipykernel)",
   "language": "python",
   "name": "python3"
  },
  "language_info": {
   "codemirror_mode": {
    "name": "ipython",
    "version": 3
   },
   "file_extension": ".py",
   "mimetype": "text/x-python",
   "name": "python",
   "nbconvert_exporter": "python",
   "pygments_lexer": "ipython3",
   "version": "3.8.12"
  }
 },
 "nbformat": 4,
 "nbformat_minor": 5
}
