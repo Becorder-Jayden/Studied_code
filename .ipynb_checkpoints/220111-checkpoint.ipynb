{
 "cells": [
  {
   "cell_type": "markdown",
   "id": "ef5613fd-0579-495f-b052-38006f7b5de8",
   "metadata": {},
   "source": [
    "# 2022.01.10"
   ]
  },
  {
   "cell_type": "code",
   "execution_count": 1,
   "id": "95e8f486-22df-4d66-8c97-d135b270f0f9",
   "metadata": {},
   "outputs": [],
   "source": [
    "# Silver I\n",
    "# 7576 토마토"
   ]
  },
  {
   "cell_type": "code",
   "execution_count": 3,
   "id": "1d53bbb3-2581-40f3-9c4c-eb3d685556e0",
   "metadata": {},
   "outputs": [
    {
     "name": "stdin",
     "output_type": "stream",
     "text": [
      " 6 4\n",
      " 0 0 0 0 0 0\n",
      " 0 0 0 0 0 0\n",
      " 0 0 0 0 0 0\n",
      " 0 0 0 0 0 1\n"
     ]
    },
    {
     "data": {
      "text/plain": [
       "[[0, 0, 0, 0, 0, 0],\n",
       " [0, 0, 0, 0, 0, 0],\n",
       " [0, 0, 0, 0, 0, 0],\n",
       " [0, 0, 0, 0, 0, 1]]"
      ]
     },
     "execution_count": 3,
     "metadata": {},
     "output_type": "execute_result"
    }
   ],
   "source": [
    "M, N = map(int, input().split())\n",
    "house = [list(map(int,input().split())) for i in range (N)]\n",
    "house"
   ]
  },
  {
   "cell_type": "code",
   "execution_count": null,
   "id": "d6092b17-2c21-4525-aef9-63cdaf8ab800",
   "metadata": {},
   "outputs": [],
   "source": [
    "from collections import deque\n",
    "\n",
    "def bfs(x, y):\n",
    "    cnt = 0\n",
    "    dx = [0,0,-1,1]\n",
    "    dy = [1,-1,0,0]\n",
    "    \n",
    "    queue = deque()\n",
    "    queue.append((x,y))\n",
    "    \n",
    "    while queue:\n",
    "        x, y = queue.popleft()\n",
    "        \n",
    "        for i in range(4):\n",
    "            nx = x + dx[i]\n",
    "            ny = y + dy[i]\n",
    "            \n",
    "            if 0<=nx<M and 0<=ny<N:\n",
    "                if house[ny][nx] == 0:\n",
    "                    house[ny][nx] = 1\n",
    "                    cnt += 1\n",
    "\n",
    "    "
   ]
  }
 ],
 "metadata": {
  "kernelspec": {
   "display_name": "Python 3 (ipykernel)",
   "language": "python",
   "name": "python3"
  },
  "language_info": {
   "codemirror_mode": {
    "name": "ipython",
    "version": 3
   },
   "file_extension": ".py",
   "mimetype": "text/x-python",
   "name": "python",
   "nbconvert_exporter": "python",
   "pygments_lexer": "ipython3",
   "version": "3.8.12"
  }
 },
 "nbformat": 4,
 "nbformat_minor": 5
}
