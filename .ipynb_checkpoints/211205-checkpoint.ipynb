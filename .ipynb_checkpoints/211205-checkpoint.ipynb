{
 "cells": [
  {
   "cell_type": "markdown",
   "id": "e33c0519-778a-4859-bbfa-3efb7aa91bce",
   "metadata": {},
   "source": [
    "# 2021.12.05\n",
    "소수 복습"
   ]
  },
  {
   "cell_type": "code",
   "execution_count": 22,
   "id": "240fcb6d-26b7-4da0-a466-a9b7cab4dba9",
   "metadata": {},
   "outputs": [
    {
     "name": "stdin",
     "output_type": "stream",
     "text": [
      " 59\n"
     ]
    },
    {
     "name": "stdout",
     "output_type": "stream",
     "text": [
      "소수\n"
     ]
    }
   ],
   "source": [
    "# n이 소수인지 아닌지 판별\n",
    "\n",
    "N = int(input())\n",
    "check = 0\n",
    "\n",
    "for i in range(1, N+1):\n",
    "    if N%i == 0:\n",
    "        check += 1\n",
    "        \n",
    "if check == 2:\n",
    "    print('소수')\n",
    "else:\n",
    "    print('소수가 아닌 수')"
   ]
  },
  {
   "cell_type": "code",
   "execution_count": 32,
   "id": "12c6e650-9ddf-4d03-960f-7a0710a933e2",
   "metadata": {},
   "outputs": [
    {
     "name": "stdin",
     "output_type": "stream",
     "text": [
      " 60\n"
     ]
    },
    {
     "name": "stdout",
     "output_type": "stream",
     "text": [
      "[2, 3, 5, 7, 11, 13, 17, 19, 23, 29, 31, 37, 41, 43, 47, 53, 59]\n"
     ]
    }
   ],
   "source": [
    "# 1과 a 사이의 소수 구하기\n",
    "# 에라토스테네스의 체\n",
    "\n",
    "a = int(input())\n",
    "li = []\n",
    "\n",
    "for n in range(2, a+1):\n",
    "    check = True\n",
    "    for i in range(2, int(n**0.5)+1):\n",
    "        if n%i == 0:\n",
    "            check = False\n",
    "    if check:\n",
    "        li.append(n)\n",
    "            \n",
    "print(li)"
   ]
  },
  {
   "cell_type": "code",
   "execution_count": 41,
   "id": "4df7c467-b5be-4ac8-acab-e075081fa93f",
   "metadata": {},
   "outputs": [
    {
     "name": "stdin",
     "output_type": "stream",
     "text": [
      " 60\n",
      " 100\n"
     ]
    },
    {
     "name": "stdout",
     "output_type": "stream",
     "text": [
      "620\n",
      "61\n"
     ]
    }
   ],
   "source": [
    "# M과 N 사이의 소수 구하기\n",
    "# 백준 채점결과 : 틀렸습니다_Q.why?\n",
    "M = int(input())\n",
    "N = int(input())\n",
    "\n",
    "li = []\n",
    "\n",
    "for i in range(M, N+1):\n",
    "    check = True\n",
    "    for j in range(2, int(i**0.5)+1):\n",
    "        if i%j == 0:\n",
    "            check = False\n",
    "    if check:\n",
    "        li.append(i)\n",
    "\n",
    "if li == []:\n",
    "    print(-1)\n",
    "else:\n",
    "    print(sum(li))\n",
    "    print(min(li))"
   ]
  },
  {
   "cell_type": "markdown",
   "id": "b8545cf9-c081-4366-83eb-a916338f47da",
   "metadata": {},
   "source": [
    "---"
   ]
  },
  {
   "cell_type": "code",
   "execution_count": 42,
   "id": "d0ab6dce-a64d-481b-8d7b-d712f9dbf8ee",
   "metadata": {},
   "outputs": [],
   "source": [
    "# Silver I\n",
    "# 9020 골드바흐 추측"
   ]
  },
  {
   "cell_type": "code",
   "execution_count": 17,
   "id": "8f70fef2-dc4a-4f4f-9d68-67977ca40b36",
   "metadata": {},
   "outputs": [
    {
     "ename": "KeyboardInterrupt",
     "evalue": "Interrupted by user",
     "output_type": "error",
     "traceback": [
      "\u001b[1;31m---------------------------------------------------------------------------\u001b[0m",
      "\u001b[1;31mKeyboardInterrupt\u001b[0m                         Traceback (most recent call last)",
      "\u001b[1;32m~\\AppData\\Local\\Temp/ipykernel_26440/2646827974.py\u001b[0m in \u001b[0;36m<module>\u001b[1;34m\u001b[0m\n\u001b[0;32m      1\u001b[0m \u001b[1;31m# a까지의 소수 리스트 확인\u001b[0m\u001b[1;33m\u001b[0m\u001b[1;33m\u001b[0m\u001b[1;33m\u001b[0m\u001b[0m\n\u001b[0;32m      2\u001b[0m \u001b[1;33m\u001b[0m\u001b[0m\n\u001b[1;32m----> 3\u001b[1;33m \u001b[0ma\u001b[0m \u001b[1;33m=\u001b[0m \u001b[0mint\u001b[0m\u001b[1;33m(\u001b[0m\u001b[0minput\u001b[0m\u001b[1;33m(\u001b[0m\u001b[1;33m)\u001b[0m\u001b[1;33m)\u001b[0m\u001b[1;33m\u001b[0m\u001b[1;33m\u001b[0m\u001b[0m\n\u001b[0m\u001b[0;32m      4\u001b[0m \u001b[0mli\u001b[0m \u001b[1;33m=\u001b[0m \u001b[1;33m[\u001b[0m\u001b[1;33m]\u001b[0m\u001b[1;33m\u001b[0m\u001b[1;33m\u001b[0m\u001b[0m\n\u001b[0;32m      5\u001b[0m \u001b[1;33m\u001b[0m\u001b[0m\n",
      "\u001b[1;32m~\\anaconda3\\lib\\site-packages\\ipykernel\\kernelbase.py\u001b[0m in \u001b[0;36mraw_input\u001b[1;34m(self, prompt)\u001b[0m\n\u001b[0;32m   1004\u001b[0m                 \u001b[1;34m\"raw_input was called, but this frontend does not support input requests.\"\u001b[0m\u001b[1;33m\u001b[0m\u001b[1;33m\u001b[0m\u001b[0m\n\u001b[0;32m   1005\u001b[0m             )\n\u001b[1;32m-> 1006\u001b[1;33m         return self._input_request(\n\u001b[0m\u001b[0;32m   1007\u001b[0m             \u001b[0mstr\u001b[0m\u001b[1;33m(\u001b[0m\u001b[0mprompt\u001b[0m\u001b[1;33m)\u001b[0m\u001b[1;33m,\u001b[0m\u001b[1;33m\u001b[0m\u001b[1;33m\u001b[0m\u001b[0m\n\u001b[0;32m   1008\u001b[0m             \u001b[0mself\u001b[0m\u001b[1;33m.\u001b[0m\u001b[0m_parent_ident\u001b[0m\u001b[1;33m[\u001b[0m\u001b[1;34m\"shell\"\u001b[0m\u001b[1;33m]\u001b[0m\u001b[1;33m,\u001b[0m\u001b[1;33m\u001b[0m\u001b[1;33m\u001b[0m\u001b[0m\n",
      "\u001b[1;32m~\\anaconda3\\lib\\site-packages\\ipykernel\\kernelbase.py\u001b[0m in \u001b[0;36m_input_request\u001b[1;34m(self, prompt, ident, parent, password)\u001b[0m\n\u001b[0;32m   1049\u001b[0m             \u001b[1;32mexcept\u001b[0m \u001b[0mKeyboardInterrupt\u001b[0m\u001b[1;33m:\u001b[0m\u001b[1;33m\u001b[0m\u001b[1;33m\u001b[0m\u001b[0m\n\u001b[0;32m   1050\u001b[0m                 \u001b[1;31m# re-raise KeyboardInterrupt, to truncate traceback\u001b[0m\u001b[1;33m\u001b[0m\u001b[1;33m\u001b[0m\u001b[1;33m\u001b[0m\u001b[0m\n\u001b[1;32m-> 1051\u001b[1;33m                 \u001b[1;32mraise\u001b[0m \u001b[0mKeyboardInterrupt\u001b[0m\u001b[1;33m(\u001b[0m\u001b[1;34m\"Interrupted by user\"\u001b[0m\u001b[1;33m)\u001b[0m \u001b[1;32mfrom\u001b[0m \u001b[1;32mNone\u001b[0m\u001b[1;33m\u001b[0m\u001b[1;33m\u001b[0m\u001b[0m\n\u001b[0m\u001b[0;32m   1052\u001b[0m             \u001b[1;32mexcept\u001b[0m \u001b[0mException\u001b[0m\u001b[1;33m:\u001b[0m\u001b[1;33m\u001b[0m\u001b[1;33m\u001b[0m\u001b[0m\n\u001b[0;32m   1053\u001b[0m                 \u001b[0mself\u001b[0m\u001b[1;33m.\u001b[0m\u001b[0mlog\u001b[0m\u001b[1;33m.\u001b[0m\u001b[0mwarning\u001b[0m\u001b[1;33m(\u001b[0m\u001b[1;34m\"Invalid Message:\"\u001b[0m\u001b[1;33m,\u001b[0m \u001b[0mexc_info\u001b[0m\u001b[1;33m=\u001b[0m\u001b[1;32mTrue\u001b[0m\u001b[1;33m)\u001b[0m\u001b[1;33m\u001b[0m\u001b[1;33m\u001b[0m\u001b[0m\n",
      "\u001b[1;31mKeyboardInterrupt\u001b[0m: Interrupted by user"
     ]
    }
   ],
   "source": [
    "# a까지의 소수 리스트 확인\n",
    "\n",
    "a = int(input())\n",
    "li = []\n",
    "\n",
    "for n in range(2, a+1):\n",
    "    check = True\n",
    "    for i in range(2, int(n**0.5)+1):\n",
    "        if n%i==0:\n",
    "            check = False\n",
    "    if check:\n",
    "        li.append(n)\n",
    "\n",
    "# print(li)\n",
    "if li[0]%2==0:\n",
    "    print(str(li[1]) + ' + ' + str(li[-2]))\n",
    "else:\n",
    "    print(str(li[0]) + ' + ' + str(li[-1]))"
   ]
  },
  {
   "cell_type": "code",
   "execution_count": 69,
   "id": "d700a901-9eb0-4cc7-b6f4-1a4426e4da21",
   "metadata": {},
   "outputs": [
    {
     "name": "stdin",
     "output_type": "stream",
     "text": [
      " 20\n"
     ]
    },
    {
     "name": "stdout",
     "output_type": "stream",
     "text": [
      "[]\n",
      "[(3, 17)]\n",
      "[]\n",
      "[]\n",
      "[]\n",
      "[]\n",
      "[]\n",
      "[]\n",
      "[]\n",
      "[]\n",
      "[]\n",
      "[]\n",
      "[]\n",
      "[]\n",
      "[]\n",
      "[]\n",
      "[(7, 13)]\n",
      "[]\n",
      "[]\n",
      "[]\n",
      "[]\n",
      "[]\n",
      "[]\n",
      "[]\n",
      "[]\n",
      "[]\n",
      "[]\n",
      "[]\n",
      "[]\n",
      "[]\n",
      "[]\n",
      "[]\n",
      "[]\n",
      "[]\n",
      "[]\n",
      "[]\n",
      "[]\n",
      "[]\n",
      "[]\n",
      "[]\n",
      "[]\n",
      "[]\n",
      "[]\n",
      "[]\n",
      "[]\n",
      "[]\n",
      "[]\n",
      "[]\n",
      "[]\n"
     ]
    }
   ],
   "source": [
    "# 함수 정의로 만들기\n",
    "\n",
    "def sum_(N):\n",
    "    li = []\n",
    "    for n in range(3, N+1): # 홀수 소수를 구하기 위해 2를 범위에서 제외\n",
    "        check = True\n",
    "        for i in range(2, int(n**0.5)+1):\n",
    "            if n%i==0:\n",
    "                check = False\n",
    "        if check:\n",
    "            li.append(n)\n",
    "            \n",
    "    for i in li:\n",
    "        for j in list(reversed(li)):\n",
    "            li2 = []\n",
    "            if (N == i+j) & (i<j):\n",
    "                li2.append((i, j))\n",
    "            print(li2)\n",
    "            \n",
    "for i in range(1):\n",
    "    N = int(input())\n",
    "    sum_(N)"
   ]
  },
  {
   "cell_type": "code",
   "execution_count": null,
   "id": "2f51e665-34e1-4390-b4b9-ab1504d63dce",
   "metadata": {},
   "outputs": [],
   "source": []
  },
  {
   "cell_type": "code",
   "execution_count": null,
   "id": "5ece6efe-15d0-426f-bd69-8b3dbe877318",
   "metadata": {},
   "outputs": [],
   "source": []
  },
  {
   "cell_type": "code",
   "execution_count": null,
   "id": "18ba0cde-8ad2-4801-8c47-2f8728baf8f0",
   "metadata": {},
   "outputs": [],
   "source": []
  }
 ],
 "metadata": {
  "kernelspec": {
   "display_name": "Python 3 (ipykernel)",
   "language": "python",
   "name": "python3"
  },
  "language_info": {
   "codemirror_mode": {
    "name": "ipython",
    "version": 3
   },
   "file_extension": ".py",
   "mimetype": "text/x-python",
   "name": "python",
   "nbconvert_exporter": "python",
   "pygments_lexer": "ipython3",
   "version": "3.8.12"
  }
 },
 "nbformat": 4,
 "nbformat_minor": 5
}
