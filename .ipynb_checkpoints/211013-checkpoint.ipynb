{
 "cells": [
  {
   "cell_type": "code",
   "execution_count": 14,
   "id": "3817b679-d1ae-4aef-83ba-e4c76397eaa8",
   "metadata": {},
   "outputs": [
    {
     "name": "stdin",
     "output_type": "stream",
     "text": [
      " 839 237\n"
     ]
    },
    {
     "name": "stdout",
     "output_type": "stream",
     "text": [
      "938\n"
     ]
    }
   ],
   "source": [
    "# 2908 상수\n",
    "\n",
    "a, b = input().split()\n",
    "\n",
    "a=a[::-1]\n",
    "b=b[::-1]\n",
    "print(max(a, b))"
   ]
  },
  {
   "cell_type": "code",
   "execution_count": 7,
   "id": "f6085cb9-6c86-4a58-9a1a-33c709d1dcf9",
   "metadata": {},
   "outputs": [
    {
     "name": "stdin",
     "output_type": "stream",
     "text": [
      " 3\n",
      "  40 60 80\n"
     ]
    },
    {
     "name": "stdout",
     "output_type": "stream",
     "text": [
      "75.0\n"
     ]
    }
   ],
   "source": [
    "# 1546 평균\n",
    "\n",
    "n = int(input())\n",
    "t = input().split()\n",
    "l = []\n",
    "s = 0\n",
    "\n",
    "for i in t:\n",
    "    l.append(int(i))\n",
    "    m = max(l)\n",
    "s = sum(l)\n",
    "a = s/m * 100 / n\n",
    "print(round(a,6))"
   ]
  },
  {
   "cell_type": "code",
   "execution_count": null,
   "id": "adc09798-aafc-481a-b2ef-7ae747259da0",
   "metadata": {},
   "outputs": [],
   "source": []
  }
 ],
 "metadata": {
  "kernelspec": {
   "display_name": "Python 3",
   "language": "python",
   "name": "python3"
  },
  "language_info": {
   "codemirror_mode": {
    "name": "ipython",
    "version": 3
   },
   "file_extension": ".py",
   "mimetype": "text/x-python",
   "name": "python",
   "nbconvert_exporter": "python",
   "pygments_lexer": "ipython3",
   "version": "3.8.8"
  }
 },
 "nbformat": 4,
 "nbformat_minor": 5
}
