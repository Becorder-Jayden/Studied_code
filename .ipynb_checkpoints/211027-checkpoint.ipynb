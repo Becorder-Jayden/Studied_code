{
 "cells": [
  {
   "cell_type": "markdown",
   "id": "4bd3c420-b41c-4dcd-96e7-bdcd7159ed3b",
   "metadata": {},
   "source": [
    "# 2021.10.27"
   ]
  },
  {
   "cell_type": "code",
   "execution_count": 21,
   "id": "e9837690-208c-4fe8-be2a-c76d383e498b",
   "metadata": {},
   "outputs": [],
   "source": [
    "# Silver V\n",
    "# 1913 달팽이\n",
    "\n",
    "# 백준은 numpy 사용불가\n",
    "# [1], [2 ~ 9], [10 ~ 25], [26 ~ 49]\n",
    "# 끝자리 수 : 8n-7 : 1, 9, 25, 49, 85..\n",
    "# bn : 8, 16, 24, 48, 96..\n",
    "# n번째 줄 : 2n-1개 씩 나열\n",
    "\n",
    "# 행렬을 어떻게 구성을 할것인지\n",
    "# (m,n)을 어떻게 엑세스 할지 \n",
    "# list 안에 list를 구성하는 방안\n",
    "# (i,j)가 어떻게 변해야 하는 지를"
   ]
  },
  {
   "cell_type": "code",
   "execution_count": 78,
   "id": "4d8cfd62-c8e5-4520-b7de-408a2c53dcd8",
   "metadata": {},
   "outputs": [
    {
     "name": "stdin",
     "output_type": "stream",
     "text": [
      " 5\n"
     ]
    },
    {
     "data": {
      "text/plain": [
       "[[25, 10, 11, 12, 13],\n",
       " [24, 9, 2, 3, 14],\n",
       " [23, 8, 1, 4, 15],\n",
       " [22, 7, 6, 5, 16],\n",
       " [21, 20, 19, 18, 17]]"
      ]
     },
     "execution_count": 78,
     "metadata": {},
     "output_type": "execute_result"
    }
   ],
   "source": [
    "# NxN 행렬 만들기\n",
    "\n",
    "N = int(input())\n",
    "mat = []\n",
    "\n",
    "for i in range(N):\n",
    "    line = []\n",
    "    for j in range(N):\n",
    "        line.append(0)\n",
    "    mat.append(line)\n",
    "\n",
    "# center (0,0) = (N//2, N//2) \n",
    "c = N//2\n",
    "x = 0\n",
    "y = 0\n",
    "num = 0\n",
    "\n",
    "# for문을 통해서 구현해야 해\n",
    "# move를 정해서 투입?\n",
    "# for i in range(N**2):\n",
    "#     for j in \n",
    "\n",
    "( 0, 0)   1  0 0\n",
    "(-1, 0)   2 -1\n",
    "(-1, 1)   3  0 0\n",
    "( 0, 1)   4  1\n",
    "( 1, 1)   5  2\n",
    "( 1, 0)   6  1\n",
    "( 1,-1)   7  0 0\n",
    "( 0,-1)   8 -1\n",
    "(-1,-1)   9 -2\n",
    "(-2,-1)  10 -3 \n",
    "(-2, 0)  11 -2\n",
    "(-2, 1)  12 -1\n",
    "(-2, 2)  13  0 0\n",
    "\n",
    "\n",
    "mat[c][c] = 1\n",
    "mat[c-1][c] = 2\n",
    "mat[c-1][c+1] = 3\n",
    "mat[c][c+1] = 4\n",
    "mat[c+1][c+1] = 5\n",
    "mat[c+1][c] = 6\n",
    "mat[c+1][c-1] = 7\n",
    "mat[c][c-1] = 8\n",
    "mat[c-1][c-1] = 9\n",
    "mat[c-2][c-1] = 10\n",
    "mat[c-2][c] = 11\n",
    "mat[c-2][c+1] = 12\n",
    "mat[c-2][c+2] = 13\n",
    "mat[c-1][c+2] = 14\n",
    "mat[c][c+2] = 15\n",
    "mat[c+1][c+2] = 16\n",
    "mat[c+2][c+2] = 17\n",
    "mat[c+2][c+1] = 18\n",
    "mat[c+2][c] = 19\n",
    "mat[c+2][c-1] = 20\n",
    "mat[c+2][c-2] = 21\n",
    "mat[c+1][c-2] = 22\n",
    "mat[c][c-2] = 23\n",
    "mat[c-1][c-2] = 24\n",
    "#mat[cen-2][cen-2] = 25\n",
    "\n",
    "\n",
    "\n",
    "\n",
    "mat"
   ]
  },
  {
   "cell_type": "code",
   "execution_count": 81,
   "id": "d6e9c4ae-cf56-46a5-87ee-4e051bbd8108",
   "metadata": {},
   "outputs": [
    {
     "name": "stdin",
     "output_type": "stream",
     "text": [
      " 5\n"
     ]
    },
    {
     "data": {
      "text/plain": [
       "[[0, 0, 0, 0, 0],\n",
       " [0, 0, 0, 0, 0],\n",
       " [0, 0, 0, 0, 0],\n",
       " [0, 0, 0, 0, 0],\n",
       " [0, 0, 0, 0, 0]]"
      ]
     },
     "execution_count": 81,
     "metadata": {},
     "output_type": "execute_result"
    }
   ],
   "source": [
    "N = int(input())\n",
    "mat = []\n",
    "\n",
    "for i in range(N):\n",
    "    line = []\n",
    "    for j in range(N):\n",
    "        line.append(0)\n",
    "    mat.append(line)\n",
    "mat"
   ]
  },
  {
   "cell_type": "code",
   "execution_count": null,
   "id": "ce522c21-e42c-4f56-a3c5-4d689e9569fa",
   "metadata": {},
   "outputs": [],
   "source": []
  },
  {
   "cell_type": "code",
   "execution_count": null,
   "id": "47cf12df-d3c7-4e18-9769-a9de0a5b9f51",
   "metadata": {},
   "outputs": [],
   "source": []
  },
  {
   "cell_type": "code",
   "execution_count": null,
   "id": "3fe833ba-7907-48d7-8394-f31c4dfad25d",
   "metadata": {},
   "outputs": [],
   "source": []
  },
  {
   "cell_type": "code",
   "execution_count": null,
   "id": "3b40e493-b28f-4871-b310-85baf46f2618",
   "metadata": {},
   "outputs": [],
   "source": [
    "#정답 예시\n",
    "'''\n",
    "49 26 27 28 29 30 31\n",
    "48 25 10 11 12 13 32\n",
    "47 24  9  2  3 14 33\n",
    "46 23  8  1  4 15 34\n",
    "45 22  7  6  5 16 35\n",
    "44 21 20 19 18 17 36\n",
    "43 42 41 40 39 38 37\n",
    "5 7\n",
    "'''"
   ]
  },
  {
   "cell_type": "code",
   "execution_count": null,
   "id": "736ac701-d65e-4e75-9777-10b057f36c68",
   "metadata": {},
   "outputs": [],
   "source": []
  }
 ],
 "metadata": {
  "kernelspec": {
   "display_name": "Python 3",
   "language": "python",
   "name": "python3"
  },
  "language_info": {
   "codemirror_mode": {
    "name": "ipython",
    "version": 3
   },
   "file_extension": ".py",
   "mimetype": "text/x-python",
   "name": "python",
   "nbconvert_exporter": "python",
   "pygments_lexer": "ipython3",
   "version": "3.8.8"
  }
 },
 "nbformat": 4,
 "nbformat_minor": 5
}
