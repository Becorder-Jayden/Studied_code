{
 "cells": [
  {
   "cell_type": "markdown",
   "id": "4e5f53d0-73c6-4e13-8b68-6d1f2e0fe29b",
   "metadata": {},
   "source": [
    "# 2022.01.27"
   ]
  },
  {
   "cell_type": "code",
   "execution_count": 1,
   "id": "c0926784-0e9d-4a01-a31b-bd52d85e37b4",
   "metadata": {},
   "outputs": [],
   "source": [
    "# Silver IV\n",
    "# 10845 큐_정답"
   ]
  },
  {
   "cell_type": "code",
   "execution_count": null,
   "id": "5cd946e1-f53c-4dfc-94e9-28601ebe629b",
   "metadata": {},
   "outputs": [],
   "source": [
    "import sys\n",
    "from collections import deque\n",
    "\n",
    "N = int(sys.stdin.readline())\n",
    "queue = deque()\n",
    " \n",
    "for i in range(N):\n",
    "    a = sys.stdin.readline().split()\n",
    "    \n",
    "    if a[0] == \"push\":\n",
    "        queue.append(a[1])\n",
    "        \n",
    "    elif a[0] == \"pop\":\n",
    "        if len(queue) > 0:\n",
    "            print(queue.popleft())\n",
    "        else:\n",
    "            print(-1)\n",
    "            \n",
    "    elif a[0] == \"size\":\n",
    "        print(len(queue))\n",
    "        \n",
    "    elif a[0] == \"empty\":\n",
    "        if len(queue)==0:\n",
    "            print(1)\n",
    "        else:\n",
    "            print(0)\n",
    "    \n",
    "    elif a[0] == \"front\":\n",
    "        if len(queue) > 0:\n",
    "            print(queue[0])\n",
    "        else:\n",
    "            print(-1)\n",
    "    \n",
    "    elif a[0] == \"back\":\n",
    "        if len(queue)>0:\n",
    "            print(queue[-1])\n",
    "        else:\n",
    "            print(-1) "
   ]
  },
  {
   "cell_type": "markdown",
   "id": "fec4d6e7-c77c-4238-b0b6-5bf36e0abfc3",
   "metadata": {},
   "source": [
    "---"
   ]
  },
  {
   "cell_type": "code",
   "execution_count": 1,
   "id": "b46d5a34-fd6b-4090-9034-a0cbb3428556",
   "metadata": {},
   "outputs": [],
   "source": [
    "# Silver III\n",
    "# 1654 랜선 자르기"
   ]
  },
  {
   "cell_type": "code",
   "execution_count": 19,
   "id": "044c844e-dcbf-43b1-9cb9-e385294eeef1",
   "metadata": {},
   "outputs": [
    {
     "name": "stdin",
     "output_type": "stream",
     "text": [
      " 4 11\n",
      " 802\n",
      " 743\n",
      " 457\n",
      " 539\n"
     ]
    },
    {
     "name": "stdout",
     "output_type": "stream",
     "text": [
      "[802, 743, 457, 539]\n"
     ]
    }
   ],
   "source": [
    "K, N = map(int, input().split()) # K:오영식 소유 개수, N:필요한 개수\n",
    "room = []\n",
    "\n",
    "for i in range(K):\n",
    "    line = int(input())\n",
    "    room.append(line)\n",
    "\n",
    "print(room)\n",
    "\n",
    "# room의 최소공배수 구하기\n"
   ]
  },
  {
   "cell_type": "code",
   "execution_count": 28,
   "id": "281b7f75-2c8c-4d80-9f5f-22c54463dac8",
   "metadata": {},
   "outputs": [
    {
     "name": "stdout",
     "output_type": "stream",
     "text": [
      "68\n",
      "54\n",
      "14\n",
      "12\n",
      "2\n",
      "0\n"
     ]
    }
   ],
   "source": [
    "room = [802, 743]\n",
    "print(802%734)\n",
    "print(734%68)\n",
    "print(68%54)\n",
    "print(54%14)\n",
    "print(14%12)\n",
    "print(12%2)"
   ]
  },
  {
   "cell_type": "code",
   "execution_count": null,
   "id": "687088b1-6f09-4da8-ba37-291343ae2542",
   "metadata": {},
   "outputs": [],
   "source": []
  }
 ],
 "metadata": {
  "kernelspec": {
   "display_name": "Python 3 (ipykernel)",
   "language": "python",
   "name": "python3"
  },
  "language_info": {
   "codemirror_mode": {
    "name": "ipython",
    "version": 3
   },
   "file_extension": ".py",
   "mimetype": "text/x-python",
   "name": "python",
   "nbconvert_exporter": "python",
   "pygments_lexer": "ipython3",
   "version": "3.8.12"
  }
 },
 "nbformat": 4,
 "nbformat_minor": 5
}
