{
 "cells": [
  {
   "cell_type": "markdown",
   "id": "4ef9ddf7-e6ce-4698-a988-3491ad8fa41b",
   "metadata": {},
   "source": [
    "# 2022.02.07"
   ]
  },
  {
   "cell_type": "code",
   "execution_count": 1,
   "id": "2fd7f172-15a4-4f48-96af-980776909f4c",
   "metadata": {},
   "outputs": [],
   "source": [
    "# Silver V\n",
    "# 10814 나이순 정렬"
   ]
  },
  {
   "cell_type": "code",
   "execution_count": 19,
   "id": "7dec8b1b-b762-4471-975d-a7c8d6d5e61e",
   "metadata": {},
   "outputs": [
    {
     "name": "stdin",
     "output_type": "stream",
     "text": [
      " 3\n",
      " 21 Junkyu\n",
      " 21 Dohyun\n",
      " 20 Sunyoung\n"
     ]
    },
    {
     "name": "stdout",
     "output_type": "stream",
     "text": [
      "20 Sunyoung\n",
      "21 Junkyu\n",
      "21 Dohyun\n"
     ]
    }
   ],
   "source": [
    "N = int(input())\n",
    "li = []\n",
    "\n",
    "for i in range(N):\n",
    "    a, b = input().split()\n",
    "    li.append([a, b])\n",
    "    \n",
    "li = sorted(li, key = lambda a: int(a[0]))    \n",
    "\n",
    "for i in li:\n",
    "    print(i[0], i[1])"
   ]
  },
  {
   "cell_type": "markdown",
   "id": "ce567e6f-0141-43c8-a566-1cb78fc31c0e",
   "metadata": {},
   "source": [
    "---"
   ]
  },
  {
   "cell_type": "code",
   "execution_count": 60,
   "id": "73787f62-04d0-4d47-a787-db92bd07c9ff",
   "metadata": {},
   "outputs": [],
   "source": [
    "# Silver II\n",
    "# 18111 마인크래프트"
   ]
  },
  {
   "cell_type": "code",
   "execution_count": 89,
   "id": "9a4cb6c1-fe17-4f89-b190-fc73f9f0ced3",
   "metadata": {},
   "outputs": [],
   "source": [
    "ground = [[1, 2, 3, 4], [5, 6, 7, 8], [2, 3, 4, 12]]"
   ]
  },
  {
   "cell_type": "code",
   "execution_count": 91,
   "id": "256f936a-f20f-470b-8b60-361658d80813",
   "metadata": {},
   "outputs": [
    {
     "name": "stdout",
     "output_type": "stream",
     "text": [
      "90\n",
      "69\n",
      "54\n",
      "45\n",
      "42\n",
      "42\n",
      "45\n",
      "51\n",
      "87\n",
      "최소값은: 42\n",
      "42\n"
     ]
    }
   ],
   "source": [
    "# N, M, B = map(int, input().split())\n",
    "B = 1000000\n",
    "# ground = []\n",
    "gather = []\n",
    "li = []\n",
    "\n",
    "\n",
    "# for _ in range(N):\n",
    "#     li = list(input().split())\n",
    "#     ground.append(li)\n",
    "    \n",
    "for i in ground:\n",
    "    for j in i:\n",
    "        gather.append(j)\n",
    "    \n",
    "gather = sorted(set(gather))\n",
    "\n",
    "def Try(n):  # n: 기준이 되는 블럭 숫자\n",
    "    cnt = 0\n",
    "    global B\n",
    "    for i in ground: #gather 바꿔야함\n",
    "        for j in i:\n",
    "            while int(j) > n:  # 숫자가 더 클때: 제거, 블럭 +1\n",
    "                j -= 1\n",
    "                cnt += 2\n",
    "                B += 1\n",
    "            while (int(j) < n) & (B > 0):  # 숫자가 더 적을때: 추가, 블럭 -1\n",
    "                j += 1\n",
    "                cnt += 1\n",
    "                B -= 1\n",
    "    return cnt\n",
    "\n",
    "for i in gather:\n",
    "    li.append(Try(int(i)))\n",
    "    print(Try(int(i)))\n",
    "    \n",
    "print('최소값은:', min(li))"
   ]
  },
  {
   "cell_type": "code",
   "execution_count": 112,
   "id": "1ef09f68-581e-4129-8f7f-f88c21784bad",
   "metadata": {},
   "outputs": [
    {
     "ename": "KeyboardInterrupt",
     "evalue": "Interrupted by user",
     "output_type": "error",
     "traceback": [
      "\u001b[1;31m---------------------------------------------------------------------------\u001b[0m",
      "\u001b[1;31mKeyboardInterrupt\u001b[0m                         Traceback (most recent call last)",
      "\u001b[1;32m~\\AppData\\Local\\Temp/ipykernel_28284/3140480722.py\u001b[0m in \u001b[0;36m<module>\u001b[1;34m\u001b[0m\n\u001b[0;32m      1\u001b[0m \u001b[1;31m# ver 1\u001b[0m\u001b[1;33m\u001b[0m\u001b[1;33m\u001b[0m\u001b[1;33m\u001b[0m\u001b[0m\n\u001b[1;32m----> 2\u001b[1;33m \u001b[0mN\u001b[0m\u001b[1;33m,\u001b[0m \u001b[0mM\u001b[0m\u001b[1;33m,\u001b[0m \u001b[0mB\u001b[0m \u001b[1;33m=\u001b[0m \u001b[0mmap\u001b[0m\u001b[1;33m(\u001b[0m\u001b[0mint\u001b[0m\u001b[1;33m,\u001b[0m \u001b[0minput\u001b[0m\u001b[1;33m(\u001b[0m\u001b[1;33m)\u001b[0m\u001b[1;33m.\u001b[0m\u001b[0msplit\u001b[0m\u001b[1;33m(\u001b[0m\u001b[1;33m)\u001b[0m\u001b[1;33m)\u001b[0m\u001b[1;33m\u001b[0m\u001b[1;33m\u001b[0m\u001b[0m\n\u001b[0m\u001b[0;32m      3\u001b[0m \u001b[0mground\u001b[0m \u001b[1;33m=\u001b[0m \u001b[1;33m[\u001b[0m\u001b[1;33m]\u001b[0m\u001b[1;33m\u001b[0m\u001b[1;33m\u001b[0m\u001b[0m\n\u001b[0;32m      4\u001b[0m \u001b[0mclf\u001b[0m \u001b[1;33m=\u001b[0m \u001b[1;33m[\u001b[0m\u001b[1;33m]\u001b[0m\u001b[1;33m\u001b[0m\u001b[1;33m\u001b[0m\u001b[0m\n\u001b[0;32m      5\u001b[0m \u001b[0mbf_times\u001b[0m \u001b[1;33m=\u001b[0m \u001b[1;33m[\u001b[0m\u001b[1;33m]\u001b[0m\u001b[1;33m\u001b[0m\u001b[1;33m\u001b[0m\u001b[0m\n",
      "\u001b[1;32m~\\anaconda3\\lib\\site-packages\\ipykernel\\kernelbase.py\u001b[0m in \u001b[0;36mraw_input\u001b[1;34m(self, prompt)\u001b[0m\n\u001b[0;32m   1004\u001b[0m                 \u001b[1;34m\"raw_input was called, but this frontend does not support input requests.\"\u001b[0m\u001b[1;33m\u001b[0m\u001b[1;33m\u001b[0m\u001b[0m\n\u001b[0;32m   1005\u001b[0m             )\n\u001b[1;32m-> 1006\u001b[1;33m         return self._input_request(\n\u001b[0m\u001b[0;32m   1007\u001b[0m             \u001b[0mstr\u001b[0m\u001b[1;33m(\u001b[0m\u001b[0mprompt\u001b[0m\u001b[1;33m)\u001b[0m\u001b[1;33m,\u001b[0m\u001b[1;33m\u001b[0m\u001b[1;33m\u001b[0m\u001b[0m\n\u001b[0;32m   1008\u001b[0m             \u001b[0mself\u001b[0m\u001b[1;33m.\u001b[0m\u001b[0m_parent_ident\u001b[0m\u001b[1;33m[\u001b[0m\u001b[1;34m\"shell\"\u001b[0m\u001b[1;33m]\u001b[0m\u001b[1;33m,\u001b[0m\u001b[1;33m\u001b[0m\u001b[1;33m\u001b[0m\u001b[0m\n",
      "\u001b[1;32m~\\anaconda3\\lib\\site-packages\\ipykernel\\kernelbase.py\u001b[0m in \u001b[0;36m_input_request\u001b[1;34m(self, prompt, ident, parent, password)\u001b[0m\n\u001b[0;32m   1049\u001b[0m             \u001b[1;32mexcept\u001b[0m \u001b[0mKeyboardInterrupt\u001b[0m\u001b[1;33m:\u001b[0m\u001b[1;33m\u001b[0m\u001b[1;33m\u001b[0m\u001b[0m\n\u001b[0;32m   1050\u001b[0m                 \u001b[1;31m# re-raise KeyboardInterrupt, to truncate traceback\u001b[0m\u001b[1;33m\u001b[0m\u001b[1;33m\u001b[0m\u001b[1;33m\u001b[0m\u001b[0m\n\u001b[1;32m-> 1051\u001b[1;33m                 \u001b[1;32mraise\u001b[0m \u001b[0mKeyboardInterrupt\u001b[0m\u001b[1;33m(\u001b[0m\u001b[1;34m\"Interrupted by user\"\u001b[0m\u001b[1;33m)\u001b[0m \u001b[1;32mfrom\u001b[0m \u001b[1;32mNone\u001b[0m\u001b[1;33m\u001b[0m\u001b[1;33m\u001b[0m\u001b[0m\n\u001b[0m\u001b[0;32m   1052\u001b[0m             \u001b[1;32mexcept\u001b[0m \u001b[0mException\u001b[0m\u001b[1;33m:\u001b[0m\u001b[1;33m\u001b[0m\u001b[1;33m\u001b[0m\u001b[0m\n\u001b[0;32m   1053\u001b[0m                 \u001b[0mself\u001b[0m\u001b[1;33m.\u001b[0m\u001b[0mlog\u001b[0m\u001b[1;33m.\u001b[0m\u001b[0mwarning\u001b[0m\u001b[1;33m(\u001b[0m\u001b[1;34m\"Invalid Message:\"\u001b[0m\u001b[1;33m,\u001b[0m \u001b[0mexc_info\u001b[0m\u001b[1;33m=\u001b[0m\u001b[1;32mTrue\u001b[0m\u001b[1;33m)\u001b[0m\u001b[1;33m\u001b[0m\u001b[1;33m\u001b[0m\u001b[0m\n",
      "\u001b[1;31mKeyboardInterrupt\u001b[0m: Interrupted by user"
     ]
    }
   ],
   "source": [
    "# ver 1\n",
    "N, M, B = map(int, input().split())\n",
    "ground = []\n",
    "clf = []\n",
    "bf_times = []\n",
    "\n",
    "for _ in range(N):\n",
    "    li = list(map(int, input().split()))\n",
    "    ground.append(li)\n",
    "    \n",
    "# print(ground)\n",
    "for i in ground:\n",
    "    for j in i:\n",
    "        clf.append(j)\n",
    "        \n",
    "clf = list(set(clf))\n",
    "\n",
    "def bf(n):  # 브루트포스 적용, n이 기준일 때\n",
    "    cnt = 0 \n",
    "    global B\n",
    "    for i in ground:\n",
    "        for j in i:\n",
    "            while j > n:\n",
    "                j -= 1\n",
    "                B += 1\n",
    "                cnt += 2\n",
    "            while (j < n) & (B > 0):\n",
    "                j += 1\n",
    "                B -= 1\n",
    "                cnt += 1\n",
    "    return cnt\n",
    "\n",
    "for i in clf:\n",
    "    bf_times.append(bf(i))\n",
    "\n",
    "print(clf)\n",
    "print(bf_times)\n",
    "print(min(bf_times), clf[bf_times.index(min(bf_times))])"
   ]
  },
  {
   "cell_type": "code",
   "execution_count": null,
   "id": "032f6883-326c-4931-84a4-9986f27aaf40",
   "metadata": {},
   "outputs": [],
   "source": [
    "# ver2\n",
    "# pypy3 채점, sys 사용 \n",
    "\n",
    "import sys\n",
    "\n",
    "N, M, B = map(int, sys.stdin.readline().split())\n",
    "ground = []\n",
    "clf = []\n",
    "bf_times = []\n",
    "\n",
    "for _ in range(N):\n",
    "    li = list(map(int, sys.stdin.readline().split()))\n",
    "    ground.append(li)\n",
    "    \n",
    "for i in ground:\n",
    "    for j in i:\n",
    "        clf.append(j)\n",
    "        \n",
    "clf = list(set(clf))\n",
    "\n",
    "def bf(n):  # 브루트포스 적용, n이 기준일 때\n",
    "    cnt = 0 \n",
    "    global B\n",
    "    for i in ground:\n",
    "        for j in i:\n",
    "            while j > n:\n",
    "                j -= 1\n",
    "                B += 1\n",
    "                cnt += 2\n",
    "            while (j < n) & (B > 0):\n",
    "                j += 1\n",
    "                B -= 1\n",
    "                cnt += 1\n",
    "    return cnt\n",
    "\n",
    "for i in clf:\n",
    "    bf_times.append(bf(i))\n",
    "\n",
    "print(min(bf_times), clf[bf_times.index(min(bf_times))])"
   ]
  },
  {
   "cell_type": "code",
   "execution_count": 111,
   "id": "65aab71f-741c-4664-b238-44daf2c39aee",
   "metadata": {},
   "outputs": [
    {
     "name": "stdin",
     "output_type": "stream",
     "text": [
      " 3 4 99\n",
      " 0 0 0 0\n",
      " 0 0 0 0\n",
      " 0 0 0 1\n"
     ]
    },
    {
     "ename": "TypeError",
     "evalue": "int() argument must be a string, a bytes-like object or a number, not 'list'",
     "output_type": "error",
     "traceback": [
      "\u001b[1;31m---------------------------------------------------------------------------\u001b[0m",
      "\u001b[1;31mTypeError\u001b[0m                                 Traceback (most recent call last)",
      "\u001b[1;32m~\\AppData\\Local\\Temp/ipykernel_28284/272243721.py\u001b[0m in \u001b[0;36m<module>\u001b[1;34m\u001b[0m\n\u001b[0;32m     39\u001b[0m \u001b[1;33m\u001b[0m\u001b[0m\n\u001b[0;32m     40\u001b[0m \u001b[1;32mfor\u001b[0m \u001b[0mi\u001b[0m \u001b[1;32min\u001b[0m \u001b[0mclf\u001b[0m\u001b[1;33m:\u001b[0m\u001b[1;33m\u001b[0m\u001b[1;33m\u001b[0m\u001b[0m\n\u001b[1;32m---> 41\u001b[1;33m     \u001b[0mbf_times\u001b[0m\u001b[1;33m.\u001b[0m\u001b[0mappend\u001b[0m\u001b[1;33m(\u001b[0m\u001b[0mbf\u001b[0m\u001b[1;33m(\u001b[0m\u001b[0mi\u001b[0m\u001b[1;33m)\u001b[0m\u001b[1;33m)\u001b[0m\u001b[1;33m\u001b[0m\u001b[1;33m\u001b[0m\u001b[0m\n\u001b[0m\u001b[0;32m     42\u001b[0m \u001b[1;33m\u001b[0m\u001b[0m\n\u001b[0;32m     43\u001b[0m \u001b[0mprint\u001b[0m\u001b[1;33m(\u001b[0m\u001b[0mclf\u001b[0m\u001b[1;33m)\u001b[0m\u001b[1;33m\u001b[0m\u001b[1;33m\u001b[0m\u001b[0m\n",
      "\u001b[1;32m~\\AppData\\Local\\Temp/ipykernel_28284/272243721.py\u001b[0m in \u001b[0;36mbf\u001b[1;34m(n)\u001b[0m\n\u001b[0;32m     23\u001b[0m     \u001b[1;32mfor\u001b[0m \u001b[0mi\u001b[0m \u001b[1;32min\u001b[0m \u001b[0mground\u001b[0m\u001b[1;33m:\u001b[0m\u001b[1;33m\u001b[0m\u001b[1;33m\u001b[0m\u001b[0m\n\u001b[0;32m     24\u001b[0m         \u001b[1;32mfor\u001b[0m \u001b[0mj\u001b[0m \u001b[1;32min\u001b[0m \u001b[0mi\u001b[0m\u001b[1;33m:\u001b[0m\u001b[1;33m\u001b[0m\u001b[1;33m\u001b[0m\u001b[0m\n\u001b[1;32m---> 25\u001b[1;33m             \u001b[0mdif\u001b[0m \u001b[1;33m=\u001b[0m \u001b[0mint\u001b[0m\u001b[1;33m(\u001b[0m\u001b[0mj\u001b[0m\u001b[1;33m)\u001b[0m\u001b[1;33m-\u001b[0m\u001b[0mint\u001b[0m\u001b[1;33m(\u001b[0m\u001b[0mi\u001b[0m\u001b[1;33m)\u001b[0m\u001b[1;33m\u001b[0m\u001b[1;33m\u001b[0m\u001b[0m\n\u001b[0m\u001b[0;32m     26\u001b[0m             \u001b[1;32mif\u001b[0m \u001b[0mdif\u001b[0m\u001b[1;33m>\u001b[0m\u001b[1;36m0\u001b[0m\u001b[1;33m:\u001b[0m\u001b[1;33m\u001b[0m\u001b[1;33m\u001b[0m\u001b[0m\n\u001b[0;32m     27\u001b[0m                 \u001b[0mj\u001b[0m \u001b[1;33m-=\u001b[0m \u001b[0mdif\u001b[0m\u001b[1;33m\u001b[0m\u001b[1;33m\u001b[0m\u001b[0m\n",
      "\u001b[1;31mTypeError\u001b[0m: int() argument must be a string, a bytes-like object or a number, not 'list'"
     ]
    }
   ],
   "source": [
    "# ver 3\n",
    "# while문 수정\n",
    "\n",
    "N, M, B = map(int, input().split())\n",
    "ground = []\n",
    "clf = []\n",
    "bf_times = []\n",
    "\n",
    "for _ in range(N):\n",
    "    li = list(map(int, input().split()))\n",
    "    ground.append(li)\n",
    "    \n",
    "# print(ground)\n",
    "for i in ground:\n",
    "    for j in i:\n",
    "        clf.append(j)\n",
    "        \n",
    "clf = list(set(clf))\n",
    "\n",
    "def bf(n):  # 브루트포스 적용, n이 기준일 때\n",
    "    cnt = 0 \n",
    "    global B\n",
    "    for i in ground:\n",
    "        for j in i:\n",
    "            dif = int(j)-int(i)\n",
    "            if dif>0:\n",
    "                j -= dif\n",
    "                B += dif\n",
    "                cnt += 2*dif\n",
    "            elif (dif<0)&(B>=dif):\n",
    "                j += dif\n",
    "                B -= dif\n",
    "                cnt += 1\n",
    "            elif (dif<0)&(B<dif):\n",
    "                j += B\n",
    "                B = 0\n",
    "                cnt += B\n",
    "    return cnt\n",
    "\n",
    "for i in clf:\n",
    "    bf_times.append(bf(i))\n",
    "\n",
    "print(clf)\n",
    "print(bf_times)\n",
    "print(min(bf_times), clf[bf_times.index(min(bf_times))])"
   ]
  },
  {
   "cell_type": "markdown",
   "id": "d374b5a2-e3eb-4959-a251-236dec5a27eb",
   "metadata": {},
   "source": [
    "---"
   ]
  },
  {
   "cell_type": "code",
   "execution_count": 143,
   "id": "824d86ee-a104-4122-b188-3e4dd1111bcd",
   "metadata": {},
   "outputs": [
    {
     "name": "stdin",
     "output_type": "stream",
     "text": [
      " 3 4 1\n",
      " 1 1 1 1\n",
      " 1 1 1 1\n",
      " 1 1 1 0\n"
     ]
    },
    {
     "name": "stdout",
     "output_type": "stream",
     "text": [
      "1 1\n"
     ]
    }
   ],
   "source": [
    "# 풀이 코드 참고해서 풀어보기\n",
    "\n",
    "def flatten(h):\n",
    "    time = 0\n",
    "    for i in range(N):\n",
    "        for j in range(M):\n",
    "            if g[i][j] == h:\n",
    "                continue\n",
    "            elif g[i][j] > h:\n",
    "                time += 2*(g[i][j]-h)\n",
    "            else:\n",
    "                time += h-g[i][j]\n",
    "    return time\n",
    "\n",
    "N, M, B = map(int, input().split())\n",
    "g = [list(map(int, input().split())) for i in range(N)]\n",
    "li = []\n",
    "\n",
    "for y in range(M):\n",
    "    for x in range(N):\n",
    "        li.append(g[x][y])\n",
    "        \n",
    "li = list(set(li))\n",
    "lis = []\n",
    "\n",
    "for i in li:\n",
    "    lis.append(flatten(i))\n",
    "h = li[lis.index(min(lis))]\n",
    "time = min(lis)\n",
    "\n",
    "print(time, h)"
   ]
  },
  {
   "cell_type": "code",
   "execution_count": 145,
   "id": "24f875fe-fa4c-4e7d-bb0c-184ddc59c4fb",
   "metadata": {},
   "outputs": [
    {
     "name": "stdin",
     "output_type": "stream",
     "text": [
      " 3 4 99\n",
      " 0 0 0 0\n",
      " 0 0 0 0\n",
      " 0 0 0 1\n"
     ]
    },
    {
     "name": "stdout",
     "output_type": "stream",
     "text": [
      "2 0\n"
     ]
    }
   ],
   "source": [
    "N, M, B = map(int, input().split())\n",
    "li = [list(map(int, input().split())) for _ in range(N)]\n",
    "time, height = 0, 0\n",
    "for h in range(257):\n",
    "    bot = top = 0\n",
    "    for i in range(N):\n",
    "        for j in range(M):\n",
    "            if li[i][j] < h:\n",
    "                bot += h-li[i][j]\n",
    "            else:\n",
    "                top += li[i][j]-h\n",
    "    if bot > top + B:\n",
    "        continue\n",
    "    t = bot + top*2\n",
    "    if t <= time:\n",
    "        time = t\n",
    "        height = h\n",
    "print(time, height)"
   ]
  }
 ],
 "metadata": {
  "kernelspec": {
   "display_name": "Python 3 (ipykernel)",
   "language": "python",
   "name": "python3"
  },
  "language_info": {
   "codemirror_mode": {
    "name": "ipython",
    "version": 3
   },
   "file_extension": ".py",
   "mimetype": "text/x-python",
   "name": "python",
   "nbconvert_exporter": "python",
   "pygments_lexer": "ipython3",
   "version": "3.8.12"
  }
 },
 "nbformat": 4,
 "nbformat_minor": 5
}
