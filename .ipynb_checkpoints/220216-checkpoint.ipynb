{
 "cells": [
  {
   "cell_type": "markdown",
   "id": "b386eff1-ea00-4a2f-8132-5320fc8950ff",
   "metadata": {},
   "source": [
    "# 2022.02.16"
   ]
  },
  {
   "cell_type": "code",
   "execution_count": 5,
   "id": "06aeaabb-7dd4-4a60-b9b7-015d03b12c79",
   "metadata": {},
   "outputs": [],
   "source": [
    "# Silver II\n",
    "# 11053 가장 긴 증가하는 부분 수열"
   ]
  },
  {
   "cell_type": "code",
   "execution_count": 53,
   "id": "037e75f2-304d-4387-b583-d4c600d2b93e",
   "metadata": {},
   "outputs": [
    {
     "name": "stdout",
     "output_type": "stream",
     "text": [
      "[3, 5, 7, 9, 2, 1, 4, 8]\n",
      "[1, 2, 3, 4, 1, 1, 2, 4]\n",
      "4\n"
     ]
    }
   ],
   "source": [
    "# N = int(input())\n",
    "# A = list(map(int, input().split()))\n",
    "N = 8\n",
    "A = [3,5,7,9,2,1,4,8]\n",
    "dp = [0] * N\n",
    "\n",
    "for i in range(N):\n",
    "    for j in range(i):\n",
    "        if A[j] < A[i] and dp[j] > dp[i]:\n",
    "            dp[i] = dp[j]\n",
    "    dp[i] += 1\n",
    "    \n",
    "print(A)\n",
    "print(dp)\n",
    "print(max(dp))"
   ]
  },
  {
   "cell_type": "code",
   "execution_count": 76,
   "id": "c4f90479-b3dd-4c45-826e-6c63c415d365",
   "metadata": {},
   "outputs": [
    {
     "name": "stdout",
     "output_type": "stream",
     "text": [
      "[1, 2, 8, 2, 4, 8]\n",
      "[1, 2, 3, 2, 3, 4]\n",
      "4\n"
     ]
    }
   ],
   "source": [
    "# N = int(input())\n",
    "# A = list(map(int, input().split()))\n",
    "N = 6\n",
    "A = [1,2,8,2,4,8]\n",
    "dp = [1] * N\n",
    "\n",
    "for i in range(N):\n",
    "    for j in range(i):\n",
    "        if A[j] < A[i]:\n",
    "            dp[i] = dp[j]+1\n",
    "print(A)\n",
    "print(dp)\n",
    "print(max(dp))"
   ]
  },
  {
   "cell_type": "code",
   "execution_count": 71,
   "id": "45635695-da75-4e70-88bb-4c9622cf1789",
   "metadata": {},
   "outputs": [
    {
     "ename": "TypeError",
     "evalue": "'int' object is not iterable",
     "output_type": "error",
     "traceback": [
      "\u001b[1;31m---------------------------------------------------------------------------\u001b[0m",
      "\u001b[1;31mTypeError\u001b[0m                                 Traceback (most recent call last)",
      "\u001b[1;32m~\\AppData\\Local\\Temp/ipykernel_14552/1092159168.py\u001b[0m in \u001b[0;36m<module>\u001b[1;34m\u001b[0m\n\u001b[0;32m      2\u001b[0m     \u001b[1;32mfor\u001b[0m \u001b[0mj\u001b[0m \u001b[1;32min\u001b[0m \u001b[0mrange\u001b[0m\u001b[1;33m(\u001b[0m\u001b[0mi\u001b[0m\u001b[1;33m)\u001b[0m\u001b[1;33m:\u001b[0m\u001b[1;33m\u001b[0m\u001b[1;33m\u001b[0m\u001b[0m\n\u001b[0;32m      3\u001b[0m         \u001b[1;32mif\u001b[0m \u001b[0mA\u001b[0m\u001b[1;33m[\u001b[0m\u001b[0mj\u001b[0m\u001b[1;33m]\u001b[0m \u001b[1;33m<\u001b[0m \u001b[0mA\u001b[0m\u001b[1;33m[\u001b[0m\u001b[0mi\u001b[0m\u001b[1;33m]\u001b[0m\u001b[1;33m:\u001b[0m\u001b[1;33m\u001b[0m\u001b[1;33m\u001b[0m\u001b[0m\n\u001b[1;32m----> 4\u001b[1;33m             \u001b[0mprint\u001b[0m\u001b[1;33m(\u001b[0m\u001b[0mmax\u001b[0m\u001b[1;33m(\u001b[0m\u001b[0mdp\u001b[0m\u001b[1;33m[\u001b[0m\u001b[0mj\u001b[0m\u001b[1;33m]\u001b[0m\u001b[1;33m+\u001b[0m\u001b[1;36m1\u001b[0m\u001b[1;33m)\u001b[0m\u001b[1;33m)\u001b[0m\u001b[1;33m\u001b[0m\u001b[1;33m\u001b[0m\u001b[0m\n\u001b[0m",
      "\u001b[1;31mTypeError\u001b[0m: 'int' object is not iterable"
     ]
    }
   ],
   "source": [
    "for i in range(N):\n",
    "    for j in range(i):\n",
    "        if A[j] < A[i]:\n",
    "            print(max(dp[j]+1))"
   ]
  },
  {
   "cell_type": "code",
   "execution_count": 102,
   "id": "03546c8f-6977-4fe0-91ff-a4b42ac83919",
   "metadata": {},
   "outputs": [
    {
     "name": "stdout",
     "output_type": "stream",
     "text": [
      "1\n",
      "1\n",
      "1\n",
      "1\n",
      "1\n",
      "1\n",
      "1\n",
      "1\n",
      "1\n",
      "1\n",
      "1\n",
      "1\n",
      "1\n",
      "1\n",
      "1\n",
      "1\n",
      "1\n",
      "1\n",
      "1\n",
      "1\n",
      "1\n",
      "1\n",
      "1\n",
      "1\n",
      "1\n",
      "1\n",
      "1\n",
      "1\n"
     ]
    }
   ],
   "source": [
    "# N = int(input())\n",
    "# A = list(map(int, input().split()))\n",
    "N = 8\n",
    "A = [2,11,4,55,7,9,13,3]\n",
    "dp = [1] * N\n",
    "\n",
    "for i in range(N):\n",
    "    for j in range(i):\n",
    "        if A[j] < A[i]:\n",
    "            dp[i] = max(dp[j]+1, dp[i])\n",
    "            print(dp[j])\n",
    "# print(A)\n",
    "# print(dp)\n",
    "# print(max(dp))"
   ]
  },
  {
   "cell_type": "code",
   "execution_count": 49,
   "id": "8e517219-a35f-4712-8152-397494e50db2",
   "metadata": {},
   "outputs": [
    {
     "ename": "SyntaxError",
     "evalue": "unexpected EOF while parsing (Temp/ipykernel_14552/1774184347.py, line 6)",
     "output_type": "error",
     "traceback": [
      "\u001b[1;36m  File \u001b[1;32m\"C:\\Users\\gmkim\\AppData\\Local\\Temp/ipykernel_14552/1774184347.py\"\u001b[1;36m, line \u001b[1;32m6\u001b[0m\n\u001b[1;33m    \u001b[0m\n\u001b[1;37m    ^\u001b[0m\n\u001b[1;31mSyntaxError\u001b[0m\u001b[1;31m:\u001b[0m unexpected EOF while parsing\n"
     ]
    }
   ],
   "source": [
    "N = 8\n",
    "A = [10, 20, 10, 30, 20, 50]\n",
    "\n",
    "for i in range(N):\n",
    "    for j in ragne(i):\n",
    "        "
   ]
  },
  {
   "cell_type": "code",
   "execution_count": null,
   "id": "aab06439-8b72-4731-8fee-dc8d14562e65",
   "metadata": {},
   "outputs": [],
   "source": []
  },
  {
   "cell_type": "code",
   "execution_count": null,
   "id": "a249569d-7ea7-46b5-bcfd-0d981ad21aee",
   "metadata": {},
   "outputs": [],
   "source": []
  },
  {
   "cell_type": "code",
   "execution_count": null,
   "id": "dca7d37d-bbd8-452e-88a6-94bb7c29b101",
   "metadata": {},
   "outputs": [],
   "source": []
  },
  {
   "cell_type": "markdown",
   "id": "33568295-bad2-415e-beaf-60927412c0b7",
   "metadata": {},
   "source": [
    "---"
   ]
  },
  {
   "cell_type": "code",
   "execution_count": 1,
   "id": "295aff84-a2c3-4319-a250-0db604312821",
   "metadata": {},
   "outputs": [],
   "source": [
    "# Siver IV\n",
    "# 10866 덱"
   ]
  },
  {
   "cell_type": "code",
   "execution_count": 4,
   "id": "f39fe62a-29f3-462e-a555-9973d88bffe1",
   "metadata": {},
   "outputs": [
    {
     "name": "stdin",
     "output_type": "stream",
     "text": [
      " 3\n",
      " push 2\n",
      " back\n"
     ]
    },
    {
     "ename": "ValueError",
     "evalue": "not enough values to unpack (expected 2, got 1)",
     "output_type": "error",
     "traceback": [
      "\u001b[1;31m---------------------------------------------------------------------------\u001b[0m",
      "\u001b[1;31mValueError\u001b[0m                                Traceback (most recent call last)",
      "\u001b[1;32m~\\AppData\\Local\\Temp/ipykernel_14552/2712834533.py\u001b[0m in \u001b[0;36m<module>\u001b[1;34m\u001b[0m\n\u001b[0;32m      3\u001b[0m \u001b[0mN\u001b[0m \u001b[1;33m=\u001b[0m \u001b[0mint\u001b[0m\u001b[1;33m(\u001b[0m\u001b[0minput\u001b[0m\u001b[1;33m(\u001b[0m\u001b[1;33m)\u001b[0m\u001b[1;33m)\u001b[0m\u001b[1;33m\u001b[0m\u001b[1;33m\u001b[0m\u001b[0m\n\u001b[0;32m      4\u001b[0m \u001b[1;32mfor\u001b[0m \u001b[0mi\u001b[0m \u001b[1;32min\u001b[0m \u001b[0mrange\u001b[0m\u001b[1;33m(\u001b[0m\u001b[0mN\u001b[0m\u001b[1;33m)\u001b[0m\u001b[1;33m:\u001b[0m\u001b[1;33m\u001b[0m\u001b[1;33m\u001b[0m\u001b[0m\n\u001b[1;32m----> 5\u001b[1;33m     \u001b[0ma\u001b[0m\u001b[1;33m,\u001b[0m \u001b[0mb\u001b[0m \u001b[1;33m=\u001b[0m \u001b[0minput\u001b[0m\u001b[1;33m(\u001b[0m\u001b[1;33m)\u001b[0m\u001b[1;33m.\u001b[0m\u001b[0msplit\u001b[0m\u001b[1;33m(\u001b[0m\u001b[1;33m)\u001b[0m\u001b[1;33m\u001b[0m\u001b[1;33m\u001b[0m\u001b[0m\n\u001b[0m\u001b[0;32m      6\u001b[0m \u001b[0mprint\u001b[0m\u001b[1;33m(\u001b[0m\u001b[0ma\u001b[0m\u001b[1;33m,\u001b[0m \u001b[0mb\u001b[0m\u001b[1;33m)\u001b[0m\u001b[1;33m\u001b[0m\u001b[1;33m\u001b[0m\u001b[0m\n",
      "\u001b[1;31mValueError\u001b[0m: not enough values to unpack (expected 2, got 1)"
     ]
    }
   ],
   "source": []
  }
 ],
 "metadata": {
  "kernelspec": {
   "display_name": "Python 3 (ipykernel)",
   "language": "python",
   "name": "python3"
  },
  "language_info": {
   "codemirror_mode": {
    "name": "ipython",
    "version": 3
   },
   "file_extension": ".py",
   "mimetype": "text/x-python",
   "name": "python",
   "nbconvert_exporter": "python",
   "pygments_lexer": "ipython3",
   "version": "3.8.12"
  }
 },
 "nbformat": 4,
 "nbformat_minor": 5
}
