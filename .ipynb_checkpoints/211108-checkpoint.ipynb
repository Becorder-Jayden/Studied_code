{
 "cells": [
  {
   "cell_type": "markdown",
   "id": "74a6de81-c18e-4c18-aebb-bbdec6b6f6ba",
   "metadata": {},
   "source": [
    "# 2021.11.08"
   ]
  },
  {
   "cell_type": "code",
   "execution_count": null,
   "id": "179b3db2-8971-4ce7-935c-8c64f9de3986",
   "metadata": {},
   "outputs": [],
   "source": [
    "# Silver IV\n",
    "# 14646 욱제는 결정장애야!!"
   ]
  },
  {
   "cell_type": "code",
   "execution_count": 51,
   "id": "de2d0116-25d0-42ba-8ff1-2dd3851ce27f",
   "metadata": {},
   "outputs": [
    {
     "name": "stdin",
     "output_type": "stream",
     "text": [
      " 5\n",
      " 1 1 2 2 3 3 4 4 5 5\n"
     ]
    },
    {
     "name": "stdout",
     "output_type": "stream",
     "text": [
      "1\n"
     ]
    }
   ],
   "source": [
    "# 시간초과\n",
    "\n",
    "N = int(input())\n",
    "bbopgi = list(map(int, input().split()))\n",
    "pan = []\n",
    "cnt = []\n",
    "\n",
    "for i in bbopgi:\n",
    "    if i not in pan:\n",
    "        pan.append(i)\n",
    "    elif i in pan:\n",
    "        pan.remove(i)\n",
    "        \n",
    "    cnt.append(len(pan))\n",
    "print(max(cnt))"
   ]
  },
  {
   "cell_type": "code",
   "execution_count": null,
   "id": "cf2f242e-72f8-4893-ab73-d65b9b06d653",
   "metadata": {},
   "outputs": [],
   "source": [
    "# PyPy3 채점 정답\n",
    "\n",
    "N = int(input())\n",
    "bbopgi = list(map(int, input().split()))\n",
    "pan = []\n",
    "cnt = 0\n",
    "max_cnt = 0\n",
    "\n",
    "for i in bbopgi:\n",
    "    if i not in pan:\n",
    "        pan.append(i)\n",
    "        cnt += 1\n",
    "    elif i in pan:\n",
    "        cnt -= 1\n",
    "    max_cnt = max(max_cnt, cnt)\n",
    "    \n",
    "print(max_cnt)"
   ]
  },
  {
   "cell_type": "markdown",
   "id": "67c47586-1878-431a-84e0-b30bc668e4f1",
   "metadata": {},
   "source": [
    "---"
   ]
  },
  {
   "cell_type": "code",
   "execution_count": null,
   "id": "d6d309d4-cf97-4a2e-b711-c625ed194ded",
   "metadata": {},
   "outputs": [],
   "source": [
    "# Silver III\n",
    "# 2606 바이러스"
   ]
  },
  {
   "cell_type": "code",
   "execution_count": 41,
   "id": "996a6120-417e-4b5e-908a-0c65c1fe3ae8",
   "metadata": {},
   "outputs": [
    {
     "name": "stdin",
     "output_type": "stream",
     "text": [
      " 7\n",
      " 6\n",
      " 1 2\n"
     ]
    },
    {
     "name": "stdout",
     "output_type": "stream",
     "text": [
      "[1, 2]\n"
     ]
    },
    {
     "name": "stdin",
     "output_type": "stream",
     "text": [
      " 2 3\n"
     ]
    },
    {
     "name": "stdout",
     "output_type": "stream",
     "text": [
      "[1, 2, 3]\n"
     ]
    },
    {
     "name": "stdin",
     "output_type": "stream",
     "text": [
      " 1 5\n"
     ]
    },
    {
     "name": "stdout",
     "output_type": "stream",
     "text": [
      "[1, 2, 3, 5]\n"
     ]
    },
    {
     "name": "stdin",
     "output_type": "stream",
     "text": [
      " 5 2\n"
     ]
    },
    {
     "name": "stdout",
     "output_type": "stream",
     "text": [
      "[1, 2, 3, 5, 2]\n"
     ]
    },
    {
     "name": "stdin",
     "output_type": "stream",
     "text": [
      " 5 6\n"
     ]
    },
    {
     "name": "stdout",
     "output_type": "stream",
     "text": [
      "[1, 2, 3, 5, 2, 6]\n"
     ]
    },
    {
     "name": "stdin",
     "output_type": "stream",
     "text": [
      " 4 7\n"
     ]
    },
    {
     "name": "stdout",
     "output_type": "stream",
     "text": [
      "[1, 2, 3, 5, 2, 6]\n",
      "[1, 2, 3, 5, 2, 6]\n",
      "[1, 3, 5, 2, 6]\n",
      "[1, 3, 5, 2, 6]\n",
      "[1, 3, 5, 2, 6]\n",
      "[1, 3, 5, 2, 6]\n"
     ]
    }
   ],
   "source": [
    "# 틀렸습니다\n",
    "\n",
    "N = int(input())\n",
    "M = int(input())\n",
    "l = [1]\n",
    "\n",
    "# 1번과 연결된 네트워크 \n",
    "for i in range(M):\n",
    "    a, b = map(int, input().split())\n",
    "    if a in l:\n",
    "        l.append(b)\n",
    "    elif b in l:\n",
    "        l.append(a)\n",
    "    # print(l)\n",
    "    \n",
    "# 중복요소 제거\n",
    "for i in l:\n",
    "    if l.count(i)>=2:\n",
    "        l.remove(i)\n",
    "print(len(l)-1)"
   ]
  },
  {
   "cell_type": "code",
   "execution_count": 46,
   "id": "5837e928-96fd-4e78-9a04-56c6dc84e0b3",
   "metadata": {},
   "outputs": [
    {
     "ename": "SyntaxError",
     "evalue": "invalid syntax (Temp/ipykernel_23616/1848492123.py, line 12)",
     "output_type": "error",
     "traceback": [
      "\u001b[1;36m  File \u001b[1;32m\"C:\\Users\\gmkim\\AppData\\Local\\Temp/ipykernel_23616/1848492123.py\"\u001b[1;36m, line \u001b[1;32m12\u001b[0m\n\u001b[1;33m    elif a, b in l:\u001b[0m\n\u001b[1;37m          ^\u001b[0m\n\u001b[1;31mSyntaxError\u001b[0m\u001b[1;31m:\u001b[0m invalid syntax\n"
     ]
    }
   ],
   "source": [
    "N = int(input())\n",
    "M = int(input())\n",
    "l = [1]\n",
    "\n",
    "# 1번과 연결된 네트워크 \n",
    "for i in range(M):\n",
    "    a, b = map(int, input().split())\n",
    "    if a in l:\n",
    "        l.append(b)\n",
    "    elif b in l:\n",
    "        l.append(a)\n",
    "    elif a, b in l:\n",
    "        pass\n",
    "l = sorted(l)\n",
    "print(l)"
   ]
  },
  {
   "cell_type": "code",
   "execution_count": null,
   "id": "bcac3409-4ae9-4ea0-a25c-e368975ec7cf",
   "metadata": {},
   "outputs": [],
   "source": []
  }
 ],
 "metadata": {
  "kernelspec": {
   "display_name": "Python 3 (ipykernel)",
   "language": "python",
   "name": "python3"
  },
  "language_info": {
   "codemirror_mode": {
    "name": "ipython",
    "version": 3
   },
   "file_extension": ".py",
   "mimetype": "text/x-python",
   "name": "python",
   "nbconvert_exporter": "python",
   "pygments_lexer": "ipython3",
   "version": "3.8.12"
  }
 },
 "nbformat": 4,
 "nbformat_minor": 5
}
