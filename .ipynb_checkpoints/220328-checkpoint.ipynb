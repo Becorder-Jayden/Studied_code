{
 "cells": [
  {
   "cell_type": "markdown",
   "id": "f48230a7-6d38-4925-92d9-cdc957c8d07e",
   "metadata": {},
   "source": [
    "# 2022.03.28"
   ]
  },
  {
   "cell_type": "code",
   "execution_count": 60,
   "id": "bd5b7956-d71e-4a0a-b3c7-a947f31feccd",
   "metadata": {},
   "outputs": [],
   "source": [
    "# 프로그래머스\n",
    "# 큰 수 만들기 "
   ]
  },
  {
   "cell_type": "code",
   "execution_count": 84,
   "id": "f2be1fa7-f336-40c5-b5f1-e7282d8530de",
   "metadata": {},
   "outputs": [
    {
     "name": "stdout",
     "output_type": "stream",
     "text": [
      "4\n",
      "1\n",
      "7\n",
      "7\n",
      "2\n",
      "5\n",
      "2\n",
      "8\n",
      "4\n",
      "1\n"
     ]
    }
   ],
   "source": [
    "number = '4177252841'\n",
    "k = 4\n",
    "stack = []\n",
    "\n",
    "li = list(map(str, number))\n",
    "temp = 0 \n",
    "\n",
    "for i in li:\n",
    "    if int(i) > "
   ]
  },
  {
   "cell_type": "code",
   "execution_count": 1,
   "id": "7edd000c-4c63-4a96-99cb-734acbeb3bc1",
   "metadata": {},
   "outputs": [],
   "source": [
    "# 완주하지 못한 선수"
   ]
  },
  {
   "cell_type": "code",
   "execution_count": 6,
   "id": "845db431-2579-4151-844c-4c57a3777b80",
   "metadata": {},
   "outputs": [
    {
     "name": "stdout",
     "output_type": "stream",
     "text": [
      "{'mislav': 2, 'stanko': 1, 'ana': 1}\n"
     ]
    }
   ],
   "source": [
    "participant = [\"mislav\", \"stanko\", \"mislav\", \"ana\"]\n",
    "completion = [\"stanko\", \"ana\", \"mislav\"]\n",
    "\n",
    "d = {}\n",
    "for i in participant:\n",
    "    d[i] = d.get(i, 0) + 1\n",
    "print(d)"
   ]
  },
  {
   "cell_type": "code",
   "execution_count": null,
   "id": "8a8ac9d4-ee23-4a62-b0ed-f264b9b1ae6c",
   "metadata": {},
   "outputs": [],
   "source": [
    "# 체육복"
   ]
  },
  {
   "cell_type": "code",
   "execution_count": null,
   "id": "ceab21cb-8fa9-4d43-9784-8b0511a3d971",
   "metadata": {},
   "outputs": [],
   "source": [
    "# 예제\n",
    "n = 5\n",
    "lost = [2, 4]\n",
    "reserve = [1, 3, 5]\n",
    "#5\n",
    "\n",
    "# n = 5\n",
    "# lost = [2, 4]\n",
    "# reserve = [3]\n",
    "# #4\n",
    "\n",
    "# n = 3\n",
    "# lost = [3]\n",
    "# reserve = [1]\n",
    "# #2"
   ]
  },
  {
   "cell_type": "code",
   "execution_count": 17,
   "id": "081dd157-c60c-4015-a3a9-f48818483c6c",
   "metadata": {},
   "outputs": [
    {
     "name": "stdout",
     "output_type": "stream",
     "text": [
      "{0: 1, 1: 1, 2: 1, 3: 1, 4: 1, 5: 2, 6: 1}\n"
     ]
    }
   ],
   "source": [
    "dic = {}\n",
    "for i in range(n+2):\n",
    "    dic[i] = 1\n",
    "    \n",
    "for i in lost:\n",
    "    dic[i] -= 1\n",
    "    \n",
    "for i in reserve:\n",
    "    dic[i] += 1\n",
    "    \n",
    "    \n",
    "for i in range(1, n+1):\n",
    "    if dic[i-1] == 0 and dic[i] == 2:\n",
    "        dic[i-1] += 1\n",
    "        dic[i] -= 1\n",
    "    elif dic[i+1] == 0 and dic[i] == 2:\n",
    "        dic[i+1] += 1\n",
    "        dic[i] -= 1\n",
    "print(dic)\n"
   ]
  },
  {
   "cell_type": "code",
   "execution_count": null,
   "id": "62e28db1-49bc-40c3-916f-be529c6c4f3f",
   "metadata": {},
   "outputs": [],
   "source": []
  }
 ],
 "metadata": {
  "kernelspec": {
   "display_name": "Python 3 (ipykernel)",
   "language": "python",
   "name": "python3"
  },
  "language_info": {
   "codemirror_mode": {
    "name": "ipython",
    "version": 3
   },
   "file_extension": ".py",
   "mimetype": "text/x-python",
   "name": "python",
   "nbconvert_exporter": "python",
   "pygments_lexer": "ipython3",
   "version": "3.8.12"
  }
 },
 "nbformat": 4,
 "nbformat_minor": 5
}
