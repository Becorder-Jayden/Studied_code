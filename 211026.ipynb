{
 "cells": [
  {
   "cell_type": "markdown",
   "id": "7bd30066-e2c5-4eef-b71e-255e72728b5e",
   "metadata": {},
   "source": [
    "# 2021.10.26"
   ]
  },
  {
   "cell_type": "code",
   "execution_count": null,
   "id": "dcb262bf-9130-4e8d-a885-47485e8a5d24",
   "metadata": {},
   "outputs": [],
   "source": [
    "# Siver V\n",
    "# 2581 소수_런타임 에러 미해결\n",
    "\n",
    "m = int(input())\n",
    "n = int(input())\n",
    "lis = []\n",
    "lis2 = []\n",
    "\n",
    "for i in range(m, n+1):\n",
    "    for j in range(1, i+1):\n",
    "        if i/j - i//j == 0:\n",
    "            lis.append(i)\n",
    "        else:\n",
    "            pass\n",
    "for i in range(m, n+1):\n",
    "    if lis.count(i) == 2:\n",
    "        lis2.append(i)\n",
    "    else:\n",
    "        pass\n",
    "if len(lis2)>0:\n",
    "    print(sum(lis2))\n",
    "    print(min(lis2))\n",
    "else:\n",
    "    print(-1)\n",
    "    \n",
    "# 출력값은 잘 나오는데 백준에서는 '시간초과'로 틀린 답이라 채점된다\n",
    "# input() 부분을 sys.stdin.readline()으로 바꾸었을 때 '런타임 에러'가 발생한다"
   ]
  },
  {
   "cell_type": "code",
   "execution_count": 56,
   "id": "f2518066-de4c-45b4-9990-793b2e79fd4c",
   "metadata": {},
   "outputs": [
    {
     "name": "stdin",
     "output_type": "stream",
     "text": [
      " 60\n"
     ]
    },
    {
     "name": "stdout",
     "output_type": "stream",
     "text": [
      "[1, 2, 3, 4, 5, 6, 10, 12, 15, 20, 30, 60]\n"
     ]
    }
   ],
   "source": [
    "# minimal size test\n",
    "\n",
    "m = int(input())\n",
    "lis = []\n",
    "for i in range(1, m+1): # 최소, 최대 범위 설정 잘해줘야 \n",
    "    if m/i - m//i == 0:\n",
    "        lis.append(i)\n",
    "print(lis)\n",
    "# 약수가 2개이면 소수이겠지??"
   ]
  },
  {
   "cell_type": "code",
   "execution_count": 87,
   "id": "c3761caf-5839-46af-a43c-f2006cc9f06a",
   "metadata": {},
   "outputs": [
    {
     "name": "stdin",
     "output_type": "stream",
     "text": [
      " 64\n",
      " 65\n"
     ]
    },
    {
     "name": "stdout",
     "output_type": "stream",
     "text": [
      "-1\n"
     ]
    }
   ],
   "source": [
    "# minimal size test 2\n",
    "\n",
    "m = int(input())\n",
    "n = int(input())\n",
    "lis = []\n",
    "lis2 = []\n",
    "\n",
    "for i in range(m, n+1):\n",
    "    for j in range(1, i+1):\n",
    "        if i/j - i//j == 0:\n",
    "            lis.append(i)\n",
    "            \n",
    "for i in range(m, n+1):\n",
    "    if lis.count(i) == 2:\n",
    "        lis2.append(i)\n",
    "\n",
    "if len(lis2)>0:\n",
    "    print(sum(lis2))\n",
    "    print(min(lis2))\n",
    "else:\n",
    "    print(-1)\n",
    "    \n",
    "# 시간 초과"
   ]
  },
  {
   "cell_type": "code",
   "execution_count": null,
   "id": "4866b7c0-24cc-4e6b-bcf6-469f733ef4a3",
   "metadata": {},
   "outputs": [],
   "source": []
  }
 ],
 "metadata": {
  "kernelspec": {
   "display_name": "Python 3",
   "language": "python",
   "name": "python3"
  },
  "language_info": {
   "codemirror_mode": {
    "name": "ipython",
    "version": 3
   },
   "file_extension": ".py",
   "mimetype": "text/x-python",
   "name": "python",
   "nbconvert_exporter": "python",
   "pygments_lexer": "ipython3",
   "version": "3.8.8"
  }
 },
 "nbformat": 4,
 "nbformat_minor": 5
}
