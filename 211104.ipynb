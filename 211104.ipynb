{
 "cells": [
  {
   "cell_type": "markdown",
   "id": "c4198863-f106-4cc5-979e-ab203108672e",
   "metadata": {
    "tags": []
   },
   "source": [
    "# 2021.11.04"
   ]
  },
  {
   "cell_type": "code",
   "execution_count": 33,
   "id": "76e693c1-1714-49a2-aaea-97b9bf26030c",
   "metadata": {},
   "outputs": [
    {
     "name": "stdin",
     "output_type": "stream",
     "text": [
      " 4\n",
      " 3\n",
      " 6\n",
      " 9\n",
      " 12\n"
     ]
    },
    {
     "name": "stdout",
     "output_type": "stream",
     "text": [
      "18\n"
     ]
    }
   ],
   "source": [
    "# Silver V\n",
    "# 2217 로프\n",
    "\n",
    "N = int(input())\n",
    "weights = sorted([int(input()) for i in range(N)])\n",
    "w = []\n",
    "\n",
    "cnt = 0\n",
    "for i, j in enumerate(weights):\n",
    "    result = (len(weights)-i) * j\n",
    "    w.append(result)\n",
    "print(max(w))"
   ]
  },
  {
   "cell_type": "code",
   "execution_count": null,
   "id": "b09ada00-0d1e-4875-8d98-6bc3fd17f7ab",
   "metadata": {},
   "outputs": [],
   "source": [
    "# test case\n",
    "2\n",
    "10 15\n",
    "-> 10 * 2 = 20\n",
    "-> 15 * 1 = 15\n",
    "--> max = 20\n",
    "\n",
    "4\n",
    "3 6 9 12\n",
    "-> 3 * 4 = 12 // rope[0]*N\n",
    "-> 6 * 3 = 18 // rope[1]*(N-1)\n",
    "-> 9 * 2 = 18 // rope[2]*(n-2)\n",
    "-> 12* 1 = 12 // rope[3]*(n-3)\n",
    "--> max = 18"
   ]
  }
 ],
 "metadata": {
  "kernelspec": {
   "display_name": "Python 3 (ipykernel)",
   "language": "python",
   "name": "python3"
  },
  "language_info": {
   "codemirror_mode": {
    "name": "ipython",
    "version": 3
   },
   "file_extension": ".py",
   "mimetype": "text/x-python",
   "name": "python",
   "nbconvert_exporter": "python",
   "pygments_lexer": "ipython3",
   "version": "3.8.12"
  }
 },
 "nbformat": 4,
 "nbformat_minor": 5
}
