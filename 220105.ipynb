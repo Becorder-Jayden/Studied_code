{
 "cells": [
  {
   "cell_type": "markdown",
   "id": "1365f807-9989-4be5-a746-0cf9d89de943",
   "metadata": {},
   "source": [
    "# 2022.01.05"
   ]
  },
  {
   "cell_type": "code",
   "execution_count": 1,
   "id": "17c3f04c-d7c0-4f30-abdf-63e835a4b0a6",
   "metadata": {},
   "outputs": [],
   "source": [
    "# Silver II \n",
    "# 1260 DFS와 BFS _복습"
   ]
  },
  {
   "cell_type": "code",
   "execution_count": 44,
   "id": "b3dfa193-50c4-46a6-9bfd-21a8b0264fd9",
   "metadata": {},
   "outputs": [
    {
     "name": "stdin",
     "output_type": "stream",
     "text": [
      " 4 5 1\n",
      " 1 2\n",
      " 1 3\n",
      " 1 4\n",
      " 2 4\n",
      " 3 4\n"
     ]
    },
    {
     "name": "stdout",
     "output_type": "stream",
     "text": [
      "1 2 4 3 \n",
      "1 2 3 4 "
     ]
    }
   ],
   "source": [
    "from collections import deque\n",
    "\n",
    "n, m, v = map(int, input().split())\n",
    "graph = [[] for i in range(n+1)]\n",
    "visited = [False] * (n+1)\n",
    "\n",
    "for i in range(M):\n",
    "    a, b = map(int, input().split())\n",
    "    \n",
    "    # 간선 양방향 조건\n",
    "    graph[a].append(b)\n",
    "    graph[b].append(a)\n",
    "    \n",
    "    # 정점 번호가 작은 것부터 방문하도록 정렬\n",
    "    graph[a].sort()\n",
    "    graph[b].sort()\n",
    "    \n",
    "    \n",
    "def dfs(graph, v, visited):\n",
    "    visited[v] = True\n",
    "    print(v, end = ' ')\n",
    "    for i in graph[v]:\n",
    "        if not visited[i]:\n",
    "            dfs(graph, i, visited)\n",
    "            \n",
    "            \n",
    "def bfs(graph, v, visited):\n",
    "    visited = [False]*(n+1)\n",
    "    visited[v] = True\n",
    "    queue = deque([v])  # deque는 리스트를 사용\n",
    "    \n",
    "    while queue:\n",
    "        pop = queue.popleft()\n",
    "        print(pop, end = ' ')\n",
    "\n",
    "        for i in graph[pop]:\n",
    "            if not visited[i]:\n",
    "                queue.append(i)\n",
    "                visited[i] = True\n",
    "    \n",
    "    \n",
    "    \n",
    "dfs(graph, 1, visited)\n",
    "print()\n",
    "bfs(graph, 1, visited)"
   ]
  },
  {
   "cell_type": "markdown",
   "id": "2236d1da-f67b-4c3d-a4fd-9120a2a13cc5",
   "metadata": {},
   "source": [
    "---"
   ]
  },
  {
   "cell_type": "code",
   "execution_count": 1,
   "id": "bc1436db-fd69-40d5-a329-aa8e0f26f383",
   "metadata": {},
   "outputs": [],
   "source": [
    "# Silver III\n",
    "# 2606 바이러스 (BFS 풀이) 정답"
   ]
  },
  {
   "cell_type": "code",
   "execution_count": 20,
   "id": "ba44260e-7576-4ab8-a1f1-67e8b5a25c97",
   "metadata": {},
   "outputs": [
    {
     "name": "stdin",
     "output_type": "stream",
     "text": [
      " 7\n",
      " 6\n",
      " 1 2\n",
      " 2 3\n",
      " 1 5\n",
      " 5 2\n",
      " 5 6\n",
      " 4 7\n"
     ]
    },
    {
     "name": "stdout",
     "output_type": "stream",
     "text": [
      "4\n"
     ]
    }
   ],
   "source": [
    "from collections import deque\n",
    "\n",
    "n = int(input())\n",
    "graph = [[] for i in range(n+1)]\n",
    "visited = [False]*(n+1)\n",
    "cnt = 0\n",
    "\n",
    "connect = int(input())\n",
    "for i in range(connect):\n",
    "    s, e = map(int, input().split())\n",
    "    # 네트워크 상 연결 : 양방향\n",
    "    graph[s].append(e)\n",
    "    graph[e].append(s)\n",
    "    \n",
    "def bfs(graph, v):\n",
    "    global cnt\n",
    "    queue = deque([v])\n",
    "    while queue:\n",
    "        pop = queue.popleft()\n",
    "        visited[pop] = True\n",
    "        for i in graph[pop]:\n",
    "            if visited[i]==False:\n",
    "                visited[i] = True\n",
    "                queue.append(i)\n",
    "                cnt += 1\n",
    "    print(cnt)\n",
    "    \n",
    "bfs(graph, 1)"
   ]
  },
  {
   "cell_type": "code",
   "execution_count": null,
   "id": "756bb951-ef72-4e6e-af33-409d5136af30",
   "metadata": {},
   "outputs": [],
   "source": []
  }
 ],
 "metadata": {
  "kernelspec": {
   "display_name": "Python 3 (ipykernel)",
   "language": "python",
   "name": "python3"
  },
  "language_info": {
   "codemirror_mode": {
    "name": "ipython",
    "version": 3
   },
   "file_extension": ".py",
   "mimetype": "text/x-python",
   "name": "python",
   "nbconvert_exporter": "python",
   "pygments_lexer": "ipython3",
   "version": "3.8.12"
  }
 },
 "nbformat": 4,
 "nbformat_minor": 5
}
