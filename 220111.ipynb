{
 "cells": [
  {
   "cell_type": "markdown",
   "id": "ef5613fd-0579-495f-b052-38006f7b5de8",
   "metadata": {
    "tags": []
   },
   "source": [
    "# 2022.01.10"
   ]
  },
  {
   "cell_type": "code",
   "execution_count": 1,
   "id": "95e8f486-22df-4d66-8c97-d135b270f0f9",
   "metadata": {},
   "outputs": [],
   "source": [
    "# Silver I\n",
    "# 7576 토마토"
   ]
  },
  {
   "cell_type": "code",
   "execution_count": 167,
   "id": "9f1ddd3c-75fa-42b0-9615-df85cf9e238e",
   "metadata": {},
   "outputs": [
    {
     "name": "stdin",
     "output_type": "stream",
     "text": [
      " 6 4\n",
      " 1 -1 0 0 0 0\n",
      " 0 -1 0 0 0 0\n",
      " 0 0 0 0 -1 0\n",
      " 0 0 0 0 -1 1\n"
     ]
    },
    {
     "data": {
      "text/plain": [
       "[[1, -1, 7, 6, 5, 4],\n",
       " [2, -1, 6, 5, 4, 3],\n",
       " [3, 4, 5, 6, -1, 2],\n",
       " [4, 5, 6, 7, -1, 1]]"
      ]
     },
     "execution_count": 167,
     "metadata": {},
     "output_type": "execute_result"
    }
   ],
   "source": [
    "M, N = map(int, input().split())\n",
    "house = [list(map(int,input().split())) for i in range (N)]\n",
    "\n",
    "from collections import deque\n",
    "\n",
    "def bfs(graph):\n",
    "    queue = deque()\n",
    "    \n",
    "    for x in range(M):\n",
    "        for y in range(N):\n",
    "            if house[y][x] == 1:\n",
    "                queue.append((x, y))\n",
    "                \n",
    "    dx = [0,0,-1,1]\n",
    "    dy = [1,-1,0,0]\n",
    "    \n",
    "    while queue:\n",
    "        x, y = queue.popleft()\n",
    "\n",
    "        for i in range(4):\n",
    "            nx = x + dx[i]\n",
    "            ny = y + dy[i]\n",
    "\n",
    "            if 0<=nx<M and 0<=ny<N:\n",
    "                if house[ny][nx] == 0:\n",
    "                    queue.append((nx, ny))\n",
    "                    house[ny][nx] = house[y][x] + 1\n",
    "                    \n",
    "    return graph\n",
    "\n",
    "li = []\n",
    "\n",
    "for i in bfs(house):\n",
    "    if 0 in i:\n",
    "        li.append(-1)\n",
    "    else:\n",
    "        li.append(max(i))\n",
    "\n",
    "# if 0 in li:\n",
    "#     print(-1)\n",
    "# else:\n",
    "#     print(max(li)-1)\n",
    "\n",
    "bfs(house)"
   ]
  },
  {
   "cell_type": "code",
   "execution_count": 119,
   "id": "13d159fe-b5f8-4a68-bc9b-c387d79d89c5",
   "metadata": {},
   "outputs": [
    {
     "name": "stdin",
     "output_type": "stream",
     "text": [
      " 6 4\n",
      " 0 0 0 0 0 0\n",
      " 0 0 0 0 0 0\n",
      " 0 0 0 0 0 0\n",
      " 0 0 0 0 0 11\n"
     ]
    },
    {
     "name": "stdout",
     "output_type": "stream",
     "text": [
      "-1\n",
      "None\n"
     ]
    }
   ],
   "source": [
    "# 영민 코드\n",
    "#7576\n",
    "from collections import deque\n",
    "\n",
    "M, N = map(int, input().split())\n",
    "arr = []\n",
    "for i in range(N):\n",
    "    arr.append(list(map(int,input().split())))\n",
    "    \n",
    "def BFS(graph):\n",
    "    queue = deque()\n",
    "    for i in range(N):\n",
    "        for j in range(M):\n",
    "            if arr[i][j] == 1:\n",
    "                queue.append((i,j))\n",
    "    \n",
    "    dx = [0,0,-1,1]\n",
    "    dy = [-1,1,0,0]\n",
    "    while queue:\n",
    "        a, b = queue.popleft()\n",
    "        for i in range(4):\n",
    "            nx = a + dx[i]\n",
    "            ny = b + dy[i]\n",
    "            if 0 <= nx < N and 0 <= ny < M:\n",
    "                if arr[nx][ny] == 0:\n",
    "                    queue.append((nx,ny))\n",
    "                    arr[nx][ny] = arr[a][b] + 1\n",
    "            \n",
    "\n",
    "R = []\n",
    "for i in range(N):\n",
    "    if 0 in arr[i]:\n",
    "        R.append(0)\n",
    "    else:\n",
    "        R.append(max(arr[i]))\n",
    "if 0 in R:\n",
    "    print(-1)\n",
    "else:\n",
    "    print(max(R)-1)       \n",
    "    \n",
    "    \n",
    "print(BFS(arr))"
   ]
  },
  {
   "cell_type": "markdown",
   "id": "d62e26b7-7897-4869-93d7-9f78b8608884",
   "metadata": {},
   "source": [
    "---"
   ]
  },
  {
   "cell_type": "markdown",
   "id": "5cc4776a-fbb7-42b9-98eb-ea43767c1db1",
   "metadata": {},
   "source": [
    "# test cases"
   ]
  },
  {
   "cell_type": "code",
   "execution_count": 163,
   "id": "d6092b17-2c21-4525-aef9-63cdaf8ab800",
   "metadata": {},
   "outputs": [
    {
     "name": "stdin",
     "output_type": "stream",
     "text": [
      " 6 4\n",
      " 1 -1 0 0 0 0\n",
      " 0 -1 0 0 0 0\n",
      " 0 0 0 0 -1 0\n",
      " 0 0 0 0 -1 1\n"
     ]
    },
    {
     "name": "stdout",
     "output_type": "stream",
     "text": [
      "[1, -1, 7, 8, 9, 10]\n",
      "[2, -1, 6, 7, 8, 9]\n",
      "[3, 4, 5, 6, -1, 10]\n",
      "[4, 5, 6, 7, -1, 1]\n"
     ]
    }
   ],
   "source": [
    "M, N = map(int, input().split())\n",
    "house = [list(map(int,input().split())) for i in range (N)]\n",
    "visited = [[False]*M for i in range(N)]\n",
    "\n",
    "from collections import deque\n",
    "\n",
    "def bfs(x, y):\n",
    "    \n",
    "    dx = [0,0,-1,1]\n",
    "    dy = [1,-1,0,0]\n",
    "    \n",
    "    queue = deque()\n",
    "    if house[y][x] == 1:\n",
    "        queue.append((x, y))\n",
    "        visited[y][x] = True\n",
    "    \n",
    "        while queue:\n",
    "            x, y = queue.popleft()\n",
    "\n",
    "            for i in range(4):\n",
    "                nx = x + dx[i]\n",
    "                ny = y + dy[i]\n",
    "\n",
    "                if 0<=nx<M and 0<=ny<N:\n",
    "                    if house[ny][nx] == 0 and visited[ny][nx] == False:\n",
    "                        queue.append((nx, ny))\n",
    "                        visited[ny][nx] = True\n",
    "                        house[ny][nx] = house[y][x] + 1\n",
    "                        \n",
    "for i in range(M):\n",
    "    for j in range(N):\n",
    "        if house[j][i] == 1:\n",
    "            bfs(i, j)\n",
    "            \n",
    "for i in house:\n",
    "    print(i)"
   ]
  },
  {
   "cell_type": "code",
   "execution_count": 101,
   "id": "aae51505-d818-4c7f-a93a-87773fb6e2f5",
   "metadata": {},
   "outputs": [
    {
     "name": "stdin",
     "output_type": "stream",
     "text": [
      " 6 4\n",
      " 1 -1 0 0 0 0\n",
      " 0 -1 0 0 0 0\n",
      " 0 0 0 0 -1 0 \n",
      " 0 0 0 0 -1 1\n"
     ]
    },
    {
     "name": "stdout",
     "output_type": "stream",
     "text": [
      "([0, -1, 6, 7, 8, 9], [True, False, True, True, True, True])\n",
      "([0, -1, 5, 6, 7, 8], [True, False, True, True, True, True])\n",
      "([2, 3, 4, 5, -1, 9], [True, True, True, True, False, True])\n",
      "([3, 4, 5, 6, -1, 0], [True, True, True, True, False, True])\n"
     ]
    }
   ],
   "source": [
    "M, N = map(int, input().split())\n",
    "house = [list(map(int,input().split())) for i in range (N)]\n",
    "visited = [[False]*M for i in range(N)]\n",
    "\n",
    "from collections import deque\n",
    "\n",
    "def bfs(x, y):\n",
    "    \n",
    "    dx = [0,0,-1,1]\n",
    "    dy = [1,-1,0,0]\n",
    "    \n",
    "    queue = deque()\n",
    "    if house[y][x] == 1:\n",
    "        house[y][x] = 0\n",
    "        queue.append((x, y))\n",
    "        visited[y][x] = True\n",
    "    \n",
    "        while queue:\n",
    "            x, y = queue.popleft()\n",
    "\n",
    "            for i in range(4):\n",
    "                nx = x + dx[i]\n",
    "                ny = y + dy[i]\n",
    "\n",
    "                if 0<=nx<M and 0<=ny<N:\n",
    "                    if house[ny][nx] == 0 and visited[ny][nx] == False:\n",
    "                        queue.append((nx, ny))\n",
    "                        visited[ny][nx] = True\n",
    "                        house[ny][nx] = house[y][x] + 1\n",
    "                        \n",
    "for i in range(M):\n",
    "    for j in range(N):\n",
    "        if house[j][i] == 1:\n",
    "            bfs(i, j)\n",
    "            \n",
    "for i in zip(house, visited):\n",
    "    print(i)"
   ]
  },
  {
   "cell_type": "code",
   "execution_count": 96,
   "id": "fe942514-3638-4c5a-a038-18422e9f0c56",
   "metadata": {},
   "outputs": [
    {
     "name": "stdin",
     "output_type": "stream",
     "text": [
      " 6 4\n",
      " 0 -1 0 0 0 0\n",
      " -1 0 0 0 0 0\n",
      " 0 0 0 0 0 0\n",
      " 0 0 0 0 0 1\n"
     ]
    },
    {
     "data": {
      "text/plain": [
       "[[0, -1, 6, 5, 4, 3],\n",
       " [-1, 6, 5, 4, 3, 2],\n",
       " [6, 5, 4, 3, 2, 1],\n",
       " [5, 4, 3, 2, 1, 2]]"
      ]
     },
     "execution_count": 96,
     "metadata": {},
     "output_type": "execute_result"
    }
   ],
   "source": [
    "M, N = map(int, input().split())\n",
    "house = [list(map(int,input().split())) for i in range (N)]\n",
    "\n",
    "from collections import deque\n",
    "\n",
    "\n",
    "def bfs(x, y):\n",
    "    \n",
    "    dx = [0,0,-1,1]\n",
    "    dy = [1,-1,0,0]\n",
    "    \n",
    "    queue = deque()\n",
    "    if house[y][x] == 1:\n",
    "        house[y][x] = 0\n",
    "        queue.append((x, y))\n",
    "    \n",
    "        while queue:\n",
    "            x, y = queue.popleft()\n",
    "\n",
    "            for i in range(4):\n",
    "                nx = x + dx[i]\n",
    "                ny = y + dy[i]\n",
    "\n",
    "                if 0<=nx<M and 0<=ny<N:\n",
    "                    if house[ny][nx] == 0:\n",
    "                        queue.append((nx, ny))\n",
    "                        house[ny][nx] = house[y][x] + 1\n",
    "                        \n",
    "for i in range(M):\n",
    "    for j in range(N):\n",
    "        if house[j][i] == 1:\n",
    "            bfs(i, j)\n",
    "            \n",
    "house"
   ]
  },
  {
   "cell_type": "code",
   "execution_count": 98,
   "id": "602bdf4d-2226-436a-90c6-5b9a358a1ce4",
   "metadata": {},
   "outputs": [
    {
     "name": "stdin",
     "output_type": "stream",
     "text": [
      " 5 5\n",
      " -1 1 0 0 0\n",
      " 0 -1 -1 -1 0\n",
      " 0 -1 -1 -1 0\n",
      " 0 -1 -1 -1 0\n",
      " 0 0 0 0 0\n"
     ]
    },
    {
     "name": "stdout",
     "output_type": "stream",
     "text": [
      "([-1, 0, 0, 2, 3], [False, True, True, True, True])\n",
      "([14, -1, -1, -1, 4], [True, False, False, False, True])\n",
      "([13, -1, -1, -1, 5], [True, False, False, False, True])\n",
      "([12, -1, -1, -1, 6], [True, False, False, False, True])\n",
      "([11, 10, 9, 8, 7], [True, True, True, True, True])\n"
     ]
    }
   ],
   "source": [
    "M, N = map(int, input().split())\n",
    "house = [list(map(int,input().split())) for i in range (N)]\n",
    "visited = [[False]*M for i in range(N)]\n",
    "\n",
    "from collections import deque\n",
    "\n",
    "def bfs(x, y):\n",
    "    \n",
    "    dx = [0,0,-1,1]\n",
    "    dy = [1,-1,0,0]\n",
    "    \n",
    "    queue = deque()\n",
    "    if house[y][x] == 1:\n",
    "        house[y][x] = 0\n",
    "        queue.append((x, y))\n",
    "        visited[y][x] = True\n",
    "    \n",
    "        while queue:\n",
    "            x, y = queue.popleft()\n",
    "\n",
    "            for i in range(4):\n",
    "                nx = x + dx[i]\n",
    "                ny = y + dy[i]\n",
    "\n",
    "                if 0<=nx<M and 0<=ny<N:\n",
    "                    if house[ny][nx] == 0 and visited[ny][nx] == False:\n",
    "                        queue.append((nx, ny))\n",
    "                        visited[ny][nx] = True\n",
    "                        house[ny][nx] = house[y][x] + 1\n",
    "                        \n",
    "for i in range(M):\n",
    "    for j in range(N):\n",
    "        if house[j][i] == 1:\n",
    "            bfs(i, j)\n",
    "            \n",
    "for i in zip(house, visited):\n",
    "    print(i)"
   ]
  },
  {
   "cell_type": "code",
   "execution_count": 83,
   "id": "c9dcbc36-34e3-4fdd-a968-28c68e0d6baf",
   "metadata": {},
   "outputs": [
    {
     "name": "stdin",
     "output_type": "stream",
     "text": [
      " 2 2\n",
      " 1 -1\n",
      " -1 1\n"
     ]
    },
    {
     "data": {
      "text/plain": [
       "[[0, -1], [-1, 0]]"
      ]
     },
     "execution_count": 83,
     "metadata": {},
     "output_type": "execute_result"
    }
   ],
   "source": [
    "M, N = map(int, input().split())\n",
    "house = [list(map(int,input().split())) for i in range (N)]\n",
    "\n",
    "from collections import deque\n",
    "\n",
    "\n",
    "def bfs(x, y):\n",
    "    \n",
    "    dx = [0,0,-1,1]\n",
    "    dy = [1,-1,0,0]\n",
    "    \n",
    "    queue = deque()\n",
    "    if house[y][x] == 1:\n",
    "        house[y][x] = 0\n",
    "        queue.append((x, y))\n",
    "    \n",
    "        while queue:\n",
    "            x, y = queue.popleft()\n",
    "\n",
    "            for i in range(4):\n",
    "                nx = x + dx[i]\n",
    "                ny = y + dy[i]\n",
    "\n",
    "                if 0<=nx<M and 0<=ny<N:\n",
    "                    if house[ny][nx] == 0:\n",
    "                        queue.append((nx, ny))\n",
    "                        house[ny][nx] = house[y][x] + 1\n",
    "                        \n",
    "for i in range(M):\n",
    "    for j in range(N):\n",
    "        if house[j][i] == 1:\n",
    "            bfs(i, j)\n",
    "            \n",
    "house"
   ]
  },
  {
   "cell_type": "code",
   "execution_count": null,
   "id": "9c741cc7-378d-4b6c-b884-0914deb8c6e8",
   "metadata": {},
   "outputs": [],
   "source": []
  }
 ],
 "metadata": {
  "kernelspec": {
   "display_name": "Python 3 (ipykernel)",
   "language": "python",
   "name": "python3"
  },
  "language_info": {
   "codemirror_mode": {
    "name": "ipython",
    "version": 3
   },
   "file_extension": ".py",
   "mimetype": "text/x-python",
   "name": "python",
   "nbconvert_exporter": "python",
   "pygments_lexer": "ipython3",
   "version": "3.8.12"
  }
 },
 "nbformat": 4,
 "nbformat_minor": 5
}
