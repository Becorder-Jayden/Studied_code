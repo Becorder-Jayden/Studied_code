{
 "cells": [
  {
   "cell_type": "markdown",
   "id": "1ee214b3-abf9-4bc9-9905-d7184d5c1f5b",
   "metadata": {},
   "source": [
    "# 2021.11.17"
   ]
  },
  {
   "cell_type": "code",
   "execution_count": 1,
   "id": "4262f87d-fdac-4d2f-a993-31ab810527ee",
   "metadata": {},
   "outputs": [],
   "source": [
    "# Bronze II\n",
    "# 13300 방 배정"
   ]
  },
  {
   "cell_type": "code",
   "execution_count": 133,
   "id": "e50a38cf-5b91-4314-9d10-226790f44d4d",
   "metadata": {},
   "outputs": [
    {
     "name": "stdin",
     "output_type": "stream",
     "text": [
      " 16 2\n",
      " 1 1\n",
      " 0 1\n",
      " 1 1\n",
      " 0 2\n",
      " 1 2\n",
      " 0 2\n",
      " 0 3\n",
      " 1 3\n",
      " 1 4\n",
      " 1 3\n",
      " 1 3\n",
      " 0 6\n",
      " 1 5\n",
      " 0 5\n",
      " 1 5\n",
      " 1 6\n"
     ]
    },
    {
     "name": "stdout",
     "output_type": "stream",
     "text": [
      "16\n"
     ]
    }
   ],
   "source": [
    "# 틀린 풀이_스스로 이해하기 어려운 구조 사용\n",
    "\n",
    "import math\n",
    "\n",
    "room = []\n",
    "cnt = 0\n",
    "\n",
    "for i in range(6):\n",
    "    grade = []\n",
    "    for j in range(2):\n",
    "        grade.append(0)\n",
    "    room.append(grade)\n",
    "    \n",
    "N, K = map(int, input().split())\n",
    "\n",
    "for i in range(N):\n",
    "    S, Y = map(int, input().split())\n",
    "    room[Y-1][S] += 1\n",
    "\n",
    "for i in room:\n",
    "    for j in i:\n",
    "        math.ceil(j/K)\n",
    "        cnt += j\n",
    "print(cnt)\n",
    "\n",
    "# Q.조언?\n",
    "# A. math ceil 사용해서 올림 적용"
   ]
  },
  {
   "cell_type": "code",
   "execution_count": null,
   "id": "b75c0276-e536-4cfb-9dd7-d34b15b18f9a",
   "metadata": {},
   "outputs": [],
   "source": [
    "# 영민's solution\n",
    "\n",
    "import math # ceil을 이용해 올림 처리 적용을 위함\n",
    "\n",
    "N, K = map(int, input().split()) # N: 참가 학생 수, K: 한 방당 최대 인원 수\n",
    "P = [[0,0] for i in range(6)] # 학년별, 성별 방 구성\n",
    "R = 0\n",
    "\n",
    "for i in range(N):\n",
    "    S, Y = map(int, input().split()) # S: 성별, Y: 학년\n",
    "    if S == 1:\n",
    "        P[Y-1][1] += 1 # 학년에 맞는 남학생 수 추가\n",
    "    else:\n",
    "        P[Y-1][0] += 1 # 학년에 맞는 여학생 수 추가\n",
    "        \n",
    "for i in range(6):\n",
    "    R += math.ceil(P[i][0]/K) # '인원/최대인원 수'를 올림해서 R에 추가\n",
    "    R += math.ceil(P[i][1]/K)\n",
    "\n",
    "print(R)"
   ]
  },
  {
   "cell_type": "markdown",
   "id": "951d06a6-b856-44a3-a6c4-4118e5d18035",
   "metadata": {},
   "source": [
    "---"
   ]
  },
  {
   "cell_type": "code",
   "execution_count": 69,
   "id": "9b50c05e-8f4c-49f7-a758-fc5d5abbaa88",
   "metadata": {},
   "outputs": [],
   "source": [
    "# Silver V\n",
    "# 1475 방 번호"
   ]
  },
  {
   "cell_type": "code",
   "execution_count": 130,
   "id": "06bfc9c7-6ed8-4679-bab1-c3c47879c45b",
   "metadata": {},
   "outputs": [
    {
     "name": "stdin",
     "output_type": "stream",
     "text": [
      " 888888\n"
     ]
    },
    {
     "name": "stdout",
     "output_type": "stream",
     "text": [
      "6\n"
     ]
    }
   ],
   "source": [
    "# 풀이 참고_깨지고 부서저라\n",
    "\n",
    "N = input()\n",
    "a = {'0':0, '1':0, '2':0, '3':0, '4':0, '5':0, '6':0, '7':0, '8':0}\n",
    "\n",
    "for i in N:\n",
    "    if i == '9':\n",
    "        a['6'] += 1 \n",
    "    else:\n",
    "        a[i] += 1 \n",
    "\n",
    "if a['6']%2 == 0:\n",
    "    a['6'] = a['6']//2\n",
    "else:\n",
    "    a['6'] = a['6']//2 + 1\n",
    "    \n",
    "print(max(a.values()))      "
   ]
  },
  {
   "cell_type": "code",
   "execution_count": null,
   "id": "19bc5844-ad9c-49eb-a426-81990505b039",
   "metadata": {},
   "outputs": [],
   "source": []
  }
 ],
 "metadata": {
  "kernelspec": {
   "display_name": "Python 3 (ipykernel)",
   "language": "python",
   "name": "python3"
  },
  "language_info": {
   "codemirror_mode": {
    "name": "ipython",
    "version": 3
   },
   "file_extension": ".py",
   "mimetype": "text/x-python",
   "name": "python",
   "nbconvert_exporter": "python",
   "pygments_lexer": "ipython3",
   "version": "3.8.12"
  }
 },
 "nbformat": 4,
 "nbformat_minor": 5
}
