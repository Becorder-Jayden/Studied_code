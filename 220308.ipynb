{
 "cells": [
  {
   "cell_type": "markdown",
   "id": "1c0bf1a4-5599-4f24-b95f-949178ecdeb7",
   "metadata": {},
   "source": [
    "# 2022.03.08"
   ]
  },
  {
   "cell_type": "code",
   "execution_count": 1,
   "id": "cf5bf513-7295-46bc-a66c-111200eb4fed",
   "metadata": {},
   "outputs": [],
   "source": [
    "# Silver I\n",
    "# 1389 케빈 베이컨의 6단계 법칙__중도 포기"
   ]
  },
  {
   "cell_type": "code",
   "execution_count": 51,
   "id": "8702483c-0b84-4b8f-b56c-09bd02fe8b3f",
   "metadata": {},
   "outputs": [
    {
     "name": "stdout",
     "output_type": "stream",
     "text": [
      "{1: [3, 4], 2: [3], 3: [1, 4, 2], 4: [1, 5, 3], 5: [4]}\n",
      "[False, False, False, False, False]\n"
     ]
    }
   ],
   "source": [
    "# N, M = map(int, input().split())\n",
    "# dic = {}\n",
    "# for i in range(N):\n",
    "#     dic[i+1] = []\n",
    "    \n",
    "# for i in range(M):\n",
    "#     A, B = map(int, input().split())\n",
    "#     dic[A].append(B)\n",
    "#     dic[B].append(A)\n",
    "\n",
    "# print(dic)\n",
    "\n",
    "dic = {1: [3, 4], 2: [3], 3: [1, 4, 2], 4: [1, 5, 3], 5: [4]}\n",
    "check = [False] * M\n",
    "\n",
    "print(dic)\n",
    "print(check)\n",
    "\n",
    "for i in dic:\n",
    "    check[i] = True\n",
    "    "
   ]
  },
  {
   "cell_type": "markdown",
   "id": "c3303506-5d68-4a66-b8d1-f277f1d1bbdc",
   "metadata": {},
   "source": [
    "---"
   ]
  },
  {
   "cell_type": "code",
   "execution_count": null,
   "id": "ba61a294-88c9-4d45-a826-76ad1a7972ba",
   "metadata": {},
   "outputs": [],
   "source": [
    "#"
   ]
  }
 ],
 "metadata": {
  "kernelspec": {
   "display_name": "Python 3 (ipykernel)",
   "language": "python",
   "name": "python3"
  },
  "language_info": {
   "codemirror_mode": {
    "name": "ipython",
    "version": 3
   },
   "file_extension": ".py",
   "mimetype": "text/x-python",
   "name": "python",
   "nbconvert_exporter": "python",
   "pygments_lexer": "ipython3",
   "version": "3.8.12"
  }
 },
 "nbformat": 4,
 "nbformat_minor": 5
}
