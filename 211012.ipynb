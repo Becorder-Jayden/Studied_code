{
 "cells": [
  {
   "cell_type": "code",
   "execution_count": 9,
   "id": "4a23806d-cf38-4054-88fa-d67b7a1baaa0",
   "metadata": {},
   "outputs": [
    {
     "name": "stdin",
     "output_type": "stream",
     "text": [
      " 1\n",
      " 2\n",
      " 3\n",
      " 5\n",
      " 8\n",
      " 13\n",
      " 21\n",
      " 34\n",
      " 5\n",
      " 89\n"
     ]
    },
    {
     "name": "stdout",
     "output_type": "stream",
     "text": [
      "[-99, -97, -94, -89, -81, -68, -47, -13, -8, 81]\n"
     ]
    }
   ],
   "source": [
    "# 2851 슈퍼마리오\n",
    "\n",
    "s = 0\n",
    "l = []\n",
    "\n",
    "for i in range(10):\n",
    "    n = int(input())\n",
    "    s += n\n",
    "    \n",
    "    l.append(s-100)\n",
    "    \n",
    "print(l)"
   ]
  },
  {
   "cell_type": "code",
   "execution_count": null,
   "id": "d1bd9163",
   "metadata": {},
   "outputs": [],
   "source": [
    "# 3052 나머지\n",
    "\n",
    "lis = []\n",
    "\n",
    "for i in range(10):\n",
    "    T = int(input())\n",
    "    lis.append(T%42)\n",
    "    \n",
    "print(lis)\n",
    "print(len(set(lis)))"
   ]
  },
  {
   "cell_type": "code",
   "execution_count": 11,
   "id": "fba48caf-1225-494a-8a04-c7b4f9f81a0b",
   "metadata": {},
   "outputs": [
    {
     "name": "stdin",
     "output_type": "stream",
     "text": [
      " 2\n",
      " 3 ABC\n"
     ]
    },
    {
     "name": "stdout",
     "output_type": "stream",
     "text": [
      "AAABBBCCC"
     ]
    },
    {
     "name": "stdin",
     "output_type": "stream",
     "text": [
      " 5 /HTP\n"
     ]
    },
    {
     "name": "stdout",
     "output_type": "stream",
     "text": [
      "/////HHHHHTTTTTPPPPP"
     ]
    }
   ],
   "source": [
    "# 2675 문자열 반복\n",
    "\n",
    "n = int(input())\n",
    "\n",
    "for i in range(n):\n",
    "    a, b = input().split()\n",
    "    a = int(a)\n",
    "    for j in list(b):\n",
    "        print(j*a, end='')"
   ]
  },
  {
   "cell_type": "code",
   "execution_count": null,
   "id": "bcdf80ef-ef35-4cf9-b9cc-bb2f821d02b8",
   "metadata": {},
   "outputs": [],
   "source": []
  }
 ],
 "metadata": {
  "kernelspec": {
   "display_name": "Python 3",
   "language": "python",
   "name": "python3"
  },
  "language_info": {
   "codemirror_mode": {
    "name": "ipython",
    "version": 3
   },
   "file_extension": ".py",
   "mimetype": "text/x-python",
   "name": "python",
   "nbconvert_exporter": "python",
   "pygments_lexer": "ipython3",
   "version": "3.8.8"
  }
 },
 "nbformat": 4,
 "nbformat_minor": 5
}
