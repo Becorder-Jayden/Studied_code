{
 "cells": [
  {
   "cell_type": "markdown",
   "id": "75b49b26-939c-487a-bb93-b4d5b27b4790",
   "metadata": {},
   "source": [
    "# 2022.02.23"
   ]
  },
  {
   "cell_type": "code",
   "execution_count": 1,
   "id": "ce7ba8ce-70e5-40b6-a1da-de76b6ac0203",
   "metadata": {},
   "outputs": [],
   "source": [
    "# Silver III\n",
    "# 1654 랜선 자르기"
   ]
  },
  {
   "cell_type": "code",
   "execution_count": 12,
   "id": "88b29d84-7c72-4e18-a949-74f36c11d688",
   "metadata": {},
   "outputs": [
    {
     "name": "stdout",
     "output_type": "stream",
     "text": [
      "401\n"
     ]
    }
   ],
   "source": [
    "# K, N = map(int, input().split())  # K:랜선의 개수, N: 만들어야 하는 개수\n",
    "# lan = [int(input()) for i in range(K)]  # 각 랜선의 길이\n",
    "\n",
    "# 출력 : N개를 만들수 있는 랜선의 최대 길이\n",
    "K, N = 4, 11\n",
    "lan = [802,743,457,539]\n",
    "\n",
    "def bs(arr, target):\n",
    "    start = 0\n",
    "    end = max(lan)\n",
    "    cnt = 0\n",
    "    result = 0\n",
    "    \n",
    "    while start <= end:\n",
    "        mid = (start+end) // 2\n",
    "        for i in lan:\n",
    "            if i >= mid:\n",
    "                cnt += i//mid\n",
    "        if cnt > target:\n",
    "            start = mid + 1\n",
    "        else:\n",
    "            end = mid - 1\n",
    "            result = mid\n",
    "    return result\n",
    "\n",
    "print(bs(lan, N))"
   ]
  },
  {
   "cell_type": "code",
   "execution_count": 51,
   "id": "52e7c0ba-4813-4908-8f00-f9470ba55296",
   "metadata": {},
   "outputs": [
    {
     "name": "stdout",
     "output_type": "stream",
     "text": [
      "185\n"
     ]
    }
   ],
   "source": [
    "# K, N = map(int, input().split())  # K:랜선의 개수, N: 만들어야 하는 개수\n",
    "# lan = [int(input()) for i in range(K)]  # 각 랜선의 길이\n",
    "\n",
    "# 출력 : N개를 만들수 있는 랜선의 최대 길이\n",
    "K, N = 4, 11\n",
    "lan = [802,743,457,539]\n",
    "\n",
    "def bs(arr, target):\n",
    "    start = 1\n",
    "    end = max(lan)\n",
    "    \n",
    "    while start <= end:\n",
    "        mid = (start+end) // 2\n",
    "        cnt = 0\n",
    "        \n",
    "        for i in lan:\n",
    "            cnt += i // mid\n",
    "        \n",
    "        if cnt <= target:\n",
    "            end = mid - 1\n",
    "        else:\n",
    "            start = mid + 1\n",
    "            \n",
    "    return end\n",
    "\n",
    "print(bs(lan, N))"
   ]
  },
  {
   "cell_type": "markdown",
   "id": "6918bc38-c5b0-48cb-a7d3-deecc75cb6db",
   "metadata": {},
   "source": [
    "---"
   ]
  },
  {
   "cell_type": "code",
   "execution_count": 151,
   "id": "7b83bf17-c839-4bd1-93e4-269e281cf62a",
   "metadata": {},
   "outputs": [
    {
     "name": "stdin",
     "output_type": "stream",
     "text": [
      " 6\n"
     ]
    },
    {
     "name": "stdout",
     "output_type": "stream",
     "text": [
      "3\n",
      "1/3\n"
     ]
    }
   ],
   "source": [
    "X = int(input())\n",
    "\n",
    "line = 1\n",
    "while X > line:\n",
    "    X -= line\n",
    "    line += 1\n",
    "\n",
    "if line%2 == 0:\n",
    "    a = X\n",
    "    b = line-X+1 \n",
    "else:\n",
    "    a = line-X+1\n",
    "    b = X\n",
    "\n",
    "print(line)\n",
    "print(a, '/', b, sep = '')"
   ]
  }
 ],
 "metadata": {
  "kernelspec": {
   "display_name": "Python 3 (ipykernel)",
   "language": "python",
   "name": "python3"
  },
  "language_info": {
   "codemirror_mode": {
    "name": "ipython",
    "version": 3
   },
   "file_extension": ".py",
   "mimetype": "text/x-python",
   "name": "python",
   "nbconvert_exporter": "python",
   "pygments_lexer": "ipython3",
   "version": "3.8.12"
  }
 },
 "nbformat": 4,
 "nbformat_minor": 5
}
