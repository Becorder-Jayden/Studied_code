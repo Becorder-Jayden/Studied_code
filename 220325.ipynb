{
 "cells": [
  {
   "cell_type": "markdown",
   "id": "9a75dbf7-010d-439e-8fa8-a0ff01537b56",
   "metadata": {},
   "source": [
    "# 2022.03.23"
   ]
  },
  {
   "cell_type": "code",
   "execution_count": 1,
   "id": "9fe5cf79-358e-4df5-acc4-6a214b9ad959",
   "metadata": {},
   "outputs": [],
   "source": [
    "# 프로그래머스 1일차"
   ]
  },
  {
   "cell_type": "code",
   "execution_count": 48,
   "id": "021ebe3b-af74-474b-8df1-64467ed573ae",
   "metadata": {},
   "outputs": [
    {
     "name": "stdout",
     "output_type": "stream",
     "text": [
      "\"leo\"\n"
     ]
    }
   ],
   "source": [
    "# try 1\n",
    "# answer = ''\n",
    "answer = ''\n",
    "dic = {}\n",
    "participant =[\"leo\", \"kiki\", \"eden\"]\n",
    "completion =[\"eden\", \"kiki\"]\n",
    "\n",
    "for i in participant:\n",
    "    dic[i] = False\n",
    "    \n",
    "for i in completion:\n",
    "    dic[i] = True\n",
    "\n",
    "for i in dic:\n",
    "    if dic.get(i)==False:\n",
    "        answer = '\"' + i + '\"'\n",
    "        \n",
    "print(answer)"
   ]
  },
  {
   "cell_type": "code",
   "execution_count": 59,
   "id": "836434f8-2358-4c9f-abef-1cb268091ed3",
   "metadata": {},
   "outputs": [
    {
     "name": "stdout",
     "output_type": "stream",
     "text": [
      "mislav\n"
     ]
    }
   ],
   "source": [
    "# try 2\n",
    "# answer = ''\n",
    "answer = ''\n",
    "dic = {}\n",
    "participant = [\"mislav\", \"stanko\", \"mislav\", \"ana\"]\n",
    "completion = [\"stanko\", \"ana\", \"mislav\"]\n",
    "\n",
    "for i in participant:\n",
    "    if i in dic:\n",
    "        dic[i] += 1\n",
    "    else:\n",
    "        dic[i] = 0\n",
    "    \n",
    "for i in completion:\n",
    "    dic[i] -= 1\n",
    "    \n",
    "for i in dic:\n",
    "    if dic.get(i) != -1:\n",
    "        answer = i\n",
    "print(answer)"
   ]
  },
  {
   "cell_type": "code",
   "execution_count": 60,
   "id": "fdff2b3c-ae88-49ef-a46e-dbf1da5ceb08",
   "metadata": {},
   "outputs": [],
   "source": [
    "# 프로그래머스 전화번호 목록"
   ]
  },
  {
   "cell_type": "code",
   "execution_count": 64,
   "id": "c0315487-eaf9-4dfb-9069-a0ab6affb83a",
   "metadata": {},
   "outputs": [
    {
     "name": "stdout",
     "output_type": "stream",
     "text": [
      "0 0\n",
      "0 1\n",
      "0 2\n",
      "1 1\n",
      "1 2\n",
      "2 2\n"
     ]
    }
   ],
   "source": [
    "phone_book = [\"119\", \"97674223\", \"1195524421\"]\n",
    "answer = True\n",
    "\n",
    "for i in range(len(phone_book)):\n",
    "    for j in range(i, len(phone_book)):\n",
    "        if phone_book[i]\n",
    "    "
   ]
  },
  {
   "cell_type": "code",
   "execution_count": null,
   "id": "0e3dd624-1a90-45e2-bfab-60d224a7bb58",
   "metadata": {},
   "outputs": [],
   "source": []
  }
 ],
 "metadata": {
  "kernelspec": {
   "display_name": "Python 3 (ipykernel)",
   "language": "python",
   "name": "python3"
  },
  "language_info": {
   "codemirror_mode": {
    "name": "ipython",
    "version": 3
   },
   "file_extension": ".py",
   "mimetype": "text/x-python",
   "name": "python",
   "nbconvert_exporter": "python",
   "pygments_lexer": "ipython3",
   "version": "3.8.12"
  }
 },
 "nbformat": 4,
 "nbformat_minor": 5
}
