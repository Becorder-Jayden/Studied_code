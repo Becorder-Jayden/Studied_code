{
 "cells": [
  {
   "cell_type": "markdown",
   "id": "eb8ef49f-3f2a-4790-820f-ea805c84a786",
   "metadata": {},
   "source": [
    "# 2022.01.21"
   ]
  },
  {
   "cell_type": "code",
   "execution_count": 1,
   "id": "d389042b-88bc-447a-8e54-d4be479ea4e8",
   "metadata": {},
   "outputs": [],
   "source": [
    "# Silver III\n",
    "# 15652 N과 M (4)"
   ]
  },
  {
   "cell_type": "code",
   "execution_count": 35,
   "id": "3da47fe1-5af4-4aac-b174-1db44e3792e9",
   "metadata": {},
   "outputs": [
    {
     "name": "stdin",
     "output_type": "stream",
     "text": [
      " 4 2\n"
     ]
    },
    {
     "name": "stdout",
     "output_type": "stream",
     "text": [
      "1 1\n",
      "1 2\n",
      "1 3\n",
      "1 4\n",
      "2 2\n",
      "2 3\n",
      "2 4\n",
      "3 3\n",
      "3 4\n",
      "4 4\n"
     ]
    }
   ],
   "source": [
    "N, M = map(int, input().split())\n",
    "\n",
    "def dfs(start, seq):\n",
    "    if len(seq) == M:\n",
    "        print(' '.join(list(map(str, seq))))\n",
    "        return \n",
    "    \n",
    "    for i in range(start, N+1):\n",
    "        seq.append(i)\n",
    "        dfs(i, seq)\n",
    "        seq.pop()\n",
    "        \n",
    "dfs(1, [])"
   ]
  },
  {
   "cell_type": "code",
   "execution_count": 15,
   "id": "bc89e6e0-aad2-4ee6-b8c4-40895a2b1d65",
   "metadata": {},
   "outputs": [],
   "source": [
    "# Silver III\n",
    "# 15650 N과 M (2)"
   ]
  },
  {
   "cell_type": "code",
   "execution_count": 42,
   "id": "22e71141-6bdb-4c87-9772-768be98fc2d6",
   "metadata": {},
   "outputs": [
    {
     "name": "stdin",
     "output_type": "stream",
     "text": [
      " 4 2\n"
     ]
    },
    {
     "name": "stdout",
     "output_type": "stream",
     "text": [
      "1 2\n",
      "1 3\n",
      "1 4\n",
      "2 3\n",
      "2 4\n",
      "3 4\n"
     ]
    }
   ],
   "source": [
    "N, M = map(int, input().split())\n",
    "\n",
    "def dfs(start, seq):\n",
    "    if len(seq) == M:\n",
    "        print(' '.join(list(map(str, seq))))\n",
    "        return \n",
    "    \n",
    "    for i in range(start, N+1):\n",
    "        if i not in seq:\n",
    "            seq.append(i)\n",
    "            dfs(i+1, seq)\n",
    "            seq.pop()\n",
    "            \n",
    "dfs(1, [])"
   ]
  },
  {
   "cell_type": "code",
   "execution_count": 43,
   "id": "4f2f4447-388b-4a5e-8caa-e9d2b9e0356b",
   "metadata": {},
   "outputs": [],
   "source": [
    "# Silver III\n",
    "# 15649 N과 M (1)"
   ]
  },
  {
   "cell_type": "code",
   "execution_count": 44,
   "id": "30a8099f-a70a-4e63-9128-5d0f67389f2e",
   "metadata": {},
   "outputs": [
    {
     "name": "stdin",
     "output_type": "stream",
     "text": [
      " 4 2\n"
     ]
    },
    {
     "name": "stdout",
     "output_type": "stream",
     "text": [
      "1 2\n",
      "1 3\n",
      "1 4\n",
      "2 1\n",
      "2 3\n",
      "2 4\n",
      "3 1\n",
      "3 2\n",
      "3 4\n",
      "4 1\n",
      "4 2\n",
      "4 3\n"
     ]
    }
   ],
   "source": [
    "N, M = map(int, input().split())\n",
    "\n",
    "def dfs(start, seq):\n",
    "    if len(seq)==M:\n",
    "        print(' '.join(list(map(str, seq))))\n",
    "        return\n",
    "    \n",
    "    for i in range(1, N+1):\n",
    "        if i not in seq:\n",
    "            seq.append(i)\n",
    "            dfs(start+1, seq)\n",
    "            seq.pop()\n",
    "            \n",
    "dfs(0, [])"
   ]
  },
  {
   "cell_type": "code",
   "execution_count": 45,
   "id": "6c422dfd-ac8b-4723-b3a5-347487e3f3d2",
   "metadata": {},
   "outputs": [],
   "source": [
    "# Silver III\n",
    "# 15651 N과 M (3) "
   ]
  },
  {
   "cell_type": "code",
   "execution_count": 1,
   "id": "84f6eb29-8f1a-4ef1-b614-055802c50867",
   "metadata": {},
   "outputs": [
    {
     "name": "stdin",
     "output_type": "stream",
     "text": [
      " 4 2\n"
     ]
    },
    {
     "name": "stdout",
     "output_type": "stream",
     "text": [
      "1 1\n",
      "1 2\n",
      "1 3\n",
      "1 4\n",
      "2 1\n",
      "2 2\n",
      "2 3\n",
      "2 4\n",
      "3 1\n",
      "3 2\n",
      "3 3\n",
      "3 4\n",
      "4 1\n",
      "4 2\n",
      "4 3\n",
      "4 4\n"
     ]
    }
   ],
   "source": [
    "N, M = map(int, input().split())\n",
    "\n",
    "def dfs(start, seq):\n",
    "    if len(seq) == M:\n",
    "        print(' '.join(list(map(str, seq))))\n",
    "        return\n",
    "    \n",
    "    for i in range(1, N+1):\n",
    "        seq.append(i)\n",
    "        dfs(i+1, seq)\n",
    "        seq.pop()\n",
    "        \n",
    "dfs(1, [])"
   ]
  }
 ],
 "metadata": {
  "kernelspec": {
   "display_name": "Python 3 (ipykernel)",
   "language": "python",
   "name": "python3"
  },
  "language_info": {
   "codemirror_mode": {
    "name": "ipython",
    "version": 3
   },
   "file_extension": ".py",
   "mimetype": "text/x-python",
   "name": "python",
   "nbconvert_exporter": "python",
   "pygments_lexer": "ipython3",
   "version": "3.8.12"
  }
 },
 "nbformat": 4,
 "nbformat_minor": 5
}
