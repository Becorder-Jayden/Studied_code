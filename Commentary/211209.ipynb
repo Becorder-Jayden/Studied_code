{
 "cells": [
  {
   "cell_type": "markdown",
   "id": "cf605171-c191-4449-bd3e-d92a7568fd5b",
   "metadata": {},
   "source": [
    "# 2021.12.09"
   ]
  },
  {
   "cell_type": "code",
   "execution_count": 2,
   "id": "db1bb9d2-dc78-4f76-ac90-ad7a2c79d922",
   "metadata": {},
   "outputs": [],
   "source": [
    "# Siver II\n",
    "# 1931 회의실 배정                                          "
   ]
  },
  {
   "cell_type": "code",
   "execution_count": 37,
   "id": "7a79c7ed-a3f9-4fbf-a52f-ffb616200051",
   "metadata": {},
   "outputs": [
    {
     "name": "stdin",
     "output_type": "stream",
     "text": [
      " 2\n",
      " 2 2\n",
      " 1 2\n"
     ]
    },
    {
     "name": "stdout",
     "output_type": "stream",
     "text": [
      "[[2, 2], [1, 2]]\n",
      "1\n"
     ]
    }
   ],
   "source": [
    "N = int(input())\n",
    "time = []\n",
    "\n",
    "\n",
    "for i in range(N):\n",
    "    start, end = map(int, input().split())\n",
    "    time.append([start, end])\n",
    "\n",
    "# end 시각을 기준으로 오름차순 정렬\n",
    "# 이때 시간 복잡도 = O(NlogN)                  # Q. why?\n",
    "time = sorted(time, key = lambda a : a[0])    # 2차원 요소를 기준으로 정렬할 때 sorted(list, key = lambda a:a[n]) 사용\n",
    "time = sorted(time, key = lambda a : a[1])      # a[1] 정렬을 나중에 해줘야 최종적으로 a[1] 기준이 우선됨\n",
    "\n",
    "last_end = 0\n",
    "cnt = 0\n",
    "\n",
    "for start, end in time:\n",
    "    if start >= last_end:\n",
    "        cnt += 1\n",
    "        last_end = end\n",
    "\n",
    "print(time)\n",
    "print(cnt)"
   ]
  },
  {
   "cell_type": "code",
   "execution_count": null,
   "id": "fc180b02-cc8b-417a-a0df-19fdf4000dfa",
   "metadata": {},
   "outputs": [],
   "source": [
    "## Q. sort : a[0], a[1]이랑 sort a[1]이랑 정답 판별에 차이가 나는 이유?\n",
    "\n",
    "# sort : a[0], a[1] 적용 : a[1]에 우선적으로 정렬\n",
    "[[1, 4], [3, 5], [0, 6], [5, 7], [3, 8], [5, 9], [6, 10], [8, 11], [8, 12], [2, 13], [12, 14]]\n",
    "\n",
    "# sort : a[1], a[0] 적용 : a[0]에 우선적으로 정렬\n",
    "[[0, 6], [1, 4], [2, 13], [3, 5], [3, 8], [5, 7], [5, 9], [6, 10], [8, 11], [8, 12], [12, 14]]\n",
    "\n",
    "# sort : a[1]만 적용\n",
    "[[1, 4], [3, 5], [0, 6], [5, 7], [3, 8], [5, 9], [6, 10], [8, 11], [8, 12], [2, 13], [12, 14]]"
   ]
  },
  {
   "cell_type": "code",
   "execution_count": 31,
   "id": "ca42f89b-b298-4a4e-b067-cd13eb1c43f7",
   "metadata": {},
   "outputs": [
    {
     "name": "stdin",
     "output_type": "stream",
     "text": [
      " 11\n",
      " 1 4\n",
      " 3 5\n",
      " 0 6\n",
      " 5 7\n",
      " 3 8\n",
      " 5 9\n",
      " 6 10\n",
      " 8 11\n",
      " 8 12\n",
      " 2 13\n",
      " 12 14\n"
     ]
    },
    {
     "name": "stdout",
     "output_type": "stream",
     "text": [
      "[[0, 6], [1, 4], [2, 13], [3, 5], [3, 8], [5, 7], [5, 9], [6, 10], [8, 11], [8, 12], [12, 14]]\n",
      "3\n"
     ]
    }
   ],
   "source": [
    "# test_1 : sort 순서 변경\n",
    "\n",
    "N = int(input())\n",
    "time = []\n",
    "\n",
    "\n",
    "for i in range(N):\n",
    "    start, end = map(int, input().split())\n",
    "    time.append([start, end])\n",
    "\n",
    "# end 시각을 기준으로 오름차순 정렬\n",
    "# 이때 시간 복잡도 = O(NlogN)                  # Q. why?\n",
    "time = sorted(time, key = lambda a : a[1])    # 2차원 요소를 기준으로 정렬할 때 key = lambda a:a[n] 사용\n",
    "time = sorted(time, key = lambda a : a[0])    # a[1] 정렬을 나중에 해줘야 최종적으로 a[1] 기준이 우선됨\n",
    "\n",
    "last_end = 0\n",
    "cnt = 0\n",
    "\n",
    "for start, end in time:\n",
    "    if start >= last_end:\n",
    "        cnt += 1\n",
    "        last_end = end\n",
    "\n",
    "print(time)\n",
    "print(cnt)"
   ]
  },
  {
   "cell_type": "code",
   "execution_count": 28,
   "id": "f5ae294a-01ee-4d16-8fa0-21103eae9d40",
   "metadata": {},
   "outputs": [
    {
     "ename": "ValueError",
     "evalue": "invalid literal for int() with base 10: ''",
     "output_type": "error",
     "traceback": [
      "\u001b[1;31m---------------------------------------------------------------------------\u001b[0m",
      "\u001b[1;31mValueError\u001b[0m                                Traceback (most recent call last)",
      "\u001b[1;32m~\\AppData\\Local\\Temp/ipykernel_16472/2949685159.py\u001b[0m in \u001b[0;36m<module>\u001b[1;34m\u001b[0m\n\u001b[0;32m      3\u001b[0m \u001b[1;32mimport\u001b[0m \u001b[0msys\u001b[0m\u001b[1;33m\u001b[0m\u001b[1;33m\u001b[0m\u001b[0m\n\u001b[0;32m      4\u001b[0m \u001b[1;33m\u001b[0m\u001b[0m\n\u001b[1;32m----> 5\u001b[1;33m \u001b[0mN\u001b[0m \u001b[1;33m=\u001b[0m \u001b[0mint\u001b[0m\u001b[1;33m(\u001b[0m\u001b[0msys\u001b[0m\u001b[1;33m.\u001b[0m\u001b[0mstdin\u001b[0m\u001b[1;33m.\u001b[0m\u001b[0mreadline\u001b[0m\u001b[1;33m(\u001b[0m\u001b[1;33m)\u001b[0m\u001b[1;33m)\u001b[0m\u001b[1;33m\u001b[0m\u001b[1;33m\u001b[0m\u001b[0m\n\u001b[0m\u001b[0;32m      6\u001b[0m \u001b[0mtime\u001b[0m \u001b[1;33m=\u001b[0m \u001b[1;33m[\u001b[0m\u001b[1;33m]\u001b[0m\u001b[1;33m\u001b[0m\u001b[1;33m\u001b[0m\u001b[0m\n\u001b[0;32m      7\u001b[0m \u001b[1;33m\u001b[0m\u001b[0m\n",
      "\u001b[1;31mValueError\u001b[0m: invalid literal for int() with base 10: ''"
     ]
    }
   ],
   "source": [
    "# 제출용_sort a[0] x\n",
    "# 틀렸습니다\n",
    "\n",
    "import sys\n",
    "\n",
    "N = int(sys.stdin.readline())\n",
    "time = []\n",
    "\n",
    "\n",
    "for i in range(N):\n",
    "    start, end = map(int, sys.stdin.readline().split())\n",
    "    time.append([start, end])\n",
    "\n",
    "# end 시각을 기준으로 오름차순 정렬\n",
    "# 이때 시간 복잡도 = O(NlogN)                  # Q. why?\n",
    "# time = sorted(time, key = lambda a : a[0])    # 2차원 요소를 기준으로 정렬할 때 key = lambda a:a[n] 사용\n",
    "time = sorted(time, key = lambda a : a[1])    # a[1] 정렬을 나중에 해줘야 최종적으로 a[1] 기준이 우선됨\n",
    "\n",
    "last_end = 0\n",
    "cnt = 0\n",
    "\n",
    "for start, end in time:\n",
    "    if start >= last_end:\n",
    "        cnt += 1\n",
    "        last_end = end\n",
    "\n",
    "print(cnt)"
   ]
  },
  {
   "cell_type": "code",
   "execution_count": null,
   "id": "d6087991-a317-41af-8a64-79fa46eb9941",
   "metadata": {},
   "outputs": [],
   "source": [
    "# 제출용_sort a[0] o\n",
    "# \n",
    "\n",
    "import sys\n",
    "\n",
    "N = int(sys.stdin.readline())\n",
    "time = []\n",
    "\n",
    "\n",
    "for i in range(N):\n",
    "    start, end = map(int, sys.stdin.readline().split())\n",
    "    time.append([start, end])\n",
    "\n",
    "# end 시각을 기준으로 오름차순 정렬\n",
    "# 이때 시간 복잡도 = O(NlogN)                  # Q. why?\n",
    "time = sorted(time, key = lambda a : a[0])    # 2차원 요소를 기준으로 정렬할 때 key = lambda a:a[n] 사용\n",
    "time = sorted(time, key = lambda a : a[1])    # a[1] 정렬을 나중에 해줘야 최종적으로 a[1] 기준이 우선됨\n",
    "\n",
    "last_end = 0\n",
    "cnt = 0\n",
    "\n",
    "for start, end in time:\n",
    "    if start >= last_end:\n",
    "        cnt += 1\n",
    "        last_end = end\n",
    "\n",
    "print(cnt)"
   ]
  },
  {
   "cell_type": "code",
   "execution_count": null,
   "id": "a00d8644-30e4-4345-825c-773cbd423626",
   "metadata": {},
   "outputs": [],
   "source": [
    "# by 대근\n",
    "N = int(input())\n",
    "\n",
    "meetings = [input() for _ in range(N)]\n",
    "meetings = [[int(x.split()[0]), int(x.split()[1])] for x in meetings]\n",
    "meetings.sort(key=lambda x: (x[1], x[0]))\n",
    "cnt = 0\n",
    "now = 0\n",
    "\n",
    "for i in range(len(meetings)):\n",
    "    if meetings[i][0] < now:\n",
    "        continue\n",
    "    else:\n",
    "        now = meetings[i][1]\n",
    "        cnt += 1\n",
    "    \n",
    "print(cnt)"
   ]
  },
  {
   "cell_type": "markdown",
   "id": "610a21df-5f11-49a8-98b8-10cb0cf21b7a",
   "metadata": {},
   "source": [
    "---"
   ]
  },
  {
   "cell_type": "markdown",
   "id": "01a2badb-cd86-4bdc-a1f1-f936b9839fc0",
   "metadata": {},
   "source": [
    "# 추가학습"
   ]
  },
  {
   "cell_type": "code",
   "execution_count": 38,
   "id": "a5e4d593-393d-4ea4-9b6b-6282344cf641",
   "metadata": {},
   "outputs": [],
   "source": [
    "# Silver II\n",
    "# 1541 잃어버린 괄호"
   ]
  },
  {
   "cell_type": "code",
   "execution_count": 29,
   "id": "2e48a761-33ea-453c-b83e-965820e3440f",
   "metadata": {},
   "outputs": [
    {
     "name": "stdin",
     "output_type": "stream",
     "text": [
      " 55-50+40\n"
     ]
    },
    {
     "name": "stdout",
     "output_type": "stream",
     "text": [
      "-35\n"
     ]
    }
   ],
   "source": [
    "a = input().split('-')\n",
    "li = []\n",
    "\n",
    "for i in a:\n",
    "    cnt = 0\n",
    "    b = i.split('+')\n",
    "    for j in b:\n",
    "        cnt += int(j)\n",
    "    li.append(cnt)\n",
    "    \n",
    "    \n",
    "n = li[0]\n",
    "for i in range(1, len(li)):\n",
    "    n -= li[i]\n",
    "\n",
    "print(n)    "
   ]
  },
  {
   "cell_type": "code",
   "execution_count": null,
   "id": "9fc88bfc-83cf-4629-8b8f-8d64bdff877b",
   "metadata": {},
   "outputs": [],
   "source": []
  }
 ],
 "metadata": {
  "kernelspec": {
   "display_name": "Python 3 (ipykernel)",
   "language": "python",
   "name": "python3"
  },
  "language_info": {
   "codemirror_mode": {
    "name": "ipython",
    "version": 3
   },
   "file_extension": ".py",
   "mimetype": "text/x-python",
   "name": "python",
   "nbconvert_exporter": "python",
   "pygments_lexer": "ipython3",
   "version": "3.8.12"
  }
 },
 "nbformat": 4,
 "nbformat_minor": 5
}
