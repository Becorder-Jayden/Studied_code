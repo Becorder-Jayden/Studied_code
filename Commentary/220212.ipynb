{
 "cells": [
  {
   "cell_type": "markdown",
   "id": "ac44e596-f702-4210-85f9-660ef4ea3d79",
   "metadata": {},
   "source": [
    "# 2022.02.12 "
   ]
  },
  {
   "cell_type": "code",
   "execution_count": 1,
   "id": "18d6e164-2bd6-4225-b425-8a4be74d0c36",
   "metadata": {},
   "outputs": [],
   "source": [
    "# Silver I\n",
    "# 1932 정수 삼각형"
   ]
  },
  {
   "cell_type": "code",
   "execution_count": 93,
   "id": "28800cb6-044d-4432-bb17-2489ad27751c",
   "metadata": {},
   "outputs": [],
   "source": [
    "T = 5\n",
    "li[0] = [7]\n",
    "li[1] = [3, 8]\n",
    "li[2] = [8, 1, 0]\n",
    "li[3] = [2, 7, 4, 4]\n",
    "li[4] = [4, 5, 2, 6, 5]\n",
    "li = [[7], [3,8], [8,1,0],[2,7,4,4], [4,5,2,6,5]]"
   ]
  },
  {
   "cell_type": "code",
   "execution_count": 72,
   "id": "d542887b-a630-4e81-9fa8-8436419bc2ee",
   "metadata": {},
   "outputs": [
    {
     "name": "stdout",
     "output_type": "stream",
     "text": [
      "[7, 12, 10, 10]\n"
     ]
    }
   ],
   "source": [
    "for i in range(len(li[3])):\n",
    "    li[3][i] = li[3][i] + max(li[4][i], li[4][i+1])\n",
    "\n",
    "print(li[3])"
   ]
  },
  {
   "cell_type": "code",
   "execution_count": 94,
   "id": "70931bab-c603-4924-ae97-2fe9a5ee851c",
   "metadata": {},
   "outputs": [],
   "source": [
    "T = 5"
   ]
  },
  {
   "cell_type": "code",
   "execution_count": 96,
   "id": "7bd966de-726d-43c0-bb26-a68e44a06163",
   "metadata": {},
   "outputs": [
    {
     "name": "stdout",
     "output_type": "stream",
     "text": [
      "[[90], [60, 51], [37, 30, 26], [12, 17, 16, 16], [4, 5, 2, 6, 5]]\n",
      "90\n"
     ]
    }
   ],
   "source": [
    "for i in reversed(range(T-1)):\n",
    "    for j in range(len(li[i])):\n",
    "        li[i][j] = li[i][j] + max(li[i+1][j], li[i+1][j+1])\n",
    "print(li)\n",
    "print(li[0][0])"
   ]
  },
  {
   "cell_type": "code",
   "execution_count": 97,
   "id": "442c04a6-2b6c-42b5-848b-6249379853bb",
   "metadata": {},
   "outputs": [
    {
     "name": "stdin",
     "output_type": "stream",
     "text": [
      " 5\n",
      " 7\n",
      " 3 8\n",
      " 8 1 0\n",
      " 2 7 4 4 \n",
      " 4 5 2 6 5\n"
     ]
    },
    {
     "name": "stdout",
     "output_type": "stream",
     "text": [
      "30\n"
     ]
    }
   ],
   "source": [
    "# 최종\n",
    "T = int(input())\n",
    "li = []\n",
    "for _ in range(T):\n",
    "    nums = list(map(int, input().split()))\n",
    "    li.append(nums)\n",
    "    \n",
    "for i in reversed(range(T-1)):\n",
    "    for j in range(len(li[i])):\n",
    "        li[i][j] = li[i][j] + max(li[i+1][j], li[i+1][j+1])\n",
    "\n",
    "print(li[0][0])"
   ]
  },
  {
   "cell_type": "markdown",
   "id": "c26f98a1-37be-4951-9222-217809f5c76f",
   "metadata": {},
   "source": [
    "---"
   ]
  },
  {
   "cell_type": "code",
   "execution_count": 1,
   "id": "a56024a6-2532-4998-8454-1b24f4c2c305",
   "metadata": {},
   "outputs": [],
   "source": [
    "# Siver IV\n",
    "# 1920 수 찾기_어렵다.."
   ]
  },
  {
   "cell_type": "code",
   "execution_count": 3,
   "id": "2981673e-e310-4efb-8fb7-c1664296132c",
   "metadata": {},
   "outputs": [
    {
     "name": "stdin",
     "output_type": "stream",
     "text": [
      " 5\n",
      " 4 1 5 2 3\n",
      " 5\n",
      " 1 3 7 9 5\n"
     ]
    },
    {
     "name": "stdout",
     "output_type": "stream",
     "text": [
      "1\n",
      "1\n",
      "0\n",
      "0\n",
      "1\n"
     ]
    }
   ],
   "source": [
    "N = int(input())\n",
    "N_nums = list(map(int, input().split()))\n",
    "M = int(input())\n",
    "M_nums = list(map(int, input().split()))\n",
    "\n",
    "for i in M_nums:\n",
    "    if i in N_nums:\n",
    "        print(1)\n",
    "    else:\n",
    "        print(0)"
   ]
  },
  {
   "cell_type": "markdown",
   "id": "844da940-0d93-43a8-8080-dad7a08e1a60",
   "metadata": {},
   "source": [
    "---"
   ]
  },
  {
   "cell_type": "code",
   "execution_count": 4,
   "id": "f57e2518-ede4-4b88-a93f-0168250c38e4",
   "metadata": {},
   "outputs": [],
   "source": [
    "# Silver II\n",
    "# 11053 가장 긴 증가하는 부분 수열"
   ]
  },
  {
   "cell_type": "code",
   "execution_count": 23,
   "id": "f4229fc7-d414-46fc-8fce-cdbbe3dfdced",
   "metadata": {},
   "outputs": [
    {
     "name": "stdin",
     "output_type": "stream",
     "text": [
      " 6\n",
      " 10 20 10 30 20 50\n"
     ]
    },
    {
     "name": "stdout",
     "output_type": "stream",
     "text": [
      "[10, 20, 30, 50]\n"
     ]
    }
   ],
   "source": [
    "N = int(input())\n",
    "li = []\n",
    "Max = 0\n",
    "A = list(map(int, input().split()))\n",
    "\n",
    "for i in range(len(A)):\n",
    "    if A[i] > Max:\n",
    "        Max = A[i]\n",
    "        li.append(A[i])\n",
    "print(li)"
   ]
  },
  {
   "cell_type": "code",
   "execution_count": 66,
   "id": "de45595d-c51f-4a18-8ebd-3bcfe17a90ff",
   "metadata": {},
   "outputs": [
    {
     "name": "stdin",
     "output_type": "stream",
     "text": [
      " 6\n",
      " 10 20 10 30 20 50\n"
     ]
    },
    {
     "name": "stdout",
     "output_type": "stream",
     "text": [
      "4\n"
     ]
    }
   ],
   "source": [
    "N = int(input())\n",
    "A = list(map(int, input().split()))\n",
    "li = []\n",
    "Max = 0\n",
    "cnt = 0\n",
    "\n",
    "for i in range(len(A)):\n",
    "    if A[i] > Max:\n",
    "        li.append(A[i])\n",
    "        Max = A[i]\n",
    "        cnt += 1\n",
    "        \n",
    "\n",
    "print(cnt)"
   ]
  },
  {
   "cell_type": "code",
   "execution_count": null,
   "id": "92cb519d-5821-401c-9f6b-c599a10f05e4",
   "metadata": {},
   "outputs": [],
   "source": []
  }
 ],
 "metadata": {
  "kernelspec": {
   "display_name": "Python 3 (ipykernel)",
   "language": "python",
   "name": "python3"
  },
  "language_info": {
   "codemirror_mode": {
    "name": "ipython",
    "version": 3
   },
   "file_extension": ".py",
   "mimetype": "text/x-python",
   "name": "python",
   "nbconvert_exporter": "python",
   "pygments_lexer": "ipython3",
   "version": "3.8.12"
  }
 },
 "nbformat": 4,
 "nbformat_minor": 5
}
