{
 "cells": [
  {
   "cell_type": "markdown",
   "id": "22d92d88-cda9-4451-aa40-ac125832ca6b",
   "metadata": {},
   "source": [
    "# 2022.03.03"
   ]
  },
  {
   "cell_type": "code",
   "execution_count": 1,
   "id": "b73d79c3-6ad3-4424-b0ae-5f4a7c62efba",
   "metadata": {},
   "outputs": [],
   "source": [
    "# Silver I\n",
    "# 16928 뱀과 사다리 게임"
   ]
  },
  {
   "cell_type": "code",
   "execution_count": 3,
   "id": "80a8c333-5fa8-4229-b007-7a36d3e16475",
   "metadata": {},
   "outputs": [
    {
     "data": {
      "text/plain": [
       "7"
      ]
     },
     "execution_count": 3,
     "metadata": {},
     "output_type": "execute_result"
    }
   ],
   "source": [
    "# N, M = map(int, input().split())\n",
    "# ladder = []\n",
    "# snake = []\n",
    "# for _ in range(N):\n",
    "#     x, y = map(int, input().split())\n",
    "#     ladder.append((x, y))\n",
    "\n",
    "# for _ in range(M):\n",
    "#     u, v = map(int, input().split())\n",
    "#     snake.append((u, v))\n",
    "\n",
    "# 예제 1 기준 입력\n",
    "N, M = 3, 7\n",
    "ladder = [(32, 62), (42, 68), (12, 98)]\n",
    "snake = [(95, 13), (97, 25), (93, 37), (79, 27), (75, 19), (49, 47), (67, 17)]\n",
    "\n",
    "loc = 1\n"
   ]
  },
  {
   "cell_type": "markdown",
   "id": "59ad794c-d66f-4fb9-9b1a-08f257d3c3ed",
   "metadata": {},
   "source": [
    "---"
   ]
  },
  {
   "cell_type": "code",
   "execution_count": null,
   "id": "a36dd341-a9e3-4e4b-b3f5-23ef8981ba6f",
   "metadata": {},
   "outputs": [],
   "source": [
    "# Silver II\n",
    "# 5525 IOIOI "
   ]
  },
  {
   "cell_type": "code",
   "execution_count": 7,
   "id": "ed60cc9f-c10f-4367-87bb-bf8e9d8a2342",
   "metadata": {},
   "outputs": [
    {
     "name": "stdin",
     "output_type": "stream",
     "text": [
      " 2\n",
      " 3\n",
      " OOIOIOIOIIOII\n"
     ]
    },
    {
     "name": "stdout",
     "output_type": "stream",
     "text": [
      "2\n",
      "IOIOI\n"
     ]
    }
   ],
   "source": [
    "# 50점\n",
    "# 시간복잡도 O(NM)\n",
    "\n",
    "N = int(input())\n",
    "M = int(input())\n",
    "S = input()\n",
    "Pn = 'I' + 'OI'*N\n",
    "cnt = 0\n",
    "\n",
    "for i in range(len(S)):\n",
    "    if S[i:i+len(Pn)] == Pn:\n",
    "        cnt += 1\n",
    "\n",
    "print(cnt)\n",
    "print(Pn)"
   ]
  },
  {
   "cell_type": "markdown",
   "id": "ba77db66-98bf-43e1-945a-25eb42302130",
   "metadata": {},
   "source": [
    "---"
   ]
  },
  {
   "cell_type": "code",
   "execution_count": 1,
   "id": "40f03cc6-5ef7-43e2-82e0-aaea3de50838",
   "metadata": {},
   "outputs": [],
   "source": [
    "# Bronze V\n",
    "# 1271 엄청난 부자2"
   ]
  },
  {
   "cell_type": "code",
   "execution_count": 4,
   "id": "c80553ae-89c0-422a-92cb-e96ddeed9718",
   "metadata": {},
   "outputs": [
    {
     "name": "stdin",
     "output_type": "stream",
     "text": [
      " 1000 100\n"
     ]
    },
    {
     "name": "stdout",
     "output_type": "stream",
     "text": [
      "10\n",
      "0\n"
     ]
    }
   ],
   "source": [
    "n, m = map(int, input().split())\n",
    "print(n//m)\n",
    "print(n%m)"
   ]
  },
  {
   "cell_type": "code",
   "execution_count": null,
   "id": "762e6b03-9958-4d1d-aabe-9cf3dc9ecba4",
   "metadata": {},
   "outputs": [],
   "source": []
  }
 ],
 "metadata": {
  "kernelspec": {
   "display_name": "Python 3 (ipykernel)",
   "language": "python",
   "name": "python3"
  },
  "language_info": {
   "codemirror_mode": {
    "name": "ipython",
    "version": 3
   },
   "file_extension": ".py",
   "mimetype": "text/x-python",
   "name": "python",
   "nbconvert_exporter": "python",
   "pygments_lexer": "ipython3",
   "version": "3.8.12"
  }
 },
 "nbformat": 4,
 "nbformat_minor": 5
}
