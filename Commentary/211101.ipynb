{
 "cells": [
  {
   "cell_type": "markdown",
   "id": "f9d65d35-921a-4828-9011-2f242f7f9f3a",
   "metadata": {
    "tags": []
   },
   "source": [
    "# 2021.11.01"
   ]
  },
  {
   "cell_type": "code",
   "execution_count": 59,
   "id": "7f703d7f-2c8e-48d6-bcda-6e750c884a95",
   "metadata": {},
   "outputs": [
    {
     "name": "stdin",
     "output_type": "stream",
     "text": [
      " 3 10\n",
      " 10 11 13\n"
     ]
    },
    {
     "data": {
      "text/plain": [
       "[10, 11, 13]"
      ]
     },
     "execution_count": 59,
     "metadata": {},
     "output_type": "execute_result"
    }
   ],
   "source": [
    "# Siver V\n",
    "# 16435 스네이크 버드\n",
    "\n",
    "N, L =  list(map(int, input().split())) # 과일개수 N, 스네이크 버드 초기 길이 L\n",
    "h = list(map(int, input().split())) # 과일 높이\n",
    "h = sorted(h)\n",
    "\n",
    "for i in range(N):\n",
    "    if L >= h[i]:\n",
    "        L+=1\n",
    "print(L)"
   ]
  },
  {
   "cell_type": "code",
   "execution_count": 57,
   "id": "2e1abbc6-c12d-4ff0-82b9-86dbbc1e8e64",
   "metadata": {},
   "outputs": [
    {
     "name": "stdin",
     "output_type": "stream",
     "text": [
      " 3 10\n",
      " 10 11 13\n"
     ]
    },
    {
     "name": "stdout",
     "output_type": "stream",
     "text": [
      "12\n"
     ]
    }
   ],
   "source": [
    "N, L = map(int, input().split()) # 과일개수 N, 스네이크버드 초기길이 L\n",
    "H = list(map(int, input().split())) # 과일 높이\n",
    "\n",
    "H = sorted(H) #비교하기 위해 정렬\n",
    "\n",
    "for ii in range(N):\n",
    "    if L >= H[ii]:\n",
    "        L += 1\n",
    "print(L)"
   ]
  }
 ],
 "metadata": {
  "kernelspec": {
   "display_name": "Python 3 (ipykernel)",
   "language": "python",
   "name": "python3"
  },
  "language_info": {
   "codemirror_mode": {
    "name": "ipython",
    "version": 3
   },
   "file_extension": ".py",
   "mimetype": "text/x-python",
   "name": "python",
   "nbconvert_exporter": "python",
   "pygments_lexer": "ipython3",
   "version": "3.8.12"
  }
 },
 "nbformat": 4,
 "nbformat_minor": 5
}
