{
 "cells": [
  {
   "cell_type": "code",
   "execution_count": null,
   "id": "db40ef45-fea8-4eac-9a5b-986626a8bf22",
   "metadata": {},
   "outputs": [],
   "source": [
    "# 8958\n",
    "n = int(input())\n",
    "\n",
    "for i in range(n):\n",
    "    T = input()\n",
    "    c=0\n",
    "    sum=0\n",
    "\n",
    "    for i in list(T):\n",
    "        if i=='O':\n",
    "            c+=1\n",
    "            sum+=c\n",
    "        else:\n",
    "            c=0\n",
    "    print(sum)"
   ]
  },
  {
   "cell_type": "code",
   "execution_count": 60,
   "id": "88ee6199-c2e1-4cb2-aae9-42784bc00689",
   "metadata": {},
   "outputs": [
    {
     "name": "stdin",
     "output_type": "stream",
     "text": [
      " The last character is a blank \n"
     ]
    },
    {
     "name": "stdout",
     "output_type": "stream",
     "text": [
      "6\n"
     ]
    }
   ],
   "source": [
    "# 1152\n",
    "\n",
    "T = input()\n",
    "s = str.strip(T)\n",
    "lis = list(s)\n",
    "\n",
    "n=0\n",
    "for i in lis:\n",
    "    if i==' ':\n",
    "        n+=1\n",
    "print(n+1)"
   ]
  },
  {
   "cell_type": "code",
   "execution_count": 64,
   "id": "4293e37e-adf6-46fb-a62e-b89b6cef3fb3",
   "metadata": {},
   "outputs": [
    {
     "name": "stdin",
     "output_type": "stream",
     "text": [
      " The last character is a blank \n"
     ]
    },
    {
     "name": "stdout",
     "output_type": "stream",
     "text": [
      "6\n"
     ]
    }
   ],
   "source": [
    "t = input().split()\n",
    "print(len(t))"
   ]
  },
  {
   "cell_type": "code",
   "execution_count": null,
   "id": "5803cad5-6f7e-4d37-8127-528eeb989cb2",
   "metadata": {},
   "outputs": [],
   "source": []
  }
 ],
 "metadata": {
  "kernelspec": {
   "display_name": "Python 3",
   "language": "python",
   "name": "python3"
  },
  "language_info": {
   "codemirror_mode": {
    "name": "ipython",
    "version": 3
   },
   "file_extension": ".py",
   "mimetype": "text/x-python",
   "name": "python",
   "nbconvert_exporter": "python",
   "pygments_lexer": "ipython3",
   "version": "3.8.8"
  }
 },
 "nbformat": 4,
 "nbformat_minor": 5
}
