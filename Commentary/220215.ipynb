{
 "cells": [
  {
   "cell_type": "markdown",
   "id": "b6a12ab2-e396-4e69-87fc-b0f9cff04485",
   "metadata": {},
   "source": [
    "# 2022.02.15"
   ]
  },
  {
   "cell_type": "code",
   "execution_count": 2,
   "id": "15a2d5f5-1d66-41ba-91d3-0b190181ba84",
   "metadata": {},
   "outputs": [],
   "source": [
    "# Bronze IV\n",
    "# 2480 주사위 세개_정답"
   ]
  },
  {
   "cell_type": "code",
   "execution_count": 20,
   "id": "bbb88ed8-bbaf-47d8-942f-946154c11582",
   "metadata": {},
   "outputs": [
    {
     "name": "stdin",
     "output_type": "stream",
     "text": [
      " 6 2 5\n"
     ]
    },
    {
     "name": "stdout",
     "output_type": "stream",
     "text": [
      "600\n"
     ]
    }
   ],
   "source": [
    "a, b, c = map(int, input().split())\n",
    "li = [0 for i in range(7)]\n",
    "li[a] += 1\n",
    "li[b] += 1\n",
    "li[c] += 1\n",
    "\n",
    "if max(li) == 3:\n",
    "    print(10000+(li.index(max(li))*1000))\n",
    "elif max(li) == 2:\n",
    "    print(1000+(li.index(max(li))*100))\n",
    "else:\n",
    "    print(max(a,b,c)*100)"
   ]
  },
  {
   "cell_type": "markdown",
   "id": "5cadc96c-844d-43f8-9369-366a34ce3919",
   "metadata": {},
   "source": [
    "---"
   ]
  },
  {
   "cell_type": "code",
   "execution_count": 13,
   "id": "ba5ea5a3-078f-4f1d-8eb7-74e15349b673",
   "metadata": {},
   "outputs": [],
   "source": [
    "# Silver III\n",
    "# 1904 01타일_Q.순열, 조합 공부 필요!"
   ]
  },
  {
   "cell_type": "code",
   "execution_count": 13,
   "id": "1b6bd1b7-2ca2-49dd-af8f-1dbf7ece9632",
   "metadata": {},
   "outputs": [
    {
     "name": "stdin",
     "output_type": "stream",
     "text": [
      " 1\n"
     ]
    },
    {
     "name": "stdout",
     "output_type": "stream",
     "text": [
      "1\n",
      "[1, 2]\n"
     ]
    }
   ],
   "source": [
    "N = int(input())\n",
    "dp = [0] * (N+1) # N+1: N으로 하면 N이 1일 때 indexerror 발생\n",
    "dp[0] = 1\n",
    "dp[1] = 2\n",
    "for i in range(2, N):\n",
    "    dp[i] = (dp[i-2] + dp[i-1]) % 15746\n",
    "print(dp[N-1])\n",
    "print(dp)"
   ]
  },
  {
   "cell_type": "markdown",
   "id": "4e00c101-f00b-4b51-910b-3a6bb8608a23",
   "metadata": {},
   "source": [
    "----"
   ]
  },
  {
   "cell_type": "code",
   "execution_count": 21,
   "id": "4b7cec9a-8d80-4b28-a27f-e0dff5c50189",
   "metadata": {},
   "outputs": [],
   "source": [
    "# Bronze II\n",
    "# 5622 다이얼"
   ]
  },
  {
   "cell_type": "code",
   "execution_count": 34,
   "id": "f8e83a5c-c57f-41d5-a457-7aa14126f792",
   "metadata": {},
   "outputs": [
    {
     "name": "stdin",
     "output_type": "stream",
     "text": [
      " UNUCIC\n"
     ]
    },
    {
     "name": "stdout",
     "output_type": "stream",
     "text": [
      "8\n",
      "6\n",
      "8\n",
      "2\n",
      "4\n",
      "2\n",
      "36\n"
     ]
    }
   ],
   "source": [
    "word = list(input())\n",
    "dial = [[],[],['A','B','C'],['D','E','F'],['G','H','I'],['J','K','L'],['M','N','O'],['P','Q','R','S'],['T','U','V'],['W','X','Y','Z']]\n",
    "s = 0\n",
    "for i in word:\n",
    "    for j in dial:\n",
    "        if i in j:\n",
    "            s += dial.index(j)\n",
    "            \n",
    "print(s+len(word))"
   ]
  },
  {
   "cell_type": "markdown",
   "id": "3735dda1-77a5-431c-a30a-c0cd14d2ed98",
   "metadata": {},
   "source": [
    "---"
   ]
  },
  {
   "cell_type": "code",
   "execution_count": 1,
   "id": "c19a6a4e-e9e9-42f9-adc2-60bf07c3daff",
   "metadata": {},
   "outputs": [],
   "source": [
    "# Bronze III\n",
    "# 4153 직각삼각형"
   ]
  },
  {
   "cell_type": "code",
   "execution_count": null,
   "id": "044c4b76-aff5-43d7-9704-dacdaa8c98e1",
   "metadata": {},
   "outputs": [],
   "source": [
    "while True:\n",
    "    li = list(map(int, input().split()))\n",
    "    if li[0]==li[1]==li[2]==0:\n",
    "        break\n",
    "    li = sorted(li)\n",
    "    if li[0]**2 + li[1]**2 == li[2]**2:\n",
    "        print('right')\n",
    "    else:\n",
    "        print('wrong')"
   ]
  },
  {
   "cell_type": "markdown",
   "id": "f811d6b4-ec4f-4c17-8d3a-2ff108d4c433",
   "metadata": {},
   "source": [
    "---"
   ]
  },
  {
   "cell_type": "code",
   "execution_count": 17,
   "id": "628d2666-cecc-4c99-af33-e9c2589f646d",
   "metadata": {},
   "outputs": [],
   "source": [
    "# Bronze II\n",
    "# 2292 벌집_정답"
   ]
  },
  {
   "cell_type": "code",
   "execution_count": 78,
   "id": "04b7c986-b257-4ed7-824e-aa9bea27c20a",
   "metadata": {},
   "outputs": [
    {
     "name": "stdin",
     "output_type": "stream",
     "text": [
      " 13\n"
     ]
    },
    {
     "name": "stdout",
     "output_type": "stream",
     "text": [
      "3\n",
      "[1, 2, 8, 20]\n"
     ]
    }
   ],
   "source": [
    "N = int(input())\n",
    "cnt = 1\n",
    "an = [1, 2]\n",
    "while an[-1] <= N:\n",
    "    an.append(an[-1] + cnt*6)\n",
    "    cnt += 1\n",
    "print(an.index(an[-1]))"
   ]
  },
  {
   "cell_type": "markdown",
   "id": "7fe253f0-378c-4ce2-9959-4604a4762746",
   "metadata": {},
   "source": [
    "----"
   ]
  },
  {
   "cell_type": "code",
   "execution_count": 84,
   "id": "366af4a3-8988-49b7-9d70-2d6bf62d1e7d",
   "metadata": {},
   "outputs": [],
   "source": [
    "# Siver V\n",
    "# 10989 수 정렬하기 3"
   ]
  },
  {
   "cell_type": "code",
   "execution_count": 123,
   "id": "0cf76f4a-7178-4453-9da3-fa98a233078f",
   "metadata": {},
   "outputs": [
    {
     "name": "stdin",
     "output_type": "stream",
     "text": [
      " 10\n",
      " 5\n",
      " 2\n",
      " 3\n",
      " 1\n",
      " 4\n",
      " 2\n",
      " 3\n",
      " 5\n",
      " 1\n",
      " 7\n"
     ]
    },
    {
     "name": "stdout",
     "output_type": "stream",
     "text": [
      "5\n",
      "2\n",
      "3\n",
      "1\n",
      "4\n",
      "2\n",
      "3\n",
      "5\n",
      "1\n",
      "7\n"
     ]
    }
   ],
   "source": [
    "N = int(input())\n",
    "li = []\n",
    "for i in range(N):\n",
    "    n = int(input())\n",
    "    li.append(n)\n",
    "for i in li:\n",
    "    print(i)"
   ]
  },
  {
   "cell_type": "code",
   "execution_count": null,
   "id": "8e79a9e2-4012-4112-957f-482c19b444a7",
   "metadata": {},
   "outputs": [],
   "source": []
  }
 ],
 "metadata": {
  "kernelspec": {
   "display_name": "Python 3 (ipykernel)",
   "language": "python",
   "name": "python3"
  },
  "language_info": {
   "codemirror_mode": {
    "name": "ipython",
    "version": 3
   },
   "file_extension": ".py",
   "mimetype": "text/x-python",
   "name": "python",
   "nbconvert_exporter": "python",
   "pygments_lexer": "ipython3",
   "version": "3.8.12"
  }
 },
 "nbformat": 4,
 "nbformat_minor": 5
}
