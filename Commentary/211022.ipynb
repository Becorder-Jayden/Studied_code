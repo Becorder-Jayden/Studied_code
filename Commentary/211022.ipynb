{
 "cells": [
  {
   "cell_type": "markdown",
   "id": "05e68cba-af0b-44dc-9eee-a31506940156",
   "metadata": {},
   "source": [
    "## 2021.10.22"
   ]
  },
  {
   "cell_type": "markdown",
   "id": "0df5e4ee-7487-4a12-9970-54ee64334b3b",
   "metadata": {},
   "source": [
    "---"
   ]
  },
  {
   "cell_type": "code",
   "execution_count": 17,
   "id": "6dcc2778-b609-40c7-b2af-de6c9a69f604",
   "metadata": {},
   "outputs": [
    {
     "name": "stdin",
     "output_type": "stream",
     "text": [
      " 5\n",
      " 55 185\n",
      " 58 183\n",
      " 88 186\n",
      " 60 175\n",
      " 46 155\n"
     ]
    },
    {
     "name": "stdout",
     "output_type": "stream",
     "text": [
      "2 2 1 2 5\n"
     ]
    }
   ],
   "source": [
    "## Silver V\n",
    "# 7568 덩치_solution by help from 예진\n",
    "\n",
    "a = int(input())\n",
    "\n",
    "wh_list = [list(map(int, input().split())) for i in range(a)]\n",
    "rank_list = []\n",
    "\n",
    "for i in range(len(wh_list)):\n",
    "    rank = 1\n",
    "    \n",
    "    for j in range(len(wh_list)): # i번째 요소와 나머지(j)를 비교하는 for 구문\n",
    "        if (wh_list[i][0] < wh_list[j][0]) and (wh_list[i][1] < wh_list[j][1]):\n",
    "            rank += 1\n",
    "            \n",
    "    rank_list.append(rank)\n",
    "\n",
    "sol = \" \".join(map(str,rank_list))\n",
    "print(sol)\n",
    "    \n",
    "    \n",
    "# Q. for 구문에서 'for i in list' vs 'for i in range(len(list))'의 차이점?\n",
    "# A. '~ in list'의 경우 i가 0번째 요소 값 부터 마지막 요소에 해당 : str\n",
    "#    '~ range(len(list))'의 경우 i는 0부터 마지막에 해당하는 개수에 해당 : int\n",
    "\n",
    "# Q. \" \".join(rank_list)에서 오류가 나는 이유?\n",
    "# A. join은 리스트 안의 문자열을 합치는 함수다. int를 문자열처럼 합칠 수 없다 \n",
    "# ''.join(map(str, list))의 형태로는 사용 가능하다 "
   ]
  },
  {
   "cell_type": "code",
   "execution_count": 8,
   "id": "45442386-d0fa-4555-b054-185cad3d56b0",
   "metadata": {},
   "outputs": [
    {
     "name": "stdin",
     "output_type": "stream",
     "text": [
      " 2\n",
      " 5 2\n",
      " 4 5\n"
     ]
    },
    {
     "name": "stdout",
     "output_type": "stream",
     "text": [
      "1 1 "
     ]
    }
   ],
   "source": [
    "# 예진 Joe의 풀이\n",
    "# sliver Ⅴ \n",
    "# 7568\n",
    "\n",
    "N = int(input())\n",
    "\n",
    "wh_list = [list(map(int, input().split())) for i in range(N)]\n",
    "rank_list = []\n",
    "\n",
    "\n",
    "for i in range(len(wh_list)):\n",
    "    rank = 1\n",
    "    \n",
    "    for q in range(len(wh_list)):\n",
    "        if (wh_list[i][0] < wh_list[q][0]) and (wh_list[i][1] < wh_list[q][1]):  # 다른 사람과 몸무게 and 키 비교\n",
    "            rank += 1\n",
    "    \n",
    "    rank_list.append(rank)\n",
    "    \n",
    "    \n",
    "for r in range(len(rank_list)):\n",
    "    print(rank_list[r], end=' ')"
   ]
  },
  {
   "cell_type": "code",
   "execution_count": null,
   "id": "e58b928e-a82f-4a87-a165-2a7c2bca2a1d",
   "metadata": {},
   "outputs": [],
   "source": []
  }
 ],
 "metadata": {
  "kernelspec": {
   "display_name": "Python 3",
   "language": "python",
   "name": "python3"
  },
  "language_info": {
   "codemirror_mode": {
    "name": "ipython",
    "version": 3
   },
   "file_extension": ".py",
   "mimetype": "text/x-python",
   "name": "python",
   "nbconvert_exporter": "python",
   "pygments_lexer": "ipython3",
   "version": "3.8.8"
  }
 },
 "nbformat": 4,
 "nbformat_minor": 5
}
