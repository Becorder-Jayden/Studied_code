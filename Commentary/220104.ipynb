{
 "cells": [
  {
   "cell_type": "code",
   "execution_count": 2,
   "id": "5c112f92-4955-47d7-bf73-6af3894882c9",
   "metadata": {},
   "outputs": [],
   "source": [
    "# Silver II\n",
    "# 1012 유기농 배추"
   ]
  },
  {
   "cell_type": "code",
   "execution_count": 30,
   "id": "1a684c38-d9dd-410a-a617-80c8c545890f",
   "metadata": {},
   "outputs": [
    {
     "name": "stdin",
     "output_type": "stream",
     "text": [
      " 1\n",
      " 5 3 6\n",
      " 0 2\n",
      " 1 2\n",
      " 2 2\n",
      " 3 2\n",
      " 4 2\n",
      " 4 0\n"
     ]
    },
    {
     "name": "stdout",
     "output_type": "stream",
     "text": [
      "6\n"
     ]
    }
   ],
   "source": [
    "# 개인 풀이 시도\n",
    "def dfs(x, y):\n",
    "    dx = [0,0,1,-1]\n",
    "    dy = [1,-1,0,0]\n",
    "    \n",
    "    visited[y][x] = True\n",
    "    \n",
    "    for i in range(4):\n",
    "        nx = x+dx[i]\n",
    "        ny = y+dy[i]\n",
    "        if (0<=nx<M) and (0<=ny<N):\n",
    "            if (graph[ny][nx]==1) and (visited[ny][nx]==False):\n",
    "                dfs(nx, ny)\n",
    "\n",
    "                    \n",
    "T = int(input())\n",
    "\n",
    "for i in range(T):\n",
    "    M, N, K = map(int, input().split()) # M:가로, N:세로, K:개수\n",
    "    graph = [[0]*M for i in range(N)]\n",
    "    visited = [[False]*M for i in range(N)]\n",
    "    cnt = 0\n",
    "    \n",
    "    for j in range(K):\n",
    "        X, Y = map(int, input().split())\n",
    "        graph[Y][X] = 1\n",
    "        \n",
    "    for a in range(M):\n",
    "        for b in range(N):\n",
    "            if graph[b][a] == 1:\n",
    "                dfs(a,b)\n",
    "                cnt += 1\n",
    "    \n",
    "    print(cnt)"
   ]
  },
  {
   "cell_type": "code",
   "execution_count": 3,
   "id": "c4e35f1b-6c44-4d6b-af5b-0187c7a96614",
   "metadata": {},
   "outputs": [
    {
     "name": "stdin",
     "output_type": "stream",
     "text": [
      " 2\n",
      " 10 8 17\n",
      " 0 0\n",
      " 1 0\n",
      " 1 1\n",
      " 4 2\n",
      " 4 3\n",
      " 4 5\n",
      " 2 4\n",
      " 3 4\n",
      " 7 4\n",
      " 8 4\n",
      " 9 4\n",
      " 7 5\n",
      " 8 5\n",
      " 9 5\n",
      " 7 6\n",
      " 8 6\n",
      " 9 6\n"
     ]
    },
    {
     "name": "stdout",
     "output_type": "stream",
     "text": [
      "5\n",
      "[[-1, -1, 0, 0, 0, 0, 0, 0, 0, 0], [0, -1, 0, 0, 0, 0, 0, 0, 0, 0], [0, 0, 0, 0, -1, 0, 0, 0, 0, 0], [0, 0, 0, 0, -1, 0, 0, 0, 0, 0], [0, 0, -1, -1, 0, 0, 0, -1, -1, -1], [0, 0, 0, 0, 1, 0, 0, -1, -1, -1], [0, 0, 0, 0, 0, 0, 0, -1, -1, -1], [0, 0, 0, 0, 0, 0, 0, 0, 0, 0]]\n"
     ]
    },
    {
     "name": "stdin",
     "output_type": "stream",
     "text": [
      " 10 10 1\n",
      " 5 5\n"
     ]
    },
    {
     "name": "stdout",
     "output_type": "stream",
     "text": [
      "1\n",
      "[[0, 0, 0, 0, 0, 0, 0, 0, 0, 0], [0, 0, 0, 0, 0, 0, 0, 0, 0, 0], [0, 0, 0, 0, 0, 0, 0, 0, 0, 0], [0, 0, 0, 0, 0, 0, 0, 0, 0, 0], [0, 0, 0, 0, 0, 0, 0, 0, 0, 0], [0, 0, 0, 0, 0, 1, 0, 0, 0, 0], [0, 0, 0, 0, 0, 0, 0, 0, 0, 0], [0, 0, 0, 0, 0, 0, 0, 0, 0, 0], [0, 0, 0, 0, 0, 0, 0, 0, 0, 0], [0, 0, 0, 0, 0, 0, 0, 0, 0, 0]]\n"
     ]
    }
   ],
   "source": [
    "# 풀이 정리 완성본 \n",
    "import sys\n",
    "sys.setrecursionlimit(10000)\n",
    "\n",
    "### 2\n",
    "# dfs 정의\n",
    "def dfs(x, y):\n",
    "    # 상하좌우 확인을 위해 dx, dy 생성\n",
    "    dx = [0,0,-1,1]\n",
    "    dy = [1,-1,0,0]\n",
    "    \n",
    "    # 네 방향 탐색\n",
    "    for i in range(4):\n",
    "        nx = x + dx[i]\n",
    "        ny = y + dy[i]\n",
    "        if (0 <= nx < M) and (0 <= ny < N):  # nx:ny ↔ M:N 범위 참고\n",
    "            if graph[ny][nx] == 1:\n",
    "                graph[ny][nx] = -1  # 배추가 인접할 때 체커\n",
    "                dfs(nx, ny)\n",
    "\n",
    "### 1                    \n",
    "T = int(input())\n",
    "\n",
    "for i in range(T):\n",
    "    M, N, K = map(int, input().split())  # M:가로, N:세로, K:개수\n",
    "    graph = [[0]*M for i in range(N)]  # visited 체커 고민?\n",
    "    cnt = 0\n",
    "    \n",
    "    # 배추 위치에 1 표시\n",
    "    for j in range(K):\n",
    "        X, Y = map(int, input().split())\n",
    "        graph[Y][X] = 1\n",
    "\n",
    "### 3        \n",
    "    # dfs 활용해서 배추 그룹 수 세기\n",
    "    for x in range(M):\n",
    "        for y in range(N):\n",
    "            if graph[y][x] == 1:\n",
    "                dfs(x, y)\n",
    "                cnt += 1\n",
    "    \n",
    "    # 정답을 위한 출력\n",
    "    print(cnt)"
   ]
  },
  {
   "cell_type": "markdown",
   "id": "904c42df-3d60-402f-9a5e-ba689557419e",
   "metadata": {},
   "source": [
    "---"
   ]
  },
  {
   "cell_type": "code",
   "execution_count": 1,
   "id": "98057b4d-7098-4cfc-8bc5-a233b6e21b79",
   "metadata": {},
   "outputs": [],
   "source": [
    "# 저녁에 다시 풀이"
   ]
  },
  {
   "cell_type": "code",
   "execution_count": 11,
   "id": "02a9ee8d-0e8c-411c-80bb-f51e59dedce3",
   "metadata": {},
   "outputs": [
    {
     "name": "stdin",
     "output_type": "stream",
     "text": [
      " 1\n",
      " 5 3 6\n",
      " 0 2\n",
      " 1 2\n",
      " 2 2\n",
      " 3 2\n",
      " 4 2\n",
      " 4 0\n"
     ]
    },
    {
     "name": "stdout",
     "output_type": "stream",
     "text": [
      "[[0, 0, 0, 0, 1], [0, 0, 0, 0, 0], [-1, -1, -1, -1, -1]]\n",
      "2\n"
     ]
    }
   ],
   "source": [
    "import sys \n",
    "\n",
    "def dfs(x, y):\n",
    "    dx = [0,0,-1,1]\n",
    "    dy = [1,-1,0,0]\n",
    "    for i in range(4):\n",
    "        nx = x + dx[i]\n",
    "        ny = y + dy[i]\n",
    "        if (0<=nx<M) and (0<=ny<N):\n",
    "            if graph[ny][nx] == 1:\n",
    "                graph[ny][nx] = -1\n",
    "                dfs(nx, ny)\n",
    "                \n",
    "                \n",
    "T = int(sys.stdin.readline())\n",
    "for i in range(T):\n",
    "    M, N, K = map(int, sys.stdin.readline().split())\n",
    "    graph = [[0]*M for i in range(N)]\n",
    "    cnt = 0\n",
    "    \n",
    "    for j in range(K):\n",
    "        X, Y = map(int, sys.stdin.readline().split())\n",
    "        graph[Y][X] = 1\n",
    "        \n",
    "    for x in range(M):\n",
    "        for y in range(N):\n",
    "            if graph[y][x] == 1:                \n",
    "                dfs(x, y)\n",
    "                cnt += 1\n",
    "    \n",
    "    print(cnt)"
   ]
  },
  {
   "cell_type": "code",
   "execution_count": 12,
   "id": "6aad09cd-b286-4717-8031-d9ca0f918634",
   "metadata": {},
   "outputs": [],
   "source": [
    "# 대근이형 코드\n",
    "\n",
    "T = int(input())\n",
    "for i in range(T):\n",
    "    M, N, K = map(int, input().split(' '))\n",
    "    cab = []\n",
    "    \n",
    "    for _ in range(K):\n",
    "        cab.append(input())\n",
    "    \n",
    "    cab = [[int(x.split(' ')[0]), int(x.split(' ')[1])] for x in cab]\n",
    "    \n",
    "    graph = {idx:[] for idx in range(K)}\n",
    "        \n",
    "    i_cab = 0\n",
    "    for x1, y1 in cab:\n",
    "        j_cab = 0\n",
    "        for x2, y2 in cab:\n",
    "            if (x2-x1)**2 + (y2-y1)**2 <= 1:\n",
    "                graph[i_cab].append(j_cab)\n",
    "                \n",
    "            j_cab += 1\n",
    "        \n",
    "        i_cab += 1\n",
    "        \n",
    "    for k in graph.keys():\n",
    "        graph[k].remove(k)\n",
    "        \n",
    "    visited = [False for _ in range(K)]\n",
    "        \n",
    "    def dfs(graph, v):\n",
    "        visited[v] = True\n",
    "        \n",
    "        for w in graph[v]:\n",
    "            if not visited[w]:\n",
    "                dfs(graph, w)\n",
    "                \n",
    "    worm = 0\n",
    "    for v in range(K):\n",
    "        if not visited[v]:\n",
    "            worm += 1\n",
    "            dfs(graph, v)\n",
    "    \n",
    "    print(worm)"
   ]
  }
 ],
 "metadata": {
  "kernelspec": {
   "display_name": "Python 3 (ipykernel)",
   "language": "python",
   "name": "python3"
  },
  "language_info": {
   "codemirror_mode": {
    "name": "ipython",
    "version": 3
   },
   "file_extension": ".py",
   "mimetype": "text/x-python",
   "name": "python",
   "nbconvert_exporter": "python",
   "pygments_lexer": "ipython3",
   "version": "3.8.12"
  }
 },
 "nbformat": 4,
 "nbformat_minor": 5
}
