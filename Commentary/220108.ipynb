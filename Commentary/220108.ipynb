{
 "cells": [
  {
   "cell_type": "markdown",
   "id": "ae932fc8-1eb2-4d9c-87c9-8a4d5bf73fbe",
   "metadata": {},
   "source": [
    "# 2022.01.08"
   ]
  },
  {
   "cell_type": "code",
   "execution_count": null,
   "id": "8ff1718f-ef8b-4ae5-b757-7708692fcaa4",
   "metadata": {},
   "outputs": [],
   "source": [
    "# Silver II\n",
    "# 1012 유기농 배추 (BFS 풀이)"
   ]
  },
  {
   "cell_type": "code",
   "execution_count": 36,
   "id": "c55c8c1e-abeb-4cc7-a35f-668b50e6fd4e",
   "metadata": {},
   "outputs": [
    {
     "name": "stdin",
     "output_type": "stream",
     "text": [
      " 2\n",
      " 10 8 17\n",
      " 0 0\n",
      " 1 0\n",
      " 1 1\n",
      " 4 2\n",
      " 4 3\n",
      " 4 5\n",
      " 2 4\n",
      " 3 4\n",
      " 7 4\n",
      " 8 4\n",
      " 9 4\n",
      " 7 5\n",
      " 8 5\n",
      " 9 5\n",
      " 7 6\n",
      " 8 6\n",
      " 9 6\n"
     ]
    },
    {
     "name": "stdout",
     "output_type": "stream",
     "text": [
      "[[1, 1, 0, 0, 0, 0, 0, 0, 0, 0], [0, 1, 0, 0, 0, 0, 0, 0, 0, 0], [0, 0, 0, 0, 1, 0, 0, 0, 0, 0], [0, 0, 0, 0, 1, 0, 0, 0, 0, 0], [0, 0, 1, 1, 0, 0, 0, 1, 1, 1], [0, 0, 0, 0, 1, 0, 0, 1, 1, 1], [0, 0, 0, 0, 0, 0, 0, 1, 1, 1], [0, 0, 0, 0, 0, 0, 0, 0, 0, 0]]\n",
      "[[True, True, False, False, False, False, False, False, False, False], [False, True, False, False, False, False, False, False, False, False], [False, False, False, False, True, False, False, False, False, False], [False, False, False, False, True, False, False, False, False, False], [False, False, True, True, False, False, False, True, True, True], [False, False, False, False, True, False, False, True, True, True], [False, False, False, False, False, False, False, True, True, True], [False, False, False, False, False, False, False, False, False, False]]\n",
      "5\n"
     ]
    },
    {
     "name": "stdin",
     "output_type": "stream",
     "text": [
      " 10 10 1\n",
      " 5 5\n"
     ]
    },
    {
     "name": "stdout",
     "output_type": "stream",
     "text": [
      "[[0, 0, 0, 0, 0, 0, 0, 0, 0, 0], [0, 0, 0, 0, 0, 0, 0, 0, 0, 0], [0, 0, 0, 0, 0, 0, 0, 0, 0, 0], [0, 0, 0, 0, 0, 0, 0, 0, 0, 0], [0, 0, 0, 0, 0, 0, 0, 0, 0, 0], [0, 0, 0, 0, 0, 1, 0, 0, 0, 0], [0, 0, 0, 0, 0, 0, 0, 0, 0, 0], [0, 0, 0, 0, 0, 0, 0, 0, 0, 0], [0, 0, 0, 0, 0, 0, 0, 0, 0, 0], [0, 0, 0, 0, 0, 0, 0, 0, 0, 0]]\n",
      "[[False, False, False, False, False, False, False, False, False, False], [False, False, False, False, False, False, False, False, False, False], [False, False, False, False, False, False, False, False, False, False], [False, False, False, False, False, False, False, False, False, False], [False, False, False, False, False, False, False, False, False, False], [False, False, False, False, False, True, False, False, False, False], [False, False, False, False, False, False, False, False, False, False], [False, False, False, False, False, False, False, False, False, False], [False, False, False, False, False, False, False, False, False, False], [False, False, False, False, False, False, False, False, False, False]]\n",
      "1\n"
     ]
    }
   ],
   "source": [
    "from collections import deque\n",
    "\n",
    "def bfs(x, y):\n",
    "    queue = deque()\n",
    "    dx = [0,0,-1,1]\n",
    "    dy = [1,-1,0,0]\n",
    "    \n",
    "    if graph[y][x] == 1:\n",
    "        queue.append((x, y))\n",
    "        visited[y][x] = True\n",
    "        cnt = 1\n",
    "            \n",
    "        while queue:\n",
    "            x, y = queue.popleft()\n",
    "            \n",
    "            for i in range(4):\n",
    "                nx = x+dx[i]\n",
    "                ny = y+dy[i]\n",
    "                if 0<=nx<M and 0<=ny<N:\n",
    "                    if visited[ny][nx] == False and graph[ny][nx] == 1:\n",
    "                        visited[ny][nx] = True\n",
    "                        queue.append((nx,ny))\n",
    "                        cnt += 1\n",
    "                        \n",
    "    return cnt\n",
    "\n",
    "\n",
    "T = int(input())\n",
    "\n",
    "for i in range(T):\n",
    "    M, N, K = map(int, input().split())\n",
    "    graph = [[0]*M for i in range(N)]\n",
    "    visited = [[False]*M for i in range(N)]\n",
    "    li = []\n",
    "    \n",
    "    for i in range(K):\n",
    "        a, b = map(int, input().split())\n",
    "        graph[b][a] = 1\n",
    "\n",
    "    for i in range(M):\n",
    "        for j in range(N):\n",
    "            if graph[j][i] == 1 and visited[j][i] == False:\n",
    "                li.append(bfs(i, j))\n",
    "\n",
    "\n",
    "    print(len(li))"
   ]
  },
  {
   "cell_type": "code",
   "execution_count": null,
   "id": "de6d8d38-1c10-4376-bf7c-234eadcfc82c",
   "metadata": {},
   "outputs": [],
   "source": []
  }
 ],
 "metadata": {
  "kernelspec": {
   "display_name": "Python 3 (ipykernel)",
   "language": "python",
   "name": "python3"
  },
  "language_info": {
   "codemirror_mode": {
    "name": "ipython",
    "version": 3
   },
   "file_extension": ".py",
   "mimetype": "text/x-python",
   "name": "python",
   "nbconvert_exporter": "python",
   "pygments_lexer": "ipython3",
   "version": "3.8.12"
  }
 },
 "nbformat": 4,
 "nbformat_minor": 5
}
