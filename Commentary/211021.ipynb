{
 "cells": [
  {
   "cell_type": "code",
   "execution_count": 6,
   "id": "9aff15df-228e-42ee-94bc-ee404381d524",
   "metadata": {},
   "outputs": [
    {
     "name": "stdin",
     "output_type": "stream",
     "text": [
      " 24 18\n"
     ]
    },
    {
     "name": "stdout",
     "output_type": "stream",
     "text": [
      "[1, 2, 3, 4, 6, 8, 12, 24, 1, 2, 3, 6, 9, 18]\n"
     ]
    }
   ],
   "source": [
    "# Silver V\n",
    "\n",
    "# 2609 최대공약수와 최소공배수\n",
    "\n",
    "lis = list(map(int, input().split()))\n",
    "lis2 = []\n",
    "\n",
    "for i in lis:\n",
    "    for j in range(i+1):\n",
    "        try:\n",
    "            if i/j - i//j ==0:\n",
    "                lis2.append(j)\n",
    "        except:\n",
    "            pass\n",
    "    print(lis2)\n",
    "    lis2 = []\n",
    "    \n",
    "# for 구문으로 만들어진 변수를 다른 변수로 저장하고 싶은데 방법이?"
   ]
  },
  {
   "cell_type": "code",
   "execution_count": 18,
   "id": "68b4c735-4c50-4979-a0fb-b03897621657",
   "metadata": {},
   "outputs": [
    {
     "name": "stdin",
     "output_type": "stream",
     "text": [
      " 24 18\n"
     ]
    },
    {
     "name": "stdout",
     "output_type": "stream",
     "text": [
      "num_24:  [1, 2, 3, 4, 6, 8, 12, 24]\n",
      "num_18:  [1, 2, 3, 6, 9, 18]\n"
     ]
    }
   ],
   "source": [
    "# 조현아, 임원화 서울 기술코치님 도움\n",
    "\n",
    "lis = list(map(int, input().split()))\n",
    "\n",
    "for i in lis:\n",
    "    a = globals()['num_{}'.format(i)] = list()\n",
    "    for j in range(i+1):\n",
    "        try:\n",
    "            if i/j - i//j ==0:\n",
    "                a.append(j)\n",
    "        except:\n",
    "            pass\n",
    "\n",
    "    print('num_{}: '.format(i), a)"
   ]
  },
  {
   "cell_type": "code",
   "execution_count": 34,
   "id": "a8261200-4553-4bf9-9243-151d6e2d43db",
   "metadata": {
    "tags": []
   },
   "outputs": [
    {
     "name": "stdin",
     "output_type": "stream",
     "text": [
      " 24 18\n"
     ]
    },
    {
     "name": "stdout",
     "output_type": "stream",
     "text": [
      "6\n",
      "72\n"
     ]
    }
   ],
   "source": [
    "# 인터넷 다른 풀이 : def을 통한 gcd, lcm 함수 정의 풀이\n",
    "# 유클리드 호제법 사용 \n",
    "\n",
    "a,b = map(int,input().split())\n",
    "\n",
    "def gcd(a, b) :\n",
    "    if b==0:\n",
    "        return a\n",
    "    else :\n",
    "        return gcd(b,a%b)\n",
    "\n",
    "def lcm(a, b) :\n",
    "    g = gcd(a,b)\n",
    "    return int(g*(a/g)*(b/g))\n",
    "\n",
    "print(gcd(a,b))\n",
    "print(lcm(a,b))"
   ]
  },
  {
   "cell_type": "code",
   "execution_count": null,
   "id": "97df4e3c-0b76-4ab0-a747-a894bb154630",
   "metadata": {},
   "outputs": [],
   "source": [
    "# 인터넷 상 다른 풀이 : math 모듈 사용_python 3.9 버전 이상 사용_현재 PC : Python 3.8 ver\n",
    "\n",
    "from math import gcd\n",
    "\n",
    "a, b = map(int, input().split())\n",
    "\n",
    "print(math.gcd(a, b))\n",
    "print(math.lcm(a, b))"
   ]
  },
  {
   "cell_type": "markdown",
   "id": "3c431e06-5687-47cc-b37f-cda42964a19f",
   "metadata": {},
   "source": [
    "---"
   ]
  },
  {
   "cell_type": "code",
   "execution_count": 87,
   "id": "78f5efe3-a081-417e-b8f3-f73531c25161",
   "metadata": {},
   "outputs": [
    {
     "name": "stdin",
     "output_type": "stream",
     "text": [
      " 999998999\n"
     ]
    },
    {
     "name": "stdout",
     "output_type": "stream",
     "text": [
      "899999999\n"
     ]
    }
   ],
   "source": [
    "# Silver V\n",
    "# 1427 소트인사이드\n",
    "\n",
    "a = input()\n",
    "\n",
    "lis=[]\n",
    "lis2=[]\n",
    "\n",
    "lis.append(a)\n",
    "for i in lis:\n",
    "    for j in i:\n",
    "        lis2.append(j)\n",
    "\n",
    "lis2 = sorted(lis2)\n",
    "b = \"\".join(lis2) \n",
    "'''\n",
    "join 함수 사용 (\"\"안에 추가적으로 기입 가능) \n",
    "ex) b = \",\".join(lis2) 입력시 8,9,9,9,9,9,9와 같은 값을 얻을 수 있다\n",
    "'''\n",
    "print(b)\n",
    "\n",
    "# 내림차순으로 변경 필요"
   ]
  },
  {
   "cell_type": "code",
   "execution_count": 90,
   "id": "9cf5960f-426d-446f-884e-83efd9642d58",
   "metadata": {},
   "outputs": [
    {
     "name": "stdin",
     "output_type": "stream",
     "text": [
      " 999998999\n"
     ]
    },
    {
     "name": "stdout",
     "output_type": "stream",
     "text": [
      "999999998\n"
     ]
    }
   ],
   "source": [
    "# Silver V\n",
    "# 1427 소트인사이드\n",
    "\n",
    "a = input()\n",
    "\n",
    "lis=[]\n",
    "lis2=[]\n",
    "\n",
    "lis.append(a)\n",
    "for i in lis:\n",
    "    for j in i:\n",
    "        lis2.append(j)\n",
    "\n",
    "lis2.sort(reverse=True)\n",
    "b = \"\".join(lis2) \n",
    "print(b)"
   ]
  }
 ],
 "metadata": {
  "kernelspec": {
   "display_name": "Python 3",
   "language": "python",
   "name": "python3"
  },
  "language_info": {
   "codemirror_mode": {
    "name": "ipython",
    "version": 3
   },
   "file_extension": ".py",
   "mimetype": "text/x-python",
   "name": "python",
   "nbconvert_exporter": "python",
   "pygments_lexer": "ipython3",
   "version": "3.8.8"
  }
 },
 "nbformat": 4,
 "nbformat_minor": 5
}
