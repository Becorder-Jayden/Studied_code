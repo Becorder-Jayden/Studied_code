{
 "cells": [
  {
   "cell_type": "markdown",
   "id": "b8202989-cd06-415e-98dc-437d7a9e7858",
   "metadata": {},
   "source": [
    "# 2021.12.20"
   ]
  },
  {
   "cell_type": "code",
   "execution_count": 1,
   "id": "0582ceca-4786-45ef-ac65-ffd8845a7c81",
   "metadata": {},
   "outputs": [],
   "source": [
    "# Silver V\n",
    "# 7568 덩치"
   ]
  },
  {
   "cell_type": "code",
   "execution_count": 12,
   "id": "8021c7e4-3cfa-469e-8974-c0ae6654b6f1",
   "metadata": {},
   "outputs": [
    {
     "name": "stdin",
     "output_type": "stream",
     "text": [
      " 5\n",
      " 55 185\n",
      " 58 183\n",
      " 88 186\n",
      " 60 175\n",
      " 46 155\n"
     ]
    },
    {
     "name": "stdout",
     "output_type": "stream",
     "text": [
      "2 2 1 2 5 "
     ]
    }
   ],
   "source": [
    "N = int(input())\n",
    "li = []\n",
    "\n",
    "for i in range(N):\n",
    "    w, h = map(int, input().split())\n",
    "    li.append([w, h])\n",
    "    \n",
    "for i in range(N):\n",
    "    rank = 1\n",
    "    for j in range(N):\n",
    "        if (li[i][0] < li[j][0]) and (li[i][1]<li[j][1]):\n",
    "            rank += 1 \n",
    "    print(rank, end = ' ')"
   ]
  },
  {
   "cell_type": "markdown",
   "id": "09a9f150-8e43-4cc7-b8a3-6fe89e4d2dc0",
   "metadata": {},
   "source": [
    "---"
   ]
  },
  {
   "cell_type": "code",
   "execution_count": null,
   "id": "cce2f728-402d-4c38-afa1-f3fda8a5fed2",
   "metadata": {},
   "outputs": [],
   "source": [
    "# 네이버 코테 문제\n",
    "# 룩나이트를 안겹치게 놓을 수 있도록\n",
    "# 체스판에 망가진 블럭\n",
    "\n",
    "# 건물이 1부터 N개\n",
    "# 지하보도로 연결\n",
    "# 1-2-3 4-5"
   ]
  },
  {
   "cell_type": "markdown",
   "id": "19dc93d2-971b-4136-8219-22050ff3abef",
   "metadata": {},
   "source": [
    "---"
   ]
  },
  {
   "cell_type": "code",
   "execution_count": 5,
   "id": "41e349db-24bd-41b0-82bd-bc7cf1bf1cdc",
   "metadata": {},
   "outputs": [],
   "source": [
    "# Siver V\n",
    "# 11650 좌표 정렬하기"
   ]
  },
  {
   "cell_type": "code",
   "execution_count": 11,
   "id": "d27f937b-9118-40b0-b013-345fb03695af",
   "metadata": {},
   "outputs": [
    {
     "name": "stdin",
     "output_type": "stream",
     "text": [
      " 5\n",
      " 3 4\n",
      " 1 1\n",
      " 1 -1\n",
      " 2 2 \n",
      " 3 3\n"
     ]
    },
    {
     "name": "stdout",
     "output_type": "stream",
     "text": [
      "1 -1\n",
      "1 1\n",
      "2 2\n",
      "3 3\n",
      "3 4\n"
     ]
    }
   ],
   "source": [
    "N = int(input())\n",
    "li = []\n",
    "\n",
    "for i in range(N):\n",
    "    x, y = map(int, input().split())\n",
    "    li.append([x, y])\n",
    "li = sorted(li, key=lambda a : (a[0], a[1]))\n",
    "\n",
    "for i, j in li:\n",
    "    print(i, j)"
   ]
  },
  {
   "cell_type": "markdown",
   "id": "3c4df268-6762-4893-871a-509085d77a04",
   "metadata": {},
   "source": [
    "---"
   ]
  },
  {
   "cell_type": "code",
   "execution_count": 12,
   "id": "afaad869-1c0b-41dd-bdef-5a92dff26579",
   "metadata": {},
   "outputs": [],
   "source": [
    "# Silver IV\n",
    "# 10773 제로"
   ]
  },
  {
   "cell_type": "code",
   "execution_count": 18,
   "id": "1a9983ee-3194-428e-920c-ac3f7b659ef7",
   "metadata": {},
   "outputs": [
    {
     "name": "stdin",
     "output_type": "stream",
     "text": [
      " 10\n",
      " 1\n",
      " 3\n",
      " 5\n",
      " 4\n",
      " 0\n",
      " 0\n",
      " 7\n",
      " 0\n",
      " 0\n",
      " 6\n"
     ]
    },
    {
     "name": "stdout",
     "output_type": "stream",
     "text": [
      "7\n"
     ]
    }
   ],
   "source": [
    "K = int(input())\n",
    "li = []\n",
    "\n",
    "for i in range(K):\n",
    "    N = int(input())\n",
    "    if N == 0:\n",
    "        li.pop()\n",
    "    else:\n",
    "        li.append(N)\n",
    "    \n",
    "s = sum(li)\n",
    "print(s)"
   ]
  },
  {
   "cell_type": "markdown",
   "id": "c680ab93-af97-4808-95ec-c0c2e4dda71c",
   "metadata": {},
   "source": [
    "---"
   ]
  },
  {
   "cell_type": "code",
   "execution_count": 19,
   "id": "32801523-9350-41ea-8ea8-d70b22c18662",
   "metadata": {},
   "outputs": [],
   "source": [
    "# Silver IV\n",
    "# 9012 괄호"
   ]
  },
  {
   "cell_type": "code",
   "execution_count": 23,
   "id": "dd381036-b77c-4eff-be68-67794ac3c7ea",
   "metadata": {},
   "outputs": [
    {
     "name": "stdin",
     "output_type": "stream",
     "text": [
      " 6\n",
      " (())())\n",
      " (((()())()\n",
      " (()())((()))\n",
      " ((()()(()))(((())))()\n",
      " ()()()()(()()())()\n",
      " (()((())()(\n"
     ]
    },
    {
     "name": "stdout",
     "output_type": "stream",
     "text": [
      "yes\n",
      "yes\n",
      "yes\n",
      "yes\n",
      "yes\n",
      "yes\n",
      "yes\n",
      "yes\n",
      "yes\n",
      "yes\n",
      "yes\n"
     ]
    }
   ],
   "source": [
    "T = int(input())\n",
    "li = []\n",
    "\n",
    "for i in range(T):\n",
    "    VPS = input()\n",
    "\n",
    "for j in VPS:\n",
    "    try:\n",
    "        if j == '(':\n",
    "            li.append(1)\n",
    "        elif j == ')':\n",
    "            li.pop()\n",
    "        print('yes')\n",
    "\n",
    "    except:\n",
    "        print('no')\n"
   ]
  },
  {
   "cell_type": "code",
   "execution_count": null,
   "id": "4e163990-e52a-44d1-a935-c93891ae71f6",
   "metadata": {},
   "outputs": [],
   "source": []
  }
 ],
 "metadata": {
  "kernelspec": {
   "display_name": "Python 3 (ipykernel)",
   "language": "python",
   "name": "python3"
  },
  "language_info": {
   "codemirror_mode": {
    "name": "ipython",
    "version": 3
   },
   "file_extension": ".py",
   "mimetype": "text/x-python",
   "name": "python",
   "nbconvert_exporter": "python",
   "pygments_lexer": "ipython3",
   "version": "3.8.12"
  }
 },
 "nbformat": 4,
 "nbformat_minor": 5
}
