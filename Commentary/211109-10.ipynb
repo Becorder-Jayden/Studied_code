{
 "cells": [
  {
   "cell_type": "markdown",
   "id": "8c5ca04d-99b8-451b-8e82-03ae5e881fbe",
   "metadata": {},
   "source": [
    "# 2021.11.09 "
   ]
  },
  {
   "cell_type": "code",
   "execution_count": 1,
   "id": "1974f973-c8ce-4b00-9f17-094a076b81d0",
   "metadata": {},
   "outputs": [],
   "source": [
    "# Silver III\n",
    "# 14501 퇴사"
   ]
  },
  {
   "cell_type": "code",
   "execution_count": 79,
   "id": "4a30f14d-eec9-4ed7-8c59-474d3edaa8fb",
   "metadata": {},
   "outputs": [
    {
     "name": "stdin",
     "output_type": "stream",
     "text": [
      " 7\n",
      " 3 10\n",
      " 5 20\n",
      " 1 10\n",
      " 1 20\n",
      " 2 15\n",
      "  4 40\n",
      " 2 200\n"
     ]
    },
    {
     "name": "stdout",
     "output_type": "stream",
     "text": [
      "T : [3, 5, 1, 1, 2, 4, 2]\n",
      "P : [10, 20, 10, 20, 15, 40, 200]\n"
     ]
    }
   ],
   "source": [
    "# dic 형으로 시도 시 중복 값 추가 하는 법 모르게씀\n",
    "# 리스트 형으로 시도\n",
    "N = int(input())\n",
    "T = []\n",
    "P = []\n",
    "t = 0\n",
    "s = 0\n",
    "\n",
    "for i in range(N):\n",
    "    a, b = map(int, input().split())\n",
    "    T.append(a)\n",
    "    P.append(b)\n",
    "print('T : ' + str(T))\n",
    "print('P : ' + str(P))"
   ]
  },
  {
   "cell_type": "code",
   "execution_count": 80,
   "id": "0aa0951e-0bf5-412c-aa7c-cc7f8fd4d1ae",
   "metadata": {},
   "outputs": [
    {
     "name": "stdout",
     "output_type": "stream",
     "text": [
      "[5, 1, 1, 2, 4, 2]\n",
      "[1, 1, 2, 4, 2]\n",
      "[1, 2, 4, 2]\n",
      "pop 이후 결과물 [1, 2, 4, 2]\n",
      "[2, 4, 2]\n",
      "[4, 2]\n",
      "pop 이후 결과물 [4, 2]\n"
     ]
    }
   ],
   "source": [
    "for i in T:\n",
    "    for j in range(i):\n",
    "        T.pop(0)\n",
    "        print(T)\n",
    "    print('pop 이후 결과물 ' + str(T))"
   ]
  },
  {
   "cell_type": "code",
   "execution_count": 64,
   "id": "787691f5-f492-4147-a15c-49219cf5558c",
   "metadata": {},
   "outputs": [
    {
     "name": "stdout",
     "output_type": "stream",
     "text": [
      "0\n",
      "1\n"
     ]
    }
   ],
   "source": [
    "l = [1,2,4,2]\n",
    "for i in range(2):\n",
    "    print(i)"
   ]
  },
  {
   "cell_type": "code",
   "execution_count": 101,
   "id": "54e96bfe-0822-4f43-9f2e-eaef5600fd16",
   "metadata": {},
   "outputs": [
    {
     "name": "stdin",
     "output_type": "stream",
     "text": [
      " 7\n",
      " 3 10\n",
      " 5 20\n",
      " 1 10\n",
      " 1 20\n",
      " 2 15\n",
      " 4 40\n",
      " 2 200\n"
     ]
    }
   ],
   "source": [
    "# 구글링 풀이\n",
    "n = int(input())\n",
    "t = []\n",
    "p = []\n",
    "dp = []\n",
    "for i in range(n):\n",
    "    a, b = map(int, input().split())\n",
    "    t.append(a)\n",
    "    p.append(b)\n",
    "    dp.append(b)\n",
    "dp.append(0)\n",
    "\n",
    "for i in range(n-1, -1, -1):\n",
    "    if t[i] + i > n:\n",
    "        dp[i] = dp[i+1]"
   ]
  },
  {
   "cell_type": "code",
   "execution_count": 105,
   "id": "4b12e80e-3bc4-4cc5-84e2-d94de856c80f",
   "metadata": {},
   "outputs": [
    {
     "name": "stdout",
     "output_type": "stream",
     "text": [
      "7\n",
      "[3, 5, 1, 1, 2, 4, 2]\n",
      "[10, 20, 10, 20, 15, 40, 200]\n",
      "[10, 20, 10, 20, 15, 40, 200, 0]\n"
     ]
    }
   ],
   "source": [
    "print(n)\n",
    "print(t)\n",
    "print(p)\n",
    "print(dp)"
   ]
  },
  {
   "cell_type": "code",
   "execution_count": null,
   "id": "c402085a-cd45-498d-b251-4c6565848ef5",
   "metadata": {},
   "outputs": [],
   "source": []
  },
  {
   "cell_type": "code",
   "execution_count": null,
   "id": "002a39b8-6f8c-4020-bc76-9312304379cb",
   "metadata": {},
   "outputs": [],
   "source": []
  },
  {
   "cell_type": "code",
   "execution_count": 17,
   "id": "c19c9745-3dde-443c-a651-84eed2038050",
   "metadata": {},
   "outputs": [
    {
     "name": "stdout",
     "output_type": "stream",
     "text": [
      "[1, 2, 4, 2]\n"
     ]
    }
   ],
   "source": [
    "T = [3, 5, 1, 1, 2, 4, 2]\n",
    "for i in range(3):\n",
    "    T.pop(0)\n",
    "print(T)"
   ]
  },
  {
   "cell_type": "code",
   "execution_count": 18,
   "id": "1b782db1-7ea6-4928-8162-03e9e03f343b",
   "metadata": {},
   "outputs": [
    {
     "name": "stdout",
     "output_type": "stream",
     "text": [
      "[2, 4, 2]\n"
     ]
    }
   ],
   "source": [
    "for i in range(1):\n",
    "    T.pop(0)\n",
    "print(T)"
   ]
  },
  {
   "cell_type": "code",
   "execution_count": 19,
   "id": "1175f1d7-3b1b-4ff9-9e23-6766b48bf32b",
   "metadata": {},
   "outputs": [
    {
     "name": "stdout",
     "output_type": "stream",
     "text": [
      "[2]\n"
     ]
    }
   ],
   "source": [
    "for i in range(2):\n",
    "    T.pop(0)\n",
    "print(T)"
   ]
  },
  {
   "cell_type": "code",
   "execution_count": 21,
   "id": "8c9c5bdd-d98a-497c-aa9d-c2eb4a55812b",
   "metadata": {},
   "outputs": [
    {
     "name": "stdout",
     "output_type": "stream",
     "text": [
      "erorr 입니다\n"
     ]
    }
   ],
   "source": [
    "try:\n",
    "    for i in range(2):\n",
    "        T.pop(0)\n",
    "    print(T)\n",
    "except:\n",
    "    print(\"erorr 입니다\")"
   ]
  },
  {
   "cell_type": "code",
   "execution_count": null,
   "id": "9c73fff6-3b50-4e90-848d-6ac00f7b81a4",
   "metadata": {},
   "outputs": [],
   "source": []
  },
  {
   "cell_type": "code",
   "execution_count": null,
   "id": "cb2989bd-746f-4c5a-bbef-a0d327eb5dcc",
   "metadata": {},
   "outputs": [],
   "source": []
  },
  {
   "cell_type": "code",
   "execution_count": null,
   "id": "a4708f83-6f4b-4773-91d3-c98d67512a20",
   "metadata": {},
   "outputs": [],
   "source": []
  },
  {
   "cell_type": "code",
   "execution_count": null,
   "id": "3ace49ce-8669-4748-8b5f-e1a700cc3675",
   "metadata": {},
   "outputs": [],
   "source": []
  },
  {
   "cell_type": "code",
   "execution_count": null,
   "id": "2859e407-1e3f-41dd-82f7-e3d63ebca10b",
   "metadata": {
    "tags": []
   },
   "outputs": [],
   "source": [
    "# T0\n",
    "T[0] = 3 이므로   \n",
    "T = [1, 2, 4, 2]\n",
    "P = [20, 15, 40, 200] 이 되어야 함\n",
    "\n",
    "다시, T[0] = 1 이므로\n",
    "T = [2, 4, 2]\n",
    "P = [15, 40, 200] 이 되어야 함\n",
    "\n",
    "다시 T[0] = 2 이므로\n",
    "T = [2]\n",
    "P = [200] 이 되어야 함\n",
    "\n",
    "다시 T[0] = 2 이므로\n",
    "T = [] range 초과\n",
    "P = [] range 초과 되어 종료\n",
    "\n",
    "# T1\n",
    "T[1] = 5 이므로   \n",
    "T = [2]\n",
    "P = [200] 이 되어야 함\n",
    "\n",
    "다시, T[0] = 2 이므로\n",
    "T = [] range 초과\n",
    "P = [] range 초과 되어 종료\n",
    "\n",
    "# T2\n",
    "T[2] = 1 이므로   \n",
    "T = [1, 2, 4, 2]\n",
    "P = [20, 15, 40, 200] 이 되어야 함\n",
    "\n",
    "다시 T[0] = 2 이므로\n",
    "T = [2]\n",
    "P = [200] 이 되어야 함\n",
    "\n",
    "다시 T[0] = 2 이므로\n",
    "T = [] range 초과\n",
    "P = [] range 초과 되어 종료\n",
    "\n",
    "# T3\n",
    "T[3] = 1 이므로   \n",
    "T = [2, 4, 2]\n",
    "P = [15, 40, 200] 이 되어야 함"
   ]
  }
 ],
 "metadata": {
  "kernelspec": {
   "display_name": "Python 3 (ipykernel)",
   "language": "python",
   "name": "python3"
  },
  "language_info": {
   "codemirror_mode": {
    "name": "ipython",
    "version": 3
   },
   "file_extension": ".py",
   "mimetype": "text/x-python",
   "name": "python",
   "nbconvert_exporter": "python",
   "pygments_lexer": "ipython3",
   "version": "3.8.12"
  }
 },
 "nbformat": 4,
 "nbformat_minor": 5
}
