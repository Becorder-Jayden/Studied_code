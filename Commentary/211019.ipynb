{
 "cells": [
  {
   "cell_type": "markdown",
   "id": "10a746b7-abd5-4e2f-a8de-b77fcec88da2",
   "metadata": {},
   "source": [
    "## 2021.10.19"
   ]
  },
  {
   "cell_type": "code",
   "execution_count": 24,
   "id": "d58cc309-5275-4183-9a80-957f5fa9304e",
   "metadata": {},
   "outputs": [
    {
     "ename": "KeyboardInterrupt",
     "evalue": "Interrupted by user",
     "output_type": "error",
     "traceback": [
      "\u001b[1;31m---------------------------------------------------------------------------\u001b[0m",
      "\u001b[1;31mKeyboardInterrupt\u001b[0m                         Traceback (most recent call last)",
      "\u001b[1;32m<ipython-input-24-86ea7a8b046e>\u001b[0m in \u001b[0;36m<module>\u001b[1;34m\u001b[0m\n\u001b[0;32m      7\u001b[0m \u001b[1;31m#     print(a)\u001b[0m\u001b[1;33m\u001b[0m\u001b[1;33m\u001b[0m\u001b[1;33m\u001b[0m\u001b[0m\n\u001b[0;32m      8\u001b[0m \u001b[1;33m\u001b[0m\u001b[0m\n\u001b[1;32m----> 9\u001b[1;33m \u001b[0ma\u001b[0m \u001b[1;33m=\u001b[0m \u001b[0mint\u001b[0m\u001b[1;33m(\u001b[0m\u001b[0minput\u001b[0m\u001b[1;33m(\u001b[0m\u001b[1;33m)\u001b[0m\u001b[1;33m)\u001b[0m\u001b[1;33m\u001b[0m\u001b[1;33m\u001b[0m\u001b[0m\n\u001b[0m\u001b[0;32m     10\u001b[0m \u001b[0mt\u001b[0m \u001b[1;33m=\u001b[0m \u001b[1;36m0\u001b[0m\u001b[1;33m\u001b[0m\u001b[1;33m\u001b[0m\u001b[0m\n\u001b[0;32m     11\u001b[0m \u001b[1;33m\u001b[0m\u001b[0m\n",
      "\u001b[1;32m~\\anaconda3\\lib\\site-packages\\ipykernel\\kernelbase.py\u001b[0m in \u001b[0;36mraw_input\u001b[1;34m(self, prompt)\u001b[0m\n\u001b[0;32m    858\u001b[0m                 \u001b[1;34m\"raw_input was called, but this frontend does not support input requests.\"\u001b[0m\u001b[1;33m\u001b[0m\u001b[1;33m\u001b[0m\u001b[0m\n\u001b[0;32m    859\u001b[0m             )\n\u001b[1;32m--> 860\u001b[1;33m         return self._input_request(str(prompt),\n\u001b[0m\u001b[0;32m    861\u001b[0m             \u001b[0mself\u001b[0m\u001b[1;33m.\u001b[0m\u001b[0m_parent_ident\u001b[0m\u001b[1;33m,\u001b[0m\u001b[1;33m\u001b[0m\u001b[1;33m\u001b[0m\u001b[0m\n\u001b[0;32m    862\u001b[0m             \u001b[0mself\u001b[0m\u001b[1;33m.\u001b[0m\u001b[0m_parent_header\u001b[0m\u001b[1;33m,\u001b[0m\u001b[1;33m\u001b[0m\u001b[1;33m\u001b[0m\u001b[0m\n",
      "\u001b[1;32m~\\anaconda3\\lib\\site-packages\\ipykernel\\kernelbase.py\u001b[0m in \u001b[0;36m_input_request\u001b[1;34m(self, prompt, ident, parent, password)\u001b[0m\n\u001b[0;32m    902\u001b[0m             \u001b[1;32mexcept\u001b[0m \u001b[0mKeyboardInterrupt\u001b[0m\u001b[1;33m:\u001b[0m\u001b[1;33m\u001b[0m\u001b[1;33m\u001b[0m\u001b[0m\n\u001b[0;32m    903\u001b[0m                 \u001b[1;31m# re-raise KeyboardInterrupt, to truncate traceback\u001b[0m\u001b[1;33m\u001b[0m\u001b[1;33m\u001b[0m\u001b[1;33m\u001b[0m\u001b[0m\n\u001b[1;32m--> 904\u001b[1;33m                 \u001b[1;32mraise\u001b[0m \u001b[0mKeyboardInterrupt\u001b[0m\u001b[1;33m(\u001b[0m\u001b[1;34m\"Interrupted by user\"\u001b[0m\u001b[1;33m)\u001b[0m \u001b[1;32mfrom\u001b[0m \u001b[1;32mNone\u001b[0m\u001b[1;33m\u001b[0m\u001b[1;33m\u001b[0m\u001b[0m\n\u001b[0m\u001b[0;32m    905\u001b[0m             \u001b[1;32mexcept\u001b[0m \u001b[0mException\u001b[0m \u001b[1;32mas\u001b[0m \u001b[0me\u001b[0m\u001b[1;33m:\u001b[0m\u001b[1;33m\u001b[0m\u001b[1;33m\u001b[0m\u001b[0m\n\u001b[0;32m    906\u001b[0m                 \u001b[0mself\u001b[0m\u001b[1;33m.\u001b[0m\u001b[0mlog\u001b[0m\u001b[1;33m.\u001b[0m\u001b[0mwarning\u001b[0m\u001b[1;33m(\u001b[0m\u001b[1;34m\"Invalid Message:\"\u001b[0m\u001b[1;33m,\u001b[0m \u001b[0mexc_info\u001b[0m\u001b[1;33m=\u001b[0m\u001b[1;32mTrue\u001b[0m\u001b[1;33m)\u001b[0m\u001b[1;33m\u001b[0m\u001b[1;33m\u001b[0m\u001b[0m\n",
      "\u001b[1;31mKeyboardInterrupt\u001b[0m: Interrupted by user"
     ]
    }
   ],
   "source": [
    "## 4673 셀프넘버\n",
    "\n",
    "# a=1\n",
    "\n",
    "# while a<=10000:\n",
    "#     a+=1\n",
    "#     print(a)\n",
    "\n",
    "a = int(input())\n",
    "t = 0\n",
    "\n",
    "while t < 10000:\n",
    "    a_1 = a%10\n",
    "    a_2 = a%100//10\n",
    "    a_3 = a%1000//100\n",
    "\n",
    "    t = a+a_1+a_2+a_3\n",
    "    print(t)\n",
    "    \n",
    "# set 함수 정리"
   ]
  },
  {
   "cell_type": "code",
   "execution_count": 2,
   "id": "761d9ce3-d416-4509-b377-027064c1daa3",
   "metadata": {},
   "outputs": [
    {
     "name": "stdin",
     "output_type": "stream",
     "text": [
      " 3\n",
      " happy\n"
     ]
    },
    {
     "name": "stdout",
     "output_type": "stream",
     "text": [
      "글자가 2개 이상 동일한 입력값\n"
     ]
    },
    {
     "name": "stdin",
     "output_type": "stream",
     "text": [
      " new\n"
     ]
    },
    {
     "name": "stdout",
     "output_type": "stream",
     "text": [
      "글자가 모두 다른 입력값\n"
     ]
    },
    {
     "name": "stdin",
     "output_type": "stream",
     "text": [
      " year\n"
     ]
    },
    {
     "name": "stdout",
     "output_type": "stream",
     "text": [
      "글자가 모두 다른 입력값\n"
     ]
    }
   ],
   "source": [
    "# Silver V\n",
    "# 1316 그룹 단어 체커\n",
    "\n",
    "n = int(input())\n",
    "\n",
    "for i in range(n):\n",
    "    text = input()\n",
    "    \n",
    "    if len(set(list(text)))==len(list(text)):\n",
    "        print('글자가 모두 다른 입력값')\n",
    "    \n",
    "    else: # 글자가 2개 이상 동일한 입력값\n",
    "        print('글자가 2개 이상 동일한 입력값')"
   ]
  },
  {
   "cell_type": "code",
   "execution_count": 7,
   "id": "74b9b7dd-af16-4ac6-9ca8-2486cd689b69",
   "metadata": {},
   "outputs": [
    {
     "name": "stdin",
     "output_type": "stream",
     "text": [
      " 4\n",
      " aba\n"
     ]
    },
    {
     "name": "stdout",
     "output_type": "stream",
     "text": [
      "0\n"
     ]
    },
    {
     "name": "stdin",
     "output_type": "stream",
     "text": [
      " abab\n"
     ]
    },
    {
     "name": "stdout",
     "output_type": "stream",
     "text": [
      "1\n"
     ]
    },
    {
     "name": "stdin",
     "output_type": "stream",
     "text": [
      " abcabc\n"
     ]
    },
    {
     "name": "stdout",
     "output_type": "stream",
     "text": [
      "1\n"
     ]
    },
    {
     "name": "stdin",
     "output_type": "stream",
     "text": [
      " a\n"
     ]
    },
    {
     "name": "stdout",
     "output_type": "stream",
     "text": [
      "2\n"
     ]
    }
   ],
   "source": [
    "n = int(input())\n",
    "s = 0\n",
    "l1 = []\n",
    "l2 = []\n",
    "\n",
    "for i in range(n):\n",
    "    text = input()\n",
    "    \n",
    "    if len(set(list(text)))==len(list(text)):\n",
    "        s += 1\n",
    "        print(s)\n",
    "    else: # 글자가 2개 이상 동일한 입력값\n",
    "        for j in text:\n",
    "            l1.append(j)\n",
    "            try:\n",
    "                if j==l2[-1]:\n",
    "                    s+=1\n",
    "                else:\n",
    "                    l2.append(j)\n",
    "            except:\n",
    "                l2.append(j)\n",
    "        print(s)\n",
    "        \n",
    "        # 저장된 것을 초기화는 안해서? by. 영민"
   ]
  },
  {
   "cell_type": "code",
   "execution_count": 7,
   "id": "f726eaae-d25d-43b6-8fe9-f3010dfd8046",
   "metadata": {},
   "outputs": [
    {
     "name": "stdin",
     "output_type": "stream",
     "text": [
      " 1\n",
      " aabb\n"
     ]
    },
    {
     "name": "stdout",
     "output_type": "stream",
     "text": [
      "2\n"
     ]
    }
   ],
   "source": [
    "# 왜 틀린거지..\n",
    "\n",
    "n = int(input())\n",
    "s = 0\n",
    "l1 = []\n",
    "l2 = []\n",
    "\n",
    "for i in range(n):\n",
    "    text = input()\n",
    "    \n",
    "    if len(set(list(text)))==len(list(text)):\n",
    "        s += 1\n",
    "\n",
    "    else:\n",
    "        for j in text:\n",
    "            l1.append(j)\n",
    "            try:\n",
    "                if j==l2[-1]:\n",
    "                    s+=1\n",
    "                else:\n",
    "                    l2.append(j)\n",
    "            except:\n",
    "                l2.append(j)\n",
    "        l1=[]\n",
    "        l2=[]\n",
    "print(s)\n",
    "\n",
    "# 조현아 기술코치's help\n",
    "# PyPy는 python3의 속도 문제를 보완하기 위해 만든 프로그램으로, 코딩 테스트시 무조건 적으로 PyPy를 선택하는 것이 유리하다 함"
   ]
  },
  {
   "cell_type": "code",
   "execution_count": null,
   "id": "8a2bfbe1-5e5e-4b83-aafc-e356fb1dbfca",
   "metadata": {},
   "outputs": [],
   "source": []
  },
  {
   "cell_type": "code",
   "execution_count": null,
   "id": "5938572a-1a5c-4017-b1d5-9103bfdd148f",
   "metadata": {},
   "outputs": [],
   "source": []
  }
 ],
 "metadata": {
  "kernelspec": {
   "display_name": "Python 3",
   "language": "python",
   "name": "python3"
  },
  "language_info": {
   "codemirror_mode": {
    "name": "ipython",
    "version": 3
   },
   "file_extension": ".py",
   "mimetype": "text/x-python",
   "name": "python",
   "nbconvert_exporter": "python",
   "pygments_lexer": "ipython3",
   "version": "3.8.8"
  }
 },
 "nbformat": 4,
 "nbformat_minor": 5
}
