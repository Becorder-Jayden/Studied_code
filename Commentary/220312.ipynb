{
 "cells": [
  {
   "cell_type": "markdown",
   "id": "8e51a5c6-db73-4c43-a1ea-36bdf5b32586",
   "metadata": {},
   "source": [
    "# 2022.03.12"
   ]
  },
  {
   "cell_type": "code",
   "execution_count": 1,
   "id": "37a1c7b7-5645-4cb7-9586-a4fb2faa0c01",
   "metadata": {},
   "outputs": [],
   "source": [
    "# Programmers\n",
    "# Lv.1 모의고사"
   ]
  },
  {
   "cell_type": "code",
   "execution_count": 99,
   "id": "799673d3-2f84-411b-aece-73f279c558fd",
   "metadata": {},
   "outputs": [
    {
     "name": "stdout",
     "output_type": "stream",
     "text": [
      "[1, 2, 3, 4, 5]\n",
      "[1, 2, 3, 4, 5]\n",
      "[2, 1, 2, 3, 2]\n",
      "[3, 3, 1, 1, 2]\n",
      "[5, 0, 0]\n",
      "[1]\n"
     ]
    }
   ],
   "source": [
    "answer = [1,2,3,4,5]\n",
    "std_1 = [1,2,3,4,5]\n",
    "std_2 = [2,1,2,3,2,4,2,5]\n",
    "std_3 = [3,3,1,1,2,2,4,4,5,5]\n",
    "\n",
    "ans_1, ans_2, ans_3 = [], [], []\n",
    "\n",
    "for i in range(len(answer)):\n",
    "    ans_1.append(std_1[i%5])\n",
    "    ans_2.append(std_2[i%8])\n",
    "    ans_3.append(std_3[i%10])\n",
    "\n",
    "print(answer)\n",
    "print(ans_1)\n",
    "print(ans_2)\n",
    "print(ans_3)\n",
    "\n",
    "cnt_1, cnt_2, cnt_3 = 0, 0, 0\n",
    "\n",
    "for i in range(len(answer)):\n",
    "    if answer[i] == ans_1[i]:\n",
    "        cnt_1 += 1\n",
    "    if answer[i] == ans_2[i]:\n",
    "        cnt_2 += 1\n",
    "    if answer[i] == ans_3[i]:\n",
    "        cnt_3 += 1\n",
    "\n",
    "li = []\n",
    "li.append(cnt_1)\n",
    "li.append(cnt_2)\n",
    "li.append(cnt_3)\n",
    "\n",
    "answer = []\n",
    "\n",
    "for i in range(3):\n",
    "    if li[i] == max(li):\n",
    "        answer.append(i+1)\n",
    "print(li)\n",
    "print(answer)"
   ]
  },
  {
   "cell_type": "code",
   "execution_count": null,
   "id": "4d06a430-659f-419d-9fca-660b3eadd66e",
   "metadata": {},
   "outputs": [],
   "source": []
  }
 ],
 "metadata": {
  "kernelspec": {
   "display_name": "Python 3 (ipykernel)",
   "language": "python",
   "name": "python3"
  },
  "language_info": {
   "codemirror_mode": {
    "name": "ipython",
    "version": 3
   },
   "file_extension": ".py",
   "mimetype": "text/x-python",
   "name": "python",
   "nbconvert_exporter": "python",
   "pygments_lexer": "ipython3",
   "version": "3.8.12"
  }
 },
 "nbformat": 4,
 "nbformat_minor": 5
}
