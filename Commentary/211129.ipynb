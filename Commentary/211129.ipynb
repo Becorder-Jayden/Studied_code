{
 "cells": [
  {
   "cell_type": "markdown",
   "id": "5470f79d-27d9-4d05-b2f5-e26119150104",
   "metadata": {},
   "source": [
    "# 2021.11.29"
   ]
  },
  {
   "cell_type": "code",
   "execution_count": 1,
   "id": "24ca037e-3a06-4aa7-ab13-37444886032f",
   "metadata": {},
   "outputs": [],
   "source": [
    "# Silver II\n",
    "# 11729 하노이 탑 이동 순서"
   ]
  },
  {
   "cell_type": "code",
   "execution_count": 51,
   "id": "a5633c62-887f-480b-8715-8937e0a4a95d",
   "metadata": {},
   "outputs": [
    {
     "name": "stdin",
     "output_type": "stream",
     "text": [
      " 4\n"
     ]
    },
    {
     "name": "stdout",
     "output_type": "stream",
     "text": [
      "15\n",
      "1 2\n",
      "1 3\n",
      "2 3\n",
      "1 2\n",
      "3 1\n",
      "3 2\n",
      "1 2\n",
      "1 3\n",
      "2 3\n",
      "2 1\n",
      "3 1\n",
      "2 3\n",
      "1 2\n",
      "1 3\n",
      "2 3\n"
     ]
    }
   ],
   "source": [
    "# 구글링 참고\n",
    "\n",
    "def hanoi_tower(n, start, by, end):\n",
    "    if n==1:\n",
    "        print(start, end)\n",
    "        return\n",
    "    \n",
    "    hanoi_tower(n-1, start, end, by)\n",
    "    print(start, end)\n",
    "    hanoi_tower(n-1, by, start, end)\n",
    "    \n",
    "n = int(input())\n",
    "print(2**n-1)\n",
    "hanoi_tower(n, 1, 2, 3)"
   ]
  },
  {
   "cell_type": "code",
   "execution_count": null,
   "id": "a3fd8c31-098c-4026-9d63-e00252be97e1",
   "metadata": {},
   "outputs": [],
   "source": []
  }
 ],
 "metadata": {
  "kernelspec": {
   "display_name": "Python 3 (ipykernel)",
   "language": "python",
   "name": "python3"
  },
  "language_info": {
   "codemirror_mode": {
    "name": "ipython",
    "version": 3
   },
   "file_extension": ".py",
   "mimetype": "text/x-python",
   "name": "python",
   "nbconvert_exporter": "python",
   "pygments_lexer": "ipython3",
   "version": "3.8.12"
  }
 },
 "nbformat": 4,
 "nbformat_minor": 5
}
