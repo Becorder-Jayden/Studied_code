{
 "cells": [
  {
   "cell_type": "markdown",
   "id": "629ba690-5bf6-4dd7-96c4-c87c02f00311",
   "metadata": {},
   "source": [
    "# 2022.02.14"
   ]
  },
  {
   "cell_type": "code",
   "execution_count": 1,
   "id": "6487800d-be5c-40ee-8b3e-91be823254b8",
   "metadata": {},
   "outputs": [],
   "source": [
    "# Bronze IV\n",
    "# 2525 오븐 시계"
   ]
  },
  {
   "cell_type": "code",
   "execution_count": 24,
   "id": "9ea621e3-4348-4629-b92d-db76f99df8a8",
   "metadata": {},
   "outputs": [
    {
     "name": "stdin",
     "output_type": "stream",
     "text": [
      " 17 40\n",
      " 80\n"
     ]
    },
    {
     "name": "stdout",
     "output_type": "stream",
     "text": [
      "19 0\n"
     ]
    }
   ],
   "source": [
    "A, B = map(int, input().split())\n",
    "C = int(input())\n",
    "B += C\n",
    "while True:\n",
    "    if B >= 60:\n",
    "        A += 1\n",
    "        B -= 60\n",
    "    else:\n",
    "        break\n",
    "        \n",
    "if A >= 24:\n",
    "    A -= 24\n",
    "    \n",
    "print(A, B)"
   ]
  },
  {
   "cell_type": "markdown",
   "id": "1fa8d190-4b88-4d95-9888-f781af09e41d",
   "metadata": {},
   "source": [
    "---"
   ]
  },
  {
   "cell_type": "code",
   "execution_count": 25,
   "id": "598d7b40-21c2-4b3b-bc21-e746a12cba92",
   "metadata": {},
   "outputs": [],
   "source": [
    "# Silver III\n",
    "# 2579 계단 오르기"
   ]
  },
  {
   "cell_type": "code",
   "execution_count": 102,
   "id": "308792ef-efa7-49bb-b979-038abb256a96",
   "metadata": {},
   "outputs": [
    {
     "name": "stdin",
     "output_type": "stream",
     "text": [
      " 6\n",
      " 10\n",
      " 20\n",
      " 15\n",
      " 25\n",
      " 10\n",
      " 20\n"
     ]
    },
    {
     "name": "stdout",
     "output_type": "stream",
     "text": [
      "[10, 20, 15, 25, 10, 20]\n",
      "[10, 30, 35, 55, 65, 75]\n",
      "75\n"
     ]
    }
   ],
   "source": [
    "n = int(input())\n",
    "s = [0 for i in range(n)] # 입력값 저장\n",
    "dp = [0 for i in range(n)] # 합계 저장_누적\n",
    "for i in range(n):\n",
    "    s[i] = int(input())\n",
    "    \n",
    "dp[0] = s[0]\n",
    "dp[1] = s[0]+s[1]\n",
    "dp[2] = max(s[1]+s[2], s[0]+s[2])\n",
    "for i in range(3, n):\n",
    "    dp[i] = max(dp[i-3]+s[i-1]+s[i], dp[i-2]+s[i])\n",
    "print(s)\n",
    "print(dp)\n",
    "print(dp[n-1])"
   ]
  },
  {
   "cell_type": "markdown",
   "id": "891b3880-c818-495b-97ba-4e7d38094bb1",
   "metadata": {},
   "source": [
    "---"
   ]
  },
  {
   "cell_type": "code",
   "execution_count": 1,
   "id": "f179fc2a-9a0d-49bc-b1da-042d64d521d5",
   "metadata": {},
   "outputs": [],
   "source": [
    "# Silver III\n",
    "# 2579 계단 오르기_스스로 다시 풀기"
   ]
  },
  {
   "cell_type": "code",
   "execution_count": 33,
   "id": "0e3745c9-5dfe-43c4-898a-a1c315fbc9cb",
   "metadata": {},
   "outputs": [
    {
     "name": "stdin",
     "output_type": "stream",
     "text": [
      " 6\n",
      " 10\n",
      " 20\n",
      " 15\n",
      " 25\n",
      " 10\n",
      " 20\n"
     ]
    },
    {
     "name": "stdout",
     "output_type": "stream",
     "text": [
      "[10, 20, 15, 25, 10, 20, 0, 0, 0, 0, 0, 0, 0, 0, 0, 0, 0, 0, 0, 0, 0, 0, 0, 0, 0, 0, 0, 0, 0, 0, 0, 0, 0, 0, 0, 0, 0, 0, 0, 0, 0, 0, 0, 0, 0, 0, 0, 0, 0, 0, 0, 0, 0, 0, 0, 0, 0, 0, 0, 0, 0, 0, 0, 0, 0, 0, 0, 0, 0, 0, 0, 0, 0, 0, 0, 0, 0, 0, 0, 0, 0, 0, 0, 0, 0, 0, 0, 0, 0, 0, 0, 0, 0, 0, 0, 0, 0, 0, 0, 0, 0, 0, 0, 0, 0, 0, 0, 0, 0, 0, 0, 0, 0, 0, 0, 0, 0, 0, 0, 0, 0, 0, 0, 0, 0, 0, 0, 0, 0, 0, 0, 0, 0, 0, 0, 0, 0, 0, 0, 0, 0, 0, 0, 0, 0, 0, 0, 0, 0, 0, 0, 0, 0, 0, 0, 0, 0, 0, 0, 0, 0, 0, 0, 0, 0, 0, 0, 0, 0, 0, 0, 0, 0, 0, 0, 0, 0, 0, 0, 0, 0, 0, 0, 0, 0, 0, 0, 0, 0, 0, 0, 0, 0, 0, 0, 0, 0, 0, 0, 0, 0, 0, 0, 0, 0, 0, 0, 0, 0, 0, 0, 0, 0, 0, 0, 0, 0, 0, 0, 0, 0, 0, 0, 0, 0, 0, 0, 0, 0, 0, 0, 0, 0, 0, 0, 0, 0, 0, 0, 0, 0, 0, 0, 0, 0, 0, 0, 0, 0, 0, 0, 0, 0, 0, 0, 0, 0, 0, 0, 0, 0, 0, 0, 0, 0, 0, 0, 0, 0, 0, 0, 0, 0, 0, 0, 0, 0, 0, 0, 0, 0, 0, 0, 0, 0, 0, 0, 0, 0, 0, 0, 0, 0, 0, 0, 0, 0, 0, 0, 0, 0]\n",
      "75\n"
     ]
    }
   ],
   "source": [
    "N = int(input())\n",
    "li = [0]*301\n",
    "dp = [0]*301\n",
    "for i in range(N):\n",
    "    nums = int(input())\n",
    "    li[i] = nums\n",
    "\n",
    "dp[0] = li[0]\n",
    "dp[1] = li[0]+li[1]\n",
    "dp[2] = max(li[1]+li[2], li[0]+li[2])\n",
    "for i in range(3, N):\n",
    "    dp[i] = max(li[i]+li[i-1]+dp[i-3], li[i]+dp[i-2])\n",
    "\n",
    "print(li)\n",
    "# print(dp)\n",
    "print(dp[N-1])"
   ]
  },
  {
   "cell_type": "code",
   "execution_count": 38,
   "id": "46f3df9c-9f7a-48aa-bb2c-989eb1b48f37",
   "metadata": {},
   "outputs": [],
   "source": [
    "n=2\n",
    "for i in range(3, n):\n",
    "    print(i)"
   ]
  },
  {
   "cell_type": "code",
   "execution_count": null,
   "id": "a2bebd1c-e23c-4d26-a3e8-9d21467f9288",
   "metadata": {},
   "outputs": [],
   "source": []
  }
 ],
 "metadata": {
  "kernelspec": {
   "display_name": "Python 3 (ipykernel)",
   "language": "python",
   "name": "python3"
  },
  "language_info": {
   "codemirror_mode": {
    "name": "ipython",
    "version": 3
   },
   "file_extension": ".py",
   "mimetype": "text/x-python",
   "name": "python",
   "nbconvert_exporter": "python",
   "pygments_lexer": "ipython3",
   "version": "3.8.12"
  }
 },
 "nbformat": 4,
 "nbformat_minor": 5
}
