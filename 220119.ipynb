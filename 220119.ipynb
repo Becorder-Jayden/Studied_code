{
 "cells": [
  {
   "cell_type": "markdown",
   "id": "1c65bf5d-6c72-4fb7-8d2f-f574f9b6d6ff",
   "metadata": {},
   "source": [
    "# 2022.01.19"
   ]
  },
  {
   "cell_type": "code",
   "execution_count": 1,
   "id": "525c96f2-ac14-4ad1-b2a8-45fce396f401",
   "metadata": {},
   "outputs": [],
   "source": [
    "# Silver III\n",
    "# 15649 N과 M (1)_복습_구글링"
   ]
  },
  {
   "cell_type": "code",
   "execution_count": 5,
   "id": "565b93bc-cfcd-4b95-bcd3-d1b752fd0684",
   "metadata": {},
   "outputs": [
    {
     "name": "stdin",
     "output_type": "stream",
     "text": [
      " 4 4\n"
     ]
    },
    {
     "name": "stdout",
     "output_type": "stream",
     "text": [
      "1 2 3 4\n",
      "1 2 4 3\n",
      "1 3 2 4\n",
      "1 3 4 2\n",
      "1 4 2 3\n",
      "1 4 3 2\n",
      "2 1 3 4\n",
      "2 1 4 3\n",
      "2 3 1 4\n",
      "2 3 4 1\n",
      "2 4 1 3\n",
      "2 4 3 1\n",
      "3 1 2 4\n",
      "3 1 4 2\n",
      "3 2 1 4\n",
      "3 2 4 1\n",
      "3 4 1 2\n",
      "3 4 2 1\n",
      "4 1 2 3\n",
      "4 1 3 2\n",
      "4 2 1 3\n",
      "4 2 3 1\n",
      "4 3 1 2\n",
      "4 3 2 1\n"
     ]
    }
   ],
   "source": [
    "N, M = map(int, input().split())\n",
    "\n",
    "def dfs(level, seq):\n",
    "    if level == M:\n",
    "        print(' '.join(map(str, seq)))\n",
    "        \n",
    "    for i in range(1, N+1):\n",
    "        if i not in seq:\n",
    "            temp = seq.copy()\n",
    "            temp.append(i)\n",
    "            dfs(level+1, temp)\n",
    "            \n",
    "dfs(0, [])"
   ]
  },
  {
   "cell_type": "code",
   "execution_count": 13,
   "id": "614a6e9f-50a7-47d4-8e8f-0938e6fa163d",
   "metadata": {},
   "outputs": [],
   "source": [
    "# 다른 풀이"
   ]
  },
  {
   "cell_type": "code",
   "execution_count": 16,
   "id": "5501ee2f-2c70-41ef-8e56-6ad28489bc54",
   "metadata": {},
   "outputs": [
    {
     "name": "stdin",
     "output_type": "stream",
     "text": [
      " 4 4\n"
     ]
    }
   ],
   "source": [
    "N, M = map(int, input().split())\n",
    "visited = [False] * N\n",
    "lst = []\n",
    "\n",
    "def dfs(depth):\n",
    "    if depth == M:\n",
    "        print(' '.join(map(str, lst)))\n",
    "        return\n",
    "    \n",
    "    for i in range(N):\n",
    "        if not visited[i]:\n",
    "            visited[i] = True\n",
    "            lst.append(i+1)\n",
    "            dfs(depth+1)\n",
    "            visited[i] = False\n",
    "            lst.pop()\n",
    "            "
   ]
  },
  {
   "cell_type": "code",
   "execution_count": 6,
   "id": "eb98f759-47e2-4b54-9be4-2ee6d6569aaa",
   "metadata": {},
   "outputs": [],
   "source": [
    "# Siver III\n",
    "# 15650 N과 M (2)_(1)문제 응용"
   ]
  },
  {
   "cell_type": "code",
   "execution_count": 2,
   "id": "8e869c65-c24b-46b2-ad54-17645e66bb85",
   "metadata": {},
   "outputs": [
    {
     "name": "stdin",
     "output_type": "stream",
     "text": [
      " 4 2\n"
     ]
    }
   ],
   "source": [
    "N, M = map(int, input().split())\n",
    "lst = []\n",
    "\n",
    "def dfs(start):\n",
    "    if len(lst) == M:\n",
    "        print(' '.join(map(str, lst)))\n",
    "        \n",
    "        for i in range(start, N+1):\n",
    "            if i not in lst:\n",
    "                lst.append(i)\n",
    "                dfs(i+1)\n",
    "                lst.pop()\n",
    "                \n",
    "dfs(0)"
   ]
  },
  {
   "cell_type": "markdown",
   "id": "cca0e9de-f729-4a82-bcff-8eddfd90b9a2",
   "metadata": {},
   "source": [
    "---"
   ]
  },
  {
   "cell_type": "code",
   "execution_count": 1,
   "id": "3c9457e0-36eb-4b6b-9e98-879faf3a5898",
   "metadata": {},
   "outputs": [],
   "source": [
    "# Silver III\n",
    "# 15649 N과 M (1)"
   ]
  },
  {
   "cell_type": "code",
   "execution_count": 11,
   "id": "4304efbb-d841-4290-8b27-a56444a6639d",
   "metadata": {},
   "outputs": [
    {
     "name": "stdin",
     "output_type": "stream",
     "text": [
      " 4 4\n"
     ]
    },
    {
     "name": "stdout",
     "output_type": "stream",
     "text": [
      "1 2 3 4\n",
      "1 2 4 3\n",
      "1 3 2 4\n",
      "1 3 4 2\n",
      "1 4 2 3\n",
      "1 4 3 2\n",
      "2 1 3 4\n",
      "2 1 4 3\n",
      "2 3 1 4\n",
      "2 3 4 1\n",
      "2 4 1 3\n",
      "2 4 3 1\n",
      "3 1 2 4\n",
      "3 1 4 2\n",
      "3 2 1 4\n",
      "3 2 4 1\n",
      "3 4 1 2\n",
      "3 4 2 1\n",
      "4 1 2 3\n",
      "4 1 3 2\n",
      "4 2 1 3\n",
      "4 2 3 1\n",
      "4 3 1 2\n",
      "4 3 2 1\n"
     ]
    }
   ],
   "source": [
    "N, M = map(int, input().split())\n",
    "\n",
    "def dfs(depth, seq):\n",
    "    if depth == M:\n",
    "        print(' '.join(list(map(str, seq))))\n",
    "        \n",
    "    for i in range(1, N+1):\n",
    "        if i not in seq:\n",
    "            temp = seq.copy()\n",
    "            temp.append(i)\n",
    "            dfs(depth+1, temp)\n",
    "        \n",
    "dfs(0, [])"
   ]
  },
  {
   "cell_type": "markdown",
   "id": "aa75ec82-42b3-4e94-8d92-5bf3884387f8",
   "metadata": {},
   "source": [
    "---"
   ]
  },
  {
   "cell_type": "code",
   "execution_count": 12,
   "id": "0aa216f9-ce1f-4401-aded-0015e033fe98",
   "metadata": {},
   "outputs": [],
   "source": [
    "# Silver III\n",
    "# 15650 N과 M"
   ]
  },
  {
   "cell_type": "code",
   "execution_count": 22,
   "id": "9b2fafd4-9d62-41f5-990d-0a98469c2289",
   "metadata": {},
   "outputs": [
    {
     "name": "stdin",
     "output_type": "stream",
     "text": [
      " 4 4\n"
     ]
    },
    {
     "name": "stdout",
     "output_type": "stream",
     "text": [
      "0 1 2 3\n",
      "0 1 2 4\n",
      "0 1 3 4\n",
      "0 1 4 3\n",
      "0 2 3 4\n",
      "0 2 4 3\n",
      "0 3 2 4\n",
      "0 4 2 3\n",
      "1 2 3 4\n",
      "1 2 4 3\n",
      "1 3 2 4\n",
      "1 4 2 3\n",
      "2 1 3 4\n",
      "2 1 4 3\n",
      "3 1 2 4\n",
      "4 1 2 3\n"
     ]
    }
   ],
   "source": [
    "N, M = map(int, input().split())\n",
    "\n",
    "def dfs(depth, seq):\n",
    "    if len(seq) == M:\n",
    "        print(' '.join(list(map(str, seq))))\n",
    "        \n",
    "    for i in range(depth, N+1):\n",
    "        if i not in seq:\n",
    "            temp = seq.copy()\n",
    "            temp.append(i)\n",
    "            dfs(depth+1, temp)\n",
    "dfs(0, [])"
   ]
  },
  {
   "cell_type": "code",
   "execution_count": null,
   "id": "48deda82-8a0a-4d3d-a9c7-9acc2aea38c3",
   "metadata": {},
   "outputs": [],
   "source": []
  }
 ],
 "metadata": {
  "kernelspec": {
   "display_name": "Python 3 (ipykernel)",
   "language": "python",
   "name": "python3"
  },
  "language_info": {
   "codemirror_mode": {
    "name": "ipython",
    "version": 3
   },
   "file_extension": ".py",
   "mimetype": "text/x-python",
   "name": "python",
   "nbconvert_exporter": "python",
   "pygments_lexer": "ipython3",
   "version": "3.8.12"
  }
 },
 "nbformat": 4,
 "nbformat_minor": 5
}
