{
 "cells": [
  {
   "cell_type": "markdown",
   "id": "d14e5808-e2a7-41f0-8ac3-c0533e45887b",
   "metadata": {},
   "source": [
    "# 2022.03.26"
   ]
  },
  {
   "cell_type": "code",
   "execution_count": 2,
   "id": "d4dab85e-ab23-447f-bbc4-2facb64a09d1",
   "metadata": {},
   "outputs": [],
   "source": [
    "# 프로그래머스 2일차\n",
    "# 체육복"
   ]
  },
  {
   "cell_type": "code",
   "execution_count": 11,
   "id": "6140be62-bbb4-485d-bfda-d760cb7f0eb1",
   "metadata": {},
   "outputs": [
    {
     "name": "stdout",
     "output_type": "stream",
     "text": [
      "5\n"
     ]
    }
   ],
   "source": [
    "n = 5\n",
    "lost = [2, 4]\n",
    "reserve = [1, 3, 5]\n",
    "def solution(n, lost, reserve):\n",
    "    answer = 0\n",
    "    dic = {}\n",
    "    for i in range(n):\n",
    "        dic[i+1] = 1\n",
    "    for i in lost:\n",
    "        dic[i] -= 1\n",
    "    for i in reserve:\n",
    "        dic[i] += 1\n",
    "\n",
    "    for i in range(1, n+1):\n",
    "        if dic[i] == 0:\n",
    "            if dic[i-1] == 2:\n",
    "                dic[i-1] -= 1\n",
    "                dic[i] += 1\n",
    "            elif dic[i+1] == 2:\n",
    "                dic[i+1] -= 1\n",
    "                dic[i] += 1\n",
    "        \n",
    "    for i in dic:\n",
    "        if dic.get(i) > 0:\n",
    "            answer += 1\n",
    "    return answer\n",
    "print(solution(n, lost, reserve))"
   ]
  },
  {
   "cell_type": "code",
   "execution_count": null,
   "id": "45aa06ac-2939-43c1-8fa0-265b7c95806b",
   "metadata": {},
   "outputs": [],
   "source": []
  }
 ],
 "metadata": {
  "kernelspec": {
   "display_name": "Python 3 (ipykernel)",
   "language": "python",
   "name": "python3"
  },
  "language_info": {
   "codemirror_mode": {
    "name": "ipython",
    "version": 3
   },
   "file_extension": ".py",
   "mimetype": "text/x-python",
   "name": "python",
   "nbconvert_exporter": "python",
   "pygments_lexer": "ipython3",
   "version": "3.8.12"
  }
 },
 "nbformat": 4,
 "nbformat_minor": 5
}
