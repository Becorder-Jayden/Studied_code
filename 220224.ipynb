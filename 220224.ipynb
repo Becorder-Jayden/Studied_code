{
 "cells": [
  {
   "cell_type": "markdown",
   "id": "952d2b31-c622-4041-af63-0438f7eae995",
   "metadata": {},
   "source": [
    "# 2022.02.24"
   ]
  },
  {
   "cell_type": "code",
   "execution_count": 1,
   "id": "34f3627c-8008-435a-b088-7e67d25a3c8c",
   "metadata": {},
   "outputs": [],
   "source": [
    "# Gold V\n",
    "# 2110 공유기 설치"
   ]
  },
  {
   "cell_type": "code",
   "execution_count": 47,
   "id": "b05d1bb1-7a75-4921-a765-9f526f36025c",
   "metadata": {},
   "outputs": [
    {
     "name": "stdout",
     "output_type": "stream",
     "text": [
      "1 2\n"
     ]
    }
   ],
   "source": [
    "N, C = 5, 3\n",
    "li = [1, 2, 8, 4, 9]  # [1, 2, 4, 8, 9]\n",
    "li.sort()\n",
    "ans = []\n",
    "\n",
    "start = 0\n",
    "end = N-1\n",
    "\n",
    "C = C-2\n",
    "ans.append(li[start])\n",
    "ans.append(li[end])\n",
    "\n",
    "while C > 0:\n",
    "    mid = (start+end)//2\n",
    "    \n",
    "    if li[mid] == (li[start]+li[end])//2:\n",
    "        C = C - 1\n",
    "        print(end, li[end])\n",
    "        \n",
    "    elif li[mid] > (li[start]+li[end])//2:\n",
    "        start = mid + 1\n",
    "        \n",
    "    else:\n",
    "        end = mid - 1\n",
    "\n",
    "    "
   ]
  },
  {
   "cell_type": "code",
   "execution_count": 36,
   "id": "f813bdbd-2eef-4a6b-b77e-7ccdd160148b",
   "metadata": {},
   "outputs": [
    {
     "name": "stdout",
     "output_type": "stream",
     "text": [
      "[1, 9] 1 0 4 2\n"
     ]
    }
   ],
   "source": [
    "N, C = 5, 3\n",
    "li = [1, 2, 8, 4, 9]  # [1, 2, 4, 8, 9]\n",
    "# li = [100, 300, 20, 50, 90]\n",
    "li.sort() \n",
    "\n",
    "ans = []\n",
    "\n",
    "start = 0\n",
    "end = N-1\n",
    "ans.append(li[start])\n",
    "ans.append(li[end])\n",
    "C = C-2\n",
    "def bs(arr, C):\n",
    "    while C>0:\n",
    "        mid = (start+end)//2\n",
    "\n",
    "        if li[mid] == (li[start]+li[end])//2:\n",
    "            return li[mid]\n",
    "        elif li[mid] > (li[start]+li[end])//2:\n",
    "            start = mid + 1\n",
    "        else:\n",
    "            end = mid - 1\n",
    "            \n",
    "print(ans, C, mid, end, li[bs(li, 3)])"
   ]
  },
  {
   "cell_type": "markdown",
   "id": "2ba841b0-1b9e-4f69-8846-6198a9a45d3b",
   "metadata": {},
   "source": [
    "---"
   ]
  },
  {
   "cell_type": "code",
   "execution_count": 1,
   "id": "f8e73e63-7aa2-4506-85ae-4294916c0382",
   "metadata": {},
   "outputs": [],
   "source": [
    "# Silver II\n",
    "# 18111 마인크래프트"
   ]
  },
  {
   "cell_type": "code",
   "execution_count": 76,
   "id": "360f6922-8c76-47ba-9017-3dd66b7c1f36",
   "metadata": {},
   "outputs": [
    {
     "name": "stdout",
     "output_type": "stream",
     "text": [
      "필요시간 : 9\n",
      "필요블럭수 : 0\n",
      "필요시간 : 0\n",
      "필요블럭수 : 0\n",
      "필요시간 : 18\n",
      "필요블럭수 : 9\n",
      "[-2, -4, -6, -7, -8, -9, -9, -9, -9]\n"
     ]
    }
   ],
   "source": [
    "# N, M, B = 3, 4, 99\n",
    "# ground = [[0, 0, 0, 0], [0, 0, 0, 0], [0, 0, 0, 1]]\n",
    "# N, M, B = 3, 4, 1\n",
    "# ground = [[64, 64, 64, 64], [64, 64, 64, 64], [64, 64, 64, 63]]\n",
    "N, M, B = 3, 3, 99\n",
    "ground = [[1,2,3], [1,2,3], [1,2,3]]\n",
    "\n",
    "Max = max(max(ground))\n",
    "Min = min(min(ground))\n",
    "\n",
    "for i in range(Min, Max+1):\n",
    "    li = [[i] * M] * N\n",
    "    t = []\n",
    "    s = 0\n",
    "    for y in range(M):\n",
    "        for x in range(N):\n",
    "            s += ground[x][y]-li[x][y]\n",
    "            t.append(s)\n",
    "    if s >= 0:\n",
    "        print('필요시간 : ' + str(s))\n",
    "        print('필요블럭수 : ' + '0')\n",
    "    else:\n",
    "        print('필요시간 : ' + str(-2*s))\n",
    "        print('필요블럭수 : ' + str(-s))\n",
    "\n",
    "print(t)"
   ]
  },
  {
   "cell_type": "markdown",
   "id": "1726ee1c-4d8e-4d99-a46b-e536eb3806eb",
   "metadata": {},
   "source": [
    "---"
   ]
  },
  {
   "cell_type": "code",
   "execution_count": 77,
   "id": "f104d383-af1e-4e8f-9cfa-00260894bf29",
   "metadata": {},
   "outputs": [],
   "source": [
    "# Bronze I\n",
    "# 11050 이항 계수 1"
   ]
  },
  {
   "cell_type": "code",
   "execution_count": 80,
   "id": "e4abeb31-b8bb-42d1-91ca-5d7b14084a5e",
   "metadata": {},
   "outputs": [
    {
     "name": "stdout",
     "output_type": "stream",
     "text": [
      "10\n"
     ]
    }
   ],
   "source": [
    "import math\n",
    "\n",
    "N, K = map(int, input().split())\n",
    "\n",
    "print(math.factorial(N) // (math.factorial(K)*math.factorial(N-K)))"
   ]
  },
  {
   "cell_type": "markdown",
   "id": "217bdbff-427d-449e-b599-0ef800b4e2c9",
   "metadata": {},
   "source": [
    "---"
   ]
  },
  {
   "cell_type": "code",
   "execution_count": 81,
   "id": "ff96237c-d96b-425f-bc46-abc6ff055c7b",
   "metadata": {},
   "outputs": [],
   "source": [
    "# Silver IV\n",
    "# 1676 팩토리얼 0의 개수"
   ]
  },
  {
   "cell_type": "code",
   "execution_count": 90,
   "id": "dd1bde7f-2ac2-4826-abfb-8a056620b660",
   "metadata": {},
   "outputs": [
    {
     "name": "stdin",
     "output_type": "stream",
     "text": [
      " 3\n"
     ]
    },
    {
     "name": "stdout",
     "output_type": "stream",
     "text": [
      "0\n"
     ]
    }
   ],
   "source": [
    "import math\n",
    "\n",
    "N = int(input())\n",
    "cnt = 0\n",
    "f = math.factorial(N)\n",
    "\n",
    "for i in reversed(str(f)):\n",
    "    if i == '0':\n",
    "        cnt += 1\n",
    "    else:\n",
    "        break\n",
    "        \n",
    "print(cnt)"
   ]
  },
  {
   "cell_type": "markdown",
   "id": "4ef12269-7c55-4a96-a93f-123b6b9a462c",
   "metadata": {},
   "source": [
    "---"
   ]
  },
  {
   "cell_type": "code",
   "execution_count": 95,
   "id": "06805ed0-1204-48d6-a630-cc952aa66b46",
   "metadata": {},
   "outputs": [],
   "source": [
    "# Silver IV\n",
    "# 1764 듣보잡"
   ]
  },
  {
   "cell_type": "code",
   "execution_count": 120,
   "id": "242b0d5c-8cad-41c4-957d-b36fa42ab210",
   "metadata": {},
   "outputs": [
    {
     "ename": "KeyboardInterrupt",
     "evalue": "Interrupted by user",
     "output_type": "error",
     "traceback": [
      "\u001b[1;31m---------------------------------------------------------------------------\u001b[0m",
      "\u001b[1;31mKeyboardInterrupt\u001b[0m                         Traceback (most recent call last)",
      "\u001b[1;32m~\\AppData\\Local\\Temp/ipykernel_8676/3633949774.py\u001b[0m in \u001b[0;36m<module>\u001b[1;34m\u001b[0m\n\u001b[1;32m----> 1\u001b[1;33m \u001b[0mN\u001b[0m\u001b[1;33m,\u001b[0m \u001b[0mM\u001b[0m \u001b[1;33m=\u001b[0m \u001b[0mmap\u001b[0m\u001b[1;33m(\u001b[0m\u001b[0mint\u001b[0m\u001b[1;33m,\u001b[0m \u001b[0minput\u001b[0m\u001b[1;33m(\u001b[0m\u001b[1;33m)\u001b[0m\u001b[1;33m.\u001b[0m\u001b[0msplit\u001b[0m\u001b[1;33m(\u001b[0m\u001b[1;33m)\u001b[0m\u001b[1;33m)\u001b[0m\u001b[1;33m\u001b[0m\u001b[1;33m\u001b[0m\u001b[0m\n\u001b[0m\u001b[0;32m      2\u001b[0m \u001b[1;33m\u001b[0m\u001b[0m\n\u001b[0;32m      3\u001b[0m \u001b[0mdic\u001b[0m \u001b[1;33m=\u001b[0m \u001b[1;33m{\u001b[0m\u001b[1;33m}\u001b[0m\u001b[1;33m\u001b[0m\u001b[1;33m\u001b[0m\u001b[0m\n\u001b[0;32m      4\u001b[0m \u001b[1;32mfor\u001b[0m \u001b[0mi\u001b[0m \u001b[1;32min\u001b[0m \u001b[0mrange\u001b[0m\u001b[1;33m(\u001b[0m\u001b[0mN\u001b[0m\u001b[1;33m+\u001b[0m\u001b[0mM\u001b[0m\u001b[1;33m+\u001b[0m\u001b[1;36m1\u001b[0m\u001b[1;33m)\u001b[0m\u001b[1;33m:\u001b[0m\u001b[1;33m\u001b[0m\u001b[1;33m\u001b[0m\u001b[0m\n\u001b[0;32m      5\u001b[0m     \u001b[0mname\u001b[0m \u001b[1;33m=\u001b[0m \u001b[0minput\u001b[0m\u001b[1;33m(\u001b[0m\u001b[1;33m)\u001b[0m\u001b[1;33m\u001b[0m\u001b[1;33m\u001b[0m\u001b[0m\n",
      "\u001b[1;32m~\\anaconda3\\lib\\site-packages\\ipykernel\\kernelbase.py\u001b[0m in \u001b[0;36mraw_input\u001b[1;34m(self, prompt)\u001b[0m\n\u001b[0;32m   1004\u001b[0m                 \u001b[1;34m\"raw_input was called, but this frontend does not support input requests.\"\u001b[0m\u001b[1;33m\u001b[0m\u001b[1;33m\u001b[0m\u001b[0m\n\u001b[0;32m   1005\u001b[0m             )\n\u001b[1;32m-> 1006\u001b[1;33m         return self._input_request(\n\u001b[0m\u001b[0;32m   1007\u001b[0m             \u001b[0mstr\u001b[0m\u001b[1;33m(\u001b[0m\u001b[0mprompt\u001b[0m\u001b[1;33m)\u001b[0m\u001b[1;33m,\u001b[0m\u001b[1;33m\u001b[0m\u001b[1;33m\u001b[0m\u001b[0m\n\u001b[0;32m   1008\u001b[0m             \u001b[0mself\u001b[0m\u001b[1;33m.\u001b[0m\u001b[0m_parent_ident\u001b[0m\u001b[1;33m[\u001b[0m\u001b[1;34m\"shell\"\u001b[0m\u001b[1;33m]\u001b[0m\u001b[1;33m,\u001b[0m\u001b[1;33m\u001b[0m\u001b[1;33m\u001b[0m\u001b[0m\n",
      "\u001b[1;32m~\\anaconda3\\lib\\site-packages\\ipykernel\\kernelbase.py\u001b[0m in \u001b[0;36m_input_request\u001b[1;34m(self, prompt, ident, parent, password)\u001b[0m\n\u001b[0;32m   1049\u001b[0m             \u001b[1;32mexcept\u001b[0m \u001b[0mKeyboardInterrupt\u001b[0m\u001b[1;33m:\u001b[0m\u001b[1;33m\u001b[0m\u001b[1;33m\u001b[0m\u001b[0m\n\u001b[0;32m   1050\u001b[0m                 \u001b[1;31m# re-raise KeyboardInterrupt, to truncate traceback\u001b[0m\u001b[1;33m\u001b[0m\u001b[1;33m\u001b[0m\u001b[1;33m\u001b[0m\u001b[0m\n\u001b[1;32m-> 1051\u001b[1;33m                 \u001b[1;32mraise\u001b[0m \u001b[0mKeyboardInterrupt\u001b[0m\u001b[1;33m(\u001b[0m\u001b[1;34m\"Interrupted by user\"\u001b[0m\u001b[1;33m)\u001b[0m \u001b[1;32mfrom\u001b[0m \u001b[1;32mNone\u001b[0m\u001b[1;33m\u001b[0m\u001b[1;33m\u001b[0m\u001b[0m\n\u001b[0m\u001b[0;32m   1052\u001b[0m             \u001b[1;32mexcept\u001b[0m \u001b[0mException\u001b[0m\u001b[1;33m:\u001b[0m\u001b[1;33m\u001b[0m\u001b[1;33m\u001b[0m\u001b[0m\n\u001b[0;32m   1053\u001b[0m                 \u001b[0mself\u001b[0m\u001b[1;33m.\u001b[0m\u001b[0mlog\u001b[0m\u001b[1;33m.\u001b[0m\u001b[0mwarning\u001b[0m\u001b[1;33m(\u001b[0m\u001b[1;34m\"Invalid Message:\"\u001b[0m\u001b[1;33m,\u001b[0m \u001b[0mexc_info\u001b[0m\u001b[1;33m=\u001b[0m\u001b[1;32mTrue\u001b[0m\u001b[1;33m)\u001b[0m\u001b[1;33m\u001b[0m\u001b[1;33m\u001b[0m\u001b[0m\n",
      "\u001b[1;31mKeyboardInterrupt\u001b[0m: Interrupted by user"
     ]
    }
   ],
   "source": [
    "N, M = map(int, input().split())\n",
    "\n",
    "dic = {}\n",
    "for i in range(N+M+1):\n",
    "    name = input()\n",
    "    if name in dic:\n",
    "        dic[name] += 1\n",
    "    else:\n",
    "        dic[name] = 1\n",
    "\n",
    "li = []\n",
    "\n",
    "for k, v in dic.items():\n",
    "    if v >= 2:\n",
    "        li.append(k)\n",
    "\n",
    "li.sort()\n",
    "print(len(li))\n",
    "\n",
    "for i in li:\n",
    "    print(i)"
   ]
  },
  {
   "cell_type": "markdown",
   "id": "666b1d86-b1e7-45c3-9021-87f755091855",
   "metadata": {},
   "source": [
    "---"
   ]
  },
  {
   "cell_type": "code",
   "execution_count": 124,
   "id": "ca92d6ba-d46d-4d65-a10d-4d7515a5efc4",
   "metadata": {},
   "outputs": [],
   "source": [
    "# Silver IV\n",
    "# 17219 비밀번호 찾기"
   ]
  },
  {
   "cell_type": "code",
   "execution_count": 139,
   "id": "98babe9c-a655-46bb-b76b-db2faca2e079",
   "metadata": {},
   "outputs": [
    {
     "name": "stdin",
     "output_type": "stream",
     "text": [
      " 2 1\n",
      " sun 해\n",
      " moon 달\n",
      " moon\n"
     ]
    },
    {
     "name": "stdout",
     "output_type": "stream",
     "text": [
      "달\n"
     ]
    }
   ],
   "source": [
    "N, M = map(int, input().split())\n",
    "dic = {}\n",
    "\n",
    "for i in range(N):\n",
    "    link, password = input().split()\n",
    "    dic[link] = password\n",
    "\n",
    "for i in range(M):\n",
    "    order = input()\n",
    "    a\n",
    "    if order in dic:\n",
    "        print(dic.get(order))"
   ]
  },
  {
   "cell_type": "markdown",
   "id": "32e19c1d-24b1-4402-a25f-c672b652350f",
   "metadata": {},
   "source": [
    "---"
   ]
  },
  {
   "cell_type": "code",
   "execution_count": 140,
   "id": "5a037db6-cc38-4033-ade9-a60b746f9f39",
   "metadata": {},
   "outputs": [],
   "source": [
    "# Silver V\n",
    "# 11723 집합"
   ]
  },
  {
   "cell_type": "code",
   "execution_count": 162,
   "id": "936a5ccd-6c9f-4c5d-bcad-72af0c9097da",
   "metadata": {},
   "outputs": [
    {
     "name": "stdin",
     "output_type": "stream",
     "text": [
      " 26\n",
      " add 1\n",
      " add 2\n",
      " check 1\n"
     ]
    },
    {
     "name": "stdout",
     "output_type": "stream",
     "text": [
      "1\n"
     ]
    },
    {
     "name": "stdin",
     "output_type": "stream",
     "text": [
      " check 2\n"
     ]
    },
    {
     "name": "stdout",
     "output_type": "stream",
     "text": [
      "1\n"
     ]
    },
    {
     "name": "stdin",
     "output_type": "stream",
     "text": [
      " check 3\n"
     ]
    },
    {
     "name": "stdout",
     "output_type": "stream",
     "text": [
      "0\n"
     ]
    },
    {
     "name": "stdin",
     "output_type": "stream",
     "text": [
      " remove 2\n",
      " check 1\n"
     ]
    },
    {
     "name": "stdout",
     "output_type": "stream",
     "text": [
      "1\n"
     ]
    },
    {
     "name": "stdin",
     "output_type": "stream",
     "text": [
      " check 2\n"
     ]
    },
    {
     "name": "stdout",
     "output_type": "stream",
     "text": [
      "0\n"
     ]
    },
    {
     "name": "stdin",
     "output_type": "stream",
     "text": [
      " toggle 3\n",
      " check 1\n"
     ]
    },
    {
     "name": "stdout",
     "output_type": "stream",
     "text": [
      "1\n"
     ]
    },
    {
     "name": "stdin",
     "output_type": "stream",
     "text": [
      " check 2\n"
     ]
    },
    {
     "name": "stdout",
     "output_type": "stream",
     "text": [
      "0\n"
     ]
    },
    {
     "name": "stdin",
     "output_type": "stream",
     "text": [
      " check 3\n"
     ]
    },
    {
     "name": "stdout",
     "output_type": "stream",
     "text": [
      "1\n"
     ]
    },
    {
     "name": "stdin",
     "output_type": "stream",
     "text": [
      " check 4\n"
     ]
    },
    {
     "name": "stdout",
     "output_type": "stream",
     "text": [
      "0\n"
     ]
    },
    {
     "name": "stdin",
     "output_type": "stream",
     "text": [
      " all\n",
      " check 10\n"
     ]
    },
    {
     "name": "stdout",
     "output_type": "stream",
     "text": [
      "1\n"
     ]
    },
    {
     "name": "stdin",
     "output_type": "stream",
     "text": [
      " check 20\n"
     ]
    },
    {
     "name": "stdout",
     "output_type": "stream",
     "text": [
      "1\n"
     ]
    },
    {
     "name": "stdin",
     "output_type": "stream",
     "text": [
      " toggle 10\n",
      " remove 20\n",
      " check 10\n"
     ]
    },
    {
     "name": "stdout",
     "output_type": "stream",
     "text": [
      "0\n"
     ]
    },
    {
     "name": "stdin",
     "output_type": "stream",
     "text": [
      " check 20\n"
     ]
    },
    {
     "name": "stdout",
     "output_type": "stream",
     "text": [
      "0\n"
     ]
    },
    {
     "name": "stdin",
     "output_type": "stream",
     "text": [
      " empty\n",
      " check 1\n"
     ]
    },
    {
     "name": "stdout",
     "output_type": "stream",
     "text": [
      "0\n"
     ]
    },
    {
     "name": "stdin",
     "output_type": "stream",
     "text": [
      " toggle 1\n",
      " check 1\n"
     ]
    },
    {
     "name": "stdout",
     "output_type": "stream",
     "text": [
      "1\n"
     ]
    },
    {
     "name": "stdin",
     "output_type": "stream",
     "text": [
      " toggle 1\n",
      " check 1\n"
     ]
    },
    {
     "name": "stdout",
     "output_type": "stream",
     "text": [
      "0\n"
     ]
    }
   ],
   "source": [
    "M = int(input())\n",
    "S = [0] * 21\n",
    "\n",
    "for i in range(M):\n",
    "    order = input().split()\n",
    "    if order[0] == 'add':\n",
    "        if S[int(order[1])] == 0:\n",
    "            S[int(order[1])] = 1\n",
    "    elif order[0] == 'remove':\n",
    "        if S[int(order[1])] == 1:\n",
    "            S[int(order[1])] = 0\n",
    "    elif order[0] == 'check':\n",
    "        if S[int(order[1])] == 1:\n",
    "            print(1)\n",
    "        else:\n",
    "            print(0)\n",
    "    elif order[0] == 'toggle':\n",
    "        if S[int(order[1])] == 1:\n",
    "            S[int(order[1])] = 0\n",
    "        else:\n",
    "            S[int(order[1])] = 1\n",
    "    elif order[0] == 'all':\n",
    "        S = [1] * 21\n",
    "    elif order[0] == 'empty':\n",
    "        S = [0] * 21"
   ]
  },
  {
   "cell_type": "code",
   "execution_count": 160,
   "id": "972b82e1-12e4-436d-a55b-e43d26615372",
   "metadata": {},
   "outputs": [
    {
     "ename": "ValueError",
     "evalue": "invalid literal for int() with base 10: ''",
     "output_type": "error",
     "traceback": [
      "\u001b[1;31m---------------------------------------------------------------------------\u001b[0m",
      "\u001b[1;31mValueError\u001b[0m                                Traceback (most recent call last)",
      "\u001b[1;32m~\\AppData\\Local\\Temp/ipykernel_8676/1263474964.py\u001b[0m in \u001b[0;36m<module>\u001b[1;34m\u001b[0m\n\u001b[0;32m      1\u001b[0m \u001b[1;32mimport\u001b[0m \u001b[0msys\u001b[0m\u001b[1;33m\u001b[0m\u001b[1;33m\u001b[0m\u001b[0m\n\u001b[1;32m----> 2\u001b[1;33m \u001b[0mM\u001b[0m \u001b[1;33m=\u001b[0m \u001b[0mint\u001b[0m\u001b[1;33m(\u001b[0m\u001b[0msys\u001b[0m\u001b[1;33m.\u001b[0m\u001b[0mstdin\u001b[0m\u001b[1;33m.\u001b[0m\u001b[0mreadline\u001b[0m\u001b[1;33m(\u001b[0m\u001b[1;33m)\u001b[0m\u001b[1;33m)\u001b[0m\u001b[1;33m\u001b[0m\u001b[1;33m\u001b[0m\u001b[0m\n\u001b[0m\u001b[0;32m      3\u001b[0m \u001b[0mS\u001b[0m \u001b[1;33m=\u001b[0m \u001b[1;33m[\u001b[0m\u001b[1;36m0\u001b[0m\u001b[1;33m]\u001b[0m \u001b[1;33m*\u001b[0m \u001b[1;36m21\u001b[0m\u001b[1;33m\u001b[0m\u001b[1;33m\u001b[0m\u001b[0m\n\u001b[0;32m      4\u001b[0m \u001b[1;33m\u001b[0m\u001b[0m\n\u001b[0;32m      5\u001b[0m \u001b[1;32mfor\u001b[0m \u001b[0mi\u001b[0m \u001b[1;32min\u001b[0m \u001b[0mrange\u001b[0m\u001b[1;33m(\u001b[0m\u001b[0mM\u001b[0m\u001b[1;33m)\u001b[0m\u001b[1;33m:\u001b[0m\u001b[1;33m\u001b[0m\u001b[1;33m\u001b[0m\u001b[0m\n",
      "\u001b[1;31mValueError\u001b[0m: invalid literal for int() with base 10: ''"
     ]
    }
   ],
   "source": [
    "import sys\n",
    "M = int(sys.stdin.readline())\n",
    "S = [0] * 21\n",
    "\n",
    "for i in range(M):\n",
    "    order = sys.stdin.readline().split()\n",
    "    if order[0] == 'add':\n",
    "        if S[int(order[1])] == 0:\n",
    "            S[int(order[1])] = 1\n",
    "    elif order[0] == 'remove':\n",
    "        if S[int(order[1])] == 1:\n",
    "            S[int(order[1])] = 0\n",
    "    elif order[0] == 'check':\n",
    "        if S[int(order[1])] == 1:\n",
    "            print(1)\n",
    "        else:\n",
    "            print(0)\n",
    "    elif order[0] == 'toggle':\n",
    "        if S[int(order[1])] == 1:\n",
    "            S[int(order[1])] = 0\n",
    "        else:\n",
    "            S[int(order[1])] = 1\n",
    "    elif order[0] == 'all':\n",
    "        S = [1 for i in range(21)]\n",
    "    elif order[0] == 'empty':\n",
    "        S = [0] * 21"
   ]
  },
  {
   "cell_type": "markdown",
   "id": "b8e586aa-73ec-4e31-980d-e444ba19d4de",
   "metadata": {},
   "source": [
    "---"
   ]
  },
  {
   "cell_type": "code",
   "execution_count": 163,
   "id": "a09f54bc-dfb0-450c-a91a-a6c8d35b73ad",
   "metadata": {},
   "outputs": [],
   "source": [
    "# Silver IV\n",
    "# 1620 나는야 포켓몬 마스터 이다솜"
   ]
  },
  {
   "cell_type": "code",
   "execution_count": 190,
   "id": "704f611b-e0ed-4369-b752-4e31f6e4368e",
   "metadata": {},
   "outputs": [
    {
     "name": "stdin",
     "output_type": "stream",
     "text": [
      " 1\n"
     ]
    },
    {
     "ename": "KeyError",
     "evalue": "0",
     "output_type": "error",
     "traceback": [
      "\u001b[1;31m---------------------------------------------------------------------------\u001b[0m",
      "\u001b[1;31mKeyError\u001b[0m                                  Traceback (most recent call last)",
      "\u001b[1;32m~\\AppData\\Local\\Temp/ipykernel_8676/3149869034.py\u001b[0m in \u001b[0;36m<module>\u001b[1;34m\u001b[0m\n\u001b[0;32m     11\u001b[0m \u001b[1;33m\u001b[0m\u001b[0m\n\u001b[0;32m     12\u001b[0m     \u001b[1;32mif\u001b[0m \u001b[0mquiz\u001b[0m\u001b[1;33m.\u001b[0m\u001b[0misdigit\u001b[0m\u001b[1;33m(\u001b[0m\u001b[1;33m)\u001b[0m\u001b[1;33m:\u001b[0m\u001b[1;33m\u001b[0m\u001b[1;33m\u001b[0m\u001b[0m\n\u001b[1;32m---> 13\u001b[1;33m         \u001b[0mprint\u001b[0m\u001b[1;33m(\u001b[0m\u001b[0mdic\u001b[0m\u001b[1;33m[\u001b[0m\u001b[0mint\u001b[0m\u001b[1;33m(\u001b[0m\u001b[0mquiz\u001b[0m\u001b[1;33m)\u001b[0m\u001b[1;33m-\u001b[0m\u001b[1;36m1\u001b[0m\u001b[1;33m]\u001b[0m\u001b[1;33m)\u001b[0m\u001b[1;33m\u001b[0m\u001b[1;33m\u001b[0m\u001b[0m\n\u001b[0m\u001b[0;32m     14\u001b[0m \u001b[1;33m\u001b[0m\u001b[0m\n\u001b[0;32m     15\u001b[0m     \u001b[1;32melse\u001b[0m\u001b[1;33m:\u001b[0m\u001b[1;33m\u001b[0m\u001b[1;33m\u001b[0m\u001b[0m\n",
      "\u001b[1;31mKeyError\u001b[0m: 0"
     ]
    }
   ],
   "source": [
    "N, M = 26, 5\n",
    "# dic = {'Bulbasaur','Ivysaur','Venusaur','Charmander','Charmeleon','Charizard','Squirtle','Wartortle','Blastoise','Caterpie','Metapod','Butterfree','Weedle','Kakuna','Beedrill','Pidgey','Pidgeotto','Pidgeot','Rattata','Raticate','Spearow','Fearow','Ekans','Arbok','Pikachu','Raichu'}\n",
    "# N, M = map(int, input())\n",
    "# dic = {}\n",
    "# for i in range(N):\n",
    "    # dic[i] = input()\n",
    "\n",
    "\n",
    "for i in range(M):\n",
    "    quiz = input()\n",
    "    \n",
    "    if quiz.isdigit():\n",
    "        print(dic[int(quiz)-1])\n",
    "    \n",
    "    else:\n",
    "        print(li.index(quiz)+1)"
   ]
  },
  {
   "cell_type": "markdown",
   "id": "fc764891-9b9c-4c28-bd06-cec108a96272",
   "metadata": {},
   "source": [
    "---"
   ]
  },
  {
   "cell_type": "code",
   "execution_count": 191,
   "id": "3c751000-f514-4e03-b7f2-23dcdc041428",
   "metadata": {},
   "outputs": [],
   "source": [
    "# Silver II\n",
    "# 18870 좌표 압축"
   ]
  },
  {
   "cell_type": "code",
   "execution_count": 201,
   "id": "92e39811-17d9-4526-a7a2-3a6091ddfd63",
   "metadata": {},
   "outputs": [
    {
     "name": "stdout",
     "output_type": "stream",
     "text": [
      "[3, 0, 3, 0, 3, 0]\n"
     ]
    }
   ],
   "source": [
    "# N = int(input())\n",
    "# li = list(map(int, input().split()))\n",
    "\n",
    "N = 6\n",
    "li = [2, 1, 2, 1, 2, 1]\n",
    "li2 = [0] * N\n",
    "\n",
    "for i in range(N):\n",
    "    cnt = 0\n",
    "    for j in range(N):\n",
    "        if li[i] > li[j]:\n",
    "            cnt += 1\n",
    "    li2[i] = cnt\n",
    "\n",
    "print(li2)"
   ]
  },
  {
   "cell_type": "code",
   "execution_count": 204,
   "id": "e5acb0fa-6a88-4e11-ad41-1e5f8f36daff",
   "metadata": {},
   "outputs": [
    {
     "data": {
      "text/plain": [
       "[2, 1, 2, 1, 2, 1]"
      ]
     },
     "execution_count": 204,
     "metadata": {},
     "output_type": "execute_result"
    }
   ],
   "source": [
    "li = [2, 1, 2, 1, 2, 1]\n",
    "set(li)\n",
    "li"
   ]
  }
 ],
 "metadata": {
  "kernelspec": {
   "display_name": "Python 3 (ipykernel)",
   "language": "python",
   "name": "python3"
  },
  "language_info": {
   "codemirror_mode": {
    "name": "ipython",
    "version": 3
   },
   "file_extension": ".py",
   "mimetype": "text/x-python",
   "name": "python",
   "nbconvert_exporter": "python",
   "pygments_lexer": "ipython3",
   "version": "3.8.12"
  }
 },
 "nbformat": 4,
 "nbformat_minor": 5
}
