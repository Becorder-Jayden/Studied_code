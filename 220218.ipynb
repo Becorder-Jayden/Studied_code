{
 "cells": [
  {
   "cell_type": "markdown",
   "id": "8ed6e6c3-b996-4469-b3f3-20b025a438f2",
   "metadata": {},
   "source": [
    "# 2022.02.18"
   ]
  },
  {
   "cell_type": "code",
   "execution_count": 2,
   "id": "d4079484-db04-4a75-bc5d-79127e599f1a",
   "metadata": {},
   "outputs": [],
   "source": [
    "# Silver V\n",
    "# 2941 크로아티아 알파벳"
   ]
  },
  {
   "cell_type": "code",
   "execution_count": 25,
   "id": "5b6222df-9af4-467f-bc1e-c17339a1b916",
   "metadata": {},
   "outputs": [
    {
     "name": "stdin",
     "output_type": "stream",
     "text": [
      " ljes=njak\n"
     ]
    },
    {
     "name": "stdout",
     "output_type": "stream",
     "text": [
      "ceccak\n",
      "6\n"
     ]
    }
   ],
   "source": [
    "text = input()\n",
    "c = ['c=', 'c-', 'dz=', 'd-', 'lj', 'nj', 's=', 'z=']\n",
    "\n",
    "for i in c:\n",
    "    text = text.replace(i, 'c')\n",
    "\n",
    "print(len(text))"
   ]
  },
  {
   "cell_type": "markdown",
   "id": "ea6d17a1-d903-4420-b9aa-258d52f95bcc",
   "metadata": {},
   "source": [
    "---"
   ]
  },
  {
   "cell_type": "code",
   "execution_count": 26,
   "id": "ea5139aa-fb08-4b8d-9537-9cdb66cbff19",
   "metadata": {},
   "outputs": [],
   "source": [
    "# Silver IV\n",
    "# 숫자 카드 2_이분탐색"
   ]
  },
  {
   "cell_type": "code",
   "execution_count": 40,
   "id": "839d5dc0-4eb1-48fe-a2a9-0a2c21fa9a0c",
   "metadata": {},
   "outputs": [
    {
     "name": "stdout",
     "output_type": "stream",
     "text": [
      "[6, 3, 2, 10, 10, 10, -10, -10, 7, 3]\n",
      "[10, 9, -5, 2, 3, 4, 5, -10]\n",
      "[3, 0, 0, 1, 2, 0, 0, 2]\n"
     ]
    }
   ],
   "source": [
    "# N = int(input())\n",
    "# card = list(map(int, input().split()))\n",
    "# M = int(input())\n",
    "# has = list(map(int, input().split()))\n",
    "# li = [0 for i in range(M)]\n",
    "\n",
    "N = 10\n",
    "card = [6, 3, 2, 10, 10, 10, -10, -10, 7, 3]\n",
    "M = 8\n",
    "has = [10, 9, -5, 2, 3, 4, 5, -10]\n",
    "li = [0 for i in range(M)]\n",
    "\n",
    "\n",
    "for i in range(M):\n",
    "    for j in card:\n",
    "        if has[i] == j:\n",
    "            li[i] += 1\n",
    "\n",
    "print(card)\n",
    "print(has)\n",
    "print(li)"
   ]
  },
  {
   "cell_type": "markdown",
   "id": "4e24a175-8ad5-445c-a40c-374e7f9c6906",
   "metadata": {},
   "source": [
    "---"
   ]
  },
  {
   "cell_type": "code",
   "execution_count": 41,
   "id": "6fb7c0bf-3819-4bf9-8bfa-44038677b8fc",
   "metadata": {},
   "outputs": [],
   "source": [
    "# Silver II\n",
    "# 1929 소수 구하기"
   ]
  },
  {
   "cell_type": "code",
   "execution_count": 61,
   "id": "dbf7e249-3291-49ff-be10-d463cd621aa6",
   "metadata": {},
   "outputs": [
    {
     "name": "stdin",
     "output_type": "stream",
     "text": [
      " 3 16\n"
     ]
    },
    {
     "name": "stdout",
     "output_type": "stream",
     "text": [
      "3\n",
      "5\n",
      "7\n",
      "11\n",
      "13\n"
     ]
    }
   ],
   "source": [
    "M, N = map(int, input().split())\n",
    "li = []\n",
    "for i in range(M, N+1):\n",
    "    check = True\n",
    "    for j in range(2, int(i**0.5)+1):\n",
    "        if i%j == 0:\n",
    "            check = False\n",
    "    if check:\n",
    "        li.append(i)\n",
    "\n",
    "for i in li:\n",
    "    print(i)"
   ]
  },
  {
   "cell_type": "code",
   "execution_count": 72,
   "id": "fa33a1aa-e607-4e3e-97c2-fb05173dc50d",
   "metadata": {},
   "outputs": [
    {
     "name": "stdin",
     "output_type": "stream",
     "text": [
      " 3 16\n"
     ]
    },
    {
     "data": {
      "text/plain": [
       "[0, 0, -1, 0, 0, 0, 0, 0, 0, 0, 0, 0, 0, 0, 0, 0]"
      ]
     },
     "execution_count": 72,
     "metadata": {},
     "output_type": "execute_result"
    }
   ],
   "source": [
    "M, N = map(int, input().split())\n",
    "li = []\n",
    "check = [0 for i in range(N)]\n",
    "check[2] = 1\n",
    "for i in range(2, M):\n",
    "    if i%2 == 0:\n",
    "        check[i] = -1\n",
    "check"
   ]
  },
  {
   "cell_type": "code",
   "execution_count": null,
   "id": "e2c6ece6-680a-4db8-97e8-8dfa5d1144ac",
   "metadata": {},
   "outputs": [],
   "source": []
  }
 ],
 "metadata": {
  "kernelspec": {
   "display_name": "Python 3 (ipykernel)",
   "language": "python",
   "name": "python3"
  },
  "language_info": {
   "codemirror_mode": {
    "name": "ipython",
    "version": 3
   },
   "file_extension": ".py",
   "mimetype": "text/x-python",
   "name": "python",
   "nbconvert_exporter": "python",
   "pygments_lexer": "ipython3",
   "version": "3.8.12"
  }
 },
 "nbformat": 4,
 "nbformat_minor": 5
}
