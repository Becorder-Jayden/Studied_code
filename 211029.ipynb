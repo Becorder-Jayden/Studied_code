{
 "cells": [
  {
   "cell_type": "markdown",
   "id": "f6dc73d1-f340-4c84-bd41-3994fbe58b4e",
   "metadata": {},
   "source": [
    "# 2021.10.29"
   ]
  },
  {
   "cell_type": "code",
   "execution_count": null,
   "id": "c26ee1bc-bc79-4779-9a68-406fc9630226",
   "metadata": {},
   "outputs": [],
   "source": [
    "# Silver V\n",
    "# 7785 회사에 있는 사람\n",
    "\n",
    "n = int(input())\n",
    "com = []\n",
    "\n",
    "for i in range(n):\n",
    "    a, b  = input().split()\n",
    "    if b == 'enter':\n",
    "        com.append(a)\n",
    "    elif b == 'leave':\n",
    "        com.remove(a)\n",
    "\n",
    "com = sorted(com, reverse=True)\n",
    "for i in com:\n",
    "    print(i)\n",
    "\n",
    "# 시간 초과 PyPy3로 채점하면 정답"
   ]
  },
  {
   "cell_type": "code",
   "execution_count": 34,
   "id": "d3f5dac9-e02e-495f-9fc9-1a5083cf3709",
   "metadata": {},
   "outputs": [],
   "source": [
    "# 시간 초과 문제를 개선할 방법을 연구해보자\n",
    "import sys\n",
    "\n",
    "n = int(sys.stdin.readline())\n",
    "com = []\n",
    "for i in range(n):\n",
    "    a, b  = sys.stdin.readline().split()\n",
    "    if b == 'enter':\n",
    "        com.append(a)\n",
    "    elif b == 'leave':\n",
    "        com.remove(a)\n",
    "\n",
    "com = sorted(com, reverse=True)\n",
    "for i in com:\n",
    "    print(i)"
   ]
  },
  {
   "cell_type": "markdown",
   "id": "775ecca1-3b63-4f3d-8133-4c6693d9b818",
   "metadata": {},
   "source": [
    "---"
   ]
  },
  {
   "cell_type": "code",
   "execution_count": 106,
   "id": "1c283e54-15b6-439d-97b3-ade5f3eadee3",
   "metadata": {
    "jupyter": {
     "source_hidden": true
    },
    "tags": []
   },
   "outputs": [
    {
     "name": "stdin",
     "output_type": "stream",
     "text": [
      " A1\n",
      " C2\n",
      " E3\n",
      " F5\n",
      " D4\n",
      " B3\n",
      " A1\n",
      " C2\n",
      " E3\n",
      " F5\n",
      " D4\n",
      " B3\n",
      " A1\n",
      " C2\n",
      " E3\n",
      " F5\n",
      " D4\n",
      " B3\n",
      " A1\n",
      " C\n"
     ]
    },
    {
     "ename": "IndexError",
     "evalue": "string index out of range",
     "output_type": "error",
     "traceback": [
      "\u001b[1;31m---------------------------------------------------------------------------\u001b[0m",
      "\u001b[1;31mIndexError\u001b[0m                                Traceback (most recent call last)",
      "\u001b[1;32m~\\AppData\\Local\\Temp/ipykernel_24744/1785830384.py\u001b[0m in \u001b[0;36m<module>\u001b[1;34m\u001b[0m\n\u001b[0;32m     17\u001b[0m \u001b[1;32mfor\u001b[0m \u001b[0mi\u001b[0m \u001b[1;32min\u001b[0m \u001b[0mrange\u001b[0m\u001b[1;33m(\u001b[0m\u001b[1;36m36\u001b[0m\u001b[1;33m)\u001b[0m\u001b[1;33m:\u001b[0m\u001b[1;33m\u001b[0m\u001b[1;33m\u001b[0m\u001b[0m\n\u001b[0;32m     18\u001b[0m     \u001b[0mT\u001b[0m \u001b[1;33m=\u001b[0m \u001b[0minput\u001b[0m\u001b[1;33m(\u001b[0m\u001b[1;33m)\u001b[0m\u001b[1;33m\u001b[0m\u001b[1;33m\u001b[0m\u001b[0m\n\u001b[1;32m---> 19\u001b[1;33m     \u001b[0ma\u001b[0m\u001b[1;33m,\u001b[0m \u001b[0mb\u001b[0m \u001b[1;33m=\u001b[0m \u001b[0mT\u001b[0m\u001b[1;33m[\u001b[0m\u001b[1;36m0\u001b[0m\u001b[1;33m]\u001b[0m\u001b[1;33m,\u001b[0m \u001b[0mT\u001b[0m\u001b[1;33m[\u001b[0m\u001b[1;36m1\u001b[0m\u001b[1;33m]\u001b[0m\u001b[1;33m\u001b[0m\u001b[1;33m\u001b[0m\u001b[0m\n\u001b[0m\u001b[0;32m     20\u001b[0m     \u001b[0mmat\u001b[0m\u001b[1;33m[\u001b[0m\u001b[0mrow\u001b[0m\u001b[1;33m.\u001b[0m\u001b[0mindex\u001b[0m\u001b[1;33m(\u001b[0m\u001b[0mb\u001b[0m\u001b[1;33m)\u001b[0m\u001b[1;33m]\u001b[0m\u001b[1;33m[\u001b[0m\u001b[0mcol\u001b[0m\u001b[1;33m.\u001b[0m\u001b[0mindex\u001b[0m\u001b[1;33m(\u001b[0m\u001b[0ma\u001b[0m\u001b[1;33m)\u001b[0m\u001b[1;33m]\u001b[0m \u001b[1;33m=\u001b[0m \u001b[0mnum\u001b[0m\u001b[1;33m\u001b[0m\u001b[1;33m\u001b[0m\u001b[0m\n\u001b[0;32m     21\u001b[0m     \u001b[0mnum\u001b[0m \u001b[1;33m+=\u001b[0m \u001b[1;36m1\u001b[0m\u001b[1;33m\u001b[0m\u001b[1;33m\u001b[0m\u001b[0m\n",
      "\u001b[1;31mIndexError\u001b[0m: string index out of range"
     ]
    }
   ],
   "source": [
    "# Siver V\n",
    "# 1331 나이트 투어\n",
    "\n",
    "\n",
    "mat = []\n",
    "\n",
    "for i in range(6):\n",
    "    line = []\n",
    "    for j in range(6):\n",
    "        line.append(0)\n",
    "    mat.append(line)\n",
    "\n",
    "row = ['6', '5', '4', '3', '2', '1']\n",
    "col = ['A', 'B', 'C', 'D', 'E', 'F']\n",
    "num = 1\n",
    "\n",
    "for i in range(36):\n",
    "    T = input()\n",
    "    a, b = T[0], T[1]\n",
    "    mat[row.index(b)][col.index(a)] = num\n",
    "    num += 1\n",
    "\n",
    "# 예제 2\n",
    "for i in range(6):\n",
    "    try:\n",
    "        line.index(0)\n",
    "        print('invalid')\n",
    "    except:\n",
    "        print('valid')"
   ]
  },
  {
   "cell_type": "code",
   "execution_count": 99,
   "id": "2743a87f-ff4f-4dc5-9734-b94a10708f75",
   "metadata": {},
   "outputs": [
    {
     "name": "stdin",
     "output_type": "stream",
     "text": [
      " D4\n",
      " F5\n",
      " D6\n",
      " B5\n",
      " A3\n",
      " B1\n",
      " D2\n",
      " F1\n",
      " E3\n",
      " D1\n",
      " F2\n",
      " E4\n",
      " F6\n",
      " D5\n",
      " B6\n",
      " A4\n",
      " B2\n",
      " C4\n",
      " A5\n",
      " C6\n",
      " E5\n",
      " F3\n",
      " E1\n",
      " C2\n",
      " A1\n",
      " B3\n",
      " C5\n",
      " E6\n",
      " F4\n",
      " E2\n",
      " C3\n",
      " A2\n",
      " C1\n",
      " D3\n",
      " B4\n",
      " A6\n"
     ]
    },
    {
     "data": {
      "text/plain": [
       "[[36, 15, 20, 3, 28, 13],\n",
       " [19, 4, 27, 14, 21, 2],\n",
       " [16, 35, 18, 1, 12, 29],\n",
       " [5, 26, 31, 34, 9, 22],\n",
       " [32, 17, 24, 7, 30, 11],\n",
       " [25, 6, 33, 10, 23, 8]]"
      ]
     },
     "execution_count": 99,
     "metadata": {},
     "output_type": "execute_result"
    }
   ],
   "source": [
    "# Siver V\n",
    "# 1331 나이트 투어\n",
    "\n",
    "\n",
    "mat = []\n",
    "\n",
    "for i in range(6):\n",
    "    line = []\n",
    "    for j in range(6):\n",
    "        line.append(0)\n",
    "    mat.append(line)\n",
    "\n",
    "row = ['6', '5', '4', '3', '2', '1']\n",
    "col = ['A', 'B', 'C', 'D', 'E', 'F']\n",
    "num = 1\n",
    "\n",
    "for i in range(36):\n",
    "    T = input()\n",
    "    a, b = T[0], T[1]\n",
    "    mat[row.index(b)][col.index(a)] = num\n",
    "    num += 1\n",
    "mat\n",
    "\n",
    "# 예제 3\n",
    "# 행렬에 모두 값이 채워졌으나 1번과 36번의 거리조건으로 실패"
   ]
  },
  {
   "cell_type": "code",
   "execution_count": null,
   "id": "5fa5d805-5d88-448b-8af3-71759f302bc2",
   "metadata": {},
   "outputs": [],
   "source": [
    "# Siver V\n",
    "# 1331 나이트 투어\n",
    "\n",
    "\n",
    "mat = []\n",
    "\n",
    "for i in range(6):\n",
    "    line = []\n",
    "    for j in range(6):\n",
    "        line.append(0)\n",
    "    mat.append(line)\n",
    "\n",
    "row = ['6', '5', '4', '3', '2', '1']\n",
    "col = ['A', 'B', 'C', 'D', 'E', 'F']\n",
    "num = 1\n",
    "\n",
    "for i in range(36):\n",
    "    T = input()\n",
    "    a, b = T[0], T[1]\n",
    "    mat[row.index(b)][col.index(a)] = num\n",
    "    num += 1\n",
    "mat\n",
    "\n",
    "# 예제 3\n",
    "# 행렬에 모두 값이 채워졌으나 1번과 36번의 거리조건으로 실패"
   ]
  },
  {
   "cell_type": "code",
   "execution_count": 103,
   "id": "6ccd18b0-a06a-4d26-9242-755e9d07ea23",
   "metadata": {},
   "outputs": [
    {
     "name": "stdout",
     "output_type": "stream",
     "text": [
      "invalid\n"
     ]
    }
   ],
   "source": [
    "lis = [0, 1, 2, 3]\n",
    "try:\n",
    "    lis.index(0)\n",
    "    print('invalid')\n",
    "except:\n",
    "    print('valid')"
   ]
  },
  {
   "cell_type": "code",
   "execution_count": 154,
   "id": "1c1479c7-66b5-4a10-b037-11898d93681e",
   "metadata": {},
   "outputs": [
    {
     "data": {
      "text/plain": [
       "'\\nA1\\nB3\\nA5\\nC6\\nE5\\nF3\\nD2\\nF1\\nE3\\nF5\\nD4\\nB5\\nA3\\nB1\\nC3\\nA2\\nC1\\nE2\\nF4\\nE6\\nC5\\nA6\\nB4\\nD5\\nF6\\nE4\\nD6\\nC4\\nB6\\nA4\\nB2\\nD1\\nF2\\nD3\\nE1\\nC2\\n'"
      ]
     },
     "execution_count": 154,
     "metadata": {},
     "output_type": "execute_result"
    }
   ],
   "source": [
    "df = '''\n",
    "A1\n",
    "B3\n",
    "A5\n",
    "C6\n",
    "E5\n",
    "F3\n",
    "D2\n",
    "F1\n",
    "E3\n",
    "F5\n",
    "D4\n",
    "B5\n",
    "A3\n",
    "B1\n",
    "C3\n",
    "A2\n",
    "C1\n",
    "E2\n",
    "F4\n",
    "E6\n",
    "C5\n",
    "A6\n",
    "B4\n",
    "D5\n",
    "F6\n",
    "E4\n",
    "D6\n",
    "C4\n",
    "B6\n",
    "A4\n",
    "B2\n",
    "D1\n",
    "F2\n",
    "D3\n",
    "E1\n",
    "C2\n",
    "'''\n",
    "df"
   ]
  },
  {
   "cell_type": "code",
   "execution_count": 155,
   "id": "1f0838d5-a693-42a6-9473-f9d6cbba0297",
   "metadata": {},
   "outputs": [
    {
     "data": {
      "text/plain": [
       "',A1,B3,A5,C6,E5,F3,D2,F1,E3,F5,D4,B5,A3,B1,C3,A2,C1,E2,F4,E6,C5,A6,B4,D5,F6,E4,D6,C4,B6,A4,B2,D1,F2,D3,E1,C2,'"
      ]
     },
     "execution_count": 155,
     "metadata": {},
     "output_type": "execute_result"
    }
   ],
   "source": [
    "df = df.replace('\\n',\",\").lstrip()\n",
    "df"
   ]
  },
  {
   "cell_type": "code",
   "execution_count": null,
   "id": "22fbcddd-f600-403c-bf4e-a2f241f91edb",
   "metadata": {},
   "outputs": [],
   "source": []
  }
 ],
 "metadata": {
  "kernelspec": {
   "display_name": "Python 3 (ipykernel)",
   "language": "python",
   "name": "python3"
  },
  "language_info": {
   "codemirror_mode": {
    "name": "ipython",
    "version": 3
   },
   "file_extension": ".py",
   "mimetype": "text/x-python",
   "name": "python",
   "nbconvert_exporter": "python",
   "pygments_lexer": "ipython3",
   "version": "3.8.12"
  }
 },
 "nbformat": 4,
 "nbformat_minor": 5
}
