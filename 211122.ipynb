{
 "cells": [
  {
   "cell_type": "markdown",
   "id": "2f3547cf-69bf-4012-8e8b-005f1fb1ac55",
   "metadata": {},
   "source": [
    "# 2021.11.22"
   ]
  },
  {
   "cell_type": "code",
   "execution_count": 1,
   "id": "b5c2dec8-d17f-47dc-b37a-21438c28fc5d",
   "metadata": {},
   "outputs": [],
   "source": [
    "# Bronze II\n",
    "# 피보나치 수 5"
   ]
  },
  {
   "cell_type": "code",
   "execution_count": 30,
   "id": "93719356-1e3f-4702-81b5-fa1f859d4e46",
   "metadata": {},
   "outputs": [
    {
     "name": "stdin",
     "output_type": "stream",
     "text": [
      " 10\n"
     ]
    },
    {
     "name": "stdout",
     "output_type": "stream",
     "text": [
      "55\n"
     ]
    }
   ],
   "source": [
    "n = int(input())\n",
    "F = [0, 1]\n",
    "\n",
    "def pv(n):\n",
    "    for i in range(n):\n",
    "        F.append(F[-1] + F[-2])\n",
    "    return F[-2]\n",
    "\n",
    "print(pv(n))"
   ]
  },
  {
   "cell_type": "code",
   "execution_count": 12,
   "id": "bb6c94a4-1821-4f05-a581-8a0397c7560a",
   "metadata": {},
   "outputs": [
    {
     "name": "stdin",
     "output_type": "stream",
     "text": [
      " 10\n"
     ]
    },
    {
     "name": "stdout",
     "output_type": "stream",
     "text": [
      "55\n"
     ]
    }
   ],
   "source": [
    "# 정답 풀이 예제 1\n",
    "\n",
    "def p(n):\n",
    "    x = 0\n",
    "    y = 1\n",
    "    for i in range(n):  \n",
    "        x, y = y, x+y     # Q.이해 안돼요!\n",
    "    return x\n",
    "a = int(input())\n",
    "print(p(a))"
   ]
  },
  {
   "cell_type": "code",
   "execution_count": 32,
   "id": "7b16bfb5-76c3-4bef-8219-fd21e3801982",
   "metadata": {},
   "outputs": [
    {
     "name": "stdout",
     "output_type": "stream",
     "text": [
      "1 1 2\n",
      "1 2 3\n",
      "2 3 5\n",
      "3 5 8\n",
      "5 8 13\n",
      "8 13 21\n",
      "13 21 34\n",
      "21 34 55\n",
      "34 55 89\n",
      "55 89 144\n"
     ]
    }
   ],
   "source": [
    "x = 0\n",
    "y = 1\n",
    "\n",
    "for i in range(n):\n",
    "    x,y = y,x+y \n",
    "    print(x, y, x+y)"
   ]
  },
  {
   "cell_type": "code",
   "execution_count": 29,
   "id": "467632fe-80e8-4089-97b7-23e93a00037c",
   "metadata": {},
   "outputs": [
    {
     "name": "stdin",
     "output_type": "stream",
     "text": [
      " 10\n"
     ]
    },
    {
     "name": "stdout",
     "output_type": "stream",
     "text": [
      "55\n"
     ]
    }
   ],
   "source": [
    "# 정답 풀이 예제 2\n",
    "\n",
    "def r(x):\n",
    "    if x < 2:   \n",
    "        return x \n",
    "    return r(x-1) + r(x-2) \n",
    "\n",
    "print(r(int(input())))"
   ]
  },
  {
   "cell_type": "markdown",
   "id": "9fad8cce-2705-4e0d-bb2d-368384c9daed",
   "metadata": {},
   "source": [
    "---"
   ]
  },
  {
   "cell_type": "code",
   "execution_count": null,
   "id": "1b8e36e9-f36c-410d-b54d-e50fc3082e1d",
   "metadata": {},
   "outputs": [],
   "source": [
    "# "
   ]
  }
 ],
 "metadata": {
  "kernelspec": {
   "display_name": "Python 3 (ipykernel)",
   "language": "python",
   "name": "python3"
  },
  "language_info": {
   "codemirror_mode": {
    "name": "ipython",
    "version": 3
   },
   "file_extension": ".py",
   "mimetype": "text/x-python",
   "name": "python",
   "nbconvert_exporter": "python",
   "pygments_lexer": "ipython3",
   "version": "3.8.12"
  }
 },
 "nbformat": 4,
 "nbformat_minor": 5
}
