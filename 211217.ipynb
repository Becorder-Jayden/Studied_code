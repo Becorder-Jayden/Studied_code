{
 "cells": [
  {
   "cell_type": "markdown",
   "id": "08daaf80-7132-4de1-af00-09a6aecf700f",
   "metadata": {},
   "source": [
    "# 2021.12.17"
   ]
  },
  {
   "cell_type": "code",
   "execution_count": 1,
   "id": "79ee627f-85bc-496c-944b-272e375d8c4b",
   "metadata": {},
   "outputs": [],
   "source": [
    "# Bronze II\n",
    "# 2798 블랙잭"
   ]
  },
  {
   "cell_type": "code",
   "execution_count": 63,
   "id": "e77004d7-52a6-4412-ba47-c44e9970436e",
   "metadata": {
    "tags": []
   },
   "outputs": [
    {
     "name": "stdin",
     "output_type": "stream",
     "text": [
      " 5 21\n",
      " 5 6 7 8 9\n"
     ]
    },
    {
     "name": "stdout",
     "output_type": "stream",
     "text": [
      "21\n"
     ]
    }
   ],
   "source": [
    "# 정답\n",
    "N, M = map(int, input().split())\n",
    "cards = list(map(int, input().split()))\n",
    "s_li = []\n",
    "f_li = []\n",
    "\n",
    "for i in range(N):\n",
    "    for j in range(i+1, N):\n",
    "        for k in range(j+1, N):\n",
    "            if cards[i]+cards[j]+cards[k] <= M:\n",
    "                s_li.append(cards[i]+cards[j]+cards[k])\n",
    "                \n",
    "# s_li = list(set(s_li))\n",
    "# for i in s_li: # a변수를 for 문 밖에다해서, 더 작은 값 발견할 때 대체\n",
    "#     a = abs(i-M)\n",
    "#     f_li.append(a)\n",
    "    \n",
    "print(max(s_li))\n",
    "    \n",
    "# print(s_li[f_li.index(min(f_li))])"
   ]
  },
  {
   "cell_type": "code",
   "execution_count": 69,
   "id": "73d7e496-bdbd-43de-a856-bf12b5504d7a",
   "metadata": {},
   "outputs": [
    {
     "name": "stdin",
     "output_type": "stream",
     "text": [
      " 5 21\n",
      " 5 6 7 8 9\n"
     ]
    },
    {
     "name": "stdout",
     "output_type": "stream",
     "text": [
      "21\n"
     ]
    }
   ],
   "source": [
    "# 코드 완성본\n",
    "\n",
    "N, M = map(int, input().split())\n",
    "cards = list(map(int, input().split()))\n",
    "sum_list = []\n",
    "\n",
    "for i in range(N):\n",
    "    for j in range(i+1, N):\n",
    "        for k in range(j+1, N):\n",
    "            if cards[i]+cards[j]+cards[k] <= M:\n",
    "                sum_list.append(cards[i]+cards[j]+cards[k])\n",
    "                    \n",
    "print(max(sum_list))"
   ]
  },
  {
   "cell_type": "markdown",
   "id": "4098611b-010b-48f7-afed-bf0624f2758c",
   "metadata": {},
   "source": [
    "---"
   ]
  },
  {
   "cell_type": "code",
   "execution_count": 70,
   "id": "fe14b9ee-d5f1-4c3b-9949-b0552c9affd9",
   "metadata": {},
   "outputs": [],
   "source": [
    "# Silver IV\n",
    "# 13305 주유소"
   ]
  },
  {
   "cell_type": "code",
   "execution_count": 103,
   "id": "431a43f1-61e2-4e22-b33b-af16f41c7023",
   "metadata": {},
   "outputs": [
    {
     "name": "stdin",
     "output_type": "stream",
     "text": [
      " 4\n",
      " 2 3 1\n",
      " 5 2 4 1\n"
     ]
    },
    {
     "name": "stdout",
     "output_type": "stream",
     "text": [
      "18\n"
     ]
    }
   ],
   "source": [
    "N = int(input())\n",
    "D = list(map(int, input().split())) # Distance\n",
    "P = list(map(int, input().split())) # Price\n",
    "C = 0 # Cost\n",
    "\n",
    "C += P[0]*D[0]\n",
    "\n",
    "if P[0]!=min(P):\n",
    "    for i in range(N-2):\n",
    "        C += min(D[i+1]*P[i], D[i+1]*P[i+1])\n",
    "else:\n",
    "    C += P[0]*sum(D[1:])\n",
    "    \n",
    "print(C)"
   ]
  },
  {
   "cell_type": "code",
   "execution_count": 105,
   "id": "e3f817d6-1395-46ab-9eac-7df0f39b314f",
   "metadata": {},
   "outputs": [
    {
     "name": "stdin",
     "output_type": "stream",
     "text": [
      " 4\n",
      " 2 3 1\n",
      " 5 2 4 1\n"
     ]
    },
    {
     "name": "stdout",
     "output_type": "stream",
     "text": [
      "18\n"
     ]
    }
   ],
   "source": [
    "# 영민 코드\n",
    "# 13305 주유소\n",
    "\n",
    "N = int(input())\n",
    "R = list(map(int, input().split()))\n",
    "P = list(map(int, input().split()))\n",
    "del P[N-1]                          # 의미없는 마지막 값 삭제\n",
    "Q = 0                               # 총 비용\n",
    "S = 1000000000 # P의 최소값을 저장\n",
    "\n",
    "for i in range(N-1):\n",
    "    if S < P[i]:\n",
    "        Q = Q + S*R[i]\n",
    "    else:\n",
    "        S = P[i]\n",
    "        Q = Q + S*R[i]\n",
    "        \n",
    "print(Q)"
   ]
  },
  {
   "cell_type": "code",
   "execution_count": 108,
   "id": "f2fadad0-8681-4cf3-aa6a-7dcc82a6873c",
   "metadata": {},
   "outputs": [
    {
     "name": "stdin",
     "output_type": "stream",
     "text": [
      " 4\n",
      " 2 3 1\n",
      " 5 2 4 1\n"
     ]
    },
    {
     "name": "stdout",
     "output_type": "stream",
     "text": [
      "18\n"
     ]
    }
   ],
   "source": [
    "N = int(input())\n",
    "D = list(map(int, input().split()))\n",
    "P = list(map(int, input().split()))\n",
    "P = P[:-1]\n",
    "C = 0\n",
    "S = 1000000000 # ?\n",
    "\n",
    "for i in range(N-1):\n",
    "    if S < P[i]:\n",
    "        C += S*R[i]\n",
    "    else:\n",
    "        S = P[i]\n",
    "        C += S*R[i]\n",
    "print(C)"
   ]
  },
  {
   "cell_type": "code",
   "execution_count": null,
   "id": "bb0d48f5-5a32-4bba-9d8c-37271d829c3c",
   "metadata": {},
   "outputs": [],
   "source": []
  }
 ],
 "metadata": {
  "kernelspec": {
   "display_name": "Python 3 (ipykernel)",
   "language": "python",
   "name": "python3"
  },
  "language_info": {
   "codemirror_mode": {
    "name": "ipython",
    "version": 3
   },
   "file_extension": ".py",
   "mimetype": "text/x-python",
   "name": "python",
   "nbconvert_exporter": "python",
   "pygments_lexer": "ipython3",
   "version": "3.8.12"
  }
 },
 "nbformat": 4,
 "nbformat_minor": 5
}
