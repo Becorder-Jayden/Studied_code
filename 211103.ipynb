{
 "cells": [
  {
   "cell_type": "markdown",
   "id": "dd77d780-d46f-4a01-89a8-13294c961582",
   "metadata": {},
   "source": [
    "# 2021.11.03"
   ]
  },
  {
   "cell_type": "code",
   "execution_count": 1,
   "id": "203e8cb5-2c94-450b-a3b0-d705b7350c2a",
   "metadata": {},
   "outputs": [
    {
     "ename": "KeyboardInterrupt",
     "evalue": "Interrupted by user",
     "output_type": "error",
     "traceback": [
      "\u001b[1;31m---------------------------------------------------------------------------\u001b[0m",
      "\u001b[1;31mKeyboardInterrupt\u001b[0m                         Traceback (most recent call last)",
      "\u001b[1;32m~\\AppData\\Local\\Temp/ipykernel_14688/1105266722.py\u001b[0m in \u001b[0;36m<module>\u001b[1;34m\u001b[0m\n\u001b[1;32m----> 1\u001b[1;33m \u001b[0mN\u001b[0m \u001b[1;33m=\u001b[0m \u001b[0mint\u001b[0m\u001b[1;33m(\u001b[0m\u001b[0minput\u001b[0m\u001b[1;33m(\u001b[0m\u001b[1;33m)\u001b[0m\u001b[1;33m)\u001b[0m\u001b[1;33m\u001b[0m\u001b[1;33m\u001b[0m\u001b[0m\n\u001b[0m\u001b[0;32m      2\u001b[0m \u001b[1;33m\u001b[0m\u001b[0m\n\u001b[0;32m      3\u001b[0m \u001b[0mbs\u001b[0m \u001b[1;33m=\u001b[0m \u001b[1;33m[\u001b[0m\u001b[0minput\u001b[0m\u001b[1;33m(\u001b[0m\u001b[1;33m)\u001b[0m \u001b[1;32mfor\u001b[0m \u001b[0mi\u001b[0m \u001b[1;32min\u001b[0m \u001b[0mrange\u001b[0m\u001b[1;33m(\u001b[0m\u001b[0mN\u001b[0m\u001b[1;33m)\u001b[0m\u001b[1;33m]\u001b[0m\u001b[1;33m\u001b[0m\u001b[1;33m\u001b[0m\u001b[0m\n\u001b[0;32m      4\u001b[0m \u001b[0msbs\u001b[0m \u001b[1;33m=\u001b[0m \u001b[0mlist\u001b[0m\u001b[1;33m(\u001b[0m\u001b[0msorted\u001b[0m\u001b[1;33m(\u001b[0m\u001b[0mbs\u001b[0m\u001b[1;33m)\u001b[0m\u001b[1;33m)\u001b[0m\u001b[1;33m\u001b[0m\u001b[1;33m\u001b[0m\u001b[0m\n\u001b[0;32m      5\u001b[0m \u001b[1;33m\u001b[0m\u001b[0m\n",
      "\u001b[1;32m~\\anaconda3\\lib\\site-packages\\ipykernel\\kernelbase.py\u001b[0m in \u001b[0;36mraw_input\u001b[1;34m(self, prompt)\u001b[0m\n\u001b[0;32m   1004\u001b[0m                 \u001b[1;34m\"raw_input was called, but this frontend does not support input requests.\"\u001b[0m\u001b[1;33m\u001b[0m\u001b[1;33m\u001b[0m\u001b[0m\n\u001b[0;32m   1005\u001b[0m             )\n\u001b[1;32m-> 1006\u001b[1;33m         return self._input_request(\n\u001b[0m\u001b[0;32m   1007\u001b[0m             \u001b[0mstr\u001b[0m\u001b[1;33m(\u001b[0m\u001b[0mprompt\u001b[0m\u001b[1;33m)\u001b[0m\u001b[1;33m,\u001b[0m\u001b[1;33m\u001b[0m\u001b[1;33m\u001b[0m\u001b[0m\n\u001b[0;32m   1008\u001b[0m             \u001b[0mself\u001b[0m\u001b[1;33m.\u001b[0m\u001b[0m_parent_ident\u001b[0m\u001b[1;33m[\u001b[0m\u001b[1;34m\"shell\"\u001b[0m\u001b[1;33m]\u001b[0m\u001b[1;33m,\u001b[0m\u001b[1;33m\u001b[0m\u001b[1;33m\u001b[0m\u001b[0m\n",
      "\u001b[1;32m~\\anaconda3\\lib\\site-packages\\ipykernel\\kernelbase.py\u001b[0m in \u001b[0;36m_input_request\u001b[1;34m(self, prompt, ident, parent, password)\u001b[0m\n\u001b[0;32m   1049\u001b[0m             \u001b[1;32mexcept\u001b[0m \u001b[0mKeyboardInterrupt\u001b[0m\u001b[1;33m:\u001b[0m\u001b[1;33m\u001b[0m\u001b[1;33m\u001b[0m\u001b[0m\n\u001b[0;32m   1050\u001b[0m                 \u001b[1;31m# re-raise KeyboardInterrupt, to truncate traceback\u001b[0m\u001b[1;33m\u001b[0m\u001b[1;33m\u001b[0m\u001b[1;33m\u001b[0m\u001b[0m\n\u001b[1;32m-> 1051\u001b[1;33m                 \u001b[1;32mraise\u001b[0m \u001b[0mKeyboardInterrupt\u001b[0m\u001b[1;33m(\u001b[0m\u001b[1;34m\"Interrupted by user\"\u001b[0m\u001b[1;33m)\u001b[0m \u001b[1;32mfrom\u001b[0m \u001b[1;32mNone\u001b[0m\u001b[1;33m\u001b[0m\u001b[1;33m\u001b[0m\u001b[0m\n\u001b[0m\u001b[0;32m   1052\u001b[0m             \u001b[1;32mexcept\u001b[0m \u001b[0mException\u001b[0m\u001b[1;33m:\u001b[0m\u001b[1;33m\u001b[0m\u001b[1;33m\u001b[0m\u001b[0m\n\u001b[0;32m   1053\u001b[0m                 \u001b[0mself\u001b[0m\u001b[1;33m.\u001b[0m\u001b[0mlog\u001b[0m\u001b[1;33m.\u001b[0m\u001b[0mwarning\u001b[0m\u001b[1;33m(\u001b[0m\u001b[1;34m\"Invalid Message:\"\u001b[0m\u001b[1;33m,\u001b[0m \u001b[0mexc_info\u001b[0m\u001b[1;33m=\u001b[0m\u001b[1;32mTrue\u001b[0m\u001b[1;33m)\u001b[0m\u001b[1;33m\u001b[0m\u001b[1;33m\u001b[0m\u001b[0m\n",
      "\u001b[1;31mKeyboardInterrupt\u001b[0m: Interrupted by user"
     ]
    }
   ],
   "source": [
    "#### Silver IV\n",
    "#### 1302 베스트 셀러\n",
    "\n",
    "N = int(input())\n",
    "\n",
    "bs = [input() for i in range(N)]\n",
    "sbs = list(sorted(bs))\n",
    "\n",
    "cnt=[]\n",
    "\n",
    "for i in sbs:\n",
    "    cnt.append(bs.count(i))\n",
    "    \n",
    "print(sbs[cnt.index(max(cnt))])"
   ]
  },
  {
   "cell_type": "code",
   "execution_count": 54,
   "id": "25570f8b-d15b-4d5a-9c7e-59a2fe27980d",
   "metadata": {},
   "outputs": [
    {
     "name": "stdout",
     "output_type": "stream",
     "text": [
      "['apple', 'candy', 'peanuts', 'icecream', 'chocolate']\n",
      "['apple', 'candy', 'chocolate', 'icecream', 'peanuts']\n"
     ]
    }
   ],
   "source": [
    "lis = ['apple','candy','peanuts','chocolate','icecream']\n",
    "s_lis = sorted(lis, key=len)\n",
    "ss_lis = sorted(lis)\n",
    "print(s_lis)\n",
    "print(ss_lis)"
   ]
  },
  {
   "cell_type": "markdown",
   "id": "4f860bec-066f-4851-97c8-3d1c5ad4289d",
   "metadata": {},
   "source": [
    "---"
   ]
  },
  {
   "cell_type": "code",
   "execution_count": 102,
   "id": "a2229bdb-cf04-4c6a-b5e9-c1c3fb57aeb8",
   "metadata": {},
   "outputs": [
    {
     "name": "stdin",
     "output_type": "stream",
     "text": [
      " 72\n"
     ]
    },
    {
     "name": "stdout",
     "output_type": "stream",
     "text": [
      "{2, 3, 4, 36, 6, 8, 9, 12, 18, 24}\n"
     ]
    }
   ],
   "source": [
    "# Siver IV\n",
    "# 11653 소인수분해\n",
    "# 나의 try\n",
    "\n",
    "# 소수를 먼저 정의해야?\n",
    "## 소수 : 1과 자기자신으로 나누어지는 수, 약수가 2개인 수\n",
    "# N을 소수로 나누었을 때 나오는 합성수를 계속해서 소수로 나누는 작업 반복?\n",
    "\n",
    "s_lis = []\n",
    "\n",
    "for i in range(2, N):\n",
    "    if N%i == 0:\n",
    "        lis.append(i)\n",
    "\n",
    "for i in lis:\n",
    "    for j in range(2, i+1):\n",
    "        if i%j==0:\n",
    "            s_lis.append(j)\n",
    "            \n",
    "print(set(s_lis))\n",
    "\n",
    "# if len(lis)==2:\n",
    "#     print('sosudetsu')\n",
    "#     print(lis)\n",
    "# else:\n",
    "#     print('hapsungsudetsu')\n",
    "#     print(lis)\n",
    "\n",
    "# tips\n",
    "# while 또는 재귀적인 함수를 짜야 한다. \n",
    "# 함수 풀이를 적용했을 때 블럭으로 \n",
    "# 소인수분해는 def를 공부할 수 있는 좋은 문제 "
   ]
  },
  {
   "cell_type": "code",
   "execution_count": 106,
   "id": "cfaf422e-c85e-4888-a31e-da336b98b470",
   "metadata": {},
   "outputs": [
    {
     "name": "stdin",
     "output_type": "stream",
     "text": [
      " 72\n"
     ]
    },
    {
     "name": "stdout",
     "output_type": "stream",
     "text": [
      "2\n",
      "2\n",
      "2\n",
      "3\n",
      "3\n"
     ]
    }
   ],
   "source": [
    "# 서현 풀이 리뷰\n",
    "\n",
    "n = int(input())\n",
    "d = 2\n",
    "while n!=1:\n",
    "    if n%d == 0:\n",
    "        n = n//d\n",
    "        print(d)\n",
    "    else:\n",
    "        d+=1"
   ]
  },
  {
   "cell_type": "code",
   "execution_count": 5,
   "id": "a5197746-be93-453e-be61-544a02d1d68b",
   "metadata": {},
   "outputs": [
    {
     "name": "stdin",
     "output_type": "stream",
     "text": [
      " 72\n"
     ]
    },
    {
     "name": "stdout",
     "output_type": "stream",
     "text": [
      "2\n",
      "2\n",
      "2\n",
      "3\n",
      "3\n"
     ]
    }
   ],
   "source": [
    "# 대근 코드 리뷰\n",
    "\n",
    "def get_factor(x):\n",
    "    for i in range(2, x+1):\n",
    "        share, remainder = x//i, x%i\n",
    "        if remainder == 0:\n",
    "            return share, x//share\n",
    "        \n",
    "N = int(input())\n",
    "\n",
    "if N == 1:\n",
    "    pass\n",
    "else:\n",
    "    factors = []\n",
    "    \n",
    "    while N != 1:\n",
    "        N, factor = get_factor(N)\n",
    "        factors.append(factor)\n",
    "        \n",
    "    for f in factors:\n",
    "        print(f)"
   ]
  }
 ],
 "metadata": {
  "kernelspec": {
   "display_name": "Python 3 (ipykernel)",
   "language": "python",
   "name": "python3"
  },
  "language_info": {
   "codemirror_mode": {
    "name": "ipython",
    "version": 3
   },
   "file_extension": ".py",
   "mimetype": "text/x-python",
   "name": "python",
   "nbconvert_exporter": "python",
   "pygments_lexer": "ipython3",
   "version": "3.8.12"
  }
 },
 "nbformat": 4,
 "nbformat_minor": 5
}
