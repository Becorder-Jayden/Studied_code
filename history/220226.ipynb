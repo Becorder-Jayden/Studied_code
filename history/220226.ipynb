{
 "cells": [
  {
   "cell_type": "markdown",
   "id": "7820dc86-3db1-49bb-bad0-ebc547fe22df",
   "metadata": {},
   "source": [
    "# 2022.02.26"
   ]
  },
  {
   "cell_type": "code",
   "execution_count": 1,
   "id": "2e58c0d1-fd06-423c-a9e3-b83736bd31ab",
   "metadata": {},
   "outputs": [],
   "source": [
    "# Silver III\n",
    "# 14501 퇴사"
   ]
  },
  {
   "cell_type": "code",
   "execution_count": 84,
   "id": "ef96c285-1b0d-4641-82a6-063a8b09976b",
   "metadata": {},
   "outputs": [],
   "source": [
    "# 예제 4\n",
    "N = 10\n",
    "T = [5,4,3,2,1,1,2,3,4,5,5] \n",
    "P = [50,40,30,20,10,10,20,30,40,50]"
   ]
  },
  {
   "cell_type": "code",
   "execution_count": 89,
   "id": "bc6c7ee8-b3be-40f3-8f50-5bb52a1d6635",
   "metadata": {},
   "outputs": [
    {
     "name": "stdout",
     "output_type": "stream",
     "text": [
      "[5, 4, 3, 2, 1, 1, 2, 3, 4, 5, 5]\n",
      "[50, 40, 30, 20, 10, 10, 20, 30, 40, 50]\n",
      "[50, 40, 30, 20, 10, 60, 80, 90, 0, 0]\n"
     ]
    }
   ],
   "source": [
    "# cheating\n",
    "\n",
    "# N = int(input())\n",
    "# T, P = [], []\n",
    "\n",
    "# for i in range(N):\n",
    "#     t, p = map(int, input().split())\n",
    "#     T.append(t)\n",
    "#     P.append(p)\n",
    "    \n",
    "dp = []\n",
    "for i in range(N):\n",
    "    if i + T[i] <= N:\n",
    "        dp.append(P[i])\n",
    "    else:\n",
    "        dp.append(0)\n",
    "        \n",
    "for i in range(N):\n",
    "    num = i + T[i]\n",
    "    for j in range(num, N):\n",
    "        if dp[j] != 0:\n",
    "            dp[j] = max(dp[j], dp[i] + P[j])\n",
    "            \n",
    "print(T)\n",
    "print(P)\n",
    "print(dp)"
   ]
  },
  {
   "cell_type": "code",
   "execution_count": 78,
   "id": "3496bf20-1f5f-4060-83c0-8c1f1f1d7f2f",
   "metadata": {},
   "outputs": [
    {
     "name": "stdin",
     "output_type": "stream",
     "text": [
      " 10\n",
      " 5 50\n",
      " 4 40\n",
      " 3 30\n",
      " 2 20\n",
      " 1 10\n",
      " 1 10\n",
      " 2 20\n",
      " 3 30\n",
      " 4 40\n",
      " 5 50\n"
     ]
    },
    {
     "name": "stdout",
     "output_type": "stream",
     "text": [
      "[False, False, False, False, False, 1, 2, 3, 4, 5]\n",
      "[50, 40, 30, 20, 10, 10, 20, 30, 40, 50]\n",
      "[0, 0, 0, 0, 0, 50, 0, 0, 0, 0, 0]\n",
      "50\n",
      "-----\n",
      "[False, False, False, False, False, 1, 2, 3, 4, 5]\n",
      "[50, 40, 30, 20, 10, 10, 20, 30, 40, 50]\n",
      "[0, 0, 0, 0, 0, 50, 0, 0, 0, 0, 0]\n",
      "50\n",
      "-----\n",
      "[False, False, False, False, False, 1, 2, 3, 4, 5]\n",
      "[50, 40, 30, 20, 10, 10, 20, 30, 40, 50]\n",
      "[0, 0, 0, 0, 0, 50, 0, 0, 0, 0, 0]\n",
      "50\n",
      "-----\n",
      "[False, False, False, False, False, 1, 2, 3, 4, 5]\n",
      "[50, 40, 30, 20, 10, 10, 20, 30, 40, 50]\n",
      "[0, 0, 0, 0, 0, 50, 0, 0, 0, 0, 0]\n",
      "50\n",
      "-----\n",
      "[False, False, False, False, False, 1, 2, 3, 4, 5]\n",
      "[50, 40, 30, 20, 10, 10, 20, 30, 40, 50]\n",
      "[0, 0, 0, 0, 0, 50, 0, 0, 0, 0, 0]\n",
      "50\n",
      "-----\n",
      "[False, False, False, False, False, False, 2, 3, 4, 5]\n",
      "[50, 40, 30, 20, 10, 10, 20, 30, 40, 50]\n",
      "[0, 0, 0, 0, 0, 50, 10, 0, 0, 0, 0]\n",
      "60\n",
      "-----\n",
      "[False, False, False, False, False, False, False, False, 4, 5]\n",
      "[50, 40, 30, 20, 10, 10, 20, 30, 40, 50]\n",
      "[0, 0, 0, 0, 0, 50, 10, 0, 20, 0, 0]\n",
      "80\n",
      "-----\n",
      "[False, False, False, False, False, False, False, False, 4, 5]\n",
      "[50, 40, 30, 20, 10, 10, 20, 30, 40, 50]\n",
      "[0, 0, 0, 0, 0, 50, 10, 0, 20, 0, 0]\n",
      "80\n",
      "-----\n"
     ]
    },
    {
     "ename": "IndexError",
     "evalue": "list assignment index out of range",
     "output_type": "error",
     "traceback": [
      "\u001b[1;31m---------------------------------------------------------------------------\u001b[0m",
      "\u001b[1;31mIndexError\u001b[0m                                Traceback (most recent call last)",
      "\u001b[1;32m~\\AppData\\Local\\Temp/ipykernel_6788/1918578.py\u001b[0m in \u001b[0;36m<module>\u001b[1;34m\u001b[0m\n\u001b[0;32m     13\u001b[0m     \u001b[1;32mif\u001b[0m \u001b[0mT\u001b[0m\u001b[1;33m[\u001b[0m\u001b[0mi\u001b[0m\u001b[1;33m]\u001b[0m \u001b[1;32mand\u001b[0m \u001b[0mi\u001b[0m \u001b[1;33m!=\u001b[0m \u001b[1;33m(\u001b[0m\u001b[0mN\u001b[0m\u001b[1;33m-\u001b[0m\u001b[1;36m1\u001b[0m\u001b[1;33m)\u001b[0m\u001b[1;33m:\u001b[0m\u001b[1;33m\u001b[0m\u001b[1;33m\u001b[0m\u001b[0m\n\u001b[0;32m     14\u001b[0m         \u001b[1;32mif\u001b[0m \u001b[0mi\u001b[0m\u001b[1;33m+\u001b[0m\u001b[0mT\u001b[0m\u001b[1;33m[\u001b[0m\u001b[0mi\u001b[0m\u001b[1;33m]\u001b[0m\u001b[1;33m:\u001b[0m\u001b[1;33m\u001b[0m\u001b[1;33m\u001b[0m\u001b[0m\n\u001b[1;32m---> 15\u001b[1;33m             \u001b[0mdp\u001b[0m\u001b[1;33m[\u001b[0m\u001b[0mi\u001b[0m \u001b[1;33m+\u001b[0m \u001b[0mT\u001b[0m\u001b[1;33m[\u001b[0m\u001b[0mi\u001b[0m\u001b[1;33m]\u001b[0m\u001b[1;33m]\u001b[0m \u001b[1;33m=\u001b[0m \u001b[0mP\u001b[0m\u001b[1;33m[\u001b[0m\u001b[0mi\u001b[0m\u001b[1;33m]\u001b[0m\u001b[1;33m\u001b[0m\u001b[1;33m\u001b[0m\u001b[0m\n\u001b[0m\u001b[0;32m     16\u001b[0m \u001b[1;33m\u001b[0m\u001b[0m\n\u001b[0;32m     17\u001b[0m         \u001b[1;32mfor\u001b[0m \u001b[0mj\u001b[0m \u001b[1;32min\u001b[0m \u001b[0mrange\u001b[0m\u001b[1;33m(\u001b[0m\u001b[0mi\u001b[0m\u001b[1;33m,\u001b[0m \u001b[0mi\u001b[0m\u001b[1;33m+\u001b[0m\u001b[0mT\u001b[0m\u001b[1;33m[\u001b[0m\u001b[0mi\u001b[0m\u001b[1;33m]\u001b[0m\u001b[1;33m)\u001b[0m\u001b[1;33m:\u001b[0m\u001b[1;33m\u001b[0m\u001b[1;33m\u001b[0m\u001b[0m\n",
      "\u001b[1;31mIndexError\u001b[0m: list assignment index out of range"
     ]
    }
   ],
   "source": [
    "# 풀이시도__포기\n",
    "N = int(input())\n",
    "T = []\n",
    "P = []\n",
    "\n",
    "for i in range(N):\n",
    "    t, p = map(int, input().split())\n",
    "    T.append(t)\n",
    "    P.append(p)\n",
    "\n",
    "dp = [0] * (N+1)\n",
    "\n",
    "for i in range(N):\n",
    "    if T[i] and i != (N-1):\n",
    "        if i+T[i]:\n",
    "            dp[i + T[i]] = P[i]\n",
    "        \n",
    "        for j in range(i, i+T[i]):\n",
    "            T[j] = False\n",
    "            \n",
    "    if i == (N-1) and T[i] == 1:\n",
    "        if i+T[i]:\n",
    "            dp[i + T[i]] = P[i]\n",
    "        \n",
    "        for j in range(i, i+T[i]):\n",
    "            T[j] = False\n",
    "        \n",
    "\n",
    "    print(T)\n",
    "    print(P)\n",
    "    print(dp)\n",
    "    print(sum(dp))\n",
    "    print('-----')"
   ]
  },
  {
   "cell_type": "code",
   "execution_count": 60,
   "id": "5aa9b3ee-e278-48f3-8555-77166fc5497f",
   "metadata": {},
   "outputs": [
    {
     "name": "stdout",
     "output_type": "stream",
     "text": [
      "false\n",
      "[False, False, False, False, False, False, 2]\n",
      "[10, 20, 10, 20, 15, 40, 200]\n",
      "[0, 0, 0, 10, 20, 40, 15, 0]\n"
     ]
    }
   ],
   "source": [
    "N = 7\n",
    "T = [3, 5, 1, 1, 2, 4, 2]\n",
    "P = [10, 20, 10, 20, 15, 40, 200]\n",
    "dp = [0] * (N+1)\n",
    "\n",
    "for i in range(N):\n",
    "    if i == 0:\n",
    "        dp[i + T[i]] = P[i]\n",
    "        for j in range(i, i+T[i]):\n",
    "            T[j] = False\n",
    "            \n",
    "    if i == 3:\n",
    "        dp[i + T[i]] = P[i]\n",
    "        for j in range(i, i+T[i]):\n",
    "            T[j] = False\n",
    "            \n",
    "    if i == 4:\n",
    "        dp[i + T[i]] = P[i]\n",
    "        for j in range(i, i+T[i]):\n",
    "            T[j] = False\n",
    "            \n",
    "    if i == False:\n",
    "        break\n",
    "\n",
    "print(T)\n",
    "print(P)\n",
    "print(dp)"
   ]
  },
  {
   "cell_type": "markdown",
   "id": "e7759df3-6d4e-40d2-8fc5-9b1b74426aa8",
   "metadata": {},
   "source": [
    "---"
   ]
  },
  {
   "cell_type": "code",
   "execution_count": 113,
   "id": "5179a75d-c52e-4b06-9eb3-aa88befc88c8",
   "metadata": {},
   "outputs": [],
   "source": [
    "# Silver IV\n",
    "# 1620 나는야 포켓몬 마스터 이다솜"
   ]
  },
  {
   "cell_type": "code",
   "execution_count": 147,
   "id": "a1e4b3e8-9543-410d-8134-92e06dcc1426",
   "metadata": {},
   "outputs": [
    {
     "name": "stdin",
     "output_type": "stream",
     "text": [
      " 2 2\n",
      " bul\n",
      " ivy\n",
      " 2\n"
     ]
    },
    {
     "name": "stdout",
     "output_type": "stream",
     "text": [
      "ivy\n"
     ]
    },
    {
     "name": "stdin",
     "output_type": "stream",
     "text": [
      " ivy\n"
     ]
    },
    {
     "name": "stdout",
     "output_type": "stream",
     "text": [
      "2\n"
     ]
    }
   ],
   "source": [
    "N, M = map(int, input().split())\n",
    "dogam = {}\n",
    "for i in range(1, N+1):\n",
    "    a = input() \n",
    "    dogam[i] = a\n",
    "    dogam[a] = i\n",
    "    \n",
    "for i in range(M):\n",
    "    quiz = input().strip()\n",
    "    if quiz.isnumeric():\n",
    "        print(dogam[int(quiz)])\n",
    "    else:\n",
    "        print(dogam[quiz])"
   ]
  },
  {
   "cell_type": "code",
   "execution_count": 119,
   "id": "2c057f3a-335c-41ce-bae4-a5338e6e7c14",
   "metadata": {},
   "outputs": [],
   "source": [
    "N, M = 26, 5\n",
    "li = ['Bulbasaur'\n",
    ",'Ivysaur'\n",
    ",'Venusaur'\n",
    ",'Charmander'\n",
    ",'Charmeleon'\n",
    ",'Charizard'\n",
    ",'Squirtle'\n",
    ",'Wartortle'\n",
    ",'Blastoise'\n",
    ",'Caterpie'\n",
    ",'Metapod'\n",
    ",'Butterfree'\n",
    ",'Weedle'\n",
    ",'Kakuna'\n",
    ",'Beedrill'\n",
    ",'Pidgey'\n",
    ",'Pidgeotto'\n",
    ",'Pidgeot'\n",
    ",'Rattata'\n",
    ",'Raticate'\n",
    ",'Spearow'\n",
    ",'Fearow'\n",
    ",'Ekans'\n",
    ",'Arbok'\n",
    ",'Pikachu'\n",
    ",'Raichu']"
   ]
  },
  {
   "cell_type": "code",
   "execution_count": 141,
   "id": "f3c91561-6e50-4593-af54-d45cc53cf058",
   "metadata": {},
   "outputs": [
    {
     "name": "stdin",
     "output_type": "stream",
     "text": [
      " 2 2\n",
      " pikachu\n",
      " venusaur\n",
      " 1\n"
     ]
    },
    {
     "name": "stdout",
     "output_type": "stream",
     "text": [
      "pikachu\n"
     ]
    },
    {
     "name": "stdin",
     "output_type": "stream",
     "text": [
      " 2\n"
     ]
    },
    {
     "name": "stdout",
     "output_type": "stream",
     "text": [
      "venusaur\n",
      "{1: 'pikachu', 2: 'venusaur'}\n"
     ]
    }
   ],
   "source": [
    "N, M = map(int, input().split())\n",
    "dic = {}\n",
    "for i in range(1, N+1):\n",
    "    dic[i] = input()\n",
    "\n",
    "for i in range(M):\n",
    "    quiz = input().rstrip()\n",
    "    if quiz.isdigit():\n",
    "        print(dic[int(quiz)])\n",
    "    else:\n",
    "        list_of_key = list(dic.keys())\n",
    "        list_of_value = list(dic.values())\n",
    "        index = list_of_value.index(quiz)\n",
    "        print(list_of_key[index])\n",
    "print(dic)"
   ]
  },
  {
   "cell_type": "markdown",
   "id": "b4bed987-1c1f-4fdb-bf55-6f05a3f43f98",
   "metadata": {},
   "source": [
    "---"
   ]
  },
  {
   "cell_type": "code",
   "execution_count": 148,
   "id": "dce8007a-03e8-402d-8a79-2f0836de2927",
   "metadata": {},
   "outputs": [],
   "source": [
    "# Silver III\n",
    "# 11726 2xn 타일링"
   ]
  },
  {
   "cell_type": "code",
   "execution_count": 190,
   "id": "7f00ee20-f216-4e5d-93a6-7df77eaaa60e",
   "metadata": {},
   "outputs": [
    {
     "name": "stdin",
     "output_type": "stream",
     "text": [
      " 4\n"
     ]
    },
    {
     "name": "stdout",
     "output_type": "stream",
     "text": [
      "5\n"
     ]
    }
   ],
   "source": [
    "n = int(input())\n",
    "if n == 1:\n",
    "    print(1)\n",
    "    \n",
    "else:\n",
    "    li = [i for i in range(n+1)]\n",
    "    dp = [0] * n\n",
    "    dp[0] = 1\n",
    "    dp[1] = 2\n",
    "    for i in range(2, n):\n",
    "        dp[i] = dp[i-1]+dp[i-2]\n",
    "    \n",
    "    print(dp[-1] % 10007)"
   ]
  },
  {
   "cell_type": "markdown",
   "id": "17b2875b-e757-4826-aa93-8ac78103dfb0",
   "metadata": {},
   "source": [
    "---"
   ]
  },
  {
   "cell_type": "code",
   "execution_count": 191,
   "id": "0fb9704d-7368-4670-a194-ebbc1b66c35c",
   "metadata": {},
   "outputs": [],
   "source": [
    "# Silver III\n",
    "# 11727 2xn 타일링 2"
   ]
  },
  {
   "cell_type": "code",
   "execution_count": 203,
   "id": "8e6f0658-041a-4846-8fd7-a3078887e307",
   "metadata": {},
   "outputs": [
    {
     "name": "stdin",
     "output_type": "stream",
     "text": [
      " 1\n"
     ]
    },
    {
     "name": "stdout",
     "output_type": "stream",
     "text": [
      "1\n"
     ]
    }
   ],
   "source": [
    "n = int(input())\n",
    "dp = [0] * n\n",
    "dp[0] = 1\n",
    "for i in range(1, n):\n",
    "    if i%2 == 0: \n",
    "        dp[i] = dp[i-1] + dp[i-1] - 1\n",
    "    else:\n",
    "        dp[i] = dp[i-1] + dp[i-1] + 1\n",
    "\n",
    "print(dp[-1] % 10007)"
   ]
  },
  {
   "cell_type": "markdown",
   "id": "866c4b24-9134-4c5e-84e2-606b087af67a",
   "metadata": {},
   "source": [
    "---"
   ]
  },
  {
   "cell_type": "code",
   "execution_count": 204,
   "id": "7753792a-48b1-4ccb-b94a-c61b56840f6d",
   "metadata": {},
   "outputs": [],
   "source": [
    "# Silver II\n",
    "# 11724 연결 요소의 개수"
   ]
  },
  {
   "cell_type": "code",
   "execution_count": 205,
   "id": "d75348c2-6cc9-47ea-8bc8-74166a06f73e",
   "metadata": {},
   "outputs": [
    {
     "name": "stdin",
     "output_type": "stream",
     "text": [
      " 6 5\n",
      " 1 2\n",
      " 2 5\n",
      " 5 1\n",
      " 3 4\n",
      " 4 6\n"
     ]
    },
    {
     "name": "stdout",
     "output_type": "stream",
     "text": [
      "{1: 2, 2: 5, 5: 1, 3: 4, 4: 6}\n"
     ]
    }
   ],
   "source": [
    "N, M = map(int, input().split())\n",
    "dic = {}\n",
    "for i in range(M):\n",
    "    u, v = map(int, input().split())\n",
    "    dic[u] = v\n",
    "    \n",
    " "
   ]
  }
 ],
 "metadata": {
  "kernelspec": {
   "display_name": "Python 3 (ipykernel)",
   "language": "python",
   "name": "python3"
  },
  "language_info": {
   "codemirror_mode": {
    "name": "ipython",
    "version": 3
   },
   "file_extension": ".py",
   "mimetype": "text/x-python",
   "name": "python",
   "nbconvert_exporter": "python",
   "pygments_lexer": "ipython3",
   "version": "3.8.12"
  }
 },
 "nbformat": 4,
 "nbformat_minor": 5
}
