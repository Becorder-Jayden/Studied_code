{
 "cells": [
  {
   "cell_type": "markdown",
   "id": "3be03627-1b86-48c2-92d4-18b458685f13",
   "metadata": {},
   "source": [
    "# 2022.03.11"
   ]
  },
  {
   "cell_type": "code",
   "execution_count": 1,
   "id": "ad72cacf-f461-4bc5-8476-a433104d354b",
   "metadata": {},
   "outputs": [],
   "source": [
    "# Gold IV\n",
    "# 17298 오큰수"
   ]
  },
  {
   "cell_type": "code",
   "execution_count": 117,
   "id": "2b73a767-987e-4381-bff5-ba6cb2259c78",
   "metadata": {},
   "outputs": [
    {
     "name": "stdin",
     "output_type": "stream",
     "text": [
      " 4\n",
      " 3 5 2 7\n"
     ]
    },
    {
     "name": "stdout",
     "output_type": "stream",
     "text": [
      "5 7 7 -1\n"
     ]
    }
   ],
   "source": [
    "# 이중 for문 말고 다른 방법 찾아서 시도\n",
    "# 시간 초과\n",
    "\n",
    "N = int(input())\n",
    "A = list(map(int, input().split()))\n",
    "\n",
    "answer = []\n",
    "for i in range(N):\n",
    "    cnt = i+1\n",
    "    if i == N-1 or A[i] > max(A[i+1:]):\n",
    "        answer.append(-1)\n",
    "    else:\n",
    "        while A[i] >= A[cnt]:\n",
    "            cnt += 1\n",
    "        answer.append(A[cnt])\n",
    "    \n",
    "print(*answer)\n"
   ]
  },
  {
   "cell_type": "code",
   "execution_count": 123,
   "id": "58b3037d-03dc-4ae5-a595-60ea587be182",
   "metadata": {},
   "outputs": [
    {
     "name": "stdin",
     "output_type": "stream",
     "text": [
      " 4\n",
      " 4 5 2 7\n"
     ]
    },
    {
     "ename": "TypeError",
     "evalue": "can only join an iterable",
     "output_type": "error",
     "traceback": [
      "\u001b[1;31m---------------------------------------------------------------------------\u001b[0m",
      "\u001b[1;31mTypeError\u001b[0m                                 Traceback (most recent call last)",
      "\u001b[1;32m~\\AppData\\Local\\Temp/ipykernel_12852/2725546693.py\u001b[0m in \u001b[0;36m<module>\u001b[1;34m\u001b[0m\n\u001b[0;32m     19\u001b[0m \u001b[1;33m\u001b[0m\u001b[0m\n\u001b[0;32m     20\u001b[0m \u001b[1;32mfor\u001b[0m \u001b[0mk\u001b[0m \u001b[1;32min\u001b[0m \u001b[0manswer\u001b[0m\u001b[1;33m:\u001b[0m\u001b[1;33m\u001b[0m\u001b[1;33m\u001b[0m\u001b[0m\n\u001b[1;32m---> 21\u001b[1;33m     \u001b[0mprint\u001b[0m\u001b[1;33m(\u001b[0m\u001b[1;34m\" \"\u001b[0m\u001b[1;33m.\u001b[0m\u001b[0mjoin\u001b[0m\u001b[1;33m(\u001b[0m\u001b[0mk\u001b[0m\u001b[1;33m)\u001b[0m\u001b[1;33m)\u001b[0m\u001b[1;33m\u001b[0m\u001b[1;33m\u001b[0m\u001b[0m\n\u001b[0m",
      "\u001b[1;31mTypeError\u001b[0m: can only join an iterable"
     ]
    }
   ],
   "source": [
    "# 시간초과\n",
    "N = int(input())\n",
    "A = list(map(int, input().split()))\n",
    "\n",
    "# N = 4\n",
    "# A = [3, 5, 2, 7]\n",
    "# N = 4\n",
    "# A = [9, 5, 4, 8]\n",
    "\n",
    "answer = []\n",
    "for i in range(N):\n",
    "    for j in range(i, N):\n",
    "        if A[i] < A[j]:\n",
    "            answer.append(A[j])\n",
    "            break\n",
    "        elif A[i] == max(A[j:]):\n",
    "            answer.append(-1)\n",
    "            break\n",
    "            \n",
    "for k in answer:\n",
    "    print(\" \".join(k))\n"
   ]
  },
  {
   "cell_type": "code",
   "execution_count": 141,
   "id": "b29e1c0b-bf16-4dcc-84f8-087001cbf165",
   "metadata": {},
   "outputs": [
    {
     "name": "stdout",
     "output_type": "stream",
     "text": [
      "[-1, -1, -1, -1]\n",
      "[0]\n",
      "[5, -1, -1, -1]\n",
      "[1]\n",
      "[5, -1, -1, -1]\n",
      "[1, 2]\n",
      "[5, 7, 7, -1]\n",
      "[3]\n",
      "5 7 7 -1\n"
     ]
    }
   ],
   "source": [
    "# 구글링 풀이\n",
    "\n",
    "# N = int(input())\n",
    "# A = list(map(int, input().split()))\n",
    "\n",
    "N = 4\n",
    "A = [3, 5, 2, 7]\n",
    "# N = 4\n",
    "# A = [9, 5, 4, 8]\n",
    "\n",
    "NGE = [-1] * N\n",
    "stack = []\n",
    "\n",
    "for i in range(N):\n",
    "    while (len(stack) != 0 and A[stack[-1]] < A[i]):\n",
    "        NGE[stack[-1]] = A[i]\n",
    "        \n",
    "        # print(NGE)\n",
    "        # print(stack)\n",
    "        \n",
    "        stack.pop()\n",
    "    stack.append(i)\n",
    "\n",
    "    print(NGE)\n",
    "    print(stack)\n",
    "\n",
    "# for k in NGE:\n",
    "print(*NGE)"
   ]
  },
  {
   "cell_type": "code",
   "execution_count": null,
   "id": "ad47979c-08f4-4941-8d50-5c583976543b",
   "metadata": {},
   "outputs": [],
   "source": []
  }
 ],
 "metadata": {
  "kernelspec": {
   "display_name": "Python 3 (ipykernel)",
   "language": "python",
   "name": "python3"
  },
  "language_info": {
   "codemirror_mode": {
    "name": "ipython",
    "version": 3
   },
   "file_extension": ".py",
   "mimetype": "text/x-python",
   "name": "python",
   "nbconvert_exporter": "python",
   "pygments_lexer": "ipython3",
   "version": "3.8.12"
  }
 },
 "nbformat": 4,
 "nbformat_minor": 5
}
