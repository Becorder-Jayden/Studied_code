{
 "cells": [
  {
   "cell_type": "markdown",
   "id": "f22aed4c-06b5-400f-a63f-c5290e2b732d",
   "metadata": {},
   "source": [
    "# 2021.12.06"
   ]
  },
  {
   "cell_type": "code",
   "execution_count": null,
   "id": "17e7d48a-6bde-4e2f-b76d-ea516c45e9eb",
   "metadata": {},
   "outputs": [],
   "source": [
    "# Silver III\n",
    "# 1463 1로 만들기"
   ]
  },
  {
   "cell_type": "code",
   "execution_count": null,
   "id": "b84891a8-ca97-42eb-b6e7-a16bfab62b6b",
   "metadata": {},
   "outputs": [],
   "source": [
    "N = int(input())\n",
    "cnt = 0\n",
    "\n",
    "if N%3 == 2:\n",
    "    N = N-2\n",
    "    cnt += 2\n",
    "    while N == 1:\n",
    "        cnt += 1\n",
    "        N = N//3\n",
    "print(cnt)"
   ]
  },
  {
   "cell_type": "code",
   "execution_count": 49,
   "id": "c01ce776-d920-40b4-8030-56c9d60c672f",
   "metadata": {},
   "outputs": [
    {
     "name": "stdin",
     "output_type": "stream",
     "text": [
      " 9\n"
     ]
    },
    {
     "name": "stdout",
     "output_type": "stream",
     "text": [
      "3\n"
     ]
    }
   ],
   "source": [
    "# N이 3으로 나누어 떨어질 때 만 고려됨\n",
    "N = int(input())\n",
    "\n",
    "if N%3 == 0:\n",
    "    i = N%3\n",
    "elif N%2 == 0:\n",
    "    i = N%2\n",
    "else:\n",
    "    i = 0\n",
    "    \n",
    "cnt = 0\n",
    "\n",
    "N = N-i\n",
    "cnt += 1\n",
    "\n",
    "while N>1:\n",
    "    cnt += 1\n",
    "    N = N//3\n",
    "    \n",
    "print(cnt)"
   ]
  },
  {
   "cell_type": "code",
   "execution_count": 82,
   "id": "48eb5cbf-5134-4442-b655-57f8cbc26ffe",
   "metadata": {},
   "outputs": [
    {
     "name": "stdin",
     "output_type": "stream",
     "text": [
      " 7\n"
     ]
    },
    {
     "name": "stdout",
     "output_type": "stream",
     "text": [
      "here\n"
     ]
    }
   ],
   "source": [
    "N = int(input())\n",
    "cnt = 0\n",
    "\n",
    "while N>1:\n",
    "    "
   ]
  },
  {
   "cell_type": "code",
   "execution_count": null,
   "id": "008769e9-5df5-475f-87ed-e9433520a61c",
   "metadata": {},
   "outputs": [],
   "source": []
  }
 ],
 "metadata": {
  "kernelspec": {
   "display_name": "Python 3 (ipykernel)",
   "language": "python",
   "name": "python3"
  },
  "language_info": {
   "codemirror_mode": {
    "name": "ipython",
    "version": 3
   },
   "file_extension": ".py",
   "mimetype": "text/x-python",
   "name": "python",
   "nbconvert_exporter": "python",
   "pygments_lexer": "ipython3",
   "version": "3.8.12"
  }
 },
 "nbformat": 4,
 "nbformat_minor": 5
}
