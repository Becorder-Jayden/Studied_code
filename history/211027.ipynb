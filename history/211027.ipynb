{
 "cells": [
  {
   "cell_type": "code",
   "execution_count": 21,
   "id": "e9837690-208c-4fe8-be2a-c76d383e498b",
   "metadata": {},
   "outputs": [],
   "source": [
    "# Silver V\n",
    "# 1913 달팽이\n",
    "\n",
    "# 백준은 numpy 사용불가\n",
    "# [1], [2 ~ 9], [10 ~ 25], [26 ~ 49]\n",
    "# 끝자리 수 : 8n-7 : 1, 9, 25, 49, 85..\n",
    "# bn : 8, 16, 24, 48, 96..\n",
    "# n번째 줄 : 2n-1개 씩 나열\n",
    "\n",
    "# 행렬을 어떻게 구성을 할것인지\n",
    "# (m,n)을 어떻게 엑세스 할지 \n",
    "# list 안에 list를 구성하는 방안\n",
    "# (i,j)가 어떻게 변해야 하는 지를"
   ]
  },
  {
   "cell_type": "code",
   "execution_count": 78,
   "id": "4d8cfd62-c8e5-4520-b7de-408a2c53dcd8",
   "metadata": {},
   "outputs": [
    {
     "name": "stdin",
     "output_type": "stream",
     "text": [
      " 5\n"
     ]
    },
    {
     "data": {
      "text/plain": [
       "[[25, 10, 11, 12, 13],\n",
       " [24, 9, 2, 3, 14],\n",
       " [23, 8, 1, 4, 15],\n",
       " [22, 7, 6, 5, 16],\n",
       " [21, 20, 19, 18, 17]]"
      ]
     },
     "execution_count": 78,
     "metadata": {},
     "output_type": "execute_result"
    }
   ],
   "source": [
    "# NxN 행렬 만들기\n",
    "\n",
    "N = int(input())\n",
    "mat = []\n",
    "\n",
    "for i in range(N):\n",
    "    line = []\n",
    "    for j in range(N):\n",
    "        line.append(0)\n",
    "    mat.append(line)\n",
    "\n",
    "# center (0,0) = (N//2, N//2) \n",
    "c = N//2\n",
    "\n",
    "num = 0\n",
    "\n",
    "for i in range(2):\n",
    "    \n",
    "# 2칸이동\n",
    "mat[c][c] = 1\n",
    "mat[c-1][c] = 2\n",
    "\n",
    "mat[c-1][c] = 2\n",
    "mat[c-1][c+1] = 3\n",
    "\n",
    "# 3칸 이동\n",
    "mat[c-1][c+1] = 3\n",
    "mat[c][c+1] = 4\n",
    "mat[c+1][c+1] = 5\n",
    "\n",
    "mat[c+1][c+1] = 5\n",
    "mat[c+1][c] = 6\n",
    "mat[c+1][c-1] = 7\n",
    "\n",
    "# 4칸 이동\n",
    "mat[c+1][c-1] = 7\n",
    "mat[c][c-1] = 8\n",
    "mat[c-1][c-1] = 9\n",
    "mat[c-2][c-1] = 10\n",
    "\n",
    "mat[c-2][c-1] = 10\n",
    "mat[c-2][c] = 11\n",
    "mat[c-2][c+1] = 12\n",
    "mat[c-2][c+2] = 13\n",
    "\n",
    "# 5칸 이동\n",
    "mat[c-2][c+2] = 13\n",
    "mat[c-1][c+2] = 14\n",
    "mat[c][c+2] = 15\n",
    "mat[c+1][c+2] = 16\n",
    "mat[c+2][c+2] = 17\n",
    "\n",
    "mat[c+2][c+2] = 17\n",
    "mat[c+2][c+1] = 18\n",
    "mat[c+2][c] = 19\n",
    "mat[c+2][c-1] = 20\n",
    "mat[c+2][c-2] = 21\n",
    "mat"
   ]
  },
  {
   "cell_type": "code",
   "execution_count": 115,
   "id": "c79fd7c7-669c-44c6-b6c4-9e8686b2776c",
   "metadata": {},
   "outputs": [
    {
     "name": "stdin",
     "output_type": "stream",
     "text": [
      " 5\n"
     ]
    },
    {
     "data": {
      "text/plain": [
       "[[0, 10, 11, 12, 13],\n",
       " [0, 9, 2, 3, 14],\n",
       " [0, 8, 1, 4, 15],\n",
       " [0, 7, 6, 5, 16],\n",
       " [21, 20, 19, 18, 17]]"
      ]
     },
     "execution_count": 115,
     "metadata": {},
     "output_type": "execute_result"
    }
   ],
   "source": [
    "# NxN 행렬 만들기\n",
    "\n",
    "N = int(input())\n",
    "mat = []\n",
    "\n",
    "for i in range(N):\n",
    "    line = []\n",
    "    for j in range(N):\n",
    "        line.append(0)\n",
    "    mat.append(line)\n",
    "\n",
    "# center (0,0) = (N//2, N//2) \n",
    "c = N//2\n",
    "a = 1\n",
    "\n",
    "\n",
    "# M = 2\n",
    "for i in range(2): # 홀\n",
    "    mat[c-i][c] = a\n",
    "    a += 1\n",
    "a -= 1\n",
    "\n",
    "for j in range(2): # 짝\n",
    "    mat[c-i][c+j] = a\n",
    "    a += 1\n",
    "a -= 1\n",
    "\n",
    "\n",
    "# M = 3\n",
    "for i in range(3): # 홀\n",
    "    mat[c-(1-i)][c+j] = a\n",
    "    a += 1\n",
    "a -=1\n",
    "\n",
    "for j in range(3): # 짝\n",
    "    mat[c-(1-i)][c+(1-j)] = a\n",
    "    a += 1\n",
    "a -= 1\n",
    "\n",
    "\n",
    "# M = 4\n",
    "for i in range(4): # 홀\n",
    "    mat[c+(1-i)][c+(1-j)] = a\n",
    "    a += 1\n",
    "a -=1\n",
    "\n",
    "for j in range(4): # 짝\n",
    "    mat[c+(1-i)][c-(1-j)] = a\n",
    "    a += 1\n",
    "a -= 1\n",
    "\n",
    "\n",
    "# M = 5\n",
    "for i in range(5): # 홀\n",
    "    mat[c-(2-i)][c-(1-j)] = a\n",
    "    a += 1\n",
    "a -= 1\n",
    "\n",
    "for j in range(5): # 짝\n",
    "    mat[c-(2-i)][c+(2-j)] = a\n",
    "    a += 1\n",
    "a -= 1\n",
    "\n",
    "\n",
    "mat    \n",
    "# # 2칸이동\n",
    "# mat[c][c] = 1\n",
    "# mat[c-1][c] = 2\n",
    "\n",
    "# mat[c-1][c] = 2\n",
    "# mat[c-1][c+1] = 3"
   ]
  },
  {
   "cell_type": "code",
   "execution_count": 114,
   "id": "47cf12df-d3c7-4e18-9769-a9de0a5b9f51",
   "metadata": {},
   "outputs": [
    {
     "name": "stdin",
     "output_type": "stream",
     "text": [
      " 5\n",
      " 2\n"
     ]
    },
    {
     "data": {
      "text/plain": [
       "[[0, 30, 31, 32, 33],\n",
       " [0, 29, 22, 23, 34],\n",
       " [0, 28, 21, 24, 35],\n",
       " [0, 27, 26, 25, 36],\n",
       " [41, 40, 39, 38, 37]]"
      ]
     },
     "execution_count": 114,
     "metadata": {},
     "output_type": "execute_result"
    }
   ],
   "source": [
    "# NxN 행렬 만들기\n",
    "\n",
    "N = int(input())\n",
    "M = int(input())\n",
    "mat = []\n",
    "\n",
    "for i in range(N):\n",
    "    line = []\n",
    "    for j in range(N):\n",
    "        line.append(0)\n",
    "    mat.append(line)\n",
    "\n",
    "# center (0,0) = (N//2, N//2) \n",
    "c = N//2\n",
    "a = 1\n",
    "t = 0\n",
    "\n",
    "for m in range(M):\n",
    "    if m//2 == 0: # m이 짝수일 때 \n",
    "        for i in range(m):\n",
    "            mat[c-i-(m//2-1)][c] = a\n",
    "            a += 1\n",
    "        a -= 1\n",
    "\n",
    "        for j in range(m):\n",
    "            mat[c-i+(m//2-1)][c+j-(m//2-1)] = a\n",
    "            a += 1\n",
    "        a -= 1\n",
    "    \n",
    "    elif m//2 != 0: # m이 홀수일 때 \n",
    "        for i in range(m):\n",
    "            mat[c+i-m//2][c] = a\n",
    "            a += 1\n",
    "        a -= 1\n",
    "\n",
    "        for j in range(m):\n",
    "            mat[c+i-(m//2-1)][c+j] = a\n",
    "            a += 1\n",
    "        a -= 1\n",
    "    \n",
    "    \n",
    "    \n",
    "    \n",
    "    \n",
    "    \n",
    "# M = 2\n",
    "for i in range(2): # 홀\n",
    "    mat[c-i][c] = a\n",
    "    a += 1\n",
    "a -= 1\n",
    "\n",
    "for i in range(3): # 홀\n",
    "    mat[c+i-1][c+j] = a\n",
    "    a += 1\n",
    "a -=1\n",
    "\n",
    "for i in range(4): # 홀\n",
    "    mat[c-i-1][c-j+1] = a\n",
    "    a += 1\n",
    "a -=1\n",
    "\n",
    "for i in range(5): # 홀\n",
    "    mat[c+i-2][c+j-1] = a\n",
    "    a += 1\n",
    "a -= 1\n",
    "\n",
    "\n",
    "\n",
    "for j in range(2): # 짝\n",
    "    mat[c-i][c+j] = a\n",
    "    a += 1\n",
    "a -= 1\n",
    "\n",
    "\n",
    "for j in range(3): # 짝\n",
    "    mat[c+i-1][c+(1-j)] = a\n",
    "    a += 1\n",
    "a -= 1\n",
    "\n",
    "for j in range(4): # 짝\n",
    "     mat[c-i+1][c-(1-j)] = a\n",
    "    a += 1\n",
    "a -= 1\n",
    "\n",
    "for j in range(5): # 짝\n",
    "    mat[c+i-2][c+(2-j)] = a\n",
    "    a += 1\n",
    "a -= 1\n",
    "\n",
    "\n",
    "mat    \n",
    "# # 2칸이동\n",
    "# mat[c][c] = 1\n",
    "# mat[c-1][c] = 2\n",
    "\n",
    "# mat[c-1][c] = 2\n",
    "# mat[c-1][c+1] = 3"
   ]
  },
  {
   "cell_type": "code",
   "execution_count": 2,
   "id": "3fe833ba-7907-48d7-8394-f31c4dfad25d",
   "metadata": {},
   "outputs": [
    {
     "name": "stdin",
     "output_type": "stream",
     "text": [
      " 5\n"
     ]
    },
    {
     "data": {
      "text/plain": [
       "[[0, 0, 0, 0, 0],\n",
       " [0, 0, 0, 0, 0],\n",
       " [0, 0, 0, 0, 0],\n",
       " [0, 0, 0, 0, 0],\n",
       " [0, 0, 0, 0, 0]]"
      ]
     },
     "execution_count": 2,
     "metadata": {},
     "output_type": "execute_result"
    }
   ],
   "source": [
    "N = int(input())\n",
    "mat = []\n",
    "\n",
    "for i in range(N):\n",
    "    line = []\n",
    "    for j in range(N):\n",
    "        line.append(0)\n",
    "    mat.append(line)\n",
    "    \n",
    "mat"
   ]
  },
  {
   "cell_type": "code",
   "execution_count": null,
   "id": "3b40e493-b28f-4871-b310-85baf46f2618",
   "metadata": {},
   "outputs": [],
   "source": [
    "#정답 예시\n",
    "'''\n",
    "49 26 27 28 29 30 31\n",
    "48 25 10 11 12 13 32\n",
    "47 24  9  2  3 14 33\n",
    "46 23  8  1  4 15 34\n",
    "45 22  7  6  5 16 35\n",
    "44 21 20 19 18 17 36\n",
    "43 42 41 40 39 38 37\n",
    "5 7\n",
    "'''"
   ]
  },
  {
   "cell_type": "code",
   "execution_count": 123,
   "id": "736ac701-d65e-4e75-9777-10b057f36c68",
   "metadata": {},
   "outputs": [
    {
     "data": {
      "text/plain": [
       "1"
      ]
     },
     "execution_count": 123,
     "metadata": {},
     "output_type": "execute_result"
    }
   ],
   "source": [
    "3//2"
   ]
  }
 ],
 "metadata": {
  "kernelspec": {
   "display_name": "Python 3 (ipykernel)",
   "language": "python",
   "name": "python3"
  },
  "language_info": {
   "codemirror_mode": {
    "name": "ipython",
    "version": 3
   },
   "file_extension": ".py",
   "mimetype": "text/x-python",
   "name": "python",
   "nbconvert_exporter": "python",
   "pygments_lexer": "ipython3",
   "version": "3.8.12"
  }
 },
 "nbformat": 4,
 "nbformat_minor": 5
}
