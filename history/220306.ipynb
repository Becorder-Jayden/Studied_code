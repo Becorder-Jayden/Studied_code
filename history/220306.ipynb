{
 "cells": [
  {
   "cell_type": "markdown",
   "id": "bd04aac9-743f-456c-b67f-7e24aedf8973",
   "metadata": {},
   "source": [
    "# 2022.03.06"
   ]
  },
  {
   "cell_type": "code",
   "execution_count": 1,
   "id": "28bdeaff-258f-4a36-b28e-21318ead3f91",
   "metadata": {},
   "outputs": [],
   "source": [
    "# Silver III\n",
    "# 3273 두 수의 합__정답 코드 참고"
   ]
  },
  {
   "cell_type": "code",
   "execution_count": 36,
   "id": "f8d8dd73-eb9f-4b3c-ba54-3655599b75ab",
   "metadata": {},
   "outputs": [
    {
     "name": "stdout",
     "output_type": "stream",
     "text": [
      "3\n"
     ]
    }
   ],
   "source": [
    "n = 9\n",
    "arr = [5, 12, 7, 10, 9, 1, 2, 3, 11]\n",
    "x = 13\n",
    "arr.sort()\n",
    "\n",
    "start, end = 0, n-1\n",
    "cnt = 0\n",
    "\n",
    "while start < end:\n",
    "    temp = arr[start] + arr[end]\n",
    "    if temp == x:\n",
    "        cnt += 1\n",
    "        start += 1\n",
    "    elif temp > x:\n",
    "        end -= 1\n",
    "    else:\n",
    "        start += 1\n",
    "\n",
    "print(cnt)"
   ]
  },
  {
   "cell_type": "code",
   "execution_count": 37,
   "id": "3ff541fc-a745-4661-9478-05cb1a1637f9",
   "metadata": {},
   "outputs": [],
   "source": [
    "# 다시 풀어보기"
   ]
  },
  {
   "cell_type": "code",
   "execution_count": 45,
   "id": "85e7f9af-c413-4175-8fdf-8bce450daf52",
   "metadata": {},
   "outputs": [
    {
     "name": "stdin",
     "output_type": "stream",
     "text": [
      " 9\n",
      " 5 12 7 10 9 1 2 3 11\n",
      " 13\n"
     ]
    },
    {
     "name": "stdout",
     "output_type": "stream",
     "text": [
      "3\n"
     ]
    }
   ],
   "source": [
    "n = int(input())\n",
    "arr = list(map(int, input().split()))\n",
    "x = int(input())\n",
    "arr.sort()\n",
    "\n",
    "start, end = 0, n-1\n",
    "cnt = 0\n",
    "\n",
    "while start < end:\n",
    "    summary = arr[start] + arr[end]\n",
    "    if summary == x:\n",
    "        cnt += 1\n",
    "        start += 1\n",
    "    elif summary > x:\n",
    "        end -= 1\n",
    "    elif summary < x:  # else로 처리 가능\n",
    "        start += 1\n",
    "\n",
    "print(cnt)"
   ]
  },
  {
   "cell_type": "markdown",
   "id": "545553cc-93d6-4bd3-80a2-2ccedc9e97df",
   "metadata": {},
   "source": [
    "---"
   ]
  },
  {
   "cell_type": "code",
   "execution_count": 46,
   "id": "c229ba37-97c0-40c0-bcb5-2687d073182e",
   "metadata": {},
   "outputs": [],
   "source": [
    "# Silver II\n",
    "# 11279 최대 힙"
   ]
  },
  {
   "cell_type": "code",
   "execution_count": 24,
   "id": "a60340b9-f1b8-4d57-a4d4-71a1eb01e78f",
   "metadata": {},
   "outputs": [
    {
     "name": "stdin",
     "output_type": "stream",
     "text": [
      " 13\n",
      " 0\n"
     ]
    },
    {
     "name": "stdout",
     "output_type": "stream",
     "text": [
      "0\n"
     ]
    },
    {
     "name": "stdin",
     "output_type": "stream",
     "text": [
      " 1\n",
      " 2\n",
      " 0\n"
     ]
    },
    {
     "name": "stdout",
     "output_type": "stream",
     "text": [
      "2\n"
     ]
    },
    {
     "name": "stdin",
     "output_type": "stream",
     "text": [
      " 0\n"
     ]
    },
    {
     "name": "stdout",
     "output_type": "stream",
     "text": [
      "1\n"
     ]
    },
    {
     "name": "stdin",
     "output_type": "stream",
     "text": [
      " 3\n",
      " 2\n",
      " 1\n",
      " 0\n"
     ]
    },
    {
     "name": "stdout",
     "output_type": "stream",
     "text": [
      "3\n"
     ]
    },
    {
     "name": "stdin",
     "output_type": "stream",
     "text": [
      " 0\n"
     ]
    },
    {
     "name": "stdout",
     "output_type": "stream",
     "text": [
      "2\n"
     ]
    },
    {
     "name": "stdin",
     "output_type": "stream",
     "text": [
      " 0\n"
     ]
    },
    {
     "name": "stdout",
     "output_type": "stream",
     "text": [
      "1\n"
     ]
    },
    {
     "name": "stdin",
     "output_type": "stream",
     "text": [
      " 0\n"
     ]
    },
    {
     "name": "stdout",
     "output_type": "stream",
     "text": [
      "0\n"
     ]
    },
    {
     "name": "stdin",
     "output_type": "stream",
     "text": [
      " 0\n"
     ]
    },
    {
     "name": "stdout",
     "output_type": "stream",
     "text": [
      "0\n"
     ]
    }
   ],
   "source": [
    "import heapq\n",
    "\n",
    "N = int(input())\n",
    "heap = []\n",
    "for i in range(N):\n",
    "    x = int(input())\n",
    "    if x != 0:\n",
    "        heapq.heappush(heap, -x)\n",
    "    else:\n",
    "        if len(heap) == 0:\n",
    "            print(0)\n",
    "        else:   \n",
    "            pop = heapq.heappop(heap)\n",
    "            print(abs(pop))"
   ]
  },
  {
   "cell_type": "markdown",
   "id": "f5bd5cf3-eb8f-4e02-ae8e-9b0ea89d3e4b",
   "metadata": {},
   "source": [
    "---"
   ]
  },
  {
   "cell_type": "code",
   "execution_count": 1,
   "id": "8835afca-4ba0-46ad-86d0-b31f6e93a7e6",
   "metadata": {},
   "outputs": [],
   "source": [
    "# Silver I\n",
    "# 6064 카잉 달력__정답 카피_아이디어를 어떻게 생각해내지."
   ]
  },
  {
   "cell_type": "code",
   "execution_count": 91,
   "id": "36db0070-9164-4bad-9cd8-3ce356e6e3b3",
   "metadata": {},
   "outputs": [
    {
     "name": "stdin",
     "output_type": "stream",
     "text": [
      " 3\n",
      " 10 12 3 9\n"
     ]
    },
    {
     "name": "stdout",
     "output_type": "stream",
     "text": [
      "33\n"
     ]
    },
    {
     "name": "stdin",
     "output_type": "stream",
     "text": [
      " 10 12 7 2\n"
     ]
    },
    {
     "name": "stdout",
     "output_type": "stream",
     "text": [
      "-1\n"
     ]
    },
    {
     "name": "stdin",
     "output_type": "stream",
     "text": [
      " 13 11 5 6\n"
     ]
    },
    {
     "name": "stdout",
     "output_type": "stream",
     "text": [
      "83\n"
     ]
    }
   ],
   "source": [
    "T = int(input())\n",
    "for i in range(T):\n",
    "    M, N, x, y = map(int, input().split())\n",
    "    answer = -1\n",
    "    \n",
    "    while x <= M*N:\n",
    "        if (x-y) % N == 0:\n",
    "            answer = x\n",
    "            break\n",
    "        x += M\n",
    "    \n",
    "    print(answer)"
   ]
  },
  {
   "cell_type": "code",
   "execution_count": 94,
   "id": "ac33580d-5eb2-494e-8f27-545b09c5b2ed",
   "metadata": {},
   "outputs": [
    {
     "data": {
      "text/plain": [
       "2"
      ]
     },
     "execution_count": 94,
     "metadata": {},
     "output_type": "execute_result"
    }
   ],
   "source": [
    "-6%4"
   ]
  },
  {
   "cell_type": "code",
   "execution_count": null,
   "id": "9a4fa7bd-133e-4f03-bfc6-52f2f1f485d5",
   "metadata": {},
   "outputs": [],
   "source": []
  }
 ],
 "metadata": {
  "kernelspec": {
   "display_name": "Python 3 (ipykernel)",
   "language": "python",
   "name": "python3"
  },
  "language_info": {
   "codemirror_mode": {
    "name": "ipython",
    "version": 3
   },
   "file_extension": ".py",
   "mimetype": "text/x-python",
   "name": "python",
   "nbconvert_exporter": "python",
   "pygments_lexer": "ipython3",
   "version": "3.8.12"
  }
 },
 "nbformat": 4,
 "nbformat_minor": 5
}
