{
 "cells": [
  {
   "cell_type": "markdown",
   "id": "b061f02f-f715-4a59-8092-809c899698f0",
   "metadata": {},
   "source": [
    "# 2021.12.21"
   ]
  },
  {
   "cell_type": "code",
   "execution_count": 1,
   "id": "7cd8831e-bd1c-4c53-aa87-c885a0cefbb9",
   "metadata": {},
   "outputs": [],
   "source": [
    "# Silver V\n",
    "# 1018 체스판 다시 칠하기"
   ]
  },
  {
   "cell_type": "code",
   "execution_count": 68,
   "id": "bb76bdd9-56e9-4a41-895c-eff144cf428d",
   "metadata": {},
   "outputs": [
    {
     "name": "stdin",
     "output_type": "stream",
     "text": [
      " 9 23\n",
      " BBBBBBBBBBBBBBBBBBBBBBB\n",
      " BBBBBBBBBBBBBBBBBBBBBBB\n",
      " BBBBBBBBBBBBBBBBBBBBBBB\n",
      " BBBBBBBBBBBBBBBBBBBBBBB\n",
      " BBBBBBBBBBBBBBBBBBBBBBB\n",
      " BBBBBBBBBBBBBBBBBBBBBBB\n",
      " BBBBBBBBBBBBBBBBBBBBBBB\n",
      " BBBBBBBBBBBBBBBBBBBBBBB\n",
      " BBBBBBBBBBBBBBBBBBBBBBW\n"
     ]
    },
    {
     "name": "stdout",
     "output_type": "stream",
     "text": [
      "[11, 11, 11, 11, 11, 11, 11, 11, 11]\n"
     ]
    }
   ],
   "source": [
    "N, M  = map(int, input().split())\n",
    "chess = [list(input()) for i in range(N)]\n",
    "paint = 0\n",
    "cnt = []\n",
    "\n",
    "for i in range(N):\n",
    "    if chess[i][0] == 'W':\n",
    "        for j in range(M//2):\n",
    "            if not chess[i][2*j] == 'W':\n",
    "                paint += 1 \n",
    "            if not chess[i][2*j+1] == 'B':\n",
    "                paint += 1\n",
    "        cnt.append(paint)\n",
    "        paint = 0\n",
    "        \n",
    "    elif chess[i][0] == 'B':\n",
    "        for j in range(M//2):\n",
    "            if not chess[i][2*j] == 'B':\n",
    "                paint += 1 \n",
    "            if not chess[i][2*j+1] == 'W':\n",
    "                paint += 1\n",
    "        cnt.append(paint)\n",
    "        paint = 0\n",
    "        \n",
    "print(cnt)"
   ]
  },
  {
   "cell_type": "code",
   "execution_count": 140,
   "id": "c29ed642-61ba-43ae-8472-6997c12d7fb0",
   "metadata": {},
   "outputs": [
    {
     "name": "stdin",
     "output_type": "stream",
     "text": [
      " 1 13\n",
      " BBBBBBBBWBWBW\n"
     ]
    },
    {
     "ename": "IndexError",
     "evalue": "list assignment index out of range",
     "output_type": "error",
     "traceback": [
      "\u001b[1;31m---------------------------------------------------------------------------\u001b[0m",
      "\u001b[1;31mIndexError\u001b[0m                                Traceback (most recent call last)",
      "\u001b[1;32m~\\AppData\\Local\\Temp/ipykernel_13272/4181203473.py\u001b[0m in \u001b[0;36m<module>\u001b[1;34m\u001b[0m\n\u001b[0;32m     22\u001b[0m         \u001b[1;32mfor\u001b[0m \u001b[0mj\u001b[0m \u001b[1;32min\u001b[0m \u001b[0mrange\u001b[0m\u001b[1;33m(\u001b[0m\u001b[1;33m(\u001b[0m\u001b[0mM\u001b[0m\u001b[1;33m+\u001b[0m\u001b[1;36m2\u001b[0m\u001b[1;33m)\u001b[0m\u001b[1;33m//\u001b[0m\u001b[1;36m2\u001b[0m\u001b[1;33m)\u001b[0m\u001b[1;33m:\u001b[0m\u001b[1;33m\u001b[0m\u001b[1;33m\u001b[0m\u001b[0m\n\u001b[0;32m     23\u001b[0m             \u001b[0mchess_b\u001b[0m\u001b[1;33m[\u001b[0m\u001b[0mi\u001b[0m\u001b[1;33m]\u001b[0m\u001b[1;33m[\u001b[0m\u001b[1;36m2\u001b[0m\u001b[1;33m*\u001b[0m\u001b[0mj\u001b[0m\u001b[1;33m]\u001b[0m \u001b[1;33m=\u001b[0m \u001b[1;34m'B'\u001b[0m\u001b[1;33m\u001b[0m\u001b[1;33m\u001b[0m\u001b[0m\n\u001b[1;32m---> 24\u001b[1;33m             \u001b[0mchess_b\u001b[0m\u001b[1;33m[\u001b[0m\u001b[0mi\u001b[0m\u001b[1;33m]\u001b[0m\u001b[1;33m[\u001b[0m\u001b[1;36m2\u001b[0m\u001b[1;33m*\u001b[0m\u001b[0mj\u001b[0m\u001b[1;33m+\u001b[0m\u001b[1;36m1\u001b[0m\u001b[1;33m]\u001b[0m \u001b[1;33m=\u001b[0m \u001b[1;34m'W'\u001b[0m\u001b[1;33m\u001b[0m\u001b[1;33m\u001b[0m\u001b[0m\n\u001b[0m\u001b[0;32m     25\u001b[0m     \u001b[1;32melse\u001b[0m\u001b[1;33m:\u001b[0m\u001b[1;33m\u001b[0m\u001b[1;33m\u001b[0m\u001b[0m\n\u001b[0;32m     26\u001b[0m         \u001b[1;32mfor\u001b[0m \u001b[0mj\u001b[0m \u001b[1;32min\u001b[0m \u001b[0mrange\u001b[0m\u001b[1;33m(\u001b[0m\u001b[0mM\u001b[0m\u001b[1;33m//\u001b[0m\u001b[1;36m2\u001b[0m\u001b[1;33m)\u001b[0m\u001b[1;33m:\u001b[0m\u001b[1;33m\u001b[0m\u001b[1;33m\u001b[0m\u001b[0m\n",
      "\u001b[1;31mIndexError\u001b[0m: list assignment index out of range"
     ]
    }
   ],
   "source": [
    "N, M  = map(int, input().split())\n",
    "chess = [list(input()) for i in range(N)]\n",
    "paint = 0\n",
    "cnt = []\n",
    "\n",
    "chess_w = [[0]*M for i in range(N)]\n",
    "chess_b = [[0]*M for i in range(N)]\n",
    "\n",
    "# chess_w\n",
    "for i in range(N):\n",
    "    if i%2 == 0:\n",
    "        for j in range(M//2):\n",
    "            chess_w[i][2*j] = 'W'\n",
    "            chess_w[i][2*j+1] = 'B'\n",
    "    else:\n",
    "        for j in range(M//2):\n",
    "            chess_w[i][2*j] = 'B'\n",
    "            chess_w[i][2*j+1] = 'W'\n",
    "# chess_b \n",
    "for i in range(N):\n",
    "    if i%2 == 0:\n",
    "        for j in range(M//2):\n",
    "            chess_b[i][2*j] = 'B'\n",
    "            chess_b[i][2*j+1] = 'W'\n",
    "    else:\n",
    "        for j in range(M//2):\n",
    "            chess_b[i][2*j] = 'W'\n",
    "            chess_b[i][2*j+1] = 'B'\n",
    "            \n",
    "# counting_errors\n",
    "for i in range(N):\n",
    "    for j in range(M):\n",
    "        if chess[i][j] != chess_w[i][j]:\n",
    "            paint += 1    \n",
    "cnt.append(paint)\n",
    "print(chess)\n",
    "print(chess_w)\n",
    "print(chess_b)\n",
    "paint = 0\n",
    "\n",
    "# for i in range(N):\n",
    "#     for j in range(M):\n",
    "#         if chess[i][j] != chess_b[i][j]:\n",
    "#             paint += 1 \n",
    "# cnt.append(paint)\n",
    "\n",
    "\n",
    "# print(cnt)"
   ]
  },
  {
   "cell_type": "code",
   "execution_count": null,
   "id": "a4d9893b-7b8d-4d5b-a84f-2e7f85226a7e",
   "metadata": {},
   "outputs": [],
   "source": []
  },
  {
   "cell_type": "code",
   "execution_count": 134,
   "id": "4f732d34-9123-4310-8ca6-07e519126207",
   "metadata": {},
   "outputs": [
    {
     "data": {
      "text/plain": [
       "6"
      ]
     },
     "execution_count": 134,
     "metadata": {},
     "output_type": "execute_result"
    }
   ],
   "source": [
    "M//2"
   ]
  }
 ],
 "metadata": {
  "kernelspec": {
   "display_name": "Python 3 (ipykernel)",
   "language": "python",
   "name": "python3"
  },
  "language_info": {
   "codemirror_mode": {
    "name": "ipython",
    "version": 3
   },
   "file_extension": ".py",
   "mimetype": "text/x-python",
   "name": "python",
   "nbconvert_exporter": "python",
   "pygments_lexer": "ipython3",
   "version": "3.8.12"
  }
 },
 "nbformat": 4,
 "nbformat_minor": 5
}
