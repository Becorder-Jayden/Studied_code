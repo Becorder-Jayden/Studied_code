{
 "cells": [
  {
   "cell_type": "markdown",
   "id": "af3e82ca-59e6-4ae1-93dd-823b0d37f367",
   "metadata": {},
   "source": [
    "# 2022.01.07"
   ]
  },
  {
   "cell_type": "code",
   "execution_count": null,
   "id": "76a92800-2990-413d-beab-65a22889e0e7",
   "metadata": {},
   "outputs": [],
   "source": [
    "# Silver I\n",
    "# 단지번호 붙이기 (BFS)"
   ]
  },
  {
   "cell_type": "code",
   "execution_count": 4,
   "id": "a2f9da22-b0da-4cbf-be59-05ec9acc73b3",
   "metadata": {},
   "outputs": [
    {
     "name": "stdin",
     "output_type": "stream",
     "text": [
      " 7\n",
      " 0110100\n",
      " 0110101\n",
      " 1110101\n",
      " 0000111\n",
      " 0100000\n",
      " 0111110\n",
      " 0111000\n"
     ]
    },
    {
     "name": "stdout",
     "output_type": "stream",
     "text": [
      "3\n",
      "7\n",
      "8\n",
      "9\n"
     ]
    }
   ],
   "source": [
    "from collections import deque\n",
    "\n",
    "# 기본 입력값 (graph : 2차원 평면, visited : 2차원 체커)\n",
    "N = int(input())\n",
    "graph = []\n",
    "visited = [[False]*N for i in range(N)]\n",
    "cnt = 0\n",
    "\n",
    "# graph에 아파트 위치 입력\n",
    "for i in range(N):\n",
    "    line = list(map(int, input()))\n",
    "    graph.append(line)\n",
    "    \n",
    "# bfs 정의   \n",
    "def bfs(x, y):\n",
    "    cnt = 0\n",
    "    \n",
    "    dx = [0,0,-1,1]\n",
    "    dy = [1,-1,0,0]\n",
    "    \n",
    "    queue = deque()\n",
    "    \n",
    "    if graph[y][x] == 1:\n",
    "        queue.append((x, y))\n",
    "        visited[y][x] = True\n",
    "        cnt += 1\n",
    "        \n",
    "        while queue:\n",
    "            x, y = queue.popleft()\n",
    "            \n",
    "            for i in range(4):\n",
    "                nx = x+dx[i]\n",
    "                ny = y+dy[i]\n",
    "                if 0<=nx<N and 0<=ny<N:\n",
    "                    if graph[ny][nx]==1 and visited[ny][nx]==False:\n",
    "                        queue.append((nx,ny))\n",
    "                        visited[ny][nx] = True\n",
    "                        cnt += 1\n",
    "    \n",
    "    return cnt\n",
    "\n",
    "li = []\n",
    "\n",
    "for i in range(N):\n",
    "    for j in range(N):\n",
    "        if graph[j][i] == 1 and visited[j][i]==False:\n",
    "            li.append(bfs(i, j))\n",
    "\n",
    "print(len(li))\n",
    "for i in sorted(li):\n",
    "    print(i)"
   ]
  },
  {
   "cell_type": "markdown",
   "id": "2e25e24c-1561-4884-a13d-6bf910aa7e60",
   "metadata": {},
   "source": [
    "---"
   ]
  },
  {
   "cell_type": "code",
   "execution_count": 1,
   "id": "4d4eb891-d724-4c66-8c72-0dc4592ebd13",
   "metadata": {},
   "outputs": [],
   "source": [
    "# 바이러스 문제 재풀이_정답"
   ]
  },
  {
   "cell_type": "code",
   "execution_count": 11,
   "id": "51500b52-52c3-4e02-86eb-47c755d3f2b5",
   "metadata": {},
   "outputs": [
    {
     "ename": "KeyboardInterrupt",
     "evalue": "Interrupted by user",
     "output_type": "error",
     "traceback": [
      "\u001b[1;31m---------------------------------------------------------------------------\u001b[0m",
      "\u001b[1;31mKeyboardInterrupt\u001b[0m                         Traceback (most recent call last)",
      "\u001b[1;32m~\\AppData\\Local\\Temp/ipykernel_7176/1781360133.py\u001b[0m in \u001b[0;36m<module>\u001b[1;34m\u001b[0m\n\u001b[0;32m      1\u001b[0m \u001b[1;32mfrom\u001b[0m \u001b[0mcollections\u001b[0m \u001b[1;32mimport\u001b[0m \u001b[0mdeque\u001b[0m\u001b[1;33m\u001b[0m\u001b[1;33m\u001b[0m\u001b[0m\n\u001b[0;32m      2\u001b[0m \u001b[1;33m\u001b[0m\u001b[0m\n\u001b[1;32m----> 3\u001b[1;33m \u001b[0mN\u001b[0m \u001b[1;33m=\u001b[0m \u001b[0mint\u001b[0m\u001b[1;33m(\u001b[0m\u001b[0minput\u001b[0m\u001b[1;33m(\u001b[0m\u001b[1;33m)\u001b[0m\u001b[1;33m)\u001b[0m\u001b[1;33m\u001b[0m\u001b[1;33m\u001b[0m\u001b[0m\n\u001b[0m\u001b[0;32m      4\u001b[0m \u001b[0mgraph\u001b[0m \u001b[1;33m=\u001b[0m \u001b[1;33m[\u001b[0m\u001b[1;33m[\u001b[0m\u001b[1;33m]\u001b[0m \u001b[1;32mfor\u001b[0m \u001b[0mi\u001b[0m \u001b[1;32min\u001b[0m \u001b[0mrange\u001b[0m\u001b[1;33m(\u001b[0m\u001b[0mN\u001b[0m\u001b[1;33m+\u001b[0m\u001b[1;36m1\u001b[0m\u001b[1;33m)\u001b[0m\u001b[1;33m]\u001b[0m\u001b[1;33m\u001b[0m\u001b[1;33m\u001b[0m\u001b[0m\n\u001b[0;32m      5\u001b[0m \u001b[0mvisited\u001b[0m \u001b[1;33m=\u001b[0m \u001b[1;33m[\u001b[0m\u001b[1;32mFalse\u001b[0m\u001b[1;33m]\u001b[0m\u001b[1;33m*\u001b[0m\u001b[1;33m(\u001b[0m\u001b[0mN\u001b[0m\u001b[1;33m+\u001b[0m\u001b[1;36m1\u001b[0m\u001b[1;33m)\u001b[0m\u001b[1;33m\u001b[0m\u001b[1;33m\u001b[0m\u001b[0m\n",
      "\u001b[1;32m~\\anaconda3\\lib\\site-packages\\ipykernel\\kernelbase.py\u001b[0m in \u001b[0;36mraw_input\u001b[1;34m(self, prompt)\u001b[0m\n\u001b[0;32m   1004\u001b[0m                 \u001b[1;34m\"raw_input was called, but this frontend does not support input requests.\"\u001b[0m\u001b[1;33m\u001b[0m\u001b[1;33m\u001b[0m\u001b[0m\n\u001b[0;32m   1005\u001b[0m             )\n\u001b[1;32m-> 1006\u001b[1;33m         return self._input_request(\n\u001b[0m\u001b[0;32m   1007\u001b[0m             \u001b[0mstr\u001b[0m\u001b[1;33m(\u001b[0m\u001b[0mprompt\u001b[0m\u001b[1;33m)\u001b[0m\u001b[1;33m,\u001b[0m\u001b[1;33m\u001b[0m\u001b[1;33m\u001b[0m\u001b[0m\n\u001b[0;32m   1008\u001b[0m             \u001b[0mself\u001b[0m\u001b[1;33m.\u001b[0m\u001b[0m_parent_ident\u001b[0m\u001b[1;33m[\u001b[0m\u001b[1;34m\"shell\"\u001b[0m\u001b[1;33m]\u001b[0m\u001b[1;33m,\u001b[0m\u001b[1;33m\u001b[0m\u001b[1;33m\u001b[0m\u001b[0m\n",
      "\u001b[1;32m~\\anaconda3\\lib\\site-packages\\ipykernel\\kernelbase.py\u001b[0m in \u001b[0;36m_input_request\u001b[1;34m(self, prompt, ident, parent, password)\u001b[0m\n\u001b[0;32m   1049\u001b[0m             \u001b[1;32mexcept\u001b[0m \u001b[0mKeyboardInterrupt\u001b[0m\u001b[1;33m:\u001b[0m\u001b[1;33m\u001b[0m\u001b[1;33m\u001b[0m\u001b[0m\n\u001b[0;32m   1050\u001b[0m                 \u001b[1;31m# re-raise KeyboardInterrupt, to truncate traceback\u001b[0m\u001b[1;33m\u001b[0m\u001b[1;33m\u001b[0m\u001b[1;33m\u001b[0m\u001b[0m\n\u001b[1;32m-> 1051\u001b[1;33m                 \u001b[1;32mraise\u001b[0m \u001b[0mKeyboardInterrupt\u001b[0m\u001b[1;33m(\u001b[0m\u001b[1;34m\"Interrupted by user\"\u001b[0m\u001b[1;33m)\u001b[0m \u001b[1;32mfrom\u001b[0m \u001b[1;32mNone\u001b[0m\u001b[1;33m\u001b[0m\u001b[1;33m\u001b[0m\u001b[0m\n\u001b[0m\u001b[0;32m   1052\u001b[0m             \u001b[1;32mexcept\u001b[0m \u001b[0mException\u001b[0m\u001b[1;33m:\u001b[0m\u001b[1;33m\u001b[0m\u001b[1;33m\u001b[0m\u001b[0m\n\u001b[0;32m   1053\u001b[0m                 \u001b[0mself\u001b[0m\u001b[1;33m.\u001b[0m\u001b[0mlog\u001b[0m\u001b[1;33m.\u001b[0m\u001b[0mwarning\u001b[0m\u001b[1;33m(\u001b[0m\u001b[1;34m\"Invalid Message:\"\u001b[0m\u001b[1;33m,\u001b[0m \u001b[0mexc_info\u001b[0m\u001b[1;33m=\u001b[0m\u001b[1;32mTrue\u001b[0m\u001b[1;33m)\u001b[0m\u001b[1;33m\u001b[0m\u001b[1;33m\u001b[0m\u001b[0m\n",
      "\u001b[1;31mKeyboardInterrupt\u001b[0m: Interrupted by user"
     ]
    }
   ],
   "source": [
    "from collections import deque\n",
    "\n",
    "N = int(input())\n",
    "graph = [[] for i in range(N+1)]\n",
    "visited = [False]*(N+1)\n",
    "connect = int(input())\n",
    "cnt = 0\n",
    "\n",
    "for i in range(connect):\n",
    "    s, e = map(int, input().split())\n",
    "    graph[s].append(e)\n",
    "    graph[e].append(s)\n",
    "\n",
    "def bfs(graph, v):\n",
    "    global cnt\n",
    "    queue = deque()\n",
    "    queue.append(v)\n",
    "    visited[v] = True\n",
    "    while queue:\n",
    "        pop = queue.popleft()\n",
    "        for i in graph[pop]:\n",
    "            if visited[i]==False:\n",
    "                queue.append(i)\n",
    "                visited[i] = True\n",
    "                cnt += 1\n",
    "                \n",
    "    return(cnt)\n",
    "\n",
    "bfs(graph, 1)"
   ]
  },
  {
   "cell_type": "code",
   "execution_count": null,
   "id": "a1c651b2-a115-428d-83c7-262c0ce6a141",
   "metadata": {},
   "outputs": [],
   "source": []
  }
 ],
 "metadata": {
  "kernelspec": {
   "display_name": "Python 3 (ipykernel)",
   "language": "python",
   "name": "python3"
  },
  "language_info": {
   "codemirror_mode": {
    "name": "ipython",
    "version": 3
   },
   "file_extension": ".py",
   "mimetype": "text/x-python",
   "name": "python",
   "nbconvert_exporter": "python",
   "pygments_lexer": "ipython3",
   "version": "3.8.12"
  }
 },
 "nbformat": 4,
 "nbformat_minor": 5
}
