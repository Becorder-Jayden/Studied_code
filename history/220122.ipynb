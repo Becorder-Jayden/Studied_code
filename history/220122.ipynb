{
 "cells": [
  {
   "cell_type": "markdown",
   "id": "0be4a818-2213-49d0-893d-bdfe10f848b8",
   "metadata": {},
   "source": [
    "# 2022.01.22"
   ]
  },
  {
   "cell_type": "code",
   "execution_count": 1,
   "id": "6f35fa36-ca4b-4f0f-85a2-b1626286d946",
   "metadata": {},
   "outputs": [],
   "source": [
    "# Silver III\n",
    "# 14889 스타트와 링크"
   ]
  },
  {
   "cell_type": "code",
   "execution_count": 46,
   "id": "a08d3223-389c-4ef5-9c7d-b06cfb0ad7fe",
   "metadata": {},
   "outputs": [
    {
     "name": "stdin",
     "output_type": "stream",
     "text": [
      " 6\n"
     ]
    },
    {
     "name": "stdout",
     "output_type": "stream",
     "text": [
      "[1, 2, 3, 4, 5, 6]\n"
     ]
    }
   ],
   "source": [
    "N = int(input())\n",
    "\n",
    "graph = []\n",
    "\n",
    "# for i in range(N):\n",
    "#     S = list(map(int, input().split()))\n",
    "#     graph.append(S)\n",
    "\n",
    "# for i in range(len(graph)):\n",
    "#     for j in range(len(graph)):\n",
    "#         if i>j:\n",
    "#             graph[i][j] += graph[j][i]\n",
    "#             graph[j][i] = graph[i][j]\n",
    "        \n",
    "# for i in graph:\n",
    "#     print(i)\n",
    "    \n",
    "team1 = [i+1 for i in range(N)]\n",
    "team2 = []\n",
    "\n",
    "def dfs(team2):\n",
    "    if len(team2) == N//2:\n",
    "        print('here')\n",
    "        return\n",
    "    \n",
    "    for i in team1:\n",
    "        if i not in team2:\n",
    "            a = team1.pop\n",
    "            team2.append(a)\n",
    "            dfs(team2)"
   ]
  },
  {
   "cell_type": "code",
   "execution_count": null,
   "id": "9d431c69-944b-4926-b13d-537c5409c94d",
   "metadata": {},
   "outputs": [],
   "source": []
  },
  {
   "cell_type": "code",
   "execution_count": 23,
   "id": "eee5a0cb-0e92-41cb-8b1f-49a606b58386",
   "metadata": {},
   "outputs": [
    {
     "name": "stdout",
     "output_type": "stream",
     "text": [
      "17 19\n",
      "2\n"
     ]
    }
   ],
   "source": [
    "# 예제 2\n",
    "a=2+1+5+1+5+3\n",
    "b=3+2+4+4+4+2\n",
    "print(a, b)\n",
    "print(abs(a-b))"
   ]
  },
  {
   "cell_type": "code",
   "execution_count": null,
   "id": "18cc282c-7caa-4b70-abca-ff43b687fe07",
   "metadata": {},
   "outputs": [],
   "source": []
  }
 ],
 "metadata": {
  "kernelspec": {
   "display_name": "Python 3 (ipykernel)",
   "language": "python",
   "name": "python3"
  },
  "language_info": {
   "codemirror_mode": {
    "name": "ipython",
    "version": 3
   },
   "file_extension": ".py",
   "mimetype": "text/x-python",
   "name": "python",
   "nbconvert_exporter": "python",
   "pygments_lexer": "ipython3",
   "version": "3.8.12"
  }
 },
 "nbformat": 4,
 "nbformat_minor": 5
}
