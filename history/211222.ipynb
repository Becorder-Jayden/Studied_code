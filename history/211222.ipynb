{
 "cells": [
  {
   "cell_type": "markdown",
   "id": "a89682b6-c6ca-4645-84bb-d8f0ab80713e",
   "metadata": {},
   "source": [
    "# 2021.12.22"
   ]
  },
  {
   "cell_type": "code",
   "execution_count": 2,
   "id": "d3d70297-8300-4819-991d-aa7ebb52ef3f",
   "metadata": {},
   "outputs": [],
   "source": [
    "# Silver V\n",
    "# 1436 영화감독 숌"
   ]
  },
  {
   "cell_type": "code",
   "execution_count": 36,
   "id": "d0c3ee8a-cb9c-4fb3-98ee-d173d6603fc7",
   "metadata": {},
   "outputs": [
    {
     "name": "stdout",
     "output_type": "stream",
     "text": [
      "[666, 1666, 2666, 3666, 4666, 5666, 6660, 6661, 6662, 6663, 6664, 6665, 6666, 6667, 6668, 6669, 7666, 8666, 9666]\n"
     ]
    }
   ],
   "source": [
    "li = []\n",
    "for i in range(10000):\n",
    "    if '666' in str(i):\n",
    "        li.append(i)\n",
    "print(li)"
   ]
  },
  {
   "cell_type": "code",
   "execution_count": 13,
   "id": "2c871a6b-45e8-4a18-8a7a-05961fc1a70b",
   "metadata": {},
   "outputs": [
    {
     "name": "stdin",
     "output_type": "stream",
     "text": [
      " 500\n"
     ]
    },
    {
     "name": "stdout",
     "output_type": "stream",
     "text": [
      "166699\n"
     ]
    }
   ],
   "source": [
    "N = int(input())\n",
    "M = 10000000\n",
    "li = []\n",
    "\n",
    "for i in range(M):\n",
    "    if '666' in str(i):\n",
    "        li.append(i)\n",
    "print(li[N-1])"
   ]
  },
  {
   "cell_type": "code",
   "execution_count": 44,
   "id": "05319f4a-8b03-4ff3-a8bc-0c98ff68bf0f",
   "metadata": {},
   "outputs": [
    {
     "name": "stdin",
     "output_type": "stream",
     "text": [
      " 3\n"
     ]
    },
    {
     "name": "stdout",
     "output_type": "stream",
     "text": [
      "2666\n"
     ]
    }
   ],
   "source": [
    "N = int(input())\n",
    "\n",
    "if N >= 19:\n",
    "    M = int(str(N//19)+'0000')\n",
    "else:\n",
    "    M = 9999\n",
    "    \n",
    "li = []\n",
    "\n",
    "for i in range(M):\n",
    "    if '666' in str(i):\n",
    "        li.append(i)\n",
    "print(li[N-1])"
   ]
  },
  {
   "cell_type": "code",
   "execution_count": 63,
   "id": "697c3519-03ac-4f70-b6db-13ba53dfdaaf",
   "metadata": {},
   "outputs": [
    {
     "name": "stdin",
     "output_type": "stream",
     "text": [
      " 500\n"
     ]
    },
    {
     "name": "stdout",
     "output_type": "stream",
     "text": [
      "166699\n"
     ]
    }
   ],
   "source": [
    "N = int(input())\n",
    "num = 1\n",
    "li = []\n",
    "\n",
    "while len(li) < N:\n",
    "    if '666' in str(num):\n",
    "        li.append(num)\n",
    "    num += 1\n",
    "\n",
    "print(li[N-1])"
   ]
  },
  {
   "cell_type": "code",
   "execution_count": null,
   "id": "4e92fbbb-beef-4bdb-9565-d87787bcaa9f",
   "metadata": {},
   "outputs": [],
   "source": [
    "# 대근이형 풀이\n",
    "\n",
    "from re import findall\n",
    "\n",
    "N = int(input())\n",
    "\n",
    "doom = []\n",
    "num = 0\n",
    "while len(doom) < N:\n",
    "    if len(findall('666', str(num))) > 0:\n",
    "        doom.append(num)\n",
    "    \n",
    "    num += 1\n",
    "    \n",
    "print(doom[-1])"
   ]
  },
  {
   "cell_type": "code",
   "execution_count": null,
   "id": "e388dbdc-4b7d-4928-8e11-a97b0b5cf473",
   "metadata": {},
   "outputs": [],
   "source": []
  }
 ],
 "metadata": {
  "kernelspec": {
   "display_name": "Python 3 (ipykernel)",
   "language": "python",
   "name": "python3"
  },
  "language_info": {
   "codemirror_mode": {
    "name": "ipython",
    "version": 3
   },
   "file_extension": ".py",
   "mimetype": "text/x-python",
   "name": "python",
   "nbconvert_exporter": "python",
   "pygments_lexer": "ipython3",
   "version": "3.8.12"
  }
 },
 "nbformat": 4,
 "nbformat_minor": 5
}
