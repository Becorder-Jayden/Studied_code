{
 "cells": [
  {
   "cell_type": "markdown",
   "id": "4e5f53d0-73c6-4e13-8b68-6d1f2e0fe29b",
   "metadata": {},
   "source": [
    "# 2022.01.27"
   ]
  },
  {
   "cell_type": "code",
   "execution_count": 1,
   "id": "c0926784-0e9d-4a01-a31b-bd52d85e37b4",
   "metadata": {},
   "outputs": [],
   "source": [
    "# Silver IV\n",
    "# 10845 큐_정답"
   ]
  },
  {
   "cell_type": "code",
   "execution_count": null,
   "id": "5cd946e1-f53c-4dfc-94e9-28601ebe629b",
   "metadata": {},
   "outputs": [],
   "source": [
    "import sys\n",
    "from collections import deque\n",
    "\n",
    "N = int(sys.stdin.readline())\n",
    "queue = deque()\n",
    " \n",
    "for i in range(N):\n",
    "    a = sys.stdin.readline().split()\n",
    "    \n",
    "    if a[0] == \"push\":\n",
    "        queue.append(a[1])\n",
    "        \n",
    "    elif a[0] == \"pop\":\n",
    "        if len(queue) > 0:\n",
    "            print(queue.popleft())\n",
    "        else:\n",
    "            print(-1)\n",
    "            \n",
    "    elif a[0] == \"size\":\n",
    "        print(len(queue))\n",
    "        \n",
    "    elif a[0] == \"empty\":\n",
    "        if len(queue)==0:\n",
    "            print(1)\n",
    "        else:\n",
    "            print(0)\n",
    "    \n",
    "    elif a[0] == \"front\":\n",
    "        if len(queue) > 0:\n",
    "            print(queue[0])\n",
    "        else:\n",
    "            print(-1)\n",
    "    \n",
    "    elif a[0] == \"back\":\n",
    "        if len(queue)>0:\n",
    "            print(queue[-1])\n",
    "        else:\n",
    "            print(-1) "
   ]
  },
  {
   "cell_type": "markdown",
   "id": "fec4d6e7-c77c-4238-b0b6-5bf36e0abfc3",
   "metadata": {},
   "source": [
    "---"
   ]
  },
  {
   "cell_type": "code",
   "execution_count": 1,
   "id": "b46d5a34-fd6b-4090-9034-a0cbb3428556",
   "metadata": {},
   "outputs": [],
   "source": [
    "# Silver III\n",
    "# 1654 랜선 자르기_이분탐색 문제_나중에 풀어보기"
   ]
  },
  {
   "cell_type": "code",
   "execution_count": 19,
   "id": "044c844e-dcbf-43b1-9cb9-e385294eeef1",
   "metadata": {},
   "outputs": [
    {
     "name": "stdin",
     "output_type": "stream",
     "text": [
      " 4 11\n",
      " 802\n",
      " 743\n",
      " 457\n",
      " 539\n"
     ]
    },
    {
     "name": "stdout",
     "output_type": "stream",
     "text": [
      "[802, 743, 457, 539]\n"
     ]
    }
   ],
   "source": [
    "K, N = map(int, input().split()) # K:오영식 소유 개수, N:필요한 개수\n",
    "room = []\n",
    "\n",
    "for i in range(K):\n",
    "    line = int(input())\n",
    "    room.append(line)\n",
    "\n",
    "print(room)\n",
    "\n",
    "# room의 최소공배수 구하기\n"
   ]
  },
  {
   "cell_type": "code",
   "execution_count": 25,
   "id": "281b7f75-2c8c-4d80-9f5f-22c54463dac8",
   "metadata": {},
   "outputs": [
    {
     "name": "stdout",
     "output_type": "stream",
     "text": [
      "68\n",
      "54\n",
      "14\n",
      "12\n",
      "2\n",
      "0\n"
     ]
    }
   ],
   "source": [
    "room = [802, 743]\n",
    "print(802%734)\n",
    "print(734%68)\n",
    "print(68%54)\n",
    "print(54%14)\n",
    "print(14%12)\n",
    "print(12%2)"
   ]
  },
  {
   "cell_type": "markdown",
   "id": "df4b64b1-e709-4f40-88dc-7353989ad706",
   "metadata": {},
   "source": [
    "---"
   ]
  },
  {
   "cell_type": "code",
   "execution_count": 3,
   "id": "1b19eecf-78ba-4bb9-acdf-25b9ab51539f",
   "metadata": {},
   "outputs": [],
   "source": [
    "# Bronze I \n",
    "# 2839 설탕 배달_실패"
   ]
  },
  {
   "cell_type": "code",
   "execution_count": 45,
   "id": "12eebd0b-e890-4695-947c-aba2d7184eab",
   "metadata": {},
   "outputs": [
    {
     "name": "stdin",
     "output_type": "stream",
     "text": [
      " 11\n"
     ]
    },
    {
     "name": "stdout",
     "output_type": "stream",
     "text": [
      "[-1, 3, -1]\n",
      "[3]\n"
     ]
    }
   ],
   "source": [
    "N = int(input())\n",
    "cnt_bag = []\n",
    "bag = []\n",
    "\n",
    "for i in range(N//5 + 1):\n",
    "    cnt = 0\n",
    "    if (N-5*i)%3 == 0:\n",
    "        cnt += i\n",
    "        cnt += (N-5*i)//3\n",
    "        # print(cnt)\n",
    "    elif N%3 == 0:\n",
    "        cnt += N//3\n",
    "    else:\n",
    "        cnt = -1\n",
    "    cnt_bag.append(cnt)\n",
    "\n",
    "print(cnt_bag)\n",
    "\n",
    "for i in cnt_bag:\n",
    "    if (i>0) in :\n",
    "        "
   ]
  },
  {
   "cell_type": "markdown",
   "id": "802d7f4c-4bdd-4731-9912-03fe0fbda2f4",
   "metadata": {},
   "source": [
    "---"
   ]
  },
  {
   "cell_type": "code",
   "execution_count": 2,
   "id": "bcf54ee1-1a8a-40b4-a001-660d1e3f1fec",
   "metadata": {},
   "outputs": [],
   "source": [
    "# Bronze II\n",
    "# 2292 벌집"
   ]
  },
  {
   "cell_type": "code",
   "execution_count": 17,
   "id": "d8581950-b0e3-41e3-b485-81f773cb191e",
   "metadata": {},
   "outputs": [
    {
     "name": "stdin",
     "output_type": "stream",
     "text": [
      " 1\n"
     ]
    },
    {
     "name": "stdout",
     "output_type": "stream",
     "text": [
      "2\n"
     ]
    }
   ],
   "source": [
    "N = int(input())\n",
    "\n",
    "start = 1\n",
    "num = 1\n",
    "print(start+num)"
   ]
  },
  {
   "cell_type": "code",
   "execution_count": null,
   "id": "74a7bca0-4077-45fd-81c9-3705a38c4bb2",
   "metadata": {},
   "outputs": [],
   "source": [
    "0 : [1]\n",
    "1 : [2-7]\n",
    "2 : [8-19]\n",
    "3 : [20-37]"
   ]
  },
  {
   "cell_type": "markdown",
   "id": "041d6786-af81-42fa-a945-eb6e39135463",
   "metadata": {},
   "source": [
    "---"
   ]
  },
  {
   "cell_type": "markdown",
   "id": "522737a1-6def-4487-9d6a-086b618e6e9e",
   "metadata": {},
   "source": [
    "## 그동안 자주 틀린 문제 풀이 복습하기"
   ]
  },
  {
   "cell_type": "code",
   "execution_count": 2,
   "id": "b6de7af4-0369-43eb-8217-ab1095e80fc2",
   "metadata": {},
   "outputs": [],
   "source": [
    "# 1018 체스판 다시 칠하기"
   ]
  },
  {
   "cell_type": "code",
   "execution_count": null,
   "id": "e1d9b38f-f3ca-4c76-b522-c72bcf150901",
   "metadata": {},
   "outputs": [
    {
     "name": "stdin",
     "output_type": "stream",
     "text": [
      " 10 13\n"
     ]
    }
   ],
   "source": [
    "N, M = map(int, input().split())\n",
    "original = []\n",
    "count = []\n",
    "\n",
    "for _ in range(N):\n",
    "    original.append(input())\n",
    "    \n",
    "for a in range(N-7):\n",
    "    for b in range(M-7):\n",
    "        idx1 = 0\n",
    "        idx2 = 0\n",
    "        for j in range(a, a+8):\n",
    "            for j in range(b, b+8):\n",
    "                if (i+j) % 2 == 0:\n",
    "                    if original[i][j] != 'W':\n",
    "                        idx1 += 1\n",
    "                    if original[i][j] != 'B':\n",
    "                        idx2 += 1\n",
    "                else:\n",
    "                    if original[i][j] != 'B':\n",
    "                        idx1 += 1\n",
    "                    if original[i][j] != 'W':\n",
    "                        idx2 += 1\n",
    "        count.append(min(idx1, idx2))\n",
    "\n",
    "print(min(count))"
   ]
  }
 ],
 "metadata": {
  "kernelspec": {
   "display_name": "Python 3 (ipykernel)",
   "language": "python",
   "name": "python3"
  },
  "language_info": {
   "codemirror_mode": {
    "name": "ipython",
    "version": 3
   },
   "file_extension": ".py",
   "mimetype": "text/x-python",
   "name": "python",
   "nbconvert_exporter": "python",
   "pygments_lexer": "ipython3",
   "version": "3.8.12"
  }
 },
 "nbformat": 4,
 "nbformat_minor": 5
}
