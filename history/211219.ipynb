{
 "cells": [
  {
   "cell_type": "markdown",
   "id": "9fd00383-ffcb-422d-93f6-4fb7857c735c",
   "metadata": {},
   "source": [
    "# 2021.12.19"
   ]
  },
  {
   "cell_type": "code",
   "execution_count": 3,
   "id": "5e9e8513-6825-428d-b826-b4224c5e486c",
   "metadata": {},
   "outputs": [],
   "source": [
    "# Bronze II\n",
    "# 2231 분해합"
   ]
  },
  {
   "cell_type": "code",
   "execution_count": 74,
   "id": "b97e88f9-5eb9-493c-9f00-384068b17c2b",
   "metadata": {},
   "outputs": [
    {
     "name": "stdin",
     "output_type": "stream",
     "text": [
      " 216\n"
     ]
    },
    {
     "name": "stdout",
     "output_type": "stream",
     "text": [
      "198\n"
     ]
    }
   ],
   "source": [
    "# 정답\n",
    "N = int(input())\n",
    "li = []\n",
    "\n",
    "for i in range(N):\n",
    "    s = 0\n",
    "    s += i\n",
    "    for j in str(i):\n",
    "        s += int(j)\n",
    "    if s == N:\n",
    "        li.append(i)\n",
    "\n",
    "if li == []:\n",
    "    print(0)\n",
    "else:\n",
    "    print(min(li))\n",
    "\n",
    "## 216 적용 시\n",
    "## time : 0.9211733341217041"
   ]
  },
  {
   "cell_type": "code",
   "execution_count": 81,
   "id": "e4fd45bc-91f3-4672-9c16-edff8e698dd3",
   "metadata": {},
   "outputs": [
    {
     "name": "stdin",
     "output_type": "stream",
     "text": [
      " 216\n"
     ]
    },
    {
     "name": "stdout",
     "output_type": "stream",
     "text": [
      "198\n",
      "time :  2.056615114212036\n"
     ]
    }
   ],
   "source": [
    "# 코드 개선\n",
    "\n",
    "import time\n",
    "start_time = time.time() # 측정 시작\n",
    "\n",
    "# 정답\n",
    "N = int(input())\n",
    "li = []\n",
    "\n",
    "for i in range(N):\n",
    "    s = 0\n",
    "    s += i\n",
    "    for j in str(i):\n",
    "        s += int(j)\n",
    "    if s == N:\n",
    "        li.append(i)\n",
    "\n",
    "if li is False:\n",
    "    print(0)\n",
    "else:\n",
    "    print(min(li))\n",
    "\n",
    "end_time = time.time() # 측정 종료\n",
    "print(\"time : \", end_time - start_time) # 수행 시간 출력"
   ]
  },
  {
   "cell_type": "code",
   "execution_count": null,
   "id": "d6b24ed9-d64a-4859-a14f-1c8ad5557290",
   "metadata": {},
   "outputs": [],
   "source": [
    "# not li 적용 시 2.7813..\n",
    "# li == [] 적용 시 0.764..\n",
    "# len(li) == 0 적용 시 0.954..\n",
    "# li is False 적용 시 2.056.."
   ]
  },
  {
   "cell_type": "markdown",
   "id": "0c622e98-8820-4a57-95c2-ce0a8286977c",
   "metadata": {},
   "source": [
    "---"
   ]
  },
  {
   "cell_type": "code",
   "execution_count": 2,
   "id": "825dff81-a67a-4a6c-9c40-c65cae107152",
   "metadata": {},
   "outputs": [],
   "source": [
    "# Silver IV\n",
    "# 13305 주유소"
   ]
  },
  {
   "cell_type": "code",
   "execution_count": 8,
   "id": "54e845e2-def2-46c0-b6c3-c5ee127f971f",
   "metadata": {},
   "outputs": [
    {
     "name": "stdin",
     "output_type": "stream",
     "text": [
      " 4\n",
      " 3 3 4\n",
      " 1 1 1 1\n"
     ]
    },
    {
     "name": "stdout",
     "output_type": "stream",
     "text": [
      "10\n"
     ]
    }
   ],
   "source": [
    "N = int(input())\n",
    "D = list(map(int, input().split()))  # Distance\n",
    "P = list(map(int, input().split()))  # Price\n",
    "C = 0                                # Cost\n",
    "M = 1000000001                       # Minimum\n",
    "\n",
    "C += D[0]*P[0]\n",
    "\n",
    "for i in range(1, N-1):\n",
    "    if M > P[i-1]:\n",
    "        M = P[i-1]\n",
    "    C += min(D[i]*M, D[i]*P[i])\n",
    "\n",
    "print(C)"
   ]
  },
  {
   "cell_type": "code",
   "execution_count": null,
   "id": "8b453b78-c592-4b3d-9ca6-6d86358d5081",
   "metadata": {},
   "outputs": [],
   "source": []
  }
 ],
 "metadata": {
  "kernelspec": {
   "display_name": "Python 3 (ipykernel)",
   "language": "python",
   "name": "python3"
  },
  "language_info": {
   "codemirror_mode": {
    "name": "ipython",
    "version": 3
   },
   "file_extension": ".py",
   "mimetype": "text/x-python",
   "name": "python",
   "nbconvert_exporter": "python",
   "pygments_lexer": "ipython3",
   "version": "3.8.12"
  }
 },
 "nbformat": 4,
 "nbformat_minor": 5
}
