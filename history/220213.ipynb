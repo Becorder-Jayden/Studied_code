{
 "cells": [
  {
   "cell_type": "markdown",
   "id": "36b2ba7a-7ec1-4f59-953e-c8ad0a229de7",
   "metadata": {},
   "source": [
    "# 2022.02.13"
   ]
  },
  {
   "cell_type": "code",
   "execution_count": 6,
   "id": "bf6619bd-8fd1-4e3b-a851-1058c3e674a0",
   "metadata": {},
   "outputs": [],
   "source": [
    "# Silver III\n",
    "# 프린터 큐"
   ]
  },
  {
   "cell_type": "code",
   "execution_count": 11,
   "id": "0ec5fc75-aa7a-4d9a-b6aa-f9c49ee3c212",
   "metadata": {},
   "outputs": [],
   "source": [
    "from collections import deque"
   ]
  },
  {
   "cell_type": "code",
   "execution_count": null,
   "id": "54936759-b9f6-44b5-9de7-755782d24200",
   "metadata": {},
   "outputs": [],
   "source": [
    "# case 1\n",
    "N, M = 1, 0\n",
    "case = deque([5])"
   ]
  },
  {
   "cell_type": "code",
   "execution_count": 27,
   "id": "1488cf1a-3d0e-4c88-adcd-3909415481f0",
   "metadata": {},
   "outputs": [],
   "source": [
    "# case 2\n",
    "N, M = 4, 2\n",
    "case = deque([1, 2, 3, 4])"
   ]
  },
  {
   "cell_type": "code",
   "execution_count": 46,
   "id": "00d72102-3b37-41a5-bc01-03f9d9d47347",
   "metadata": {},
   "outputs": [],
   "source": [
    "# case 3\n",
    "N, M = 6, 0\n",
    "case = deque([1, 1, 9, 1, 1, 1])"
   ]
  },
  {
   "cell_type": "code",
   "execution_count": 47,
   "id": "510eab3e-ece2-4ca7-a0c9-b28c1337c0d9",
   "metadata": {},
   "outputs": [
    {
     "name": "stdout",
     "output_type": "stream",
     "text": [
      "deque([1, 1, 9, 1, 1, 1])\n",
      "deque([0, 1, 2, 3, 4, 5])\n",
      "deque([9, 1, 1, 1, 1, 1])\n",
      "deque([2, 3, 4, 5, 0, 1])\n"
     ]
    }
   ],
   "source": [
    "from collections import deque\n",
    "\n",
    "case2 = deque(range(N))\n",
    "print(case)\n",
    "print(case2)\n",
    "\n",
    "for i in range(N):\n",
    "    while max(case) != case[0]:\n",
    "        pop = case.popleft()\n",
    "        case.append(pop)\n",
    "        pop2 = case2.popleft()\n",
    "        case2.append(pop2)\n",
    "    \n",
    "print(case)\n",
    "print(case2)"
   ]
  },
  {
   "cell_type": "markdown",
   "id": "1aa65d45-a0c9-4976-bb53-148ad2130470",
   "metadata": {},
   "source": [
    "---"
   ]
  },
  {
   "cell_type": "code",
   "execution_count": 48,
   "id": "1c910e9a-f789-4239-b00d-1a610cac3495",
   "metadata": {},
   "outputs": [],
   "source": [
    "# Bronze I\n",
    "# 1259 팰린드롬수_정답"
   ]
  },
  {
   "cell_type": "code",
   "execution_count": 62,
   "id": "481ba366-107f-45c5-b3ae-e60baa7cfd64",
   "metadata": {},
   "outputs": [
    {
     "name": "stdin",
     "output_type": "stream",
     "text": [
      " 121\n"
     ]
    },
    {
     "name": "stdout",
     "output_type": "stream",
     "text": [
      "yes\n"
     ]
    },
    {
     "name": "stdin",
     "output_type": "stream",
     "text": [
      " 1231\n"
     ]
    },
    {
     "name": "stdout",
     "output_type": "stream",
     "text": [
      "no\n"
     ]
    },
    {
     "name": "stdin",
     "output_type": "stream",
     "text": [
      " 12421\n"
     ]
    },
    {
     "name": "stdout",
     "output_type": "stream",
     "text": [
      "yes\n"
     ]
    },
    {
     "name": "stdin",
     "output_type": "stream",
     "text": [
      " 0\n"
     ]
    }
   ],
   "source": [
    "while True:\n",
    "    case = list(input())\n",
    "    case_r = list(reversed(case))\n",
    "    if case == ['0']:\n",
    "        break\n",
    "    \n",
    "    if case == case_r:\n",
    "        print('yes')\n",
    "    else:\n",
    "        print('no')"
   ]
  },
  {
   "cell_type": "markdown",
   "id": "4bf3eb71-2acd-4331-aa1b-bcc30ba5652a",
   "metadata": {},
   "source": [
    "---"
   ]
  },
  {
   "cell_type": "code",
   "execution_count": null,
   "id": "6918d784-3ae5-4d00-a2c8-35c21b634e5d",
   "metadata": {},
   "outputs": [],
   "source": []
  },
  {
   "cell_type": "code",
   "execution_count": null,
   "id": "361717bb-f29f-46c9-8597-f0ac1353a950",
   "metadata": {},
   "outputs": [],
   "source": []
  }
 ],
 "metadata": {
  "kernelspec": {
   "display_name": "Python 3 (ipykernel)",
   "language": "python",
   "name": "python3"
  },
  "language_info": {
   "codemirror_mode": {
    "name": "ipython",
    "version": 3
   },
   "file_extension": ".py",
   "mimetype": "text/x-python",
   "name": "python",
   "nbconvert_exporter": "python",
   "pygments_lexer": "ipython3",
   "version": "3.8.12"
  }
 },
 "nbformat": 4,
 "nbformat_minor": 5
}
