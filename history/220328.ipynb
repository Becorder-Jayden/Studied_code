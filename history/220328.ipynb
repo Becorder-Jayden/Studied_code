{
 "cells": [
  {
   "cell_type": "markdown",
   "id": "f48230a7-6d38-4925-92d9-cdc957c8d07e",
   "metadata": {},
   "source": [
    "# 2022.03.28"
   ]
  },
  {
   "cell_type": "code",
   "execution_count": 60,
   "id": "bd5b7956-d71e-4a0a-b3c7-a947f31feccd",
   "metadata": {},
   "outputs": [],
   "source": [
    "# 프로그래머스\n",
    "# 큰 수 만들기 "
   ]
  },
  {
   "cell_type": "code",
   "execution_count": 84,
   "id": "f2be1fa7-f336-40c5-b5f1-e7282d8530de",
   "metadata": {},
   "outputs": [
    {
     "name": "stdout",
     "output_type": "stream",
     "text": [
      "4\n",
      "1\n",
      "7\n",
      "7\n",
      "2\n",
      "5\n",
      "2\n",
      "8\n",
      "4\n",
      "1\n"
     ]
    }
   ],
   "source": [
    "number = '4177252841'\n",
    "k = 4\n",
    "stack = []\n",
    "\n",
    "li = list(map(str, number))\n",
    "temp = 0 \n",
    "\n",
    "for i in li:\n",
    "    if int(i) > "
   ]
  },
  {
   "cell_type": "code",
   "execution_count": 1,
   "id": "7edd000c-4c63-4a96-99cb-734acbeb3bc1",
   "metadata": {},
   "outputs": [],
   "source": [
    "# 완주하지 못한 선수"
   ]
  },
  {
   "cell_type": "code",
   "execution_count": 6,
   "id": "845db431-2579-4151-844c-4c57a3777b80",
   "metadata": {},
   "outputs": [
    {
     "name": "stdout",
     "output_type": "stream",
     "text": [
      "{'mislav': 2, 'stanko': 1, 'ana': 1}\n"
     ]
    }
   ],
   "source": [
    "participant = [\"mislav\", \"stanko\", \"mislav\", \"ana\"]\n",
    "completion = [\"stanko\", \"ana\", \"mislav\"]\n",
    "\n",
    "d = {}\n",
    "for i in participant:\n",
    "    d[i] = d.get(i, 0) + 1\n",
    "print(d)"
   ]
  },
  {
   "cell_type": "code",
   "execution_count": null,
   "id": "8a8ac9d4-ee23-4a62-b0ed-f264b9b1ae6c",
   "metadata": {},
   "outputs": [],
   "source": [
    "# 체육복"
   ]
  },
  {
   "cell_type": "code",
   "execution_count": null,
   "id": "ceab21cb-8fa9-4d43-9784-8b0511a3d971",
   "metadata": {},
   "outputs": [],
   "source": [
    "# 예제\n",
    "n = 5\n",
    "lost = [2, 4]\n",
    "reserve = [1, 3, 5]\n",
    "#5\n",
    "\n",
    "# n = 5\n",
    "# lost = [2, 4]\n",
    "# reserve = [3]\n",
    "# #4\n",
    "\n",
    "# n = 3\n",
    "# lost = [3]\n",
    "# reserve = [1]\n",
    "# #2"
   ]
  },
  {
   "cell_type": "code",
   "execution_count": 17,
   "id": "081dd157-c60c-4015-a3a9-f48818483c6c",
   "metadata": {},
   "outputs": [
    {
     "name": "stdout",
     "output_type": "stream",
     "text": [
      "{0: 1, 1: 1, 2: 1, 3: 1, 4: 1, 5: 2, 6: 1}\n"
     ]
    }
   ],
   "source": [
    "# 풀이 1\n",
    "dic = {}\n",
    "for i in range(n+2):\n",
    "    dic[i] = 1\n",
    "    \n",
    "for i in lost:\n",
    "    dic[i] -= 1\n",
    "    \n",
    "for i in reserve:\n",
    "    dic[i] += 1\n",
    "    \n",
    "    \n",
    "for i in range(1, n+1):\n",
    "    if dic[i-1] == 0 and dic[i] == 2:\n",
    "        dic[i-1] += 1\n",
    "        dic[i] -= 1\n",
    "    elif dic[i+1] == 0 and dic[i] == 2:\n",
    "        dic[i+1] += 1\n",
    "        dic[i] -= 1\n",
    "print(dic)\n"
   ]
  },
  {
   "cell_type": "code",
   "execution_count": 26,
   "id": "62e28db1-49bc-40c3-916f-be529c6c4f3f",
   "metadata": {},
   "outputs": [
    {
     "name": "stdout",
     "output_type": "stream",
     "text": [
      "set()\n",
      "{2, 4}\n",
      "{1, 3, 5}\n",
      "5\n"
     ]
    }
   ],
   "source": [
    "# 풀이 2\n",
    "\n",
    "n = 5\n",
    "lost = [2, 4]\n",
    "reserve = [1, 3, 5]\n",
    "#5\n",
    "\n",
    "s = set(lost) & set(reserve)\n",
    "l = set(lost) - set(reserve)\n",
    "r = set(reserve) - s\n",
    "print(s)\n",
    "print(l)\n",
    "print(r)\n",
    "for i in sorted(r):\n",
    "    if i-1 in l:\n",
    "        l.remove(i-1)\n",
    "    elif i+1 in l:\n",
    "        l.remove(i+1)\n",
    "print(n - len(l))"
   ]
  },
  {
   "cell_type": "code",
   "execution_count": 46,
   "id": "5b3b7aad-3e19-4be5-9cfb-c2034732b513",
   "metadata": {},
   "outputs": [],
   "source": [
    "# 가장 큰 수 "
   ]
  },
  {
   "cell_type": "code",
   "execution_count": 104,
   "id": "a5562c03-2917-446b-a4aa-ff75e0831942",
   "metadata": {},
   "outputs": [
    {
     "name": "stdout",
     "output_type": "stream",
     "text": [
      "['9', '111', '0']\n"
     ]
    }
   ],
   "source": [
    "numbers = ['9', '111','0']\n",
    "# return \"9534330\"\n",
    "\n",
    "numbers = list(map(str, numbers))\n",
    "numbers.sort(key=lambda a:a*5, reverse=True)\n",
    "print(numbers)"
   ]
  },
  {
   "cell_type": "code",
   "execution_count": 96,
   "id": "2625ba13-aa06-4a08-90db-cb0a0b4c9c90",
   "metadata": {},
   "outputs": [
    {
     "name": "stdout",
     "output_type": "stream",
     "text": [
      "0\n"
     ]
    }
   ],
   "source": [
    "numbers = [0, 0, 0, 0, 0]\n",
    "\n",
    "def solution(numbers):\n",
    "    numbers = [str(x) for x in numbers]\n",
    "    numbers.sort(key=lambda a : (a*5), reverse=True)\n",
    "    if numbers[0] == '0':\n",
    "        answer = '0'\n",
    "    else:\n",
    "        answer=''.join(numbers)\n",
    "    return answer\n",
    "    \n",
    "print(solution(numbers))"
   ]
  },
  {
   "cell_type": "code",
   "execution_count": 85,
   "id": "6431073f-fef6-464b-ada4-e66c9cd6e739",
   "metadata": {},
   "outputs": [
    {
     "data": {
      "text/plain": [
       "'34343434'"
      ]
     },
     "execution_count": 85,
     "metadata": {},
     "output_type": "execute_result"
    }
   ],
   "source": [
    "str(numbers[4])*4"
   ]
  },
  {
   "cell_type": "code",
   "execution_count": 106,
   "id": "cd44f437-6f91-4985-9bf5-6bb0574cde5b",
   "metadata": {},
   "outputs": [],
   "source": [
    "# 큰 수 만들기"
   ]
  },
  {
   "cell_type": "code",
   "execution_count": 126,
   "id": "5eef1f45-0bf7-4eeb-af39-7aaed9b8d3bc",
   "metadata": {},
   "outputs": [
    {
     "name": "stdout",
     "output_type": "stream",
     "text": [
      "0 4\n",
      "1 1\n",
      "2 7\n",
      "3 7\n",
      "4 2\n",
      "5 5\n",
      "6 2\n",
      "7 8\n",
      "8 4\n",
      "9 1\n"
     ]
    }
   ],
   "source": [
    "number = 4177252841\n",
    "k = 4\n",
    "# \"775841\"\n",
    "\n",
    "number = list(str(number))\n",
    "stack = []\n",
    "for i, num in enumerate(number):\n",
    "    while len(stack) > 0 and stack[-1] < num and k > 0 :\n",
    "        stack.pop()\n",
    "        k -= 1\n",
    "    if k == 0:\n",
    "        stack += "
   ]
  },
  {
   "cell_type": "code",
   "execution_count": 129,
   "id": "73af9a8f-b174-4b63-acff-87aeb0256e56",
   "metadata": {},
   "outputs": [
    {
     "ename": "TypeError",
     "evalue": "slice indices must be integers or None or have an __index__ method",
     "output_type": "error",
     "traceback": [
      "\u001b[1;31m---------------------------------------------------------------------------\u001b[0m",
      "\u001b[1;31mTypeError\u001b[0m                                 Traceback (most recent call last)",
      "\u001b[1;32m~\\AppData\\Local\\Temp/ipykernel_4148/1063699771.py\u001b[0m in \u001b[0;36m<module>\u001b[1;34m\u001b[0m\n\u001b[0;32m      1\u001b[0m \u001b[0mstack\u001b[0m \u001b[1;33m=\u001b[0m \u001b[1;33m[\u001b[0m\u001b[1;33m]\u001b[0m\u001b[1;33m\u001b[0m\u001b[1;33m\u001b[0m\u001b[0m\n\u001b[0;32m      2\u001b[0m \u001b[0mnumber\u001b[0m \u001b[1;33m=\u001b[0m \u001b[0mlist\u001b[0m\u001b[1;33m(\u001b[0m\u001b[0mstr\u001b[0m\u001b[1;33m(\u001b[0m\u001b[0mnumber\u001b[0m\u001b[1;33m)\u001b[0m\u001b[1;33m)\u001b[0m\u001b[1;33m\u001b[0m\u001b[1;33m\u001b[0m\u001b[0m\n\u001b[1;32m----> 3\u001b[1;33m \u001b[0mstack\u001b[0m \u001b[1;33m+=\u001b[0m \u001b[0mlist\u001b[0m\u001b[1;33m(\u001b[0m\u001b[0mnumber\u001b[0m\u001b[1;33m[\u001b[0m\u001b[0mnum\u001b[0m\u001b[1;33m:\u001b[0m\u001b[1;33m]\u001b[0m\u001b[1;33m)\u001b[0m\u001b[1;33m\u001b[0m\u001b[1;33m\u001b[0m\u001b[0m\n\u001b[0m\u001b[0;32m      4\u001b[0m \u001b[0mprint\u001b[0m\u001b[1;33m(\u001b[0m\u001b[0mstack\u001b[0m\u001b[1;33m)\u001b[0m\u001b[1;33m\u001b[0m\u001b[1;33m\u001b[0m\u001b[0m\n",
      "\u001b[1;31mTypeError\u001b[0m: slice indices must be integers or None or have an __index__ method"
     ]
    }
   ],
   "source": [
    "stack = []\n",
    "number = list(str(number))\n",
    "stack += list(number[num:])\n",
    "print(stack)"
   ]
  },
  {
   "cell_type": "code",
   "execution_count": null,
   "id": "479a528f-ca87-4cf1-a563-2145331d4623",
   "metadata": {},
   "outputs": [],
   "source": []
  }
 ],
 "metadata": {
  "kernelspec": {
   "display_name": "Python 3 (ipykernel)",
   "language": "python",
   "name": "python3"
  },
  "language_info": {
   "codemirror_mode": {
    "name": "ipython",
    "version": 3
   },
   "file_extension": ".py",
   "mimetype": "text/x-python",
   "name": "python",
   "nbconvert_exporter": "python",
   "pygments_lexer": "ipython3",
   "version": "3.8.12"
  }
 },
 "nbformat": 4,
 "nbformat_minor": 5
}
