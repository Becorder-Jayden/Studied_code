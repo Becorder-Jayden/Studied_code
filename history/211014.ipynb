{
 "cells": [
  {
   "cell_type": "code",
   "execution_count": 61,
   "id": "261d4129-95e1-48bd-917d-4dc8726fe3d4",
   "metadata": {
    "tags": []
   },
   "outputs": [
    {
     "name": "stdin",
     "output_type": "stream",
     "text": [
      " 11\n"
     ]
    },
    {
     "name": "stdout",
     "output_type": "stream",
     "text": [
      "3\n"
     ]
    }
   ],
   "source": [
    "### 2839 설탕배달\n",
    "\n",
    "n = int(input())\n",
    "\n",
    "if n/5 - n//5 == 0:\n",
    "    share5 = n//5\n",
    "    print(share5)\n",
    "else:\n",
    "    if n % 3 == 0: # 3의 배수인지 확인\n",
    "        share3 = n//3\n",
    "        print(share3)\n",
    "    \n",
    "    elif (n-5) % 3 == 0: # -5일 때 3의 배수인지 확인\n",
    "        share3 = (n-5)//3\n",
    "        share5 = 1\n",
    "        print(share3+share5)\n",
    "    \n",
    "    elif (n-10) % 3 == 0: # -10일 때 3의 배수인지 확인\n",
    "        share3 = (n-10)//3\n",
    "        share5 = 2\n",
    "        print(share3+share5)\n",
    "    \n",
    "    elif (n-15) % 3 == 0: # -15일 때 3의 배수인지 확인\n",
    "        share3 = (n-15)//3\n",
    "        share5 = 3\n",
    "        print(shar3+share5)"
   ]
  },
  {
   "cell_type": "code",
   "execution_count": 62,
   "id": "ed73ffb9-f7f8-41e8-ace4-78676861623c",
   "metadata": {},
   "outputs": [
    {
     "name": "stdin",
     "output_type": "stream",
     "text": [
      " \n"
     ]
    },
    {
     "ename": "ValueError",
     "evalue": "invalid literal for int() with base 10: ''",
     "output_type": "error",
     "traceback": [
      "\u001b[1;31m---------------------------------------------------------------------------\u001b[0m",
      "\u001b[1;31mValueError\u001b[0m                                Traceback (most recent call last)",
      "\u001b[1;32m<ipython-input-62-259a7beb5a4b>\u001b[0m in \u001b[0;36m<module>\u001b[1;34m\u001b[0m\n\u001b[0;32m      1\u001b[0m \u001b[1;31m### 2839 설탕배달\u001b[0m\u001b[1;33m\u001b[0m\u001b[1;33m\u001b[0m\u001b[1;33m\u001b[0m\u001b[0m\n\u001b[0;32m      2\u001b[0m \u001b[1;33m\u001b[0m\u001b[0m\n\u001b[1;32m----> 3\u001b[1;33m \u001b[0mn\u001b[0m \u001b[1;33m=\u001b[0m \u001b[0mint\u001b[0m\u001b[1;33m(\u001b[0m\u001b[0minput\u001b[0m\u001b[1;33m(\u001b[0m\u001b[1;33m)\u001b[0m\u001b[1;33m)\u001b[0m\u001b[1;33m\u001b[0m\u001b[1;33m\u001b[0m\u001b[0m\n\u001b[0m\u001b[0;32m      4\u001b[0m \u001b[1;33m\u001b[0m\u001b[0m\n\u001b[0;32m      5\u001b[0m \u001b[1;32mif\u001b[0m \u001b[0mn\u001b[0m\u001b[1;33m/\u001b[0m\u001b[1;36m5\u001b[0m \u001b[1;33m-\u001b[0m \u001b[0mn\u001b[0m\u001b[1;33m//\u001b[0m\u001b[1;36m5\u001b[0m \u001b[1;33m==\u001b[0m \u001b[1;36m0\u001b[0m\u001b[1;33m:\u001b[0m\u001b[1;33m\u001b[0m\u001b[1;33m\u001b[0m\u001b[0m\n",
      "\u001b[1;31mValueError\u001b[0m: invalid literal for int() with base 10: ''"
     ]
    }
   ],
   "source": [
    "### 2839 설탕배달\n",
    "\n",
    "n = int(input())\n",
    "\n",
    "if n/5 - n//5 == 0:\n",
    "    share5 = n//5\n",
    "    print(share5)\n",
    "else:\n",
    "    if (n-5*0) % 3 == 0: # 3의 배수인지 확인\n",
    "        share3 = n//3\n",
    "        print(share3)\n",
    "    \n",
    "    elif (n-5*1) % 3 == 0: # -5일 때 3의 배수인지 확인\n",
    "        share3 = (n-5)//3\n",
    "        share5 = 1\n",
    "        print(share3+share5)\n",
    "    \n",
    "    elif (n-5*2) % 3 == 0: # -10일 때 3의 배수인지 확인\n",
    "        share3 = (n-10)//3\n",
    "        share5 = 2\n",
    "        print(share3+share5)\n",
    "    \n",
    "    elif (n-5*3) % 3 == 0: # -15일 때 3의 배수인지 확인\n",
    "        share3 = (n-15)//3\n",
    "        share5 = 3\n",
    "        print(shar3+share5)"
   ]
  },
  {
   "cell_type": "code",
   "execution_count": null,
   "id": "3cdfb7a4-b5a4-4ffa-a835-38c3593cc8ee",
   "metadata": {
    "tags": []
   },
   "outputs": [],
   "source": [
    "### 2839 설탕배달\n",
    "\n",
    "n = int(input())\n",
    "\n",
    "if n/5 - n//5 == 0:\n",
    "    share5 = n//5\n",
    "    print(share5)\n",
    "else:\n",
    "    i = 0\n",
    "    while True:\n",
    "        i+=1\n",
    "        (n-5*i)%3\n",
    "        \n",
    "        if n-(5*i)<0:\n",
    "            break\n",
    "    "
   ]
  },
  {
   "cell_type": "markdown",
   "id": "f69966b7-53c0-47da-88d5-2bd5a84b6700",
   "metadata": {},
   "source": [
    "# 15596\n",
    "\n",
    "def solve(a):\n",
    "    for i in range(a):\n",
    "        s += i\n",
    "    return s"
   ]
  }
 ],
 "metadata": {
  "kernelspec": {
   "display_name": "Python 3",
   "language": "python",
   "name": "python3"
  },
  "language_info": {
   "codemirror_mode": {
    "name": "ipython",
    "version": 3
   },
   "file_extension": ".py",
   "mimetype": "text/x-python",
   "name": "python",
   "nbconvert_exporter": "python",
   "pygments_lexer": "ipython3",
   "version": "3.8.8"
  }
 },
 "nbformat": 4,
 "nbformat_minor": 5
}
