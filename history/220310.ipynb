{
 "cells": [
  {
   "cell_type": "markdown",
   "id": "36de6301-eab6-4ac6-975d-db2a51719e89",
   "metadata": {},
   "source": [
    "# 2022.03.10"
   ]
  },
  {
   "cell_type": "code",
   "execution_count": 1,
   "id": "5299d8d5-d78e-4298-97f6-45cd3320427c",
   "metadata": {},
   "outputs": [],
   "source": [
    "# Silver III\n",
    "# 2447 별 찍기 - 10"
   ]
  },
  {
   "cell_type": "code",
   "execution_count": 13,
   "id": "38ed659f-f636-40aa-a04c-b6cad443b445",
   "metadata": {},
   "outputs": [
    {
     "name": "stdin",
     "output_type": "stream",
     "text": [
      " 27\n"
     ]
    },
    {
     "name": "stdout",
     "output_type": "stream",
     "text": [
      "■■■■■■■■■■■■■■■■■■■■■■■■■■■\n",
      "■ ■■ ■■ ■■ ■■ ■■ ■■ ■■ ■■ ■\n",
      "■■■■■■■■■■■■■■■■■■■■■■■■■■■\n",
      "■■■   ■■■■■■   ■■■■■■   ■■■\n",
      "■ ■   ■ ■■ ■   ■ ■■ ■   ■ ■\n",
      "■■■   ■■■■■■   ■■■■■■   ■■■\n",
      "■■■■■■■■■■■■■■■■■■■■■■■■■■■\n",
      "■ ■■ ■■ ■■ ■■ ■■ ■■ ■■ ■■ ■\n",
      "■■■■■■■■■■■■■■■■■■■■■■■■■■■\n",
      "■■■■■■■■■         ■■■■■■■■■\n",
      "■ ■■ ■■ ■         ■ ■■ ■■ ■\n",
      "■■■■■■■■■         ■■■■■■■■■\n",
      "■■■   ■■■         ■■■   ■■■\n",
      "■ ■   ■ ■         ■ ■   ■ ■\n",
      "■■■   ■■■         ■■■   ■■■\n",
      "■■■■■■■■■         ■■■■■■■■■\n",
      "■ ■■ ■■ ■         ■ ■■ ■■ ■\n",
      "■■■■■■■■■         ■■■■■■■■■\n",
      "■■■■■■■■■■■■■■■■■■■■■■■■■■■\n",
      "■ ■■ ■■ ■■ ■■ ■■ ■■ ■■ ■■ ■\n",
      "■■■■■■■■■■■■■■■■■■■■■■■■■■■\n",
      "■■■   ■■■■■■   ■■■■■■   ■■■\n",
      "■ ■   ■ ■■ ■   ■ ■■ ■   ■ ■\n",
      "■■■   ■■■■■■   ■■■■■■   ■■■\n",
      "■■■■■■■■■■■■■■■■■■■■■■■■■■■\n",
      "■ ■■ ■■ ■■ ■■ ■■ ■■ ■■ ■■ ■\n",
      "■■■■■■■■■■■■■■■■■■■■■■■■■■■\n"
     ]
    }
   ],
   "source": [
    "# 정답 코드 구글링\n",
    "N = int(input())\n",
    "\n",
    "stars = [[' ' for _ in range(N)] for _ in range(N)]\n",
    "\n",
    "def fill_star(size, x, y):\n",
    "    if size == 1:\n",
    "        stars[y][x] = '■'\n",
    "    else:\n",
    "        next_size = size // 3\n",
    "        for dy in range(3):\n",
    "            for dx in range(3):\n",
    "                if dy != 1 or dx != 1:\n",
    "                    fill_star(next_size, x + dx*next_size, y + dy*next_size)\n",
    "                    \n",
    "fill_start(N, 0, 0)\n",
    "for k in stars:\n",
    "    print(''.join(k))"
   ]
  },
  {
   "cell_type": "code",
   "execution_count": 32,
   "id": "6f6c3f1b-61a5-4d17-bddd-8c6ff1b408fb",
   "metadata": {},
   "outputs": [
    {
     "name": "stdin",
     "output_type": "stream",
     "text": [
      " 27\n"
     ]
    },
    {
     "name": "stdout",
     "output_type": "stream",
     "text": [
      "***************************\n",
      "* ** ** ** ** ** ** ** ** *\n",
      "***************************\n",
      "***   ******   ******   ***\n",
      "* *   * ** *   * ** *   * *\n",
      "***   ******   ******   ***\n",
      "***************************\n",
      "* ** ** ** ** ** ** ** ** *\n",
      "***************************\n",
      "*********         *********\n",
      "* ** ** *         * ** ** *\n",
      "*********         *********\n",
      "***   ***         ***   ***\n",
      "* *   * *         * *   * *\n",
      "***   ***         ***   ***\n",
      "*********         *********\n",
      "* ** ** *         * ** ** *\n",
      "*********         *********\n",
      "***************************\n",
      "* ** ** ** ** ** ** ** ** *\n",
      "***************************\n",
      "***   ******   ******   ***\n",
      "* *   * ** *   * ** *   * *\n",
      "***   ******   ******   ***\n",
      "***************************\n",
      "* ** ** ** ** ** ** ** ** *\n",
      "***************************\n"
     ]
    }
   ],
   "source": [
    "# 스스로 작성해 보기\n",
    "# 빈 공간에 별을 채우기\n",
    "\n",
    "N = int(input())\n",
    "\n",
    "# 빈 공간 생성\n",
    "arr = [[' '] * N for i in range(N)]\n",
    "\n",
    "# 재귀문 작성\n",
    "def fill_stars(size, x, y):  # size: 확인하려는 공간(n*n)의 크기, x: x좌표, y: 좌표) \n",
    "    \n",
    "    # 재귀문의 탈출 조건, 더 이상 작아질 수 없을 때 '*' 입력\n",
    "    if size == 1:\n",
    "        arr[y][x] = '*'\n",
    "    \n",
    "    else:\n",
    "        new_size = size//3  # 재귀문이 반복되는 크기\n",
    "        for dx in range(3):\n",
    "            for dy in range(3):\n",
    "                if dx != 1 or dy != 1:\n",
    "                    fill_stars(new_size, x+dx*new_size, y+dy*new_size)\n",
    "                    # new_size에서의 x좌표, y좌표 설정\n",
    "                    \n",
    "fill_stars(N, 0, 0)\n",
    "for k in arr:\n",
    "    print(''.join(k))"
   ]
  },
  {
   "cell_type": "code",
   "execution_count": 15,
   "id": "e0be17aa-f380-4947-8469-29701c4262e5",
   "metadata": {},
   "outputs": [
    {
     "name": "stdin",
     "output_type": "stream",
     "text": [
      " 27\n"
     ]
    },
    {
     "name": "stdout",
     "output_type": "stream",
     "text": [
      "***************************\n",
      "* ** ** ** ** ** ** ** ** *\n",
      "***************************\n",
      "***   ******   ******   ***\n",
      "* *   * ** *   * ** *   * *\n",
      "***   ******   ******   ***\n",
      "***************************\n",
      "* ** ** ** ** ** ** ** ** *\n",
      "***************************\n",
      "*********         *********\n",
      "* ** ** *         * ** ** *\n",
      "*********         *********\n",
      "***   ***         ***   ***\n",
      "* *   * *         * *   * *\n",
      "***   ***         ***   ***\n",
      "*********         *********\n",
      "* ** ** *         * ** ** *\n",
      "*********         *********\n",
      "***************************\n",
      "* ** ** ** ** ** ** ** ** *\n",
      "***************************\n",
      "***   ******   ******   ***\n",
      "* *   * ** *   * ** *   * *\n",
      "***   ******   ******   ***\n",
      "***************************\n",
      "* ** ** ** ** ** ** ** ** *\n",
      "***************************\n"
     ]
    }
   ],
   "source": [
    "# 다시 한번 스스로\n",
    "\n",
    "N = int(input())\n",
    "arr = [[' '] * N for _ in range(N)]\n",
    "\n",
    "def stars(size, x, y):\n",
    "    if size == 1:\n",
    "        arr[y][x] = '*'\n",
    "    else:\n",
    "        new_size = size//3\n",
    "        for dy in range(3):\n",
    "            for dx in range(3):\n",
    "                if dx != 1 or dy != 1:\n",
    "                    stars(new_size, x+dx*new_size, y+dy*new_size)\n",
    "stars(N, 0, 0)\n",
    "\n",
    "for k in arr:\n",
    "    print(''.join(k))"
   ]
  },
  {
   "cell_type": "markdown",
   "id": "58214b8a-6027-4cce-b9c2-6a4321e4eb7a",
   "metadata": {},
   "source": [
    "---"
   ]
  },
  {
   "cell_type": "code",
   "execution_count": 16,
   "id": "a53e8393-08a0-446f-a574-70f7e6ae01b1",
   "metadata": {},
   "outputs": [],
   "source": [
    "# Silver III\n",
    "# 2630 색종이 만들기__포기.."
   ]
  },
  {
   "cell_type": "code",
   "execution_count": 18,
   "id": "1677a463-394c-4993-985d-5f1ac627a1ea",
   "metadata": {},
   "outputs": [
    {
     "name": "stdout",
     "output_type": "stream",
     "text": [
      "[1, 1, 0, 0, 0, 0, 1, 1]\n",
      "[1, 1, 0, 0, 0, 0, 1, 1]\n",
      "[0, 0, 0, 0, 1, 1, 0, 0]\n",
      "[0, 0, 0, 0, 1, 1, 0, 0]\n",
      "[1, 0, 0, 0, 1, 1, 1, 1]\n",
      "[0, 1, 0, 0, 1, 1, 1, 1]\n",
      "[0, 0, 1, 1, 1, 1, 1, 1]\n",
      "[0, 0, 1, 1, 1, 1, 1, 1]\n"
     ]
    }
   ],
   "source": [
    "N = 8\n",
    "arr = [\n",
    "[1, 1, 0, 0, 0, 0, 1, 1],\n",
    "[1, 1, 0, 0, 0, 0, 1, 1],\n",
    "[0, 0, 0, 0, 1, 1, 0, 0],\n",
    "[0, 0, 0, 0, 1, 1, 0, 0],\n",
    "[1, 0, 0, 0, 1, 1, 1, 1],\n",
    "[0, 1, 0, 0, 1, 1, 1, 1],\n",
    "[0, 0, 1, 1, 1, 1, 1, 1],\n",
    "[0, 0, 1, 1, 1, 1, 1, 1]]\n",
    "\n",
    "def divide_conquer(size, x, y):\n",
    "    if size = 2:\n",
    "        \n",
    "\n",
    "\n",
    "for i in arr:\n",
    "    print(i)"
   ]
  },
  {
   "cell_type": "markdown",
   "id": "1669737b-bdd0-47aa-bf1d-90c60c46f548",
   "metadata": {},
   "source": [
    "---"
   ]
  },
  {
   "cell_type": "code",
   "execution_count": 1,
   "id": "85749cfd-da58-4163-b2c4-0a5047800c8b",
   "metadata": {},
   "outputs": [],
   "source": [
    "# programmers\n",
    "# lv.1 예산"
   ]
  },
  {
   "cell_type": "code",
   "execution_count": 9,
   "id": "a91d2f9e-c0b9-4c25-8491-0f803c75e592",
   "metadata": {},
   "outputs": [
    {
     "name": "stdout",
     "output_type": "stream",
     "text": [
      "6\n",
      "3\n"
     ]
    }
   ],
   "source": [
    "budget = 9\n",
    "d = [1,3,2,5,4]\n",
    "d.sort()\n",
    "result = 0\n",
    "cnt = 0\n",
    "for i in d:\n",
    "    if result + i > budget:\n",
    "        break\n",
    "    else:\n",
    "        result += i\n",
    "        cnt += 1\n",
    "print(result)\n",
    "print(cnt)"
   ]
  },
  {
   "cell_type": "markdown",
   "id": "8d9c2798-8528-48a1-bc6e-e378f58f82fa",
   "metadata": {},
   "source": [
    "---"
   ]
  },
  {
   "cell_type": "code",
   "execution_count": 10,
   "id": "e5363d6f-6d46-4937-87e9-064aa25d7cc8",
   "metadata": {},
   "outputs": [],
   "source": [
    "# programmers\n",
    "# lv.1 k번째 수"
   ]
  },
  {
   "cell_type": "code",
   "execution_count": 48,
   "id": "79346001-f73c-46ea-8774-5c93c6096c9e",
   "metadata": {},
   "outputs": [
    {
     "name": "stdout",
     "output_type": "stream",
     "text": [
      "[5, 2, 6, 3]\n",
      "[2, 3, 5, 6]\n",
      "[5]\n",
      "[6]\n",
      "[6]\n",
      "[5, 6]\n",
      "[1, 5, 2, 6, 3, 7, 4]\n",
      "[1, 2, 3, 4, 5, 6, 7]\n",
      "[5, 6, 3]\n"
     ]
    }
   ],
   "source": [
    "array = [1, 5, 2, 6, 3, 7, 4]\n",
    "commands = [[2, 5, 3], [4, 4, 1], [1, 7, 3]]\n",
    "# return = [5, 6, 3]\n",
    "\n",
    "answer = []\n",
    "for i in range(len(commands)):\n",
    "    arr = array[commands[i][0]-1:commands[i][1]]\n",
    "    print(arr)\n",
    "    arr.sort()\n",
    "    print(arr)\n",
    "    answer.append(arr[commands[i][2]-1])\n",
    "    print(answer)"
   ]
  },
  {
   "cell_type": "markdown",
   "id": "d3beffba-90fa-4b23-9f5e-25aa13f360fa",
   "metadata": {},
   "source": [
    "---"
   ]
  },
  {
   "cell_type": "code",
   "execution_count": 1,
   "id": "306657ff-c696-4a5b-8dfa-e764f83beeaa",
   "metadata": {},
   "outputs": [],
   "source": [
    "# 17298 오큰수"
   ]
  },
  {
   "cell_type": "code",
   "execution_count": 2,
   "id": "af033980-8586-4735-b66a-836242f693be",
   "metadata": {},
   "outputs": [
    {
     "name": "stdout",
     "output_type": "stream",
     "text": [
      "[3, 5, 2, 7]\n"
     ]
    }
   ],
   "source": [
    "N = 4\n",
    "A = [3, 5, 2, 7]\n",
    "\n",
    "for i in range(N):\n",
    "    for j in range(i, N):\n",
    "        A[i] "
   ]
  },
  {
   "cell_type": "code",
   "execution_count": null,
   "id": "663b1152-7e8c-401b-8722-6053b13af084",
   "metadata": {},
   "outputs": [],
   "source": []
  }
 ],
 "metadata": {
  "kernelspec": {
   "display_name": "Python 3 (ipykernel)",
   "language": "python",
   "name": "python3"
  },
  "language_info": {
   "codemirror_mode": {
    "name": "ipython",
    "version": 3
   },
   "file_extension": ".py",
   "mimetype": "text/x-python",
   "name": "python",
   "nbconvert_exporter": "python",
   "pygments_lexer": "ipython3",
   "version": "3.8.12"
  }
 },
 "nbformat": 4,
 "nbformat_minor": 5
}
