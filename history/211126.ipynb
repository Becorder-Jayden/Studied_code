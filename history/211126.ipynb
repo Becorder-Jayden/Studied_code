{
 "cells": [
  {
   "cell_type": "markdown",
   "id": "7aa5a6ae-582a-4590-a32c-a5844cf2fefa",
   "metadata": {},
   "source": [
    "# 2021.11.26"
   ]
  },
  {
   "cell_type": "code",
   "execution_count": 2,
   "id": "362abd70-5067-4bd3-8fa6-8e7ddff1ba81",
   "metadata": {},
   "outputs": [],
   "source": [
    "# Silver III\n",
    "# 11399 ATM"
   ]
  },
  {
   "cell_type": "code",
   "execution_count": 42,
   "id": "3d572f8b-9ea6-4e84-8cba-a22b25897116",
   "metadata": {},
   "outputs": [
    {
     "name": "stdin",
     "output_type": "stream",
     "text": [
      " 5\n",
      " 3 1 4 3 2\n"
     ]
    },
    {
     "name": "stdout",
     "output_type": "stream",
     "text": [
      "[1, 2, 3, 3, 4]\n",
      "[0, 1]\n",
      "[0, 1, 3]\n",
      "[0, 1, 3, 6]\n",
      "[0, 1, 3, 6, 9]\n",
      "[0, 1, 3, 6, 9, 13]\n",
      "32\n"
     ]
    }
   ],
   "source": [
    "N = int(input())\n",
    "\n",
    "people = list(map(int, input().split()))\n",
    "people = sorted(people)\n",
    "\n",
    "time = [0]\n",
    "for i in people:\n",
    "    time.append(time[-1]+i)\n",
    "\n",
    "print(sum(time))\n",
    "# time에 0을 넣지 않고 사용하는 방법?"
   ]
  },
  {
   "cell_type": "markdown",
   "id": "8b823ff4-6478-4219-b17e-9496fdb8772d",
   "metadata": {},
   "source": [
    "---"
   ]
  },
  {
   "cell_type": "code",
   "execution_count": 43,
   "id": "9e6bf743-d177-4412-89dd-7d7477f53b7c",
   "metadata": {},
   "outputs": [],
   "source": [
    "# 하노이 탑 이동 순서_실패\n",
    "# Silver II"
   ]
  },
  {
   "cell_type": "code",
   "execution_count": 53,
   "id": "532bc6fb-3346-4102-ab6b-432d83f538f3",
   "metadata": {},
   "outputs": [
    {
     "name": "stdin",
     "output_type": "stream",
     "text": [
      " 3\n"
     ]
    },
    {
     "name": "stdout",
     "output_type": "stream",
     "text": [
      "7\n",
      "[3, 0, 0]\n"
     ]
    }
   ],
   "source": [
    "N = int(input())\n",
    "hanoi = [0, 0, 0]\n",
    "\n",
    "# K값\n",
    "def K(N):\n",
    "    if N<2:\n",
    "        return 1\n",
    "    else :\n",
    "        return 2*N+1\n",
    "print(K(N))\n",
    "\n",
    "hanoi[0] = N\n",
    "\n",
    "# 이동 방식\n",
    "# for i in range(K(N)):"
   ]
  },
  {
   "cell_type": "code",
   "execution_count": null,
   "id": "c6102d5d-ad4e-434f-ac07-3b9fafd5236d",
   "metadata": {},
   "outputs": [],
   "source": []
  }
 ],
 "metadata": {
  "kernelspec": {
   "display_name": "Python 3 (ipykernel)",
   "language": "python",
   "name": "python3"
  },
  "language_info": {
   "codemirror_mode": {
    "name": "ipython",
    "version": 3
   },
   "file_extension": ".py",
   "mimetype": "text/x-python",
   "name": "python",
   "nbconvert_exporter": "python",
   "pygments_lexer": "ipython3",
   "version": "3.8.12"
  }
 },
 "nbformat": 4,
 "nbformat_minor": 5
}
