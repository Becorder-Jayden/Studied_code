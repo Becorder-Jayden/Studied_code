{
 "cells": [
  {
   "cell_type": "markdown",
   "id": "7093ed0e-18a6-4ec7-84c3-6fb269c6d0b8",
   "metadata": {},
   "source": [
    "# 2022.03.30"
   ]
  },
  {
   "cell_type": "code",
   "execution_count": 3,
   "id": "b5e9668e-d30f-4908-b7fd-863e7ad626b6",
   "metadata": {},
   "outputs": [],
   "source": [
    "# 프로그래머스 중간고사"
   ]
  },
  {
   "cell_type": "code",
   "execution_count": 40,
   "id": "0ddf4404-88eb-4adb-9906-71b69d8e5242",
   "metadata": {
    "tags": []
   },
   "outputs": [
    {
     "name": "stdout",
     "output_type": "stream",
     "text": [
      "2\n",
      "3\n"
     ]
    }
   ],
   "source": [
    "people = [2,3]\n",
    "tshirts = [1,2,3]\n",
    "\n",
    "for i in people:\n",
    "    if i in tshirts:\n",
    "        print(i)"
   ]
  },
  {
   "cell_type": "code",
   "execution_count": 45,
   "id": "23e4a5f8-1009-406e-9bff-1d7d332c24d3",
   "metadata": {},
   "outputs": [
    {
     "name": "stdout",
     "output_type": "stream",
     "text": [
      "1 1\n",
      "1 1\n"
     ]
    }
   ],
   "source": [
    "people = [1,2,3,4,5]\n",
    "tshirts = [1,1,1]\n",
    "\n",
    "for i in people:\n",
    "    for j in tshirts:\n",
    "        if i <= j:\n",
    "            tshirts.remove(j)\n",
    "            print(i, j)"
   ]
  },
  {
   "cell_type": "code",
   "execution_count": 43,
   "id": "5fec1bcd-f29e-4df6-8f67-e38a395ba7b6",
   "metadata": {},
   "outputs": [
    {
     "name": "stdout",
     "output_type": "stream",
     "text": [
      "2 2\n",
      "2 3\n"
     ]
    }
   ],
   "source": [
    "people = [2,2,2,2]\n",
    "tshirts = [1,2,3]\n",
    "\n",
    "for i in people:\n",
    "    for j in tshirts:\n",
    "        if i <= j:\n",
    "            print(i, j)\n",
    "            tshirts.remove(j)\n",
    "            "
   ]
  },
  {
   "cell_type": "code",
   "execution_count": 47,
   "id": "2464aea6-a00c-4ad8-9dd2-fd594119799e",
   "metadata": {},
   "outputs": [
    {
     "name": "stdout",
     "output_type": "stream",
     "text": [
      "1 1\n",
      "1 1\n",
      "1 1\n"
     ]
    }
   ],
   "source": [
    "people = [1,2,3,4,5]\n",
    "tshirts = [1,1,1]\n",
    "\n",
    "for j in tshirts:\n",
    "    for i in people:\n",
    "        if i <= j:\n",
    "            print(i, j)"
   ]
  },
  {
   "cell_type": "code",
   "execution_count": 36,
   "id": "83508e36-afab-4255-80bf-b436a4bcf528",
   "metadata": {},
   "outputs": [],
   "source": [
    "# people = [1,2,3,4,5]\n",
    "# tshirts = [1,1,1]\n",
    "\n",
    "people = [2,3]\n",
    "tshirts = [1,2,3]\n",
    "\n",
    "cnt = 0\n",
    "\n",
    "for i, j in zip(people, tshirts):\n",
    "    if i <= j:\n",
    "        print(i, j)"
   ]
  },
  {
   "cell_type": "code",
   "execution_count": null,
   "id": "16937a86-7797-4744-b3d8-9b3bde67e9df",
   "metadata": {},
   "outputs": [],
   "source": [
    "    cnt = 0\n",
    "    people.sort()\n",
    "    tshirts.sort()\n",
    "    for i, j in zip(people, tshirts):\n",
    "        if i <= j:\n",
    "            cnt += 1\n",
    "    return cnt"
   ]
  }
 ],
 "metadata": {
  "kernelspec": {
   "display_name": "Python 3 (ipykernel)",
   "language": "python",
   "name": "python3"
  },
  "language_info": {
   "codemirror_mode": {
    "name": "ipython",
    "version": 3
   },
   "file_extension": ".py",
   "mimetype": "text/x-python",
   "name": "python",
   "nbconvert_exporter": "python",
   "pygments_lexer": "ipython3",
   "version": "3.8.12"
  }
 },
 "nbformat": 4,
 "nbformat_minor": 5
}
