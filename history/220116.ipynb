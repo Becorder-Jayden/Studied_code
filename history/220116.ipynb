{
 "cells": [
  {
   "cell_type": "markdown",
   "id": "d3db718b-7ae0-4fcd-9a87-417ea4d00421",
   "metadata": {},
   "source": [
    "# 2022.01.16"
   ]
  },
  {
   "cell_type": "code",
   "execution_count": null,
   "id": "63a921da-f367-4885-8591-48149149a037",
   "metadata": {},
   "outputs": [],
   "source": [
    "# Silver I\n",
    "# 1697 숨바꼭질 (재풀이)"
   ]
  },
  {
   "cell_type": "code",
   "execution_count": 18,
   "id": "ddaad98b-1258-4217-9ecc-7988d1a43e2f",
   "metadata": {},
   "outputs": [
    {
     "name": "stdin",
     "output_type": "stream",
     "text": [
      " 5 17\n"
     ]
    },
    {
     "name": "stdout",
     "output_type": "stream",
     "text": [
      "4\n"
     ]
    }
   ],
   "source": [
    "# q에 append 하지 않으면 while이 반복되지 않아..\n",
    "\n",
    "from collections import deque\n",
    "\n",
    "N, K = map(int, input().split())\n",
    "MAX = 100000\n",
    "visited = [0] * MAX\n",
    "\n",
    "def bfs(n, k):\n",
    "    q = deque()\n",
    "    q.append(n)\n",
    "    \n",
    "    while q:\n",
    "        pop = q.popleft()\n",
    "        \n",
    "        if pop == k:\n",
    "            return visited[pop]\n",
    "        \n",
    "        for i in [2*pop, pop-1, pop+1]:\n",
    "            if 0<=i<=MAX and not visited[i]:\n",
    "                visited[i] = visited[pop] + 1\n",
    "                q.append(i)\n",
    "         \n",
    "print(bfs(N, K))"
   ]
  },
  {
   "cell_type": "code",
   "execution_count": 32,
   "id": "de44e7d6-f286-44e8-8333-b8091db20f8a",
   "metadata": {},
   "outputs": [
    {
     "name": "stdin",
     "output_type": "stream",
     "text": [
      " 5 17\n"
     ]
    },
    {
     "name": "stdout",
     "output_type": "stream",
     "text": [
      "4\n"
     ]
    }
   ],
   "source": [
    "# 정답처리된 코드\n",
    "\n",
    "from collections import deque\n",
    "\n",
    "def bfs(n, k):\n",
    "    q = deque([n])\n",
    "    \n",
    "    while q:\n",
    "        pop = q.popleft()\n",
    "        \n",
    "        if pop == k:\n",
    "            return visited[pop]\n",
    "        \n",
    "        for i in [pop-1, pop+1, 2*pop]:\n",
    "            if 0 <= i <= MAX and not visited[i]:\n",
    "                visited[i] = visited[pop] + 1\n",
    "                q.append(i)\n",
    "\n",
    "N, K = map(int, input().split())\n",
    "MAX = 100000\n",
    "visited = [0] * (MAX+1)\n",
    "\n",
    "print(bfs(N, K))"
   ]
  },
  {
   "cell_type": "code",
   "execution_count": 35,
   "id": "67d2a530-30fa-4ac6-858a-ce38c4f622f4",
   "metadata": {},
   "outputs": [
    {
     "name": "stdin",
     "output_type": "stream",
     "text": [
      " 5 17\n"
     ]
    },
    {
     "name": "stdout",
     "output_type": "stream",
     "text": [
      "4\n"
     ]
    }
   ],
   "source": [
    "# 이건 왜 틀리고\n",
    "from collections import deque\n",
    "\n",
    "def bfs(n, k):\n",
    "    q = deque([n])\n",
    "    while q:\n",
    "        pop = q.popleft()\n",
    "        if pop == k:\n",
    "            return visited[pop]\n",
    "        for i in [2*pop, pop-1, pop+1]:\n",
    "            if 0<=i<=MAX and not visited[i]:\n",
    "                visited[i] = visited[pop] + 1\n",
    "                q.append(i)\n",
    "                \n",
    "N, K = map(int, input().split())\n",
    "MAX = 100000\n",
    "visited = [0] * (MAX+1)\n",
    "\n",
    "print(bfs(N, K))"
   ]
  },
  {
   "cell_type": "code",
   "execution_count": null,
   "id": "b4e9d437-8c0b-494e-bb1d-37a79a6f5658",
   "metadata": {},
   "outputs": [],
   "source": [
    "# 이건 왜 맞고?\n",
    "from collections import deque\n",
    "\n",
    "def bfs(n, k):\n",
    "    q = deque([n])\n",
    "    while q:\n",
    "        pop = q.popleft()\n",
    "        if pop == k:\n",
    "            return visited[pop]\n",
    "        for i in [pop-1, pop+1, 2*pop]:\n",
    "            if 0<=i<=MAX and not visited[i]:\n",
    "                visited[i] = visited[pop] + 1\n",
    "                q.append(i)\n",
    "                \n",
    "N, K = map(int, input().split())\n",
    "MAX = 100000\n",
    "visited = [0] * (MAX+1)\n",
    "\n",
    "print(bfs(N, K))"
   ]
  },
  {
   "cell_type": "markdown",
   "id": "e1e08953-17cd-49ef-a311-eefce0c674f4",
   "metadata": {},
   "source": [
    "---"
   ]
  },
  {
   "cell_type": "code",
   "execution_count": 36,
   "id": "188be4c0-3817-46ce-b60c-d880f2991fbc",
   "metadata": {},
   "outputs": [],
   "source": [
    "# Silver III\n",
    "# 1966 프린터 큐"
   ]
  },
  {
   "cell_type": "code",
   "execution_count": 61,
   "id": "e1b46429-f7a3-4847-9e49-e51c35f17d3f",
   "metadata": {},
   "outputs": [
    {
     "name": "stdin",
     "output_type": "stream",
     "text": [
      " 3\n",
      " 1 0\n",
      " 5\n"
     ]
    },
    {
     "name": "stdout",
     "output_type": "stream",
     "text": [
      "deque([5])\n"
     ]
    },
    {
     "name": "stdin",
     "output_type": "stream",
     "text": [
      " 4 2\n",
      " 1 2 3 4\n"
     ]
    },
    {
     "name": "stdout",
     "output_type": "stream",
     "text": [
      "deque([1, 2, 3, 4])\n"
     ]
    },
    {
     "name": "stdin",
     "output_type": "stream",
     "text": [
      " 6 0\n",
      " 1 1 9 1 1 1 \n"
     ]
    },
    {
     "name": "stdout",
     "output_type": "stream",
     "text": [
      "deque([1, 1, 9, 1, 1, 1])\n"
     ]
    }
   ],
   "source": [
    "from collections import deque\n",
    "\n",
    "test_case = int(input())\n",
    "\n",
    "for i in range(test_case):\n",
    "    N, M = map(int, input().split())\n",
    "    q = deque(list(map(int, input().split())))\n",
    "    \n",
    "    for j in range(arr):\n",
    "        if arr[j] < arr[j+1]:\n",
    "            "
   ]
  },
  {
   "cell_type": "markdown",
   "id": "9fb39860-b3b2-46a5-a150-241b1ee06269",
   "metadata": {},
   "source": [
    "---"
   ]
  },
  {
   "cell_type": "code",
   "execution_count": 62,
   "id": "3a1edd7f-f30b-429a-9c8f-c36c4607f1bd",
   "metadata": {},
   "outputs": [],
   "source": [
    "# Gold IV\n",
    "# 2206 벽 부수고 이동하기"
   ]
  },
  {
   "cell_type": "code",
   "execution_count": 76,
   "id": "88c4efd7-1334-4510-a9df-657f4b40717e",
   "metadata": {},
   "outputs": [
    {
     "name": "stdin",
     "output_type": "stream",
     "text": [
      " 6 4\n",
      " 0100\n",
      " 1110\n",
      " 1000\n",
      " 0000\n",
      " 0111\n",
      " 0000\n"
     ]
    },
    {
     "name": "stdout",
     "output_type": "stream",
     "text": [
      "[[0, 1, 0, 0], [1, 1, 1, 0], [1, 0, 0, 0], [0, 0, 0, 0], [0, 1, 1, 1], [0, 0, 0, 0]]\n",
      "[[True, 0, 0, 0], [0, 0, 0, 0], [0, 0, 0, 0], [0, 0, 0, 0], [0, 0, 0, 0], [0, 0, 0, 0]]\n"
     ]
    }
   ],
   "source": [
    "from collections import deque\n",
    "\n",
    "N, M = map(int, input().split())\n",
    "graph = [list(map(int, input())) for i in range(N)]\n",
    "visited = [[0]*M for i in range(N)]\n",
    "\n",
    "def bfs(x, y):\n",
    "    q = deque()\n",
    "    \n",
    "    if graph[y][x] == 0 and visited[y][x] == False:\n",
    "        q.append((x, y))\n",
    "        visited[y][x] = True\n",
    "        \n",
    "    dx = [0,0,-1,1]\n",
    "    dy = [1,-1,0,0]\n",
    "    \n",
    "    while q:\n",
    "        x, y = q.popleft()\n",
    "\n",
    "        for i in range(4):\n",
    "            nx = x+dx[i]\n",
    "            ny = y+dy[i]\n",
    "\n",
    "            if 0<=nx<M and 0<=ny<N:\n",
    "                if graph[ny][nx] == 0 and visited[ny][nx] == False:\n",
    "                    graph[ny][nx] = graph[y][x] + 1\n",
    "                    visited[ny][nx] = True\n",
    "                    q.append((nx, ny))\n",
    "    \n",
    "    if graph[N][M] == 0:\n",
    "        chance = 1\n",
    "        \n",
    "\n",
    "\n",
    "for i in bfs(0,0), visited:\n",
    "    print(i)\n",
    "\n",
    "# 아.. 어려워.."
   ]
  },
  {
   "cell_type": "markdown",
   "id": "84577b09-b604-4df1-95fa-810e14086316",
   "metadata": {},
   "source": [
    "---"
   ]
  },
  {
   "cell_type": "code",
   "execution_count": 77,
   "id": "6eeb2444-64d5-44d4-8178-9decbec814ff",
   "metadata": {},
   "outputs": [],
   "source": [
    "# Silver II\n",
    "# 7562 나이트의 이동"
   ]
  },
  {
   "cell_type": "code",
   "execution_count": 3,
   "id": "b70b8376-b014-43a7-b5b4-2cf7d370d27b",
   "metadata": {},
   "outputs": [
    {
     "name": "stdin",
     "output_type": "stream",
     "text": [
      " 3\n",
      " 8\n",
      " 0 0\n",
      " 7 0\n"
     ]
    },
    {
     "name": "stdout",
     "output_type": "stream",
     "text": [
      "5\n"
     ]
    },
    {
     "name": "stdin",
     "output_type": "stream",
     "text": [
      " 100\n",
      " 0 0\n",
      " 30 50\n"
     ]
    },
    {
     "name": "stdout",
     "output_type": "stream",
     "text": [
      "28\n"
     ]
    },
    {
     "name": "stdin",
     "output_type": "stream",
     "text": [
      " 10\n",
      " 1 1\n",
      " 1 1\n"
     ]
    },
    {
     "name": "stdout",
     "output_type": "stream",
     "text": [
      "0\n"
     ]
    }
   ],
   "source": [
    "from collections import deque\n",
    "\n",
    "def bfs(x, y):\n",
    "    if (loc_x, loc_y) == (des_x, des_y):\n",
    "        return 0\n",
    "    \n",
    "    else:\n",
    "        q = deque()\n",
    "        q.append((x, y))\n",
    "\n",
    "        dx = [1, 2, 2, 1, -1, -2, -2, -1]\n",
    "        dy = [2, 1, -1, -2, -2, -1, 1, 2]\n",
    "\n",
    "        while q:\n",
    "            x, y = q.popleft()\n",
    "\n",
    "            for i in range(8):\n",
    "                nx = x + dx[i]\n",
    "                ny = y + dy[i]\n",
    "\n",
    "                if 0<=nx<l and 0<=ny<l:\n",
    "                    if chess[ny][nx] == 0:\n",
    "                        chess[ny][nx] = chess[y][x] + 1\n",
    "                        q.append((nx,ny))\n",
    "\n",
    "        return chess[des_y][des_x]\n",
    "\n",
    "    \n",
    "n = int(input())\n",
    "for i in range(n):\n",
    "\n",
    "    l = int(input())\n",
    "    chess = [[0] * l for i in range(l)]\n",
    "\n",
    "    loc_x, loc_y = map(int, input().split())\n",
    "    des_x, des_y = map(int, input().split())\n",
    "\n",
    "    print(bfs(loc_x, loc_y))"
   ]
  },
  {
   "cell_type": "markdown",
   "id": "19c93229-c2b6-443e-b5f4-78f24499169d",
   "metadata": {},
   "source": [
    "---"
   ]
  },
  {
   "cell_type": "code",
   "execution_count": 1,
   "id": "0016a812-d7ab-4008-ace1-1827e3c2201f",
   "metadata": {},
   "outputs": [],
   "source": [
    "# Bronze II\n",
    "# 2675 문자열 반복"
   ]
  },
  {
   "cell_type": "code",
   "execution_count": 13,
   "id": "f9491b38-679a-4647-b9bf-88ab6dc5d85e",
   "metadata": {},
   "outputs": [
    {
     "name": "stdin",
     "output_type": "stream",
     "text": [
      " 2\n",
      " 3 ABC\n"
     ]
    },
    {
     "name": "stdout",
     "output_type": "stream",
     "text": [
      "AAABBBCCC\n"
     ]
    },
    {
     "name": "stdin",
     "output_type": "stream",
     "text": [
      " 5 /HTP\n"
     ]
    },
    {
     "name": "stdout",
     "output_type": "stream",
     "text": [
      "/////HHHHHTTTTTPPPPP\n"
     ]
    }
   ],
   "source": [
    "T = int(input())\n",
    "for i in range(T):\n",
    "    R, S = input().split()\n",
    "    P = ''\n",
    "    for j in S:\n",
    "        P += j*int(R)\n",
    "    print(P)"
   ]
  },
  {
   "cell_type": "markdown",
   "id": "b3763173-11bd-4330-87c6-f554bc4ee590",
   "metadata": {},
   "source": [
    "---"
   ]
  },
  {
   "cell_type": "code",
   "execution_count": 14,
   "id": "5f8799ee-6a63-48ff-96f6-a0be5f65112d",
   "metadata": {},
   "outputs": [],
   "source": [
    "# Bronze V\n",
    "# 2475 검증수"
   ]
  },
  {
   "cell_type": "code",
   "execution_count": 21,
   "id": "1fe5c932-6890-4c44-bbb8-bdb900b9f575",
   "metadata": {},
   "outputs": [
    {
     "name": "stdin",
     "output_type": "stream",
     "text": [
      " 0 4 2 5 6\n"
     ]
    },
    {
     "name": "stdout",
     "output_type": "stream",
     "text": [
      "1\n"
     ]
    }
   ],
   "source": [
    "num = list(map(int, input().split()))\n",
    "s = 0\n",
    "for i in range(len(num)):\n",
    "    s += num[i]**2\n",
    "print(s%10)"
   ]
  },
  {
   "cell_type": "markdown",
   "id": "79a5cab4-d010-43ca-94e8-673b4299f636",
   "metadata": {},
   "source": [
    "---"
   ]
  },
  {
   "cell_type": "code",
   "execution_count": 22,
   "id": "93a3fa34-bed7-4fad-9335-7fd6f074425f",
   "metadata": {},
   "outputs": [],
   "source": [
    "# Bronze II\n",
    "# 10809 알파벳 찾기"
   ]
  },
  {
   "cell_type": "code",
   "execution_count": 30,
   "id": "185fd203-4404-4987-a1fa-44ab9cc03fe7",
   "metadata": {},
   "outputs": [
    {
     "name": "stdin",
     "output_type": "stream",
     "text": [
      " baekjoon\n"
     ]
    },
    {
     "name": "stdout",
     "output_type": "stream",
     "text": [
      "1 0 -1 -1 2 -1 -1 -1 -1 4 3 -1 -1 7 5 -1 -1 -1 -1 -1 -1 -1 -1 -1 -1 -1\n"
     ]
    }
   ],
   "source": [
    "S = list(input())\n",
    "alphabet = list('abcdefghijklmnopqrstuvwxyz')\n",
    "li = []\n",
    "for i in alphabet:\n",
    "    if i in S:\n",
    "        li.append(S.index(i))\n",
    "    else:\n",
    "        li.append(-1)\n",
    "        \n",
    "print(*li)"
   ]
  },
  {
   "cell_type": "markdown",
   "id": "09011842-99e1-4e9a-921f-1bdfb88ad1d9",
   "metadata": {},
   "source": [
    "---"
   ]
  },
  {
   "cell_type": "code",
   "execution_count": 31,
   "id": "35bf2e58-357a-406f-ab70-f632708e35f5",
   "metadata": {},
   "outputs": [],
   "source": [
    "# Bronze II\n",
    "# 2920 음계"
   ]
  },
  {
   "cell_type": "code",
   "execution_count": 36,
   "id": "e1ce1825-b2a9-42af-a33c-0b1e9ab00305",
   "metadata": {},
   "outputs": [
    {
     "name": "stdin",
     "output_type": "stream",
     "text": [
      " 8 7 6 5 4 3 2 1\n"
     ]
    },
    {
     "name": "stdout",
     "output_type": "stream",
     "text": [
      "decending\n"
     ]
    }
   ],
   "source": [
    "li = input().split()\n",
    "a = sorted(li)\n",
    "d = sorted(li, reverse = True)\n",
    "\n",
    "if li == a:\n",
    "    print('ascending')\n",
    "elif li == d:\n",
    "    print('descending')\n",
    "else:\n",
    "    print('mixed')"
   ]
  },
  {
   "cell_type": "markdown",
   "id": "bcd94c6b-c68e-4d77-87a4-98a4cdbdce45",
   "metadata": {},
   "source": [
    "---"
   ]
  },
  {
   "cell_type": "code",
   "execution_count": 37,
   "id": "59e433ab-7a68-4d7c-a969-acf84fb24f4e",
   "metadata": {},
   "outputs": [],
   "source": [
    "# Silver V\n",
    "# 1018 체스판 다시 칠하기"
   ]
  },
  {
   "cell_type": "code",
   "execution_count": 154,
   "id": "a472262f-741f-4029-aeea-b71037dad77d",
   "metadata": {},
   "outputs": [
    {
     "name": "stdin",
     "output_type": "stream",
     "text": [
      " 10 13\n",
      " BBBBBBBBWBWBW\n",
      " BBBBBBBBWBWBW\n",
      " BBBBBBBBWBWBW\n",
      " BBBBBBBBWBWBW\n",
      " BBBBBBBBBWBWB\n",
      " BBBBBBBBBWBWB\n",
      " BBBBBBBBBWBWB\n",
      " BBBBBBBBBWBWB\n",
      " WWWWWWWWWWBWB\n",
      " WWWWWWWWWWBWB\n"
     ]
    },
    {
     "name": "stdout",
     "output_type": "stream",
     "text": [
      "[['B', 'B', 'B', 'B', 'B', 'B', 'B', 'B', 'W', 'B', 'W', 'B', 'W'], ['B', 'B', 'B', 'B', 'B', 'B', 'B', 'B', 'W', 'B', 'W', 'B', 'W'], ['B', 'B', 'B', 'B', 'B', 'B', 'B', 'B', 'W', 'B', 'W', 'B', 'W'], ['B', 'B', 'B', 'B', 'B', 'B', 'B', 'B', 'W', 'B', 'W', 'B', 'W'], ['B', 'B', 'B', 'B', 'B', 'B', 'B', 'B', 'B', 'W', 'B', 'W', 'B'], ['B', 'B', 'B', 'B', 'B', 'B', 'B', 'B', 'B', 'W', 'B', 'W', 'B'], ['B', 'B', 'B', 'B', 'B', 'B', 'B', 'B', 'B', 'W', 'B', 'W', 'B'], ['B', 'B', 'B', 'B', 'B', 'B', 'B', 'B', 'B', 'W', 'B', 'W', 'B'], ['W', 'W', 'W', 'W', 'W', 'W', 'W', 'W', 'W', 'W', 'B', 'W', 'B'], ['W', 'W', 'W', 'W', 'W', 'W', 'W', 'W', 'W', 'W', 'B', 'W', 'B']]\n",
      "---------------------------------\n",
      "65\n",
      "[['B', 'W', 'B', 'W', 'B', 'W', 'B', 'W', 'B', 'W', 'B', 'W', 'B'], ['W', 'B', 'W', 'B', 'W', 'B', 'W', 'B', 'W', 'B', 'W', 'B', 'W'], ['B', 'W', 'B', 'W', 'B', 'W', 'B', 'W', 'B', 'W', 'B', 'W', 'B'], ['W', 'B', 'W', 'B', 'W', 'B', 'W', 'B', 'W', 'B', 'W', 'B', 'W'], ['B', 'W', 'B', 'W', 'B', 'W', 'B', 'W', 'B', 'W', 'B', 'W', 'B'], ['W', 'B', 'W', 'B', 'W', 'B', 'W', 'B', 'W', 'B', 'W', 'B', 'W'], ['B', 'W', 'B', 'W', 'B', 'W', 'B', 'W', 'B', 'W', 'B', 'W', 'B'], ['W', 'B', 'W', 'B', 'W', 'B', 'W', 'B', 'W', 'B', 'W', 'B', 'W'], ['B', 'W', 'B', 'W', 'B', 'W', 'B', 'W', 'B', 'W', 'B', 'W', 'B'], ['W', 'B', 'W', 'B', 'W', 'B', 'W', 'B', 'W', 'B', 'W', 'B', 'W']]\n",
      "---------------------------------\n",
      "65\n",
      "[['W', 'B', 'W', 'B', 'W', 'B', 'W', 'B', 'W', 'B', 'W', 'B', 'W'], ['B', 'W', 'B', 'W', 'B', 'W', 'B', 'W', 'B', 'W', 'B', 'W', 'B'], ['W', 'B', 'W', 'B', 'W', 'B', 'W', 'B', 'W', 'B', 'W', 'B', 'W'], ['B', 'W', 'B', 'W', 'B', 'W', 'B', 'W', 'B', 'W', 'B', 'W', 'B'], ['W', 'B', 'W', 'B', 'W', 'B', 'W', 'B', 'W', 'B', 'W', 'B', 'W'], ['B', 'W', 'B', 'W', 'B', 'W', 'B', 'W', 'B', 'W', 'B', 'W', 'B'], ['W', 'B', 'W', 'B', 'W', 'B', 'W', 'B', 'W', 'B', 'W', 'B', 'W'], ['B', 'W', 'B', 'W', 'B', 'W', 'B', 'W', 'B', 'W', 'B', 'W', 'B'], ['W', 'B', 'W', 'B', 'W', 'B', 'W', 'B', 'W', 'B', 'W', 'B', 'W'], ['B', 'W', 'B', 'W', 'B', 'W', 'B', 'W', 'B', 'W', 'B', 'W', 'B']]\n",
      "---------------------------------\n",
      "65\n"
     ]
    }
   ],
   "source": [
    "M, N = map(int, input().split()) # M:행의 개수, N:열의 개수\n",
    "\n",
    "chess = [list(input()) for i in range(M)]\n",
    "        \n",
    "case_w = [[0]*N for i in range(M)]\n",
    "case_b = [[0]*N for i in range(M)]\n",
    "\n",
    "for i in range(N):\n",
    "    for j in range(M):\n",
    "        if i%2==1 and j%2==0:\n",
    "            case_w[j][i] = 'W'\n",
    "            case_b[j][i] = 'B'\n",
    "        elif i%2==0 and j%2==1:\n",
    "            case_w[j][i] = 'W'\n",
    "            case_b[j][i] = 'B'\n",
    "        else:\n",
    "            case_w[j][i] = 'B'\n",
    "            case_b[j][i] = 'W'\n",
    "\n",
    "cnt_w = 0\n",
    "cnt_b = 0\n",
    "            \n",
    "for i in range(N):\n",
    "    for j in range(M):\n",
    "        if chess[j][i] != case_w[j][i]:\n",
    "            cnt_w += 1\n",
    "        \n",
    "        if chess[j][i] != case_b[j][i]:\n",
    "            cnt_b += 1\n",
    "print(chess)\n",
    "print('---------------------------------')\n",
    "print(cnt_w)\n",
    "print(case_w)\n",
    "print('---------------------------------')\n",
    "print(cnt_b)\n",
    "print(case_b)\n",
    "print('---------------------------------')\n",
    "print(min(cnt_b, cnt_w))\n"
   ]
  },
  {
   "cell_type": "code",
   "execution_count": null,
   "id": "3143247f-4ad0-49d9-8bc4-3a1658f10a6b",
   "metadata": {},
   "outputs": [],
   "source": []
  }
 ],
 "metadata": {
  "kernelspec": {
   "display_name": "Python 3 (ipykernel)",
   "language": "python",
   "name": "python3"
  },
  "language_info": {
   "codemirror_mode": {
    "name": "ipython",
    "version": 3
   },
   "file_extension": ".py",
   "mimetype": "text/x-python",
   "name": "python",
   "nbconvert_exporter": "python",
   "pygments_lexer": "ipython3",
   "version": "3.8.12"
  }
 },
 "nbformat": 4,
 "nbformat_minor": 5
}
