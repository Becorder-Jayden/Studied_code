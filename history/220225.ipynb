{
 "cells": [
  {
   "cell_type": "markdown",
   "id": "511be6c4-1c12-4e37-a8d6-98e3a0897e32",
   "metadata": {},
   "source": [
    "# 2022.02.25\n"
   ]
  },
  {
   "cell_type": "code",
   "execution_count": 191,
   "id": "c6971556-d3ab-4304-a2b2-3a6e98617f66",
   "metadata": {},
   "outputs": [],
   "source": [
    "# Silver II\n",
    "# 18870 좌표 압축"
   ]
  },
  {
   "cell_type": "code",
   "execution_count": 12,
   "id": "737e8023-3094-4ed8-970b-e3c26636581f",
   "metadata": {},
   "outputs": [
    {
     "name": "stdout",
     "output_type": "stream",
     "text": [
      "1\n",
      "[0, 1]\n"
     ]
    }
   ],
   "source": [
    "# N = int(input())\n",
    "# li = list(map(int, input().split()))\n",
    "\n",
    "N = 6\n",
    "li = [2, 1, 2, 1, 2, 1]\n",
    "li = list(set(li))\n",
    "\n",
    "for i in range(len(li)):\n",
    "    cnt = 0\n",
    "    for j in range(len(li)):\n",
    "        if li[i] > li[j]:\n",
    "            cnt += 1\n",
    "    li[i] = cnt\n",
    "\n",
    "print(cnt)\n",
    "print(li)"
   ]
  },
  {
   "cell_type": "code",
   "execution_count": 7,
   "id": "3b5b3cf1-1664-4d7e-9963-b644bfee96b4",
   "metadata": {},
   "outputs": [
    {
     "data": {
      "text/plain": [
       "[1, 2]"
      ]
     },
     "execution_count": 7,
     "metadata": {},
     "output_type": "execute_result"
    }
   ],
   "source": [
    "list(set(li))"
   ]
  },
  {
   "cell_type": "markdown",
   "id": "7ca897c2-8b14-484a-8b21-e3f5077013ef",
   "metadata": {},
   "source": [
    "---"
   ]
  },
  {
   "cell_type": "code",
   "execution_count": 13,
   "id": "7d07aa10-79a7-49a6-920b-ad364724c7c5",
   "metadata": {},
   "outputs": [],
   "source": [
    "# Bronze II\n",
    "# 13458 시험 감독"
   ]
  },
  {
   "cell_type": "code",
   "execution_count": 19,
   "id": "55ee77da-03a8-43ad-b4fb-c63a7dc69453",
   "metadata": {},
   "outputs": [
    {
     "name": "stdout",
     "output_type": "stream",
     "text": [
      "714290\n"
     ]
    }
   ],
   "source": [
    "import math\n",
    "\n",
    "# N = int(input())  # 시험장 개수\n",
    "# A = list(map(int, input().split()))  # 각 시험장 응시자의 수 \n",
    "# 총감독관 감시 응시자, 부감독관 감시 응시자\n",
    "# B, C = map(int, input().split())  \n",
    "cnt = 0\n",
    "\n",
    "# N = 1\n",
    "# A = [1]\n",
    "# B, C = 1, 1\n",
    "\n",
    "N = 5\n",
    "A = [1000000, 1000000, 1000000, 1000000, 1000000]\n",
    "B, C = 5, 7\n",
    "\n",
    "# N = 5\n",
    "# A = [10, 9, 10, 9, 10]\n",
    "# B, C = 7, 20\n",
    "\n",
    "# N = 5\n",
    "# A = [10, 9, 10, 9, 10]\n",
    "# B, C = 7, 2\n",
    "\n",
    "for i in A:\n",
    "    if i-B > 0:\n",
    "        cnt += 1 + math.ceil((i-B)/C)\n",
    "    else:\n",
    "        cnt += 1\n",
    "        \n",
    "print(cnt)"
   ]
  },
  {
   "cell_type": "markdown",
   "id": "1bae64a8-38ca-46cd-acc8-f5c5e86b221a",
   "metadata": {},
   "source": [
    "---"
   ]
  },
  {
   "cell_type": "code",
   "execution_count": 21,
   "id": "78d7bfc7-0da0-446a-b132-57e13f60ce34",
   "metadata": {},
   "outputs": [],
   "source": [
    "# Silver III\n",
    "# 14501 퇴사"
   ]
  },
  {
   "cell_type": "code",
   "execution_count": 35,
   "id": "37150758-b6f8-4959-9bd8-cd0c9daad6ab",
   "metadata": {},
   "outputs": [
    {
     "ename": "IndexError",
     "evalue": "list index out of range",
     "output_type": "error",
     "traceback": [
      "\u001b[1;31m---------------------------------------------------------------------------\u001b[0m",
      "\u001b[1;31mIndexError\u001b[0m                                Traceback (most recent call last)",
      "\u001b[1;32m~\\AppData\\Local\\Temp/ipykernel_9892/3493457587.py\u001b[0m in \u001b[0;36m<module>\u001b[1;34m\u001b[0m\n\u001b[0;32m     14\u001b[0m \u001b[1;33m\u001b[0m\u001b[0m\n\u001b[0;32m     15\u001b[0m \u001b[1;32mfor\u001b[0m \u001b[0mi\u001b[0m \u001b[1;32min\u001b[0m \u001b[0mrange\u001b[0m\u001b[1;33m(\u001b[0m\u001b[0mN\u001b[0m\u001b[1;33m)\u001b[0m\u001b[1;33m:\u001b[0m\u001b[1;33m\u001b[0m\u001b[1;33m\u001b[0m\u001b[0m\n\u001b[1;32m---> 16\u001b[1;33m     \u001b[0mdp\u001b[0m\u001b[1;33m[\u001b[0m\u001b[0mtime\u001b[0m\u001b[1;33m[\u001b[0m\u001b[0mi\u001b[0m\u001b[1;33m]\u001b[0m\u001b[1;33m+\u001b[0m\u001b[0mi\u001b[0m\u001b[1;33m]\u001b[0m \u001b[1;33m+=\u001b[0m \u001b[0mprice\u001b[0m\u001b[1;33m[\u001b[0m\u001b[0mi\u001b[0m\u001b[1;33m]\u001b[0m\u001b[1;33m\u001b[0m\u001b[1;33m\u001b[0m\u001b[0m\n\u001b[0m\u001b[0;32m     17\u001b[0m \u001b[1;33m\u001b[0m\u001b[0m\n\u001b[0;32m     18\u001b[0m \u001b[0mprint\u001b[0m\u001b[1;33m(\u001b[0m\u001b[0mdp\u001b[0m\u001b[1;33m)\u001b[0m\u001b[1;33m\u001b[0m\u001b[1;33m\u001b[0m\u001b[0m\n",
      "\u001b[1;31mIndexError\u001b[0m: list index out of range"
     ]
    }
   ],
   "source": [
    "# N = int(input())\n",
    "dp = [0] * (N+1)\n",
    "# time = []\n",
    "# price = []\n",
    "\n",
    "N = 7\n",
    "time = [3, 5, 1, 1, 2, 4, 2]\n",
    "price = [10, 20, 10, 20, 15, 40, 200]\n",
    "\n",
    "# for i in range(N):\n",
    "    # T, P = map(int, input().split())\n",
    "    # time.append(T)\n",
    "    # price.append(P)\n",
    "\n",
    "for i in range(N):\n",
    "    dp[i] = max("
   ]
  },
  {
   "cell_type": "markdown",
   "id": "1be678ee-d02a-49b3-89b1-7df051b8c943",
   "metadata": {},
   "source": [
    "---"
   ]
  },
  {
   "cell_type": "code",
   "execution_count": 36,
   "id": "4b467215-c3ed-4140-b8b1-ce12eb6bb9d9",
   "metadata": {},
   "outputs": [],
   "source": [
    "# Silver III\n",
    "# 9375 패션왕 신해빈"
   ]
  },
  {
   "cell_type": "code",
   "execution_count": 62,
   "id": "953ce6db-e18c-4263-aa71-a9cc609373a5",
   "metadata": {},
   "outputs": [
    {
     "name": "stdin",
     "output_type": "stream",
     "text": [
      " 2\n",
      " 3\n",
      " hat head\n",
      " sun eye\n",
      " turb head\n"
     ]
    },
    {
     "name": "stdout",
     "output_type": "stream",
     "text": [
      "5\n"
     ]
    },
    {
     "name": "stdin",
     "output_type": "stream",
     "text": [
      " 3\n",
      " mask face\n",
      " sun face\n",
      " makeup face\n"
     ]
    },
    {
     "name": "stdout",
     "output_type": "stream",
     "text": [
      "3\n"
     ]
    }
   ],
   "source": [
    "T = int(input())\n",
    "for i in range(T):\n",
    "    n = int(input())\n",
    "    cloth = {}\n",
    "    for j in range(n):\n",
    "        name, kinds = input().split()\n",
    "        if kinds in cloth:\n",
    "            cloth[kinds].append(name)\n",
    "        else:\n",
    "            cloth[kinds] = [name]\n",
    "            \n",
    "    c_li = []\n",
    "    for i in cloth.values():\n",
    "        c_li.append(len(i))\n",
    "    \n",
    "    if len(c_li) == 1:\n",
    "        print(c_li[0])\n",
    "    else:\n",
    "        a = 1\n",
    "        for i in c_li:\n",
    "            a *= (i+1)\n",
    "        print(a-1)"
   ]
  },
  {
   "cell_type": "raw",
   "id": "3f735408-3055-4b24-bd10-3f29501bc0c9",
   "metadata": {},
   "source": [
    "dic = {'head': ['hat', 'turban'], 'eye': ['sun'], 'face': ['mask', 'sun', 'make']}\n",
    "for i in dic.values():\n",
    "    print(i)"
   ]
  },
  {
   "cell_type": "code",
   "execution_count": 59,
   "id": "57f5f2de-f34f-476a-9a1b-bd98789a279e",
   "metadata": {},
   "outputs": [
    {
     "data": {
      "text/plain": [
       "6"
      ]
     },
     "execution_count": 59,
     "metadata": {},
     "output_type": "execute_result"
    }
   ],
   "source": [
    "a = [1, 2, 3]\n",
    "sum(a)"
   ]
  },
  {
   "cell_type": "markdown",
   "id": "2718f426-a83c-4bf8-928d-169327d8c273",
   "metadata": {},
   "source": [
    "---"
   ]
  },
  {
   "cell_type": "code",
   "execution_count": 75,
   "id": "1f943592-fb80-485c-a4b3-952a2864b04b",
   "metadata": {},
   "outputs": [],
   "source": [
    "# Silver IV\n",
    "# 9012 괄호"
   ]
  },
  {
   "cell_type": "code",
   "execution_count": 85,
   "id": "1c4f2fcc-b2ce-4676-bffa-ecc0612ae445",
   "metadata": {},
   "outputs": [
    {
     "name": "stdin",
     "output_type": "stream",
     "text": [
      " 3\n",
      " ((\n"
     ]
    },
    {
     "name": "stdout",
     "output_type": "stream",
     "text": [
      "NO\n"
     ]
    },
    {
     "name": "stdin",
     "output_type": "stream",
     "text": [
      " ))\n"
     ]
    },
    {
     "name": "stdout",
     "output_type": "stream",
     "text": [
      "NO\n"
     ]
    },
    {
     "name": "stdin",
     "output_type": "stream",
     "text": [
      " ())(()\n"
     ]
    },
    {
     "name": "stdout",
     "output_type": "stream",
     "text": [
      "NO\n"
     ]
    }
   ],
   "source": [
    "T = int(input())\n",
    "\n",
    "for i in range(T):\n",
    "    text = input()\n",
    "    cnt = 0\n",
    "    for i in text:\n",
    "        if i == '(':\n",
    "            cnt += 1\n",
    "        else:\n",
    "            cnt -= 1\n",
    "        \n",
    "        if cnt < 0:\n",
    "            print('NO')\n",
    "            break\n",
    "        \n",
    "    if cnt > 0:\n",
    "        print('NO')\n",
    "    elif cnt == 0:\n",
    "        print('YES')"
   ]
  },
  {
   "cell_type": "markdown",
   "id": "b594594f-2db1-4de0-8858-2c368d203ef3",
   "metadata": {},
   "source": [
    "---"
   ]
  },
  {
   "cell_type": "code",
   "execution_count": 86,
   "id": "4905e432-bba5-4934-9e67-40d3bbadd1a1",
   "metadata": {},
   "outputs": [],
   "source": [
    "# Silver IV\n",
    "# 4949 균형잡힌 세상"
   ]
  },
  {
   "cell_type": "code",
   "execution_count": 114,
   "id": "a4fc4996-f0ed-4721-b1e7-08669ebe66b2",
   "metadata": {},
   "outputs": [
    {
     "name": "stdin",
     "output_type": "stream",
     "text": [
      " )\n"
     ]
    },
    {
     "name": "stdout",
     "output_type": "stream",
     "text": [
      "[0]\n",
      "0 0\n",
      "yes\n"
     ]
    },
    {
     "ename": "KeyboardInterrupt",
     "evalue": "Interrupted by user",
     "output_type": "error",
     "traceback": [
      "\u001b[1;31m---------------------------------------------------------------------------\u001b[0m",
      "\u001b[1;31mKeyboardInterrupt\u001b[0m                         Traceback (most recent call last)",
      "\u001b[1;32m~\\AppData\\Local\\Temp/ipykernel_9892/3295081295.py\u001b[0m in \u001b[0;36m<module>\u001b[1;34m\u001b[0m\n\u001b[0;32m      1\u001b[0m \u001b[1;32mwhile\u001b[0m \u001b[1;32mTrue\u001b[0m\u001b[1;33m:\u001b[0m\u001b[1;33m\u001b[0m\u001b[1;33m\u001b[0m\u001b[0m\n\u001b[1;32m----> 2\u001b[1;33m     \u001b[0mtext\u001b[0m \u001b[1;33m=\u001b[0m \u001b[0minput\u001b[0m\u001b[1;33m(\u001b[0m\u001b[1;33m)\u001b[0m\u001b[1;33m\u001b[0m\u001b[1;33m\u001b[0m\u001b[0m\n\u001b[0m\u001b[0;32m      3\u001b[0m     \u001b[1;32mif\u001b[0m \u001b[0mtext\u001b[0m \u001b[1;33m==\u001b[0m \u001b[1;34m'.'\u001b[0m\u001b[1;33m:\u001b[0m\u001b[1;33m\u001b[0m\u001b[1;33m\u001b[0m\u001b[0m\n\u001b[0;32m      4\u001b[0m         \u001b[1;32mbreak\u001b[0m\u001b[1;33m\u001b[0m\u001b[1;33m\u001b[0m\u001b[0m\n\u001b[0;32m      5\u001b[0m \u001b[1;33m\u001b[0m\u001b[0m\n",
      "\u001b[1;32m~\\anaconda3\\lib\\site-packages\\ipykernel\\kernelbase.py\u001b[0m in \u001b[0;36mraw_input\u001b[1;34m(self, prompt)\u001b[0m\n\u001b[0;32m   1004\u001b[0m                 \u001b[1;34m\"raw_input was called, but this frontend does not support input requests.\"\u001b[0m\u001b[1;33m\u001b[0m\u001b[1;33m\u001b[0m\u001b[0m\n\u001b[0;32m   1005\u001b[0m             )\n\u001b[1;32m-> 1006\u001b[1;33m         return self._input_request(\n\u001b[0m\u001b[0;32m   1007\u001b[0m             \u001b[0mstr\u001b[0m\u001b[1;33m(\u001b[0m\u001b[0mprompt\u001b[0m\u001b[1;33m)\u001b[0m\u001b[1;33m,\u001b[0m\u001b[1;33m\u001b[0m\u001b[1;33m\u001b[0m\u001b[0m\n\u001b[0;32m   1008\u001b[0m             \u001b[0mself\u001b[0m\u001b[1;33m.\u001b[0m\u001b[0m_parent_ident\u001b[0m\u001b[1;33m[\u001b[0m\u001b[1;34m\"shell\"\u001b[0m\u001b[1;33m]\u001b[0m\u001b[1;33m,\u001b[0m\u001b[1;33m\u001b[0m\u001b[1;33m\u001b[0m\u001b[0m\n",
      "\u001b[1;32m~\\anaconda3\\lib\\site-packages\\ipykernel\\kernelbase.py\u001b[0m in \u001b[0;36m_input_request\u001b[1;34m(self, prompt, ident, parent, password)\u001b[0m\n\u001b[0;32m   1049\u001b[0m             \u001b[1;32mexcept\u001b[0m \u001b[0mKeyboardInterrupt\u001b[0m\u001b[1;33m:\u001b[0m\u001b[1;33m\u001b[0m\u001b[1;33m\u001b[0m\u001b[0m\n\u001b[0;32m   1050\u001b[0m                 \u001b[1;31m# re-raise KeyboardInterrupt, to truncate traceback\u001b[0m\u001b[1;33m\u001b[0m\u001b[1;33m\u001b[0m\u001b[1;33m\u001b[0m\u001b[0m\n\u001b[1;32m-> 1051\u001b[1;33m                 \u001b[1;32mraise\u001b[0m \u001b[0mKeyboardInterrupt\u001b[0m\u001b[1;33m(\u001b[0m\u001b[1;34m\"Interrupted by user\"\u001b[0m\u001b[1;33m)\u001b[0m \u001b[1;32mfrom\u001b[0m \u001b[1;32mNone\u001b[0m\u001b[1;33m\u001b[0m\u001b[1;33m\u001b[0m\u001b[0m\n\u001b[0m\u001b[0;32m   1052\u001b[0m             \u001b[1;32mexcept\u001b[0m \u001b[0mException\u001b[0m\u001b[1;33m:\u001b[0m\u001b[1;33m\u001b[0m\u001b[1;33m\u001b[0m\u001b[0m\n\u001b[0;32m   1053\u001b[0m                 \u001b[0mself\u001b[0m\u001b[1;33m.\u001b[0m\u001b[0mlog\u001b[0m\u001b[1;33m.\u001b[0m\u001b[0mwarning\u001b[0m\u001b[1;33m(\u001b[0m\u001b[1;34m\"Invalid Message:\"\u001b[0m\u001b[1;33m,\u001b[0m \u001b[0mexc_info\u001b[0m\u001b[1;33m=\u001b[0m\u001b[1;32mTrue\u001b[0m\u001b[1;33m)\u001b[0m\u001b[1;33m\u001b[0m\u001b[1;33m\u001b[0m\u001b[0m\n",
      "\u001b[1;31mKeyboardInterrupt\u001b[0m: Interrupted by user"
     ]
    }
   ],
   "source": [
    "while True:\n",
    "    text = input()\n",
    "    if text == '.':\n",
    "        break\n",
    "    \n",
    "    s = [0]\n",
    "    cnt_s = 0\n",
    "    cnt_b = 0\n",
    "    \n",
    "    for i in text:\n",
    "        if i == '(':\n",
    "            s.append('small')\n",
    "            cnt_s += 1\n",
    "        \n",
    "        elif i == ')':\n",
    "            if s[-1] == 'small':\n",
    "                s.pop()\n",
    "                cnt_s -= 1\n",
    "            \n",
    "            if cnt_s < 0:\n",
    "                print('no')\n",
    "                break\n",
    "                \n",
    "        elif i == '[':\n",
    "            s.append('big')\n",
    "        \n",
    "        elif i == ']':\n",
    "            if s[-1] == 'big':\n",
    "                s.pop()\n",
    "            else:\n",
    "                break"
   ]
  },
  {
   "cell_type": "code",
   "execution_count": 191,
   "id": "f1c1d289-fea4-4f31-9306-399f383400ca",
   "metadata": {},
   "outputs": [],
   "source": [
    "# Silver II\n",
    "# 18870 좌표 압축"
   ]
  },
  {
   "cell_type": "code",
   "execution_count": null,
   "id": "27ebe71a-8c6a-439e-b312-278bee3ace8d",
   "metadata": {},
   "outputs": [
    {
     "name": "stdout",
     "output_type": "stream",
     "text": [
      "[3, 0, 3, 0, 3, 0]\n"
     ]
    }
   ],
   "source": [
    "# N = int(input())\n",
    "# li = list(map(int, input().split()))\n",
    "\n",
    "N = 6\n",
    "li = [2, 1, 2, 1, 2, 1]\n",
    "li2 = [0] * N\n",
    "\n",
    "for i in range(N):\n",
    "    cnt = 0\n",
    "    for j in range(N):\n",
    "        if li[i] > li[j]:\n",
    "            cnt += 1\n",
    "    li2[i] = cnt\n",
    "\n",
    "print(li2)"
   ]
  },
  {
   "cell_type": "code",
   "execution_count": 117,
   "id": "9fdad21b-872f-480b-8214-c00667b9cd37",
   "metadata": {},
   "outputs": [],
   "source": [
    "# Silver IV\n",
    "# 4949 균형잡힌 세상"
   ]
  },
  {
   "cell_type": "code",
   "execution_count": 13,
   "id": "1504566b-0de2-4eaf-92f9-f368a3358c30",
   "metadata": {},
   "outputs": [
    {
     "name": "stdin",
     "output_type": "stream",
     "text": [
      " (\n"
     ]
    },
    {
     "name": "stdout",
     "output_type": "stream",
     "text": [
      "no\n"
     ]
    },
    {
     "name": "stdin",
     "output_type": "stream",
     "text": [
      " )\n"
     ]
    },
    {
     "name": "stdout",
     "output_type": "stream",
     "text": [
      "no\n"
     ]
    },
    {
     "name": "stdin",
     "output_type": "stream",
     "text": [
      " ()\n"
     ]
    },
    {
     "name": "stdout",
     "output_type": "stream",
     "text": [
      "yes\n"
     ]
    },
    {
     "name": "stdin",
     "output_type": "stream",
     "text": [
      " [\n"
     ]
    },
    {
     "name": "stdout",
     "output_type": "stream",
     "text": [
      "no\n"
     ]
    },
    {
     "name": "stdin",
     "output_type": "stream",
     "text": [
      " ]\n"
     ]
    },
    {
     "name": "stdout",
     "output_type": "stream",
     "text": [
      "no\n"
     ]
    },
    {
     "name": "stdin",
     "output_type": "stream",
     "text": [
      " []\n"
     ]
    },
    {
     "name": "stdout",
     "output_type": "stream",
     "text": [
      "yes\n"
     ]
    },
    {
     "name": "stdin",
     "output_type": "stream",
     "text": [
      " (]\n"
     ]
    },
    {
     "name": "stdout",
     "output_type": "stream",
     "text": [
      "no\n"
     ]
    },
    {
     "name": "stdin",
     "output_type": "stream",
     "text": [
      " .\n"
     ]
    }
   ],
   "source": [
    "# 요약 ver\n",
    "while True:\n",
    "    text = input()\n",
    "    if text == '.':\n",
    "        break\n",
    "    \n",
    "    s = [0]\n",
    "    \n",
    "    for i in text:\n",
    "        if i == '(':\n",
    "            s.append('small')\n",
    "        \n",
    "        elif i == ')':\n",
    "            if s[-1] == 'small':\n",
    "                s.pop()\n",
    "            else:\n",
    "                s.append('-small')\n",
    "        \n",
    "        elif i == '[':\n",
    "            s.append('big')\n",
    "        \n",
    "        elif i == ']':\n",
    "            if s[-1] == 'big':\n",
    "                s.pop()\n",
    "            else:\n",
    "                s.append('-big')\n",
    "    \n",
    "    if len(s) >= 2:\n",
    "        print('no')\n",
    "    elif len(s) == 1:\n",
    "        print('yes')"
   ]
  },
  {
   "cell_type": "code",
   "execution_count": 12,
   "id": "76d9fc1b-0c9d-48ae-bd76-1ee26810a868",
   "metadata": {},
   "outputs": [
    {
     "name": "stdin",
     "output_type": "stream",
     "text": [
      " ()\n"
     ]
    },
    {
     "name": "stdout",
     "output_type": "stream",
     "text": [
      "[0]\n",
      "yes\n"
     ]
    },
    {
     "name": "stdin",
     "output_type": "stream",
     "text": [
      " (\n"
     ]
    },
    {
     "name": "stdout",
     "output_type": "stream",
     "text": [
      "[0, 'small']\n",
      "no\n"
     ]
    },
    {
     "name": "stdin",
     "output_type": "stream",
     "text": [
      " )\n"
     ]
    },
    {
     "name": "stdout",
     "output_type": "stream",
     "text": [
      "[0, '-small']\n",
      "no\n"
     ]
    },
    {
     "name": "stdin",
     "output_type": "stream",
     "text": [
      " [\n"
     ]
    },
    {
     "name": "stdout",
     "output_type": "stream",
     "text": [
      "[0, 'big']\n",
      "no\n"
     ]
    },
    {
     "name": "stdin",
     "output_type": "stream",
     "text": [
      " ]\n"
     ]
    },
    {
     "name": "stdout",
     "output_type": "stream",
     "text": [
      "[0, '-big']\n",
      "no\n"
     ]
    },
    {
     "name": "stdin",
     "output_type": "stream",
     "text": [
      " []\n"
     ]
    },
    {
     "name": "stdout",
     "output_type": "stream",
     "text": [
      "[0]\n",
      "yes\n"
     ]
    },
    {
     "name": "stdin",
     "output_type": "stream",
     "text": [
      " (]\n"
     ]
    },
    {
     "name": "stdout",
     "output_type": "stream",
     "text": [
      "[0, 'small', '-big']\n",
      "no\n"
     ]
    },
    {
     "ename": "KeyboardInterrupt",
     "evalue": "Interrupted by user",
     "output_type": "error",
     "traceback": [
      "\u001b[1;31m---------------------------------------------------------------------------\u001b[0m",
      "\u001b[1;31mKeyboardInterrupt\u001b[0m                         Traceback (most recent call last)",
      "\u001b[1;32m~\\AppData\\Local\\Temp/ipykernel_24160/52187865.py\u001b[0m in \u001b[0;36m<module>\u001b[1;34m\u001b[0m\n\u001b[0;32m      1\u001b[0m \u001b[1;32mwhile\u001b[0m \u001b[1;32mTrue\u001b[0m\u001b[1;33m:\u001b[0m\u001b[1;33m\u001b[0m\u001b[1;33m\u001b[0m\u001b[0m\n\u001b[1;32m----> 2\u001b[1;33m     \u001b[0mtext\u001b[0m \u001b[1;33m=\u001b[0m \u001b[0minput\u001b[0m\u001b[1;33m(\u001b[0m\u001b[1;33m)\u001b[0m\u001b[1;33m\u001b[0m\u001b[1;33m\u001b[0m\u001b[0m\n\u001b[0m\u001b[0;32m      3\u001b[0m     \u001b[1;32mif\u001b[0m \u001b[0mtext\u001b[0m \u001b[1;33m==\u001b[0m \u001b[1;34m'.'\u001b[0m\u001b[1;33m:\u001b[0m\u001b[1;33m\u001b[0m\u001b[1;33m\u001b[0m\u001b[0m\n\u001b[0;32m      4\u001b[0m         \u001b[1;32mbreak\u001b[0m\u001b[1;33m\u001b[0m\u001b[1;33m\u001b[0m\u001b[0m\n\u001b[0;32m      5\u001b[0m \u001b[1;33m\u001b[0m\u001b[0m\n",
      "\u001b[1;32m~\\anaconda3\\lib\\site-packages\\ipykernel\\kernelbase.py\u001b[0m in \u001b[0;36mraw_input\u001b[1;34m(self, prompt)\u001b[0m\n\u001b[0;32m   1004\u001b[0m                 \u001b[1;34m\"raw_input was called, but this frontend does not support input requests.\"\u001b[0m\u001b[1;33m\u001b[0m\u001b[1;33m\u001b[0m\u001b[0m\n\u001b[0;32m   1005\u001b[0m             )\n\u001b[1;32m-> 1006\u001b[1;33m         return self._input_request(\n\u001b[0m\u001b[0;32m   1007\u001b[0m             \u001b[0mstr\u001b[0m\u001b[1;33m(\u001b[0m\u001b[0mprompt\u001b[0m\u001b[1;33m)\u001b[0m\u001b[1;33m,\u001b[0m\u001b[1;33m\u001b[0m\u001b[1;33m\u001b[0m\u001b[0m\n\u001b[0;32m   1008\u001b[0m             \u001b[0mself\u001b[0m\u001b[1;33m.\u001b[0m\u001b[0m_parent_ident\u001b[0m\u001b[1;33m[\u001b[0m\u001b[1;34m\"shell\"\u001b[0m\u001b[1;33m]\u001b[0m\u001b[1;33m,\u001b[0m\u001b[1;33m\u001b[0m\u001b[1;33m\u001b[0m\u001b[0m\n",
      "\u001b[1;32m~\\anaconda3\\lib\\site-packages\\ipykernel\\kernelbase.py\u001b[0m in \u001b[0;36m_input_request\u001b[1;34m(self, prompt, ident, parent, password)\u001b[0m\n\u001b[0;32m   1049\u001b[0m             \u001b[1;32mexcept\u001b[0m \u001b[0mKeyboardInterrupt\u001b[0m\u001b[1;33m:\u001b[0m\u001b[1;33m\u001b[0m\u001b[1;33m\u001b[0m\u001b[0m\n\u001b[0;32m   1050\u001b[0m                 \u001b[1;31m# re-raise KeyboardInterrupt, to truncate traceback\u001b[0m\u001b[1;33m\u001b[0m\u001b[1;33m\u001b[0m\u001b[1;33m\u001b[0m\u001b[0m\n\u001b[1;32m-> 1051\u001b[1;33m                 \u001b[1;32mraise\u001b[0m \u001b[0mKeyboardInterrupt\u001b[0m\u001b[1;33m(\u001b[0m\u001b[1;34m\"Interrupted by user\"\u001b[0m\u001b[1;33m)\u001b[0m \u001b[1;32mfrom\u001b[0m \u001b[1;32mNone\u001b[0m\u001b[1;33m\u001b[0m\u001b[1;33m\u001b[0m\u001b[0m\n\u001b[0m\u001b[0;32m   1052\u001b[0m             \u001b[1;32mexcept\u001b[0m \u001b[0mException\u001b[0m\u001b[1;33m:\u001b[0m\u001b[1;33m\u001b[0m\u001b[1;33m\u001b[0m\u001b[0m\n\u001b[0;32m   1053\u001b[0m                 \u001b[0mself\u001b[0m\u001b[1;33m.\u001b[0m\u001b[0mlog\u001b[0m\u001b[1;33m.\u001b[0m\u001b[0mwarning\u001b[0m\u001b[1;33m(\u001b[0m\u001b[1;34m\"Invalid Message:\"\u001b[0m\u001b[1;33m,\u001b[0m \u001b[0mexc_info\u001b[0m\u001b[1;33m=\u001b[0m\u001b[1;32mTrue\u001b[0m\u001b[1;33m)\u001b[0m\u001b[1;33m\u001b[0m\u001b[1;33m\u001b[0m\u001b[0m\n",
      "\u001b[1;31mKeyboardInterrupt\u001b[0m: Interrupted by user"
     ]
    }
   ],
   "source": [
    "# 정답이긴 한데 요약 필요\n",
    "while True:\n",
    "    text = input()\n",
    "    if text == '.':\n",
    "        break\n",
    "    \n",
    "    s = [0]\n",
    "    cnt_s = 0\n",
    "    cnt_b = 0\n",
    "    \n",
    "    for i in text:\n",
    "        if i == '(':\n",
    "            s.append('small')\n",
    "            cnt_s += 1\n",
    "        \n",
    "        elif i == ')':\n",
    "            cnt_s -= 1\n",
    "            if s[-1] == 'small':\n",
    "                s.pop()\n",
    "            else:\n",
    "                s.append('-small')\n",
    "            if cnt_s < 0:\n",
    "                # print('no')\n",
    "                break\n",
    "        \n",
    "        elif i == '[':\n",
    "            s.append('big')\n",
    "            cnt_b += 1\n",
    "        \n",
    "        elif i == ']':\n",
    "            if s[-1] == 'big':\n",
    "                s.pop()\n",
    "            else:\n",
    "                s.append('-big')\n",
    "            cnt_b -= 1\n",
    "            if cnt_b < 0:\n",
    "                # print('no')\n",
    "                break\n",
    "    \n",
    "    if len(s) >= 2:\n",
    "        print('no')\n",
    "    elif len(s) == 1:\n",
    "        print('yes')"
   ]
  },
  {
   "cell_type": "code",
   "execution_count": 123,
   "id": "f8183a71-d738-4504-8b2a-7c3d37d9a65a",
   "metadata": {},
   "outputs": [
    {
     "name": "stdin",
     "output_type": "stream",
     "text": [
      " ()\n"
     ]
    },
    {
     "name": "stdout",
     "output_type": "stream",
     "text": [
      "yes\n"
     ]
    },
    {
     "name": "stdin",
     "output_type": "stream",
     "text": [
      " (\n"
     ]
    },
    {
     "name": "stdout",
     "output_type": "stream",
     "text": [
      "no\n"
     ]
    },
    {
     "name": "stdin",
     "output_type": "stream",
     "text": [
      " )\n"
     ]
    },
    {
     "ename": "IndexError",
     "evalue": "pop from empty list",
     "output_type": "error",
     "traceback": [
      "\u001b[1;31m---------------------------------------------------------------------------\u001b[0m",
      "\u001b[1;31mIndexError\u001b[0m                                Traceback (most recent call last)",
      "\u001b[1;32m~\\AppData\\Local\\Temp/ipykernel_9892/3549511427.py\u001b[0m in \u001b[0;36m<module>\u001b[1;34m\u001b[0m\n\u001b[0;32m     14\u001b[0m         \u001b[1;32melif\u001b[0m \u001b[0mi\u001b[0m \u001b[1;33m==\u001b[0m \u001b[1;34m')'\u001b[0m\u001b[1;33m:\u001b[0m\u001b[1;33m\u001b[0m\u001b[1;33m\u001b[0m\u001b[0m\n\u001b[0;32m     15\u001b[0m             \u001b[0ms_cnt\u001b[0m \u001b[1;33m-=\u001b[0m \u001b[1;36m1\u001b[0m\u001b[1;33m\u001b[0m\u001b[1;33m\u001b[0m\u001b[0m\n\u001b[1;32m---> 16\u001b[1;33m             \u001b[0ms\u001b[0m\u001b[1;33m.\u001b[0m\u001b[0mpop\u001b[0m\u001b[1;33m(\u001b[0m\u001b[1;33m)\u001b[0m\u001b[1;33m\u001b[0m\u001b[1;33m\u001b[0m\u001b[0m\n\u001b[0m\u001b[0;32m     17\u001b[0m         \u001b[1;32melif\u001b[0m \u001b[0mi\u001b[0m \u001b[1;33m==\u001b[0m \u001b[1;34m'['\u001b[0m\u001b[1;33m:\u001b[0m\u001b[1;33m\u001b[0m\u001b[1;33m\u001b[0m\u001b[0m\n\u001b[0;32m     18\u001b[0m             \u001b[0mb_cnt\u001b[0m \u001b[1;33m+=\u001b[0m \u001b[1;36m1\u001b[0m\u001b[1;33m\u001b[0m\u001b[1;33m\u001b[0m\u001b[0m\n",
      "\u001b[1;31mIndexError\u001b[0m: pop from empty list"
     ]
    }
   ],
   "source": [
    "while True:\n",
    "    text = input()\n",
    "    if text == '.':\n",
    "        break\n",
    "    \n",
    "    b_cnt = 0\n",
    "    s_cnt = 0\n",
    "    s = []\n",
    "    \n",
    "    for i in text:\n",
    "        if i == '(':\n",
    "            s_cnt += 1\n",
    "            s.append('(')\n",
    "            \n",
    "        elif i == ')':\n",
    "            s_cnt -= 1\n",
    "            s.pop()\n",
    "        \n",
    "        elif i == '[':\n",
    "            b_cnt += 1\n",
    "            s.append('[')\n",
    "        \n",
    "        elif i == ']':\n",
    "            b_cnt -= 1\n",
    "        \n",
    "        if s_cnt < 0 or b_cnt < 0:\n",
    "            break\n",
    "        \n",
    "    if b_cnt == 0 and s_cnt == 0:\n",
    "        print('yes')\n",
    "    else:\n",
    "        print('no')"
   ]
  },
  {
   "cell_type": "markdown",
   "id": "8283fd39-7dca-4575-a8fc-fed74380c8af",
   "metadata": {},
   "source": [
    "---"
   ]
  },
  {
   "cell_type": "code",
   "execution_count": 14,
   "id": "095c30c5-d81d-494b-89f5-9d0de4d47d1c",
   "metadata": {},
   "outputs": [],
   "source": [
    "# Silver III\n",
    "# 1966 프린터 큐"
   ]
  },
  {
   "cell_type": "code",
   "execution_count": 26,
   "id": "a9674869-15f6-4b44-93e7-fbc3f4eed53c",
   "metadata": {},
   "outputs": [
    {
     "name": "stdin",
     "output_type": "stream",
     "text": [
      " 1\n",
      " 4 2\n",
      " 1 2 3 4\n"
     ]
    },
    {
     "name": "stdout",
     "output_type": "stream",
     "text": [
      "3\n"
     ]
    }
   ],
   "source": [
    "from collections import deque\n",
    "\n",
    "T = int(input())\n",
    "for i in range(T):\n",
    "    N, M = map(int, input().split())\n",
    "    q = deque(list(map(int, input().split())))\n",
    "    \n",
    "    target = q[M] \n",
    "    while max(q) != q[0]:\n",
    "        pl = q.popleft()\n",
    "        q.append(pl)\n",
    "    out = q.popleft()\n",
    "    while max(q) != q[0]:\n",
    "        pl = q.popleft()\n",
    "        q.append(pl)\n",
    "    "
   ]
  },
  {
   "cell_type": "code",
   "execution_count": 27,
   "id": "33d7b552-76c4-4e81-a9dc-c5a59279050f",
   "metadata": {},
   "outputs": [],
   "source": [
    "# Bronze II\n",
    "# 15829 Hashing"
   ]
  },
  {
   "cell_type": "code",
   "execution_count": 51,
   "id": "567d5e59-1298-4f6b-a5c5-c40a3fae241d",
   "metadata": {},
   "outputs": [
    {
     "name": "stdin",
     "output_type": "stream",
     "text": [
      " 3\n",
      " zzz\n"
     ]
    },
    {
     "name": "stdout",
     "output_type": "stream",
     "text": [
      "25818\n"
     ]
    }
   ],
   "source": [
    "dic = {'a':1,'b':2,'c':3,'d':4,'e':5,\n",
    "       'f':6,'g':7,'h':8,'i':9,'j':10,\n",
    "       'k':11,'l':12,'m':13,'n':14,'o':15,\n",
    "       'p':16,'q':17,'r':18,'s':19,'t':20,\n",
    "       'u':21,'v':22,'w':23,'x':24,'y':25,\n",
    "       'z':26}\n",
    "                          \n",
    "r = 31\n",
    "M = 1234567891\n",
    "\n",
    "L = int(input())\n",
    "text = list(input())\n",
    "s = 0\n",
    "\n",
    "for i in range(L):\n",
    "    s += dic[text[i]]*(r**i)\n",
    "print(s%M)"
   ]
  },
  {
   "cell_type": "markdown",
   "id": "dabca1f6-babe-4850-bc0a-cef52bd125f2",
   "metadata": {},
   "source": [
    "---"
   ]
  },
  {
   "cell_type": "code",
   "execution_count": 52,
   "id": "4a64a060-1eb8-4170-a919-ac1085c4e5f0",
   "metadata": {},
   "outputs": [],
   "source": [
    "# Silver II\n",
    "# 5525 IOIOI"
   ]
  },
  {
   "cell_type": "code",
   "execution_count": 71,
   "id": "e2dc3f0c-b78d-4d2c-8b9e-d8392ce71f9a",
   "metadata": {},
   "outputs": [
    {
     "name": "stdin",
     "output_type": "stream",
     "text": [
      " 1\n",
      " 13\n",
      " OOIOIOIOIIOII\n"
     ]
    },
    {
     "name": "stdout",
     "output_type": "stream",
     "text": [
      "yes\n",
      "1\n"
     ]
    }
   ],
   "source": [
    "N = int(input())\n",
    "M = int(input())\n",
    "S = input()\n",
    "P = 'I' + 'OI'*N\n",
    "cnt = 0\n",
    "\n",
    "if P in S:\n",
    "    print('yes')\n",
    "    cnt += 1\n",
    "    pass\n",
    "    \n",
    "print(cnt)"
   ]
  },
  {
   "cell_type": "code",
   "execution_count": 63,
   "id": "64de5f35-d25f-46eb-b0ff-7fb541cad19e",
   "metadata": {},
   "outputs": [
    {
     "name": "stdout",
     "output_type": "stream",
     "text": [
      "yes\n"
     ]
    }
   ],
   "source": [
    "text = 'OOIOIOIOIIOII'\n",
    "if 'OOI' in text:\n",
    "    print('yes')"
   ]
  },
  {
   "cell_type": "code",
   "execution_count": null,
   "id": "72f39d16-cd01-4272-827b-9fd057fc93f5",
   "metadata": {},
   "outputs": [],
   "source": []
  }
 ],
 "metadata": {
  "kernelspec": {
   "display_name": "Python 3 (ipykernel)",
   "language": "python",
   "name": "python3"
  },
  "language_info": {
   "codemirror_mode": {
    "name": "ipython",
    "version": 3
   },
   "file_extension": ".py",
   "mimetype": "text/x-python",
   "name": "python",
   "nbconvert_exporter": "python",
   "pygments_lexer": "ipython3",
   "version": "3.8.12"
  }
 },
 "nbformat": 4,
 "nbformat_minor": 5
}
