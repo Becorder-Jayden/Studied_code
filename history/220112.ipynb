{
 "cells": [
  {
   "cell_type": "markdown",
   "id": "88c136aa-f087-4ff9-b89d-6e40fadc7545",
   "metadata": {},
   "source": [
    "# 2022.01.12"
   ]
  },
  {
   "cell_type": "code",
   "execution_count": null,
   "id": "63a23f91-7f32-4344-810b-f01a4edc94c5",
   "metadata": {},
   "outputs": [],
   "source": [
    "# Silver V\n",
    "# 1158 요세푸스 문제"
   ]
  },
  {
   "cell_type": "code",
   "execution_count": 27,
   "id": "7f3f7437-3742-4d2a-a9ef-73d81ce7906f",
   "metadata": {},
   "outputs": [
    {
     "name": "stdin",
     "output_type": "stream",
     "text": [
      " 7 3\n"
     ]
    },
    {
     "name": "stdout",
     "output_type": "stream",
     "text": [
      "<3, 6, 2, 7, 5, 1, 4>\n"
     ]
    }
   ],
   "source": [
    "from collections import deque\n",
    "\n",
    "N, K = map(int, input().split())\n",
    "queue = deque(list(range(1, N+1)))\n",
    "li = []\n",
    "\n",
    "while queue:\n",
    "    for i in range(K-1):\n",
    "        pop = queue.popleft()\n",
    "        queue.append(pop)\n",
    "\n",
    "    insert = queue.popleft()\n",
    "    li.append(insert)\n",
    "\n",
    "li = str(li).replace('[', '<')\n",
    "li = li.replace(']', '>')\n",
    "print(li)"
   ]
  },
  {
   "cell_type": "markdown",
   "id": "1cffa41d-b93c-4f55-b7d1-2378147ba31e",
   "metadata": {},
   "source": [
    "---"
   ]
  },
  {
   "cell_type": "code",
   "execution_count": 49,
   "id": "17664456-38f9-453f-9b47-e0c12da244ad",
   "metadata": {},
   "outputs": [],
   "source": [
    "# Silver I\n",
    "# 7569 토마토"
   ]
  },
  {
   "cell_type": "code",
   "execution_count": 171,
   "id": "aab5bd15-ac0f-4ce6-9c63-3602ee991c8e",
   "metadata": {},
   "outputs": [
    {
     "name": "stdin",
     "output_type": "stream",
     "text": [
      " 5 3 1 \n",
      " 0 -1 0 0 0\n",
      " -1 -1 0 1 1 \n",
      " 0 0 0 1 1\n"
     ]
    },
    {
     "name": "stdout",
     "output_type": "stream",
     "text": [
      "[[0, -1, 0, 0, 0], [-1, -1, 0, 1, 1], [0, 0, 0, 1, 1]]\n"
     ]
    }
   ],
   "source": [
    "M, N, H = map(int, input().split())\n",
    "house = []\n",
    "floor = []\n",
    "\n",
    "for k in range(H):\n",
    "    floor = [list(map(int, input().split())) for i in range(N)]\n",
    "    house.append(floor)\n",
    "\n",
    "for i in house:\n",
    "    print(i)"
   ]
  },
  {
   "cell_type": "code",
   "execution_count": 172,
   "id": "897b3232-298b-42d9-8a78-00316e4301a9",
   "metadata": {},
   "outputs": [],
   "source": [
    "from collections import deque\n",
    "\n",
    "def bfs(graph):\n",
    "    queue = deque()\n",
    "    \n",
    "    for k in range(H):\n",
    "        for j in range(N):\n",
    "            for i in range(M):\n",
    "                if house[k][j][i] == 1:\n",
    "                    queue.append((i, j, k))\n",
    "                    \n",
    "    dx = [0,0,-1,1,0,0]\n",
    "    dy = [1,-1,0,0,0,0]\n",
    "    dz = [0,0,0,0,1,-1]\n",
    "                \n",
    "    while queue:\n",
    "        x, y, z = queue.popleft()\n",
    "        \n",
    "        for i in range(6):\n",
    "            nx = x+dx[i]\n",
    "            ny = y+dy[i]\n",
    "            nz = z+dz[i]\n",
    "            \n",
    "            if 0<=nx<M and 0<=ny<N and 0<=nz<H:\n",
    "                if house[nz][ny][nx] == 0:\n",
    "                    queue.append((nx, ny, nz))\n",
    "                    house[nz][ny][nx] = house[z][y][x] + 1\n",
    "    return graph\n"
   ]
  },
  {
   "cell_type": "code",
   "execution_count": 173,
   "id": "a8ebf3c8-3c46-4cd9-b1f1-3f3501c7dfb3",
   "metadata": {},
   "outputs": [
    {
     "name": "stdout",
     "output_type": "stream",
     "text": [
      "-1\n",
      "3\n"
     ]
    }
   ],
   "source": [
    "li = []\n",
    "\n",
    "for i in bfs(house):\n",
    "    for j in i:\n",
    "        if 0 in j:\n",
    "            print(-1)\n",
    "        else:\n",
    "            li.append(max(j))\n",
    "\n",
    "print(max(li)-1)"
   ]
  },
  {
   "cell_type": "code",
   "execution_count": 180,
   "id": "ec931fcd-bf71-4eb7-b13a-a2144e67391b",
   "metadata": {},
   "outputs": [
    {
     "name": "stdin",
     "output_type": "stream",
     "text": [
      " 4 3 2\n",
      " 1 1 1 1\n",
      " 1 1 1 1\n",
      " 1 1 1 1\n",
      " 1 1 1 1\n",
      " -1 -1 -1 -1\n",
      " 1 1 1 -1\n"
     ]
    },
    {
     "name": "stdout",
     "output_type": "stream",
     "text": [
      "0\n"
     ]
    }
   ],
   "source": [
    "M, N, H = map(int, input().split())\n",
    "house = []\n",
    "floor = []\n",
    "\n",
    "for k in range(H):\n",
    "    floor = [list(map(int, input().split())) for i in range(N)]\n",
    "    house.append(floor)\n",
    "\n",
    "##\n",
    "\n",
    "from collections import deque\n",
    "\n",
    "def bfs(graph):\n",
    "    queue = deque()\n",
    "    \n",
    "    for k in range(H):\n",
    "        for j in range(N):\n",
    "            for i in range(M):\n",
    "                if house[k][j][i] == 1:\n",
    "                    queue.append((i, j, k))\n",
    "                    \n",
    "    dx = [0,0,-1,1,0,0]\n",
    "    dy = [1,-1,0,0,0,0]\n",
    "    dz = [0,0,0,0,1,-1]\n",
    "                \n",
    "    while queue:\n",
    "        x, y, z = queue.popleft()\n",
    "        \n",
    "        for i in range(6):\n",
    "            nx = x+dx[i]\n",
    "            ny = y+dy[i]\n",
    "            nz = z+dz[i]\n",
    "            \n",
    "            if 0<=nx<M and 0<=ny<N and 0<=nz<H:\n",
    "                if house[nz][ny][nx] == 0:\n",
    "                    queue.append((nx, ny, nz))\n",
    "                    house[nz][ny][nx] = house[z][y][x] + 1\n",
    "    return graph\n",
    "\n",
    "##\n",
    "\n",
    "li = []\n",
    "\n",
    "for i in bfs(house):\n",
    "    for j in i:\n",
    "        if 0 in j:\n",
    "            li.append(0)\n",
    "        else:\n",
    "            li.append(max(j))\n",
    "\n",
    "\n",
    "if 0 in li:\n",
    "    print(-1)\n",
    "else:\n",
    "    print(max(li)-1)"
   ]
  },
  {
   "cell_type": "markdown",
   "id": "780e4870-2838-4757-8113-f9868a49f62b",
   "metadata": {},
   "source": [
    "---"
   ]
  },
  {
   "cell_type": "code",
   "execution_count": 1,
   "id": "8a8c76af-7b89-4851-89db-70ad91d48352",
   "metadata": {},
   "outputs": [],
   "source": [
    "# Silver I\n",
    "# 1697 숨바꼭질"
   ]
  },
  {
   "cell_type": "code",
   "execution_count": 21,
   "id": "2ef2a7d3-e2b9-4cc0-a62f-4e18294ec1c4",
   "metadata": {},
   "outputs": [
    {
     "name": "stdin",
     "output_type": "stream",
     "text": [
      " 5 17\n"
     ]
    },
    {
     "data": {
      "text/plain": [
       "25"
      ]
     },
     "execution_count": 21,
     "metadata": {},
     "output_type": "execute_result"
    }
   ],
   "source": [
    "from collections import deque\n",
    "\n",
    "N, K = map(int, input().split())  # N:수빈, K:동생\n",
    "\n",
    "def bfs(N, K):\n",
    "    queue = deque()\n",
    "    queue.append(K)\n",
    "    cnt = 0\n",
    "    \n",
    "    while queue:\n",
    "        pop = queue.popleft()\n",
    "        \n",
    "        if pop%2 == 0:\n",
    "            queue.append(pop//2)\n",
    "            queue.append(pop-1)\n",
    "            queue.append(pop+1)\n",
    "            cnt += 1\n",
    "            \n",
    "        else:\n",
    "            queue.append(pop-1)\n",
    "            queue.append(pop+1)\n",
    "            cnt += 1\n",
    "        \n",
    "        if pop == N:\n",
    "            return cnt\n",
    "\n",
    "bfs(N, K)"
   ]
  },
  {
   "cell_type": "code",
   "execution_count": null,
   "id": "6c8a5fe6-4fb5-4510-bd38-68453f2c853d",
   "metadata": {},
   "outputs": [],
   "source": [
    "from collections import deque\n",
    "\n",
    "N, K = map(int, input().split())  # N:수빈, K:동생\n",
    "\n",
    "def bfs(N, K):\n",
    "    queue = deque()\n",
    "    queue.append(K)\n",
    "    cnt = 0\n",
    "    \n",
    "    while queue:\n",
    "        a, b, c = queue.popleft()\n",
    "    \n",
    "        if pop%2==0:\n",
    "            queue.append((pop//2, pop-1, pop+1))\n",
    "            cnt += 1\n",
    "        else:\n",
    "            queue.append((False, pop-1, pop+1))\n",
    "            cnt += 1"
   ]
  },
  {
   "cell_type": "code",
   "execution_count": 23,
   "id": "43425f64-f42e-41d4-9e00-b184dca8549d",
   "metadata": {},
   "outputs": [
    {
     "data": {
      "text/plain": [
       "deque([9, 17, 20])"
      ]
     },
     "execution_count": 23,
     "metadata": {},
     "output_type": "execute_result"
    }
   ],
   "source": [
    "from collections import deque\n",
    "\n",
    "N, K = map(int, input().split())  # N:수빈, K:동생\n",
    "\n",
    "def bfs(N, K):\n",
    "    queue = deque()\n",
    "    queue.append(K)\n",
    "    cnt = 0\n",
    "    \n",
    "    dx = [\n",
    "    \n",
    "    while queue:\n",
    "        pop = queue.popleft()\n",
    "    \n",
    "        if pop%2==0:\n",
    "            queue.append((pop//2, pop-1, pop+1))\n",
    "            cnt += 1\n",
    "        else:\n",
    "            queue.append((False, pop-1, pop+1))\n",
    "            cnt += 1"
   ]
  },
  {
   "cell_type": "markdown",
   "id": "3aa2ea52-13a6-48e1-acb2-d7a75a7e7e3f",
   "metadata": {},
   "source": [
    "---"
   ]
  },
  {
   "cell_type": "code",
   "execution_count": 8,
   "id": "57396314-37a5-4ce2-9e4a-3239e2dcdb4a",
   "metadata": {},
   "outputs": [],
   "source": [
    "# Bronze I\n",
    "# 1157 단어 공부"
   ]
  },
  {
   "cell_type": "code",
   "execution_count": 52,
   "id": "e42b886a-ce19-4761-92d3-6095618f4c69",
   "metadata": {},
   "outputs": [
    {
     "name": "stdin",
     "output_type": "stream",
     "text": [
      " baaa\n"
     ]
    },
    {
     "name": "stdout",
     "output_type": "stream",
     "text": [
      "['b', 'a']\n",
      "A\n"
     ]
    }
   ],
   "source": [
    "a = input()\n",
    "a = a.lower()\n",
    "li = list(a)\n",
    "s = list(set(li))\n",
    "li2 = []\n",
    "for i in s:\n",
    "    li2.append(a.count(i))\n",
    "\n",
    "if li2.count(max(li2)) > 1:\n",
    "    print(\"?\")\n",
    "else:\n",
    "    print(s[li2.index(max(li2))].upper())"
   ]
  },
  {
   "cell_type": "code",
   "execution_count": null,
   "id": "147d737d-2785-4818-a830-42dad8a76b93",
   "metadata": {},
   "outputs": [],
   "source": []
  },
  {
   "cell_type": "code",
   "execution_count": null,
   "id": "b8920cf2-53d8-41e0-b81e-51555009591f",
   "metadata": {},
   "outputs": [],
   "source": []
  },
  {
   "cell_type": "code",
   "execution_count": null,
   "id": "7cb5e1a8-afc0-49f0-99c6-8e732b578c3a",
   "metadata": {},
   "outputs": [],
   "source": []
  }
 ],
 "metadata": {
  "kernelspec": {
   "display_name": "Python 3 (ipykernel)",
   "language": "python",
   "name": "python3"
  },
  "language_info": {
   "codemirror_mode": {
    "name": "ipython",
    "version": 3
   },
   "file_extension": ".py",
   "mimetype": "text/x-python",
   "name": "python",
   "nbconvert_exporter": "python",
   "pygments_lexer": "ipython3",
   "version": "3.8.12"
  }
 },
 "nbformat": 4,
 "nbformat_minor": 5
}
