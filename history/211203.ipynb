{
 "cells": [
  {
   "cell_type": "markdown",
   "id": "cd641da2-6dac-4f70-be8b-ba673389583b",
   "metadata": {
    "tags": []
   },
   "source": [
    "# 2021.12.03-04\n",
    "목표  \n",
    "\\# 2581 소수 : 못풀었던 문제 복습  \n",
    "\\# 9020 골드바흐 추측 : 스터디 본 문제"
   ]
  },
  {
   "cell_type": "code",
   "execution_count": 12,
   "id": "3b49301a-9547-46ac-a5e8-056831a66a97",
   "metadata": {},
   "outputs": [],
   "source": [
    "# Silver I\n",
    "# 2581 소수"
   ]
  },
  {
   "cell_type": "code",
   "execution_count": null,
   "id": "7f53eb82-1f6c-4c06-a069-13efc57fa9a6",
   "metadata": {},
   "outputs": [],
   "source": [
    "def prime(M, N):\n",
    "    for i in range(M, N+1):\n",
    "        l = []\n",
    "        for j in range(2, int(i**0.5)+1):\n",
    "            if i%j == 0:\n",
    "                l.append(i)\n",
    "M = int(input())\n",
    "N = int(input())"
   ]
  },
  {
   "cell_type": "code",
   "execution_count": 3,
   "id": "e9d24d40-aef7-4267-892d-f7032180e44d",
   "metadata": {},
   "outputs": [
    {
     "name": "stdin",
     "output_type": "stream",
     "text": [
      " 98\n"
     ]
    },
    {
     "data": {
      "text/plain": [
       "False"
      ]
     },
     "execution_count": 3,
     "metadata": {},
     "output_type": "execute_result"
    }
   ],
   "source": [
    "def prime(x):\n",
    "    if x == 1:\n",
    "        return False\n",
    "    elif x in [2, 3]:\n",
    "        return True\n",
    "    else:\n",
    "        for div in range(2, int(x**0.5)+1):\n",
    "            if x % div == 0:\n",
    "                return False\n",
    "            return True\n",
    "\n",
    "x = int(input())\n",
    "prime(x)"
   ]
  },
  {
   "cell_type": "markdown",
   "id": "300a64b9-ef9b-4a33-ad8b-46ab6709acff",
   "metadata": {},
   "source": [
    "---"
   ]
  },
  {
   "cell_type": "code",
   "execution_count": 2,
   "id": "c3c95b21-0bdc-4a84-a258-78a2b2b7efbc",
   "metadata": {},
   "outputs": [],
   "source": [
    "# Siver I\n",
    "# 9020 골드바흐 추측"
   ]
  },
  {
   "cell_type": "code",
   "execution_count": 11,
   "id": "55f9008e-ef52-490b-8ba7-ba8a99dce58a",
   "metadata": {},
   "outputs": [
    {
     "data": {
      "text/plain": [
       "'소수'"
      ]
     },
     "execution_count": 11,
     "metadata": {},
     "output_type": "execute_result"
    }
   ],
   "source": [
    "# N이 주어졌을 때 N/2를 찾고, N/2와 가장 가까운(+-) 소수 두 개를 찾는다\n",
    "# 소수 = 2~n**0.5 범위를 확인했을 때, 합성수가 아닌 수\n",
    "\n",
    "# 소수에 대해서 먼저 정의\n",
    "def prime(N):\n",
    "    for i in range(2, int(N**0.5)+1):\n",
    "        for j in range(2, i):\n",
    "            if i%j == 0:\n",
    "                return '합성수'\n",
    "            else:\n",
    "                return '소수'\n",
    "\n",
    "prime(12)\n",
    "    \n",
    "        \n",
    "\n",
    "# N = int(input())\n",
    "\n"
   ]
  },
  {
   "cell_type": "code",
   "execution_count": null,
   "id": "1eb69bcb-3565-457f-aed9-3c832046937d",
   "metadata": {},
   "outputs": [],
   "source": []
  }
 ],
 "metadata": {
  "kernelspec": {
   "display_name": "Python 3 (ipykernel)",
   "language": "python",
   "name": "python3"
  },
  "language_info": {
   "codemirror_mode": {
    "name": "ipython",
    "version": 3
   },
   "file_extension": ".py",
   "mimetype": "text/x-python",
   "name": "python",
   "nbconvert_exporter": "python",
   "pygments_lexer": "ipython3",
   "version": "3.8.12"
  }
 },
 "nbformat": 4,
 "nbformat_minor": 5
}
