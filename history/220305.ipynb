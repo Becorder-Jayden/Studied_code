{
 "cells": [
  {
   "cell_type": "markdown",
   "id": "1d2f4d1b-4752-4b37-92c0-f3632cdadce3",
   "metadata": {},
   "source": [
    "# 2022.03.05"
   ]
  },
  {
   "cell_type": "code",
   "execution_count": 1,
   "id": "929cbab8-593d-427b-8846-37671bcbd5c4",
   "metadata": {},
   "outputs": [],
   "source": [
    "# Programmers lv.1\n",
    "# 크레인 인형뽑기 게임"
   ]
  },
  {
   "cell_type": "code",
   "execution_count": 15,
   "id": "22ebce1b-63d2-4296-8697-409d187cd557",
   "metadata": {},
   "outputs": [
    {
     "name": "stdout",
     "output_type": "stream",
     "text": [
      "[0, 0, 0, 0, 0]\n",
      "[0, 0, 1, 0, 3]\n",
      "[0, 2, 5, 0, 1]\n",
      "[4, 2, 4, 4, 2]\n",
      "[3, 5, 1, 3, 1]\n"
     ]
    }
   ],
   "source": [
    "board = [[0,0,0,0,0],[0,0,1,0,3],[0,2,5,0,1],[4,2,4,4,2],[3,5,1,3,1]]\n",
    "moves = [1,5,3,5,1,2,1,4]\n",
    "for i in board:\n",
    "    print(i)"
   ]
  },
  {
   "cell_type": "code",
   "execution_count": 16,
   "id": "4e4532e2-dd53-49ba-9fed-d9681d37aff9",
   "metadata": {},
   "outputs": [
    {
     "data": {
      "text/plain": [
       "[1, 5, 3, 5, 1, 2, 1, 4]"
      ]
     },
     "execution_count": 16,
     "metadata": {},
     "output_type": "execute_result"
    }
   ],
   "source": [
    "moves"
   ]
  },
  {
   "cell_type": "code",
   "execution_count": 92,
   "id": "5fe44ae6-71f2-4267-b30d-7cb013c46106",
   "metadata": {},
   "outputs": [
    {
     "name": "stdout",
     "output_type": "stream",
     "text": [
      "[4, 2, 4]\n",
      "4\n"
     ]
    }
   ],
   "source": [
    "board = [[0,0,0,0,0],[0,0,1,0,3],[0,2,5,0,1],[4,2,4,4,2],[3,5,1,3,1]]\n",
    "moves = [1,5,3,5,1,2,1,4]\n",
    "li = []\n",
    "cnt = 0\n",
    "\n",
    "for i in moves:\n",
    "    depth = 0\n",
    "    try:\n",
    "        while board[depth][i-1] == 0:\n",
    "            depth += 1\n",
    "        li.append(board[depth][i-1])\n",
    "        board[depth][i-1] = 0\n",
    "        if li[-1] == li[-2]:\n",
    "            li.pop()\n",
    "            li.pop()\n",
    "            cnt += 2\n",
    "            \n",
    "    except:\n",
    "        pass\n",
    "    \n",
    "print(li)\n",
    "print(cnt)"
   ]
  },
  {
   "cell_type": "code",
   "execution_count": 72,
   "id": "ea595d03-f562-43fa-9123-08d412c0fca6",
   "metadata": {},
   "outputs": [
    {
     "name": "stdout",
     "output_type": "stream",
     "text": [
      "[1, 3, 6, 4, 5, 6, 7]\n"
     ]
    }
   ],
   "source": [
    "li = [1,2,3,6,4,5,6,7]\n",
    "li.remove(li[1])\n",
    "print(li)"
   ]
  },
  {
   "cell_type": "markdown",
   "id": "8786b1f9-0d9d-4e27-b5ef-4b39d83b6a12",
   "metadata": {},
   "source": [
    "---"
   ]
  },
  {
   "cell_type": "code",
   "execution_count": 93,
   "id": "84fc346c-6baf-4d79-af75-3b2e48a71ef9",
   "metadata": {},
   "outputs": [],
   "source": [
    "# programmers lv.1\n",
    "# 로또의 최고 순위와 최저 순위__정답"
   ]
  },
  {
   "cell_type": "code",
   "execution_count": 120,
   "id": "042b1715-7ed1-4ac3-8048-605370bab8ba",
   "metadata": {},
   "outputs": [
    {
     "name": "stdout",
     "output_type": "stream",
     "text": [
      "[1, 6]\n"
     ]
    }
   ],
   "source": [
    "lottos = [0, 0, 0, 0, 0, 0]\n",
    "win_nums = [38, 19, 20, 40, 15, 25]\t\n",
    "\n",
    "cnt = 0\n",
    "zeros = 0\n",
    "for i in range(6):\n",
    "    if lottos[i] != 0:\n",
    "        if lottos[i] in win_nums:\n",
    "            cnt += 1\n",
    "    else:\n",
    "        zeros += 1\n",
    "        \n",
    "c_max = cnt + zeros\n",
    "c_min = cnt\n",
    "\n",
    "if c_max == 0:\n",
    "    c_max = 1\n",
    "if c_min == 0:\n",
    "    c_min = 1\n",
    "    \n",
    "answer = [7-c_max, 7-c_min]\n",
    "print(answer)"
   ]
  },
  {
   "cell_type": "code",
   "execution_count": 123,
   "id": "dfe2b5c7-fb68-40a1-a47a-7c626a5dde39",
   "metadata": {},
   "outputs": [
    {
     "name": "stdout",
     "output_type": "stream",
     "text": [
      "[1, 6]\n"
     ]
    }
   ],
   "source": [
    "def solution(lottos, win_nums):\n",
    "    cnt = 0\n",
    "    zeros = 0\n",
    "    for i in range(6):\n",
    "        if lottos[i] != 0:\n",
    "            if lottos[i] in win_nums:\n",
    "                cnt += 1\n",
    "        else:\n",
    "            zeros += 1\n",
    "    \n",
    "    c_max = cnt + zeros\n",
    "    c_min = cnt \n",
    "    \n",
    "    if c_max == 0:\n",
    "        c_max = 1\n",
    "    if c_min == 0:\n",
    "        c_min = 1\n",
    "    \n",
    "    answer = [7-c_max, 7-c_min]\n",
    "    return answer\n",
    "\n",
    "print(solution([0, 0, 0, 0, 0, 0], [38, 19, 20, 40, 15, 25]))\n"
   ]
  },
  {
   "cell_type": "markdown",
   "id": "213093a2-37fd-411d-bc6e-1c8c2a036a63",
   "metadata": {},
   "source": [
    "---"
   ]
  },
  {
   "cell_type": "code",
   "execution_count": 124,
   "id": "8ae38b9d-d087-4957-919b-9371790c2d36",
   "metadata": {},
   "outputs": [],
   "source": [
    "# programmers lv.1\n",
    "# 완주하지 못한 선수__효율성 문제__해쉬 해결"
   ]
  },
  {
   "cell_type": "code",
   "execution_count": 253,
   "id": "c1be64bd-abfd-4819-8021-1de928edecf7",
   "metadata": {},
   "outputs": [
    {
     "name": "stdout",
     "output_type": "stream",
     "text": [
      "mislav\n"
     ]
    }
   ],
   "source": [
    "participant = [\"mislav\", \"stanko\", \"mislav\", \"ana\"]\n",
    "completion = [\"stanko\", \"ana\", \"mislav\"]\n",
    "dic = {}\n",
    "for i in participant:\n",
    "    if i in dic:\n",
    "        dic[i] += 1\n",
    "    else:\n",
    "        dic[i] = 1\n",
    "        \n",
    "for i in completion:\n",
    "    dic[i] -= 1\n",
    "    \n",
    "for i in dic:\n",
    "    if dic[i]:\n",
    "        print(i)"
   ]
  },
  {
   "cell_type": "code",
   "execution_count": 223,
   "id": "b4476427-c6be-47ba-9300-c6761f49e805",
   "metadata": {},
   "outputs": [
    {
     "name": "stdout",
     "output_type": "stream",
     "text": [
      "['mislav']\n"
     ]
    }
   ],
   "source": [
    "def solution(participant, completion):\n",
    "    for i in completion:\n",
    "        if i in participant:\n",
    "            participant.remove(i)\n",
    "    answer = participant\n",
    "    return answer\n",
    "\n",
    "print(solution([\"mislav\", \"stanko\", \"mislav\", \"ana\"], [\"stanko\", \"ana\", \"mislav\"]))\n"
   ]
  },
  {
   "cell_type": "markdown",
   "id": "f6e28eb9-09dd-4877-a53d-40854c4a64e1",
   "metadata": {},
   "source": [
    "---"
   ]
  },
  {
   "cell_type": "code",
   "execution_count": 304,
   "id": "a51594d2-b148-4fd7-ae0a-b9df85d0951f",
   "metadata": {},
   "outputs": [
    {
     "name": "stdout",
     "output_type": "stream",
     "text": [
      "5\n",
      "3\n",
      "2\n",
      "5\n",
      "0\n"
     ]
    }
   ],
   "source": [
    "# 투 포인터를 활용한 알고리즘 코드\n",
    "\n",
    "n, m = 5, 5\n",
    "data = [1, 2, 3, 2, 5] \n",
    "\n",
    "result = 0\n",
    "summary = 0\n",
    "end = 0\n",
    "\n",
    "# start를 차례대로 증가시키며 반복\n",
    "for start in range(n):\n",
    "    \n",
    "    # end를 가능한 만큼 이동시키기\n",
    "    while summary < m and end < n:\n",
    "        summary += data[end]\n",
    "        end += 1\n",
    "        \n",
    "    # 부분 합이 m일 때 카운트 증가\n",
    "    if summary == m:\n",
    "        result += 1\n",
    "    summary -= data[start]\n",
    "    \n",
    "    print(summary)"
   ]
  },
  {
   "cell_type": "markdown",
   "id": "1902d81a-a089-4139-8a82-68064e9146ec",
   "metadata": {},
   "source": [
    "---"
   ]
  },
  {
   "cell_type": "code",
   "execution_count": 254,
   "id": "7263cfc3-243b-4a68-b25f-ff711e23331b",
   "metadata": {},
   "outputs": [],
   "source": [
    "# Silver III\n",
    "# 3273 두 수의 합"
   ]
  },
  {
   "cell_type": "code",
   "execution_count": 309,
   "id": "fedd278f-e0fc-4801-ae3e-8d682e5736a5",
   "metadata": {},
   "outputs": [
    {
     "name": "stdout",
     "output_type": "stream",
     "text": [
      "0\n"
     ]
    }
   ],
   "source": [
    "n = 9\n",
    "arr = sorted([5, 12, 7, 10, 9, 1, 2, 3, 11])\n",
    "x = 13\n",
    "\n",
    "summary = 0\n",
    "end = 0\n",
    "result = 0\n",
    "\n",
    "for start in range(n):\n",
    "    while summary < x and end < n:\n",
    "        summary += arr[end]\n",
    "        end += 1\n",
    "    if summary == x:\n",
    "        result += 1\n",
    "        summary -= arr[start]\n",
    "\n",
    "print(result)"
   ]
  },
  {
   "cell_type": "code",
   "execution_count": null,
   "id": "8252a205-87d1-4192-8841-d532a11f7815",
   "metadata": {},
   "outputs": [],
   "source": []
  }
 ],
 "metadata": {
  "kernelspec": {
   "display_name": "Python 3 (ipykernel)",
   "language": "python",
   "name": "python3"
  },
  "language_info": {
   "codemirror_mode": {
    "name": "ipython",
    "version": 3
   },
   "file_extension": ".py",
   "mimetype": "text/x-python",
   "name": "python",
   "nbconvert_exporter": "python",
   "pygments_lexer": "ipython3",
   "version": "3.8.12"
  }
 },
 "nbformat": 4,
 "nbformat_minor": 5
}
