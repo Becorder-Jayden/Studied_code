{
 "cells": [
  {
   "cell_type": "markdown",
   "id": "9751f246-2a09-4ab5-b0c5-1a161396458b",
   "metadata": {},
   "source": [
    "# 2021.12.28"
   ]
  },
  {
   "cell_type": "markdown",
   "id": "2a07f824-2a5a-47a6-9ee7-d601cc645d24",
   "metadata": {},
   "source": [
    "## DFS 풀이연습"
   ]
  },
  {
   "cell_type": "code",
   "execution_count": 32,
   "id": "567ad6ea-d2a8-491c-afc1-ab54f26e0602",
   "metadata": {},
   "outputs": [
    {
     "name": "stdin",
     "output_type": "stream",
     "text": [
      " 4 5 1\n",
      " 1 2\n",
      " 1 3\n",
      " 1 4\n",
      " 2 4\n",
      " 3 4\n"
     ]
    },
    {
     "name": "stdout",
     "output_type": "stream",
     "text": [
      "1 2 3 4 "
     ]
    }
   ],
   "source": [
    "def dfs(n):\n",
    "    visited[n] = True\n",
    "    print(n, end = ' ')\n",
    "    for i in graph[n]:\n",
    "        if not visited[i]:\n",
    "            dfs(i)\n",
    "\n",
    "# range 범위 확인 필요\n",
    "graph = [[] for i in range(n+1)]    # m이 아니라 n+1인 이유?        \n",
    "visited = [False]*m    # m이 맞는지 n+1 이 맞는지?\n",
    "\n",
    "n, m, v = map(int, input().split())\n",
    "\n",
    "for i in range(m):\n",
    "    s, e = map(int, input().split())\n",
    "    graph[s].append(e)\n",
    "    graph[e].append(a)\n",
    "\n",
    "dfs(1)\n",
    "\n",
    "# n으로 하면 0 ~ n-1 까지 인덱스 행렬 생성. n이용해서 인덱스 번호를 맞춰는 게 좋은 풀이"
   ]
  },
  {
   "cell_type": "markdown",
   "id": "9b250c29-51ea-40f8-81e9-ecd07c902505",
   "metadata": {},
   "source": [
    "## BFS 풀이연습"
   ]
  },
  {
   "cell_type": "code",
   "execution_count": 37,
   "id": "79db9c45-3847-48ec-81bb-7daa5f7ae86e",
   "metadata": {},
   "outputs": [
    {
     "name": "stdin",
     "output_type": "stream",
     "text": [
      " 4 5 1\n",
      " 1 2\n",
      " 1 3\n",
      " 1 4\n",
      " 2 4\n",
      " 3 4\n"
     ]
    },
    {
     "name": "stdout",
     "output_type": "stream",
     "text": [
      "1 2 3 4 "
     ]
    }
   ],
   "source": [
    "from collections import deque\n",
    "\n",
    "# 탐색시간 O(N), deque -> O(1)\n",
    "# 빨대 구조 생각해보기\n",
    " \n",
    "def bfs(n):\n",
    "    visited[n] = True\n",
    "    queue = deque([n])\n",
    "    while queue: # queue = True : 리스트 안의 요소를 모두 탐색?\n",
    "        v = queue.popleft()\n",
    "        print(v, end = ' ')\n",
    "        for i in graph[v]:\n",
    "            if not visited[i]:\n",
    "                queue.append(i)\n",
    "                visited[i] = True\n",
    "        \n",
    "graph = [[] for i in range(n+1)]    # m이 아니라 n+1인 이유?        \n",
    "visited = [False]*m    # m이 맞는지 n+1 이 맞는지?\n",
    "\n",
    "n, m, v = map(int, input().split())\n",
    "\n",
    "for i in range(m):\n",
    "    s, e = map(int, input().split())\n",
    "    graph[s].append(e)\n",
    "    graph[e].append(a)\n",
    "    \n",
    "bfs(1)"
   ]
  },
  {
   "cell_type": "markdown",
   "id": "1ed882a5-9dc4-4dc0-8788-32914d152276",
   "metadata": {},
   "source": [
    "## 문제의 이미지 경로 확인"
   ]
  },
  {
   "cell_type": "code",
   "execution_count": 41,
   "id": "ca0a6881-f783-4585-ac1f-435643c8cb3d",
   "metadata": {},
   "outputs": [
    {
     "name": "stdin",
     "output_type": "stream",
     "text": [
      " 7 10 1\n",
      " 1 2\n",
      " 2 5\n",
      " 5 7\n",
      " 2 4\n",
      " 4 3\n",
      " 4 5\n",
      " 1 3\n",
      " 3 6\n",
      " 6 7\n",
      " 4 7\n"
     ]
    },
    {
     "name": "stdout",
     "output_type": "stream",
     "text": [
      "1 2 3 6 7 5 4 "
     ]
    }
   ],
   "source": [
    "def dfs(n):\n",
    "    visited[n] = True\n",
    "    print(n, end = ' ')\n",
    "    for i in graph[n]:\n",
    "        if not visited[i]:\n",
    "            dfs(i)\n",
    "\n",
    "# range 범위 확인 필요\n",
    "graph = [[] for i in range(n+1)]    # m이 아니라 n+1인 이유?        \n",
    "visited = [False]*m    # m이 맞는지 n+1 이 맞는지?\n",
    "\n",
    "n, m, v = map(int, input().split())\n",
    "\n",
    "for i in range(m):\n",
    "    s, e = map(int, input().split())\n",
    "    graph[s].append(e)\n",
    "    graph[e].append(a)\n",
    "    \n",
    "# for i in range(1, n+1):    # 이해 필요\n",
    "#     graph[i].sort()\n",
    "\n",
    "dfs(1)\n",
    "\n",
    "# sort 여부 확인 필요\n",
    "# 그 블로거는 1 2 4 5 7 3 6 이라 하긴 하는데.."
   ]
  },
  {
   "cell_type": "code",
   "execution_count": 42,
   "id": "b730f9b3-c587-491d-8482-321e1930eccc",
   "metadata": {},
   "outputs": [
    {
     "ename": "NameError",
     "evalue": "name 'img' is not defined",
     "output_type": "error",
     "traceback": [
      "\u001b[1;31m---------------------------------------------------------------------------\u001b[0m",
      "\u001b[1;31mNameError\u001b[0m                                 Traceback (most recent call last)",
      "\u001b[1;32m~\\AppData\\Local\\Temp/ipykernel_23648/3997765025.py\u001b[0m in \u001b[0;36m<module>\u001b[1;34m\u001b[0m\n\u001b[1;32m----> 1\u001b[1;33m \u001b[0mimg\u001b[0m\u001b[1;33m(\u001b[0m\u001b[0ma\u001b[0m\u001b[1;33m)\u001b[0m\u001b[1;33m\u001b[0m\u001b[1;33m\u001b[0m\u001b[0m\n\u001b[0m",
      "\u001b[1;31mNameError\u001b[0m: name 'img' is not defined"
     ]
    }
   ],
   "source": []
  },
  {
   "cell_type": "markdown",
   "id": "9bf3c8c4-b91c-4956-babb-d20f55cd0d93",
   "metadata": {},
   "source": [
    "---"
   ]
  },
  {
   "cell_type": "markdown",
   "id": "7bcb6f08-c195-4c7c-9a9a-677d8b6f95da",
   "metadata": {},
   "source": [
    "### 스크랩 코드"
   ]
  },
  {
   "cell_type": "code",
   "execution_count": 5,
   "id": "4af15d35-1afc-4a84-97cd-32af34ecff11",
   "metadata": {},
   "outputs": [
    {
     "name": "stdin",
     "output_type": "stream",
     "text": [
      " 4 5 1\n",
      " 1 2\n",
      " 1 3\n",
      " 1 4\n",
      " 2 4\n",
      " 3 4\n"
     ]
    },
    {
     "name": "stdout",
     "output_type": "stream",
     "text": [
      "1 2 4 3 \n",
      "1 2 3 4 "
     ]
    }
   ],
   "source": [
    "# Depth First Search\n",
    "def dfs(n):\n",
    "    print(n, end=' ')\n",
    "    visited[n] = True\n",
    "    for i in graph[n]:\n",
    "        if not visited[i]:\n",
    "            dfs(i)\n",
    "\n",
    "# Breadth First Search\n",
    "def bfs(n):\n",
    "    visited[n] = True\n",
    "    queue = deque([n])\n",
    "    while queue:\n",
    "        v = queue.popleft()\n",
    "        print(v, end= ' ')\n",
    "        for i in graph[v]:\n",
    "            if not visited[i]:\n",
    "                queue.append(i)\n",
    "                visited[i] = True\n",
    "\n",
    "import sys\n",
    "from collections import deque\n",
    "\n",
    "# node, branch, first node\n",
    "n, m, v = map(int, sys.stdin.readline().split())\n",
    "graph = [[] for _ in range(n+1)]\n",
    "visited = [False] * (n + 1)\n",
    "\n",
    "# make adjacency list\n",
    "for _ in range(m):\n",
    "    a, b = map(int, sys.stdin.readline().split())\n",
    "    graph[a].append(b)\n",
    "    graph[b].append(a)\n",
    "# sort adjacency list\n",
    "for i in range(1, n+1):\n",
    "    graph[i].sort()\n",
    "\n",
    "dfs(v)\n",
    "# initialize check list\n",
    "visited = [False] * (n + 1)\n",
    "print()\n",
    "bfs(v)"
   ]
  }
 ],
 "metadata": {
  "kernelspec": {
   "display_name": "Python 3 (ipykernel)",
   "language": "python",
   "name": "python3"
  },
  "language_info": {
   "codemirror_mode": {
    "name": "ipython",
    "version": 3
   },
   "file_extension": ".py",
   "mimetype": "text/x-python",
   "name": "python",
   "nbconvert_exporter": "python",
   "pygments_lexer": "ipython3",
   "version": "3.8.12"
  }
 },
 "nbformat": 4,
 "nbformat_minor": 5
}
