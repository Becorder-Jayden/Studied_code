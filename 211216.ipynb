{
 "cells": [
  {
   "cell_type": "markdown",
   "id": "020d2f4b-8812-464c-813e-46bd832ffd16",
   "metadata": {},
   "source": [
    "# 2021.12.16"
   ]
  },
  {
   "cell_type": "code",
   "execution_count": 1,
   "id": "00f36acc-bde2-4370-9b3d-633cd014bb60",
   "metadata": {},
   "outputs": [],
   "source": [
    "# 코드업 그리디\n",
    "# 3120 리모컨"
   ]
  },
  {
   "cell_type": "code",
   "execution_count": 42,
   "id": "72cdfd9d-949e-49b9-896b-3bb19d20d7aa",
   "metadata": {},
   "outputs": [
    {
     "name": "stdin",
     "output_type": "stream",
     "text": [
      " 3 22\n"
     ]
    },
    {
     "name": "stdout",
     "output_type": "stream",
     "text": [
      "3\n",
      "time :  1.0806605815887451\n"
     ]
    }
   ],
   "source": [
    "# 코드 개선\n",
    "a, b = map(int, input().split())\n",
    "df = [10, 5, 1]\n",
    "\n",
    "diff = abs(b-a)\n",
    "cnt = 0\n",
    "\n",
    "    \n",
    "if diff%10 in [9, 8]: \n",
    "    diff_with_a = 10 - diff%10\n",
    "    diff_s = diff + diff_with_a\n",
    "    \n",
    "    for i in range(3):    \n",
    "        cnt += diff_s // df[i]\n",
    "        diff_s = diff_s % df[i]\n",
    "    \n",
    "    cnt += diff_with_a\n",
    "        \n",
    "        \n",
    "elif diff%10 == 4:\n",
    "    diff_with_a = 5 - diff%5\n",
    "    diff_s = diff + diff_with_a\n",
    "    \n",
    "    for i in range(3):\n",
    "        cnt += diff_s // df[i]\n",
    "        diff_s = diff_s % df[i]\n",
    "    \n",
    "    cnt += diff_with_a\n",
    "\n",
    "else:\n",
    "    for i in range(3):\n",
    "        cnt += diff // df[i]\n",
    "        diff = diff % df[i]\n",
    "        \n",
    "        \n",
    "print(cnt)"
   ]
  },
  {
   "cell_type": "code",
   "execution_count": 43,
   "id": "3574dc43-b5e2-4ba3-a1f0-4e248c3cc5b8",
   "metadata": {},
   "outputs": [
    {
     "name": "stdin",
     "output_type": "stream",
     "text": [
      " 3 22\n"
     ]
    },
    {
     "name": "stdout",
     "output_type": "stream",
     "text": [
      "3\n",
      "time :  0.9224228858947754\n"
     ]
    }
   ],
   "source": [
    "# 영민 풀이\n",
    "# CodeUp 3120 리모컨\n",
    "a,b = map(int, input().split())\n",
    "B = abs(a-b)                      # 두 온도차의 절대값\n",
    "R = 0                             # 반복 횟수\n",
    "\n",
    "while B != 0:\n",
    "    if B >= 10:\n",
    "        B = B - 10\n",
    "        R += 1\n",
    "    else:\n",
    "        if B > 7:\n",
    "            B += 1\n",
    "            R += 1\n",
    "        elif B > 4:\n",
    "            B = B - 5\n",
    "            R += 1\n",
    "        elif B > 2:\n",
    "            B += 1\n",
    "            R += 1\n",
    "        else:\n",
    "            B = B -1\n",
    "            R += 1\n",
    "            \n",
    "print(R)\n",
    "\n",
    "end_time = time.time() # 측정 종료\n",
    "print(\"time : \", end_time - start_time) # 수행 시간 출력"
   ]
  },
  {
   "cell_type": "code",
   "execution_count": 44,
   "id": "cebc962b-abd1-4344-b563-9c37331b67cf",
   "metadata": {},
   "outputs": [
    {
     "name": "stdin",
     "output_type": "stream",
     "text": [
      " 3 22\n"
     ]
    },
    {
     "name": "stdout",
     "output_type": "stream",
     "text": [
      "3\n",
      "time :  1.3150413036346436\n"
     ]
    }
   ],
   "source": [
    "# 구글링 풀이\n",
    "# CodeUp 3120 리모컨\n",
    "a,b = map(int, input().split())\n",
    "B = abs(a-b)                      # 두 온도차의 절대값\n",
    "R = B//10                         # 반복 횟수\n",
    "\n",
    "\n",
    "if B%10 in [1,5]:\n",
    "    R += 1\n",
    "elif B%10 in [2,4,6,9]:\n",
    "    R += 2\n",
    "elif B%10 in [3,7,8]:\n",
    "    R += 3\n",
    "            \n",
    "print(R)\n",
    "\n",
    "end_time = time.time() # 측정 종료\n",
    "print(\"time : \", end_time - start_time) # 수행 시간 출력"
   ]
  },
  {
   "cell_type": "markdown",
   "id": "23a1d2fc-58e0-4847-8117-3473bc204b49",
   "metadata": {},
   "source": [
    "---"
   ]
  },
  {
   "cell_type": "code",
   "execution_count": 1,
   "id": "1397fcec-a202-4244-be9b-64a1ec07467e",
   "metadata": {},
   "outputs": [],
   "source": [
    "# 코드업 그리디\n",
    "# 3301 거스름돈"
   ]
  },
  {
   "cell_type": "code",
   "execution_count": 5,
   "id": "7697b2f0-0abc-45f9-9ce0-c2b56351d029",
   "metadata": {},
   "outputs": [
    {
     "name": "stdin",
     "output_type": "stream",
     "text": [
      " 54520\n"
     ]
    },
    {
     "name": "stdout",
     "output_type": "stream",
     "text": [
      "8\n"
     ]
    }
   ],
   "source": [
    "n = int(input())\n",
    "money = [10, 50, 100, 500, 1000, 5000, 10000, 50000]\n",
    "cnt = 0\n",
    "\n",
    "money = sorted(money, reverse=True)\n",
    "\n",
    "for i in money:\n",
    "    cnt += n//i\n",
    "    n = n%i\n",
    "    \n",
    "print(cnt)"
   ]
  },
  {
   "cell_type": "markdown",
   "id": "205b6029-1e3e-4c39-aedb-2a9eaf68ed38",
   "metadata": {},
   "source": [
    "---"
   ]
  },
  {
   "cell_type": "code",
   "execution_count": 8,
   "id": "f0bce598-8f05-4bcb-af64-c2d35f797259",
   "metadata": {},
   "outputs": [],
   "source": [
    "# 코드업 구조체 연습\n",
    "# 4012 석차 계산"
   ]
  },
  {
   "cell_type": "code",
   "execution_count": 118,
   "id": "8df0f35f-3e40-4023-bf98-e4fc01976805",
   "metadata": {},
   "outputs": [
    {
     "name": "stdin",
     "output_type": "stream",
     "text": [
      " 10\n",
      " 60 34 55 100 90 76 60 90 80 87\n"
     ]
    },
    {
     "name": "stdout",
     "output_type": "stream",
     "text": [
      "60 7\n",
      "34 10\n",
      "55 9\n",
      "100 1\n",
      "90 2\n",
      "76 6\n",
      "60 7\n",
      "90 2\n",
      "80 5\n",
      "87 4\n"
     ]
    }
   ],
   "source": [
    "n = int(input())\n",
    "scores = list(map(int, input().split()))\n",
    "result = []\n",
    "\n",
    "\n",
    "for i in range(n):\n",
    "    rank = 1\n",
    "    for j in range(n):\n",
    "        if scores[i] < scores[j]:\n",
    "            rank += 1\n",
    "    result.append(rank)\n",
    "\n",
    "for i in range(n):\n",
    "    print(scores[i], result[i])"
   ]
  },
  {
   "cell_type": "markdown",
   "id": "a6381042-c9b9-43af-85ad-209caa1dac26",
   "metadata": {},
   "source": [
    "---"
   ]
  },
  {
   "cell_type": "code",
   "execution_count": 119,
   "id": "0276e07d-c011-47db-8ce4-c0c54905639a",
   "metadata": {},
   "outputs": [],
   "source": [
    "# 코드업 구조체 연습\n",
    "# 4751 아시아 정보올림피아드"
   ]
  },
  {
   "cell_type": "code",
   "execution_count": 123,
   "id": "3039f8b2-1698-4434-b401-3ec0743a6b12",
   "metadata": {},
   "outputs": [
    {
     "name": "stdin",
     "output_type": "stream",
     "text": [
      " 9\n",
      " 1 1 230\n",
      " 1 2 210\n",
      " 1 3 205\n",
      " 2 1 100\n",
      " 2 2 150\n",
      " 3 1 175\n",
      " 3 2 190\n",
      " 3 3 180\n",
      " 3 4 195\n"
     ]
    },
    {
     "name": "stdout",
     "output_type": "stream",
     "text": [
      "[[1, 1, 230], [1, 2, 210], [1, 3, 205], [3, 4, 195], [3, 2, 190], [3, 3, 180], [3, 1, 175], [2, 2, 150], [2, 1, 100]]\n"
     ]
    }
   ],
   "source": [
    "n = int(input())\n",
    "df = []\n",
    "for i in range(n):\n",
    "    df.append(list(map(int,input().split())))\n",
    "\n",
    "df = sorted(df, key = lambda a : a[2], reverse=True)\n",
    "print(df)"
   ]
  }
 ],
 "metadata": {
  "kernelspec": {
   "display_name": "Python 3 (ipykernel)",
   "language": "python",
   "name": "python3"
  },
  "language_info": {
   "codemirror_mode": {
    "name": "ipython",
    "version": 3
   },
   "file_extension": ".py",
   "mimetype": "text/x-python",
   "name": "python",
   "nbconvert_exporter": "python",
   "pygments_lexer": "ipython3",
   "version": "3.8.12"
  }
 },
 "nbformat": 4,
 "nbformat_minor": 5
}
