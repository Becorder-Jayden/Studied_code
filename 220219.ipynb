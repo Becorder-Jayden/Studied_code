{
 "cells": [
  {
   "cell_type": "code",
   "execution_count": 187,
   "id": "a45fc2f0-51af-467a-ad39-f71476b6bd7f",
   "metadata": {},
   "outputs": [],
   "source": [
    "# 2022.02.19"
   ]
  },
  {
   "cell_type": "code",
   "execution_count": 9,
   "id": "fdb4f0fd-9aae-42cf-9bc6-e6ba753a88cc",
   "metadata": {},
   "outputs": [
    {
     "name": "stdin",
     "output_type": "stream",
     "text": [
      " 15\n",
      " push 1\n",
      " push 2\n",
      " front\n"
     ]
    },
    {
     "name": "stdout",
     "output_type": "stream",
     "text": [
      "1\n"
     ]
    },
    {
     "name": "stdin",
     "output_type": "stream",
     "text": [
      " back\n"
     ]
    },
    {
     "name": "stdout",
     "output_type": "stream",
     "text": [
      "2\n"
     ]
    },
    {
     "name": "stdin",
     "output_type": "stream",
     "text": [
      " size\n"
     ]
    },
    {
     "name": "stdout",
     "output_type": "stream",
     "text": [
      "2\n"
     ]
    },
    {
     "name": "stdin",
     "output_type": "stream",
     "text": [
      " empty\n"
     ]
    },
    {
     "name": "stdout",
     "output_type": "stream",
     "text": [
      "0\n"
     ]
    },
    {
     "name": "stdin",
     "output_type": "stream",
     "text": [
      " pop\n"
     ]
    },
    {
     "name": "stdout",
     "output_type": "stream",
     "text": [
      "1\n"
     ]
    },
    {
     "name": "stdin",
     "output_type": "stream",
     "text": [
      " pop\n"
     ]
    },
    {
     "name": "stdout",
     "output_type": "stream",
     "text": [
      "2\n"
     ]
    },
    {
     "name": "stdin",
     "output_type": "stream",
     "text": [
      " pop\n"
     ]
    },
    {
     "name": "stdout",
     "output_type": "stream",
     "text": [
      "-1\n"
     ]
    },
    {
     "name": "stdin",
     "output_type": "stream",
     "text": [
      " size\n"
     ]
    },
    {
     "name": "stdout",
     "output_type": "stream",
     "text": [
      "0\n"
     ]
    },
    {
     "name": "stdin",
     "output_type": "stream",
     "text": [
      " empty\n"
     ]
    },
    {
     "name": "stdout",
     "output_type": "stream",
     "text": [
      "0\n"
     ]
    },
    {
     "name": "stdin",
     "output_type": "stream",
     "text": [
      " po\n",
      " push 3\n",
      " emtpy\n",
      " front\n"
     ]
    },
    {
     "name": "stdout",
     "output_type": "stream",
     "text": [
      "3\n"
     ]
    }
   ],
   "source": [
    "from collections import deque\n",
    "q = deque()\n",
    "N = int(input())\n",
    "\n",
    "for i in range(N):\n",
    "    order = input().split()\n",
    "\n",
    "    if order[0] == 'push':\n",
    "        q.append(order[1])\n",
    "    \n",
    "    elif order[0] == 'pop':\n",
    "        if len(q) == 0:\n",
    "            print(-1)\n",
    "        else:\n",
    "            pop = q.popleft()\n",
    "            print(pop)\n",
    "    \n",
    "    elif order[0] == 'size':\n",
    "        print(len(q))\n",
    "    \n",
    "    elif order[0] == 'empty':\n",
    "        if len(q) == 0:\n",
    "            print(1)\n",
    "        else:\n",
    "            print(0)\n",
    "    \n",
    "    elif order[0] == 'front':\n",
    "        if len(q) == 0:\n",
    "            print(-1)\n",
    "        else:\n",
    "            print(q[0])\n",
    "    \n",
    "    elif order[0] == 'back':\n",
    "        if len(q) == 0:\n",
    "            print(-1)\n",
    "        else:\n",
    "            print(q[-1])"
   ]
  },
  {
   "cell_type": "code",
   "execution_count": null,
   "id": "bc55a5cd-264a-4e46-9af6-f796913929fc",
   "metadata": {},
   "outputs": [],
   "source": [
    "import sys\n",
    "from collections import deque\n",
    "q = deque()\n",
    "N = int(input())\n",
    "\n",
    "for i in range(N):\n",
    "    order = input().split()\n",
    "\n",
    "    if order[0] == 'push':\n",
    "        q.append(order[1])\n",
    "    \n",
    "    elif order[0] == 'pop':\n",
    "        if len(q) == 0:\n",
    "            print(-1)\n",
    "        else:\n",
    "            print(q.popleft())\n",
    "    \n",
    "    elif order[0] == 'size':\n",
    "        print(len(q))\n",
    "    \n",
    "    elif order[0] == 'empty':\n",
    "        if len(q) == 0:\n",
    "            print(1)\n",
    "        else:\n",
    "            print(0)\n",
    "    \n",
    "    elif order[0] == 'front':\n",
    "        if len(q) == 0:\n",
    "            print(-1)\n",
    "        else:\n",
    "            print(q[0])\n",
    "    \n",
    "    elif order[0] == 'back':\n",
    "        if len(q) == 0:\n",
    "            print(-1)\n",
    "        else:\n",
    "            print(q[-1])"
   ]
  },
  {
   "cell_type": "code",
   "execution_count": 15,
   "id": "78010490-55aa-463c-bb68-45de36ed64c0",
   "metadata": {},
   "outputs": [
    {
     "data": {
      "text/plain": [
       "deque([])"
      ]
     },
     "execution_count": 15,
     "metadata": {},
     "output_type": "execute_result"
    }
   ],
   "source": [
    "from collections import deque\n",
    "\n",
    "q = deque()\n",
    "q"
   ]
  },
  {
   "cell_type": "markdown",
   "id": "df4c418f-d05a-4101-853d-f25fbe7a87e0",
   "metadata": {},
   "source": [
    "---"
   ]
  },
  {
   "cell_type": "code",
   "execution_count": 16,
   "id": "703944a7-a867-497b-9968-1559acc61d4e",
   "metadata": {},
   "outputs": [],
   "source": [
    "# Silver V\n",
    "# 1018 체스판 다시 칠하기"
   ]
  },
  {
   "cell_type": "code",
   "execution_count": 122,
   "id": "393db278-49a5-48be-9460-807c8455f067",
   "metadata": {},
   "outputs": [],
   "source": [
    "# case 1\n",
    "N, M = 8, 8\n",
    "arr = [['W','B','W','B','W','B','W','B'],\n",
    "['B','W','B','W','B','W','B','W'],\n",
    "['W','B','W','B','W','B','W','B'],\n",
    "['B','W','B','B','B','W','B','W'],\n",
    "['W','B','W','B','W','B','W','B'],\n",
    "['B','W','B','W','B','W','B','W'],\n",
    "['W','B','W','B','W','B','W','B'],\n",
    "['B','W','B','W','B','W','B','W']]"
   ]
  },
  {
   "cell_type": "code",
   "execution_count": 232,
   "id": "e50036a8-9eca-4b98-899a-20e1267a1919",
   "metadata": {},
   "outputs": [],
   "source": [
    "# case 2\n",
    "N,M = 10, 13\n",
    "arr =[['B','B','B','B','B','B','B','B','W','B','W','B','W'],\n",
    "['B','B','B','B','B','B','B','B','B','W','B','W','B'],\n",
    "['B','B','B','B','B','B','B','B','W','B','W','B','W'],\n",
    "['B','B','B','B','B','B','B','B','B','W','B','W','B'],\n",
    "['B','B','B','B','B','B','B','B','W','B','W','B','W'],\n",
    "['B','B','B','B','B','B','B','B','B','W','B','W','B'],\n",
    "['B','B','B','B','B','B','B','B','W','B','W','B','W'],\n",
    "['B','B','B','B','B','B','B','B','B','W','B','W','B'],\n",
    "['W','W','W','W','W','W','W','W','W','W','B','W','B'],\n",
    "['W','W','W','W','W','W','W','W','W','W','B','W','B']]"
   ]
  },
  {
   "cell_type": "code",
   "execution_count": 174,
   "id": "ba33b252-a950-4e81-a4b0-391683ade78f",
   "metadata": {},
   "outputs": [],
   "source": [
    "# case 3\n",
    "N, M = 8, 8\n",
    "arr = [['B','W','B','W','B','W','B','W'],\n",
    "['W','B','W','B','W','B','W','B'],\n",
    "['B','W','B','W','B','W','B','W'],\n",
    "['W','B','W','B','W','B','W','B'],\n",
    "['B','W','B','W','B','W','B','W'],\n",
    "['W','B','W','B','W','B','W','B'],\n",
    "['B','W','B','W','B','W','B','W'],\n",
    "['W','B','W','B','W','B','W','B']]"
   ]
  },
  {
   "cell_type": "code",
   "execution_count": 326,
   "id": "22a84870-5ef9-4557-b3d1-8478d778aa7c",
   "metadata": {},
   "outputs": [],
   "source": [
    "# case 4\n",
    "N, M = 9, 23\n",
    "arr = [['B','B','B','B','B','B','B','B','B','B','B','B','B','B','B','B','B','B','B','B','B','B','B'],\n",
    "['B','B','B','B','B','B','B','B','B','B','B','B','B','B','B','B','B','B','B','B','B','B','B'],\n",
    "['B','B','B','B','B','B','B','B','B','B','B','B','B','B','B','B','B','B','B','B','B','B','B'],\n",
    "['B','B','B','B','B','B','B','B','B','B','B','B','B','B','B','B','B','B','B','B','B','B','B'],\n",
    "['B','B','B','B','B','B','B','B','B','B','B','B','B','B','B','B','B','B','B','B','B','B','B'],\n",
    "['B','B','B','B','B','B','B','B','B','B','B','B','B','B','B','B','B','B','B','B','B','B','B'],\n",
    "['B','B','B','B','B','B','B','B','B','B','B','B','B','B','B','B','B','B','B','B','B','B','B'],\n",
    "['B','B','B','B','B','B','B','B','B','B','B','B','B','B','B','B','B','B','B','B','B','B','B'],\n",
    "['B','B','B','B','B','B','B','B','B','B','B','B','B','B','B','B','B','B','B','B','B','B','W']]"
   ]
  },
  {
   "cell_type": "code",
   "execution_count": null,
   "id": "1035bca1-c234-48aa-adc4-4ee08a0dad87",
   "metadata": {},
   "outputs": [],
   "source": [
    "# case 5\n",
    "N, M = 10, 10\n",
    "arr = [['B','B','B','B','B','B','B','B','B','B'],\n",
    "['B','B','W','B','W','B','W','B','W','B'],\n",
    "['B','W','B','W','B','W','B','W','B','B'],\n",
    "['B','B','W','B','W','B','W','B','W','B'],\n",
    "['B','W','B','W','B','W','B','W','B','B'],\n",
    "['B','B','W','B','W','B','W','B','W','B'],\n",
    "['B','W','B','W','B','W','B','W','B','B'],\n",
    "['B','B','W','B','W','B','W','B','W','B'],\n",
    "['B','W','B','W','B','W','B','W','B','B'],\n",
    "['B','B','B','B','B','B','B','B','B','B']]"
   ]
  },
  {
   "cell_type": "code",
   "execution_count": 6,
   "id": "b12609a7-0ca9-477a-b990-cbb5749200ee",
   "metadata": {},
   "outputs": [],
   "source": [
    "# case 6\n",
    "N, M = 8, 8\n",
    "arr = [['W','B','W','B','W','B','W','B'],\n",
    "['B','W','B','W','B','W','B','W'],\n",
    "['W','B','W','B','W','B','W','B'],\n",
    "['B','W','B','B','B','W','B','W'],\n",
    "['W','B','W','B','W','B','W','B'],\n",
    "['B','W','B','W','B','W','B','W'],\n",
    "['W','B','W','B','W','W','W','B'],\n",
    "['B','W','B','W','B','W','B','W']]"
   ]
  },
  {
   "cell_type": "code",
   "execution_count": 11,
   "id": "7fc70e5c-211c-44fa-974c-a952fb4f168c",
   "metadata": {},
   "outputs": [],
   "source": [
    "# case 7\n",
    "N, M = 11, 12\n",
    "arr=[['B','W','W','B','W','W','B','W','W','B','W','W'],\n",
    "['B','W','W','B','W','B','B','W','W','B','W','W'],\n",
    "['W','B','W','W','B','W','B','B','W','W','B','W'],\n",
    "['B','W','W','B','W','B','B','W','W','B','W','W'],\n",
    "['W','B','W','W','B','W','B','B','W','W','B','W'],\n",
    "['B','W','W','B','W','B','B','W','W','B','W','W'],\n",
    "['W','B','W','W','B','W','B','B','W','W','B','W'],\n",
    "['B','W','W','B','W','B','W','W','W','B','W','W'],\n",
    "['W','B','W','W','B','W','B','B','W','W','B','W'],\n",
    "['B','W','W','B','W','B','B','W','W','B','W','W'],\n",
    "['W','B','W','W','B','W','B','B','W','W','B','W']]"
   ]
  },
  {
   "cell_type": "code",
   "execution_count": 21,
   "id": "1b37e877-6ae7-4fd1-9316-d0cb74d3f8cf",
   "metadata": {},
   "outputs": [],
   "source": [
    "# case 8\n",
    "N, M = 3, 1\n",
    "arr = [['B'],['B'],['B']]"
   ]
  },
  {
   "cell_type": "code",
   "execution_count": 22,
   "id": "2a958e21-e46e-44f9-a49f-63645db6d672",
   "metadata": {},
   "outputs": [
    {
     "name": "stdout",
     "output_type": "stream",
     "text": [
      "2 1\n"
     ]
    }
   ],
   "source": [
    "# N, M = map(int, input().split())\n",
    "# arr = []\n",
    "\n",
    "c_w = [[0 for i in range(M)] for i in range(N)]\n",
    "c_b = [[0 for i in range(M)] for i in range(N)]\n",
    "cnt_w = 0\n",
    "cnt_b = 0\n",
    "\n",
    "for i in range(N):\n",
    "    for j in range(M):\n",
    "        if i%2==0: \n",
    "            if j%2==0:\n",
    "                c_w[i][j] = 'W'\n",
    "                c_b[i][j] = 'B'\n",
    "            else:\n",
    "                c_w[i][j] = 'B'\n",
    "                c_b[i][j] = 'W'\n",
    "        else:\n",
    "            if j%2==0:\n",
    "                c_w[i][j] = 'B'\n",
    "                c_b[i][j] = 'W'\n",
    "            else:\n",
    "                c_w[i][j] = 'W'\n",
    "                c_b[i][j] = 'B'\n",
    "\n",
    "# for i in range(M):\n",
    "#     arr.append(list(input()))\n",
    "    \n",
    "for i in range(N):\n",
    "    for j in range(M):\n",
    "        if arr[i][j] != c_w[i][j]:\n",
    "            cnt_w += 1\n",
    "        if arr[i][j] != c_b[i][j]:\n",
    "            cnt_b += 1     \n",
    "\n",
    "print(cnt_w, cnt_b)    "
   ]
  },
  {
   "cell_type": "code",
   "execution_count": 23,
   "id": "3621d854-8b08-4367-bba1-8ad54bd971cb",
   "metadata": {},
   "outputs": [
    {
     "data": {
      "text/plain": [
       "[['B'], ['B'], ['B']]"
      ]
     },
     "execution_count": 23,
     "metadata": {},
     "output_type": "execute_result"
    }
   ],
   "source": [
    "arr"
   ]
  },
  {
   "cell_type": "code",
   "execution_count": 24,
   "id": "b46dfae0-50ba-4995-8ce7-8b8d85ae019a",
   "metadata": {},
   "outputs": [
    {
     "data": {
      "text/plain": [
       "[['W'], ['B'], ['W']]"
      ]
     },
     "execution_count": 24,
     "metadata": {},
     "output_type": "execute_result"
    }
   ],
   "source": [
    "c_w"
   ]
  },
  {
   "cell_type": "code",
   "execution_count": 25,
   "id": "f9a20d90-dfcc-4fb3-8d72-12d93e78fc5a",
   "metadata": {},
   "outputs": [
    {
     "data": {
      "text/plain": [
       "[['B'], ['W'], ['B']]"
      ]
     },
     "execution_count": 25,
     "metadata": {},
     "output_type": "execute_result"
    }
   ],
   "source": [
    "c_b"
   ]
  },
  {
   "cell_type": "code",
   "execution_count": 304,
   "id": "e7f2e3a4-e8e5-4fa2-9226-a2724bb19b27",
   "metadata": {},
   "outputs": [
    {
     "name": "stdout",
     "output_type": "stream",
     "text": [
      "55\n"
     ]
    }
   ],
   "source": [
    "cnt = 0\n",
    "for i in range(N):\n",
    "    for j in range(M):\n",
    "        if arr[i][j] != c_b[i][j]:\n",
    "            cnt += 1\n",
    "print(cnt)"
   ]
  },
  {
   "cell_type": "code",
   "execution_count": 261,
   "id": "206a3c0f-5fe9-4b01-9389-24d12b6f1541",
   "metadata": {},
   "outputs": [
    {
     "data": {
      "text/plain": [
       "[['B', 'W', 'W', 'B', 'W', 'W', 'B', 'W', 'W', 'B', 'W', 'W'],\n",
       " ['B', 'W', 'W', 'B', 'W', 'B', 'B', 'W', 'W', 'B', 'W', 'W'],\n",
       " ['W', 'B', 'W', 'W', 'B', 'W', 'B', 'B', 'W', 'W', 'B', 'W'],\n",
       " ['B', 'W', 'W', 'B', 'W', 'B', 'B', 'W', 'W', 'B', 'W', 'W'],\n",
       " ['W', 'B', 'W', 'W', 'B', 'W', 'B', 'B', 'W', 'W', 'B', 'W'],\n",
       " ['B', 'W', 'W', 'B', 'W', 'B', 'B', 'W', 'W', 'B', 'W', 'W'],\n",
       " ['W', 'B', 'W', 'W', 'B', 'W', 'B', 'B', 'W', 'W', 'B', 'W'],\n",
       " ['B', 'W', 'W', 'B', 'W', 'B', 'W', 'W', 'W', 'B', 'W', 'W'],\n",
       " ['W', 'B', 'W', 'W', 'B', 'W', 'B', 'B', 'W', 'W', 'B', 'W'],\n",
       " ['B', 'W', 'W', 'B', 'W', 'B', 'B', 'W', 'W', 'B', 'W', 'W'],\n",
       " ['W', 'B', 'W', 'W', 'B', 'W', 'B', 'B', 'W', 'W', 'B', 'W']]"
      ]
     },
     "execution_count": 261,
     "metadata": {},
     "output_type": "execute_result"
    }
   ],
   "source": [
    "arr"
   ]
  },
  {
   "cell_type": "code",
   "execution_count": 263,
   "id": "5f984274-8d1b-4424-9d37-38d4ec67a465",
   "metadata": {},
   "outputs": [
    {
     "data": {
      "text/plain": [
       "[['W', 'B', 'W', 'B', 'W', 'B', 'W', 'B', 'W', 'B', 'W', 'B'],\n",
       " ['B', 'W', 'B', 'W', 'B', 'W', 'B', 'W', 'B', 'W', 'B', 'W'],\n",
       " ['W', 'B', 'W', 'B', 'W', 'B', 'W', 'B', 'W', 'B', 'W', 'B'],\n",
       " ['B', 'W', 'B', 'W', 'B', 'W', 'B', 'W', 'B', 'W', 'B', 'W'],\n",
       " ['W', 'B', 'W', 'B', 'W', 'B', 'W', 'B', 'W', 'B', 'W', 'B'],\n",
       " ['B', 'W', 'B', 'W', 'B', 'W', 'B', 'W', 'B', 'W', 'B', 'W'],\n",
       " ['W', 'B', 'W', 'B', 'W', 'B', 'W', 'B', 'W', 'B', 'W', 'B'],\n",
       " ['B', 'W', 'B', 'W', 'B', 'W', 'B', 'W', 'B', 'W', 'B', 'W'],\n",
       " ['W', 'B', 'W', 'B', 'W', 'B', 'W', 'B', 'W', 'B', 'W', 'B'],\n",
       " ['B', 'W', 'B', 'W', 'B', 'W', 'B', 'W', 'B', 'W', 'B', 'W'],\n",
       " ['W', 'B', 'W', 'B', 'W', 'B', 'W', 'B', 'W', 'B', 'W', 'B']]"
      ]
     },
     "execution_count": 263,
     "metadata": {},
     "output_type": "execute_result"
    }
   ],
   "source": [
    "c_w"
   ]
  },
  {
   "cell_type": "code",
   "execution_count": 264,
   "id": "ed64e46d-a914-42f9-b6da-01e50733d001",
   "metadata": {},
   "outputs": [
    {
     "data": {
      "text/plain": [
       "77"
      ]
     },
     "execution_count": 264,
     "metadata": {},
     "output_type": "execute_result"
    }
   ],
   "source": [
    "cnt_w"
   ]
  },
  {
   "cell_type": "markdown",
   "id": "4ddc263f-c470-432d-b4e8-9c0732d9fc80",
   "metadata": {},
   "source": [
    "---"
   ]
  },
  {
   "cell_type": "code",
   "execution_count": 265,
   "id": "0e687f36-b7b8-4154-91a0-5f2b49504a77",
   "metadata": {},
   "outputs": [],
   "source": [
    "# Silver V\n",
    "# 1316 그룹 단어 체커"
   ]
  },
  {
   "cell_type": "code",
   "execution_count": 290,
   "id": "c1f70f29-cf15-47fb-af49-2f03ecb8475a",
   "metadata": {},
   "outputs": [
    {
     "name": "stdin",
     "output_type": "stream",
     "text": [
      " 3\n",
      " happy\n",
      " new\n",
      " year\n"
     ]
    },
    {
     "name": "stdout",
     "output_type": "stream",
     "text": [
      "3\n"
     ]
    }
   ],
   "source": [
    "N = int(input())\n",
    "cnt = N\n",
    "for i in range(N):\n",
    "    word = input()\n",
    "    for j in range(len(word)-1):\n",
    "        if word[j] == word[j+1]:\n",
    "            pass\n",
    "        elif word[j] in word[j+1:]:\n",
    "            cnt -= 1\n",
    "            break\n",
    "print(cnt)"
   ]
  },
  {
   "cell_type": "markdown",
   "id": "1d6de816-a805-4a93-a1c9-dc8108bb15e0",
   "metadata": {},
   "source": [
    "---"
   ]
  },
  {
   "cell_type": "code",
   "execution_count": 331,
   "id": "94288f8b-f7f8-43c9-9caf-25bef62261cc",
   "metadata": {},
   "outputs": [],
   "source": [
    "# Silver IV\n",
    "# 1978 소수 찾기"
   ]
  },
  {
   "cell_type": "code",
   "execution_count": 351,
   "id": "41dfe28b-e1ff-4e71-a6e9-6cc90a313a3d",
   "metadata": {},
   "outputs": [
    {
     "name": "stdin",
     "output_type": "stream",
     "text": [
      " 4\n",
      " 1 3 5 7\n"
     ]
    },
    {
     "name": "stdout",
     "output_type": "stream",
     "text": [
      "3\n"
     ]
    }
   ],
   "source": [
    "N = int(input())\n",
    "nums = list(map(int, input().split()))\n",
    "cnt = 0\n",
    "for i in nums:\n",
    "    check = True\n",
    "    \n",
    "    if i in [0, 1]:\n",
    "        check = False\n",
    "    for j in range(2, int(i**0.5)+1):\n",
    "        if i%j == 0:\n",
    "            check = False\n",
    "    \n",
    "    if check:\n",
    "        cnt += 1\n",
    "\n",
    "print(cnt)"
   ]
  },
  {
   "cell_type": "markdown",
   "id": "8a88376e-2025-4d8e-9cb4-b1dcd5f6a5af",
   "metadata": {},
   "source": [
    "---"
   ]
  },
  {
   "cell_type": "code",
   "execution_count": 353,
   "id": "9be3d104-1d54-428a-bec0-326f86222843",
   "metadata": {},
   "outputs": [],
   "source": [
    "# Silver V\n",
    "# 11653 소인수분해"
   ]
  },
  {
   "cell_type": "code",
   "execution_count": 359,
   "id": "2a369180-f767-4735-a1ba-189b5b6ab2f2",
   "metadata": {},
   "outputs": [
    {
     "name": "stdin",
     "output_type": "stream",
     "text": [
      " 3\n"
     ]
    },
    {
     "name": "stdout",
     "output_type": "stream",
     "text": [
      "[]\n"
     ]
    }
   ],
   "source": [
    "N = int(input())\n",
    "li = []\n",
    "for i in range(2, int(N**0.5)+1):\n",
    "    check = True\n",
    "    if N%i == 0:\n",
    "        check = False\n",
    "    if check==False:\n",
    "        li.append(i)\n",
    "print(li)"
   ]
  }
 ],
 "metadata": {
  "kernelspec": {
   "display_name": "Python 3 (ipykernel)",
   "language": "python",
   "name": "python3"
  },
  "language_info": {
   "codemirror_mode": {
    "name": "ipython",
    "version": 3
   },
   "file_extension": ".py",
   "mimetype": "text/x-python",
   "name": "python",
   "nbconvert_exporter": "python",
   "pygments_lexer": "ipython3",
   "version": "3.8.12"
  }
 },
 "nbformat": 4,
 "nbformat_minor": 5
}
